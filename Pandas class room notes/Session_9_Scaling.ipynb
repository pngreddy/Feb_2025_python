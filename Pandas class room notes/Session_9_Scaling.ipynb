{
 "cells": [
  {
   "cell_type": "markdown",
   "id": "0d696db6-92a0-438e-bf24-bb23c47ff09a",
   "metadata": {},
   "source": [
    "- we understood the basic dataframe\n",
    "\n",
    "- we perform the categorical data analysis\n",
    "\n",
    "    - frequency table\n",
    "\n",
    "    - relative frequency table\n",
    "\n",
    "    - bar chart\n",
    "\n",
    "    - piechart\n",
    "\n",
    "- we perform the numerical analysis\n",
    "\n",
    "  - statistical measures\n",
    "\n",
    "  - emerical rule \n",
    "\n",
    "  - histogram\n",
    "\n",
    "  - box plot\n",
    "\n",
    "\n",
    "- outlier analysis\n",
    "\n",
    "  - treat the outliers\n",
    "\n",
    "\n",
    "- scatter plots \n",
    "\n",
    "  - Heat map\n",
    "\n",
    "- Encode : convert cat to numerical\n",
    "\n",
    "  - map\n",
    "\n",
    "  - LabelEncoder\n",
    "\n",
    "  - OneHotEncoder\n",
    "\n",
    "  - np.where "
   ]
  },
  {
   "cell_type": "markdown",
   "id": "86cdb6c2-fe9e-43d7-a27d-d81800be0dae",
   "metadata": {},
   "source": [
    "**Standardization**\n",
    "\n",
    "- Standardization also called as Z-score\n",
    "\n",
    "- Z-score values ranges from -3 to 3\n",
    "\n",
    "\n",
    "<img class=\"XqHOTb IGEbUc\" alt=\"Z = \\frac{x - \\mu}{\\sigma}\" src=\"https://www.gstatic.com/education/formulas2/553212783/en/z_score.svg\" role=\"img\" data-csiid=\"BfqQZ8eCBbzG4-EPsrLnkQ8_14\" data-atf=\"0\">"
   ]
  },
  {
   "cell_type": "code",
   "execution_count": 1,
   "id": "4b3ecca7-8b6e-40bd-b051-4709bb79c09e",
   "metadata": {},
   "outputs": [
    {
     "data": {
      "text/plain": [
       "(Index(['no_of_employees', 'yr_of_estab', 'prevailing_wage'], dtype='object'),\n",
       " Index(['case_id', 'continent', 'education_of_employee', 'has_job_experience',\n",
       "        'requires_job_training', 'region_of_employment', 'unit_of_wage',\n",
       "        'full_time_position', 'case_status'],\n",
       "       dtype='object'))"
      ]
     },
     "execution_count": 1,
     "metadata": {},
     "output_type": "execute_result"
    }
   ],
   "source": [
    "# Read the data\n",
    "import numpy as np\n",
    "import pandas as pd\n",
    "import matplotlib.pyplot as plt\n",
    "import seaborn as sns\n",
    "\n",
    "file_path=r\"C:\\Users\\omkar\\OneDrive\\Documents\\Data science\\Naresh IT\\Naresh IT\\Datafiles\\\\Visadataset.csv\"\n",
    "visa_df=pd.read_csv(file_path)\n",
    "visa_df\n",
    "\n",
    "cat_cols=visa_df.select_dtypes(include='object').columns\n",
    "num_cols=visa_df.select_dtypes(exclude='object').columns\n",
    "num_cols,cat_cols"
   ]
  },
  {
   "cell_type": "code",
   "execution_count": null,
   "id": "c258e2f0-0327-40e8-a3f1-a0887436fb6f",
   "metadata": {},
   "outputs": [],
   "source": [
    "# step-1: take the prevailaing wage column\n",
    "# step-2: mean of wage\n",
    "# step-3: sd of wage\n",
    "# step-4: step1-step2\n",
    "# step-5: step4/step3"
   ]
  },
  {
   "cell_type": "code",
   "execution_count": 3,
   "id": "8a3fb33b-a93c-4693-ae60-2ffa33171738",
   "metadata": {},
   "outputs": [],
   "source": [
    "wage_data=visa_df['prevailing_wage']\n",
    "wage_mean=wage_data.mean()\n",
    "wage_sd=wage_data.std()\n",
    "NR=wage_data-wage_mean\n",
    "data1=NR/wage_sd\n",
    "visa_df['prevailing_wage_z']=data1"
   ]
  },
  {
   "cell_type": "code",
   "execution_count": 4,
   "id": "52d9521c-4e98-4f38-bf93-1ee3de42482c",
   "metadata": {},
   "outputs": [
    {
     "data": {
      "text/html": [
       "<div>\n",
       "<style scoped>\n",
       "    .dataframe tbody tr th:only-of-type {\n",
       "        vertical-align: middle;\n",
       "    }\n",
       "\n",
       "    .dataframe tbody tr th {\n",
       "        vertical-align: top;\n",
       "    }\n",
       "\n",
       "    .dataframe thead th {\n",
       "        text-align: right;\n",
       "    }\n",
       "</style>\n",
       "<table border=\"1\" class=\"dataframe\">\n",
       "  <thead>\n",
       "    <tr style=\"text-align: right;\">\n",
       "      <th></th>\n",
       "      <th>prevailing_wage</th>\n",
       "      <th>prevailing_wage_z</th>\n",
       "    </tr>\n",
       "  </thead>\n",
       "  <tbody>\n",
       "    <tr>\n",
       "      <th>0</th>\n",
       "      <td>592.2029</td>\n",
       "      <td>-1.398510</td>\n",
       "    </tr>\n",
       "    <tr>\n",
       "      <th>1</th>\n",
       "      <td>83425.6500</td>\n",
       "      <td>0.169832</td>\n",
       "    </tr>\n",
       "    <tr>\n",
       "      <th>2</th>\n",
       "      <td>122996.8600</td>\n",
       "      <td>0.919060</td>\n",
       "    </tr>\n",
       "    <tr>\n",
       "      <th>3</th>\n",
       "      <td>83434.0300</td>\n",
       "      <td>0.169991</td>\n",
       "    </tr>\n",
       "    <tr>\n",
       "      <th>4</th>\n",
       "      <td>149907.3900</td>\n",
       "      <td>1.428576</td>\n",
       "    </tr>\n",
       "    <tr>\n",
       "      <th>...</th>\n",
       "      <td>...</td>\n",
       "      <td>...</td>\n",
       "    </tr>\n",
       "    <tr>\n",
       "      <th>25475</th>\n",
       "      <td>77092.5700</td>\n",
       "      <td>0.049923</td>\n",
       "    </tr>\n",
       "    <tr>\n",
       "      <th>25476</th>\n",
       "      <td>279174.7900</td>\n",
       "      <td>3.876083</td>\n",
       "    </tr>\n",
       "    <tr>\n",
       "      <th>25477</th>\n",
       "      <td>146298.8500</td>\n",
       "      <td>1.360253</td>\n",
       "    </tr>\n",
       "    <tr>\n",
       "      <th>25478</th>\n",
       "      <td>86154.7700</td>\n",
       "      <td>0.221504</td>\n",
       "    </tr>\n",
       "    <tr>\n",
       "      <th>25479</th>\n",
       "      <td>70876.9100</td>\n",
       "      <td>-0.067762</td>\n",
       "    </tr>\n",
       "  </tbody>\n",
       "</table>\n",
       "<p>25480 rows × 2 columns</p>\n",
       "</div>"
      ],
      "text/plain": [
       "       prevailing_wage  prevailing_wage_z\n",
       "0             592.2029          -1.398510\n",
       "1           83425.6500           0.169832\n",
       "2          122996.8600           0.919060\n",
       "3           83434.0300           0.169991\n",
       "4          149907.3900           1.428576\n",
       "...                ...                ...\n",
       "25475       77092.5700           0.049923\n",
       "25476      279174.7900           3.876083\n",
       "25477      146298.8500           1.360253\n",
       "25478       86154.7700           0.221504\n",
       "25479       70876.9100          -0.067762\n",
       "\n",
       "[25480 rows x 2 columns]"
      ]
     },
     "execution_count": 4,
     "metadata": {},
     "output_type": "execute_result"
    }
   ],
   "source": [
    "visa_df[['prevailing_wage','prevailing_wage_z']]"
   ]
  },
  {
   "cell_type": "code",
   "execution_count": null,
   "id": "0996385c-86a2-4402-a003-214cff4eba24",
   "metadata": {},
   "outputs": [],
   "source": []
  },
  {
   "cell_type": "markdown",
   "id": "3022469a-a5e6-43a7-92c0-61a8ef936355",
   "metadata": {},
   "source": [
    "**StandardScalar**\n",
    "\n",
    "- sklearn\n",
    "\n",
    "  - preprocessing\n",
    "\n",
    "    - StanadrdScalar"
   ]
  },
  {
   "cell_type": "markdown",
   "id": "5c52b8c1-dae0-4a1e-b706-ef145de1db3d",
   "metadata": {},
   "source": [
    "**Note**\n",
    "\n",
    "- StanadardScalar takes input as DataFrame not series"
   ]
  },
  {
   "cell_type": "code",
   "execution_count": 8,
   "id": "d821a0c9-d70a-4ed8-89ca-11c9d4ca00ca",
   "metadata": {},
   "outputs": [
    {
     "data": {
      "text/plain": [
       "0           592.2029\n",
       "1         83425.6500\n",
       "2        122996.8600\n",
       "3         83434.0300\n",
       "4        149907.3900\n",
       "            ...     \n",
       "25475     77092.5700\n",
       "25476    279174.7900\n",
       "25477    146298.8500\n",
       "25478     86154.7700\n",
       "25479     70876.9100\n",
       "Name: prevailing_wage, Length: 25480, dtype: float64"
      ]
     },
     "execution_count": 8,
     "metadata": {},
     "output_type": "execute_result"
    }
   ],
   "source": [
    "visa_df['prevailing_wage']"
   ]
  },
  {
   "cell_type": "code",
   "execution_count": 6,
   "id": "44125295-ba98-4fa1-bc15-11d881292076",
   "metadata": {},
   "outputs": [
    {
     "data": {
      "text/plain": [
       "array([[-1.39853722],\n",
       "       [ 0.1698353 ],\n",
       "       [ 0.91907852],\n",
       "       ...,\n",
       "       [ 1.36027953],\n",
       "       [ 0.22150859],\n",
       "       [-0.06776315]])"
      ]
     },
     "execution_count": 6,
     "metadata": {},
     "output_type": "execute_result"
    }
   ],
   "source": [
    "from sklearn.preprocessing import StandardScaler\n",
    "sc=StandardScaler()\n",
    "sc.fit_transform(visa_df[['prevailing_wage']])"
   ]
  },
  {
   "cell_type": "code",
   "execution_count": 9,
   "id": "8a2c3107-2434-449f-95c9-a777f8931351",
   "metadata": {},
   "outputs": [
    {
     "ename": "ValueError",
     "evalue": "Expected 2D array, got 1D array instead:\narray=[   592.2029  83425.65   122996.86   ... 146298.85    86154.77\n  70876.91  ].\nReshape your data either using array.reshape(-1, 1) if your data has a single feature or array.reshape(1, -1) if it contains a single sample.",
     "output_type": "error",
     "traceback": [
      "\u001b[1;31m---------------------------------------------------------------------------\u001b[0m",
      "\u001b[1;31mValueError\u001b[0m                                Traceback (most recent call last)",
      "Cell \u001b[1;32mIn[9], line 3\u001b[0m\n\u001b[0;32m      1\u001b[0m \u001b[38;5;28;01mfrom\u001b[39;00m \u001b[38;5;21;01msklearn\u001b[39;00m\u001b[38;5;21;01m.\u001b[39;00m\u001b[38;5;21;01mpreprocessing\u001b[39;00m \u001b[38;5;28;01mimport\u001b[39;00m StandardScaler\n\u001b[0;32m      2\u001b[0m sc\u001b[38;5;241m=\u001b[39mStandardScaler()\n\u001b[1;32m----> 3\u001b[0m sc\u001b[38;5;241m.\u001b[39mfit_transform(visa_df[\u001b[38;5;124m'\u001b[39m\u001b[38;5;124mprevailing_wage\u001b[39m\u001b[38;5;124m'\u001b[39m])\n",
      "File \u001b[1;32m~\\anaconda3\\Lib\\site-packages\\sklearn\\utils\\_set_output.py:140\u001b[0m, in \u001b[0;36m_wrap_method_output.<locals>.wrapped\u001b[1;34m(self, X, *args, **kwargs)\u001b[0m\n\u001b[0;32m    138\u001b[0m \u001b[38;5;129m@wraps\u001b[39m(f)\n\u001b[0;32m    139\u001b[0m \u001b[38;5;28;01mdef\u001b[39;00m \u001b[38;5;21mwrapped\u001b[39m(\u001b[38;5;28mself\u001b[39m, X, \u001b[38;5;241m*\u001b[39margs, \u001b[38;5;241m*\u001b[39m\u001b[38;5;241m*\u001b[39mkwargs):\n\u001b[1;32m--> 140\u001b[0m     data_to_wrap \u001b[38;5;241m=\u001b[39m f(\u001b[38;5;28mself\u001b[39m, X, \u001b[38;5;241m*\u001b[39margs, \u001b[38;5;241m*\u001b[39m\u001b[38;5;241m*\u001b[39mkwargs)\n\u001b[0;32m    141\u001b[0m     \u001b[38;5;28;01mif\u001b[39;00m \u001b[38;5;28misinstance\u001b[39m(data_to_wrap, \u001b[38;5;28mtuple\u001b[39m):\n\u001b[0;32m    142\u001b[0m         \u001b[38;5;66;03m# only wrap the first output for cross decomposition\u001b[39;00m\n\u001b[0;32m    143\u001b[0m         \u001b[38;5;28;01mreturn\u001b[39;00m (\n\u001b[0;32m    144\u001b[0m             _wrap_data_with_container(method, data_to_wrap[\u001b[38;5;241m0\u001b[39m], X, \u001b[38;5;28mself\u001b[39m),\n\u001b[0;32m    145\u001b[0m             \u001b[38;5;241m*\u001b[39mdata_to_wrap[\u001b[38;5;241m1\u001b[39m:],\n\u001b[0;32m    146\u001b[0m         )\n",
      "File \u001b[1;32m~\\anaconda3\\Lib\\site-packages\\sklearn\\base.py:878\u001b[0m, in \u001b[0;36mTransformerMixin.fit_transform\u001b[1;34m(self, X, y, **fit_params)\u001b[0m\n\u001b[0;32m    874\u001b[0m \u001b[38;5;66;03m# non-optimized default implementation; override when a better\u001b[39;00m\n\u001b[0;32m    875\u001b[0m \u001b[38;5;66;03m# method is possible for a given clustering algorithm\u001b[39;00m\n\u001b[0;32m    876\u001b[0m \u001b[38;5;28;01mif\u001b[39;00m y \u001b[38;5;129;01mis\u001b[39;00m \u001b[38;5;28;01mNone\u001b[39;00m:\n\u001b[0;32m    877\u001b[0m     \u001b[38;5;66;03m# fit method of arity 1 (unsupervised transformation)\u001b[39;00m\n\u001b[1;32m--> 878\u001b[0m     \u001b[38;5;28;01mreturn\u001b[39;00m \u001b[38;5;28mself\u001b[39m\u001b[38;5;241m.\u001b[39mfit(X, \u001b[38;5;241m*\u001b[39m\u001b[38;5;241m*\u001b[39mfit_params)\u001b[38;5;241m.\u001b[39mtransform(X)\n\u001b[0;32m    879\u001b[0m \u001b[38;5;28;01melse\u001b[39;00m:\n\u001b[0;32m    880\u001b[0m     \u001b[38;5;66;03m# fit method of arity 2 (supervised transformation)\u001b[39;00m\n\u001b[0;32m    881\u001b[0m     \u001b[38;5;28;01mreturn\u001b[39;00m \u001b[38;5;28mself\u001b[39m\u001b[38;5;241m.\u001b[39mfit(X, y, \u001b[38;5;241m*\u001b[39m\u001b[38;5;241m*\u001b[39mfit_params)\u001b[38;5;241m.\u001b[39mtransform(X)\n",
      "File \u001b[1;32m~\\anaconda3\\Lib\\site-packages\\sklearn\\preprocessing\\_data.py:824\u001b[0m, in \u001b[0;36mStandardScaler.fit\u001b[1;34m(self, X, y, sample_weight)\u001b[0m\n\u001b[0;32m    822\u001b[0m \u001b[38;5;66;03m# Reset internal state before fitting\u001b[39;00m\n\u001b[0;32m    823\u001b[0m \u001b[38;5;28mself\u001b[39m\u001b[38;5;241m.\u001b[39m_reset()\n\u001b[1;32m--> 824\u001b[0m \u001b[38;5;28;01mreturn\u001b[39;00m \u001b[38;5;28mself\u001b[39m\u001b[38;5;241m.\u001b[39mpartial_fit(X, y, sample_weight)\n",
      "File \u001b[1;32m~\\anaconda3\\Lib\\site-packages\\sklearn\\preprocessing\\_data.py:861\u001b[0m, in \u001b[0;36mStandardScaler.partial_fit\u001b[1;34m(self, X, y, sample_weight)\u001b[0m\n\u001b[0;32m    858\u001b[0m \u001b[38;5;28mself\u001b[39m\u001b[38;5;241m.\u001b[39m_validate_params()\n\u001b[0;32m    860\u001b[0m first_call \u001b[38;5;241m=\u001b[39m \u001b[38;5;129;01mnot\u001b[39;00m \u001b[38;5;28mhasattr\u001b[39m(\u001b[38;5;28mself\u001b[39m, \u001b[38;5;124m\"\u001b[39m\u001b[38;5;124mn_samples_seen_\u001b[39m\u001b[38;5;124m\"\u001b[39m)\n\u001b[1;32m--> 861\u001b[0m X \u001b[38;5;241m=\u001b[39m \u001b[38;5;28mself\u001b[39m\u001b[38;5;241m.\u001b[39m_validate_data(\n\u001b[0;32m    862\u001b[0m     X,\n\u001b[0;32m    863\u001b[0m     accept_sparse\u001b[38;5;241m=\u001b[39m(\u001b[38;5;124m\"\u001b[39m\u001b[38;5;124mcsr\u001b[39m\u001b[38;5;124m\"\u001b[39m, \u001b[38;5;124m\"\u001b[39m\u001b[38;5;124mcsc\u001b[39m\u001b[38;5;124m\"\u001b[39m),\n\u001b[0;32m    864\u001b[0m     dtype\u001b[38;5;241m=\u001b[39mFLOAT_DTYPES,\n\u001b[0;32m    865\u001b[0m     force_all_finite\u001b[38;5;241m=\u001b[39m\u001b[38;5;124m\"\u001b[39m\u001b[38;5;124mallow-nan\u001b[39m\u001b[38;5;124m\"\u001b[39m,\n\u001b[0;32m    866\u001b[0m     reset\u001b[38;5;241m=\u001b[39mfirst_call,\n\u001b[0;32m    867\u001b[0m )\n\u001b[0;32m    868\u001b[0m n_features \u001b[38;5;241m=\u001b[39m X\u001b[38;5;241m.\u001b[39mshape[\u001b[38;5;241m1\u001b[39m]\n\u001b[0;32m    870\u001b[0m \u001b[38;5;28;01mif\u001b[39;00m sample_weight \u001b[38;5;129;01mis\u001b[39;00m \u001b[38;5;129;01mnot\u001b[39;00m \u001b[38;5;28;01mNone\u001b[39;00m:\n",
      "File \u001b[1;32m~\\anaconda3\\Lib\\site-packages\\sklearn\\base.py:565\u001b[0m, in \u001b[0;36mBaseEstimator._validate_data\u001b[1;34m(self, X, y, reset, validate_separately, **check_params)\u001b[0m\n\u001b[0;32m    563\u001b[0m     \u001b[38;5;28;01mraise\u001b[39;00m \u001b[38;5;167;01mValueError\u001b[39;00m(\u001b[38;5;124m\"\u001b[39m\u001b[38;5;124mValidation should be done on X, y or both.\u001b[39m\u001b[38;5;124m\"\u001b[39m)\n\u001b[0;32m    564\u001b[0m \u001b[38;5;28;01melif\u001b[39;00m \u001b[38;5;129;01mnot\u001b[39;00m no_val_X \u001b[38;5;129;01mand\u001b[39;00m no_val_y:\n\u001b[1;32m--> 565\u001b[0m     X \u001b[38;5;241m=\u001b[39m check_array(X, input_name\u001b[38;5;241m=\u001b[39m\u001b[38;5;124m\"\u001b[39m\u001b[38;5;124mX\u001b[39m\u001b[38;5;124m\"\u001b[39m, \u001b[38;5;241m*\u001b[39m\u001b[38;5;241m*\u001b[39mcheck_params)\n\u001b[0;32m    566\u001b[0m     out \u001b[38;5;241m=\u001b[39m X\n\u001b[0;32m    567\u001b[0m \u001b[38;5;28;01melif\u001b[39;00m no_val_X \u001b[38;5;129;01mand\u001b[39;00m \u001b[38;5;129;01mnot\u001b[39;00m no_val_y:\n",
      "File \u001b[1;32m~\\anaconda3\\Lib\\site-packages\\sklearn\\utils\\validation.py:902\u001b[0m, in \u001b[0;36mcheck_array\u001b[1;34m(array, accept_sparse, accept_large_sparse, dtype, order, copy, force_all_finite, ensure_2d, allow_nd, ensure_min_samples, ensure_min_features, estimator, input_name)\u001b[0m\n\u001b[0;32m    900\u001b[0m     \u001b[38;5;66;03m# If input is 1D raise error\u001b[39;00m\n\u001b[0;32m    901\u001b[0m     \u001b[38;5;28;01mif\u001b[39;00m array\u001b[38;5;241m.\u001b[39mndim \u001b[38;5;241m==\u001b[39m \u001b[38;5;241m1\u001b[39m:\n\u001b[1;32m--> 902\u001b[0m         \u001b[38;5;28;01mraise\u001b[39;00m \u001b[38;5;167;01mValueError\u001b[39;00m(\n\u001b[0;32m    903\u001b[0m             \u001b[38;5;124m\"\u001b[39m\u001b[38;5;124mExpected 2D array, got 1D array instead:\u001b[39m\u001b[38;5;130;01m\\n\u001b[39;00m\u001b[38;5;124marray=\u001b[39m\u001b[38;5;132;01m{}\u001b[39;00m\u001b[38;5;124m.\u001b[39m\u001b[38;5;130;01m\\n\u001b[39;00m\u001b[38;5;124m\"\u001b[39m\n\u001b[0;32m    904\u001b[0m             \u001b[38;5;124m\"\u001b[39m\u001b[38;5;124mReshape your data either using array.reshape(-1, 1) if \u001b[39m\u001b[38;5;124m\"\u001b[39m\n\u001b[0;32m    905\u001b[0m             \u001b[38;5;124m\"\u001b[39m\u001b[38;5;124myour data has a single feature or array.reshape(1, -1) \u001b[39m\u001b[38;5;124m\"\u001b[39m\n\u001b[0;32m    906\u001b[0m             \u001b[38;5;124m\"\u001b[39m\u001b[38;5;124mif it contains a single sample.\u001b[39m\u001b[38;5;124m\"\u001b[39m\u001b[38;5;241m.\u001b[39mformat(array)\n\u001b[0;32m    907\u001b[0m         )\n\u001b[0;32m    909\u001b[0m \u001b[38;5;28;01mif\u001b[39;00m dtype_numeric \u001b[38;5;129;01mand\u001b[39;00m array\u001b[38;5;241m.\u001b[39mdtype\u001b[38;5;241m.\u001b[39mkind \u001b[38;5;129;01min\u001b[39;00m \u001b[38;5;124m\"\u001b[39m\u001b[38;5;124mUSV\u001b[39m\u001b[38;5;124m\"\u001b[39m:\n\u001b[0;32m    910\u001b[0m     \u001b[38;5;28;01mraise\u001b[39;00m \u001b[38;5;167;01mValueError\u001b[39;00m(\n\u001b[0;32m    911\u001b[0m         \u001b[38;5;124m\"\u001b[39m\u001b[38;5;124mdtype=\u001b[39m\u001b[38;5;124m'\u001b[39m\u001b[38;5;124mnumeric\u001b[39m\u001b[38;5;124m'\u001b[39m\u001b[38;5;124m is not compatible with arrays of bytes/strings.\u001b[39m\u001b[38;5;124m\"\u001b[39m\n\u001b[0;32m    912\u001b[0m         \u001b[38;5;124m\"\u001b[39m\u001b[38;5;124mConvert your data to numeric values explicitly instead.\u001b[39m\u001b[38;5;124m\"\u001b[39m\n\u001b[0;32m    913\u001b[0m     )\n",
      "\u001b[1;31mValueError\u001b[0m: Expected 2D array, got 1D array instead:\narray=[   592.2029  83425.65   122996.86   ... 146298.85    86154.77\n  70876.91  ].\nReshape your data either using array.reshape(-1, 1) if your data has a single feature or array.reshape(1, -1) if it contains a single sample."
     ]
    }
   ],
   "source": [
    "from sklearn.preprocessing import StandardScaler\n",
    "sc=StandardScaler()\n",
    "sc.fit_transform(visa_df['prevailing_wage'])"
   ]
  },
  {
   "cell_type": "code",
   "execution_count": 12,
   "id": "59c4dd7d-d7d6-4b57-9953-ba925f8abdd6",
   "metadata": {},
   "outputs": [
    {
     "data": {
      "text/plain": [
       "array([[-1.39853722],\n",
       "       [ 0.1698353 ],\n",
       "       [ 0.91907852],\n",
       "       ...,\n",
       "       [ 1.36027953],\n",
       "       [ 0.22150859],\n",
       "       [-0.06776315]])"
      ]
     },
     "execution_count": 12,
     "metadata": {},
     "output_type": "execute_result"
    }
   ],
   "source": [
    "wage_data_reshaped=visa_df['prevailing_wage'].values.reshape(-1,1)\n",
    "from sklearn.preprocessing import StandardScaler\n",
    "sc=StandardScaler()\n",
    "sc.fit_transform(wage_data_reshaped)"
   ]
  },
  {
   "cell_type": "markdown",
   "id": "59362a9a-ea08-4c17-a5b0-45806e878c16",
   "metadata": {},
   "source": [
    "**Check point-1**"
   ]
  },
  {
   "cell_type": "markdown",
   "id": "a8fe636b-6a18-4fa5-bdb3-71d9623e2534",
   "metadata": {},
   "source": [
    "**idxmax and idxmin**"
   ]
  },
  {
   "cell_type": "code",
   "execution_count": 14,
   "id": "930ebe20-631e-4fc6-a0cb-76cfbcbb9cf3",
   "metadata": {},
   "outputs": [
    {
     "data": {
      "text/plain": [
       "True"
      ]
     },
     "execution_count": 14,
     "metadata": {},
     "output_type": "execute_result"
    }
   ],
   "source": [
    "visa_df['prevailing_wage'].idxmax()==visa_df['prevailing_wage_z'].idxmax()"
   ]
  },
  {
   "cell_type": "code",
   "execution_count": 15,
   "id": "c0e6908b-8561-487e-aaba-5eb01f01adb0",
   "metadata": {},
   "outputs": [
    {
     "data": {
      "text/plain": [
       "True"
      ]
     },
     "execution_count": 15,
     "metadata": {},
     "output_type": "execute_result"
    }
   ],
   "source": [
    "visa_df['prevailing_wage'].idxmin()==visa_df['prevailing_wage_z'].idxmin()"
   ]
  },
  {
   "cell_type": "code",
   "execution_count": 17,
   "id": "d4541828-542e-4a07-ba58-2344c8c43e6d",
   "metadata": {},
   "outputs": [
    {
     "data": {
      "text/html": [
       "<div>\n",
       "<style scoped>\n",
       "    .dataframe tbody tr th:only-of-type {\n",
       "        vertical-align: middle;\n",
       "    }\n",
       "\n",
       "    .dataframe tbody tr th {\n",
       "        vertical-align: top;\n",
       "    }\n",
       "\n",
       "    .dataframe thead th {\n",
       "        text-align: right;\n",
       "    }\n",
       "</style>\n",
       "<table border=\"1\" class=\"dataframe\">\n",
       "  <thead>\n",
       "    <tr style=\"text-align: right;\">\n",
       "      <th></th>\n",
       "      <th>case_id</th>\n",
       "      <th>continent</th>\n",
       "      <th>education_of_employee</th>\n",
       "      <th>has_job_experience</th>\n",
       "      <th>requires_job_training</th>\n",
       "      <th>no_of_employees</th>\n",
       "      <th>yr_of_estab</th>\n",
       "      <th>region_of_employment</th>\n",
       "      <th>prevailing_wage</th>\n",
       "      <th>unit_of_wage</th>\n",
       "      <th>full_time_position</th>\n",
       "      <th>case_status</th>\n",
       "      <th>prevailing_wage_z</th>\n",
       "    </tr>\n",
       "  </thead>\n",
       "  <tbody>\n",
       "    <tr>\n",
       "      <th>21077</th>\n",
       "      <td>EZYV21078</td>\n",
       "      <td>Asia</td>\n",
       "      <td>High School</td>\n",
       "      <td>N</td>\n",
       "      <td>N</td>\n",
       "      <td>442</td>\n",
       "      <td>2006</td>\n",
       "      <td>Midwest</td>\n",
       "      <td>319210.2700</td>\n",
       "      <td>Year</td>\n",
       "      <td>Y</td>\n",
       "      <td>Denied</td>\n",
       "      <td>4.634102</td>\n",
       "    </tr>\n",
       "    <tr>\n",
       "      <th>20575</th>\n",
       "      <td>EZYV20576</td>\n",
       "      <td>North America</td>\n",
       "      <td>Master's</td>\n",
       "      <td>N</td>\n",
       "      <td>N</td>\n",
       "      <td>1552</td>\n",
       "      <td>2004</td>\n",
       "      <td>Northeast</td>\n",
       "      <td>2.1367</td>\n",
       "      <td>Hour</td>\n",
       "      <td>Y</td>\n",
       "      <td>Certified</td>\n",
       "      <td>-1.409682</td>\n",
       "    </tr>\n",
       "  </tbody>\n",
       "</table>\n",
       "</div>"
      ],
      "text/plain": [
       "         case_id      continent education_of_employee has_job_experience  \\\n",
       "21077  EZYV21078           Asia           High School                  N   \n",
       "20575  EZYV20576  North America              Master's                  N   \n",
       "\n",
       "      requires_job_training  no_of_employees  yr_of_estab  \\\n",
       "21077                     N              442         2006   \n",
       "20575                     N             1552         2004   \n",
       "\n",
       "      region_of_employment  prevailing_wage unit_of_wage full_time_position  \\\n",
       "21077              Midwest      319210.2700         Year                  Y   \n",
       "20575            Northeast           2.1367         Hour                  Y   \n",
       "\n",
       "      case_status  prevailing_wage_z  \n",
       "21077      Denied           4.634102  \n",
       "20575   Certified          -1.409682  "
      ]
     },
     "execution_count": 17,
     "metadata": {},
     "output_type": "execute_result"
    }
   ],
   "source": [
    "max_id=visa_df['prevailing_wage'].idxmax()\n",
    "min_id=visa_df['prevailing_wage'].idxmin()\n",
    "visa_df.iloc[[max_id,min_id]]"
   ]
  },
  {
   "cell_type": "markdown",
   "id": "073a5de5-13f2-4ffe-8c13-e6af252bf8b1",
   "metadata": {},
   "source": [
    "**check-point-2**\n",
    "\n",
    "- we developed the code intwo ways\n",
    "\n",
    "- from scracth and using pacakge"
   ]
  },
  {
   "cell_type": "code",
   "execution_count": 18,
   "id": "a7329904-eb54-4be4-bfe4-b675318536a5",
   "metadata": {},
   "outputs": [
    {
     "data": {
      "text/html": [
       "<div>\n",
       "<style scoped>\n",
       "    .dataframe tbody tr th:only-of-type {\n",
       "        vertical-align: middle;\n",
       "    }\n",
       "\n",
       "    .dataframe tbody tr th {\n",
       "        vertical-align: top;\n",
       "    }\n",
       "\n",
       "    .dataframe thead th {\n",
       "        text-align: right;\n",
       "    }\n",
       "</style>\n",
       "<table border=\"1\" class=\"dataframe\">\n",
       "  <thead>\n",
       "    <tr style=\"text-align: right;\">\n",
       "      <th></th>\n",
       "      <th>prevailing_wage_z</th>\n",
       "      <th>prevailing_wage_SS</th>\n",
       "    </tr>\n",
       "  </thead>\n",
       "  <tbody>\n",
       "    <tr>\n",
       "      <th>0</th>\n",
       "      <td>-1.398510</td>\n",
       "      <td>-1.398537</td>\n",
       "    </tr>\n",
       "    <tr>\n",
       "      <th>1</th>\n",
       "      <td>0.169832</td>\n",
       "      <td>0.169835</td>\n",
       "    </tr>\n",
       "    <tr>\n",
       "      <th>2</th>\n",
       "      <td>0.919060</td>\n",
       "      <td>0.919079</td>\n",
       "    </tr>\n",
       "    <tr>\n",
       "      <th>3</th>\n",
       "      <td>0.169991</td>\n",
       "      <td>0.169994</td>\n",
       "    </tr>\n",
       "    <tr>\n",
       "      <th>4</th>\n",
       "      <td>1.428576</td>\n",
       "      <td>1.428604</td>\n",
       "    </tr>\n",
       "    <tr>\n",
       "      <th>...</th>\n",
       "      <td>...</td>\n",
       "      <td>...</td>\n",
       "    </tr>\n",
       "    <tr>\n",
       "      <th>25475</th>\n",
       "      <td>0.049923</td>\n",
       "      <td>0.049924</td>\n",
       "    </tr>\n",
       "    <tr>\n",
       "      <th>25476</th>\n",
       "      <td>3.876083</td>\n",
       "      <td>3.876159</td>\n",
       "    </tr>\n",
       "    <tr>\n",
       "      <th>25477</th>\n",
       "      <td>1.360253</td>\n",
       "      <td>1.360280</td>\n",
       "    </tr>\n",
       "    <tr>\n",
       "      <th>25478</th>\n",
       "      <td>0.221504</td>\n",
       "      <td>0.221509</td>\n",
       "    </tr>\n",
       "    <tr>\n",
       "      <th>25479</th>\n",
       "      <td>-0.067762</td>\n",
       "      <td>-0.067763</td>\n",
       "    </tr>\n",
       "  </tbody>\n",
       "</table>\n",
       "<p>25480 rows × 2 columns</p>\n",
       "</div>"
      ],
      "text/plain": [
       "       prevailing_wage_z  prevailing_wage_SS\n",
       "0              -1.398510           -1.398537\n",
       "1               0.169832            0.169835\n",
       "2               0.919060            0.919079\n",
       "3               0.169991            0.169994\n",
       "4               1.428576            1.428604\n",
       "...                  ...                 ...\n",
       "25475           0.049923            0.049924\n",
       "25476           3.876083            3.876159\n",
       "25477           1.360253            1.360280\n",
       "25478           0.221504            0.221509\n",
       "25479          -0.067762           -0.067763\n",
       "\n",
       "[25480 rows x 2 columns]"
      ]
     },
     "execution_count": 18,
     "metadata": {},
     "output_type": "execute_result"
    }
   ],
   "source": [
    "wage_data=visa_df['prevailing_wage']\n",
    "wage_mean=wage_data.mean()\n",
    "wage_sd=wage_data.std()\n",
    "NR=wage_data-wage_mean\n",
    "data1=NR/wage_sd\n",
    "visa_df['prevailing_wage_z']=data1\n",
    "################################################\n",
    "from sklearn.preprocessing import StandardScaler\n",
    "sc=StandardScaler()\n",
    "visa_df['prevailing_wage_SS']=sc.fit_transform(visa_df[['prevailing_wage']])\n",
    "\n",
    "visa_df[['prevailing_wage_z','prevailing_wage_SS']]"
   ]
  },
  {
   "cell_type": "markdown",
   "id": "d954f3c9-0d69-4144-a9c2-28493547797a",
   "metadata": {},
   "source": [
    "**Normalization**\n",
    "\n",
    "- Normaliztion also called as **MinMaxScalar**\n",
    "\n",
    "- The values ranges from 0 to 1\n",
    "\n",
    "<img id=\"dimg__wORZ8vlBrDb2roPtKjWmQw_25\" src=\"data:image/png;base64,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\" class=\"YQ4gaf\" height=\"134\" style=\"object-position:28% 54%\" width=\"363\" alt=\"Min-Max Normalization\" data-csiid=\"_wORZ8vlBrDb2roPtKjWmQw_12\" data-atf=\"1\">"
   ]
  },
  {
   "cell_type": "code",
   "execution_count": null,
   "id": "f561fb32-8972-4f81-9d7f-72a1654fa6e9",
   "metadata": {},
   "outputs": [],
   "source": [
    "# step-1: read the prewailaing wage data\n",
    "# step-2: calculate wage min\n",
    "# step-3: calculate wage max data\n",
    "# step-4: Nr=step1-step2\n",
    "# step-5: Dr= Step3-step2\n",
    "# step-6: Nr/Dr\n",
    "\n",
    "#######################################\n",
    "sklearn  preprocessing MinMaxScalar"
   ]
  },
  {
   "cell_type": "code",
   "execution_count": 20,
   "id": "3903a5a6-ef1e-49ff-8174-8cda56ca5405",
   "metadata": {},
   "outputs": [],
   "source": [
    "from sklearn.preprocessing import MinMaxScaler\n",
    "mms=MinMaxScaler()\n",
    "wage_mms=mms.fit_transform(visa_df[['prevailing_wage']])"
   ]
  },
  {
   "cell_type": "code",
   "execution_count": 21,
   "id": "fdb1895e-c39a-45a6-a940-71fdf97607ca",
   "metadata": {},
   "outputs": [
    {
     "data": {
      "text/plain": [
       "0.9999999999999999"
      ]
     },
     "execution_count": 21,
     "metadata": {},
     "output_type": "execute_result"
    }
   ],
   "source": [
    "wage_mms.max()"
   ]
  },
  {
   "cell_type": "code",
   "execution_count": 22,
   "id": "1bd052ba-ee18-41ff-a0bb-8c6fb5518ab4",
   "metadata": {},
   "outputs": [
    {
     "data": {
      "text/plain": [
       "0.0"
      ]
     },
     "execution_count": 22,
     "metadata": {},
     "output_type": "execute_result"
    }
   ],
   "source": [
    "wage_mms.min()"
   ]
  },
  {
   "cell_type": "code",
   "execution_count": null,
   "id": "cff4a50d-66b3-4003-8b98-0c54a0fec47d",
   "metadata": {},
   "outputs": [],
   "source": []
  }
 ],
 "metadata": {
  "kernelspec": {
   "display_name": "Python 3 (ipykernel)",
   "language": "python",
   "name": "python3"
  },
  "language_info": {
   "codemirror_mode": {
    "name": "ipython",
    "version": 3
   },
   "file_extension": ".py",
   "mimetype": "text/x-python",
   "name": "python",
   "nbconvert_exporter": "python",
   "pygments_lexer": "ipython3",
   "version": "3.11.7"
  }
 },
 "nbformat": 4,
 "nbformat_minor": 5
}
