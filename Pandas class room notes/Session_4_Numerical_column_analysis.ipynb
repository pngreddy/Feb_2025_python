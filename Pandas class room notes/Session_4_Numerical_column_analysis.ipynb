{
 "cells": [
  {
   "cell_type": "code",
   "execution_count": 2,
   "id": "407b2d3f-ab11-454a-a1a1-2631d8be46d5",
   "metadata": {},
   "outputs": [
    {
     "data": {
      "text/plain": [
       "Index(['no_of_employees', 'yr_of_estab', 'prevailing_wage'], dtype='object')"
      ]
     },
     "execution_count": 2,
     "metadata": {},
     "output_type": "execute_result"
    }
   ],
   "source": [
    "# Import the pacakges\n",
    "# Read the data\n",
    "# cat and num columns\n",
    "import numpy as np\n",
    "import pandas as pd\n",
    "import matplotlib.pyplot as plt\n",
    "import seaborn as sns\n",
    "\n",
    "file_path=r\"C:\\Users\\omkar\\OneDrive\\Documents\\Data science\\Naresh IT\\Naresh IT\\Datafiles\\\\Visadataset.csv\"\n",
    "visa_df=pd.read_csv(file_path)\n",
    "visa_df\n",
    "\n",
    "cat_cols=visa_df.select_dtypes(include='object').columns\n",
    "num_cols=visa_df.select_dtypes(exclude='object').columns\n",
    "num_cols"
   ]
  },
  {
   "cell_type": "markdown",
   "id": "55d8433c-a5d5-4044-a90e-2d6b80056787",
   "metadata": {},
   "source": [
    "- we will take one numerical column\n",
    "\n",
    "- prevailing_wage\n",
    "\n",
    "    - count\n",
    "\n",
    "    - min\n",
    "\n",
    "    - mean\n",
    "\n",
    "    - median\n",
    "\n",
    "    - 25p\n",
    "\n",
    "    - 50p\n",
    "\n",
    "    - 75p\n",
    "\n",
    "    - max\n",
    "\n"
   ]
  },
  {
   "cell_type": "markdown",
   "id": "df2e13ae-d88d-4a81-a066-d6c91c65201d",
   "metadata": {},
   "source": [
    "**prevailing_wage**"
   ]
  },
  {
   "cell_type": "code",
   "execution_count": 3,
   "id": "dff93611-646d-4aef-b557-1596ad99fa46",
   "metadata": {},
   "outputs": [],
   "source": [
    "wage_data=visa_df['prevailing_wage']"
   ]
  },
  {
   "cell_type": "code",
   "execution_count": 4,
   "id": "2a67914d-551c-4c13-8001-4b8ea563c676",
   "metadata": {},
   "outputs": [
    {
     "data": {
      "text/plain": [
       "25480"
      ]
     },
     "execution_count": 4,
     "metadata": {},
     "output_type": "execute_result"
    }
   ],
   "source": [
    "len(wage_data)"
   ]
  },
  {
   "cell_type": "code",
   "execution_count": 5,
   "id": "06fced0f-4b2a-4858-90b7-f5449fe3cfda",
   "metadata": {},
   "outputs": [
    {
     "data": {
      "text/plain": [
       "74455.81459209183"
      ]
     },
     "execution_count": 5,
     "metadata": {},
     "output_type": "execute_result"
    }
   ],
   "source": [
    "wage_data.mean()"
   ]
  },
  {
   "cell_type": "code",
   "execution_count": 6,
   "id": "693fe0ce-9579-443c-b642-b06dc97e803e",
   "metadata": {},
   "outputs": [
    {
     "data": {
      "text/plain": [
       "70308.20999999999"
      ]
     },
     "execution_count": 6,
     "metadata": {},
     "output_type": "execute_result"
    }
   ],
   "source": [
    "wage_data.median()"
   ]
  },
  {
   "cell_type": "code",
   "execution_count": 7,
   "id": "7fbf7793-4d2f-49b0-945c-802ec54e688d",
   "metadata": {},
   "outputs": [
    {
     "data": {
      "text/plain": [
       "2.1367"
      ]
     },
     "execution_count": 7,
     "metadata": {},
     "output_type": "execute_result"
    }
   ],
   "source": [
    "wage_data.min()"
   ]
  },
  {
   "cell_type": "code",
   "execution_count": 8,
   "id": "f6a22ffd-8a99-4f81-a189-98f9d3ede12d",
   "metadata": {},
   "outputs": [
    {
     "data": {
      "text/plain": [
       "319210.27"
      ]
     },
     "execution_count": 8,
     "metadata": {},
     "output_type": "execute_result"
    }
   ],
   "source": [
    "wage_data.max()"
   ]
  },
  {
   "cell_type": "code",
   "execution_count": 9,
   "id": "0101bc27-5e24-47fc-b09c-1092daf170f1",
   "metadata": {},
   "outputs": [
    {
     "name": "stdout",
     "output_type": "stream",
     "text": [
      "The total number of observations: 25480\n",
      "The min value of prevailing_wage is: 2.1367\n",
      "The mean value of prevailing_wage is: 74455.81\n",
      "The median value of prevailing_wage is: 70308.21\n",
      "The max value of prevailing_wage is: 319210.27\n"
     ]
    }
   ],
   "source": [
    "wage_data=visa_df['prevailing_wage']\n",
    "wage_count=wage_data.count()\n",
    "wage_min=wage_data.min()\n",
    "wage_mean=round(wage_data.mean(),2)\n",
    "wage_median=round(wage_data.median(),2)\n",
    "wage_max=wage_data.max()\n",
    "print(\"The total number of observations:\",wage_count)\n",
    "print(\"The min value of prevailing_wage is:\",wage_min)\n",
    "print(\"The mean value of prevailing_wage is:\",wage_mean)\n",
    "print(\"The median value of prevailing_wage is:\",wage_median)\n",
    "print(\"The max value of prevailing_wage is:\",wage_max)"
   ]
  },
  {
   "cell_type": "code",
   "execution_count": 10,
   "id": "935299ae-cbc6-4863-adbc-bc9f5281b136",
   "metadata": {},
   "outputs": [
    {
     "data": {
      "text/html": [
       "<div>\n",
       "<style scoped>\n",
       "    .dataframe tbody tr th:only-of-type {\n",
       "        vertical-align: middle;\n",
       "    }\n",
       "\n",
       "    .dataframe tbody tr th {\n",
       "        vertical-align: top;\n",
       "    }\n",
       "\n",
       "    .dataframe thead th {\n",
       "        text-align: right;\n",
       "    }\n",
       "</style>\n",
       "<table border=\"1\" class=\"dataframe\">\n",
       "  <thead>\n",
       "    <tr style=\"text-align: right;\">\n",
       "      <th></th>\n",
       "      <th>prevailing_wage</th>\n",
       "    </tr>\n",
       "  </thead>\n",
       "  <tbody>\n",
       "    <tr>\n",
       "      <th>Count</th>\n",
       "      <td>25480.0000</td>\n",
       "    </tr>\n",
       "    <tr>\n",
       "      <th>Min</th>\n",
       "      <td>2.1367</td>\n",
       "    </tr>\n",
       "    <tr>\n",
       "      <th>Mean</th>\n",
       "      <td>74455.8100</td>\n",
       "    </tr>\n",
       "    <tr>\n",
       "      <th>Median</th>\n",
       "      <td>70308.2100</td>\n",
       "    </tr>\n",
       "    <tr>\n",
       "      <th>Max</th>\n",
       "      <td>319210.2700</td>\n",
       "    </tr>\n",
       "  </tbody>\n",
       "</table>\n",
       "</div>"
      ],
      "text/plain": [
       "        prevailing_wage\n",
       "Count        25480.0000\n",
       "Min              2.1367\n",
       "Mean         74455.8100\n",
       "Median       70308.2100\n",
       "Max         319210.2700"
      ]
     },
     "execution_count": 10,
     "metadata": {},
     "output_type": "execute_result"
    }
   ],
   "source": [
    "wage_data=visa_df['prevailing_wage']\n",
    "wage_count=wage_data.count()\n",
    "wage_min=wage_data.min()\n",
    "wage_mean=round(wage_data.mean(),2)\n",
    "wage_median=round(wage_data.median(),2)\n",
    "wage_max=wage_data.max()\n",
    "data=[wage_count,wage_min,wage_mean,wage_median,wage_max]\n",
    "id=['Count','Min','Mean','Median','Max']\n",
    "pd.DataFrame(data,index=id,columns=['prevailing_wage'])"
   ]
  },
  {
   "cell_type": "code",
   "execution_count": 11,
   "id": "27f4dc9d-93de-4eef-8996-669e739daa72",
   "metadata": {},
   "outputs": [
    {
     "data": {
      "text/html": [
       "<div>\n",
       "<style scoped>\n",
       "    .dataframe tbody tr th:only-of-type {\n",
       "        vertical-align: middle;\n",
       "    }\n",
       "\n",
       "    .dataframe tbody tr th {\n",
       "        vertical-align: top;\n",
       "    }\n",
       "\n",
       "    .dataframe thead th {\n",
       "        text-align: right;\n",
       "    }\n",
       "</style>\n",
       "<table border=\"1\" class=\"dataframe\">\n",
       "  <thead>\n",
       "    <tr style=\"text-align: right;\">\n",
       "      <th></th>\n",
       "      <th>prevailing_wage</th>\n",
       "    </tr>\n",
       "  </thead>\n",
       "  <tbody>\n",
       "    <tr>\n",
       "      <th>Count</th>\n",
       "      <td>25480.0000</td>\n",
       "    </tr>\n",
       "    <tr>\n",
       "      <th>Min</th>\n",
       "      <td>2.1367</td>\n",
       "    </tr>\n",
       "    <tr>\n",
       "      <th>Mean</th>\n",
       "      <td>74455.8100</td>\n",
       "    </tr>\n",
       "    <tr>\n",
       "      <th>Median</th>\n",
       "      <td>70308.2100</td>\n",
       "    </tr>\n",
       "    <tr>\n",
       "      <th>Max</th>\n",
       "      <td>319210.2700</td>\n",
       "    </tr>\n",
       "  </tbody>\n",
       "</table>\n",
       "</div>"
      ],
      "text/plain": [
       "        prevailing_wage\n",
       "Count        25480.0000\n",
       "Min              2.1367\n",
       "Mean         74455.8100\n",
       "Median       70308.2100\n",
       "Max         319210.2700"
      ]
     },
     "execution_count": 11,
     "metadata": {},
     "output_type": "execute_result"
    }
   ],
   "source": [
    "wage_data=visa_df['prevailing_wage']\n",
    "wage_count=wage_data.count()\n",
    "wage_min=np.min(wage_data)\n",
    "wage_mean=round(np.mean(wage_data),2)\n",
    "wage_median=round(np.median(wage_data),2)\n",
    "wage_max=np.max(wage_data)\n",
    "data=[wage_count,wage_min,wage_mean,wage_median,wage_max]\n",
    "id=['Count','Min','Mean','Median','Max']\n",
    "pd.DataFrame(data,index=id,columns=['prevailing_wage'])"
   ]
  },
  {
   "cell_type": "markdown",
   "id": "e7eababd-4cbd-4eb0-8cf6-76a0797949b8",
   "metadata": {},
   "source": [
    "**percentile**\n",
    "\n",
    "- 25percentile \n",
    "\n",
    "    - 25 percentage of total data less than 25p value\n",
    "\n",
    "- we can achive percentiles using numpy package\n",
    "\n",
    "- in the numpy we have two methods\n",
    "\n",
    "    - percentile\n",
    "\n",
    "    - quantile"
   ]
  },
  {
   "cell_type": "code",
   "execution_count": 12,
   "id": "8074cde5-2969-41ff-b4f7-722c86698f64",
   "metadata": {},
   "outputs": [
    {
     "data": {
      "text/plain": [
       "34015.479999999996"
      ]
     },
     "execution_count": 12,
     "metadata": {},
     "output_type": "execute_result"
    }
   ],
   "source": [
    "wage_data_25p=np.percentile(wage_data,25)\n",
    "wage_data_25p"
   ]
  },
  {
   "cell_type": "code",
   "execution_count": 13,
   "id": "998c1cfe-53a7-4e39-aa3c-9b2d320d579c",
   "metadata": {},
   "outputs": [
    {
     "data": {
      "text/plain": [
       "70308.20999999999"
      ]
     },
     "execution_count": 13,
     "metadata": {},
     "output_type": "execute_result"
    }
   ],
   "source": [
    "wage_data_50p=np.percentile(wage_data,50)\n",
    "wage_data_50p"
   ]
  },
  {
   "cell_type": "code",
   "execution_count": 14,
   "id": "93da0099-f307-4ea1-a794-27903f575d77",
   "metadata": {},
   "outputs": [
    {
     "data": {
      "text/plain": [
       "70308.21"
      ]
     },
     "execution_count": 14,
     "metadata": {},
     "output_type": "execute_result"
    }
   ],
   "source": [
    "wage_median"
   ]
  },
  {
   "cell_type": "code",
   "execution_count": 15,
   "id": "dd84ff9e-0169-4a62-b97a-9e48d1c4ed22",
   "metadata": {},
   "outputs": [
    {
     "data": {
      "text/plain": [
       "34015.479999999996"
      ]
     },
     "execution_count": 15,
     "metadata": {},
     "output_type": "execute_result"
    }
   ],
   "source": [
    "np.quantile(wage_data,0.25)"
   ]
  },
  {
   "cell_type": "code",
   "execution_count": 16,
   "id": "0685f6e1-2a74-470a-80c9-6d86fa300eac",
   "metadata": {},
   "outputs": [
    {
     "data": {
      "text/plain": [
       "70308.20999999999"
      ]
     },
     "execution_count": 16,
     "metadata": {},
     "output_type": "execute_result"
    }
   ],
   "source": [
    "np.quantile(wage_data,0.50)"
   ]
  },
  {
   "cell_type": "markdown",
   "id": "f3177f0b-8f42-4379-93ca-959319c28f2b",
   "metadata": {},
   "source": [
    "**what is the meaning of 34015.479999999996**\n",
    "\n",
    "- 25p value= 34015.479999999996\n",
    "\n",
    "- 25%(25480)= 6370\n",
    "\n",
    "- 6370 observations have value less than 34015.479999999996"
   ]
  },
  {
   "cell_type": "code",
   "execution_count": 17,
   "id": "3b12cc17-3375-45b4-986e-ad1df99ed909",
   "metadata": {},
   "outputs": [
    {
     "data": {
      "text/plain": [
       "True"
      ]
     },
     "execution_count": 17,
     "metadata": {},
     "output_type": "execute_result"
    }
   ],
   "source": [
    "# read the preavilaing wage data\n",
    "# apply the condition data<25p T F\n",
    "# data[con]\n",
    "wage_data=visa_df['prevailing_wage']\n",
    "wage_data_25p=np.percentile(wage_data,25)\n",
    "con=wage_data<wage_data_25p\n",
    "len(visa_df[con])==25*wage_count/100"
   ]
  },
  {
   "cell_type": "code",
   "execution_count": 18,
   "id": "3c114ad5-b7ef-48bd-8f18-bbe1731dd1f4",
   "metadata": {},
   "outputs": [
    {
     "data": {
      "text/html": [
       "<div>\n",
       "<style scoped>\n",
       "    .dataframe tbody tr th:only-of-type {\n",
       "        vertical-align: middle;\n",
       "    }\n",
       "\n",
       "    .dataframe tbody tr th {\n",
       "        vertical-align: top;\n",
       "    }\n",
       "\n",
       "    .dataframe thead th {\n",
       "        text-align: right;\n",
       "    }\n",
       "</style>\n",
       "<table border=\"1\" class=\"dataframe\">\n",
       "  <thead>\n",
       "    <tr style=\"text-align: right;\">\n",
       "      <th></th>\n",
       "      <th>prevailing_wage</th>\n",
       "    </tr>\n",
       "  </thead>\n",
       "  <tbody>\n",
       "    <tr>\n",
       "      <th>Count</th>\n",
       "      <td>25480.0000</td>\n",
       "    </tr>\n",
       "    <tr>\n",
       "      <th>Min</th>\n",
       "      <td>2.1367</td>\n",
       "    </tr>\n",
       "    <tr>\n",
       "      <th>Mean</th>\n",
       "      <td>74455.8100</td>\n",
       "    </tr>\n",
       "    <tr>\n",
       "      <th>Median</th>\n",
       "      <td>70308.2100</td>\n",
       "    </tr>\n",
       "    <tr>\n",
       "      <th>25%</th>\n",
       "      <td>34015.4800</td>\n",
       "    </tr>\n",
       "    <tr>\n",
       "      <th>50%</th>\n",
       "      <td>70308.2100</td>\n",
       "    </tr>\n",
       "    <tr>\n",
       "      <th>Max</th>\n",
       "      <td>319210.2700</td>\n",
       "    </tr>\n",
       "  </tbody>\n",
       "</table>\n",
       "</div>"
      ],
      "text/plain": [
       "        prevailing_wage\n",
       "Count        25480.0000\n",
       "Min              2.1367\n",
       "Mean         74455.8100\n",
       "Median       70308.2100\n",
       "25%          34015.4800\n",
       "50%          70308.2100\n",
       "Max         319210.2700"
      ]
     },
     "execution_count": 18,
     "metadata": {},
     "output_type": "execute_result"
    }
   ],
   "source": [
    "wage_data=visa_df['prevailing_wage']\n",
    "wage_count=wage_data.count()\n",
    "wage_min=np.min(wage_data)\n",
    "wage_mean=round(np.mean(wage_data),2)\n",
    "wage_median=round(np.median(wage_data),2)\n",
    "wage_data_25p=np.percentile(wage_data,25)\n",
    "wage_data_50p=np.percentile(wage_data,50)\n",
    "wage_max=np.max(wage_data)\n",
    "data=[wage_count,wage_min,wage_mean,\n",
    "      wage_median,wage_data_25p,wage_data_50p,\n",
    "      wage_max]\n",
    "id=['Count','Min','Mean','Median','25%','50%','Max']\n",
    "pd.DataFrame(data,index=id,columns=['prevailing_wage'])"
   ]
  },
  {
   "cell_type": "code",
   "execution_count": 19,
   "id": "399f037d-b24b-4809-a4d8-3093d3435eff",
   "metadata": {},
   "outputs": [],
   "source": [
    "final_data=[]\n",
    "for i in num_cols:\n",
    "    data=visa_df[i]\n",
    "    count=wage_data.count()\n",
    "    Min=np.min(data)\n",
    "    mean=round(np.mean(data),2)\n",
    "    median=round(np.median(data),2)\n",
    "    data_25p=np.percentile(data,25)\n",
    "    data_50p=np.percentile(data,50)\n",
    "    Max=np.max(data)\n",
    "    l=[count,Min,mean,median,data_25p,data_50p,Max]\n",
    "    final_data.append(l)"
   ]
  },
  {
   "cell_type": "code",
   "execution_count": 20,
   "id": "3906f911-9888-43f7-8f0f-709748d7c171",
   "metadata": {},
   "outputs": [
    {
     "data": {
      "text/html": [
       "<div>\n",
       "<style scoped>\n",
       "    .dataframe tbody tr th:only-of-type {\n",
       "        vertical-align: middle;\n",
       "    }\n",
       "\n",
       "    .dataframe tbody tr th {\n",
       "        vertical-align: top;\n",
       "    }\n",
       "\n",
       "    .dataframe thead th {\n",
       "        text-align: right;\n",
       "    }\n",
       "</style>\n",
       "<table border=\"1\" class=\"dataframe\">\n",
       "  <thead>\n",
       "    <tr style=\"text-align: right;\">\n",
       "      <th></th>\n",
       "      <th>no_of_employees</th>\n",
       "      <th>yr_of_estab</th>\n",
       "      <th>prevailing_wage</th>\n",
       "    </tr>\n",
       "  </thead>\n",
       "  <tbody>\n",
       "    <tr>\n",
       "      <th>Count</th>\n",
       "      <td>25480.00</td>\n",
       "      <td>25480.00</td>\n",
       "      <td>25480.0000</td>\n",
       "    </tr>\n",
       "    <tr>\n",
       "      <th>Min</th>\n",
       "      <td>-26.00</td>\n",
       "      <td>1800.00</td>\n",
       "      <td>2.1367</td>\n",
       "    </tr>\n",
       "    <tr>\n",
       "      <th>Mean</th>\n",
       "      <td>5667.04</td>\n",
       "      <td>1979.41</td>\n",
       "      <td>74455.8100</td>\n",
       "    </tr>\n",
       "    <tr>\n",
       "      <th>Median</th>\n",
       "      <td>2109.00</td>\n",
       "      <td>1997.00</td>\n",
       "      <td>70308.2100</td>\n",
       "    </tr>\n",
       "    <tr>\n",
       "      <th>25%</th>\n",
       "      <td>1022.00</td>\n",
       "      <td>1976.00</td>\n",
       "      <td>34015.4800</td>\n",
       "    </tr>\n",
       "    <tr>\n",
       "      <th>50%</th>\n",
       "      <td>2109.00</td>\n",
       "      <td>1997.00</td>\n",
       "      <td>70308.2100</td>\n",
       "    </tr>\n",
       "    <tr>\n",
       "      <th>Max</th>\n",
       "      <td>602069.00</td>\n",
       "      <td>2016.00</td>\n",
       "      <td>319210.2700</td>\n",
       "    </tr>\n",
       "  </tbody>\n",
       "</table>\n",
       "</div>"
      ],
      "text/plain": [
       "        no_of_employees  yr_of_estab  prevailing_wage\n",
       "Count          25480.00     25480.00       25480.0000\n",
       "Min              -26.00      1800.00           2.1367\n",
       "Mean            5667.04      1979.41       74455.8100\n",
       "Median          2109.00      1997.00       70308.2100\n",
       "25%             1022.00      1976.00       34015.4800\n",
       "50%             2109.00      1997.00       70308.2100\n",
       "Max           602069.00      2016.00      319210.2700"
      ]
     },
     "execution_count": 20,
     "metadata": {},
     "output_type": "execute_result"
    }
   ],
   "source": [
    "final_data\n",
    "id=['Count','Min','Mean','Median','25%','50%','Max']\n",
    "pd.DataFrame(final_data,index=num_cols,columns=id).T\n",
    "# T: Transpose"
   ]
  },
  {
   "cell_type": "code",
   "execution_count": 21,
   "id": "fdaa5039-8801-42da-a2d2-f4316fc38693",
   "metadata": {},
   "outputs": [
    {
     "data": {
      "text/html": [
       "<div>\n",
       "<style scoped>\n",
       "    .dataframe tbody tr th:only-of-type {\n",
       "        vertical-align: middle;\n",
       "    }\n",
       "\n",
       "    .dataframe tbody tr th {\n",
       "        vertical-align: top;\n",
       "    }\n",
       "\n",
       "    .dataframe thead th {\n",
       "        text-align: right;\n",
       "    }\n",
       "</style>\n",
       "<table border=\"1\" class=\"dataframe\">\n",
       "  <thead>\n",
       "    <tr style=\"text-align: right;\">\n",
       "      <th></th>\n",
       "      <th>0</th>\n",
       "      <th>1</th>\n",
       "      <th>2</th>\n",
       "    </tr>\n",
       "  </thead>\n",
       "  <tbody>\n",
       "    <tr>\n",
       "      <th>0</th>\n",
       "      <td>1</td>\n",
       "      <td>2</td>\n",
       "      <td>3</td>\n",
       "    </tr>\n",
       "    <tr>\n",
       "      <th>1</th>\n",
       "      <td>A</td>\n",
       "      <td>B</td>\n",
       "      <td>C</td>\n",
       "    </tr>\n",
       "  </tbody>\n",
       "</table>\n",
       "</div>"
      ],
      "text/plain": [
       "   0  1  2\n",
       "0  1  2  3\n",
       "1  A  B  C"
      ]
     },
     "execution_count": 21,
     "metadata": {},
     "output_type": "execute_result"
    }
   ],
   "source": [
    "l=[[1,2,3],\n",
    "   ['A','B','C']]\n",
    "pd.DataFrame(l)"
   ]
  },
  {
   "cell_type": "code",
   "execution_count": 22,
   "id": "fea67e0d-0964-493c-8241-abb7cfc0f9fc",
   "metadata": {},
   "outputs": [
    {
     "data": {
      "text/html": [
       "<div>\n",
       "<style scoped>\n",
       "    .dataframe tbody tr th:only-of-type {\n",
       "        vertical-align: middle;\n",
       "    }\n",
       "\n",
       "    .dataframe tbody tr th {\n",
       "        vertical-align: top;\n",
       "    }\n",
       "\n",
       "    .dataframe thead th {\n",
       "        text-align: right;\n",
       "    }\n",
       "</style>\n",
       "<table border=\"1\" class=\"dataframe\">\n",
       "  <thead>\n",
       "    <tr style=\"text-align: right;\">\n",
       "      <th></th>\n",
       "      <th>no_of_employees</th>\n",
       "      <th>yr_of_estab</th>\n",
       "      <th>prevailing_wage</th>\n",
       "    </tr>\n",
       "  </thead>\n",
       "  <tbody>\n",
       "    <tr>\n",
       "      <th>count</th>\n",
       "      <td>25480.000000</td>\n",
       "      <td>25480.000000</td>\n",
       "      <td>25480.000000</td>\n",
       "    </tr>\n",
       "    <tr>\n",
       "      <th>mean</th>\n",
       "      <td>5667.043210</td>\n",
       "      <td>1979.409929</td>\n",
       "      <td>74455.814592</td>\n",
       "    </tr>\n",
       "    <tr>\n",
       "      <th>std</th>\n",
       "      <td>22877.928848</td>\n",
       "      <td>42.366929</td>\n",
       "      <td>52815.942327</td>\n",
       "    </tr>\n",
       "    <tr>\n",
       "      <th>min</th>\n",
       "      <td>-26.000000</td>\n",
       "      <td>1800.000000</td>\n",
       "      <td>2.136700</td>\n",
       "    </tr>\n",
       "    <tr>\n",
       "      <th>25%</th>\n",
       "      <td>1022.000000</td>\n",
       "      <td>1976.000000</td>\n",
       "      <td>34015.480000</td>\n",
       "    </tr>\n",
       "    <tr>\n",
       "      <th>50%</th>\n",
       "      <td>2109.000000</td>\n",
       "      <td>1997.000000</td>\n",
       "      <td>70308.210000</td>\n",
       "    </tr>\n",
       "    <tr>\n",
       "      <th>75%</th>\n",
       "      <td>3504.000000</td>\n",
       "      <td>2005.000000</td>\n",
       "      <td>107735.512500</td>\n",
       "    </tr>\n",
       "    <tr>\n",
       "      <th>max</th>\n",
       "      <td>602069.000000</td>\n",
       "      <td>2016.000000</td>\n",
       "      <td>319210.270000</td>\n",
       "    </tr>\n",
       "  </tbody>\n",
       "</table>\n",
       "</div>"
      ],
      "text/plain": [
       "       no_of_employees   yr_of_estab  prevailing_wage\n",
       "count     25480.000000  25480.000000     25480.000000\n",
       "mean       5667.043210   1979.409929     74455.814592\n",
       "std       22877.928848     42.366929     52815.942327\n",
       "min         -26.000000   1800.000000         2.136700\n",
       "25%        1022.000000   1976.000000     34015.480000\n",
       "50%        2109.000000   1997.000000     70308.210000\n",
       "75%        3504.000000   2005.000000    107735.512500\n",
       "max      602069.000000   2016.000000    319210.270000"
      ]
     },
     "execution_count": 22,
     "metadata": {},
     "output_type": "execute_result"
    }
   ],
   "source": [
    "visa_df.describe()"
   ]
  },
  {
   "cell_type": "markdown",
   "id": "4239ad32-eb50-4e9f-ba4f-657ab5c5fff0",
   "metadata": {},
   "source": [
    "**Histogram**"
   ]
  },
  {
   "cell_type": "markdown",
   "id": "c62be741-e929-4032-9f1b-6df36bf77423",
   "metadata": {},
   "source": [
    "- Histogram is a graphical representation of Frequency distribution table\n",
    "\n",
    "- It is a class interval vs Interval Frequecny \n",
    "\n",
    "- It is availabel in matplotliba also in seaborn\n",
    "\n",
    "- **plt.hist**"
   ]
  },
  {
   "cell_type": "code",
   "execution_count": 28,
   "id": "ad8e1f88-9ce3-4031-ac8c-8e55dada5d0b",
   "metadata": {},
   "outputs": [
    {
     "name": "stdout",
     "output_type": "stream",
     "text": [
      "The total number of bins: <BarContainer object of 10 artists>\n",
      "[2.13670000e+00 3.19229500e+04 6.38437634e+04 9.57645767e+04\n",
      " 1.27685390e+05 1.59606203e+05 1.91527017e+05 2.23447830e+05\n",
      " 2.55368643e+05 2.87289457e+05 3.19210270e+05]\n",
      "[6038. 5504. 5681. 4551. 2334.  624.  373.  240.  114.   21.]\n"
     ]
    },
    {
     "data": {
      "image/png": "[encoded data removed]",
      "text/plain": [
       "<Figure size 640x480 with 1 Axes>"
      ]
     },
     "metadata": {},
     "output_type": "display_data"
    }
   ],
   "source": [
    "wage_data=visa_df['prevailing_wage']\n",
    "count,interval,bins=plt.hist(wage_data)\n",
    "print('The total number of bins:',bins)\n",
    "count\n",
    "print(interval)\n",
    "print(count)"
   ]
  },
  {
   "cell_type": "code",
   "execution_count": 39,
   "id": "da6f3ba2-147e-477b-86be-ce8c8a85a902",
   "metadata": {},
   "outputs": [
    {
     "data": {
      "image/png": "[encoded data removed]",
      "text/plain": [
       "<Figure size 640x480 with 1 Axes>"
      ]
     },
     "metadata": {},
     "output_type": "display_data"
    }
   ],
   "source": [
    "wage_data=visa_df['prevailing_wage']\n",
    "plt.hist(wage_data,bins=40)\n",
    "plt.xlabel('wages')\n",
    "plt.ylabel('count')\n",
    "plt.title('Histogram_prevailing_wage')\n",
    "plt.show()"
   ]
  },
  {
   "cell_type": "code",
   "execution_count": 31,
   "id": "6399faf1-e510-46f5-9b4e-940d888faa92",
   "metadata": {},
   "outputs": [
    {
     "data": {
      "text/plain": [
       "(31922.95, 63843.7634)"
      ]
     },
     "execution_count": 31,
     "metadata": {},
     "output_type": "execute_result"
    }
   ],
   "source": [
    "2.13670000e+00,3.19229500e+04\n",
    "3.19229500e+04,6.38437634e+04"
   ]
  },
  {
   "cell_type": "markdown",
   "id": "e72b7ee1-512d-4eb5-998b-0a02e552ee10",
   "metadata": {},
   "source": [
    "- there are 6038 applicants having wage between 2.1367 to 31922.95 \n",
    "\n",
    "- there are 5504 applicants having wage between 31922.95 to 63843.7634"
   ]
  },
  {
   "cell_type": "code",
   "execution_count": 42,
   "id": "fa22e551-dc8f-41fc-978e-25437868a38b",
   "metadata": {},
   "outputs": [
    {
     "data": {
      "text/plain": [
       "6038"
      ]
     },
     "execution_count": 42,
     "metadata": {},
     "output_type": "execute_result"
    }
   ],
   "source": [
    "# step-1: read the wage data\n",
    "# step-2: lb=2.13670000e+00\n",
    "# step-3: con1=wage_data>lb\n",
    "# step-4: ub=3.19229500e+04\n",
    "# step-5: con2=wage_data<ub\n",
    "# step-6: con=con1 and con2    con1 & con2\n",
    "# step-7: visa_df[con]\n",
    "\n",
    "wage_data=visa_df['prevailing_wage']\n",
    "lb=2.13670000e+00\n",
    "con1=wage_data>=lb\n",
    "ub=3.19229500e+04\n",
    "con2=wage_data<=ub\n",
    "con=con1 & con2\n",
    "len(visa_df[con])"
   ]
  },
  {
   "cell_type": "code",
   "execution_count": null,
   "id": "b878bba5-d57f-4549-9721-5d36aa9ee9ea",
   "metadata": {},
   "outputs": [],
   "source": [
    "## assignment\n",
    "# Lb               ub             count\n",
    "#2.13670000e+00   3.19229500e+04  6038\n",
    "#"
   ]
  },
  {
   "cell_type": "markdown",
   "id": "ae6bbc88-c0f8-4254-97b3-020c776efa9b",
   "metadata": {},
   "source": [
    "**Emperical Rule**"
   ]
  },
  {
   "cell_type": "markdown",
   "id": "9e584376-035b-435b-b166-f354e740558b",
   "metadata": {},
   "source": [
    "<img id=\"dimg_Wtt_Z_erD9Ge4-EPl6D6kAM_25\" src=\"data:image/png;base64,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\" class=\"YQ4gaf\" height=\"184\" style=\"object-position:50% 46%\" width=\"274\" alt=\"Empirical Rule: Definition &amp; Formula ...\" data-csiid=\"Wtt_Z_erD9Ge4-EPl6D6kAM_6\" data-atf=\"1\">"
   ]
  },
  {
   "cell_type": "code",
   "execution_count": null,
   "id": "933696f5-8e0d-4783-abfc-90f00fafa892",
   "metadata": {},
   "outputs": [],
   "source": [
    "# u-1sigma to u+1*sigma 68% of data coverage\n",
    "# step-1: mean\n",
    "# step-2: sd\n",
    "# step-3: lb=mean-1*sd\n",
    "# step-4: ub=mean+1*sd\n",
    "# step-5: con1= wage_data>lb\n",
    "# step-6: con2=wage_data<ub\n",
    "# step-7: con= con1 & con2\n",
    "# step-8: v1=visa_df[con] len \n",
    "# step-9: v2=68%(25480)\n",
    "# step-10: v1==v2 or not"
   ]
  },
  {
   "cell_type": "code",
   "execution_count": 44,
   "id": "f86146f7-4288-45b3-8b00-1beefa7fe989",
   "metadata": {},
   "outputs": [
    {
     "name": "stdout",
     "output_type": "stream",
     "text": [
      "17171\n",
      "17326.4\n"
     ]
    },
    {
     "data": {
      "text/plain": [
       "False"
      ]
     },
     "execution_count": 44,
     "metadata": {},
     "output_type": "execute_result"
    }
   ],
   "source": [
    "wage_data=visa_df['prevailing_wage']\n",
    "mean=wage_data.mean()\n",
    "sd=wage_data.std()\n",
    "lb=mean-1*sd\n",
    "ub=mean+1*sd\n",
    "cond1=wage_data>lb\n",
    "cond2=wage_data<ub\n",
    "con=cond1&cond2\n",
    "v1=len(visa_df[con])\n",
    "print(v1)\n",
    "v2=68*len(wage_data)/100\n",
    "print(v2)\n",
    "v1==v2"
   ]
  },
  {
   "cell_type": "markdown",
   "id": "e873e1ed-cbe7-4c35-aca1-6a5d8a7524c2",
   "metadata": {},
   "source": [
    "- Emperical rule applicable only for Normal distribution\n",
    "\n",
    "- But wage data slightly skewed \n",
    "\n",
    "- Thats whay the emperical rule failed\n",
    "\n",
    "- Its skewed means it has outliers"
   ]
  },
  {
   "cell_type": "code",
   "execution_count": 54,
   "id": "e8620a9b-5cb1-4200-9364-ff0ff376cb7c",
   "metadata": {},
   "outputs": [
    {
     "data": {
      "text/plain": [
       "<Axes: xlabel='prevailing_wage', ylabel='Count'>"
      ]
     },
     "execution_count": 54,
     "metadata": {},
     "output_type": "execute_result"
    },
    {
     "data": {
      "image/png": "[encoded data removed]",
      "text/plain": [
       "<Figure size 640x480 with 1 Axes>"
      ]
     },
     "metadata": {},
     "output_type": "display_data"
    }
   ],
   "source": [
    "import seaborn as sns\n",
    "sns.histplot(wage_data,kde=True,color='skyblue')"
   ]
  },
  {
   "cell_type": "code",
   "execution_count": null,
   "id": "01078351-b519-4328-81f8-725ddad075b3",
   "metadata": {},
   "outputs": [],
   "source": []
  }
 ],
 "metadata": {
  "kernelspec": {
   "display_name": "Python 3 (ipykernel)",
   "language": "python",
   "name": "python3"
  },
  "language_info": {
   "codemirror_mode": {
    "name": "ipython",
    "version": 3
   },
   "file_extension": ".py",
   "mimetype": "text/x-python",
   "name": "python",
   "nbconvert_exporter": "python",
   "pygments_lexer": "ipython3",
   "version": "3.11.7"
  }
 },
 "nbformat": 4,
 "nbformat_minor": 5
}
