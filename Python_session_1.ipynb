{
 "cells": [
  {
   "cell_type": "code",
   "execution_count": null,
   "id": "52c0c61f-f35a-46b5-b27b-15e096124d90",
   "metadata": {},
   "outputs": [],
   "source": [
    "a=100\n",
    "a"
   ]
  },
  {
   "cell_type": "code",
   "execution_count": null,
   "id": "c3e9a733-8256-4ef6-9d89-d13e822743f5",
   "metadata": {},
   "outputs": [],
   "source": [
    "a=10\n",
    "a+b   \n",
    "# shift+enter"
   ]
  },
  {
   "cell_type": "code",
   "execution_count": null,
   "id": "fd27d5a1-8506-41ee-b4f7-3c20ef934083",
   "metadata": {},
   "outputs": [],
   "source": [
    "n1=100\n",
    "n1   \n",
    "\n",
    "# shift+enter\n",
    "# comment"
   ]
  },
  {
   "cell_type": "code",
   "execution_count": null,
   "id": "8c1f768e-6cd9-471d-b4c7-4131d51d60c8",
   "metadata": {},
   "outputs": [],
   "source": [
    "#for i in range(1000000):\n",
    "    #print(i)"
   ]
  },
  {
   "cell_type": "code",
   "execution_count": null,
   "id": "e037012e-4a69-46fb-99e8-e7fc8c3d0cbf",
   "metadata": {},
   "outputs": [],
   "source": [
    "a"
   ]
  },
  {
   "cell_type": "code",
   "execution_count": null,
   "id": "da6f0eb6-5ae7-4d60-881d-cb7864b41b49",
   "metadata": {},
   "outputs": [],
   "source": []
  },
  {
   "cell_type": "code",
   "execution_count": null,
   "id": "4ca1676a-f3d0-4e87-b981-a581086cb38e",
   "metadata": {},
   "outputs": [],
   "source": []
  },
  {
   "cell_type": "code",
   "execution_count": 3,
   "id": "f9a0bf67-d8cb-4f1e-8559-665e100423fe",
   "metadata": {},
   "outputs": [
    {
     "data": {
      "text/plain": [
       "110"
      ]
     },
     "execution_count": 3,
     "metadata": {},
     "output_type": "execute_result"
    }
   ],
   "source": [
    "a=10\n",
    "a+c"
   ]
  },
  {
   "cell_type": "code",
   "execution_count": 2,
   "id": "7dc52863-20e9-4ffc-b51b-980b40b44040",
   "metadata": {},
   "outputs": [],
   "source": [
    "c=100"
   ]
  },
  {
   "cell_type": "code",
   "execution_count": 4,
   "id": "e3899040-194e-41d7-b3f2-fede596d1217",
   "metadata": {},
   "outputs": [
    {
     "data": {
      "text/plain": [
       "100"
      ]
     },
     "execution_count": 4,
     "metadata": {},
     "output_type": "execute_result"
    }
   ],
   "source": [
    "a=100\n",
    "a"
   ]
  },
  {
   "cell_type": "code",
   "execution_count": 5,
   "id": "afeb3be2-2b50-43ec-aa0c-5b06b2453013",
   "metadata": {},
   "outputs": [
    {
     "data": {
      "text/plain": [
       "200"
      ]
     },
     "execution_count": 5,
     "metadata": {},
     "output_type": "execute_result"
    }
   ],
   "source": [
    "a=200\n",
    "a"
   ]
  },
  {
   "cell_type": "code",
   "execution_count": 6,
   "id": "cefbf8d1-c486-4ece-98a0-2b6a01854a21",
   "metadata": {},
   "outputs": [
    {
     "data": {
      "text/plain": [
       "200"
      ]
     },
     "execution_count": 6,
     "metadata": {},
     "output_type": "execute_result"
    }
   ],
   "source": [
    "a"
   ]
  },
  {
   "cell_type": "code",
   "execution_count": 7,
   "id": "c41b4a6e-7725-4b9f-8f92-36ef7bf23b4a",
   "metadata": {},
   "outputs": [
    {
     "ename": "SyntaxError",
     "evalue": "invalid syntax (1205005278.py, line 1)",
     "output_type": "error",
     "traceback": [
      "\u001b[1;36m  Cell \u001b[1;32mIn[7], line 1\u001b[1;36m\u001b[0m\n\u001b[1;33m    today im learning python\u001b[0m\n\u001b[1;37m          ^\u001b[0m\n\u001b[1;31mSyntaxError\u001b[0m\u001b[1;31m:\u001b[0m invalid syntax\n"
     ]
    }
   ],
   "source": [
    "today im learning python"
   ]
  },
  {
   "cell_type": "code",
   "execution_count": 8,
   "id": "145bd878-983c-4dc4-93c8-1721d051c34c",
   "metadata": {},
   "outputs": [
    {
     "ename": "NameError",
     "evalue": "name 'd' is not defined",
     "output_type": "error",
     "traceback": [
      "\u001b[1;31m---------------------------------------------------------------------------\u001b[0m",
      "\u001b[1;31mNameError\u001b[0m                                 Traceback (most recent call last)",
      "Cell \u001b[1;32mIn[8], line 2\u001b[0m\n\u001b[0;32m      1\u001b[0m a\u001b[38;5;241m=\u001b[39m\u001b[38;5;241m10\u001b[39m\n\u001b[1;32m----> 2\u001b[0m a\u001b[38;5;241m+\u001b[39md\n",
      "\u001b[1;31mNameError\u001b[0m: name 'd' is not defined"
     ]
    }
   ],
   "source": [
    "a=10\n",
    "a+d"
   ]
  },
  {
   "cell_type": "code",
   "execution_count": null,
   "id": "2a2fa2e4-e2d1-4b10-9460-1ee2c8257fed",
   "metadata": {},
   "outputs": [],
   "source": [
    "today im learning python\n",
    "\n",
    "im in code mode\n",
    "\n",
    "i need to change to markdown mode\n",
    "\n",
    "select the particular cell first\n",
    "\n",
    "then in the top"
   ]
  },
  {
   "cell_type": "markdown",
   "id": "83b42b57-c137-4d7d-9607-461389603c0a",
   "metadata": {},
   "source": [
    "- i like python\n",
    "\n",
    "- select the cell always\n",
    "\n",
    "- esc+m   code mode to mark down mode\n",
    "\n",
    "- esc+y  markdown mode to code mode\n",
    "\n",
    "- shift+enter\n",
    "\n",
    "- square bracket indicates code mode\n",
    "\n",
    "- when we are in markdown mode square brackets will not appear\n",
    "\n",
    "- blue color bar indicates the corresponding cell selected"
   ]
  },
  {
   "cell_type": "markdown",
   "id": "2a581d64-5100-421e-97cf-aa265f95ef3b",
   "metadata": {},
   "source": [
    "###### Python\n",
    "\n",
    "- when we use # symobol in code mode it behave as comment\n",
    "\n",
    "- when we use the same in markdown mode it behave s title"
   ]
  },
  {
   "cell_type": "markdown",
   "id": "5bc83064-a257-4dfe-85ba-6c258169f92a",
   "metadata": {},
   "source": [
    "Akila"
   ]
  },
  {
   "cell_type": "markdown",
   "id": "479e0936-fcd9-421f-a73f-be17679f2bc9",
   "metadata": {},
   "source": [
    "# Python"
   ]
  },
  {
   "cell_type": "markdown",
   "id": "2e10a9fb-4e7c-4a13-9ea7-1d0e572b8925",
   "metadata": {},
   "source": [
    "# Python\n",
    "\n",
    "5 #"
   ]
  },
  {
   "cell_type": "code",
   "execution_count": null,
   "id": "ac4d6558-c293-49e1-8b0e-9d1a529d8a8b",
   "metadata": {},
   "outputs": [],
   "source": [
    "all are demos  the videos are there\n",
    "you go through that any issue just ping me"
   ]
  },
  {
   "cell_type": "code",
   "execution_count": null,
   "id": "50c4d6aa-25e6-4a9f-a411-cb312d619e7e",
   "metadata": {},
   "outputs": [],
   "source": [
    "- Now we will start the impute image\n",
    "\n",
    "- It will work only for some people\n",
    "\n",
    "- Follow the instructions\n",
    "\n"
   ]
  },
  {
   "cell_type": "markdown",
   "id": "3874c59f-7795-4c4e-a3f5-c884337f8a0c",
   "metadata": {},
   "source": [
    "<img id=\"dimg_ZwwZZ7vPEb2Q4-EPlJ-6sQ0_299\" src=\"data:image/jpeg;base64,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\" class=\"YQ4gaf\" height=\"160\" style=\"object-position:55% 40%\" width=\"314\" alt=\"future programming language ...\" data-csiid=\"ZwwZZ7vPEb2Q4-EPlJ-6sQ0_22\" data-atf=\"1\">"
   ]
  },
  {
   "cell_type": "markdown",
   "id": "8e098a6f-c901-404d-b22c-a714d76dd1c9",
   "metadata": {},
   "source": [
    "<img id=\"dimg_ZwwZZ7vPEb2Q4-EPlJ-6sQ0_299\" src=\"data:image/jpeg;base64,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\" class=\"YQ4gaf\" height=\"160\" style=\"object-position:55% 40%\" width=\"314\" alt=\"future programming language ...\" data-csiid=\"ZwwZZ7vPEb2Q4-EPlJ-6sQ0_22\" data-atf=\"1\">"
   ]
  },
  {
   "cell_type": "code",
   "execution_count": null,
   "id": "99262baa-4c4b-49ae-8992-bd279a158eec",
   "metadata": {},
   "outputs": [],
   "source": [
    "CTRL+A\n",
    "CTRL+C\n",
    "CTRL+V\n",
    "esc+m\n",
    "shift+enter\n",
    "\n",
    "\n",
    "you developed a code\n",
    "whenever you handover code to clinet\n",
    "we will write a documnation\n",
    "\n",
    "you can write the information\n",
    "you can write the code\n",
    "you can append formulae\n",
    "\n",
    "\n",
    "but we can appedn the images using python"
   ]
  },
  {
   "cell_type": "code",
   "execution_count": null,
   "id": "d8590dea-174e-4cc8-8760-dbc098673f14",
   "metadata": {},
   "outputs": [],
   "source": [
    "tomorrow link will change\n",
    "please contact to syam sir\n",
    "\n",
    "fill the google class room form\n",
    "\n",
    "variable \n",
    "data type"
   ]
  }
 ],
 "metadata": {
  "kernelspec": {
   "display_name": "Python 3 (ipykernel)",
   "language": "python",
   "name": "python3"
  },
  "language_info": {
   "codemirror_mode": {
    "name": "ipython",
    "version": 3
   },
   "file_extension": ".py",
   "mimetype": "text/x-python",
   "name": "python",
   "nbconvert_exporter": "python",
   "pygments_lexer": "ipython3",
   "version": "3.11.7"
  }
 },
 "nbformat": 4,
 "nbformat_minor": 5
}
