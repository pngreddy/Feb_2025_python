{
 "cells": [
  {
   "cell_type": "code",
   "execution_count": null,
   "id": "28183473-8807-4b62-9c6f-ed6a38ae4ee4",
   "metadata": {},
   "outputs": [],
   "source": [
    "Method-1: [output forloop]\n",
    "Method-2: [if_output forloop ifcond]\n",
    "Method-3: [ifoutput ifcond else elseoutput forloop]\n",
    "Method-4: [ifoutput ifcond else ifoutput ifcond else elseoutput forloop]"
   ]
  },
  {
   "cell_type": "code",
   "execution_count": 1,
   "id": "62fccb3a-bf47-4269-b503-4bd66aed5a19",
   "metadata": {},
   "outputs": [
    {
     "data": {
      "text/plain": [
       "100"
      ]
     },
     "execution_count": 1,
     "metadata": {},
     "output_type": "execute_result"
    }
   ],
   "source": [
    "def mul(a):\n",
    "    return(a*a)\n",
    "\n",
    "ans=mul(10)\n",
    "ans"
   ]
  },
  {
   "cell_type": "markdown",
   "id": "9c2db00b-5f7c-4352-bb39-92571c907635",
   "metadata": {},
   "source": [
    "- lambda is a keyword used to write functions in a single line\n",
    "\n",
    "- in list comprehension we will write in single line\n",
    "\n",
    "- it is same analogy\n",
    "\n",
    "- it will reduce the time complexity"
   ]
  },
  {
   "cell_type": "markdown",
   "id": "cc418a4f-709d-4068-9012-7064c4181e7b",
   "metadata": {},
   "source": [
    "$pattern-1$\n",
    "\n",
    "- function with one argument\n"
   ]
  },
  {
   "cell_type": "code",
   "execution_count": null,
   "id": "8730ea62-bb1b-4d09-b757-882c1f0abcaf",
   "metadata": {},
   "outputs": [],
   "source": [
    "# syntax\n",
    "\n",
    "# function name= lambda <argument name>:<return output>\n",
    "# in above \n",
    "# function name : mul\n",
    "# argument name : a\n",
    "# return output : a*a"
   ]
  },
  {
   "cell_type": "code",
   "execution_count": 6,
   "id": "f7f297e2-f86d-4d27-8b4c-640aa952e41c",
   "metadata": {},
   "outputs": [
    {
     "data": {
      "text/plain": [
       "1000000"
      ]
     },
     "execution_count": 6,
     "metadata": {},
     "output_type": "execute_result"
    }
   ],
   "source": [
    "mul= lambda a : a*a \n",
    "mul(1000)"
   ]
  },
  {
   "cell_type": "code",
   "execution_count": 3,
   "id": "3d004a95-f6dd-47a5-92d5-3554ff153577",
   "metadata": {},
   "outputs": [
    {
     "data": {
      "text/plain": [
       "<function __main__.mul1(a)>"
      ]
     },
     "execution_count": 3,
     "metadata": {},
     "output_type": "execute_result"
    }
   ],
   "source": [
    "def mul1(a):\n",
    "    return(a*a)\n",
    "\n",
    "mul1(10)"
   ]
  },
  {
   "cell_type": "code",
   "execution_count": 7,
   "id": "2bae5381-057b-4706-b07d-24eff213d6c7",
   "metadata": {},
   "outputs": [
    {
     "data": {
      "text/plain": [
       "1000"
      ]
     },
     "execution_count": 7,
     "metadata": {},
     "output_type": "execute_result"
    }
   ],
   "source": [
    "def cube(x):\n",
    "    return(x**3)\n",
    "cube(10) "
   ]
  },
  {
   "cell_type": "code",
   "execution_count": 8,
   "id": "9a8772ea-e1be-48e9-8b6d-37457a589dbd",
   "metadata": {},
   "outputs": [
    {
     "data": {
      "text/plain": [
       "8000"
      ]
     },
     "execution_count": 8,
     "metadata": {},
     "output_type": "execute_result"
    }
   ],
   "source": [
    "cub1= lambda x:x**3\n",
    "cub1(20)"
   ]
  },
  {
   "cell_type": "markdown",
   "id": "cc37c22a-c6fa-4ead-b338-519a6a454867",
   "metadata": {},
   "source": [
    "$pattern-2$\n",
    "\n",
    "- function with two arguments\n",
    "\n"
   ]
  },
  {
   "cell_type": "code",
   "execution_count": 9,
   "id": "31bd3450-1a0d-413d-8ee2-2dd800c396ac",
   "metadata": {},
   "outputs": [],
   "source": [
    "# syntax\n",
    "# <function name>= lambda <arg1>,<arg2>: return(output)\n"
   ]
  },
  {
   "cell_type": "code",
   "execution_count": 11,
   "id": "de71c14c-a3c6-46b1-ad6e-0d2bdc1580ee",
   "metadata": {},
   "outputs": [
    {
     "data": {
      "text/plain": [
       "300"
      ]
     },
     "execution_count": 11,
     "metadata": {},
     "output_type": "execute_result"
    }
   ],
   "source": [
    "def add(a,b):\n",
    "    return(a+b)\n",
    "add(100,200)"
   ]
  },
  {
   "cell_type": "code",
   "execution_count": 12,
   "id": "fdf09e8d-5172-4ed5-93d0-4b6c9f8b318f",
   "metadata": {},
   "outputs": [
    {
     "data": {
      "text/plain": [
       "120"
      ]
     },
     "execution_count": 12,
     "metadata": {},
     "output_type": "execute_result"
    }
   ],
   "source": [
    "add1=lambda x,y:x+y\n",
    "add1(100,20)"
   ]
  },
  {
   "cell_type": "code",
   "execution_count": 19,
   "id": "9fbc547c-7814-4a9d-a26b-75a349d040f5",
   "metadata": {},
   "outputs": [
    {
     "data": {
      "text/plain": [
       "19.33"
      ]
     },
     "execution_count": 19,
     "metadata": {},
     "output_type": "execute_result"
    }
   ],
   "source": [
    "def avg(a,b,c):\n",
    "    return(round((a+b+c)/3,2))\n",
    "avg(10,22,26)"
   ]
  },
  {
   "cell_type": "code",
   "execution_count": 20,
   "id": "617c4f30-fe3f-43d2-832c-73ceb53a3f0a",
   "metadata": {},
   "outputs": [
    {
     "data": {
      "text/plain": [
       "19.333"
      ]
     },
     "execution_count": 20,
     "metadata": {},
     "output_type": "execute_result"
    }
   ],
   "source": [
    "avg1= lambda a,b,c : round((a+b+c)/3,3)\n",
    "avg1(10,22,26)"
   ]
  },
  {
   "cell_type": "code",
   "execution_count": 21,
   "id": "4dbf0f2b-5508-477f-8e8b-c9cfb5e3ae2c",
   "metadata": {},
   "outputs": [
    {
     "data": {
      "text/plain": [
       "20.0"
      ]
     },
     "execution_count": 21,
     "metadata": {},
     "output_type": "execute_result"
    }
   ],
   "source": [
    "avg=lambda a,b,c:(a+b+c)/3\n",
    "avg(10,20,30)"
   ]
  },
  {
   "cell_type": "markdown",
   "id": "c25ead43-dc83-419b-89c2-1db906a0433b",
   "metadata": {},
   "source": [
    "$pattern-3$\n",
    "\n",
    "**default argument**"
   ]
  },
  {
   "cell_type": "code",
   "execution_count": 22,
   "id": "47e506e7-3957-4df2-8258-b858b7156046",
   "metadata": {},
   "outputs": [
    {
     "data": {
      "text/plain": [
       "209.667"
      ]
     },
     "execution_count": 22,
     "metadata": {},
     "output_type": "execute_result"
    }
   ],
   "source": [
    "avg2= lambda a,b,c=500 : round((a+b+c)/3,3)\n",
    "avg2(100,29)"
   ]
  },
  {
   "cell_type": "markdown",
   "id": "6cf3aa90-7fbb-4120-a4eb-7a6678b144cd",
   "metadata": {},
   "source": [
    "$pattern-4$\n",
    "\n",
    "- if else"
   ]
  },
  {
   "cell_type": "code",
   "execution_count": 23,
   "id": "b7379fa9-30a8-4973-bf89-472c19038fb7",
   "metadata": {},
   "outputs": [
    {
     "data": {
      "text/plain": [
       "20"
      ]
     },
     "execution_count": 23,
     "metadata": {},
     "output_type": "execute_result"
    }
   ],
   "source": [
    "def max(a,b):\n",
    "    if a>b:\n",
    "        return(a)\n",
    "    else:\n",
    "        return(b)\n",
    "max(10,20)"
   ]
  },
  {
   "cell_type": "code",
   "execution_count": null,
   "id": "2ef8fad2-3161-4d38-afd9-7968e54a8a81",
   "metadata": {},
   "outputs": [],
   "source": [
    "# syntax\n",
    "# function name= lambda <arg1>,<arg2>: <if output> <if cond> else <elseoutput>"
   ]
  },
  {
   "cell_type": "code",
   "execution_count": 25,
   "id": "9cdb2f9c-2b08-40eb-b128-795189e6bb58",
   "metadata": {},
   "outputs": [
    {
     "data": {
      "text/plain": [
       "125"
      ]
     },
     "execution_count": 25,
     "metadata": {},
     "output_type": "execute_result"
    }
   ],
   "source": [
    "maximum= lambda a,b: a if a>b else b\n",
    "maximum(100,125)"
   ]
  },
  {
   "cell_type": "markdown",
   "id": "43adfa33-8281-4117-a392-3c85c249af67",
   "metadata": {},
   "source": [
    "$pattern-5$\n",
    "\n",
    "- List cases "
   ]
  },
  {
   "cell_type": "code",
   "execution_count": 26,
   "id": "88698e64-8225-421a-bbe2-69631ae953ca",
   "metadata": {},
   "outputs": [
    {
     "data": {
      "text/plain": [
       "['Hyd', 'Mumbai', 'Pune']"
      ]
     },
     "execution_count": 26,
     "metadata": {},
     "output_type": "execute_result"
    }
   ],
   "source": [
    "list1=['hyd','mumbai','pune']\n",
    "# ans= ['Hyd','Mumbai','Pune']\n",
    "ans=[]\n",
    "for i in list1:\n",
    "    ans.append(i.capitalize())\n",
    "ans\n"
   ]
  },
  {
   "cell_type": "code",
   "execution_count": 1,
   "id": "9e5e2f48-e249-4509-a4e2-acae13ec3ece",
   "metadata": {},
   "outputs": [
    {
     "data": {
      "text/plain": [
       "<function __main__.<lambda>(i)>"
      ]
     },
     "execution_count": 1,
     "metadata": {},
     "output_type": "execute_result"
    }
   ],
   "source": [
    "#lambda <variable>: <op>\n",
    "lambda i : i.capitalize()"
   ]
  },
  {
   "cell_type": "code",
   "execution_count": 27,
   "id": "d1e5917f-3a6b-4c64-93e5-087e79793a10",
   "metadata": {},
   "outputs": [
    {
     "data": {
      "text/plain": [
       "<function __main__.<lambda>(i)>"
      ]
     },
     "execution_count": 27,
     "metadata": {},
     "output_type": "execute_result"
    }
   ],
   "source": [
    "lambda i : i.capitalize()"
   ]
  },
  {
   "cell_type": "code",
   "execution_count": null,
   "id": "2350578b-23fd-458f-8823-992da9d7fbf6",
   "metadata": {},
   "outputs": [],
   "source": [
    "lambda <variable>: <op>,<iterator>"
   ]
  },
  {
   "cell_type": "code",
   "execution_count": 28,
   "id": "7f0bf294-4657-49ad-8e64-7521ae2dc7e4",
   "metadata": {},
   "outputs": [
    {
     "data": {
      "text/plain": [
       "(<function __main__.<lambda>(i)>, ['hyd', 'mumbai', 'pune'])"
      ]
     },
     "execution_count": 28,
     "metadata": {},
     "output_type": "execute_result"
    }
   ],
   "source": [
    "lambda i : i.capitalize(),list1"
   ]
  },
  {
   "cell_type": "code",
   "execution_count": 29,
   "id": "a2ed29a3-22e7-44ed-a43c-ce9994108373",
   "metadata": {},
   "outputs": [
    {
     "data": {
      "text/plain": [
       "(<function __main__.<lambda>(i)>, ['hyd', 'mumbai', 'pune'])"
      ]
     },
     "execution_count": 29,
     "metadata": {},
     "output_type": "execute_result"
    }
   ],
   "source": [
    "# step-1: lambda <variable>: <op>\n",
    "lambda i : i.capitalize()\n",
    "# step-2: lambda <variable>: <op>,<iterator>\n",
    "lambda i : i.capitalize(),list1"
   ]
  },
  {
   "cell_type": "markdown",
   "id": "163aef75-46c9-46c3-ad8e-cd64b767905b",
   "metadata": {},
   "source": [
    "**map**\n",
    "\n",
    "- map is used to combine the function and iterator\n"
   ]
  },
  {
   "cell_type": "code",
   "execution_count": 30,
   "id": "20a1fe1d-33de-4911-b145-3f498ece8173",
   "metadata": {},
   "outputs": [
    {
     "data": {
      "text/plain": [
       "<map at 0x1b667d5b940>"
      ]
     },
     "execution_count": 30,
     "metadata": {},
     "output_type": "execute_result"
    }
   ],
   "source": [
    "# step-3:\n",
    "# map(lambda <variable>: <op>,<iterator>)\n",
    "map(lambda i:i.capitalize(),list1)"
   ]
  },
  {
   "cell_type": "code",
   "execution_count": 31,
   "id": "437f6c71-5eb9-4274-8f9e-0eada7d71091",
   "metadata": {},
   "outputs": [
    {
     "data": {
      "text/plain": [
       "['Hyd', 'Mumbai', 'Pune']"
      ]
     },
     "execution_count": 31,
     "metadata": {},
     "output_type": "execute_result"
    }
   ],
   "source": [
    "# step-4: when we apply the output will store at address\n",
    "# so apply the list or tuple to see the answer\n",
    "# list(map(lambda <variable>: <op>,<iterator>))\n",
    "list(map(lambda i:i.capitalize(),list1))"
   ]
  },
  {
   "cell_type": "code",
   "execution_count": 32,
   "id": "7d8adbd5-ddf2-498e-890a-d943c962cc07",
   "metadata": {},
   "outputs": [
    {
     "data": {
      "text/plain": [
       "('Hyd', 'Mumbai', 'Pune')"
      ]
     },
     "execution_count": 32,
     "metadata": {},
     "output_type": "execute_result"
    }
   ],
   "source": [
    "tuple(map(lambda i:i.capitalize(),list1))"
   ]
  },
  {
   "cell_type": "code",
   "execution_count": null,
   "id": "c638f016-b807-4ef0-ad74-ba4a20ff9dfd",
   "metadata": {},
   "outputs": [],
   "source": [
    "# step-1: lambda <variable>: <op>\n",
    "# step-2: lambda <variable>: <op>,<iteartor>\n",
    "# step-3: map(lambda <variable>: <op>,<iteartor>)\n",
    "# step-4: list(map(lambda <variable>: <op>,<iteartor>))"
   ]
  },
  {
   "cell_type": "code",
   "execution_count": 33,
   "id": "3337be1e-0520-4c05-8a17-e4af7ea70be2",
   "metadata": {},
   "outputs": [
    {
     "data": {
      "text/plain": [
       "['Hyd', 'Mumbai', 'Pune']"
      ]
     },
     "execution_count": 33,
     "metadata": {},
     "output_type": "execute_result"
    }
   ],
   "source": [
    "lambda i : i.capitalize()\n",
    "lambda i : i.capitalize(),list1\n",
    "map(lambda i : i.capitalize(),list1)\n",
    "list(map(lambda i : i.capitalize(),list1))"
   ]
  },
  {
   "cell_type": "code",
   "execution_count": null,
   "id": "3648a057-824d-48d0-9aff-b5ad50f2e669",
   "metadata": {},
   "outputs": [],
   "source": [
    "#  l1=['hyd','chennai','mumbai','pune']\n",
    "#     ans=['HYD','CHENNAI','MUMBAI','PUNE']\n",
    "\n",
    "#   l1=['hyd','chennai','mumbai','pune']\n",
    "#     ans=[0,10,20,30]\n",
    "\n",
    "# str1= 'hello hai how are you'\n",
    "#    ans=['Hello','Hai','How','Are','You']\n",
    "\n",
    "\n",
    "#  l1=['hyd','chen#ai','mu#bai','pune']\n",
    "#     ans=['chen#ai','mu#bai']\n",
    "\n",
    "#  l1=['hyd','chen#ai','mu#bai','pune']\n",
    "#     ans=['hyd','pune']\n",
    "\n"
   ]
  },
  {
   "cell_type": "code",
   "execution_count": 34,
   "id": "2901cdbb-bc65-433b-b59d-fa0058eaa9ee",
   "metadata": {},
   "outputs": [
    {
     "data": {
      "text/plain": [
       "['HYD', 'CHENNAI', 'MUMBAI', 'PUNE']"
      ]
     },
     "execution_count": 34,
     "metadata": {},
     "output_type": "execute_result"
    }
   ],
   "source": [
    "#  l1=['hyd','chennai','mumbai','pune']\n",
    "#     ans=['HYD','CHENNAI','MUMBAI','PUNE']\n",
    "l1=['hyd','chennai','mumbai','pune']\n",
    "ans=list(map(lambda i : i.upper(),l1))\n",
    "ans"
   ]
  },
  {
   "cell_type": "code",
   "execution_count": 35,
   "id": "c96b4ca2-cfce-4ab8-8915-abba03ae7ad4",
   "metadata": {},
   "outputs": [
    {
     "data": {
      "text/plain": [
       "[0, 10, 20, 30]"
      ]
     },
     "execution_count": 35,
     "metadata": {},
     "output_type": "execute_result"
    }
   ],
   "source": [
    "#   l1=['hyd','chennai','mumbai','pune']\n",
    "#     ans=[0,10,20,30]\n",
    "l1=['hyd','chennai','mumbai','pune']\n",
    "ans=list(map(lambda i : l1.index(i)*10,l1))\n",
    "ans"
   ]
  },
  {
   "cell_type": "code",
   "execution_count": 37,
   "id": "04ae7965-28f2-4b5a-9b77-731e3aee83d0",
   "metadata": {},
   "outputs": [
    {
     "data": {
      "text/plain": [
       "['Hello', 'Hai', 'How', 'Are', 'You']"
      ]
     },
     "execution_count": 37,
     "metadata": {},
     "output_type": "execute_result"
    }
   ],
   "source": [
    "# str1= 'hello hai how are you'\n",
    "#    ans=['Hello','Hai','How','Are','You']\n",
    "str1= 'hello hai how are you'\n",
    "ans=list(map(lambda i : i.title(),str1.split()))\n",
    "ans"
   ]
  },
  {
   "cell_type": "code",
   "execution_count": 38,
   "id": "d729dc22-4ba5-4dab-9690-211953b092f8",
   "metadata": {},
   "outputs": [
    {
     "data": {
      "text/plain": [
       "['chen#ai', 'mu#bai']"
      ]
     },
     "execution_count": 38,
     "metadata": {},
     "output_type": "execute_result"
    }
   ],
   "source": [
    "#  l1=['hyd','chen#ai','mu#bai','pune']\n",
    "#     ans=['chen#ai','mu#bai']\n",
    "l1=['hyd','chen#ai','mu#bai','pune']\n",
    "ans=[]\n",
    "for i in l1:\n",
    "    if '#' in i:\n",
    "        ans.append(i)\n",
    "ans"
   ]
  },
  {
   "cell_type": "code",
   "execution_count": null,
   "id": "77a2fd41-9502-4339-a2b2-aa5c34d52f5e",
   "metadata": {},
   "outputs": [],
   "source": [
    "lambda <variable> : <condition>\n",
    "# dont write if\n",
    "# dont write i"
   ]
  },
  {
   "cell_type": "code",
   "execution_count": 44,
   "id": "73219f9b-2829-4362-b38f-54e458ad6482",
   "metadata": {},
   "outputs": [
    {
     "data": {
      "text/plain": [
       "[False, True, True, False]"
      ]
     },
     "execution_count": 44,
     "metadata": {},
     "output_type": "execute_result"
    }
   ],
   "source": [
    "l1=['hyd','chen#ai','mu#bai','pune']\n",
    "list(map(lambda i:'#' in i,l1))"
   ]
  },
  {
   "cell_type": "markdown",
   "id": "01e94357-5ded-4c50-ab75-1331952a07fb",
   "metadata": {},
   "source": [
    "**filter**\n",
    "\n",
    "- whenever condition statements\n",
    "\n",
    "- which means we are filtering the answers based on condition\n",
    "\n",
    "- map will give boolean outputs, True or False\n",
    "\n",
    "- True answers we can see by applying filter only"
   ]
  },
  {
   "cell_type": "code",
   "execution_count": 45,
   "id": "b77a070e-58b5-4589-8366-9be33b918ff3",
   "metadata": {},
   "outputs": [
    {
     "data": {
      "text/plain": [
       "['chen#ai', 'mu#bai']"
      ]
     },
     "execution_count": 45,
     "metadata": {},
     "output_type": "execute_result"
    }
   ],
   "source": [
    "l1=['hyd','chen#ai','mu#bai','pune']\n",
    "list(filter(lambda i:'#' in i,l1))"
   ]
  },
  {
   "cell_type": "code",
   "execution_count": null,
   "id": "d5a91857-9acd-4d4b-9484-76fac81be6fe",
   "metadata": {},
   "outputs": [],
   "source": [
    "# mistake-1:  [dont write if]\n",
    "# list(filter(lambda i:if '#' in i,l1))\n",
    "\n",
    "# mistake-2: [dont write the output i]\n",
    "# list(filter(lambda i:i if '#' in i,l1))"
   ]
  },
  {
   "cell_type": "code",
   "execution_count": 46,
   "id": "c11896e6-184e-40c1-8e3e-2a6d75e93452",
   "metadata": {},
   "outputs": [
    {
     "name": "stdout",
     "output_type": "stream",
     "text": [
      "15\n"
     ]
    }
   ],
   "source": [
    "l1=[1,2,3,4,5]\n",
    "summ=0\n",
    "for i in l1:\n",
    "    summ=summ+i\n",
    "print(summ)"
   ]
  },
  {
   "cell_type": "markdown",
   "id": "3f95e295-c4b3-4a2f-94fb-be9e5907a0e1",
   "metadata": {},
   "source": [
    "**reduce**\n",
    "\n",
    "- reduce is a method to write all inbulit functions using lambda method\n",
    "\n",
    "- it is avilable in a package called **func tools**\n",
    "\n",
    "- Level-1: reduce(lambda sum,i : sum+i,list1)\n",
    "\n",
    "- Level-2: reduce(lambda sum,i : sum+i,list1,value)\n",
    "\n",
    "- in level-1 by defulat sum=0\n",
    "\n",
    "- in level-2 the sum starts with some value"
   ]
  },
  {
   "cell_type": "code",
   "execution_count": 47,
   "id": "e68c1695-0a6d-4199-a037-ba68224b9e95",
   "metadata": {},
   "outputs": [],
   "source": [
    "import functools"
   ]
  },
  {
   "cell_type": "code",
   "execution_count": 48,
   "id": "cd737771-ac28-47af-8756-058724180113",
   "metadata": {},
   "outputs": [
    {
     "data": {
      "text/plain": [
       "['GenericAlias',\n",
       " 'RLock',\n",
       " 'WRAPPER_ASSIGNMENTS',\n",
       " 'WRAPPER_UPDATES',\n",
       " '_CacheInfo',\n",
       " '_HashedSeq',\n",
       " '_NOT_FOUND',\n",
       " '__all__',\n",
       " '__builtins__',\n",
       " '__cached__',\n",
       " '__doc__',\n",
       " '__file__',\n",
       " '__loader__',\n",
       " '__name__',\n",
       " '__package__',\n",
       " '__spec__',\n",
       " '_c3_merge',\n",
       " '_c3_mro',\n",
       " '_compose_mro',\n",
       " '_convert',\n",
       " '_find_impl',\n",
       " '_ge_from_gt',\n",
       " '_ge_from_le',\n",
       " '_ge_from_lt',\n",
       " '_gt_from_ge',\n",
       " '_gt_from_le',\n",
       " '_gt_from_lt',\n",
       " '_initial_missing',\n",
       " '_le_from_ge',\n",
       " '_le_from_gt',\n",
       " '_le_from_lt',\n",
       " '_lru_cache_wrapper',\n",
       " '_lt_from_ge',\n",
       " '_lt_from_gt',\n",
       " '_lt_from_le',\n",
       " '_make_key',\n",
       " '_unwrap_partial',\n",
       " 'cache',\n",
       " 'cached_property',\n",
       " 'cmp_to_key',\n",
       " 'get_cache_token',\n",
       " 'lru_cache',\n",
       " 'namedtuple',\n",
       " 'partial',\n",
       " 'partialmethod',\n",
       " 'recursive_repr',\n",
       " 'reduce',\n",
       " 'singledispatch',\n",
       " 'singledispatchmethod',\n",
       " 'total_ordering',\n",
       " 'update_wrapper',\n",
       " 'wraps']"
      ]
     },
     "execution_count": 48,
     "metadata": {},
     "output_type": "execute_result"
    }
   ],
   "source": [
    "dir(functools)"
   ]
  },
  {
   "cell_type": "code",
   "execution_count": 49,
   "id": "8dcde427-09f2-4b27-826b-95c5e2efe8ae",
   "metadata": {},
   "outputs": [
    {
     "data": {
      "text/plain": [
       "15"
      ]
     },
     "execution_count": 49,
     "metadata": {},
     "output_type": "execute_result"
    }
   ],
   "source": [
    "import functools\n",
    "list1=[1,2,3,4,5]\n",
    "functools.reduce(lambda summ,i: summ+i,list1)\n"
   ]
  },
  {
   "cell_type": "code",
   "execution_count": 50,
   "id": "eb071b02-e8db-4297-88f4-679e6ad16b93",
   "metadata": {},
   "outputs": [
    {
     "data": {
      "text/plain": [
       "215"
      ]
     },
     "execution_count": 50,
     "metadata": {},
     "output_type": "execute_result"
    }
   ],
   "source": [
    "import functools\n",
    "list1=[1,2,3,4,5]\n",
    "functools.reduce(lambda summ,i: summ+i,list1,200)"
   ]
  },
  {
   "cell_type": "code",
   "execution_count": 51,
   "id": "ad8068ea-e38a-4ac3-8dfe-210adce4b55e",
   "metadata": {},
   "outputs": [
    {
     "data": {
      "text/plain": [
       "120"
      ]
     },
     "execution_count": 51,
     "metadata": {},
     "output_type": "execute_result"
    }
   ],
   "source": [
    "import functools\n",
    "list1=[1,2,3,4,5]\n",
    "functools.reduce(lambda val,i: val*i,list1)"
   ]
  },
  {
   "cell_type": "code",
   "execution_count": null,
   "id": "c4a57d96-89df-4604-8fd4-49c36cece569",
   "metadata": {},
   "outputs": [],
   "source": [
    "import functools\n",
    "list1=[1,2,3,4,5]\n",
    "functools.reduce(lambda summ,i: summ+i,list1)\n",
    "\n",
    "from functools import reduce\n",
    "list1=[1,2,3,4,5]\n",
    "reduce(lambda summ,i: summ+i,list1)\n",
    "\n",
    "import functools as ft\n",
    "list1=[1,2,3,4,5]\n",
    "ft.reduce(lambda summ,i: summ+i,list1)"
   ]
  },
  {
   "cell_type": "code",
   "execution_count": 54,
   "id": "4c3c4e4d-573a-4340-ad69-2125a55848cb",
   "metadata": {},
   "outputs": [
    {
     "data": {
      "text/plain": [
       "<module 'functools' from 'C:\\\\Users\\\\omkar\\\\anaconda3\\\\Lib\\\\functools.py'>"
      ]
     },
     "execution_count": 54,
     "metadata": {},
     "output_type": "execute_result"
    }
   ],
   "source": [
    "import functools\n",
    "functools"
   ]
  },
  {
   "cell_type": "code",
   "execution_count": null,
   "id": "79e0e194-4e6f-4015-b3dc-364264db0953",
   "metadata": {},
   "outputs": [],
   "source": [
    "lambda <variable>:<op>\n",
    "lambda <variable>: <if op> <if con> else <else>\n",
    "map(lambda <variable>: <op>,iterator)\n",
    "filter(lambda <variable>: <con>,<iterator>)\n",
    "reduce(lambda <var1>,<var2>: var1+var2,<iterator>)"
   ]
  }
 ],
 "metadata": {
  "kernelspec": {
   "display_name": "Python 3 (ipykernel)",
   "language": "python",
   "name": "python3"
  },
  "language_info": {
   "codemirror_mode": {
    "name": "ipython",
    "version": 3
   },
   "file_extension": ".py",
   "mimetype": "text/x-python",
   "name": "python",
   "nbconvert_exporter": "python",
   "pygments_lexer": "ipython3",
   "version": "3.12.7"
  }
 },
 "nbformat": 4,
 "nbformat_minor": 5
}
