{
 "cells": [
  {
   "cell_type": "markdown",
   "id": "16ec1c73-c854-4c9b-9e66-992b0d35f14a",
   "metadata": {},
   "source": [
    "- List comprehension is a way to write the code line in a single line\n",
    "\n",
    "- whenever we use for loops and if conditions the time will be increase\n",
    "\n",
    "- list comprehension will able to write for loop and if condition in a single line\n",
    "\n",
    "- which reduce the time to get the output "
   ]
  },
  {
   "cell_type": "code",
   "execution_count": 1,
   "id": "3f8577f7-9e4f-4899-b29f-a5aadda58da4",
   "metadata": {},
   "outputs": [
    {
     "name": "stdout",
     "output_type": "stream",
     "text": [
      "0 1 2 3 4 5 6 7 8 9 "
     ]
    }
   ],
   "source": [
    "for i in range(10):\n",
    "    print(i,end=' ')"
   ]
  },
  {
   "cell_type": "code",
   "execution_count": 2,
   "id": "381ae394-4c79-4159-a79d-a402b32d8dbe",
   "metadata": {},
   "outputs": [
    {
     "data": {
      "text/plain": [
       "[0, 1, 2, 3, 4, 5, 6, 7, 8, 9]"
      ]
     },
     "execution_count": 2,
     "metadata": {},
     "output_type": "execute_result"
    }
   ],
   "source": [
    "list1=[]\n",
    "for i in range(10):\n",
    "    list1.append(i)\n",
    "list1"
   ]
  },
  {
   "cell_type": "markdown",
   "id": "fd354fe0-7727-4b19-98a6-591722ae61f1",
   "metadata": {},
   "source": [
    "**Method-1: Only for loop**"
   ]
  },
  {
   "cell_type": "code",
   "execution_count": null,
   "id": "c8f276aa-fb50-49c4-b60b-bd38d4b7a6f6",
   "metadata": {},
   "outputs": [],
   "source": [
    "#list1=[<code here>]\n",
    "#list1=[<output> <for loop>]"
   ]
  },
  {
   "cell_type": "code",
   "execution_count": 3,
   "id": "488fdb7a-e70b-4819-ac55-72b35e95c782",
   "metadata": {},
   "outputs": [
    {
     "data": {
      "text/plain": [
       "[0, 1, 2, 3, 4, 5, 6, 7, 8, 9]"
      ]
     },
     "execution_count": 3,
     "metadata": {},
     "output_type": "execute_result"
    }
   ],
   "source": [
    "list1=[i for i in range(10)]\n",
    "list1"
   ]
  },
  {
   "cell_type": "code",
   "execution_count": null,
   "id": "55083600-222d-4f79-924d-3470c0bc15f8",
   "metadata": {},
   "outputs": [],
   "source": [
    "# Q1)  l1=['hyd','chennai','mumbai','pune']\n",
    "#     ans=['Hyd','Chennai','Mumabi','Pune']\n",
    "\n",
    "#Q2)  l1=['hyd','chennai','mumbai','pune']\n",
    "#     ans=['HYD','CHENNAI','MUMBAI','PUNE']\n",
    "\n",
    "#Q3)  l1=['hyd','chennai','mumbai','pune']\n",
    "#     ans=[0,10,20,30]  multiply index with 10\n",
    "\n",
    "#Q4)  l1=['hyd','chennai','mumbai','pune']\n",
    "#     ans=[6]  sum of the indexes"
   ]
  },
  {
   "cell_type": "code",
   "execution_count": 6,
   "id": "0bc58e2f-4426-43c2-9e18-661721dac6ae",
   "metadata": {},
   "outputs": [],
   "source": [
    "# Q1)  l1=['hyd','chennai','mumbai','pune']\n",
    "#     ans=['Hyd','Chennai','Mumabi','Pune']\n",
    "\n",
    "l1=['hyd','chennai','mumbai','pune']\n",
    "ans=[]\n",
    "for i in l1:\n",
    "    ans.append(i.capitalize())"
   ]
  },
  {
   "cell_type": "code",
   "execution_count": 7,
   "id": "76d1a434-1f39-4e1c-97a8-21b15d63baea",
   "metadata": {},
   "outputs": [
    {
     "data": {
      "text/plain": [
       "['Hyd', 'Chennai', 'Mumbai', 'Pune']"
      ]
     },
     "execution_count": 7,
     "metadata": {},
     "output_type": "execute_result"
    }
   ],
   "source": [
    "l1=['hyd','chennai','mumbai','pune']\n",
    "ans=[i.capitalize() for i in l1]\n",
    "ans"
   ]
  },
  {
   "cell_type": "code",
   "execution_count": 8,
   "id": "b4902b3b-a32e-4607-aaa6-326ff3b8f200",
   "metadata": {},
   "outputs": [
    {
     "data": {
      "text/plain": [
       "['Hyd', 'Chennai', 'Mumbai', 'Pune']"
      ]
     },
     "execution_count": 8,
     "metadata": {},
     "output_type": "execute_result"
    }
   ],
   "source": [
    "ans=[i.capitalize() for i in ['hyd','chennai','mumbai','pune']]\n",
    "ans"
   ]
  },
  {
   "cell_type": "code",
   "execution_count": 10,
   "id": "61a38010-4661-49f0-b696-c2111071f12b",
   "metadata": {},
   "outputs": [
    {
     "data": {
      "text/plain": [
       "['HYD', 'CHENNAI', 'MUMBAI', 'PUNE']"
      ]
     },
     "execution_count": 10,
     "metadata": {},
     "output_type": "execute_result"
    }
   ],
   "source": [
    "#Q2)  l1=['hyd','chennai','mumbai','pune']\n",
    "#     ans=['HYD','CHENNAI','MUMBAI','PUNE']\n",
    "l1=['hyd','chennai','mumbai','pune']\n",
    "ans=[]\n",
    "for i in l1:\n",
    "    ans.append(i.upper())\n",
    "ans"
   ]
  },
  {
   "cell_type": "code",
   "execution_count": 11,
   "id": "a045fb9f-2711-4f79-bd10-d1723bc889fa",
   "metadata": {},
   "outputs": [
    {
     "data": {
      "text/plain": [
       "['HYD', 'CHENNAI', 'MUMBAI', 'PUNE']"
      ]
     },
     "execution_count": 11,
     "metadata": {},
     "output_type": "execute_result"
    }
   ],
   "source": [
    "l1=['hyd','chennai','mumbai','pune']\n",
    "ans=[i.upper() for i in l1]\n",
    "ans"
   ]
  },
  {
   "cell_type": "code",
   "execution_count": 18,
   "id": "a339f80e-7da1-4b63-9fc3-4b80f64cff7f",
   "metadata": {},
   "outputs": [
    {
     "data": {
      "text/plain": [
       "[0, 10, 20, 30]"
      ]
     },
     "execution_count": 18,
     "metadata": {},
     "output_type": "execute_result"
    }
   ],
   "source": [
    "#Q3)  l1=['hyd','chennai','mumbai','pune']\n",
    "#     ans=[0,10,20,30]  multiply index with 10\n",
    "l1=['hyd','chennai','mumbai','pune']\n",
    "#    0       1        2        3\n",
    "ans=[]\n",
    "for i in l1:\n",
    "    ans.append(l1.index(i)*10)\n",
    "ans"
   ]
  },
  {
   "cell_type": "code",
   "execution_count": 19,
   "id": "e4f18781-166b-481a-aa3d-1d0a8e5fadce",
   "metadata": {},
   "outputs": [
    {
     "data": {
      "text/plain": [
       "[0, 10, 20, 30]"
      ]
     },
     "execution_count": 19,
     "metadata": {},
     "output_type": "execute_result"
    }
   ],
   "source": [
    "ans=[l1.index(i)*10 for i in l1]\n",
    "ans"
   ]
  },
  {
   "cell_type": "code",
   "execution_count": 11,
   "id": "3d429727-74a2-4283-a5a3-31afe4e21a3b",
   "metadata": {},
   "outputs": [
    {
     "data": {
      "text/plain": [
       "6"
      ]
     },
     "execution_count": 11,
     "metadata": {},
     "output_type": "execute_result"
    }
   ],
   "source": [
    "#Q4)  l1=['hyd','chennai','mumbai','pune']\n",
    "#    ans=[6]  sum of the indexes\n",
    "l1=['hyd','chennai','mumbai','pune']\n",
    "#summ=0\n",
    "ans=[l1.index(i) for i in l1]\n",
    "sum(ans)"
   ]
  },
  {
   "cell_type": "code",
   "execution_count": 16,
   "id": "61069400-a47f-4aee-a1c4-c5edd2b44974",
   "metadata": {},
   "outputs": [
    {
     "name": "stdout",
     "output_type": "stream",
     "text": [
      "6\n"
     ]
    }
   ],
   "source": [
    "summ=0\n",
    "for i in l1:\n",
    "    summ=summ+l1.index(i)\n",
    "    #summ+=l1.index(i)\n",
    "print(summ)"
   ]
  },
  {
   "cell_type": "code",
   "execution_count": 18,
   "id": "60071488-4e40-4cc1-90e9-51d772b29e30",
   "metadata": {},
   "outputs": [
    {
     "data": {
      "text/plain": [
       "[0, 1, 2, 3]"
      ]
     },
     "execution_count": 18,
     "metadata": {},
     "output_type": "execute_result"
    }
   ],
   "source": [
    "l1=['hyd','chennai','mumbai','pune']\n",
    "summ=0\n",
    "ans=[i for i in range(len(l1))]\n",
    "ans"
   ]
  },
  {
   "cell_type": "markdown",
   "id": "fbfa051b-979c-48f5-a401-09a6ec481e63",
   "metadata": {},
   "source": [
    "**Method-2**\n",
    "\n",
    "- for loop with if condition"
   ]
  },
  {
   "cell_type": "code",
   "execution_count": 38,
   "id": "fdd01773-a573-4a40-8217-f5166324ef00",
   "metadata": {},
   "outputs": [
    {
     "data": {
      "text/plain": [
       "['chen#ai', 'mu#bai']"
      ]
     },
     "execution_count": 38,
     "metadata": {},
     "output_type": "execute_result"
    }
   ],
   "source": [
    "#Q6)  l1=['hyd','chen#ai','mu#bai','pune']\n",
    "#     ans=['chen#ai','mu#bai']\n",
    "\n",
    "l1=['hyd','chen#ai','mu#bai','pune']\n",
    "ans=[]\n",
    "for i in l1:\n",
    "    if '#' in i:\n",
    "        ans.append(i)\n",
    "\n",
    "ans"
   ]
  },
  {
   "cell_type": "code",
   "execution_count": 39,
   "id": "9e9c31b1-4694-4540-8e9b-0345c9547dec",
   "metadata": {},
   "outputs": [
    {
     "ename": "SyntaxError",
     "evalue": "expected 'else' after 'if' expression (1016266204.py, line 4)",
     "output_type": "error",
     "traceback": [
      "\u001b[1;36m  Cell \u001b[1;32mIn[39], line 4\u001b[1;36m\u001b[0m\n\u001b[1;33m    [i if '#' in i for i in l1]\u001b[0m\n\u001b[1;37m     ^\u001b[0m\n\u001b[1;31mSyntaxError\u001b[0m\u001b[1;31m:\u001b[0m expected 'else' after 'if' expression\n"
     ]
    }
   ],
   "source": [
    "#[<output> <forloop>]\n",
    "#[<output> <if condition> <forloop>]\n",
    "\n",
    "[i if '#' in i for i in l1]"
   ]
  },
  {
   "cell_type": "code",
   "execution_count": 40,
   "id": "3c4dafdd-2f18-418f-a95d-cdb8ee605c78",
   "metadata": {},
   "outputs": [
    {
     "data": {
      "text/plain": [
       "['chen#ai', 'mu#bai']"
      ]
     },
     "execution_count": 40,
     "metadata": {},
     "output_type": "execute_result"
    }
   ],
   "source": [
    "[i for i in l1 if '#' in i]"
   ]
  },
  {
   "cell_type": "code",
   "execution_count": null,
   "id": "ec31529a-1f4f-4a2e-9777-a561739da142",
   "metadata": {},
   "outputs": [],
   "source": [
    "#[<output> <for loop> <if condition>]"
   ]
  },
  {
   "cell_type": "code",
   "execution_count": null,
   "id": "43b803a0-e64b-4b04-8632-f70e5c793f12",
   "metadata": {},
   "outputs": [],
   "source": [
    "\n",
    "#Q7)  l1=['hyd','chen#ai','mu#bai','pune']\n",
    "#     ans=['hyd','pune']\n",
    "\n",
    "# Q3) dont give if and else\n",
    "#    write two answers both will use if only\n",
    "#   evenlist=[<write your code here>]\n",
    "#   oddlist=[<write your code here>]\n",
    "#  list1=[100,20,27,38,47,52,87]\n",
    "# using this we need to extract even and odd numbers\n",
    "# even_list=[20.38,52,100] the output should be sorted\n",
    "# odd_list=[27,47,38,87] the output should be sorted"
   ]
  },
  {
   "cell_type": "code",
   "execution_count": 42,
   "id": "ed30ee99-389d-4496-9a31-1e3e190d5a4f",
   "metadata": {},
   "outputs": [
    {
     "data": {
      "text/plain": [
       "([100, 20, 38, 52], [27, 47, 87])"
      ]
     },
     "execution_count": 42,
     "metadata": {},
     "output_type": "execute_result"
    }
   ],
   "source": [
    "list1=[100,20,27,38,47,52,87]\n",
    "even_list=[i for i in list1 if i%2==0]\n",
    "odd_list=[i for i in list1 if i%2!=0]\n",
    "even_list,odd_list"
   ]
  },
  {
   "cell_type": "markdown",
   "id": "234f1090-0f05-4433-842e-f47b5cb17ae2",
   "metadata": {},
   "source": [
    "**Method-3: for loop - if -else**"
   ]
  },
  {
   "cell_type": "code",
   "execution_count": null,
   "id": "c5a68d3e-13dc-48ac-9a7d-edb88a50546e",
   "metadata": {},
   "outputs": [],
   "source": [
    "method-1: for loop [<output> <forloop>]\n",
    "method-2: for loop-if [<output> <forloop> <if condtion>]\n",
    "method-3: for-if-else: [<if output> <if condition> else <else output> <forloop> ]\n"
   ]
  },
  {
   "cell_type": "code",
   "execution_count": 44,
   "id": "303e4c22-ed18-45ec-aa6c-085b0aca327c",
   "metadata": {},
   "outputs": [
    {
     "data": {
      "text/plain": [
       "['even:100', 'even:20', 'odd:27', 'even:38', 'odd:47', 'even:52', 'odd:87']"
      ]
     },
     "execution_count": 44,
     "metadata": {},
     "output_type": "execute_result"
    }
   ],
   "source": [
    "list1=[100,20,27,38,47,52,87]\n",
    "[f'even:{i}' if i%2==0 else f'odd:{i}' for i in list1]"
   ]
  },
  {
   "cell_type": "code",
   "execution_count": null,
   "id": "ed5e7e68-594a-4441-b46a-b93c364b7f6e",
   "metadata": {},
   "outputs": [],
   "source": [
    "l=[45,76,89,53,67,90,82,49,33,99]\n",
    "# 1. filter the students who pass marks>=50\n",
    "# 2. calculate grades of all students\n",
    "#        A: 85+, B: 70-84  C : 50-69  D:<50\n",
    "#        4 lists will come\n",
    "# 3. Add 5 grace marks to students who failed <50\n",
    "# 4. find the average marks of the class"
   ]
  },
  {
   "cell_type": "code",
   "execution_count": 45,
   "id": "2d8db3c7-441e-4061-8d1e-4006818bc3a4",
   "metadata": {},
   "outputs": [
    {
     "data": {
      "text/plain": [
       "[76, 89, 53, 67, 90, 82, 99]"
      ]
     },
     "execution_count": 45,
     "metadata": {},
     "output_type": "execute_result"
    }
   ],
   "source": [
    "l=[45,76,89,53,67,90,82,49,33,99]\n",
    "# 1. filter the students who pass marks>=50\n",
    "[i for i in l if i>=50]"
   ]
  },
  {
   "cell_type": "code",
   "execution_count": 47,
   "id": "77bd33ac-e33c-4b3a-beef-2015a228677d",
   "metadata": {},
   "outputs": [
    {
     "data": {
      "text/plain": [
       "['D:45',\n",
       " 'B:76',\n",
       " 'A:89',\n",
       " 'C:53',\n",
       " 'C:67',\n",
       " 'A:90',\n",
       " 'B:82',\n",
       " 'D:49',\n",
       " 'D:33',\n",
       " 'A:99']"
      ]
     },
     "execution_count": 47,
     "metadata": {},
     "output_type": "execute_result"
    }
   ],
   "source": [
    "# 2. calculate grades of all students\n",
    "#        A: 85+, B: 70-84  C : 50-69  D:<50\n",
    "grade_list=[]\n",
    "for i in l:\n",
    "    if i>85:\n",
    "        grade_list.append(f'A:{i}')\n",
    "    elif i>=70:\n",
    "        grade_list.append(f'B:{i}')\n",
    "    elif i>=50:\n",
    "        grade_list.append(f'C:{i}')\n",
    "    else:\n",
    "        grade_list.append(f'D:{i}')\n",
    "grade_list"
   ]
  },
  {
   "cell_type": "code",
   "execution_count": null,
   "id": "e64ed614-d7cd-4291-bbd6-0b00ee2ec36d",
   "metadata": {},
   "outputs": [],
   "source": [
    "**Method-4: for if elif else**\n",
    "\n",
    "- there is no elif in list comprehension\n",
    "\n",
    "- elif also we can write : else+if\n",
    "\n",
    "- method-3: [<if output> <if cond> else <elseoutput>]\n",
    "\n",
    "- method-4: [<if output> <if cond> else <elif out> <elif con> else <elseoutut> <forloop>]"
   ]
  },
  {
   "cell_type": "code",
   "execution_count": 48,
   "id": "64bc588b-9196-4215-86f9-401251e7dc3d",
   "metadata": {},
   "outputs": [
    {
     "data": {
      "text/plain": [
       "['C:45',\n",
       " 'B:76',\n",
       " 'A:89',\n",
       " 'C:53',\n",
       " 'C:67',\n",
       " 'A:90',\n",
       " 'B:82',\n",
       " 'C:49',\n",
       " 'C:33',\n",
       " 'A:99']"
      ]
     },
     "execution_count": 48,
     "metadata": {},
     "output_type": "execute_result"
    }
   ],
   "source": [
    "grade_list=[]\n",
    "for i in l:\n",
    "    if i>85:\n",
    "        grade_list.append(f'A:{i}')\n",
    "    elif i>=70:\n",
    "        grade_list.append(f'B:{i}')\n",
    "    else:\n",
    "        grade_list.append(f'C:{i}')\n",
    "grade_list\n",
    "\n",
    "f'A{i}' if i>=85\n",
    "else f'B:{i}' if i>=70  :  else+if = elif\n",
    "else f'C:{i}' if i>=50  : else+if=elif\n",
    "else f'D:{i}'\n",
    "\n",
    "[f'A:{i}' if i>85 else f'B:{i}' if i>=70 else  f'C:{i}' for i in l]"
   ]
  },
  {
   "cell_type": "code",
   "execution_count": null,
   "id": "d0cc6236-2cc0-4707-ae84-e2b320c04806",
   "metadata": {},
   "outputs": [],
   "source": [
    "method-1: for loop [<output> <forloop>]\n",
    "method-2: for loop-if [<output> <forloop> <if condtion>]\n",
    "method-3: for-if-else: [<if output> <if condition> else <else output> <forloop> ]\n",
    "method-4: [<if output> <if cond> else <elif output> <elif cond> else <elseoutput> <forloop>]"
   ]
  },
  {
   "cell_type": "code",
   "execution_count": 50,
   "id": "247a7b80-9ded-4d7e-a617-0fd7d9ba9913",
   "metadata": {},
   "outputs": [
    {
     "data": {
      "text/plain": [
       "68.3"
      ]
     },
     "execution_count": 50,
     "metadata": {},
     "output_type": "execute_result"
    }
   ],
   "source": [
    "l=[45,76,89,53,67,90,82,49,33,99]\n",
    "sum(l)/len(l)"
   ]
  },
  {
   "cell_type": "code",
   "execution_count": 51,
   "id": "ea6e4d74-be4b-406a-869c-f20bcd01ddf7",
   "metadata": {},
   "outputs": [
    {
     "name": "stdout",
     "output_type": "stream",
     "text": [
      "683\n",
      "avg: 68.3\n"
     ]
    }
   ],
   "source": [
    "summ=0\n",
    "for i in l:\n",
    "    summ=summ+i\n",
    "print(summ)\n",
    "print('avg:',summ/len(l))"
   ]
  },
  {
   "cell_type": "markdown",
   "id": "1d277676-3895-4241-b65d-b1813a4fe489",
   "metadata": {},
   "source": [
    "**walrus operator**\n",
    "\n",
    "- in list comprehension = will not work\n",
    "\n",
    "- if you want to write equal to (=)  , then will use walrus operator :="
   ]
  },
  {
   "cell_type": "code",
   "execution_count": 56,
   "id": "b581686e-e664-412c-aba0-691801a8b608",
   "metadata": {},
   "outputs": [
    {
     "data": {
      "text/plain": [
       "68.3"
      ]
     },
     "execution_count": 56,
     "metadata": {},
     "output_type": "execute_result"
    }
   ],
   "source": [
    "total=0\n",
    "ans=[total:=total+i for i in l]\n",
    "total/len(ans)"
   ]
  },
  {
   "cell_type": "code",
   "execution_count": null,
   "id": "333587dc-8b22-4514-8b72-59e3c32e5774",
   "metadata": {},
   "outputs": [],
   "source": []
  }
 ],
 "metadata": {
  "kernelspec": {
   "display_name": "Python 3 (ipykernel)",
   "language": "python",
   "name": "python3"
  },
  "language_info": {
   "codemirror_mode": {
    "name": "ipython",
    "version": 3
   },
   "file_extension": ".py",
   "mimetype": "text/x-python",
   "name": "python",
   "nbconvert_exporter": "python",
   "pygments_lexer": "ipython3",
   "version": "3.12.7"
  }
 },
 "nbformat": 4,
 "nbformat_minor": 5
}
