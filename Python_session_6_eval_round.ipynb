{
 "cells": [
  {
   "cell_type": "markdown",
   "id": "3f6b0225-9ccc-4628-b1eb-7978f99210c3",
   "metadata": {},
   "source": [
    "- Generally if you observe any application\n",
    "\n",
    "- user will provide the values\n",
    "\n",
    "- backend some programming language will work\n",
    "\n",
    "- if any code the values we give is called **Hard Code**\n",
    "\n",
    "- always the code should be generic\n",
    "\n",
    "- in python the user can provide the values from keybaord using **input**"
   ]
  },
  {
   "cell_type": "code",
   "execution_count": 2,
   "id": "be41f896-9397-4522-b075-9543e32e5c1c",
   "metadata": {},
   "outputs": [
    {
     "name": "stdin",
     "output_type": "stream",
     "text": [
      " 30\n"
     ]
    },
    {
     "data": {
      "text/plain": [
       "'30'"
      ]
     },
     "execution_count": 2,
     "metadata": {},
     "output_type": "execute_result"
    }
   ],
   "source": [
    "input()"
   ]
  },
  {
   "cell_type": "code",
   "execution_count": null,
   "id": "534c40dd-8243-4929-a787-0d0bb5a321a2",
   "metadata": {},
   "outputs": [],
   "source": [
    "a=10"
   ]
  },
  {
   "cell_type": "code",
   "execution_count": 3,
   "id": "4171d232-e819-456b-b074-18f6a35989b0",
   "metadata": {},
   "outputs": [
    {
     "name": "stdin",
     "output_type": "stream",
     "text": [
      " 20\n",
      " 30\n",
      " done\n"
     ]
    },
    {
     "data": {
      "text/plain": [
       "'done'"
      ]
     },
     "execution_count": 3,
     "metadata": {},
     "output_type": "execute_result"
    }
   ],
   "source": [
    "input()\n",
    "input()\n",
    "input()"
   ]
  },
  {
   "cell_type": "code",
   "execution_count": 5,
   "id": "55536736-ea46-4077-970e-27193160f583",
   "metadata": {},
   "outputs": [
    {
     "name": "stdin",
     "output_type": "stream",
     "text": [
      " python\n"
     ]
    },
    {
     "data": {
      "text/plain": [
       "'python'"
      ]
     },
     "execution_count": 5,
     "metadata": {},
     "output_type": "execute_result"
    }
   ],
   "source": [
    "input()"
   ]
  },
  {
   "cell_type": "code",
   "execution_count": 7,
   "id": "fd24f20a-dd3c-4cda-849f-4aa22dca6e50",
   "metadata": {},
   "outputs": [
    {
     "name": "stdin",
     "output_type": "stream",
     "text": [
      "enter a number1: 30\n"
     ]
    },
    {
     "data": {
      "text/plain": [
       "'30'"
      ]
     },
     "execution_count": 7,
     "metadata": {},
     "output_type": "execute_result"
    }
   ],
   "source": [
    "input('enter a number1:')"
   ]
  },
  {
   "cell_type": "code",
   "execution_count": 8,
   "id": "5589d3f1-c8bf-4a0d-8203-bf0d8dae0512",
   "metadata": {},
   "outputs": [
    {
     "name": "stdin",
     "output_type": "stream",
     "text": [
      "enter your name: python\n",
      "enter age: 10\n",
      "enter city: hyd\n"
     ]
    },
    {
     "data": {
      "text/plain": [
       "'hyd'"
      ]
     },
     "execution_count": 8,
     "metadata": {},
     "output_type": "execute_result"
    }
   ],
   "source": [
    "input('enter your name:')\n",
    "input('enter age:')\n",
    "input('enter city:')"
   ]
  },
  {
   "cell_type": "code",
   "execution_count": 9,
   "id": "e228f9ce-1923-41a9-a0da-fb853f52e144",
   "metadata": {},
   "outputs": [
    {
     "data": {
      "text/plain": [
       "'hyd'"
      ]
     },
     "execution_count": 9,
     "metadata": {},
     "output_type": "execute_result"
    }
   ],
   "source": [
    "'python'\n",
    "10\n",
    "'hyd'"
   ]
  },
  {
   "cell_type": "code",
   "execution_count": 10,
   "id": "d18c08ca-ee59-4a7c-9592-d228e46ae277",
   "metadata": {},
   "outputs": [
    {
     "data": {
      "text/plain": [
       "30"
      ]
     },
     "execution_count": 10,
     "metadata": {},
     "output_type": "execute_result"
    }
   ],
   "source": [
    "a=10\n",
    "b=20\n",
    "a+b"
   ]
  },
  {
   "cell_type": "code",
   "execution_count": 11,
   "id": "9ddbcd6b-a177-48e1-95b9-73d073fb55b0",
   "metadata": {},
   "outputs": [
    {
     "name": "stdin",
     "output_type": "stream",
     "text": [
      "enter value1: 100\n",
      "enter value2: 200\n"
     ]
    },
    {
     "data": {
      "text/plain": [
       "'100200'"
      ]
     },
     "execution_count": 11,
     "metadata": {},
     "output_type": "execute_result"
    }
   ],
   "source": [
    "a=input('enter value1:')  #  a='100'\n",
    "b=input('enter value2:')  # b='200'\n",
    "a+b  #  '100'+'200'='100200'"
   ]
  },
  {
   "cell_type": "code",
   "execution_count": 12,
   "id": "70dc1131-224c-4e99-afff-00399d678baa",
   "metadata": {},
   "outputs": [
    {
     "name": "stdin",
     "output_type": "stream",
     "text": [
      "enter value1: 100\n",
      "enter value2: 200\n"
     ]
    },
    {
     "data": {
      "text/plain": [
       "300"
      ]
     },
     "execution_count": 12,
     "metadata": {},
     "output_type": "execute_result"
    }
   ],
   "source": [
    "a=int(input('enter value1:'))  #  a=int('100')=100\n",
    "b=int(input('enter value2:'))  # b=int('200')=200\n",
    "a+b  #  100+200=300"
   ]
  },
  {
   "cell_type": "code",
   "execution_count": 1,
   "id": "2566a347-b25f-4f37-b216-7fe922ebedef",
   "metadata": {},
   "outputs": [
    {
     "name": "stdin",
     "output_type": "stream",
     "text": [
      "enter a value: 100\n"
     ]
    },
    {
     "data": {
      "text/plain": [
       "'100'"
      ]
     },
     "execution_count": 1,
     "metadata": {},
     "output_type": "execute_result"
    }
   ],
   "source": [
    "input(\"enter a value:\")"
   ]
  },
  {
   "cell_type": "code",
   "execution_count": 2,
   "id": "99f9c2b7-9134-47d3-a894-d476a1610ef3",
   "metadata": {},
   "outputs": [
    {
     "name": "stdin",
     "output_type": "stream",
     "text": [
      " python\n"
     ]
    },
    {
     "data": {
      "text/plain": [
       "'python'"
      ]
     },
     "execution_count": 2,
     "metadata": {},
     "output_type": "execute_result"
    }
   ],
   "source": [
    "input()"
   ]
  },
  {
   "cell_type": "code",
   "execution_count": 4,
   "id": "0a662584-5f9f-46cb-beed-869d7fb70f80",
   "metadata": {},
   "outputs": [
    {
     "data": {
      "text/plain": [
       "300"
      ]
     },
     "execution_count": 4,
     "metadata": {},
     "output_type": "execute_result"
    }
   ],
   "source": [
    "int('100')+int('200')"
   ]
  },
  {
   "cell_type": "code",
   "execution_count": 5,
   "id": "a6ae16ff-497e-4a94-8917-a97e642e8262",
   "metadata": {},
   "outputs": [
    {
     "data": {
      "text/plain": [
       "'100200'"
      ]
     },
     "execution_count": 5,
     "metadata": {},
     "output_type": "execute_result"
    }
   ],
   "source": [
    "'100'+'200'"
   ]
  },
  {
   "cell_type": "code",
   "execution_count": 7,
   "id": "ae51b786-c682-452f-85c2-6771a7fa75a0",
   "metadata": {},
   "outputs": [
    {
     "name": "stdin",
     "output_type": "stream",
     "text": [
      "enter a number1: 100\n",
      "enter a number2: 200\n"
     ]
    },
    {
     "data": {
      "text/plain": [
       "300"
      ]
     },
     "execution_count": 7,
     "metadata": {},
     "output_type": "execute_result"
    }
   ],
   "source": [
    "n1=int(input(\"enter a number1:\"))  # n1=int('100')=100\n",
    "n2=int(input(\"enter a number2:\")) # n2=int('200')=200\n",
    "n1+n2 # 100+200=300"
   ]
  },
  {
   "cell_type": "code",
   "execution_count": 9,
   "id": "1384581c-943a-44cb-a110-cea218950a04",
   "metadata": {},
   "outputs": [
    {
     "name": "stdin",
     "output_type": "stream",
     "text": [
      "enter the n1: 100\n",
      "enter the n2: 200\n"
     ]
    },
    {
     "data": {
      "text/plain": [
       "300"
      ]
     },
     "execution_count": 9,
     "metadata": {},
     "output_type": "execute_result"
    }
   ],
   "source": [
    "n1=input(\"enter the n1:\")\n",
    "n2=input('enter the n2:')\n",
    "add=int(n1)+int(n2)  # add= int('100')+int('200')=100+200\n",
    "add\n"
   ]
  },
  {
   "cell_type": "code",
   "execution_count": null,
   "id": "fdca982f-df5e-4a07-a7cb-3bf6e8a52764",
   "metadata": {},
   "outputs": [],
   "source": [
    "n1=int(input(\"enter a number1:\"))  # n1=int('100')=100\n",
    "n2=int(input(\"enter a number2:\")) # n2=int('200')=200\n",
    "n1+n2 # 100+200=300\n",
    "##################################################\n",
    "n1=input(\"enter the n1:\")\n",
    "n2=input('enter the n2:')\n",
    "add=int(n1)+int(n2)  # add= int('100')+int('200')=100+200\n",
    "add\n"
   ]
  },
  {
   "cell_type": "code",
   "execution_count": 11,
   "id": "2135b653-1808-4da7-8230-f85881e27749",
   "metadata": {},
   "outputs": [
    {
     "name": "stdin",
     "output_type": "stream",
     "text": [
      " 100.5\n"
     ]
    },
    {
     "data": {
      "text/plain": [
       "100.5"
      ]
     },
     "execution_count": 11,
     "metadata": {},
     "output_type": "execute_result"
    }
   ],
   "source": [
    "n1=float(input())\n",
    "n2=int(input())"
   ]
  },
  {
   "cell_type": "code",
   "execution_count": 12,
   "id": "47a2a87b-2207-4879-b83e-01f9a340b1d0",
   "metadata": {},
   "outputs": [
    {
     "name": "stdin",
     "output_type": "stream",
     "text": [
      " 100.4\n"
     ]
    },
    {
     "ename": "ValueError",
     "evalue": "invalid literal for int() with base 10: '100.4'",
     "output_type": "error",
     "traceback": [
      "\u001b[1;31m---------------------------------------------------------------------------\u001b[0m",
      "\u001b[1;31mValueError\u001b[0m                                Traceback (most recent call last)",
      "Cell \u001b[1;32mIn[12], line 1\u001b[0m\n\u001b[1;32m----> 1\u001b[0m \u001b[38;5;28mint\u001b[39m(\u001b[38;5;28minput\u001b[39m())\n",
      "\u001b[1;31mValueError\u001b[0m: invalid literal for int() with base 10: '100.4'"
     ]
    }
   ],
   "source": [
    "int(input())"
   ]
  },
  {
   "cell_type": "code",
   "execution_count": 15,
   "id": "89027ed0-a539-48e2-a4db-157e4a82d2de",
   "metadata": {},
   "outputs": [
    {
     "data": {
      "text/plain": [
       "10"
      ]
     },
     "execution_count": 15,
     "metadata": {},
     "output_type": "execute_result"
    }
   ],
   "source": [
    "float('10')\n",
    "float('10.5')\n",
    "int('10')\n",
    "int('10.5')# Fail"
   ]
  },
  {
   "cell_type": "code",
   "execution_count": 17,
   "id": "ebd392e7-36c5-4b89-95d5-167e2b2d09dd",
   "metadata": {},
   "outputs": [
    {
     "name": "stdin",
     "output_type": "stream",
     "text": [
      "enter n1: 100\n",
      "enter n2: 100\n"
     ]
    },
    {
     "data": {
      "text/plain": [
       "200.0"
      ]
     },
     "execution_count": 17,
     "metadata": {},
     "output_type": "execute_result"
    }
   ],
   "source": [
    "# it will works fine\n",
    "n1= float(input('enter n1:'))\n",
    "n2= float(input('enter n2:'))\n",
    "n1+n2"
   ]
  },
  {
   "cell_type": "markdown",
   "id": "dcf12008-0cc3-4628-8150-56dbab58fbd7",
   "metadata": {},
   "source": [
    "**eval**\n",
    "\n",
    "- Whenever we listen about eval it represents math term **evaluate**\n",
    "\n",
    "- instead of focus on int and float every time \n",
    "\n",
    "- simply use **eval** conversion always\n",
    "\n",
    "- if you apply eval it will convert the value based on base data type\n",
    "\n",
    "- if user will provide the integer, it will convert into intger value\n",
    "\n",
    "- if user will provide the float, it will convert into float value\n",
    "\n",
    "- if user will provide the string, it will give the error"
   ]
  },
  {
   "cell_type": "code",
   "execution_count": 23,
   "id": "6d24c912-fb93-4ce5-b03c-45b1ce442d86",
   "metadata": {},
   "outputs": [
    {
     "name": "stdin",
     "output_type": "stream",
     "text": [
      "enter a number1: 100.5\n",
      "enter a number2: 200.5\n"
     ]
    },
    {
     "name": "stdout",
     "output_type": "stream",
     "text": [
      "the addition of 100.5 and 200.5 is 301.0\n"
     ]
    }
   ],
   "source": [
    "n1=eval(input(\"enter a number1:\"))\n",
    "n2=eval(input(\"enter a number2:\")) \n",
    "n3=eval(input(\"enter a number2:\")) \n",
    "(n1+n2+n3)/3\n",
    "print(f\"the addition of {n1} and {n2} is {n1+n2}\")"
   ]
  },
  {
   "cell_type": "markdown",
   "id": "31fabfe9-a137-4142-8aef-eb878fd14e6c",
   "metadata": {},
   "source": [
    "- error-1:  (  never closed\n",
    "\n",
    "  - you open the bracket, you forgot to close\n",
    "\n",
    "- error-2: unterminated string literal\n",
    "\n",
    "    - check at last of string the quotes provide or not"
   ]
  },
  {
   "cell_type": "code",
   "execution_count": null,
   "id": "e24e8cbc-7d02-47fd-9ed1-3cc609897a5b",
   "metadata": {},
   "outputs": [],
   "source": [
    "# wap ask the user take three numbers from keyboard and print average\n",
    "#        (n1+n2+n3)/3\n",
    "# Wap ask the user take the breadth and height from keyboard\n",
    "      # calculate area of right angle traingle\n",
    "      # Formula= 0.5*b*h\n",
    "\n",
    "# wap ask the take the radius from key board\n",
    "     # calculate the area of circle\n",
    "     #  Formuale = pi*r*r  pi=3.14\n",
    "\n",
    "# wap ask the user enter the bill amount \n",
    "      # ask the user provide how much tip amount he wants to give\n",
    "      # calculate the total bill\n",
    "\n",
    "# wap ask the user enter the bil amount\n",
    "     # ask the user how much tip percentage hw wants to give\n",
    "     # calculate the total bill"
   ]
  },
  {
   "cell_type": "code",
   "execution_count": 25,
   "id": "e0749205-54e7-44b8-9313-b9899ba07896",
   "metadata": {},
   "outputs": [
    {
     "name": "stdin",
     "output_type": "stream",
     "text": [
      "enter the n1: 1\n",
      "enter the n2: 11\n",
      "enter the n3: 47\n"
     ]
    },
    {
     "name": "stdout",
     "output_type": "stream",
     "text": [
      "the avg of 1,11 and 47 is 19.666666666666668\n"
     ]
    }
   ],
   "source": [
    "# wap ask the user take three numbers from keyboard and print average\n",
    "#        (n1+n2+n3)/3\n",
    "n1=eval(input(\"enter the n1:\"))\n",
    "n2=eval(input(\"enter the n2:\"))\n",
    "n3=eval(input(\"enter the n3:\"))\n",
    "avg=(n1+n2+n3)/3\n",
    "print(f\"the avg of {n1},{n2} and {n3} is {avg}\")"
   ]
  },
  {
   "cell_type": "markdown",
   "id": "8b4020a1-eac3-4384-ab94-b9d18af1eed3",
   "metadata": {},
   "source": [
    "**round**"
   ]
  },
  {
   "cell_type": "code",
   "execution_count": 27,
   "id": "47e22d17-c9ec-4302-bc08-c91830b587ac",
   "metadata": {},
   "outputs": [
    {
     "data": {
      "text/plain": [
       "10"
      ]
     },
     "execution_count": 27,
     "metadata": {},
     "output_type": "execute_result"
    }
   ],
   "source": [
    "eval('10.5')\n",
    "eval('10')\n",
    "\n",
    "# eval will convert string values to numbers\n",
    "# int()   float()   eval()"
   ]
  },
  {
   "cell_type": "code",
   "execution_count": 28,
   "id": "a92edcef-e6fa-4b0c-bec1-c7e6f178837b",
   "metadata": {},
   "outputs": [
    {
     "data": {
      "text/plain": [
       "20"
      ]
     },
     "execution_count": 28,
     "metadata": {},
     "output_type": "execute_result"
    }
   ],
   "source": [
    "round(19.666666)"
   ]
  },
  {
   "cell_type": "code",
   "execution_count": 34,
   "id": "2f1473ce-1e41-4996-96ba-26ea5dbeb6e4",
   "metadata": {},
   "outputs": [
    {
     "data": {
      "text/plain": [
       "19.667"
      ]
     },
     "execution_count": 34,
     "metadata": {},
     "output_type": "execute_result"
    }
   ],
   "source": [
    "round(19.666666,3)"
   ]
  },
  {
   "cell_type": "code",
   "execution_count": 35,
   "id": "95ecd8e4-0c63-4640-bed7-686ea7b887d7",
   "metadata": {},
   "outputs": [
    {
     "name": "stdin",
     "output_type": "stream",
     "text": [
      "enter the n1: 1\n",
      "enter the n2: 11\n",
      "enter the n3: 47\n"
     ]
    },
    {
     "name": "stdout",
     "output_type": "stream",
     "text": [
      "the avg of 1,11 and 47 is 19.67\n"
     ]
    }
   ],
   "source": [
    "n1=eval(input(\"enter the n1:\"))\n",
    "n2=eval(input(\"enter the n2:\"))\n",
    "n3=eval(input(\"enter the n3:\"))\n",
    "avg=(n1+n2+n3)/3\n",
    "avg1=round(avg,2)\n",
    "print(f\"the avg of {n1},{n2} and {n3} is {avg1}\")"
   ]
  },
  {
   "cell_type": "code",
   "execution_count": 37,
   "id": "300c083b-5a31-474a-a38b-5f1ac7484207",
   "metadata": {},
   "outputs": [
    {
     "data": {
      "text/plain": [
       "20.12"
      ]
     },
     "execution_count": 37,
     "metadata": {},
     "output_type": "execute_result"
    }
   ],
   "source": [
    "round(20.12345,2)"
   ]
  },
  {
   "cell_type": "code",
   "execution_count": null,
   "id": "7fd85552-278e-4c4f-bb93-f8e0e796a3ed",
   "metadata": {},
   "outputs": [],
   "source": [
    "n1=eval(input(\"enter the n1:\"))\n",
    "n2=eval(input(\"enter the n2:\"))\n",
    "n3=eval(input(\"enter the n3:\"))\n",
    "avg=round((n1+n2+n3)/3,2)\n",
    "\n",
    "print(f\"the avg of {n1},{n2} and {n3} is {avg1}\")"
   ]
  },
  {
   "cell_type": "code",
   "execution_count": null,
   "id": "e3822b13-d36b-4471-a299-2ef909ccff09",
   "metadata": {},
   "outputs": [],
   "source": [
    "avg=(n1+n2+n3)/3\n",
    "avg1=round(avg,2)\n",
    "\n",
    "avg=round((n1+n2+n3)/3,2)\n"
   ]
  },
  {
   "cell_type": "code",
   "execution_count": 38,
   "id": "a8429977-27de-44c3-9cfc-8180967193ae",
   "metadata": {},
   "outputs": [
    {
     "name": "stdin",
     "output_type": "stream",
     "text": [
      "enter the breadth: 20\n",
      "enter the height: 30\n"
     ]
    },
    {
     "name": "stdout",
     "output_type": "stream",
     "text": [
      "the area of circle is: 300.0\n"
     ]
    }
   ],
   "source": [
    "# Wap ask the user take the breadth and height from keyboard\n",
    "      # calculate area of right angle traingle\n",
    "      # Formula= 0.5*b*h\n",
    "\n",
    "breadth=eval(input(\"enter the breadth:\"))\n",
    "height=eval(input(\"enter the height:\"))\n",
    "area=0.5*breadth*height\n",
    "print(f\"the area of right angle traingle is: {area}\")"
   ]
  },
  {
   "cell_type": "code",
   "execution_count": 39,
   "id": "4a571722-4bc6-444e-822c-79ea1791db75",
   "metadata": {},
   "outputs": [
    {
     "name": "stdin",
     "output_type": "stream",
     "text": [
      "enter the radius 30\n"
     ]
    },
    {
     "name": "stdout",
     "output_type": "stream",
     "text": [
      "the area of circle is: 2826.0\n"
     ]
    }
   ],
   "source": [
    "# wap ask the take the radius from key board\n",
    "     # calculate the area of circle\n",
    "     #  Formuale = pi*r*r  pi=3.14\n",
    "\n",
    "radius= eval(input(\"enter the radius\"))\n",
    "pi=3.14\n",
    "area=pi*radius*radius\n",
    "print(f\"the area of circle is: {area}\")"
   ]
  },
  {
   "cell_type": "code",
   "execution_count": 40,
   "id": "6b4a5765-2ee9-459e-bb9d-510b634bd2f9",
   "metadata": {},
   "outputs": [
    {
     "name": "stdin",
     "output_type": "stream",
     "text": [
      "enter the bill amount: 1000\n",
      "Enter the tip amount: 200\n"
     ]
    },
    {
     "name": "stdout",
     "output_type": "stream",
     "text": [
      "the total bill is : 1200\n"
     ]
    }
   ],
   "source": [
    "# wap ask the user enter the bill amount \n",
    "      # ask the user provide how much tip amount he wants to give\n",
    "      # calculate the total bill\n",
    "\n",
    "bill_amount=eval(input(\"enter the bill amount:\"))\n",
    "tip_amount=eval(input(\"Enter the tip amount:\"))\n",
    "total_bill=bill_amount+tip_amount\n",
    "print(f\"the total bill is : {total_bill}\")"
   ]
  },
  {
   "cell_type": "code",
   "execution_count": 42,
   "id": "4ea5c356-847b-4886-92eb-d77ed2bf6deb",
   "metadata": {},
   "outputs": [
    {
     "name": "stdin",
     "output_type": "stream",
     "text": [
      "enter the bill amount: 1000\n",
      "Enter the tip per: 1\n"
     ]
    },
    {
     "name": "stdout",
     "output_type": "stream",
     "text": [
      "the total bill is : 1010.0\n"
     ]
    }
   ],
   "source": [
    "# wap ask the user enter the bill amount \n",
    "      # ask the user provide how much tip percentage he wants to give\n",
    "      # calculate the total bill\n",
    "\n",
    "bill_amount=eval(input(\"enter the bill amount:\"))\n",
    "tip_per=eval(input(\"Enter the tip per:\"))\n",
    "tip_amount=bill_amount*tip_per/100\n",
    "total_bill=bill_amount+tip_amount\n",
    "print(f\"the total bill is : {total_bill}\")"
   ]
  },
  {
   "cell_type": "code",
   "execution_count": 7,
   "id": "f9d3bef7-1f18-4243-85a1-de8066b06835",
   "metadata": {},
   "outputs": [
    {
     "name": "stdin",
     "output_type": "stream",
     "text": [
      "Father hey beta\n",
      "son: hai papa\n",
      "Father: I heared your results came out\n",
      "son: yes Dad\n",
      "Father: Great! how much percentage we got\n",
      "son: I will tell the sub marks you tell me the perc\n",
      "Father: Wow thats super game, lets starts\n",
      "enter the marks: 100\n",
      "enter the marks: 60\n",
      "enter the marks: 70\n",
      "enter the marks: 80\n",
      "enter the marks: 99\n",
      "enter the marks: 55\n"
     ]
    },
    {
     "ename": "NameError",
     "evalue": "name 'hind' is not defined",
     "output_type": "error",
     "traceback": [
      "\u001b[1;31m---------------------------------------------------------------------------\u001b[0m",
      "\u001b[1;31mNameError\u001b[0m                                 Traceback (most recent call last)",
      "Cell \u001b[1;32mIn[7], line 36\u001b[0m\n\u001b[0;32m     34\u001b[0m Science\u001b[38;5;241m=\u001b[39m\u001b[38;5;28meval\u001b[39m(\u001b[38;5;28minput\u001b[39m(\u001b[38;5;124m'\u001b[39m\u001b[38;5;124menter the marks:\u001b[39m\u001b[38;5;124m'\u001b[39m))\n\u001b[0;32m     35\u001b[0m Social\u001b[38;5;241m=\u001b[39m\u001b[38;5;28meval\u001b[39m(\u001b[38;5;28minput\u001b[39m(\u001b[38;5;124m'\u001b[39m\u001b[38;5;124menter the marks:\u001b[39m\u001b[38;5;124m'\u001b[39m))\n\u001b[1;32m---> 36\u001b[0m avg\u001b[38;5;241m=\u001b[39m(telugu\u001b[38;5;241m+\u001b[39mhind\u001b[38;5;241m+\u001b[39meng\u001b[38;5;241m+\u001b[39mMaths\u001b[38;5;241m+\u001b[39mScience\u001b[38;5;241m+\u001b[39mSocial)\u001b[38;5;241m/\u001b[39m\u001b[38;5;241m6\u001b[39m\n\u001b[0;32m     37\u001b[0m avg1\u001b[38;5;241m=\u001b[39m\u001b[38;5;28mround\u001b[39m(avg,\u001b[38;5;241m2\u001b[39m)\n\u001b[0;32m     38\u001b[0m \u001b[38;5;28mprint\u001b[39m(\u001b[38;5;124mf\u001b[39m\u001b[38;5;124m\"\u001b[39m\u001b[38;5;124mthe percentage of marks is:\u001b[39m\u001b[38;5;132;01m{\u001b[39;00mavg1\u001b[38;5;132;01m}\u001b[39;00m\u001b[38;5;124m\"\u001b[39m)\n",
      "\u001b[1;31mNameError\u001b[0m: name 'hind' is not defined"
     ]
    }
   ],
   "source": [
    "# father and son \n",
    "# son has written the exam\n",
    "# the results got out\n",
    "# father percentage of marks to the son\n",
    "# so son says dad i will give the marks\n",
    "# you calculate percentage\n",
    "\n",
    "# Father: hey beta\n",
    "# son: hai papa\n",
    "# Father: I heared your results came out\n",
    "# son : yes Dad\n",
    "# Father : Great! how much percentage we got\n",
    "# son: I will tell the sub marks you tell me the perc\n",
    "# F: Wow thats super game, lets starts\n",
    "# Telugu = eval(input())\n",
    "# Hindi\n",
    "# eng\n",
    "# Maths\n",
    "# Sc\n",
    "# Social\n",
    "# Avg = (Telugu+Hindi+Eng+Sc+Soc)/6\n",
    "\n",
    "input('Father')\n",
    "input('son:')\n",
    "input('Father:')\n",
    "input('son:')\n",
    "input('Father:')\n",
    "input('son:')\n",
    "input('Father:')\n",
    "telugu=eval(input('enter the marks:'))\n",
    "hindi=eval(input('enter the marks:'))\n",
    "eng=eval(input('enter the marks:'))\n",
    "Maths=eval(input('enter the marks:'))\n",
    "Science=eval(input('enter the marks:'))\n",
    "Social=eval(input('enter the marks:'))\n",
    "avg=(telugu+hindi+eng+Maths+Science+Social)/6\n",
    "avg1=round(avg,2)\n",
    "print(f\"the percentage of marks is:{avg1}\")"
   ]
  },
  {
   "cell_type": "code",
   "execution_count": null,
   "id": "601dd7fa-56d2-492d-9194-d90efa1228ec",
   "metadata": {},
   "outputs": [],
   "source": [
    "# Mistake-1: assign the variable which is we are not using\n",
    "             # father=input('Father')\n",
    "# Mistake-2: type casting of englishe sentence\n",
    "             # eval(input('Father'))\n",
    "# Mistake-3: Closing and opening brackets\n",
    "################################################\n",
    "1.python is step by step process\n",
    "2. when to use variables\n",
    "3. when to apply eval"
   ]
  }
 ],
 "metadata": {
  "kernelspec": {
   "display_name": "Python 3 (ipykernel)",
   "language": "python",
   "name": "python3"
  },
  "language_info": {
   "codemirror_mode": {
    "name": "ipython",
    "version": 3
   },
   "file_extension": ".py",
   "mimetype": "text/x-python",
   "name": "python",
   "nbconvert_exporter": "python",
   "pygments_lexer": "ipython3",
   "version": "3.12.7"
  }
 },
 "nbformat": 4,
 "nbformat_minor": 5
}
