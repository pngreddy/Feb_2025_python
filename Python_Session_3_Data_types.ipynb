{
 "cells": [
  {
   "cell_type": "markdown",
   "id": "1e998024-9581-4340-9991-e98951edf50a",
   "metadata": {},
   "source": [
    "## Data types"
   ]
  },
  {
   "cell_type": "markdown",
   "id": "17213bd3-77d8-4dc2-a0ff-29eada9930f1",
   "metadata": {},
   "source": [
    "- Python can say data type of the value with out intializing\n",
    "\n",
    "- Which means the data type automatically consider\n",
    "\n",
    "- Python has some inbulit datatype structure\n",
    "\n",
    "- int : integer\n",
    "\n",
    "- float\n",
    "\n",
    "- str : string\n",
    "\n",
    "- bool : boolean\n",
    "\n",
    "- complex\n",
    "\n",
    "- list\n",
    "\n",
    "- tuple\n",
    "\n",
    "- dict : dictionary\n",
    "\n",
    "- set\n",
    "\n",
    "- frozenset\n",
    "\n",
    "- bytes\n",
    "\n",
    "- bytearray\n",
    "\n",
    "- memoryview"
   ]
  },
  {
   "cell_type": "markdown",
   "id": "7e44c27f-699e-4ea9-b0b8-75e93dd4c204",
   "metadata": {},
   "source": [
    "**integer**"
   ]
  },
  {
   "cell_type": "code",
   "execution_count": 1,
   "id": "a0e67473-0b47-40c2-8720-dac4368f7f80",
   "metadata": {},
   "outputs": [
    {
     "data": {
      "text/plain": [
       "int"
      ]
     },
     "execution_count": 1,
     "metadata": {},
     "output_type": "execute_result"
    }
   ],
   "source": [
    "num=100\n",
    "type(num)"
   ]
  },
  {
   "cell_type": "code",
   "execution_count": 2,
   "id": "2076b487-a6b6-4b0e-9e29-8abac4917f7d",
   "metadata": {},
   "outputs": [
    {
     "name": "stdout",
     "output_type": "stream",
     "text": [
      "100\n"
     ]
    }
   ],
   "source": [
    "print(num)"
   ]
  },
  {
   "cell_type": "code",
   "execution_count": null,
   "id": "09738d66-7feb-4dd1-8222-a630c3bc8830",
   "metadata": {},
   "outputs": [],
   "source": [
    "# we have numerical langauge\n",
    "# age=20\n",
    "# distance=20\n",
    "# salry=20000\n",
    "# mars \n",
    "# mars ==== earth\n",
    "# how old are you = 7 years\n",
    "# earth ==== > mars\n",
    "# 0b111"
   ]
  },
  {
   "cell_type": "markdown",
   "id": "a809e3da-9131-47d2-abca-6b165f041a5b",
   "metadata": {},
   "source": [
    "**binary number system**\n",
    "\n",
    "- digits: 0,1,2,3,4,5,6,7,8,9\n",
    "\n",
    "- binary : bi means two  : 0 and 1\n",
    "\n",
    "- representation is :  0b001,0b111,0b101,0B111\n",
    "\n",
    "- wrong represntation is : o, 0b102\n",
    "\n"
   ]
  },
  {
   "cell_type": "code",
   "execution_count": 3,
   "id": "b6427c92-9cee-4cb8-9d2a-a47859843446",
   "metadata": {},
   "outputs": [
    {
     "data": {
      "text/plain": [
       "7"
      ]
     },
     "execution_count": 3,
     "metadata": {},
     "output_type": "execute_result"
    }
   ],
   "source": [
    "0b111"
   ]
  },
  {
   "cell_type": "code",
   "execution_count": 4,
   "id": "ed89d22a-cb6e-4909-8e0c-cd849830bd38",
   "metadata": {},
   "outputs": [
    {
     "data": {
      "text/plain": [
       "21"
      ]
     },
     "execution_count": 4,
     "metadata": {},
     "output_type": "execute_result"
    }
   ],
   "source": [
    "0b10101"
   ]
  },
  {
   "cell_type": "code",
   "execution_count": 5,
   "id": "4a7dde10-9c77-4c36-9dcf-11c5cd8733e2",
   "metadata": {},
   "outputs": [
    {
     "data": {
      "text/plain": [
       "10"
      ]
     },
     "execution_count": 5,
     "metadata": {},
     "output_type": "execute_result"
    }
   ],
   "source": [
    "0B1010"
   ]
  },
  {
   "cell_type": "code",
   "execution_count": 6,
   "id": "413a7f2e-e991-4628-a317-bb201878ac9e",
   "metadata": {},
   "outputs": [
    {
     "data": {
      "text/plain": [
       "15"
      ]
     },
     "execution_count": 6,
     "metadata": {},
     "output_type": "execute_result"
    }
   ],
   "source": [
    "0b1111"
   ]
  },
  {
   "cell_type": "code",
   "execution_count": null,
   "id": "4ae0492c-d860-403b-8fde-894737048a87",
   "metadata": {},
   "outputs": [],
   "source": [
    "2^2=4   2^1=2   2^0=1\n",
    "0         0       0       0\n",
    "0         0       1       1\n",
    "0         1       0       2\n",
    "0         1       1       3\n",
    "1         0       0       4\n",
    "1         0       1       5\n",
    "1         1       0       6\n",
    "1         1       1       7"
   ]
  },
  {
   "cell_type": "code",
   "execution_count": null,
   "id": "d847e526-3674-4102-82bd-d201f988a257",
   "metadata": {},
   "outputs": [],
   "source": [
    "2^3=8   2^2=4   2^1=2   2^0=1\n",
    "0       0         0       0       0\n",
    "0       0         0       1       1\n",
    "0       0         1       0       2\n",
    "0       0         1       1       3\n",
    "0       1         0       0       4\n",
    "0       1         0       1       5\n",
    "0       1         1       0       6\n",
    "0       1         1       1       7\n",
    "1       0         0       0       8\n",
    "1       0         0       1       9\n",
    "1       0         1       0       10\n",
    "1       0         1       1       11\n",
    "1       1         0       0       12\n",
    "1       1         0       1       13\n",
    "1       1         1       0       14\n",
    "1       1         1       1       15"
   ]
  },
  {
   "cell_type": "code",
   "execution_count": 9,
   "id": "c505dbcb-fafd-41d4-bd31-3656c01866bc",
   "metadata": {},
   "outputs": [
    {
     "data": {
      "text/plain": [
       "(12, 14)"
      ]
     },
     "execution_count": 9,
     "metadata": {},
     "output_type": "execute_result"
    }
   ],
   "source": [
    "0b1100,0b1110"
   ]
  },
  {
   "cell_type": "markdown",
   "id": "05723958-9c1a-475b-a989-54d8407795bd",
   "metadata": {},
   "source": [
    "**octal number system**\n",
    "\n",
    "- digits: 0,1,2,3,4,5,6,7,8,9\n",
    "\n",
    "- octa : octa means 8  : 0,1,2,3,4,5,6,7\n",
    "\n",
    "- representation is :  0o567,0o123,0O765\n",
    "\n",
    "- wrong represntation is : 'o' as start, 0o789"
   ]
  },
  {
   "cell_type": "code",
   "execution_count": 10,
   "id": "c5ffc360-ef43-4319-97bc-39f50b833aed",
   "metadata": {},
   "outputs": [
    {
     "data": {
      "text/plain": [
       "83"
      ]
     },
     "execution_count": 10,
     "metadata": {},
     "output_type": "execute_result"
    }
   ],
   "source": [
    "0o123"
   ]
  },
  {
   "cell_type": "code",
   "execution_count": 11,
   "id": "d45bfdaf-bebb-41de-a910-e37b980d834f",
   "metadata": {},
   "outputs": [
    {
     "data": {
      "text/plain": [
       "2196"
      ]
     },
     "execution_count": 11,
     "metadata": {},
     "output_type": "execute_result"
    }
   ],
   "source": [
    "0O4224"
   ]
  },
  {
   "cell_type": "markdown",
   "id": "a02b93dc-9c8e-4e27-8d67-636e6fa36566",
   "metadata": {},
   "source": [
    "**hexa number system**\n",
    "\n",
    "- digits: 0,1,2,3,4,5,6,7,8,9\n",
    "\n",
    "- hexa : hexa means 16  : 0,1,2,3,4,5,6,7,8,9,A=10,B=11,C=12,D=13,E=14,F=15\n",
    "\n",
    "- representation is :  0x567,0X123,0Xabc\n",
    "\n",
    "- wrong represntation is : 'o' as start, 0h67"
   ]
  },
  {
   "cell_type": "code",
   "execution_count": 12,
   "id": "aba86a61-f8d3-4ba4-8ac3-3f777344b312",
   "metadata": {},
   "outputs": [
    {
     "data": {
      "text/plain": [
       "291"
      ]
     },
     "execution_count": 12,
     "metadata": {},
     "output_type": "execute_result"
    }
   ],
   "source": [
    "0x123"
   ]
  },
  {
   "cell_type": "code",
   "execution_count": 13,
   "id": "b48caa47-bc03-4448-9bad-68a34adce43f",
   "metadata": {},
   "outputs": [
    {
     "data": {
      "text/plain": [
       "2748"
      ]
     },
     "execution_count": 13,
     "metadata": {},
     "output_type": "execute_result"
    }
   ],
   "source": [
    "0xabc"
   ]
  },
  {
   "cell_type": "code",
   "execution_count": null,
   "id": "21e6cf4c-2017-4bbf-a570-e24fbe90710e",
   "metadata": {},
   "outputs": [],
   "source": []
  }
 ],
 "metadata": {
  "kernelspec": {
   "display_name": "Python 3 (ipykernel)",
   "language": "python",
   "name": "python3"
  },
  "language_info": {
   "codemirror_mode": {
    "name": "ipython",
    "version": 3
   },
   "file_extension": ".py",
   "mimetype": "text/x-python",
   "name": "python",
   "nbconvert_exporter": "python",
   "pygments_lexer": "ipython3",
   "version": "3.11.7"
  }
 },
 "nbformat": 4,
 "nbformat_minor": 5
}
