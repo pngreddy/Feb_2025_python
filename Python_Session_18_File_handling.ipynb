{
 "cells": [
  {
   "cell_type": "markdown",
   "id": "072b1d84-d2d3-43ab-83d0-a0eeab5de399",
   "metadata": {},
   "source": [
    "File name                            Type of the file\n",
    "=========================structured======================================\n",
    "text file                             .txt\n",
    "excel sheet                           .csv(comma separtaed value)\n",
    "excel sheet                           .xlsx\n",
    "pdf                                   .pdf\n",
    "doc                                   .doc\n",
    "json                                  .json\n",
    "============================Unstructured=============================\n",
    "xml                                   .xml\n",
    "praquet                               .parquet\n",
    "delta                                 .delta\n",
    "image                                 .jpg or .png\n",
    "video                                 .mp4 or .XVID\n",
    "audio                                 .mp3"
   ]
  },
  {
   "cell_type": "markdown",
   "id": "0c49b8e9-640e-4272-aa85-86ce61c68c80",
   "metadata": {},
   "source": [
    "**how to read the file**\n",
    "\n",
    "- where is file located (file folder)\n",
    "\n",
    "- what is the file name \n",
    "\n",
    "- what is the file extension"
   ]
  },
  {
   "cell_type": "code",
   "execution_count": null,
   "id": "1088f78f-d584-4a28-9495-a514459168e7",
   "metadata": {},
   "outputs": [],
   "source": [
    "# we want to read mbox-short\n",
    "# it is located we want full path\n",
    "\"C:\\Users\\omkar\\OneDrive\\Documents\\Data science\\Naresh IT\\Naresh IT\\Datafiles\\mbox-short.txt\"\n",
    "\"C:\\Users\\omkar\\OneDrive\\Documents\\Data science\\Naresh IT\\Naresh IT\\Datafiles\\Visadataset.csv\""
   ]
  },
  {
   "cell_type": "code",
   "execution_count": null,
   "id": "b487e7bb-8610-4512-9926-ad1a88e2f1d0",
   "metadata": {},
   "outputs": [],
   "source": [
    "\"C:\\Users\\omkar\\OneDrive\\Documents\\Data science\\Naresh IT\\Naresh IT\\Datafiles\\mbox-short.txt\""
   ]
  },
  {
   "cell_type": "markdown",
   "id": "903e036e-29a8-4499-aa0b-91466b04c4cf",
   "metadata": {},
   "source": [
    "**unicode error**\n",
    "\n",
    "- unicode error means single slash\n",
    "\n",
    "- whenever you see unicode error give double slash\n",
    "\n",
    "- otherwise give **r** before the name : r means **raw string**"
   ]
  },
  {
   "cell_type": "code",
   "execution_count": null,
   "id": "9130137f-bbb7-425d-affd-6a749ed4530d",
   "metadata": {},
   "outputs": [],
   "source": [
    "\"C:\\\\Users\\\\omkar\\\\OneDrive\\\\Documents\\\\Data science\\\\Naresh IT\\\\Naresh IT\\\\Datafiles\\\\mbox-short.txt\""
   ]
  },
  {
   "cell_type": "code",
   "execution_count": null,
   "id": "be2b2dc8-78f4-4e4b-9dbf-ada5d4ec809c",
   "metadata": {},
   "outputs": [],
   "source": [
    "r\"C:\\Users\\omkar\\OneDrive\\Documents\\Data science\\Naresh IT\\Naresh IT\\Datafiles\\mbox-short.txt\""
   ]
  },
  {
   "cell_type": "markdown",
   "id": "2be914bb-2504-4ab0-bd7c-95711321a17e",
   "metadata": {},
   "source": [
    "**Read the data**\n",
    "\n",
    "- provide the file path\n",
    "\n",
    "- open the file path\n",
    "\n",
    "- then read the data\n",
    "\n",
    "- this method applicable only for text\n",
    "\n",
    "- for csv pdf doc images all other we need packages"
   ]
  },
  {
   "cell_type": "markdown",
   "id": "29637a8f-ea75-4546-aa87-9e2eb90be523",
   "metadata": {},
   "source": [
    "**Method-1**"
   ]
  },
  {
   "cell_type": "code",
   "execution_count": null,
   "id": "c6ea68e1-00af-440a-acd7-d563382453be",
   "metadata": {},
   "outputs": [],
   "source": [
    "file_name=r\"C:\\Users\\omkar\\OneDrive\\Documents\\Data science\\Naresh IT\\Naresh IT\\Datafiles\\mbox-short.txt\"\n",
    "file=open(file_name)\n",
    "data=file.read()\n",
    "print(data)"
   ]
  },
  {
   "cell_type": "code",
   "execution_count": null,
   "id": "36e4b143-f37d-4114-aaf6-a1676a113f12",
   "metadata": {},
   "outputs": [],
   "source": [
    "data"
   ]
  },
  {
   "cell_type": "markdown",
   "id": "da4040de-706a-45e1-a489-b29aaa8972d8",
   "metadata": {},
   "source": [
    "**Method-2**"
   ]
  },
  {
   "cell_type": "code",
   "execution_count": null,
   "id": "11f3c7b2-60ed-4e86-bd3f-595beff95acf",
   "metadata": {},
   "outputs": [],
   "source": [
    "file_name=r\"C:\\Users\\omkar\\OneDrive\\Documents\\Data science\\Naresh IT\\Naresh IT\\Datafiles\\mbox-short.txt\"\n",
    "with open(file_name) as file:\n",
    "    data=file.read()\n",
    "print(data)"
   ]
  },
  {
   "cell_type": "code",
   "execution_count": null,
   "id": "3153fc6b-20a2-4bdc-b97f-594c64909f1c",
   "metadata": {},
   "outputs": [],
   "source": [
    "file_name=r\"C:\\Users\\omkar\\OneDrive\\Documents\\Data science\\Naresh IT\\Naresh IT\\Datafiles\\mbox-short.txt\"\n",
    "file=open(file_name)\n",
    "data=file.read()\n",
    "print(data)\n",
    "######################################################################################\n",
    "file_name=r\"C:\\Users\\omkar\\OneDrive\\Documents\\Data science\\Naresh IT\\Naresh IT\\Datafiles\\mbox-short.txt\"\n",
    "with open(file_name) as file:\n",
    "    data=file.read()\n",
    "print(data)"
   ]
  },
  {
   "cell_type": "markdown",
   "id": "2a20a391-1710-404e-b9d9-0c46db8271c9",
   "metadata": {},
   "source": [
    "- by using method1 , there might be a chance after some time the data will not availabe\n",
    "\n",
    "- we will see empty string\n",
    "\n",
    "- thats why we will read by using **with** keyword"
   ]
  },
  {
   "cell_type": "markdown",
   "id": "122507b9-090a-495d-ac23-8ebd5edfdac6",
   "metadata": {},
   "source": [
    "## Common errors\n",
    "\n",
    "- File not found error \n",
    "\n",
    "    - we are using one path, but in that path the file is not found\n",
    "\n",
    "- Permission error\n",
    "\n",
    "    - The file we are reading is opend some where\n",
    "\n",
    "    - close that file and read again\n",
    "\n",
    "- uncode error\n",
    "\n",
    "    - single slash problem\n",
    "\n",
    "    - either provide the double slash or provide **r** before path"
   ]
  },
  {
   "cell_type": "markdown",
   "id": "b626f77d-2fb9-4973-8bcb-018708e2c2a5",
   "metadata": {},
   "source": [
    "**Method-3**\n",
    "\n",
    "- Method1 and method2 the file name and python file both are in different locations\n",
    "\n",
    "- thats why we are providing the full path\n",
    "\n",
    "- if datafile and python file located at same location, then no need of full path"
   ]
  },
  {
   "cell_type": "code",
   "execution_count": null,
   "id": "37129747-740a-4bb5-9a2e-1d7e8b557c25",
   "metadata": {},
   "outputs": [],
   "source": [
    "file_name=\"mbox-short.txt\"\n",
    "file=open(file_name)\n",
    "data=file.read()\n",
    "print(data)"
   ]
  },
  {
   "cell_type": "code",
   "execution_count": null,
   "id": "20e1fa3c-b48d-420f-b0c8-63ec4f469e8a",
   "metadata": {},
   "outputs": [],
   "source": [
    "file_name=r\"C:\\Users\\omkar\\OneDrive\\Documents\\Data science\\Naresh IT\\Naresh IT\\Datafiles\\mbox-short.txt\"\n",
    "file=open(file_name)\n",
    "data=file.read()\n",
    "print(data)\n",
    "######################################################################################\n",
    "file_name=r\"C:\\Users\\omkar\\OneDrive\\Documents\\Data science\\Naresh IT\\Naresh IT\\Datafiles\\mbox-short.txt\"\n",
    "with open(file_name) as file:\n",
    "    data=file.read()\n",
    "print(data)\n",
    "########################################################################################\n",
    "file_name=\"mbox-short.txt\"\n",
    "file=open(file_name)\n",
    "data=file.read()\n",
    "print(data)\n",
    "\n",
    "r\"C:\\Users\\omkar\\OneDrive\\Documents\\Data science\\Naresh IT\\Naresh IT\\Datafiles\\mbox-short.txt\""
   ]
  },
  {
   "cell_type": "code",
   "execution_count": null,
   "id": "45a146cf-73ff-4551-9df2-4acdcaa38df6",
   "metadata": {},
   "outputs": [],
   "source": [
    "# only text files will work\n",
    "# you cannot read csv, .xlsx,.png"
   ]
  },
  {
   "cell_type": "code",
   "execution_count": null,
   "id": "36516571-82b6-43b6-9997-b2a001c8a86e",
   "metadata": {},
   "outputs": [],
   "source": [
    "file_name=\"mbox-short.txt\"\n",
    "file=open(file_name)\n",
    "data=file.read()\n",
    "\n",
    "for i in data:\n",
    "    print(i)\n"
   ]
  },
  {
   "cell_type": "code",
   "execution_count": null,
   "id": "294831b9-b389-4563-9682-ec530c3331d8",
   "metadata": {},
   "outputs": [],
   "source": [
    "file_name=\"mbox-short.txt\"\n",
    "file=open(file_name)\n",
    "for i in file:\n",
    "    print(i)"
   ]
  },
  {
   "cell_type": "code",
   "execution_count": null,
   "id": "50899905-ea87-4e8e-8c3f-b99f0ba850d3",
   "metadata": {},
   "outputs": [],
   "source": [
    "file_name=\"mbox-short.txt\"\n",
    "file=open(file_name)\n",
    "for i in file:\n",
    "    print(i)"
   ]
  },
  {
   "cell_type": "markdown",
   "id": "c12d1101-2a69-403a-a6a4-ed7b7427ebde",
   "metadata": {},
   "source": [
    "- mode\n",
    "\n",
    "    - by default the mode is : **r** read mode\n",
    "\n",
    "- if we wants to create file and write any information then we need to change the mode\n",
    "\n",
    "'r'       open for reading (default)\n",
    "\n",
    "'w'       open for writing, truncating the file first\n",
    "\n",
    "'x'       create a new file and open it for writing\n",
    "\n",
    "'a'       open for writing, appending to the end of the file if it exists\n",
    "\n",
    "'b'       binary mode\n",
    "\n",
    "'t'       text mode (default)\n",
    "\n",
    "'+'       open a disk file for updating (reading and writing)"
   ]
  },
  {
   "cell_type": "code",
   "execution_count": null,
   "id": "e54a213c-d187-487e-86da-8f9f81d17e96",
   "metadata": {},
   "outputs": [],
   "source": [
    "file_name=\"mbox-short.txt\"\n",
    "file=open(file_name,mode='r')\n",
    "data=file.read()\n"
   ]
  },
  {
   "cell_type": "code",
   "execution_count": null,
   "id": "28a1dbba-0ef1-4b6f-9014-a0c63b20d097",
   "metadata": {},
   "outputs": [],
   "source": [
    "file_name=\"pushpa.txt\"\n",
    "file=open(file_name,mode='w')\n",
    "file.write(\"movie hit\")"
   ]
  },
  {
   "cell_type": "code",
   "execution_count": null,
   "id": "429756a8-b95b-479e-b2b5-54990496bbdf",
   "metadata": {},
   "outputs": [],
   "source": [
    "len(\"movie hit\")"
   ]
  },
  {
   "cell_type": "code",
   "execution_count": null,
   "id": "36bef2f3-9ae8-4a15-97ca-83bcc0fb7a75",
   "metadata": {},
   "outputs": [],
   "source": [
    "######################################################################################\n",
    "file_name=\"pushpa2.txt\"\n",
    "with open(file_name,mode='w') as file:\n",
    "    file.write(\"move hit\")\n"
   ]
  },
  {
   "cell_type": "code",
   "execution_count": null,
   "id": "9587d98c-4d8d-46d9-adf5-4b44bd62e27a",
   "metadata": {},
   "outputs": [],
   "source": [
    "file_name=\"pushpa2.txt\"  # 'Movie hit'\n",
    "with open(file_name,mode='a') as file:\n",
    "    file.write(\"one time watch\")"
   ]
  },
  {
   "cell_type": "markdown",
   "id": "611acd93-e3df-438f-8f4a-1fdb1b4d0814",
   "metadata": {},
   "source": [
    "- take the file name\n",
    "\n",
    "- open the file , fix your mode\n",
    "\n",
    "- if mode is **r** then file.read()\n",
    "\n",
    "- if mode is **w** then file.write()"
   ]
  },
  {
   "cell_type": "markdown",
   "id": "45a3f546-9009-44ce-bbb9-ccecde972933",
   "metadata": {},
   "source": [
    "**case-1**\n",
    "\n",
    "- I dont want write a new file at python location\n",
    "\n",
    "- I want to create a new folder at python location\n",
    "\n",
    "- In that folder i want to save my new file"
   ]
  },
  {
   "cell_type": "code",
   "execution_count": null,
   "id": "7abf415e-2850-4615-bce5-17b67b597f2b",
   "metadata": {},
   "outputs": [],
   "source": [
    "# Create a  folder first \n",
    "#      folder name= filess\n",
    "# then provide the full directory \n",
    "# if you write the file with out **with** keyword\n",
    "# firstime we will see 0kb\n",
    "# if that occures run again\n",
    "file_name=r\"C:\\Users\\omkar\\OneDrive\\Documents\\Data science\\Naresh IT\\Naresh IT\\Data science\\Batches\\Batch_11_Oct\\Python_session\\files\\pushpa1.txt\"\n",
    "file=open(file_name,mode='w')\n",
    "file.write(\"movie hit\")"
   ]
  },
  {
   "cell_type": "markdown",
   "id": "5115044c-3b11-4058-aa25-035b9c3f3ea7",
   "metadata": {},
   "source": [
    "- we created a folder\n",
    "\n",
    "- we provided the full path\n",
    "\n",
    "- we are writing the file\n",
    "\n",
    "- the first two steps should happen automatically"
   ]
  },
  {
   "cell_type": "markdown",
   "id": "f082ba4b-4853-481c-a35e-3fa5bd792c56",
   "metadata": {},
   "source": [
    "- step-1: we created a folder\n",
    "\n",
    "    - for this we need a package called **os**\n",
    "\n",
    "        - in that os we need a method **makedirs**\n",
    "     \n",
    "        - makedirs need a name: **foldername**\n",
    "     \n",
    "- step-2: Provide the full path\n",
    "\n",
    "  - A. Till python location path\n",
    "      \n",
    "      - We need a package name : **os**\n",
    "\n",
    "      - method name: **getcwd**\n",
    "\n",
    "  - B. Your new folder name\n",
    " \n",
    "    - we already given\n",
    "\n",
    "  - when you combines these it becomes new folder location\n",
    " \n",
    "    - **os.path.join**"
   ]
  },
  {
   "cell_type": "code",
   "execution_count": null,
   "id": "4fcfa561-889b-4e7b-b6c2-f3c0f5af4d21",
   "metadata": {},
   "outputs": [],
   "source": [
    "import os\n",
    "new_folder_name='files1'\n",
    "try:\n",
    "    os.makedirs(new_folder_name)\n",
    "except Exception as e:\n",
    "    print(e)"
   ]
  },
  {
   "cell_type": "code",
   "execution_count": null,
   "id": "af9c440b-00b2-4f40-b2f2-270a0605cb45",
   "metadata": {},
   "outputs": [],
   "source": [
    "cwd=os.getcwd()  # A\n",
    "print(cwd)\n",
    "new_folder_name='files1' # B\n",
    "new_dir=os.path.join(cwd,new_folder_name) # A+B\n",
    "print(new_dir)\n",
    "###########################################\n",
    "file_name='pushpa.txt'\n",
    "new_location=os.path.join(new_dir,file_name)\n",
    "print(new_location)\n",
    "file=open(new_location,mode='w')\n",
    "file.write(\"movie hit\")"
   ]
  },
  {
   "cell_type": "code",
   "execution_count": null,
   "id": "caeeabd9-e5af-4ac7-bfc8-f0b678f356be",
   "metadata": {},
   "outputs": [],
   "source": [
    "cwd=os.getcwd()  # A\n",
    "print(cwd)\n",
    "# where is our python file located"
   ]
  },
  {
   "cell_type": "code",
   "execution_count": null,
   "id": "4b5366eb-8f28-4b1f-b122-f4762ae89efe",
   "metadata": {},
   "outputs": [],
   "source": [
    "import os\n",
    "new_folder_name='files1'\n",
    "try:\n",
    "    os.makedirs(new_folder_name)\n",
    "except Exception as e:\n",
    "    print(e)\n",
    "###########################################################\n",
    "cwd=os.getcwd()  # A\n",
    "print(cwd)\n",
    "####################################################\n",
    "new_folder_name='files1' # B\n",
    "new_dir=os.path.join(cwd,new_folder_name) # A+B\n",
    "print(new_dir)\n",
    "###########################################\n",
    "file_name='pushpa.txt'\n",
    "new_location=os.path.join(new_dir,file_name)\n",
    "print(new_location)\n",
    "#########################################\n",
    "file=open(new_location,mode='w')\n",
    "file.write(\"movie hit\")"
   ]
  },
  {
   "cell_type": "code",
   "execution_count": null,
   "id": "97dc42c0-3820-4a15-b786-cbba5989aef7",
   "metadata": {},
   "outputs": [],
   "source": [
    "C:\\Users\\omkar\\OneDrive\\Documents\\Data science\\Naresh IT\\Naresh IT\\Data science\\Batches\\Batch_11_Oct\\Python_session\\files1\\pushpa.txt"
   ]
  },
  {
   "cell_type": "code",
   "execution_count": null,
   "id": "216c62ae-d6ef-4ff1-b6dd-e7bd4ab787e0",
   "metadata": {
    "scrolled": true
   },
   "outputs": [],
   "source": [
    "## read the mbox-short\n",
    "file_name='mbox-short.txt'\n",
    "file=open(file_name,\n",
    "          mode='r',\n",
    "          encoding='utf-8-sig')\n",
    "print(file.read())"
   ]
  },
  {
   "cell_type": "code",
   "execution_count": null,
   "id": "32e19cb9-bdd2-43c1-9107-8f90891e7e88",
   "metadata": {},
   "outputs": [],
   "source": [
    "file_name='mbox-short.txt'\n",
    "file=open(file_name,\n",
    "          mode='r',\n",
    "          encoding='utf-8-sig')\n",
    "for line in file:\n",
    "    print(line)"
   ]
  },
  {
   "cell_type": "markdown",
   "id": "2387c702-e8eb-49f1-9392-06705d027a89",
   "metadata": {},
   "source": [
    "**enumerate**\n",
    "- Iterating list using enumerate to get both index and element"
   ]
  },
  {
   "cell_type": "code",
   "execution_count": null,
   "id": "da6852b5-ef50-4581-88ae-95797a57e787",
   "metadata": {},
   "outputs": [],
   "source": [
    "file_name='mbox-short.txt'\n",
    "file=open(file_name,\n",
    "          mode='r',\n",
    "          encoding='utf-8-sig')\n",
    "for index,line in enumerate(file):\n",
    "    print(index,line)"
   ]
  },
  {
   "cell_type": "code",
   "execution_count": null,
   "id": "c31b3179-1d0a-43e2-be7d-8e6cc0841cea",
   "metadata": {},
   "outputs": [],
   "source": [
    "a,b=10,20\n",
    "a"
   ]
  },
  {
   "cell_type": "code",
   "execution_count": null,
   "id": "de3e16cd-149a-43b1-89a8-d57f9786d3ee",
   "metadata": {},
   "outputs": [],
   "source": [
    "# Q) First 10 line using index\n",
    "file_name='mbox-short.txt'\n",
    "file=open(file_name,\n",
    "          mode='r',\n",
    "          encoding='utf-8-sig')\n",
    "for index,line in enumerate(file):\n",
    "    if index<=10:\n",
    "         print(index,line)"
   ]
  },
  {
   "cell_type": "code",
   "execution_count": null,
   "id": "32faa019-9880-4853-8a70-42e612a96d9f",
   "metadata": {},
   "outputs": [],
   "source": [
    "# file_name='mbox-short.txt'\n",
    "# file=open(file_name,\n",
    "#           mode='w',\n",
    "#           encoding='utf-8-sig')\n",
    "# file.write(\"hello\")\n",
    "\n",
    "# # 1. All the information will gone\n",
    "# # 2. empty file will cretaed because we are writing with out with keyword\n",
    "\n",
    "# # Q) First 10 line using index\n",
    "# file_name='mbox-short.txt'\n",
    "# file=open(file_name,\n",
    "#           mode='r',\n",
    "#           encoding='utf-8-sig')\n",
    "# for index,line in enumerate(file):\n",
    "#     print(index,line)\n",
    "\n",
    "\n",
    "# # in the class experiment"
   ]
  },
  {
   "cell_type": "code",
   "execution_count": null,
   "id": "0147e2e9-4eb8-462e-b419-27fe2bf899e4",
   "metadata": {},
   "outputs": [],
   "source": [
    "file_name='mbox-short.txt'\n",
    "file=open(file_name,\n",
    "          mode='r',\n",
    "          encoding='utf-8-sig')\n",
    "for index,line in enumerate(file):\n",
    "    print(index,line)\n",
    "    if index==10:\n",
    "         break"
   ]
  },
  {
   "cell_type": "code",
   "execution_count": null,
   "id": "b5f5271f-37ca-4b7e-ae84-05f59b6cedbc",
   "metadata": {},
   "outputs": [],
   "source": [
    "file_name='mbox-short.txt'\n",
    "file=open(file_name,\n",
    "          mode='r',\n",
    "          encoding='utf-8-sig')\n",
    "count=0\n",
    "for line in file:\n",
    "    print(line)\n",
    "    count=count+1\n",
    "    if count==9:\n",
    "         break"
   ]
  },
  {
   "cell_type": "code",
   "execution_count": null,
   "id": "0c961f29-68a6-47bc-9650-82a4d192b89a",
   "metadata": {},
   "outputs": [],
   "source": [
    "file_name='mbox-short.txt'\n",
    "file=open(file_name,\n",
    "          mode='r',\n",
    "          encoding='utf-8-sig')\n",
    "######################################\n",
    "for index,line in enumerate(file):\n",
    "    if index<=10:\n",
    "         print(index,line)\n",
    "\n",
    "#########################################\n",
    "for index,line in enumerate(file):\n",
    "    print(index,line)\n",
    "    if index==10:\n",
    "         break\n",
    "########################################\n",
    "count=0\n",
    "for line in file:\n",
    "    print(line)\n",
    "    count=count+1\n",
    "    if count==9:\n",
    "         break"
   ]
  },
  {
   "cell_type": "code",
   "execution_count": null,
   "id": "56be5dd8-4316-4675-aa6c-0d58e6005e1a",
   "metadata": {},
   "outputs": [],
   "source": [
    "# q1) Find the number of lines\n",
    "# q2) all the lines should be aligned alignment strip\n",
    "# q3) get the lines which are starting with From startswith\n",
    "#     keep in a list\n",
    "# q4) Remove the \\n at the end of the line  strip\n",
    "# q5) extract the email id  \n",
    "# q6) unique email ids\n",
    "\n",
    "# qn3  : From lines\n",
    "# qn4  : depends on qn3 output\n",
    "# qn5  : depends on qn4 output   From\n",
    "# qn6  : depends on qn5"
   ]
  },
  {
   "cell_type": "code",
   "execution_count": null,
   "id": "98a58480-f9e1-4411-a5c7-89b2b46cfbea",
   "metadata": {},
   "outputs": [],
   "source": [
    "# q1) Find the number of lines\n",
    "file_name='mbox-short.txt'\n",
    "file=open(file_name,\n",
    "          mode='r',\n",
    "          encoding='utf-8-sig')\n",
    "for index,line in enumerate(file):\n",
    "    pass\n",
    "index"
   ]
  },
  {
   "cell_type": "code",
   "execution_count": null,
   "id": "eefdb858-9b94-408c-8e6c-080747b09582",
   "metadata": {},
   "outputs": [],
   "source": [
    "# q2) all the lines should be aligned alignment strip\n",
    "file_name='mbox-short.txt'\n",
    "file=open(file_name,\n",
    "          mode='r',\n",
    "          encoding='utf-8-sig')\n",
    "for line in file:\n",
    "    print(line.strip())"
   ]
  },
  {
   "cell_type": "code",
   "execution_count": null,
   "id": "665ca765-8129-4b56-8c2b-ecc7c8dc2924",
   "metadata": {},
   "outputs": [],
   "source": [
    "# q3) get the lines which are starting with From startswith\n",
    "#     keep in a list\n",
    "file_name='mbox-short.txt'\n",
    "file=open(file_name,\n",
    "          mode='r',\n",
    "          encoding='utf-8-sig')\n",
    "# from_lines=[]\n",
    "# for line in file:\n",
    "#     if line.startswith('From'):\n",
    "#         from_lines.append(line)\n",
    "from_lines=[line for line in file if line.startswith('From')]\n",
    "from_lines"
   ]
  },
  {
   "cell_type": "code",
   "execution_count": null,
   "id": "80e2b79d-2004-434c-8d15-88c6ba093f62",
   "metadata": {},
   "outputs": [],
   "source": [
    "# q4) Remove the \\n at the end of the line  strip\n",
    "# for line in from_lines:\n",
    "#     print(line.strip('\\n'))\n",
    "\n",
    "list2=[line.strip('\\n') for line in from_lines]\n",
    "list2"
   ]
  },
  {
   "cell_type": "code",
   "execution_count": null,
   "id": "0e44cf97-72e1-45b0-89e3-5837ad1688b0",
   "metadata": {},
   "outputs": [],
   "source": [
    "from_lines=[line for line in file if line.startswith('From')]\n",
    "from_lines\n",
    "# session got closed\n",
    "# always write with keyword"
   ]
  },
  {
   "cell_type": "code",
   "execution_count": null,
   "id": "e0007c59-fd60-499e-bfa6-fdeac20361a7",
   "metadata": {},
   "outputs": [],
   "source": [
    "file_name='mbox-short.txt'\n",
    "file=open(file_name,\n",
    "          mode='r',\n",
    "          encoding='utf-8-sig')\n",
    "from_lines=[line.strip('\\n') for line in file if line.startswith('From')]\n",
    "from_lines"
   ]
  },
  {
   "cell_type": "code",
   "execution_count": null,
   "id": "f05e5317-bbc6-4834-b3f2-c7e48ddbb1e6",
   "metadata": {},
   "outputs": [],
   "source": [
    "from_lines=[line for line in file if line.startswith('From')]\n",
    "from_lines\n",
    "list2=[line.strip('\\n') for line in from_lines]\n",
    "list2\n",
    "######################################################################\n",
    "from_lines=[line.strip('\\n') for line in file if line.startswith('From')]\n",
    "from_lines"
   ]
  },
  {
   "cell_type": "code",
   "execution_count": null,
   "id": "fff52a0a-86dd-4e2d-a191-400bba5b0b97",
   "metadata": {},
   "outputs": [],
   "source": [
    "list2[0].split()[1]"
   ]
  },
  {
   "cell_type": "code",
   "execution_count": null,
   "id": "2ccb9978-f517-45de-ba5d-63c1acb4b544",
   "metadata": {},
   "outputs": [],
   "source": [
    "list2[1].split()[1]"
   ]
  },
  {
   "cell_type": "code",
   "execution_count": null,
   "id": "0a3e2230-c75f-4051-aeab-16aa71590404",
   "metadata": {},
   "outputs": [],
   "source": [
    "list2[2].split()[1]"
   ]
  },
  {
   "cell_type": "code",
   "execution_count": null,
   "id": "3251d26e-d09b-4565-8e47-55252fb1cd8a",
   "metadata": {},
   "outputs": [],
   "source": [
    "list2[3].split()[1]"
   ]
  },
  {
   "cell_type": "code",
   "execution_count": null,
   "id": "cb3e253e-ee22-42fd-9b63-66c4f498cc7b",
   "metadata": {},
   "outputs": [],
   "source": [
    "for i in range(len(list2)):\n",
    "    print(list2[i].split()[1])\n",
    "\n",
    "for i in list2:\n",
    "    print(i.split()[1])\n",
    "\n",
    "emails=[i.split()[1] for i in list2]\n",
    "emails"
   ]
  },
  {
   "cell_type": "code",
   "execution_count": null,
   "id": "222af469-25be-4e7d-91b3-9e64168d9641",
   "metadata": {},
   "outputs": [],
   "source": [
    "set(emails)"
   ]
  },
  {
   "cell_type": "code",
   "execution_count": null,
   "id": "295e130f-839e-4ff5-908e-ce8150fbde93",
   "metadata": {},
   "outputs": [],
   "source": [
    "firstname= [all the employees first name]\n",
    "secondname=[]\n",
    "email=[]\n",
    "cname=[]\n",
    "\n",
    "fname   sname  email   canme\n"
   ]
  }
 ],
 "metadata": {
  "kernelspec": {
   "display_name": "Python 3 (ipykernel)",
   "language": "python",
   "name": "python3"
  },
  "language_info": {
   "codemirror_mode": {
    "name": "ipython",
    "version": 3
   },
   "file_extension": ".py",
   "mimetype": "text/x-python",
   "name": "python",
   "nbconvert_exporter": "python",
   "pygments_lexer": "ipython3",
   "version": "3.12.7"
  }
 },
 "nbformat": 4,
 "nbformat_minor": 5
}
