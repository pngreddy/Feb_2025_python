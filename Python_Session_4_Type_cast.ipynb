{
 "cells": [
  {
   "cell_type": "markdown",
   "id": "4b16aef2-b459-4fbe-b3fb-6da0d01f35b3",
   "metadata": {},
   "source": [
    "**Type cast**"
   ]
  },
  {
   "cell_type": "markdown",
   "id": "d81b646c-e440-4b33-b809-62c8da001768",
   "metadata": {},
   "source": [
    "- Changing one data type to another data type"
   ]
  },
  {
   "cell_type": "markdown",
   "id": "5d230e92-f8a0-4713-be3e-c9b8aa23f040",
   "metadata": {},
   "source": [
    "- int to float\n",
    "\n",
    "- int to str\n",
    "\n",
    "- int to boolean"
   ]
  },
  {
   "cell_type": "code",
   "execution_count": 1,
   "id": "9db346be-c30a-4930-be85-75336e5f4275",
   "metadata": {},
   "outputs": [
    {
     "data": {
      "text/plain": [
       "int"
      ]
     },
     "execution_count": 1,
     "metadata": {},
     "output_type": "execute_result"
    }
   ],
   "source": [
    "number=100\n",
    "type(number)"
   ]
  },
  {
   "cell_type": "code",
   "execution_count": 4,
   "id": "05a193b9-ec51-4793-8d2e-1a7dbda57f7d",
   "metadata": {},
   "outputs": [
    {
     "data": {
      "text/plain": [
       "(100.0, float)"
      ]
     },
     "execution_count": 4,
     "metadata": {},
     "output_type": "execute_result"
    }
   ],
   "source": [
    "# int to float\n",
    "float_number=float(number)\n",
    "float_number,type(float_number)"
   ]
  },
  {
   "cell_type": "code",
   "execution_count": 5,
   "id": "c472e7a9-f315-4534-bec4-583c6dbbee0d",
   "metadata": {},
   "outputs": [
    {
     "data": {
      "text/plain": [
       "'100'"
      ]
     },
     "execution_count": 5,
     "metadata": {},
     "output_type": "execute_result"
    }
   ],
   "source": [
    "#int to string\n",
    "string_num=str(number)\n",
    "string_num"
   ]
  },
  {
   "cell_type": "code",
   "execution_count": 6,
   "id": "340bba64-411b-4459-8a8a-7fe16d96853a",
   "metadata": {},
   "outputs": [
    {
     "data": {
      "text/plain": [
       "True"
      ]
     },
     "execution_count": 6,
     "metadata": {},
     "output_type": "execute_result"
    }
   ],
   "source": [
    "bool(number)"
   ]
  },
  {
   "cell_type": "code",
   "execution_count": 7,
   "id": "fb2d61a0-e4fc-4335-bfa3-189e22fb354c",
   "metadata": {},
   "outputs": [
    {
     "name": "stdout",
     "output_type": "stream",
     "text": [
      "100.0\n",
      "100\n",
      "True\n"
     ]
    }
   ],
   "source": [
    "print(float(100))\n",
    "print(str(100))\n",
    "print(bool(100))"
   ]
  },
  {
   "cell_type": "code",
   "execution_count": 8,
   "id": "462152c3-a639-4747-9fb8-e535dffc1dd3",
   "metadata": {},
   "outputs": [
    {
     "name": "stdout",
     "output_type": "stream",
     "text": [
      "-100.0\n",
      "-100\n",
      "True\n"
     ]
    }
   ],
   "source": [
    "print(float(-100))\n",
    "print(str(-100))\n",
    "print(bool(-100))"
   ]
  },
  {
   "cell_type": "code",
   "execution_count": 9,
   "id": "e7ac1488-6924-44d3-b8f0-3acac031dc49",
   "metadata": {},
   "outputs": [
    {
     "name": "stdout",
     "output_type": "stream",
     "text": [
      "0.0\n",
      "0\n",
      "False\n"
     ]
    }
   ],
   "source": [
    "print(float(0))  # 0.0\n",
    "print(str(0))    # '0'\n",
    "print(bool(0))   # False"
   ]
  },
  {
   "cell_type": "markdown",
   "id": "be7e7342-d72b-4363-ac81-5af6ad5d385f",
   "metadata": {},
   "source": [
    "**Note**\n",
    "\n",
    "- Boolean conversion of any integer value other than zero becomes True\n",
    "\n",
    "- Boolean convesrion of Zero is False"
   ]
  },
  {
   "cell_type": "markdown",
   "id": "357b5911-0f8b-47f1-b11a-87b91e6c13b2",
   "metadata": {},
   "source": [
    "**Float to other data types**"
   ]
  },
  {
   "cell_type": "code",
   "execution_count": 10,
   "id": "21e25a54-9af3-423e-ab55-75586a9ee4ac",
   "metadata": {},
   "outputs": [
    {
     "name": "stdout",
     "output_type": "stream",
     "text": [
      "100\n",
      "100.25\n",
      "True\n"
     ]
    }
   ],
   "source": [
    "print(int(100.25))   # 100\n",
    "print(str(100.25))    # '100.25'\n",
    "print(bool(100.25))   # True"
   ]
  },
  {
   "cell_type": "code",
   "execution_count": 11,
   "id": "abbd5924-4147-4964-8bc4-38b4b36374f5",
   "metadata": {},
   "outputs": [
    {
     "name": "stdout",
     "output_type": "stream",
     "text": [
      "-100\n",
      "-100.25\n",
      "True\n"
     ]
    }
   ],
   "source": [
    "print(int(-100.25))   # -100\n",
    "print(str(-100.25))    # -'100.25'\n",
    "print(bool(-100.25))   # True"
   ]
  },
  {
   "cell_type": "code",
   "execution_count": 12,
   "id": "265da0c0-bae3-46d4-adce-e4c88a5a8557",
   "metadata": {},
   "outputs": [
    {
     "name": "stdout",
     "output_type": "stream",
     "text": [
      "0\n",
      "0.0\n",
      "False\n"
     ]
    }
   ],
   "source": [
    "print(int(0.0))   # 0\n",
    "print(str(0.0))    # '0.0'\n",
    "print(bool(0.0))   # False"
   ]
  },
  {
   "cell_type": "code",
   "execution_count": 13,
   "id": "ebc8f1fc-01a3-43bf-ab30-e0364af8e7ad",
   "metadata": {},
   "outputs": [
    {
     "name": "stdout",
     "output_type": "stream",
     "text": [
      "python\n"
     ]
    }
   ],
   "source": [
    "name='python'\n",
    "print(name)"
   ]
  },
  {
   "cell_type": "code",
   "execution_count": 14,
   "id": "301b4807-6375-472f-8d38-418cceae9f8c",
   "metadata": {},
   "outputs": [
    {
     "data": {
      "text/plain": [
       "'python'"
      ]
     },
     "execution_count": 14,
     "metadata": {},
     "output_type": "execute_result"
    }
   ],
   "source": [
    "name"
   ]
  },
  {
   "cell_type": "markdown",
   "id": "db9926ac-03b3-4c4b-acb2-4d7734bffd83",
   "metadata": {},
   "source": [
    "**String to other data types**"
   ]
  },
  {
   "cell_type": "code",
   "execution_count": 17,
   "id": "fc39a7d2-572c-4624-88ad-ee5f1fc1029a",
   "metadata": {},
   "outputs": [
    {
     "data": {
      "text/plain": [
       "True"
      ]
     },
     "execution_count": 17,
     "metadata": {},
     "output_type": "execute_result"
    }
   ],
   "source": [
    "int('Apple')  # Error\n",
    "float('Apple') # Error\n",
    "bool('Apple')  # True"
   ]
  },
  {
   "cell_type": "code",
   "execution_count": 18,
   "id": "356fcf18-ddf2-4d06-a102-f790e18f6bc1",
   "metadata": {},
   "outputs": [
    {
     "data": {
      "text/plain": [
       "True"
      ]
     },
     "execution_count": 18,
     "metadata": {},
     "output_type": "execute_result"
    }
   ],
   "source": [
    "bool('0')"
   ]
  },
  {
   "cell_type": "code",
   "execution_count": 19,
   "id": "26fe395e-65ad-46b4-9ac0-db0d9892c6ee",
   "metadata": {},
   "outputs": [
    {
     "data": {
      "text/plain": [
       "False"
      ]
     },
     "execution_count": 19,
     "metadata": {},
     "output_type": "execute_result"
    }
   ],
   "source": [
    "bool('')"
   ]
  },
  {
   "cell_type": "code",
   "execution_count": 20,
   "id": "cc4c66df-66ce-457c-a9aa-882070728b6d",
   "metadata": {},
   "outputs": [
    {
     "data": {
      "text/plain": [
       "10"
      ]
     },
     "execution_count": 20,
     "metadata": {},
     "output_type": "execute_result"
    }
   ],
   "source": [
    "int('10')  "
   ]
  },
  {
   "cell_type": "code",
   "execution_count": 21,
   "id": "acb3869a-f9ef-40ff-95a4-91c3fbd9b0c3",
   "metadata": {},
   "outputs": [
    {
     "data": {
      "text/plain": [
       "10.0"
      ]
     },
     "execution_count": 21,
     "metadata": {},
     "output_type": "execute_result"
    }
   ],
   "source": [
    "float('10')"
   ]
  },
  {
   "cell_type": "code",
   "execution_count": 22,
   "id": "64775299-89cf-43fe-9ea7-9621d8cc9670",
   "metadata": {},
   "outputs": [
    {
     "data": {
      "text/plain": [
       "True"
      ]
     },
     "execution_count": 22,
     "metadata": {},
     "output_type": "execute_result"
    }
   ],
   "source": [
    "bool('10')\n",
    "# '10' is not a integer\n",
    "# True === ON\n",
    "# False === OFF ====  0   ==== ''"
   ]
  },
  {
   "cell_type": "code",
   "execution_count": null,
   "id": "ec61bbb1-1d40-4477-9bda-4e15469d6e54",
   "metadata": {},
   "outputs": [],
   "source": [
    "int('10')  \n",
    "float('10')\n",
    "bool('10')"
   ]
  },
  {
   "cell_type": "code",
   "execution_count": null,
   "id": "c5e1024c-ed7b-4bcf-816c-8fac67c174f1",
   "metadata": {},
   "outputs": [],
   "source": [
    "#Sir,  boolean value all interger is true except 0., but here boolean value zero come true"
   ]
  },
  {
   "cell_type": "code",
   "execution_count": 23,
   "id": "42354e8f-feb2-4a46-b160-8b5b1f92e9ef",
   "metadata": {},
   "outputs": [
    {
     "ename": "ValueError",
     "evalue": "invalid literal for int() with base 10: '10.5'",
     "output_type": "error",
     "traceback": [
      "\u001b[1;31m---------------------------------------------------------------------------\u001b[0m",
      "\u001b[1;31mValueError\u001b[0m                                Traceback (most recent call last)",
      "Cell \u001b[1;32mIn[23], line 1\u001b[0m\n\u001b[1;32m----> 1\u001b[0m \u001b[38;5;28mint\u001b[39m(\u001b[38;5;124m'\u001b[39m\u001b[38;5;124m10.5\u001b[39m\u001b[38;5;124m'\u001b[39m)\n",
      "\u001b[1;31mValueError\u001b[0m: invalid literal for int() with base 10: '10.5'"
     ]
    }
   ],
   "source": [
    "int('10.5')   # 10\n"
   ]
  },
  {
   "cell_type": "code",
   "execution_count": null,
   "id": "a3c05b4c-c908-4aac-b091-d326512a2873",
   "metadata": {},
   "outputs": [],
   "source": [
    "int('10')  # works\n",
    "int('10.5') # Fail"
   ]
  },
  {
   "cell_type": "code",
   "execution_count": 25,
   "id": "cae78854-df34-46ee-aad1-54e240371cef",
   "metadata": {},
   "outputs": [
    {
     "data": {
      "text/plain": [
       "10.5"
      ]
     },
     "execution_count": 25,
     "metadata": {},
     "output_type": "execute_result"
    }
   ],
   "source": [
    "float('10') # 10.0\n",
    "float('10.5') # 10.5"
   ]
  },
  {
   "cell_type": "code",
   "execution_count": null,
   "id": "34b54670-70f1-40f1-b8f8-6c9903d5488d",
   "metadata": {},
   "outputs": [],
   "source": [
    " when running int(10.5) is giving output but int('10.5') is giving error"
   ]
  },
  {
   "cell_type": "code",
   "execution_count": null,
   "id": "2e8015c0-f599-4e4b-9619-e32686859237",
   "metadata": {},
   "outputs": [],
   "source": [
    "int(10.5)  # works\n",
    "int('10.5 )"
   ]
  },
  {
   "cell_type": "code",
   "execution_count": 28,
   "id": "15251f10-3b7d-488b-b202-185a0c9158e6",
   "metadata": {},
   "outputs": [
    {
     "data": {
      "text/plain": [
       "10"
      ]
     },
     "execution_count": 28,
     "metadata": {},
     "output_type": "execute_result"
    }
   ],
   "source": [
    "#'10.5'==== '10'\n",
    "int(float('10.5'))"
   ]
  },
  {
   "cell_type": "code",
   "execution_count": null,
   "id": "6259dd36-316f-4bb5-add6-33128287eef6",
   "metadata": {},
   "outputs": [],
   "source": [
    "bool(10)  # T\n",
    "bool('10.5') # T\n",
    "bool('10') # T\n",
    "bool(10.5) # T\n",
    "bool(0)   # F\n",
    "bool(0.0) # F\n",
    "bool('0') # T\n",
    "bool('0.0') # T\n",
    "bool('apple') # T\n",
    "bool('') # F"
   ]
  }
 ],
 "metadata": {
  "kernelspec": {
   "display_name": "Python 3 (ipykernel)",
   "language": "python",
   "name": "python3"
  },
  "language_info": {
   "codemirror_mode": {
    "name": "ipython",
    "version": 3
   },
   "file_extension": ".py",
   "mimetype": "text/x-python",
   "name": "python",
   "nbconvert_exporter": "python",
   "pygments_lexer": "ipython3",
   "version": "3.11.7"
  }
 },
 "nbformat": 4,
 "nbformat_minor": 5
}
