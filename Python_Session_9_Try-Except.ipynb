{
 "cells": [
  {
   "cell_type": "markdown",
   "id": "2d642002-14dc-48c7-b997-5a0f52238961",
   "metadata": {},
   "source": [
    "**Try-Except**\n",
    "\n",
    "- try and exception are two blocks\n",
    "\n",
    "- Original code will write under **try block**\n",
    "\n",
    "- if any error occures in original code\n",
    "\n",
    "- it will redirect to **except** block\n",
    "\n",
    "- **except** block will catch the errors in try block"
   ]
  },
  {
   "cell_type": "code",
   "execution_count": null,
   "id": "e4c7850f-d48c-4446-ad2d-432f06130e0d",
   "metadata": {},
   "outputs": [],
   "source": [
    "- syntax error :  )\n",
    "\n",
    "- case sentitive error\n",
    "\n",
    "- name error  female \n",
    "\n",
    "- zero division error\n",
    "\n",
    "- indenation error"
   ]
  },
  {
   "cell_type": "code",
   "execution_count": 1,
   "id": "bbe17d7b-b181-4735-bbe1-22d977626cd7",
   "metadata": {},
   "outputs": [
    {
     "ename": "ZeroDivisionError",
     "evalue": "division by zero",
     "output_type": "error",
     "traceback": [
      "\u001b[1;31m---------------------------------------------------------------------------\u001b[0m",
      "\u001b[1;31mZeroDivisionError\u001b[0m                         Traceback (most recent call last)",
      "Cell \u001b[1;32mIn[1], line 1\u001b[0m\n\u001b[1;32m----> 1\u001b[0m \u001b[38;5;241m10\u001b[39m\u001b[38;5;241m/\u001b[39m\u001b[38;5;241m0\u001b[39m\n",
      "\u001b[1;31mZeroDivisionError\u001b[0m: division by zero"
     ]
    }
   ],
   "source": [
    "10/0"
   ]
  },
  {
   "cell_type": "code",
   "execution_count": 3,
   "id": "ee18161a-acb4-407f-b474-45157bd99616",
   "metadata": {},
   "outputs": [
    {
     "ename": "NameError",
     "evalue": "name 'b' is not defined",
     "output_type": "error",
     "traceback": [
      "\u001b[1;31m---------------------------------------------------------------------------\u001b[0m",
      "\u001b[1;31mNameError\u001b[0m                                 Traceback (most recent call last)",
      "Cell \u001b[1;32mIn[3], line 1\u001b[0m\n\u001b[1;32m----> 1\u001b[0m \u001b[38;5;124m'\u001b[39m\u001b[38;5;124ma\u001b[39m\u001b[38;5;124m'\u001b[39m\u001b[38;5;241m+\u001b[39mb\n",
      "\u001b[1;31mNameError\u001b[0m: name 'b' is not defined"
     ]
    }
   ],
   "source": [
    "'a'+b"
   ]
  },
  {
   "cell_type": "code",
   "execution_count": 8,
   "id": "bc1e62d4-5e01-4eed-b013-fbf3cddb6df4",
   "metadata": {},
   "outputs": [
    {
     "name": "stdout",
     "output_type": "stream",
     "text": [
      "True\n"
     ]
    }
   ],
   "source": [
    "if 100>10:\n",
    "    print('True')"
   ]
  },
  {
   "cell_type": "code",
   "execution_count": 13,
   "id": "a70a5f9b-247f-4461-a3eb-d005ee035c97",
   "metadata": {},
   "outputs": [
    {
     "ename": "NameError",
     "evalue": "name 'n22' is not defined",
     "output_type": "error",
     "traceback": [
      "\u001b[1;31m---------------------------------------------------------------------------\u001b[0m",
      "\u001b[1;31mNameError\u001b[0m                                 Traceback (most recent call last)",
      "Cell \u001b[1;32mIn[13], line 3\u001b[0m\n\u001b[0;32m      1\u001b[0m n1\u001b[38;5;241m=\u001b[39m\u001b[38;5;241m10\u001b[39m\n\u001b[0;32m      2\u001b[0m n2\u001b[38;5;241m=\u001b[39m\u001b[38;5;241m20\u001b[39m\n\u001b[1;32m----> 3\u001b[0m add\u001b[38;5;241m=\u001b[39mn1\u001b[38;5;241m+\u001b[39mn22\n\u001b[0;32m      4\u001b[0m \u001b[38;5;28mprint\u001b[39m(add)\n",
      "\u001b[1;31mNameError\u001b[0m: name 'n22' is not defined"
     ]
    }
   ],
   "source": [
    "n1=10\n",
    "n2=20\n",
    "add=n1+n22\n",
    "print(add)"
   ]
  },
  {
   "cell_type": "code",
   "execution_count": 12,
   "id": "20f25da4-d65d-42b9-bec7-230a2ed28f4c",
   "metadata": {},
   "outputs": [
    {
     "name": "stdout",
     "output_type": "stream",
     "text": [
      "10\n",
      "20\n",
      "hello the code is not good\n"
     ]
    }
   ],
   "source": [
    "try:\n",
    "    n1=10\n",
    "    print(n1)\n",
    "    n2=20\n",
    "    print(n2)\n",
    "    add=n1+n22\n",
    "    print(add)\n",
    "except:\n",
    "    print('hello the code is not good')"
   ]
  },
  {
   "cell_type": "code",
   "execution_count": null,
   "id": "a8b8ccf6-47ee-4d92-9449-53971642668c",
   "metadata": {},
   "outputs": [],
   "source": [
    "try:\n",
    "    <write your original code>\n",
    "except:\n",
    "    <catch the error here>"
   ]
  },
  {
   "cell_type": "code",
   "execution_count": null,
   "id": "9517e000-7bd7-497e-83da-bf943a61131b",
   "metadata": {},
   "outputs": [],
   "source": [
    "try:\n",
    "    <write your code>\n",
    "except Exception as e:\n",
    "    print(e)"
   ]
  },
  {
   "cell_type": "code",
   "execution_count": 16,
   "id": "21924603-4a89-4b89-a7f3-e2b656692eb7",
   "metadata": {},
   "outputs": [
    {
     "name": "stdout",
     "output_type": "stream",
     "text": [
      "10\n",
      "20\n",
      "name 'n22' is not defined\n"
     ]
    }
   ],
   "source": [
    "try:\n",
    "    n1=10\n",
    "    print(n1)\n",
    "    n2=20\n",
    "    print(n2)\n",
    "    add=n1+n22\n",
    "    print(add)\n",
    "except Exception as e:\n",
    "    print(e)"
   ]
  },
  {
   "cell_type": "code",
   "execution_count": null,
   "id": "a234aed7-13e8-4a9f-8040-136b40b369c3",
   "metadata": {},
   "outputs": [],
   "source": [
    "n1=eval(input('enter the n1:'))\n",
    "n2=eval(input('enter the n2'))\n",
    "div=n1/n2\n",
    "print(div)"
   ]
  },
  {
   "cell_type": "code",
   "execution_count": 20,
   "id": "df11e8f2-e944-4739-a671-240a8df564b8",
   "metadata": {},
   "outputs": [
    {
     "name": "stdin",
     "output_type": "stream",
     "text": [
      "enter the n1: 100\n",
      "enter the n2 0\n"
     ]
    },
    {
     "name": "stdout",
     "output_type": "stream",
     "text": [
      "division by zero\n"
     ]
    }
   ],
   "source": [
    "try:\n",
    "    n1=eval(input('enter the n1:'))\n",
    "    n2=eval(input('enter the n2'))\n",
    "    div=n1/n2\n",
    "    print(div)\n",
    "except Exception as e:\n",
    "    print(e)"
   ]
  },
  {
   "cell_type": "code",
   "execution_count": null,
   "id": "fa0625b4-ccf4-426b-8955-d992a5f5be64",
   "metadata": {},
   "outputs": [],
   "source": [
    "try:\n",
    "    n1=eval(input('enter the n1:'))\n",
    "    n2=eval(input('enter the n2'))\n",
    "    div=n1/n2\n",
    "    print(div)\n",
    "except Exception as e:\n",
    "    print(e)"
   ]
  },
  {
   "cell_type": "code",
   "execution_count": 24,
   "id": "9737ae39-041e-45b5-be98-4f472a05c707",
   "metadata": {},
   "outputs": [
    {
     "name": "stdin",
     "output_type": "stream",
     "text": [
      "enter a num: 25\n"
     ]
    },
    {
     "name": "stdout",
     "output_type": "stream",
     "text": [
      "name 'nummmm' is not defined\n"
     ]
    }
   ],
   "source": [
    "num=eval(input('enter a num:'))\n",
    "try:\n",
    "    if nummmm>=60:\n",
    "        print('A')\n",
    "    elif num>=45:\n",
    "        print('B')\n",
    "except Exception as e:\n",
    "    print(e)"
   ]
  },
  {
   "cell_type": "code",
   "execution_count": null,
   "id": "babcfea3-4811-4ec7-bd23-ecf678bbdffd",
   "metadata": {},
   "outputs": [],
   "source": [
    "# in the real time we will write thsounads of lines\n",
    "# what will happen\n",
    "# the same code wil work on your==== not work \n",
    "\n",
    "# 2000 lines\n",
    "#  1500 ==== client might be get error\n",
    "#            the error is doesnot matter\n",
    "#            it will not impact the output"
   ]
  },
  {
   "cell_type": "code",
   "execution_count": 25,
   "id": "c778069b-291f-4d20-9ac8-bb67ed5d50df",
   "metadata": {},
   "outputs": [
    {
     "name": "stdout",
     "output_type": "stream",
     "text": [
      "10\n",
      "20\n"
     ]
    },
    {
     "ename": "NameError",
     "evalue": "name 'n234' is not defined",
     "output_type": "error",
     "traceback": [
      "\u001b[1;31m---------------------------------------------------------------------------\u001b[0m",
      "\u001b[1;31mNameError\u001b[0m                                 Traceback (most recent call last)",
      "Cell \u001b[1;32mIn[25], line 5\u001b[0m\n\u001b[0;32m      3\u001b[0m n2\u001b[38;5;241m=\u001b[39m\u001b[38;5;241m20\u001b[39m\n\u001b[0;32m      4\u001b[0m \u001b[38;5;28mprint\u001b[39m(n2)\n\u001b[1;32m----> 5\u001b[0m n1\u001b[38;5;241m+\u001b[39mn234\n\u001b[0;32m      6\u001b[0m \u001b[38;5;28mprint\u001b[39m(\u001b[38;5;124m'\u001b[39m\u001b[38;5;124mhello\u001b[39m\u001b[38;5;124m'\u001b[39m)\n",
      "\u001b[1;31mNameError\u001b[0m: name 'n234' is not defined"
     ]
    }
   ],
   "source": [
    "n1=10\n",
    "print(n1)\n",
    "n2=20\n",
    "print(n2)\n",
    "n1+n234\n",
    "print('hello')"
   ]
  },
  {
   "cell_type": "code",
   "execution_count": 27,
   "id": "f48bf9ae-4da6-4dcc-9da9-27a894e4ea59",
   "metadata": {},
   "outputs": [
    {
     "name": "stdout",
     "output_type": "stream",
     "text": [
      "10\n",
      "20\n",
      "hello\n",
      "bye\n"
     ]
    }
   ],
   "source": [
    "try:\n",
    "    n1=10\n",
    "    print(n1)\n",
    "    n2=20\n",
    "    print(n2)\n",
    "    n1+n234\n",
    "except Exception as e:\n",
    "    print('hello')\n",
    "\n",
    "print('bye')"
   ]
  },
  {
   "cell_type": "code",
   "execution_count": null,
   "id": "49864fa2-1196-43ab-a9fb-5d66f7760c5c",
   "metadata": {},
   "outputs": [],
   "source": []
  }
 ],
 "metadata": {
  "kernelspec": {
   "display_name": "Python 3 (ipykernel)",
   "language": "python",
   "name": "python3"
  },
  "language_info": {
   "codemirror_mode": {
    "name": "ipython",
    "version": 3
   },
   "file_extension": ".py",
   "mimetype": "text/x-python",
   "name": "python",
   "nbconvert_exporter": "python",
   "pygments_lexer": "ipython3",
   "version": "3.11.7"
  }
 },
 "nbformat": 4,
 "nbformat_minor": 5
}
