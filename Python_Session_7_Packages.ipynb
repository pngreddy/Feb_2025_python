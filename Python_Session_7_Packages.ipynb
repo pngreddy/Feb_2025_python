{
 "cells": [
  {
   "cell_type": "code",
   "execution_count": null,
   "id": "5a942676-f4a6-40d2-9462-1f2fc6d6e97a",
   "metadata": {},
   "outputs": [],
   "source": [
    "# Generally packages will not teach in this early\n",
    "# DS and AI packages  heart\n",
    "# \n",
    "\n",
    "# Nandu is developed code\n",
    "#  addition of two numbers\n",
    "# Nandu felt that in the entrire world \n",
    "# he only created addition code\n",
    "# Nandu is very charity guy\n",
    "# he wants to give the addition code to entire world\n",
    "\n",
    "# he went to anaconda organization\n",
    "# who ever install your software\n",
    "# my code should automatically come to their laptop\n",
    "\n",
    "# what is your code name : Addition\n",
    "# PACKAGE \n",
    "# Module"
   ]
  },
  {
   "cell_type": "code",
   "execution_count": null,
   "id": "6fefcbbf-a2ae-4584-8b0b-0d9acf118f4d",
   "metadata": {},
   "outputs": [],
   "source": [
    "# He sent that code in the format\n",
    "# Package \n",
    "#   Code === addition (method )"
   ]
  },
  {
   "cell_type": "markdown",
   "id": "49a720e2-8841-4092-8f82-f009517ddc36",
   "metadata": {},
   "source": [
    "**import**"
   ]
  },
  {
   "cell_type": "code",
   "execution_count": null,
   "id": "3f00fda1-ebe5-4e90-8691-c397521030aa",
   "metadata": {},
   "outputs": [],
   "source": [
    "#import <package name>"
   ]
  },
  {
   "cell_type": "code",
   "execution_count": 1,
   "id": "57ff309b-bb66-473e-a415-28eb0518d079",
   "metadata": {},
   "outputs": [],
   "source": [
    "# package name: random\n",
    "import random"
   ]
  },
  {
   "cell_type": "code",
   "execution_count": 2,
   "id": "daac98da-1c5f-44de-b69c-7eaae986fe07",
   "metadata": {},
   "outputs": [],
   "source": [
    "# package name : math\n",
    "import math"
   ]
  },
  {
   "cell_type": "code",
   "execution_count": 3,
   "id": "29a53cf5-7ac3-4b0b-abd5-0834f5f25103",
   "metadata": {},
   "outputs": [],
   "source": [
    "# package name : keyword\n",
    "import keyword"
   ]
  },
  {
   "cell_type": "code",
   "execution_count": 4,
   "id": "c631c8fe-d0e9-4680-bea0-f29c79ce45d9",
   "metadata": {},
   "outputs": [],
   "source": [
    "# package name: string\n",
    "import string"
   ]
  },
  {
   "cell_type": "code",
   "execution_count": 5,
   "id": "54ad0ed7-39e3-4c1a-92ee-7b41ca2e81cc",
   "metadata": {},
   "outputs": [],
   "source": [
    "# package name : time\n",
    "import time"
   ]
  },
  {
   "cell_type": "code",
   "execution_count": 6,
   "id": "5f081954-c95b-4cde-b998-6d4e6f946a6a",
   "metadata": {},
   "outputs": [],
   "source": [
    "# package name: cv2\n",
    "import cv2"
   ]
  },
  {
   "cell_type": "code",
   "execution_count": null,
   "id": "b05a7061-58c9-4ba0-a5e4-15c43e5ab1e2",
   "metadata": {},
   "outputs": [],
   "source": [
    "# if package is not avaialbel \n",
    "# No module found"
   ]
  },
  {
   "cell_type": "code",
   "execution_count": 7,
   "id": "3639716f-947e-47b4-93ac-e3d3e8ec1a85",
   "metadata": {},
   "outputs": [
    {
     "data": {
      "text/plain": [
       "<module 'random' from 'C:\\\\Users\\\\omkar\\\\anaconda3\\\\Lib\\\\random.py'>"
      ]
     },
     "execution_count": 7,
     "metadata": {},
     "output_type": "execute_result"
    }
   ],
   "source": [
    "random"
   ]
  },
  {
   "cell_type": "code",
   "execution_count": null,
   "id": "b14f87ee-8305-4a2b-8ee8-e63fd5047b8b",
   "metadata": {},
   "outputs": [],
   "source": [
    "# Nandu\n",
    "#===========MATH ===============\n",
    "#   mul\n",
    "#   sub\n",
    "#   mul\n",
    "#   div\n",
    "###############################"
   ]
  },
  {
   "cell_type": "markdown",
   "id": "9ee0e157-c5a9-4423-8e96-f47207fa8be1",
   "metadata": {},
   "source": [
    "**dir**"
   ]
  },
  {
   "cell_type": "code",
   "execution_count": 8,
   "id": "80cffa36-6bb7-4db0-8bfc-768ede510f6e",
   "metadata": {},
   "outputs": [
    {
     "data": {
      "text/plain": [
       "['BPF',\n",
       " 'LOG4',\n",
       " 'NV_MAGICCONST',\n",
       " 'RECIP_BPF',\n",
       " 'Random',\n",
       " 'SG_MAGICCONST',\n",
       " 'SystemRandom',\n",
       " 'TWOPI',\n",
       " '_ONE',\n",
       " '_Sequence',\n",
       " '_Set',\n",
       " '__all__',\n",
       " '__builtins__',\n",
       " '__cached__',\n",
       " '__doc__',\n",
       " '__file__',\n",
       " '__loader__',\n",
       " '__name__',\n",
       " '__package__',\n",
       " '__spec__',\n",
       " '_accumulate',\n",
       " '_acos',\n",
       " '_bisect',\n",
       " '_ceil',\n",
       " '_cos',\n",
       " '_e',\n",
       " '_exp',\n",
       " '_floor',\n",
       " '_index',\n",
       " '_inst',\n",
       " '_isfinite',\n",
       " '_log',\n",
       " '_os',\n",
       " '_pi',\n",
       " '_random',\n",
       " '_repeat',\n",
       " '_sha512',\n",
       " '_sin',\n",
       " '_sqrt',\n",
       " '_test',\n",
       " '_test_generator',\n",
       " '_urandom',\n",
       " '_warn',\n",
       " 'betavariate',\n",
       " 'choice',\n",
       " 'choices',\n",
       " 'expovariate',\n",
       " 'gammavariate',\n",
       " 'gauss',\n",
       " 'getrandbits',\n",
       " 'getstate',\n",
       " 'lognormvariate',\n",
       " 'normalvariate',\n",
       " 'paretovariate',\n",
       " 'randbytes',\n",
       " 'randint',\n",
       " 'random',\n",
       " 'randrange',\n",
       " 'sample',\n",
       " 'seed',\n",
       " 'setstate',\n",
       " 'shuffle',\n",
       " 'triangular',\n",
       " 'uniform',\n",
       " 'vonmisesvariate',\n",
       " 'weibullvariate']"
      ]
     },
     "execution_count": 8,
     "metadata": {},
     "output_type": "execute_result"
    }
   ],
   "source": [
    "# step-1:  import <package name>\n",
    "# step-2:  dir(<package name>)\n",
    "import random\n",
    "dir(random)"
   ]
  },
  {
   "cell_type": "markdown",
   "id": "c2fbd7d3-42b9-41f2-8bb4-9a6c5a94b537",
   "metadata": {},
   "source": [
    "**help**"
   ]
  },
  {
   "cell_type": "code",
   "execution_count": 10,
   "id": "be4bddbe-6b10-4de9-b3ee-f4667b9e5e3f",
   "metadata": {},
   "outputs": [
    {
     "name": "stdout",
     "output_type": "stream",
     "text": [
      "Help on method randint in module random:\n",
      "\n",
      "randint(a, b) method of random.Random instance\n",
      "    Return random integer in range [a, b], including both end points.\n",
      "\n"
     ]
    }
   ],
   "source": [
    "# I want to learn about\n",
    "# a method called randint\n",
    "# what it will do\n",
    "# help(<package name>.<method name>)\n",
    "help(random.randint)"
   ]
  },
  {
   "cell_type": "code",
   "execution_count": 13,
   "id": "33ff0198-b3c2-4cc7-880f-6dbaa9999a5c",
   "metadata": {},
   "outputs": [
    {
     "name": "stdout",
     "output_type": "stream",
     "text": [
      "Help on method randint in module random:\n",
      "\n",
      "randint(a, b) method of random.Random instance\n",
      "    Return random integer in range [a, b], including both end points.\n",
      "\n"
     ]
    }
   ],
   "source": [
    "# step-1: import pacake_name\n",
    "# step-2: dir(package_name)\n",
    "# step-3: help(package_name.method_name)\n",
    "\n",
    "import random\n",
    "dir(random)\n",
    "help(random.randint)"
   ]
  },
  {
   "cell_type": "code",
   "execution_count": 15,
   "id": "5641f2f9-d2d4-4e6b-8c83-2f63c945ecfe",
   "metadata": {},
   "outputs": [
    {
     "data": {
      "text/plain": [
       "18"
      ]
     },
     "execution_count": 15,
     "metadata": {},
     "output_type": "execute_result"
    }
   ],
   "source": [
    "random.randint(10,20)\n",
    "# 10 might be come and 20 also might be come"
   ]
  },
  {
   "cell_type": "code",
   "execution_count": null,
   "id": "bef20e5b-d47c-4cf2-8cc3-544b1ac03590",
   "metadata": {},
   "outputs": [],
   "source": [
    "import random\n",
    "dir(random)\n",
    "help(random.randint)\n",
    "random.randint(10,20)"
   ]
  },
  {
   "cell_type": "code",
   "execution_count": 16,
   "id": "4a84bd5f-939d-4e5f-b5d1-f101eb5f5bb2",
   "metadata": {},
   "outputs": [
    {
     "name": "stdout",
     "output_type": "stream",
     "text": [
      "Help on method randint in module random:\n",
      "\n",
      "randint(a, b) method of random.Random instance\n",
      "    Return random integer in range [a, b], including both end points.\n",
      "\n"
     ]
    },
    {
     "data": {
      "text/plain": [
       "9"
      ]
     },
     "execution_count": 16,
     "metadata": {},
     "output_type": "execute_result"
    }
   ],
   "source": [
    "# step-1: import package_name\n",
    "# step-2: dir(package_name)\n",
    "# step-3: help(package_name.methodname)\n",
    "# step-4: apply the operation\n",
    "import random\n",
    "dir(random)  # I want to use randint\n",
    "help(random.randint) # i understood the story\n",
    "random.randint(1,10)\n"
   ]
  },
  {
   "cell_type": "code",
   "execution_count": 18,
   "id": "9ebe50e2-a5d6-4646-81e3-ad2ca3e87481",
   "metadata": {},
   "outputs": [
    {
     "name": "stdout",
     "output_type": "stream",
     "text": [
      "Help on built-in function random:\n",
      "\n",
      "random() method of random.Random instance\n",
      "    random() -> x in the interval [0, 1).\n",
      "\n"
     ]
    }
   ],
   "source": [
    "# package name: random\n",
    "# method name : random\n",
    "help(random.random)\n"
   ]
  },
  {
   "cell_type": "code",
   "execution_count": 19,
   "id": "ef2b378b-6c94-4bfd-8d95-471b392cdc66",
   "metadata": {},
   "outputs": [
    {
     "name": "stdout",
     "output_type": "stream",
     "text": [
      "Help on method randint in module random:\n",
      "\n",
      "randint(a, b) method of random.Random instance\n",
      "    Return random integer in range [a, b], including both end points.\n",
      "\n"
     ]
    }
   ],
   "source": [
    "help(random.randint)"
   ]
  },
  {
   "cell_type": "code",
   "execution_count": 20,
   "id": "67f95bba-e054-47ee-81ca-b65cb0f4dcbf",
   "metadata": {},
   "outputs": [
    {
     "data": {
      "text/plain": [
       "<module 'random' from 'C:\\\\Users\\\\omkar\\\\anaconda3\\\\Lib\\\\random.py'>"
      ]
     },
     "execution_count": 20,
     "metadata": {},
     "output_type": "execute_result"
    }
   ],
   "source": [
    "random"
   ]
  },
  {
   "cell_type": "code",
   "execution_count": 24,
   "id": "75bc1d25-045b-480d-94b7-ba61cc6e0973",
   "metadata": {},
   "outputs": [
    {
     "name": "stdout",
     "output_type": "stream",
     "text": [
      "Help on built-in function random:\n",
      "\n",
      "random() method of random.Random instance\n",
      "    random() -> x in the interval [0, 1).\n",
      "\n"
     ]
    },
    {
     "data": {
      "text/plain": [
       "0.9341259331096836"
      ]
     },
     "execution_count": 24,
     "metadata": {},
     "output_type": "execute_result"
    }
   ],
   "source": [
    "import random\n",
    "help(random.random)\n",
    "random.random()     \n",
    "# take your cursor inside the brackets\n",
    "# then apply shift+tab"
   ]
  },
  {
   "cell_type": "code",
   "execution_count": 29,
   "id": "1564ad49-f68f-4ae3-8750-97aa3ae774a7",
   "metadata": {},
   "outputs": [
    {
     "name": "stdout",
     "output_type": "stream",
     "text": [
      "Help on method randrange in module random:\n",
      "\n",
      "randrange(start, stop=None, step=1) method of random.Random instance\n",
      "    Choose a random item from range(stop) or range(start, stop[, step]).\n",
      "    \n",
      "    Roughly equivalent to ``choice(range(start, stop, step))`` but\n",
      "    supports arbitrarily large ranges and is optimized for common cases.\n",
      "\n"
     ]
    },
    {
     "data": {
      "text/plain": [
       "5"
      ]
     },
     "execution_count": 29,
     "metadata": {},
     "output_type": "execute_result"
    }
   ],
   "source": [
    "# package name: random\n",
    "# method name: randrange\n",
    "import random\n",
    "help(random.randrange)\n",
    "random.randrange(2,10,3)\n",
    "# start=2   stop=10  gap=3\n",
    "# 2  3  4  5  6  7  8  9  10\n",
    "# 2        5        8  \n",
    "# out of 2,5,8 a random number will come"
   ]
  },
  {
   "cell_type": "code",
   "execution_count": 30,
   "id": "8898948c-44c7-4363-97bf-1245c71eb961",
   "metadata": {},
   "outputs": [
    {
     "data": {
      "text/plain": [
       "(10, 0.19138700519732954, 14)"
      ]
     },
     "execution_count": 30,
     "metadata": {},
     "output_type": "execute_result"
    }
   ],
   "source": [
    "import random\n",
    "v1=random.randint(1,10)\n",
    "v2=random.random()\n",
    "v3=random.randrange(2,20,3)\n",
    "v1,v2,v3"
   ]
  },
  {
   "cell_type": "code",
   "execution_count": 32,
   "id": "b4e18904-d378-4c42-b517-c657ea67880e",
   "metadata": {},
   "outputs": [
    {
     "name": "stdout",
     "output_type": "stream",
     "text": [
      "Help on method randrange in module random:\n",
      "\n",
      "randrange(start, stop=None, step=1) method of random.Random instance\n",
      "    Choose a random item from range(stop) or range(start, stop[, step]).\n",
      "    \n",
      "    Roughly equivalent to ``choice(range(start, stop, step))`` but\n",
      "    supports arbitrarily large ranges and is optimized for common cases.\n",
      "\n"
     ]
    }
   ],
   "source": [
    "help(random.randrange)"
   ]
  },
  {
   "cell_type": "code",
   "execution_count": 33,
   "id": "73a25da5-2757-47f6-a731-95a2cc52070a",
   "metadata": {},
   "outputs": [
    {
     "data": {
      "text/plain": [
       "['__doc__',\n",
       " '__loader__',\n",
       " '__name__',\n",
       " '__package__',\n",
       " '__spec__',\n",
       " 'acos',\n",
       " 'acosh',\n",
       " 'asin',\n",
       " 'asinh',\n",
       " 'atan',\n",
       " 'atan2',\n",
       " 'atanh',\n",
       " 'cbrt',\n",
       " 'ceil',\n",
       " 'comb',\n",
       " 'copysign',\n",
       " 'cos',\n",
       " 'cosh',\n",
       " 'degrees',\n",
       " 'dist',\n",
       " 'e',\n",
       " 'erf',\n",
       " 'erfc',\n",
       " 'exp',\n",
       " 'exp2',\n",
       " 'expm1',\n",
       " 'fabs',\n",
       " 'factorial',\n",
       " 'floor',\n",
       " 'fmod',\n",
       " 'frexp',\n",
       " 'fsum',\n",
       " 'gamma',\n",
       " 'gcd',\n",
       " 'hypot',\n",
       " 'inf',\n",
       " 'isclose',\n",
       " 'isfinite',\n",
       " 'isinf',\n",
       " 'isnan',\n",
       " 'isqrt',\n",
       " 'lcm',\n",
       " 'ldexp',\n",
       " 'lgamma',\n",
       " 'log',\n",
       " 'log10',\n",
       " 'log1p',\n",
       " 'log2',\n",
       " 'modf',\n",
       " 'nan',\n",
       " 'nextafter',\n",
       " 'perm',\n",
       " 'pi',\n",
       " 'pow',\n",
       " 'prod',\n",
       " 'radians',\n",
       " 'remainder',\n",
       " 'sin',\n",
       " 'sinh',\n",
       " 'sqrt',\n",
       " 'tan',\n",
       " 'tanh',\n",
       " 'tau',\n",
       " 'trunc',\n",
       " 'ulp']"
      ]
     },
     "execution_count": 33,
     "metadata": {},
     "output_type": "execute_result"
    }
   ],
   "source": [
    "# package name : math\n",
    "# method name:\n",
    "import math\n",
    "dir(math)"
   ]
  },
  {
   "cell_type": "code",
   "execution_count": null,
   "id": "0dfdbc9a-0a1c-415c-b9b3-a8bb0e2fc87c",
   "metadata": {},
   "outputs": [],
   "source": [
    "# package name= math\n",
    "# method name=pow\n",
    "# method name= sqrt\n",
    "# method name= pi  \n",
    "#   math.pi\n",
    "# method name= sin\n",
    "# method name= cos"
   ]
  },
  {
   "cell_type": "code",
   "execution_count": 34,
   "id": "27307648-941a-4f15-a90d-c43b251185fd",
   "metadata": {},
   "outputs": [
    {
     "name": "stdout",
     "output_type": "stream",
     "text": [
      "Help on built-in function pow in module math:\n",
      "\n",
      "pow(x, y, /)\n",
      "    Return x**y (x to the power of y).\n",
      "\n"
     ]
    }
   ],
   "source": [
    "import math\n",
    "help(math.pow)"
   ]
  },
  {
   "cell_type": "code",
   "execution_count": 35,
   "id": "5c10d101-076e-4f5d-8545-583cdbf9016c",
   "metadata": {},
   "outputs": [
    {
     "data": {
      "text/plain": [
       "16.0"
      ]
     },
     "execution_count": 35,
     "metadata": {},
     "output_type": "execute_result"
    }
   ],
   "source": [
    "math.pow(2,4)  #  2^4"
   ]
  },
  {
   "cell_type": "code",
   "execution_count": 36,
   "id": "649ce257-7bc0-42b8-bbf8-48781a4483dc",
   "metadata": {},
   "outputs": [
    {
     "data": {
      "text/plain": [
       "5.0"
      ]
     },
     "execution_count": 36,
     "metadata": {},
     "output_type": "execute_result"
    }
   ],
   "source": [
    "math.sqrt(25)"
   ]
  },
  {
   "cell_type": "code",
   "execution_count": 37,
   "id": "89d3f8a5-5ffc-427d-a1fb-68c57b81b50d",
   "metadata": {},
   "outputs": [
    {
     "data": {
      "text/plain": [
       "3.141592653589793"
      ]
     },
     "execution_count": 37,
     "metadata": {},
     "output_type": "execute_result"
    }
   ],
   "source": [
    "math.pi"
   ]
  },
  {
   "cell_type": "code",
   "execution_count": 38,
   "id": "db1475a4-8f8e-49a3-9a0c-0d3b695380d9",
   "metadata": {},
   "outputs": [
    {
     "data": {
      "text/plain": [
       "0.8939966636005579"
      ]
     },
     "execution_count": 38,
     "metadata": {},
     "output_type": "execute_result"
    }
   ],
   "source": [
    "math.sin(90)"
   ]
  },
  {
   "cell_type": "code",
   "execution_count": 39,
   "id": "3fde1f7b-f3d9-4a58-87ef-d688eb6f7bad",
   "metadata": {},
   "outputs": [
    {
     "data": {
      "text/plain": [
       "-0.4480736161291701"
      ]
     },
     "execution_count": 39,
     "metadata": {},
     "output_type": "execute_result"
    }
   ],
   "source": [
    "math.cos(90)"
   ]
  },
  {
   "cell_type": "markdown",
   "id": "59abdc46-6f7a-4ac2-a657-ac7bc27cbe42",
   "metadata": {},
   "source": [
    "**keyword**"
   ]
  },
  {
   "cell_type": "markdown",
   "id": "4f1443f3-f5b1-49ff-a068-0cdca3db4368",
   "metadata": {},
   "source": [
    "- import the package\n",
    "\n",
    "- apply the dir\n",
    "\n",
    "- method name: kwlist"
   ]
  },
  {
   "cell_type": "code",
   "execution_count": 46,
   "id": "f1c5d679-0e59-4a87-b3f3-3640977e9af2",
   "metadata": {},
   "outputs": [
    {
     "data": {
      "text/plain": [
       "35"
      ]
     },
     "execution_count": 46,
     "metadata": {},
     "output_type": "execute_result"
    }
   ],
   "source": [
    "import keyword\n",
    "keyword.kwlist\n",
    "len(keyword.kwlist)"
   ]
  },
  {
   "cell_type": "markdown",
   "id": "b082f238-29f3-42c8-8c93-48d6319d8c09",
   "metadata": {},
   "source": [
    "**time**\n"
   ]
  },
  {
   "cell_type": "code",
   "execution_count": 44,
   "id": "12441066-c14a-469e-b0f0-88c1eec32876",
   "metadata": {},
   "outputs": [
    {
     "name": "stdout",
     "output_type": "stream",
     "text": [
      "hello\n"
     ]
    }
   ],
   "source": [
    "import time\n",
    "time.sleep(5)\n",
    "print('hello')"
   ]
  },
  {
   "cell_type": "code",
   "execution_count": 47,
   "id": "9021b6e0-bebb-43dd-945a-49f3de5002d0",
   "metadata": {},
   "outputs": [
    {
     "ename": "AttributeError",
     "evalue": "module 'random' has no attribute 'ranin'",
     "output_type": "error",
     "traceback": [
      "\u001b[1;31m---------------------------------------------------------------------------\u001b[0m",
      "\u001b[1;31mAttributeError\u001b[0m                            Traceback (most recent call last)",
      "Cell \u001b[1;32mIn[47], line 3\u001b[0m\n\u001b[0;32m      1\u001b[0m \u001b[38;5;66;03m# random\u001b[39;00m\n\u001b[0;32m      2\u001b[0m \u001b[38;5;66;03m# randint\u001b[39;00m\n\u001b[1;32m----> 3\u001b[0m random\u001b[38;5;241m.\u001b[39mranin\n",
      "\u001b[1;31mAttributeError\u001b[0m: module 'random' has no attribute 'ranin'"
     ]
    }
   ],
   "source": [
    "# random\n",
    "# randint\n",
    "random.randint"
   ]
  },
  {
   "cell_type": "code",
   "execution_count": 48,
   "id": "7e55a77b-ffad-4413-a3a8-3130665e7f2a",
   "metadata": {},
   "outputs": [
    {
     "data": {
      "text/plain": [
       "['Formatter',\n",
       " 'Template',\n",
       " '_ChainMap',\n",
       " '__all__',\n",
       " '__builtins__',\n",
       " '__cached__',\n",
       " '__doc__',\n",
       " '__file__',\n",
       " '__loader__',\n",
       " '__name__',\n",
       " '__package__',\n",
       " '__spec__',\n",
       " '_re',\n",
       " '_sentinel_dict',\n",
       " '_string',\n",
       " 'ascii_letters',\n",
       " 'ascii_lowercase',\n",
       " 'ascii_uppercase',\n",
       " 'capwords',\n",
       " 'digits',\n",
       " 'hexdigits',\n",
       " 'octdigits',\n",
       " 'printable',\n",
       " 'punctuation',\n",
       " 'whitespace']"
      ]
     },
     "execution_count": 48,
     "metadata": {},
     "output_type": "execute_result"
    }
   ],
   "source": [
    "# we are trying to use the method\n",
    "# but it wil not available\n",
    "\n",
    "\n",
    "# string\n",
    "import string\n",
    "dir(string)"
   ]
  },
  {
   "cell_type": "code",
   "execution_count": 49,
   "id": "fb13ee9c-1f67-4c6b-b3c4-bc598361de6c",
   "metadata": {},
   "outputs": [
    {
     "data": {
      "text/plain": [
       "'abcdefghijklmnopqrstuvwxyzABCDEFGHIJKLMNOPQRSTUVWXYZ'"
      ]
     },
     "execution_count": 49,
     "metadata": {},
     "output_type": "execute_result"
    }
   ],
   "source": [
    "string.ascii_letters"
   ]
  },
  {
   "cell_type": "code",
   "execution_count": 50,
   "id": "2aeaa0ae-65cf-42ca-ab14-35c009960b4c",
   "metadata": {},
   "outputs": [
    {
     "data": {
      "text/plain": [
       "'abcdefghijklmnopqrstuvwxyz'"
      ]
     },
     "execution_count": 50,
     "metadata": {},
     "output_type": "execute_result"
    }
   ],
   "source": [
    "string.ascii_lowercase"
   ]
  },
  {
   "cell_type": "code",
   "execution_count": 51,
   "id": "2352e353-4e80-4033-91b4-4051dedaa2d7",
   "metadata": {},
   "outputs": [
    {
     "data": {
      "text/plain": [
       "'ABCDEFGHIJKLMNOPQRSTUVWXYZ'"
      ]
     },
     "execution_count": 51,
     "metadata": {},
     "output_type": "execute_result"
    }
   ],
   "source": [
    "string.ascii_uppercase"
   ]
  },
  {
   "cell_type": "code",
   "execution_count": 52,
   "id": "b86d0b62-16a0-410b-bf9d-b65122e6a925",
   "metadata": {},
   "outputs": [
    {
     "data": {
      "text/plain": [
       "'0123456789abcdefghijklmnopqrstuvwxyzABCDEFGHIJKLMNOPQRSTUVWXYZ!\"#$%&\\'()*+,-./:;<=>?@[\\\\]^_`{|}~ \\t\\n\\r\\x0b\\x0c'"
      ]
     },
     "execution_count": 52,
     "metadata": {},
     "output_type": "execute_result"
    }
   ],
   "source": [
    "string.printable"
   ]
  },
  {
   "cell_type": "code",
   "execution_count": 53,
   "id": "2e9f20d1-0b1c-465a-8485-ee0e65a476fc",
   "metadata": {},
   "outputs": [
    {
     "data": {
      "text/plain": [
       "'!\"#$%&\\'()*+,-./:;<=>?@[\\\\]^_`{|}~'"
      ]
     },
     "execution_count": 53,
     "metadata": {},
     "output_type": "execute_result"
    }
   ],
   "source": [
    "string.punctuation"
   ]
  },
  {
   "cell_type": "code",
   "execution_count": null,
   "id": "d5b2744b-d6ec-48cd-9a9d-4ebad902ed39",
   "metadata": {},
   "outputs": [],
   "source": []
  }
 ],
 "metadata": {
  "kernelspec": {
   "display_name": "Python 3 (ipykernel)",
   "language": "python",
   "name": "python3"
  },
  "language_info": {
   "codemirror_mode": {
    "name": "ipython",
    "version": 3
   },
   "file_extension": ".py",
   "mimetype": "text/x-python",
   "name": "python",
   "nbconvert_exporter": "python",
   "pygments_lexer": "ipython3",
   "version": "3.12.7"
  }
 },
 "nbformat": 4,
 "nbformat_minor": 5
}
