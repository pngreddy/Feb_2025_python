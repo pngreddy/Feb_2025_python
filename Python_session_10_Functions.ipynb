{
 "cells": [
  {
   "cell_type": "markdown",
   "id": "0d398e18-aaf1-4494-87f4-a49aab0f0424",
   "metadata": {},
   "source": [
    "- Variables\n",
    "\n",
    "- Data types\n",
    "\n",
    "- Type casting\n",
    "\n",
    "- Print end sep \n",
    "\n",
    "- eval  and input\n",
    "\n",
    "- Basic codes\n",
    "\n",
    "- condition statements\n",
    "\n",
    "- Try-except"
   ]
  },
  {
   "cell_type": "markdown",
   "id": "17347089-a24b-4f7f-bdc7-6bc8a8768642",
   "metadata": {},
   "source": [
    "**Functions or Methods**\n",
    "\n",
    "- Reuse of code\n"
   ]
  },
  {
   "cell_type": "markdown",
   "id": "14c41178-7954-43c6-bb79-51fc97f5d5c4",
   "metadata": {},
   "source": [
    "- Functions with out arguments\n",
    "\n",
    "- Functions with arguments\n",
    "\n",
    "- Functions with default arguments\n",
    "\n",
    "- Global variable vs local variable\n",
    "\n",
    "- Functions with return statement\n",
    "\n",
    "- Functions with kwargs \n",
    "\n",
    "- Functions in functions"
   ]
  },
  {
   "cell_type": "code",
   "execution_count": null,
   "id": "7952e355-7d6f-4d55-898f-296505f79fb2",
   "metadata": {},
   "outputs": [],
   "source": [
    "# syntax\n",
    "def <function name>():\n",
    "    <write your code here>"
   ]
  },
  {
   "cell_type": "markdown",
   "id": "f1dbf383-7ffc-4b90-81e1-fe93d22eb7b8",
   "metadata": {},
   "source": [
    "**Function with out arguments**\n",
    "\n",
    "- The function we defined does not have any values or variables\n",
    "\n",
    "- These also called as arguments or parameters\n",
    "\n",
    "- simply it is a empty bracket"
   ]
  },
  {
   "cell_type": "code",
   "execution_count": 3,
   "id": "244165f6-0e97-4106-b93d-ef642dd5b915",
   "metadata": {},
   "outputs": [
    {
     "name": "stdin",
     "output_type": "stream",
     "text": [
      "enter the n1: 20\n",
      "enter the n2: 30\n"
     ]
    },
    {
     "name": "stdout",
     "output_type": "stream",
     "text": [
      "the addition of 20,30 is: 50\n"
     ]
    }
   ],
   "source": [
    "n1=eval(input('enter the n1:'))\n",
    "n2=eval(input('enter the n2:'))\n",
    "add=n1+n2\n",
    "print(f\"the addition of {n1},{n2} is: {add}\")"
   ]
  },
  {
   "cell_type": "code",
   "execution_count": 5,
   "id": "df8cd593-7634-4395-931e-0f1d777a3006",
   "metadata": {},
   "outputs": [],
   "source": [
    "def addition():\n",
    "    n1=eval(input('enter the n1:'))\n",
    "    n2=eval(input('enter the n2:'))\n",
    "    add=n1+n2\n",
    "    print(f\"the addition of {n1},{n2} is: {add}\")"
   ]
  },
  {
   "cell_type": "code",
   "execution_count": 7,
   "id": "be71225d-4424-4705-8fd5-51be230b49c3",
   "metadata": {},
   "outputs": [
    {
     "name": "stdin",
     "output_type": "stream",
     "text": [
      "enter the n1: 10\n",
      "enter the n2: 20\n"
     ]
    },
    {
     "name": "stdout",
     "output_type": "stream",
     "text": [
      "the addition of 10,20 is: 30\n"
     ]
    }
   ],
   "source": [
    "# Function is ready \n",
    "# creating function means it will not give th answer\n",
    "# you need to call the function\n",
    "addition()"
   ]
  },
  {
   "cell_type": "code",
   "execution_count": 8,
   "id": "fdd404e1-5a4b-43f1-b3ae-fa08ab1c824c",
   "metadata": {},
   "outputs": [
    {
     "data": {
      "text/plain": [
       "<function __main__.addition()>"
      ]
     },
     "execution_count": 8,
     "metadata": {},
     "output_type": "execute_result"
    }
   ],
   "source": [
    "addition"
   ]
  },
  {
   "cell_type": "code",
   "execution_count": 9,
   "id": "c06e96d1-8a78-413c-8fe1-2661d6158795",
   "metadata": {},
   "outputs": [
    {
     "data": {
      "text/plain": [
       "<bound method Random.randint of <random.Random object at 0x0000028438E1B790>>"
      ]
     },
     "execution_count": 9,
     "metadata": {},
     "output_type": "execute_result"
    }
   ],
   "source": [
    "import random\n",
    "random.randint"
   ]
  },
  {
   "cell_type": "markdown",
   "id": "b8046b58-69b3-4ed2-8f44-8013647ff916",
   "metadata": {},
   "source": [
    "**Note**\n",
    "\n",
    "- while calling the function we need to use the function name\n",
    "\n",
    "- also we need to provide brackets\n",
    "\n",
    "- in python brackets indicates it is a function or method\n",
    "\n",
    "- if we miss the brackets , it will display as\n",
    "\n",
    "    - function\n",
    "\n",
    "    - bound method"
   ]
  },
  {
   "cell_type": "code",
   "execution_count": 10,
   "id": "53e0e1c5-1352-4adc-90d1-93425195fdf6",
   "metadata": {},
   "outputs": [],
   "source": [
    "a=10"
   ]
  },
  {
   "cell_type": "code",
   "execution_count": 11,
   "id": "63dfea03-0ca3-431a-8e15-f3416a20fc31",
   "metadata": {},
   "outputs": [],
   "source": [
    "name='python'"
   ]
  },
  {
   "cell_type": "code",
   "execution_count": 12,
   "id": "79ebb768-83b8-4cc9-940b-ebd902bb7b96",
   "metadata": {},
   "outputs": [
    {
     "name": "stdin",
     "output_type": "stream",
     "text": [
      "enter the n1: 20\n",
      "enter the n2: 30\n"
     ]
    },
    {
     "name": "stdout",
     "output_type": "stream",
     "text": [
      "the addition of 20,30 is: 50\n"
     ]
    }
   ],
   "source": [
    "addition()"
   ]
  },
  {
   "cell_type": "markdown",
   "id": "bd319f15-8964-4e23-b9f0-32bb1dfa56fe",
   "metadata": {},
   "source": [
    "**Note**\n",
    "\n",
    "- Once we create the function we can use anywhere inthe same notebook\n",
    "\n",
    "- if you want to use in another notebook\n",
    "\n",
    "- we need to create as Package (OOPS)"
   ]
  },
  {
   "cell_type": "code",
   "execution_count": 14,
   "id": "f9e15aab-7145-4e8c-8e4a-135724021de7",
   "metadata": {},
   "outputs": [
    {
     "name": "stdin",
     "output_type": "stream",
     "text": [
      "enter the n1: 1\n",
      "enter the n2: 2\n"
     ]
    },
    {
     "name": "stdout",
     "output_type": "stream",
     "text": [
      "the addition of 1,2 is: 3\n"
     ]
    }
   ],
   "source": [
    "addition1()\n",
    "def addition1():\n",
    "    n1=eval(input('enter the n1:'))\n",
    "    n2=eval(input('enter the n2:'))\n",
    "    add=n1+n2\n",
    "    print(f\"the addition of {n1},{n2} is: {add}\")\n",
    "\n",
    "# The above code will give the error\n",
    "# before call the function first we need to define the function"
   ]
  },
  {
   "cell_type": "code",
   "execution_count": null,
   "id": "e98a5e09-d7c2-482f-832e-cac25ac36ac6",
   "metadata": {},
   "outputs": [],
   "source": []
  },
  {
   "cell_type": "code",
   "execution_count": null,
   "id": "50562b8f-c4fe-4e5c-bf71-472b972d210d",
   "metadata": {},
   "outputs": [],
   "source": [
    "# wap ask the user take three numbers from keyboard and print average\n",
    "#        (n1+n2+n3)/3\n",
    "# Wap ask the user take the breadth and height from keyboard\n",
    "      # calculate area of right angle traingle\n",
    "      # Formula= 0.5*b*h\n",
    "\n",
    "# wap ask the take the radius from key board\n",
    "     # calculate the area of circle\n",
    "     #  Formuale = pi*r*r  pi=3.14\n",
    "\n",
    "# wap ask the user enter the bill amount \n",
    "      # ask the user provide how much tip amount he wants to give\n",
    "      # calculate the total bill\n",
    "\n",
    "# wap ask the user enter the bil amount\n",
    "     # ask the user how much tip percentage hw wants to give\n",
    "     # calculate the total bill"
   ]
  },
  {
   "cell_type": "code",
   "execution_count": 15,
   "id": "1137e824-e43b-4080-97c6-5e5d4f38c9e9",
   "metadata": {},
   "outputs": [
    {
     "name": "stdin",
     "output_type": "stream",
     "text": [
      "enter the n1: 20\n",
      "enter the n2: 30\n",
      "enter the n3: 40\n"
     ]
    },
    {
     "name": "stdout",
     "output_type": "stream",
     "text": [
      "the avg of 20,30 and 40 is 30.0\n"
     ]
    }
   ],
   "source": [
    "def average():\n",
    "    n1=eval(input(\"enter the n1:\"))\n",
    "    n2=eval(input(\"enter the n2:\"))\n",
    "    n3=eval(input(\"enter the n3:\"))\n",
    "    avg=(n1+n2+n3)/3\n",
    "    print(f\"the avg of {n1},{n2} and {n3} is {avg}\")\n",
    "\n",
    "average()"
   ]
  },
  {
   "cell_type": "code",
   "execution_count": 16,
   "id": "7de95b17-860c-421c-b221-df768983b2dc",
   "metadata": {},
   "outputs": [
    {
     "name": "stdin",
     "output_type": "stream",
     "text": [
      "enter the breadth: 20\n",
      "enter the height: 30\n"
     ]
    },
    {
     "name": "stdout",
     "output_type": "stream",
     "text": [
      "the area is:300.0\n"
     ]
    }
   ],
   "source": [
    "def area_of_traingle():\n",
    "    b=eval(input('enter the breadth:'))\n",
    "    h=eval(input('enter the height:'))\n",
    "    area=0.5*b*h\n",
    "    print(f'the area is:{area}')\n",
    "area_of_traingle()"
   ]
  },
  {
   "cell_type": "markdown",
   "id": "87ecedf0-b0fe-46ac-b277-b7eff31e26e4",
   "metadata": {},
   "source": [
    "**Note**\n",
    "\n",
    "- Variable names should not equal to function names"
   ]
  },
  {
   "cell_type": "code",
   "execution_count": null,
   "id": "81a1fd75-f159-4688-a661-6de0674ae504",
   "metadata": {},
   "outputs": [],
   "source": [
    "try:\n",
    "    n1=eval(input(\"enter the n1:\"))\n",
    "    n2=eval(input(\"enter the n2:\"))\n",
    "    n3=eval(input(\"enter the n3:\"))\n",
    "    avg=(n1+n2+n3)/3\n",
    "    print(f\"the avg of {n1},{n2} and {n3} is {avg}\")\n",
    "\n",
    "except Exception as e:\n",
    "    print(e)\n",
    "\n"
   ]
  },
  {
   "cell_type": "code",
   "execution_count": null,
   "id": "8e54199e-6c1b-432d-8103-bb495003c686",
   "metadata": {},
   "outputs": [],
   "source": [
    "sir how can we identify the error in try and exception because the code runs though there is error..\n",
    "# at which line it will not give\n",
    "# what is the error ==== catch"
   ]
  },
  {
   "cell_type": "code",
   "execution_count": 18,
   "id": "c29c1653-b4ab-4f78-8402-1e0246a5fe55",
   "metadata": {},
   "outputs": [
    {
     "name": "stdin",
     "output_type": "stream",
     "text": [
      "enter the n1: 20\n",
      "enter the n2: 30\n",
      "enter the n3: 40\n"
     ]
    },
    {
     "name": "stdout",
     "output_type": "stream",
     "text": [
      "name 'n3333' is not defined\n"
     ]
    }
   ],
   "source": [
    "def AVERAGE():\n",
    "    try:\n",
    "        n1=eval(input(\"enter the n1:\"))\n",
    "        n2=eval(input(\"enter the n2:\"))\n",
    "        n3=eval(input(\"enter the n3:\"))\n",
    "        avg=(n1+n2+n3333)/3\n",
    "        print(f\"the avg of {n1},{n2} and {n3} is {avg}\")\n",
    "    except Exception as e:\n",
    "        print(e)\n",
    "\n",
    "AVERAGE()"
   ]
  },
  {
   "cell_type": "code",
   "execution_count": 19,
   "id": "debf54cc-a0f5-40ab-b69f-7119967adc73",
   "metadata": {},
   "outputs": [
    {
     "name": "stdin",
     "output_type": "stream",
     "text": [
      "enter the n1: 10\n",
      "enter the n2: 20\n",
      "enter the n3: 30\n"
     ]
    },
    {
     "ename": "NameError",
     "evalue": "name 'n324' is not defined",
     "output_type": "error",
     "traceback": [
      "\u001b[1;31m---------------------------------------------------------------------------\u001b[0m",
      "\u001b[1;31mNameError\u001b[0m                                 Traceback (most recent call last)",
      "Cell \u001b[1;32mIn[19], line 12\u001b[0m\n\u001b[0;32m      9\u001b[0m \u001b[38;5;28;01mexcept\u001b[39;00m \u001b[38;5;167;01mException\u001b[39;00m \u001b[38;5;28;01mas\u001b[39;00m e:\n\u001b[0;32m     10\u001b[0m     \u001b[38;5;28mprint\u001b[39m(e)\n\u001b[1;32m---> 12\u001b[0m average()\n",
      "Cell \u001b[1;32mIn[19], line 6\u001b[0m, in \u001b[0;36maverage\u001b[1;34m()\u001b[0m\n\u001b[0;32m      4\u001b[0m n2\u001b[38;5;241m=\u001b[39m\u001b[38;5;28meval\u001b[39m(\u001b[38;5;28minput\u001b[39m(\u001b[38;5;124m\"\u001b[39m\u001b[38;5;124menter the n2:\u001b[39m\u001b[38;5;124m\"\u001b[39m))\n\u001b[0;32m      5\u001b[0m n3\u001b[38;5;241m=\u001b[39m\u001b[38;5;28meval\u001b[39m(\u001b[38;5;28minput\u001b[39m(\u001b[38;5;124m\"\u001b[39m\u001b[38;5;124menter the n3:\u001b[39m\u001b[38;5;124m\"\u001b[39m))\n\u001b[1;32m----> 6\u001b[0m avg\u001b[38;5;241m=\u001b[39m(n1\u001b[38;5;241m+\u001b[39mn2\u001b[38;5;241m+\u001b[39mn324)\u001b[38;5;241m/\u001b[39m\u001b[38;5;241m3\u001b[39m\n\u001b[0;32m      7\u001b[0m \u001b[38;5;28mprint\u001b[39m(\u001b[38;5;124mf\u001b[39m\u001b[38;5;124m\"\u001b[39m\u001b[38;5;124mthe avg of \u001b[39m\u001b[38;5;132;01m{\u001b[39;00mn1\u001b[38;5;132;01m}\u001b[39;00m\u001b[38;5;124m,\u001b[39m\u001b[38;5;132;01m{\u001b[39;00mn2\u001b[38;5;132;01m}\u001b[39;00m\u001b[38;5;124m and \u001b[39m\u001b[38;5;132;01m{\u001b[39;00mn3\u001b[38;5;132;01m}\u001b[39;00m\u001b[38;5;124m is \u001b[39m\u001b[38;5;132;01m{\u001b[39;00mavg\u001b[38;5;132;01m}\u001b[39;00m\u001b[38;5;124m\"\u001b[39m)\n",
      "\u001b[1;31mNameError\u001b[0m: name 'n324' is not defined"
     ]
    }
   ],
   "source": [
    "try:\n",
    "    def average():\n",
    "        n1=eval(input(\"enter the n1:\"))\n",
    "        n2=eval(input(\"enter the n2:\"))\n",
    "        n3=eval(input(\"enter the n3:\"))\n",
    "        avg=(n1+n2+n324)/3\n",
    "        print(f\"the avg of {n1},{n2} and {n3} is {avg}\")\n",
    "\n",
    "except Exception as e:\n",
    "    print(e)\n",
    "\n",
    "average()"
   ]
  },
  {
   "cell_type": "markdown",
   "id": "519ed1e4-4fd4-4682-808b-d587ca5238d1",
   "metadata": {},
   "source": [
    "**Note**\n",
    "\n",
    "- always give **try and except**  for only on code\n",
    "\n",
    "- Not for function\n",
    "\n",
    "- Inside the function write **try-except** "
   ]
  },
  {
   "cell_type": "code",
   "execution_count": null,
   "id": "388ebcd3-1364-4b4a-b163-acb9527621ce",
   "metadata": {},
   "outputs": [],
   "source": [
    "def average():\n",
    "    try:\n",
    "        n1=eval(input(\"enter the n1:\"))\n",
    "        n2=eval(input(\"enter the n2:\"))\n",
    "        n3=eval(input(\"enter the n3:\"))\n",
    "        avg=(n1+n2+n3)/3\n",
    "        print(f\"the avg of {n1},{n2} and {n3} is {avg}\")\n",
    "    except Exception as e:\n",
    "        print(e)\n",
    "\n",
    "average()"
   ]
  },
  {
   "cell_type": "code",
   "execution_count": 20,
   "id": "c96a090d-ee77-44d9-a009-45c5f95d6313",
   "metadata": {},
   "outputs": [
    {
     "name": "stdin",
     "output_type": "stream",
     "text": [
      "enter the n1: 1\n",
      "enter the n2: 2\n",
      "enter the n3: 3\n"
     ]
    },
    {
     "name": "stdout",
     "output_type": "stream",
     "text": [
      "the avg of 1,2 and 3 is 2.0\n"
     ]
    },
    {
     "name": "stdin",
     "output_type": "stream",
     "text": [
      "enter the breadth: 20\n",
      "enter the height: 30\n"
     ]
    },
    {
     "name": "stdout",
     "output_type": "stream",
     "text": [
      "the area is:300.0\n"
     ]
    },
    {
     "name": "stdin",
     "output_type": "stream",
     "text": [
      "enter the radius: 4\n"
     ]
    },
    {
     "name": "stdout",
     "output_type": "stream",
     "text": [
      "area of circle:50.26548245743669\n"
     ]
    },
    {
     "name": "stdin",
     "output_type": "stream",
     "text": [
      "enter the bill amount: 1000\n",
      "enter the tip amount: 20\n"
     ]
    },
    {
     "name": "stdout",
     "output_type": "stream",
     "text": [
      "the total bill is :1020\n"
     ]
    }
   ],
   "source": [
    "from math import pi\n",
    "def average():\n",
    "    n1=eval(input(\"enter the n1:\"))\n",
    "    n2=eval(input(\"enter the n2:\"))\n",
    "    n3=eval(input(\"enter the n3:\"))\n",
    "    avg=(n1+n2+n3)/3\n",
    "    print(f\"the avg of {n1},{n2} and {n3} is {avg}\")\n",
    "\n",
    "average()\n",
    "############################################################\n",
    "def area_of_traingle():\n",
    "    b=eval(input('enter the breadth:'))\n",
    "    h=eval(input('enter the height:'))\n",
    "    area=0.5*b*h\n",
    "    print(f'the area is:{area}')\n",
    "area_of_traingle()\n",
    "##########################################################\n",
    "def area_of_circle():\n",
    "    r=eval(input(\"enter the radius:\"))\n",
    "    area=pi*r*r\n",
    "    print(f\"area of circle:{area}\")\n",
    "area_of_circle()\n",
    "\n",
    "##########################################################\n",
    "def bill():\n",
    "    billamount=eval(input(\"enter the bill amount:\"))\n",
    "    tipamount=eval(input(\"enter the tip amount:\"))\n",
    "    totalbill=billamount+tipamount\n",
    "    print(f\"the total bill is :{totalbill}\")\n",
    "bill()"
   ]
  },
  {
   "cell_type": "code",
   "execution_count": 21,
   "id": "85503e3e-b1db-4465-bc40-62f0c04d5f11",
   "metadata": {},
   "outputs": [],
   "source": [
    "from math import pi\n",
    "def average():\n",
    "    n1=eval(input(\"enter the n1:\"))\n",
    "    n2=eval(input(\"enter the n2:\"))\n",
    "    n3=eval(input(\"enter the n3:\"))\n",
    "    avg=(n1+n2+n3)/3\n",
    "    print(f\"the avg of {n1},{n2} and {n3} is {avg}\")\n",
    "############################################################\n",
    "def area_of_traingle():\n",
    "    b=eval(input('enter the breadth:'))\n",
    "    h=eval(input('enter the height:'))\n",
    "    area=0.5*b*h\n",
    "    print(f'the area is:{area}')\n",
    "##########################################################\n",
    "def area_of_circle():\n",
    "    r=eval(input(\"enter the radius:\"))\n",
    "    area=pi*r*r\n",
    "    print(f\"area of circle:{area}\")\n",
    "\n",
    "\n",
    "##########################################################\n",
    "def bill():\n",
    "    billamount=eval(input(\"enter the bill amount:\"))\n",
    "    tipamount=eval(input(\"enter the tip amount:\"))\n",
    "    totalbill=billamount+tipamount\n",
    "    print(f\"the total bill is :{totalbill}\")"
   ]
  },
  {
   "cell_type": "code",
   "execution_count": 23,
   "id": "ddd7d3b1-b157-4335-92e2-95d2e93f9bf7",
   "metadata": {},
   "outputs": [
    {
     "name": "stdout",
     "output_type": "stream",
     "text": [
      "Average function starts\n"
     ]
    },
    {
     "name": "stdin",
     "output_type": "stream",
     "text": [
      "enter the n1: 1\n",
      "enter the n2: 2\n",
      "enter the n3: 3\n"
     ]
    },
    {
     "name": "stdout",
     "output_type": "stream",
     "text": [
      "the avg of 1,2 and 3 is 2.0\n",
      "Area of circle function starts\n"
     ]
    },
    {
     "name": "stdin",
     "output_type": "stream",
     "text": [
      "enter the radius: 2\n"
     ]
    },
    {
     "name": "stdout",
     "output_type": "stream",
     "text": [
      "area of circle:12.566370614359172\n",
      "Area of traingle function starts\n"
     ]
    },
    {
     "name": "stdin",
     "output_type": "stream",
     "text": [
      "enter the breadth: 8\n",
      "enter the height: 9\n"
     ]
    },
    {
     "name": "stdout",
     "output_type": "stream",
     "text": [
      "the area is:36.0\n",
      "bill amount function starts\n"
     ]
    },
    {
     "name": "stdin",
     "output_type": "stream",
     "text": [
      "enter the bill amount: 10\n",
      "enter the tip amount: 2\n"
     ]
    },
    {
     "name": "stdout",
     "output_type": "stream",
     "text": [
      "the total bill is :12\n"
     ]
    }
   ],
   "source": [
    "print(\"Average function starts\")\n",
    "average()\n",
    "print(\"Area of circle function starts\")\n",
    "area_of_circle()\n",
    "print(\"Area of traingle function starts\")\n",
    "area_of_traingle()\n",
    "print(\"bill amount function starts\")\n",
    "bill()"
   ]
  },
  {
   "cell_type": "code",
   "execution_count": 25,
   "id": "658eac6f-a94b-4c89-a745-7b9da27fee18",
   "metadata": {},
   "outputs": [
    {
     "name": "stdin",
     "output_type": "stream",
     "text": [
      "enter the n1: 20\n",
      "enter the n2: 30\n",
      "enter the n3: 40\n"
     ]
    },
    {
     "ename": "NameError",
     "evalue": "name 'n222' is not defined",
     "output_type": "error",
     "traceback": [
      "\u001b[1;31m---------------------------------------------------------------------------\u001b[0m",
      "\u001b[1;31mNameError\u001b[0m                                 Traceback (most recent call last)",
      "Cell \u001b[1;32mIn[25], line 8\u001b[0m\n\u001b[0;32m      5\u001b[0m     avg\u001b[38;5;241m=\u001b[39m(n1\u001b[38;5;241m+\u001b[39mn222\u001b[38;5;241m+\u001b[39mn3)\u001b[38;5;241m/\u001b[39m\u001b[38;5;241m3\u001b[39m\n\u001b[0;32m      6\u001b[0m     \u001b[38;5;28mprint\u001b[39m(\u001b[38;5;124mf\u001b[39m\u001b[38;5;124m\"\u001b[39m\u001b[38;5;124mthe avg of \u001b[39m\u001b[38;5;132;01m{\u001b[39;00mn1\u001b[38;5;132;01m}\u001b[39;00m\u001b[38;5;124m,\u001b[39m\u001b[38;5;132;01m{\u001b[39;00mn2\u001b[38;5;132;01m}\u001b[39;00m\u001b[38;5;124m and \u001b[39m\u001b[38;5;132;01m{\u001b[39;00mn3\u001b[38;5;132;01m}\u001b[39;00m\u001b[38;5;124m is \u001b[39m\u001b[38;5;132;01m{\u001b[39;00mavg\u001b[38;5;132;01m}\u001b[39;00m\u001b[38;5;124m\"\u001b[39m)\n\u001b[1;32m----> 8\u001b[0m average2()\n",
      "Cell \u001b[1;32mIn[25], line 5\u001b[0m, in \u001b[0;36maverage2\u001b[1;34m()\u001b[0m\n\u001b[0;32m      3\u001b[0m n2\u001b[38;5;241m=\u001b[39m\u001b[38;5;28meval\u001b[39m(\u001b[38;5;28minput\u001b[39m(\u001b[38;5;124m\"\u001b[39m\u001b[38;5;124menter the n2:\u001b[39m\u001b[38;5;124m\"\u001b[39m))\n\u001b[0;32m      4\u001b[0m n3\u001b[38;5;241m=\u001b[39m\u001b[38;5;28meval\u001b[39m(\u001b[38;5;28minput\u001b[39m(\u001b[38;5;124m\"\u001b[39m\u001b[38;5;124menter the n3:\u001b[39m\u001b[38;5;124m\"\u001b[39m))\n\u001b[1;32m----> 5\u001b[0m avg\u001b[38;5;241m=\u001b[39m(n1\u001b[38;5;241m+\u001b[39mn222\u001b[38;5;241m+\u001b[39mn3)\u001b[38;5;241m/\u001b[39m\u001b[38;5;241m3\u001b[39m\n\u001b[0;32m      6\u001b[0m \u001b[38;5;28mprint\u001b[39m(\u001b[38;5;124mf\u001b[39m\u001b[38;5;124m\"\u001b[39m\u001b[38;5;124mthe avg of \u001b[39m\u001b[38;5;132;01m{\u001b[39;00mn1\u001b[38;5;132;01m}\u001b[39;00m\u001b[38;5;124m,\u001b[39m\u001b[38;5;132;01m{\u001b[39;00mn2\u001b[38;5;132;01m}\u001b[39;00m\u001b[38;5;124m and \u001b[39m\u001b[38;5;132;01m{\u001b[39;00mn3\u001b[38;5;132;01m}\u001b[39;00m\u001b[38;5;124m is \u001b[39m\u001b[38;5;132;01m{\u001b[39;00mavg\u001b[38;5;132;01m}\u001b[39;00m\u001b[38;5;124m\"\u001b[39m)\n",
      "\u001b[1;31mNameError\u001b[0m: name 'n222' is not defined"
     ]
    }
   ],
   "source": [
    "def average2():\n",
    "    n1=eval(input(\"enter the n1:\"))\n",
    "    n2=eval(input(\"enter the n2:\"))\n",
    "    n3=eval(input(\"enter the n3:\"))\n",
    "    avg=(n1+n222+n3)/3\n",
    "    print(f\"the avg of {n1},{n2} and {n3} is {avg}\")\n",
    "\n",
    "average2()"
   ]
  },
  {
   "cell_type": "markdown",
   "id": "0c62d326-6026-489f-81d5-7036b37db0a8",
   "metadata": {},
   "source": [
    "**Note**\n",
    "\n",
    "- when we define th function , it will not give any error or any answer\n",
    "\n",
    "- If we want to see any error or any answer we need to call the function"
   ]
  },
  {
   "cell_type": "code",
   "execution_count": null,
   "id": "9209fd8b-5f99-4936-8dce-54e3614c436a",
   "metadata": {},
   "outputs": [],
   "source": [
    "average()\n",
    "area_of_circle()\n",
    "area_of_traingle()\n",
    "bill()\n",
    "\n"
   ]
  },
  {
   "cell_type": "markdown",
   "id": "6d76fe14-10db-4356-b43b-c75f6946f0e1",
   "metadata": {},
   "source": [
    "**Functions with Arguments**"
   ]
  },
  {
   "cell_type": "markdown",
   "id": "c2c3be5f-c20a-45d2-98f6-408d37e0c816",
   "metadata": {},
   "source": [
    "- let's create an addition program code"
   ]
  },
  {
   "cell_type": "code",
   "execution_count": 1,
   "id": "1b642cf8-f4c1-476c-b3b7-f9530e4c3531",
   "metadata": {},
   "outputs": [
    {
     "name": "stdin",
     "output_type": "stream",
     "text": [
      "enter the n1: 20\n",
      "enter the n2: 39\n"
     ]
    },
    {
     "name": "stdout",
     "output_type": "stream",
     "text": [
      "the addition of 20 and 39 is:59\n"
     ]
    }
   ],
   "source": [
    "def addition():\n",
    "    n1=eval(input(\"enter the n1:\"))\n",
    "    n2=eval(input(\"enter the n2:\"))\n",
    "    add=n1+n2\n",
    "    print(f\"the addition of {n1} and {n2} is:{add}\")\n",
    "\n",
    "addition()"
   ]
  },
  {
   "cell_type": "markdown",
   "id": "963b8812-9ea3-46fa-b864-27e086a1b3c8",
   "metadata": {},
   "source": [
    "- how many variables are there in above code: 3\n",
    "\n",
    "    - n1,n2,add\n",
    "\n",
    "- what are the input variables\n",
    "\n",
    "    - n1,n2\n",
    "\n",
    "- what are the output variables\n",
    "\n",
    "    - add\n",
    " \n",
    "- pass the input variables inside the function brackets\n",
    "\n",
    "- pass n1,n2 inside the brackets, these n1,n2 behave as function arguments"
   ]
  },
  {
   "cell_type": "code",
   "execution_count": 4,
   "id": "499dd4f6-416f-41cc-87c0-195a0e38a57f",
   "metadata": {},
   "outputs": [
    {
     "name": "stdout",
     "output_type": "stream",
     "text": [
      "the addition of 100 and 200 is:300\n"
     ]
    }
   ],
   "source": [
    "def addition1(n1,n2):\n",
    "    add=n1+n2\n",
    "    print(f\"the addition of {n1} and {n2} is:{add}\")\n",
    "\n",
    "addition1(100,200)"
   ]
  },
  {
   "cell_type": "code",
   "execution_count": 6,
   "id": "a0f797ec-6ced-4782-8f04-8926278b8bed",
   "metadata": {},
   "outputs": [
    {
     "ename": "TypeError",
     "evalue": "addition1() missing 2 required positional arguments: 'n1' and 'n2'",
     "output_type": "error",
     "traceback": [
      "\u001b[1;31m---------------------------------------------------------------------------\u001b[0m",
      "\u001b[1;31mTypeError\u001b[0m                                 Traceback (most recent call last)",
      "Cell \u001b[1;32mIn[6], line 1\u001b[0m\n\u001b[1;32m----> 1\u001b[0m addition1()\n",
      "\u001b[1;31mTypeError\u001b[0m: addition1() missing 2 required positional arguments: 'n1' and 'n2'"
     ]
    }
   ],
   "source": [
    "addition1()"
   ]
  },
  {
   "cell_type": "code",
   "execution_count": 10,
   "id": "2d07a249-e74b-4530-b760-ab0778b1c361",
   "metadata": {},
   "outputs": [
    {
     "ename": "TypeError",
     "evalue": "Random.randint() missing 1 required positional argument: 'b'",
     "output_type": "error",
     "traceback": [
      "\u001b[1;31m---------------------------------------------------------------------------\u001b[0m",
      "\u001b[1;31mTypeError\u001b[0m                                 Traceback (most recent call last)",
      "Cell \u001b[1;32mIn[10], line 2\u001b[0m\n\u001b[0;32m      1\u001b[0m \u001b[38;5;28;01mfrom\u001b[39;00m \u001b[38;5;21;01mrandom\u001b[39;00m \u001b[38;5;28;01mimport\u001b[39;00m randint\n\u001b[1;32m----> 2\u001b[0m randint(\u001b[38;5;241m10\u001b[39m)\n",
      "\u001b[1;31mTypeError\u001b[0m: Random.randint() missing 1 required positional argument: 'b'"
     ]
    }
   ],
   "source": [
    "from random import randint\n",
    "randint(10)"
   ]
  },
  {
   "cell_type": "code",
   "execution_count": null,
   "id": "b389a8b3-2430-4417-9d0f-073d55c11817",
   "metadata": {},
   "outputs": [],
   "source": [
    "from math import pi\n",
    "def average():\n",
    "    n1=eval(input(\"enter the n1:\"))\n",
    "    n2=eval(input(\"enter the n2:\"))\n",
    "    n3=eval(input(\"enter the n3:\"))\n",
    "    avg=(n1+n2+n3)/3\n",
    "    print(f\"the avg of {n1},{n2} and {n3} is {avg}\")\n",
    "############################################################\n",
    "def area_of_traingle():\n",
    "    b=eval(input('enter the breadth:'))\n",
    "    h=eval(input('enter the height:'))\n",
    "    area=0.5*b*h\n",
    "    print(f'the area is:{area}')\n",
    "##########################################################\n",
    "def area_of_circle():\n",
    "    r=eval(input(\"enter the radius:\"))\n",
    "    area=pi*r*r\n",
    "    print(f\"area of circle:{area}\")\n",
    "\n",
    "\n",
    "##########################################################\n",
    "def bill():\n",
    "    billamount=eval(input(\"enter the bill amount:\"))\n",
    "    tipamount=eval(input(\"enter the tip amount:\"))\n",
    "    totalbill=billamount+tipamount\n",
    "    print(f\"the total bill is :{totalbill}\")"
   ]
  },
  {
   "cell_type": "code",
   "execution_count": 13,
   "id": "1cc7e2b1-9195-41ce-8e06-21d326b9f9e4",
   "metadata": {},
   "outputs": [
    {
     "name": "stdout",
     "output_type": "stream",
     "text": [
      "the avg of 10,20 and 30 is 20.0\n"
     ]
    }
   ],
   "source": [
    "def average(n1,n2,n3):\n",
    "    avg=(n1+n2+n3)/3\n",
    "    print(f\"the avg of {n1},{n2} and {n3} is {avg}\")\n",
    "\n",
    "average(10,20,30)"
   ]
  },
  {
   "cell_type": "code",
   "execution_count": 14,
   "id": "1f200ad2-6af7-4bc5-bca4-f4af57e84852",
   "metadata": {},
   "outputs": [
    {
     "name": "stdout",
     "output_type": "stream",
     "text": [
      "b: 10\n",
      "h: 20\n",
      "the area is:100.0\n"
     ]
    }
   ],
   "source": [
    "def area_of_traingle(b,h):\n",
    "    print('b:',b)\n",
    "    print('h:',h)\n",
    "    area=0.5*b*h\n",
    "    print(f'the area is:{area}')\n",
    "\n",
    "area_of_traingle(10,20)"
   ]
  },
  {
   "cell_type": "code",
   "execution_count": 15,
   "id": "364f6112-b05d-4660-b67a-bc0ac1a85e16",
   "metadata": {},
   "outputs": [
    {
     "name": "stdout",
     "output_type": "stream",
     "text": [
      "area of circle:314.1592653589793\n"
     ]
    }
   ],
   "source": [
    "from math import pi\n",
    "def area_of_circle(r):\n",
    "    area=pi*r*r\n",
    "    print(f\"area of circle:{area}\")\n",
    "\n",
    "area_of_circle(10)"
   ]
  },
  {
   "cell_type": "code",
   "execution_count": 17,
   "id": "b4159456-804b-495e-b147-ff01fb86c8cb",
   "metadata": {},
   "outputs": [
    {
     "name": "stdout",
     "output_type": "stream",
     "text": [
      "the total bill is :1020\n"
     ]
    }
   ],
   "source": [
    "def bill(billamount,tipamount):\n",
    "    try:\n",
    "        totalbill=billamount+tipamount\n",
    "        print(f\"the total bill is :{totalbill}\")\n",
    "    except Exception as e:\n",
    "        print(e)\n",
    "\n",
    "bill(1000,20)"
   ]
  },
  {
   "cell_type": "code",
   "execution_count": 20,
   "id": "d39139f8-35f1-4e68-ae61-0ad927000bba",
   "metadata": {},
   "outputs": [
    {
     "name": "stdout",
     "output_type": "stream",
     "text": [
      "n1: 10\n",
      "n2: 20\n"
     ]
    },
    {
     "name": "stdin",
     "output_type": "stream",
     "text": [
      "enter the n3: 30\n"
     ]
    },
    {
     "name": "stdout",
     "output_type": "stream",
     "text": [
      "the avg of 10,20 and 30 is 20.0\n"
     ]
    }
   ],
   "source": [
    "def average(n1,n2):\n",
    "    print('n1:',n1)\n",
    "    print('n2:',n2)\n",
    "    n3=eval(input('enter the n3:'))\n",
    "    avg=(n1+n2+n3)/3\n",
    "    print(f\"the avg of {n1},{n2} and {n3} is {avg}\")\n",
    "\n",
    "average(10,20)\n",
    "\n",
    "# while calling the function we want to provide n1,n2\n",
    "# while running the function we want to provide n3"
   ]
  },
  {
   "cell_type": "code",
   "execution_count": 21,
   "id": "fc689364-a471-4b77-ab6c-68501e00fc53",
   "metadata": {},
   "outputs": [
    {
     "name": "stdout",
     "output_type": "stream",
     "text": [
      "n1: 10\n"
     ]
    },
    {
     "name": "stdin",
     "output_type": "stream",
     "text": [
      "enter the n2: 20\n",
      "enter the n3: 30\n"
     ]
    },
    {
     "name": "stdout",
     "output_type": "stream",
     "text": [
      "the avg of 10,20 and 30 is 20.0\n"
     ]
    }
   ],
   "source": [
    "def average(n1):\n",
    "    print('n1:',n1)\n",
    "    n2=eval(input('enter the n2:'))\n",
    "    n3=eval(input('enter the n3:'))\n",
    "    avg=(n1+n2+n3)/3\n",
    "    print(f\"the avg of {n1},{n2} and {n3} is {avg}\")\n",
    "\n",
    "average(10)"
   ]
  },
  {
   "cell_type": "code",
   "execution_count": 22,
   "id": "a3af7eac-4be8-4e15-8734-703b054c158c",
   "metadata": {},
   "outputs": [
    {
     "name": "stdin",
     "output_type": "stream",
     "text": [
      "enter the n2: 20\n",
      "enter the n2: 30\n",
      "enter the n3: 30\n"
     ]
    },
    {
     "name": "stdout",
     "output_type": "stream",
     "text": [
      "the avg of 20,30 and 30 is 26.666666666666668\n"
     ]
    }
   ],
   "source": [
    "def average():\n",
    "    n1=eval(input('enter the n1:'))\n",
    "    n2=eval(input('enter the n2:'))\n",
    "    n3=eval(input('enter the n3:'))\n",
    "    avg=(n1+n2+n3)/3\n",
    "    print(f\"the avg of {n1},{n2} and {n3} is {avg}\")\n",
    "\n",
    "average()"
   ]
  },
  {
   "cell_type": "code",
   "execution_count": null,
   "id": "dabba833-6c93-4842-af79-c052a9f134a1",
   "metadata": {},
   "outputs": [],
   "source": [
    "def average(n1,n2,n3):\n",
    "    avg=(n1+n2+n3)/3\n",
    "    print(f\"the avg of {n1},{n2} and {n3} is {avg}\")\n",
    "\n",
    "def average(n1,n2):\n",
    "    print('n1:',n1)\n",
    "    print('n2:',n2)\n",
    "    n3=eval(input('enter the n3:'))\n",
    "    avg=(n1+n2+n3)/3\n",
    "    print(f\"the avg of {n1},{n2} and {n3} is {avg}\")\n",
    "\n",
    "def average(n1):\n",
    "    print('n1:',n1)\n",
    "    n2=eval(input('enter the n2:'))\n",
    "    n3=eval(input('enter the n3:'))\n",
    "    avg=(n1+n2+n3)/3\n",
    "    print(f\"the avg of {n1},{n2} and {n3} is {avg}\")\n",
    "\n",
    "def average():\n",
    "    n1=eval(input('enter the n1:'))\n",
    "    n2=eval(input('enter the n2:'))\n",
    "    n3=eval(input('enter the n3:'))\n",
    "    avg=(n1+n2+n3)/3\n",
    "    print(f\"the avg of {n1},{n2} and {n3} is {avg}\")"
   ]
  },
  {
   "cell_type": "code",
   "execution_count": 26,
   "id": "32234f4d-810e-4be8-b39a-8c9d729b6eb0",
   "metadata": {},
   "outputs": [
    {
     "name": "stdin",
     "output_type": "stream",
     "text": [
      "enter the number: 6\n",
      "how much power we want: 2\n"
     ]
    },
    {
     "name": "stdout",
     "output_type": "stream",
     "text": [
      "36\n"
     ]
    }
   ],
   "source": [
    "2**2\n",
    "2**3\n",
    "2**4\n",
    "number=eval(input('enter the number:'))\n",
    "power=eval(input('how much power we want:'))\n",
    "print(number**power)"
   ]
  },
  {
   "cell_type": "code",
   "execution_count": 27,
   "id": "5ef518f4-39a9-4bdd-8af4-c0287f0c2d57",
   "metadata": {},
   "outputs": [
    {
     "name": "stdin",
     "output_type": "stream",
     "text": [
      "enter the number: 20\n",
      "how much power we want: 30\n"
     ]
    },
    {
     "name": "stdout",
     "output_type": "stream",
     "text": [
      "1073741824000000000000000000000000000000\n"
     ]
    }
   ],
   "source": [
    "def POWER():\n",
    "    number=eval(input('enter the number:'))\n",
    "    power=eval(input('how much power we want:'))\n",
    "    print(number**power)\n",
    "\n",
    "POWER()"
   ]
  },
  {
   "cell_type": "code",
   "execution_count": 28,
   "id": "b045e1f5-5fcf-4e02-bee6-453d3dd22980",
   "metadata": {},
   "outputs": [
    {
     "name": "stdout",
     "output_type": "stream",
     "text": [
      "8\n"
     ]
    }
   ],
   "source": [
    "def POWER(number,power):\n",
    "    print(number**power)\n",
    "\n",
    "POWER(2,3)"
   ]
  },
  {
   "cell_type": "code",
   "execution_count": 29,
   "id": "e7d6fad7-edb4-4a3f-b7e5-6d86ac91b66f",
   "metadata": {},
   "outputs": [
    {
     "ename": "TypeError",
     "evalue": "POWER() takes 0 positional arguments but 1 was given",
     "output_type": "error",
     "traceback": [
      "\u001b[1;31m---------------------------------------------------------------------------\u001b[0m",
      "\u001b[1;31mTypeError\u001b[0m                                 Traceback (most recent call last)",
      "Cell \u001b[1;32mIn[29], line 6\u001b[0m\n\u001b[0;32m      3\u001b[0m     power\u001b[38;5;241m=\u001b[39m\u001b[38;5;28meval\u001b[39m(\u001b[38;5;28minput\u001b[39m(\u001b[38;5;124m'\u001b[39m\u001b[38;5;124mhow much power we want:\u001b[39m\u001b[38;5;124m'\u001b[39m))\n\u001b[0;32m      4\u001b[0m     \u001b[38;5;28mprint\u001b[39m(number\u001b[38;5;241m*\u001b[39m\u001b[38;5;241m*\u001b[39mpower)\n\u001b[1;32m----> 6\u001b[0m POWER(\u001b[38;5;241m20\u001b[39m)\n",
      "\u001b[1;31mTypeError\u001b[0m: POWER() takes 0 positional arguments but 1 was given"
     ]
    }
   ],
   "source": [
    "def POWER():\n",
    "    number=eval(input('enter the number:'))\n",
    "    power=eval(input('how much power we want:'))\n",
    "    print(number**power)\n",
    "\n",
    "POWER(20)"
   ]
  },
  {
   "cell_type": "code",
   "execution_count": null,
   "id": "1d93ecd5-6641-4fce-8b3f-e98a9864e8a2",
   "metadata": {},
   "outputs": [],
   "source": [
    "def average(n1,n2,n3):\n",
    "    avg=(n1+n2+n3)/3\n",
    "    print(f\"the avg of {n1},{n2} and {n3} is {avg}\")"
   ]
  },
  {
   "cell_type": "markdown",
   "id": "3969b820-ed20-4965-9b1a-54250a410b17",
   "metadata": {},
   "source": [
    "**Function with Default argument**"
   ]
  },
  {
   "cell_type": "code",
   "execution_count": 31,
   "id": "d330c5f7-4349-4b71-b0bd-52469b0d0437",
   "metadata": {},
   "outputs": [
    {
     "name": "stdout",
     "output_type": "stream",
     "text": [
      "the total bill is :1500\n"
     ]
    }
   ],
   "source": [
    "def bill(billamount,tipamount=500):\n",
    "    totalbill=billamount+tipamount\n",
    "    print(f\"the total bill is :{totalbill}\")\n",
    "\n",
    "bill(1000)"
   ]
  },
  {
   "cell_type": "code",
   "execution_count": 33,
   "id": "dea5a58b-2ac8-4939-8518-f50356580868",
   "metadata": {},
   "outputs": [
    {
     "name": "stdout",
     "output_type": "stream",
     "text": [
      "n1: 10\n",
      "n2: 20\n",
      "n3: 40\n",
      "the avg of 10,20 and 40 is 23.333333333333332\n"
     ]
    }
   ],
   "source": [
    "def average(n1,n2,n3=40):\n",
    "    print('n1:',n1)\n",
    "    print('n2:',n2)\n",
    "    print('n3:',n3)\n",
    "    avg=(n1+n2+n3)/3\n",
    "    print(f\"the avg of {n1},{n2} and {n3} is {avg}\")\n",
    "\n",
    "average(10,20)"
   ]
  },
  {
   "cell_type": "code",
   "execution_count": 34,
   "id": "8ee22a34-c3fd-4d02-8586-6e255ac35502",
   "metadata": {},
   "outputs": [
    {
     "ename": "SyntaxError",
     "evalue": "non-default argument follows default argument (844090273.py, line 1)",
     "output_type": "error",
     "traceback": [
      "\u001b[1;36m  Cell \u001b[1;32mIn[34], line 1\u001b[1;36m\u001b[0m\n\u001b[1;33m    def average(n1,n2=40,n3):\u001b[0m\n\u001b[1;37m                         ^\u001b[0m\n\u001b[1;31mSyntaxError\u001b[0m\u001b[1;31m:\u001b[0m non-default argument follows default argument\n"
     ]
    }
   ],
   "source": [
    "def average(n1,n2=40,n3):\n",
    "    print('n1:',n1)\n",
    "    print('n2:',n2)\n",
    "    print('n3:',n3)\n",
    "    avg=(n1+n2+n3)/3\n",
    "    print(f\"the avg of {n1},{n2} and {n3} is {avg}\")\n",
    "\n",
    "average(10,20)"
   ]
  },
  {
   "cell_type": "markdown",
   "id": "06f33a8d-935d-4edb-94bd-4c568f2e33ae",
   "metadata": {},
   "source": [
    "**always write the default arguments at last**"
   ]
  },
  {
   "cell_type": "code",
   "execution_count": 35,
   "id": "d7b6def1-745f-4909-be30-260b60189ba1",
   "metadata": {},
   "outputs": [
    {
     "name": "stdout",
     "output_type": "stream",
     "text": [
      "n1: 10\n",
      "n2: 40\n",
      "n3: 20\n",
      "the avg of 10,40 and 20 is 23.333333333333332\n"
     ]
    }
   ],
   "source": [
    "def average(n1,n3,n2=40):\n",
    "    print('n1:',n1)\n",
    "    print('n2:',n2)\n",
    "    print('n3:',n3)\n",
    "    avg=(n1+n2+n3)/3\n",
    "    print(f\"the avg of {n1},{n2} and {n3} is {avg}\")\n",
    "\n",
    "average(10,20)"
   ]
  },
  {
   "cell_type": "code",
   "execution_count": 36,
   "id": "8fba109f-b90d-42ca-8c7c-3d543c756c16",
   "metadata": {},
   "outputs": [
    {
     "name": "stdout",
     "output_type": "stream",
     "text": [
      "n1: 50\n",
      "n2: 10\n",
      "n3: 20\n",
      "the avg of 50,10 and 20 is 26.666666666666668\n"
     ]
    }
   ],
   "source": [
    "def average(n3,n2,n1=50):\n",
    "    print('n1:',n1)\n",
    "    print('n2:',n2)\n",
    "    print('n3:',n3)\n",
    "    avg=(n1+n2+n3)/3\n",
    "    print(f\"the avg of {n1},{n2} and {n3} is {avg}\")\n",
    "\n",
    "average(10,20)"
   ]
  },
  {
   "cell_type": "code",
   "execution_count": null,
   "id": "ccde5cf9-fd16-4066-be14-51de0dd3ddff",
   "metadata": {},
   "outputs": [],
   "source": [
    "n1,n2,n3=100  # works\n",
    "n1,n2=100,n3  # F\n",
    "n1=100,n2,n3  # F\n",
    "n1,n2=100,n3=200 # W \n",
    "n1=100,n2,n3=200 # F\n",
    "n1=100,n2=100,n3 # F\n",
    "n1=100,n2=200,n3=300 # W\n",
    "n3,n1=100,n2=200 # W\n",
    "n2,n3=200,n1=500 # w"
   ]
  },
  {
   "cell_type": "code",
   "execution_count": null,
   "id": "900214d2-b2b7-4c61-ab3c-641277f86709",
   "metadata": {},
   "outputs": [],
   "source": [
    "# with out arguments\n",
    "# with arguments\n",
    "# default arguments\n",
    "\n",
    "# wap ask the user enter a number \n",
    "# ask the user get a random number\n",
    "# if both numbers are match print won\n",
    "# otherwise lost"
   ]
  },
  {
   "cell_type": "code",
   "execution_count": 1,
   "id": "cfeadfcc-f426-4179-bda8-33d147ff3ce5",
   "metadata": {},
   "outputs": [
    {
     "name": "stdin",
     "output_type": "stream",
     "text": [
      "enter the num2: 2\n"
     ]
    },
    {
     "name": "stdout",
     "output_type": "stream",
     "text": [
      "won\n"
     ]
    }
   ],
   "source": [
    "import random\n",
    "num1=random.randint(1,10)\n",
    "num2=eval(input(\"enter the num2:\"))\n",
    "if num1==num2:\n",
    "    print(\"won\")\n",
    "else:\n",
    "    print('lost')"
   ]
  },
  {
   "cell_type": "code",
   "execution_count": 2,
   "id": "a8967ac3-f543-4443-9d80-a2d59e00ed20",
   "metadata": {},
   "outputs": [
    {
     "name": "stdin",
     "output_type": "stream",
     "text": [
      "enter the num2: 7\n"
     ]
    },
    {
     "name": "stdout",
     "output_type": "stream",
     "text": [
      "lost\n"
     ]
    }
   ],
   "source": [
    "def game1():\n",
    "    num1=random.randint(1,10)\n",
    "    num2=eval(input(\"enter the num2:\"))\n",
    "    if num1==num2:\n",
    "        print(\"won\")\n",
    "    else:\n",
    "        print('lost')\n",
    "game1()   "
   ]
  },
  {
   "cell_type": "code",
   "execution_count": 3,
   "id": "c7b56740-69be-4514-b49b-8a31d6dd6240",
   "metadata": {},
   "outputs": [
    {
     "name": "stdout",
     "output_type": "stream",
     "text": [
      "lost\n"
     ]
    }
   ],
   "source": [
    "def game2(num2):\n",
    "    num1=random.randint(1,10)\n",
    "    if num1==num2:\n",
    "        print(\"won\")\n",
    "    else:\n",
    "        print('lost')\n",
    "game2(8)\n"
   ]
  },
  {
   "cell_type": "code",
   "execution_count": 4,
   "id": "24058699-81e5-4edd-bb6e-f5878904c56b",
   "metadata": {},
   "outputs": [
    {
     "name": "stdout",
     "output_type": "stream",
     "text": [
      "lost\n"
     ]
    }
   ],
   "source": [
    "def game3(num2=5):\n",
    "    num1=random.randint(1,10)\n",
    "    if num1==num2:\n",
    "        print(\"won\")\n",
    "    else:\n",
    "        print('lost')\n",
    "game3()   "
   ]
  },
  {
   "cell_type": "code",
   "execution_count": null,
   "id": "a7cfae8f-a247-4c09-b897-948071d2e0fd",
   "metadata": {},
   "outputs": [],
   "source": [
    "def game1():\n",
    "    num1=random.randint(1,10)\n",
    "    num2=eval(input(\"enter the num2:\"))\n",
    "    if num1==num2:\n",
    "        print(\"won\")\n",
    "    else:\n",
    "        print('lost')   \n",
    "##############################################\n",
    "def game2(num2):\n",
    "    num1=random.randint(1,10)\n",
    "    if num1==num2:\n",
    "        print(\"won\")\n",
    "    else:\n",
    "        print('lost')\n",
    "###########################################\n",
    "def game3(num2=5):\n",
    "    num1=random.randint(1,10)\n",
    "    if num1==num2:\n",
    "        print(\"won\")\n",
    "    else:\n",
    "        print('lost')  "
   ]
  },
  {
   "cell_type": "markdown",
   "id": "9c166d86-f570-41be-b9a3-5e8449ec02e1",
   "metadata": {},
   "source": [
    "**Case-1**\n",
    "\n",
    "- step1: Define the function\n",
    "\n",
    "- step-2: call the function\n",
    "\n",
    "- step-3: run the function"
   ]
  },
  {
   "cell_type": "code",
   "execution_count": 5,
   "id": "5835a128-879f-436a-815f-361c9563f625",
   "metadata": {},
   "outputs": [
    {
     "name": "stdout",
     "output_type": "stream",
     "text": [
      "n1: 10\n",
      "n2: 20\n",
      "n3: 100\n",
      "the avg of 10,20 and 100 is 43.333333333333336\n"
     ]
    }
   ],
   "source": [
    "def average(n1,n2,n3=40):\n",
    "    print('n1:',n1)\n",
    "    print('n2:',n2)\n",
    "    print('n3:',n3)\n",
    "    avg=(n1+n2+n3)/3\n",
    "    print(f\"the avg of {n1},{n2} and {n3} is {avg}\")\n",
    "\n",
    "average(10,20,100)\n",
    "\n",
    "# while defineing n3=40\n",
    "# while calling n3=100\n",
    "# while running also n3=100"
   ]
  },
  {
   "cell_type": "code",
   "execution_count": 7,
   "id": "56fcd84a-2c2e-446e-95fa-72786379c1e4",
   "metadata": {},
   "outputs": [
    {
     "name": "stdout",
     "output_type": "stream",
     "text": [
      "a: 10\n",
      "b: 20\n",
      "c: 100\n",
      "130\n"
     ]
    }
   ],
   "source": [
    "def add(a,b,c=50):\n",
    "    print('a:',a) # 10\n",
    "    print('b:',b) # 20\n",
    "    print('c:',c) # 100\n",
    "    d=a+b+c       # 10+20+100\n",
    "    print(d)\n",
    "\n",
    "add(10,20,100)"
   ]
  },
  {
   "cell_type": "code",
   "execution_count": 8,
   "id": "95077bdf-d50c-49bf-9f9c-c1956e867131",
   "metadata": {},
   "outputs": [],
   "source": [
    "def add(a,b,c=50):\n",
    "    c=500\n",
    "    print('a:',a) # 10\n",
    "    print('b:',b) # 20\n",
    "    print('c:',c) # 100\n",
    "    d=a+b+c       # 10+20+100\n",
    "    print(d)"
   ]
  },
  {
   "cell_type": "code",
   "execution_count": 9,
   "id": "d71ac078-8e8d-43b7-b80f-8c5d936cf57d",
   "metadata": {},
   "outputs": [
    {
     "name": "stdout",
     "output_type": "stream",
     "text": [
      "a: 10\n",
      "b: 20\n",
      "c: 500\n",
      "530\n"
     ]
    }
   ],
   "source": [
    "def add(a,b,c=50):\n",
    "    c=500\n",
    "    print('a:',a) # 10\n",
    "    print('b:',b) # 20\n",
    "    print('c:',c) # 100\n",
    "    d=a+b+c       # 10+20+100\n",
    "    print(d)\n",
    "\n",
    "add(10,20,100)\n",
    "\n",
    "# 50\n",
    "# 100\n",
    "# 500"
   ]
  },
  {
   "cell_type": "code",
   "execution_count": 10,
   "id": "5aedabef-76c1-4a9c-984f-d27a4f4ff5e3",
   "metadata": {},
   "outputs": [
    {
     "name": "stdout",
     "output_type": "stream",
     "text": [
      "a: 10\n",
      "b: 20\n",
      "c: 500\n",
      "1030\n"
     ]
    }
   ],
   "source": [
    "def add(a,b,c=50):\n",
    "    c=500\n",
    "    print('a:',a) # 10\n",
    "    print('b:',b) # 20\n",
    "    print('c:',c)\n",
    "    c=1000\n",
    "    d=a+b+c       \n",
    "    print(d)\n",
    "\n",
    "add(10,20,100)\n"
   ]
  },
  {
   "cell_type": "code",
   "execution_count": 12,
   "id": "5311a70d-4e1a-4e5c-b7cf-083c211c8407",
   "metadata": {},
   "outputs": [
    {
     "name": "stdout",
     "output_type": "stream",
     "text": [
      "follow the step by step\n",
      "a: 10\n",
      "b: 20\n",
      "c: 100\n",
      "130\n"
     ]
    }
   ],
   "source": [
    "def add(a,b,c=50):\n",
    "    print('a:',a) # 10\n",
    "    print('b:',b) # 20\n",
    "    print('c:',c)\n",
    "    d=a+b+c       \n",
    "    print(d)\n",
    "print('follow the step by step')\n",
    "c=700\n",
    "add(10,20,100)\n",
    "\n",
    "# defining ==== c=50\n",
    "# c=700\n",
    "# calling  100\n"
   ]
  },
  {
   "cell_type": "code",
   "execution_count": null,
   "id": "ad143141-8d30-43e7-84c9-611cefdb966e",
   "metadata": {},
   "outputs": [],
   "source": [
    "def add(a,b,c=50):\n",
    "    c=800\n",
    "    print('a:',a) # 10\n",
    "    print('b:',b) # 20\n",
    "    print('c:',c)\n",
    "    c=900\n",
    "    d=a+b+c       \n",
    "    print(d)\n",
    "c=700\n",
    "add(10,20,100)\n",
    "\n",
    "# def==== c=50\n",
    "#  c=700\n",
    "# c=100\n",
    "# c=800\n",
    "# c=900===="
   ]
  },
  {
   "cell_type": "code",
   "execution_count": 13,
   "id": "d67df802-5031-498c-bcc3-1d87aeff6814",
   "metadata": {},
   "outputs": [
    {
     "name": "stdout",
     "output_type": "stream",
     "text": [
      "a: 10\n",
      "b: 20\n",
      "c: 100\n",
      "130\n"
     ]
    }
   ],
   "source": [
    "c=900\n",
    "def add(a,b,c=50):\n",
    "    print('a:',a) # 10\n",
    "    print('b:',b) # 20\n",
    "    print('c:',c)\n",
    "    d=a+b+c       \n",
    "    print(d)\n",
    "add(10,20,100)\n",
    "############################################################\n",
    "# c=900\n",
    "# c=50\n",
    "# c=100\n"
   ]
  },
  {
   "cell_type": "code",
   "execution_count": 14,
   "id": "37e60a90-45fd-48b3-9ec7-d2de792878c2",
   "metadata": {},
   "outputs": [
    {
     "name": "stdout",
     "output_type": "stream",
     "text": [
      "a: 10\n",
      "b: 20\n",
      "c: 400\n",
      "430\n"
     ]
    }
   ],
   "source": [
    "c=200\n",
    "def add(a,b,c=50):\n",
    "    c=400\n",
    "    print('a:',a) # 10\n",
    "    print('b:',b) # 20\n",
    "    print('c:',c)\n",
    "    d=a+b+c  \n",
    "    c=500\n",
    "    print(d)\n",
    "c=300\n",
    "add(10,20,100)\n",
    "############################################\n",
    "# c=200\n",
    "# c=50\n",
    "# c=300\n",
    "# c=100\n",
    "# c=400\n"
   ]
  },
  {
   "cell_type": "code",
   "execution_count": 15,
   "id": "1af70a3f-6e15-4894-95af-05d0ee520a13",
   "metadata": {},
   "outputs": [
    {
     "name": "stdout",
     "output_type": "stream",
     "text": [
      "a: 10\n",
      "b: 20\n",
      "c: 400\n",
      "430\n",
      "500\n"
     ]
    }
   ],
   "source": [
    "c=200\n",
    "def add(a,b,c=50):\n",
    "    c=400\n",
    "    print('a:',a) # 10\n",
    "    print('b:',b) # 20\n",
    "    print('c:',c)\n",
    "    d=a+b+c  \n",
    "    c=500\n",
    "    print(d)\n",
    "    print(c)\n",
    "c=300\n",
    "add(10,20,100)"
   ]
  },
  {
   "cell_type": "code",
   "execution_count": 16,
   "id": "4ea85665-cb88-4f0b-bb8b-7d87d3e2d7ec",
   "metadata": {},
   "outputs": [
    {
     "ename": "TypeError",
     "evalue": "add() missing 1 required positional argument: 'c'",
     "output_type": "error",
     "traceback": [
      "\u001b[1;31m---------------------------------------------------------------------------\u001b[0m",
      "\u001b[1;31mTypeError\u001b[0m                                 Traceback (most recent call last)",
      "Cell \u001b[1;32mIn[16], line 9\u001b[0m\n\u001b[0;32m      7\u001b[0m     \u001b[38;5;28mprint\u001b[39m(d)\n\u001b[0;32m      8\u001b[0m     \u001b[38;5;28mprint\u001b[39m(c)\n\u001b[1;32m----> 9\u001b[0m add(\u001b[38;5;241m10\u001b[39m,\u001b[38;5;241m20\u001b[39m)\n",
      "\u001b[1;31mTypeError\u001b[0m: add() missing 1 required positional argument: 'c'"
     ]
    }
   ],
   "source": [
    "c=200\n",
    "def add(a,b,c):\n",
    "    print('a:',a) # 10\n",
    "    print('b:',b) # 20\n",
    "    print('c:',c)\n",
    "    d=a+b+c  \n",
    "    print(d)\n",
    "    print(c)\n",
    "add(10,20)"
   ]
  },
  {
   "cell_type": "markdown",
   "id": "5da41c6f-7249-4884-a1d5-0ee395bd3d7d",
   "metadata": {},
   "source": [
    "**local variable vs Global variable**\n",
    "\n",
    "- local variables are used inside the function\n",
    "\n",
    "- global variables are used outside the function\n",
    "\n",
    "- global variables can be used at anywhere **inside the function** or **outside the function**"
   ]
  },
  {
   "cell_type": "code",
   "execution_count": null,
   "id": "8312a4f5-5dab-4f56-bbd6-29b7b77a4c4f",
   "metadata": {},
   "outputs": [],
   "source": [
    "from math import pi\n",
    "def average():\n",
    "    n1=eval(input(\"enter the n1:\"))\n",
    "    n2=eval(input(\"enter the n2:\"))\n",
    "    n3=eval(input(\"enter the n3:\"))\n",
    "    avg=(n1+n2+n3)/3\n",
    "    print(f\"the avg of {n1},{n2} and {n3} is {avg}\")\n",
    "############################################################\n",
    "def area_of_traingle():\n",
    "    b=eval(input('enter the breadth:'))\n",
    "    h=eval(input('enter the height:'))\n",
    "    area=0.5*b*h\n",
    "    print(f'the area is:{area}')\n",
    "##########################################################\n",
    "def area_of_circle():\n",
    "    r=eval(input(\"enter the radius:\"))\n",
    "    area=pi*r*r\n",
    "    print(f\"area of circle:{area}\")\n",
    "\n",
    "\n",
    "##########################################################\n",
    "def bill():\n",
    "    billamount=eval(input(\"enter the bill amount:\"))\n",
    "    tipamount=eval(input(\"enter the tip amount:\"))\n",
    "    totalbill=billamount+tipamount\n",
    "    print(f\"the total bill is :{totalbill}\")"
   ]
  },
  {
   "cell_type": "code",
   "execution_count": 17,
   "id": "4fc51f23-a437-4ca2-b6e7-1b626962b9da",
   "metadata": {},
   "outputs": [
    {
     "name": "stdin",
     "output_type": "stream",
     "text": [
      "enter the n1: 20\n",
      "enter the n2: 30\n",
      "enter the n3: 40\n"
     ]
    },
    {
     "name": "stdout",
     "output_type": "stream",
     "text": [
      "the avg of 20,30 and 40 is 30.0\n"
     ]
    }
   ],
   "source": [
    "n1=eval(input(\"enter the n1:\"))\n",
    "n2=eval(input(\"enter the n2:\"))\n",
    "n3=eval(input(\"enter the n3:\"))\n",
    "def average():\n",
    "    avg=(n1+n2+n3)/3\n",
    "    print(f\"the avg of {n1},{n2} and {n3} is {avg}\")\n",
    "\n",
    "average()"
   ]
  },
  {
   "cell_type": "code",
   "execution_count": 18,
   "id": "d975155a-81af-4495-8b8e-e611a5e77b1d",
   "metadata": {},
   "outputs": [
    {
     "name": "stdout",
     "output_type": "stream",
     "text": [
      "20 30 40\n"
     ]
    }
   ],
   "source": [
    "print(n1,n2,n3)"
   ]
  },
  {
   "cell_type": "code",
   "execution_count": 19,
   "id": "d8069bad-d64e-474f-aa4f-965e0b65a780",
   "metadata": {},
   "outputs": [
    {
     "name": "stdin",
     "output_type": "stream",
     "text": [
      "enter the n1: 100\n",
      "enter the n2: 200\n",
      "enter the n3: 300\n"
     ]
    },
    {
     "name": "stdout",
     "output_type": "stream",
     "text": [
      "the avg of 100,200 and 300 is 200.0\n"
     ]
    }
   ],
   "source": [
    "def average1():\n",
    "    N1=eval(input(\"enter the n1:\"))\n",
    "    N2=eval(input(\"enter the n2:\"))\n",
    "    N3=eval(input(\"enter the n3:\"))\n",
    "    avg=(N1+N2+N3)/3\n",
    "    print(f\"the avg of {N1},{N2} and {N3} is {avg}\")\n",
    "\n",
    "average1()"
   ]
  },
  {
   "cell_type": "code",
   "execution_count": 21,
   "id": "6db47d31-975a-4f70-b09a-85f19b3dc921",
   "metadata": {},
   "outputs": [
    {
     "ename": "NameError",
     "evalue": "name 'N1' is not defined",
     "output_type": "error",
     "traceback": [
      "\u001b[1;31m---------------------------------------------------------------------------\u001b[0m",
      "\u001b[1;31mNameError\u001b[0m                                 Traceback (most recent call last)",
      "Cell \u001b[1;32mIn[21], line 1\u001b[0m\n\u001b[1;32m----> 1\u001b[0m \u001b[38;5;28mprint\u001b[39m(N1)\n",
      "\u001b[1;31mNameError\u001b[0m: name 'N1' is not defined"
     ]
    }
   ],
   "source": [
    "print(N1)"
   ]
  },
  {
   "cell_type": "markdown",
   "id": "063ed0fc-83a2-4e1b-a89a-0e16a13d8fe8",
   "metadata": {},
   "source": [
    "**Note**\n",
    "\n",
    "- Local variables can not use outside the function\n",
    "\n",
    "- in above code N1 is a local variable\n",
    "\n",
    "- we are trying to use outside the function it is throwing the error"
   ]
  },
  {
   "cell_type": "code",
   "execution_count": 22,
   "id": "9f88573e-5686-48b5-883b-2454bd500030",
   "metadata": {},
   "outputs": [
    {
     "name": "stdin",
     "output_type": "stream",
     "text": [
      "enter the n1: 20\n",
      "enter the n2: 30\n",
      "enter the n3: 40\n"
     ]
    },
    {
     "name": "stdout",
     "output_type": "stream",
     "text": [
      "the avg of 20,30 and 40 is 30.0\n"
     ]
    }
   ],
   "source": [
    "A=eval(input(\"enter the n1:\"))\n",
    "B=eval(input(\"enter the n2:\"))\n",
    "C=eval(input(\"enter the n3:\"))\n",
    "def average3():\n",
    "    avg=(A+B+C)/3\n",
    "    print(f\"the avg of {A},{B} and {C} is {avg}\")\n",
    "\n",
    "average3()"
   ]
  },
  {
   "cell_type": "code",
   "execution_count": 23,
   "id": "f8b37734-5a79-4092-a89f-5439ad3e045b",
   "metadata": {},
   "outputs": [
    {
     "ename": "NameError",
     "evalue": "name 'avg' is not defined",
     "output_type": "error",
     "traceback": [
      "\u001b[1;31m---------------------------------------------------------------------------\u001b[0m",
      "\u001b[1;31mNameError\u001b[0m                                 Traceback (most recent call last)",
      "Cell \u001b[1;32mIn[23], line 1\u001b[0m\n\u001b[1;32m----> 1\u001b[0m avg\n",
      "\u001b[1;31mNameError\u001b[0m: name 'avg' is not defined"
     ]
    }
   ],
   "source": [
    "avg"
   ]
  },
  {
   "cell_type": "markdown",
   "id": "a2f757ab-b581-426c-a713-d02864aa0fdd",
   "metadata": {},
   "source": [
    "- gloabl variables are intialized outside the function\n",
    "\n",
    "- global varaibles can be use anywhere\n",
    "\n",
    "- local varaibles are intialized inside the function\n",
    "\n",
    "- local variables can not use outside the function"
   ]
  },
  {
   "cell_type": "code",
   "execution_count": 30,
   "id": "627ba58a-65fa-4ee1-a1aa-51ceac183f64",
   "metadata": {},
   "outputs": [
    {
     "name": "stdout",
     "output_type": "stream",
     "text": [
      "the avg of 8000,200 and 300 is 8500\n"
     ]
    }
   ],
   "source": [
    "A=100\n",
    "B=200\n",
    "####################################\n",
    "def summ(A=4000):\n",
    "    C=300\n",
    "    A=8000\n",
    "    add=A+B+C\n",
    "    print(f\"the avg of {A},{B} and {C} is {add}\")\n",
    "#################################################\n",
    "A=2000\n",
    "###########################################\n",
    "summ(A=3000)\n",
    "\n",
    "# A=100\n",
    "# B=200\n",
    "# Defining === A=100\n",
    "# A=2000\n",
    "# calling\n"
   ]
  },
  {
   "cell_type": "markdown",
   "id": "a9cbd707-2694-47c4-892d-8f3bb735bdca",
   "metadata": {},
   "source": [
    "**how to use local variables outside the function call**"
   ]
  },
  {
   "cell_type": "code",
   "execution_count": 38,
   "id": "27eba0cc-814d-46b0-9bb0-124fe9393c51",
   "metadata": {},
   "outputs": [
    {
     "name": "stdout",
     "output_type": "stream",
     "text": [
      "the addition of 100,200 and 300 is 600\n"
     ]
    }
   ],
   "source": [
    "A=100\n",
    "B=200\n",
    "C=300\n",
    "def add1():\n",
    "    global ADD\n",
    "    ADD=A+B+C\n",
    "    print(f\"the addition of {A},{B} and {C} is {ADD}\")\n",
    "\n",
    "add1()"
   ]
  },
  {
   "cell_type": "code",
   "execution_count": 39,
   "id": "c4f98d7c-e41e-4558-b3b0-90a74bd77070",
   "metadata": {},
   "outputs": [
    {
     "data": {
      "text/plain": [
       "600"
      ]
     },
     "execution_count": 39,
     "metadata": {},
     "output_type": "execute_result"
    }
   ],
   "source": [
    "ADD"
   ]
  },
  {
   "cell_type": "markdown",
   "id": "5e6ac774-18e2-4b63-a961-7a6276059726",
   "metadata": {},
   "source": [
    "- Local variables can use outside the function in two ways\n",
    "\n",
    "- by making local variable as global by using **global**\n",
    "\n",
    "- by using return statement also"
   ]
  },
  {
   "cell_type": "code",
   "execution_count": 40,
   "id": "20deeab2-3ee0-42d3-9012-d6f941ae4f30",
   "metadata": {},
   "outputs": [
    {
     "name": "stdin",
     "output_type": "stream",
     "text": [
      "ente a number: 10\n",
      "ente a number: 20\n",
      "ente a number: 30\n"
     ]
    },
    {
     "name": "stdout",
     "output_type": "stream",
     "text": [
      "the avearge is 20.0\n",
      "20.0\n"
     ]
    }
   ],
   "source": [
    "n1=eval(input('ente a number:'))\n",
    "n2=eval(input('ente a number:'))\n",
    "n3=eval(input('ente a number:'))\n",
    "def average():\n",
    "    global avg\n",
    "    avg=(n1+n2+n3)/3\n",
    "    print(f'the avearge is {avg}')\n",
    "average()\n",
    "print(avg)"
   ]
  },
  {
   "cell_type": "code",
   "execution_count": null,
   "id": "b76c6bdf-925c-43fc-a808-34c625cfe800",
   "metadata": {},
   "outputs": [],
   "source": [
    "12345\n",
    "54321"
   ]
  },
  {
   "cell_type": "code",
   "execution_count": 2,
   "id": "6e84f4e0-74fa-4beb-b959-2889f3f1d0f0",
   "metadata": {},
   "outputs": [
    {
     "data": {
      "text/plain": [
       "(1234, 5)"
      ]
     },
     "execution_count": 2,
     "metadata": {},
     "output_type": "execute_result"
    }
   ],
   "source": [
    "12345//10,12345%10"
   ]
  },
  {
   "cell_type": "code",
   "execution_count": 4,
   "id": "3173d2a7-1cb9-4f1b-b3ff-3fc6d9104dce",
   "metadata": {},
   "outputs": [
    {
     "data": {
      "text/plain": [
       "(123, 4)"
      ]
     },
     "execution_count": 4,
     "metadata": {},
     "output_type": "execute_result"
    }
   ],
   "source": [
    "1234//10,1234%10"
   ]
  },
  {
   "cell_type": "code",
   "execution_count": null,
   "id": "32a3211a-7b98-4b28-9dd2-926b53b33c65",
   "metadata": {},
   "outputs": [],
   "source": [
    "pen and book\n",
    "maths \n",
    "population=80000\n",
    "menspopulation=population*52/100"
   ]
  },
  {
   "cell_type": "code",
   "execution_count": 6,
   "id": "59c393d1-f5c1-473a-a4a7-61eb5bbe4bbc",
   "metadata": {},
   "outputs": [
    {
     "data": {
      "text/plain": [
       "0"
      ]
     },
     "execution_count": 6,
     "metadata": {},
     "output_type": "execute_result"
    }
   ],
   "source": [
    "180%10"
   ]
  },
  {
   "cell_type": "markdown",
   "id": "3c7ac3f3-2843-460c-b069-c3ded0c58e08",
   "metadata": {},
   "source": [
    "- with out arguments\n",
    "\n",
    "- with arguments\n",
    "\n",
    "- default arguments\n",
    "\n",
    "- local variable\n",
    "\n",
    "- global varaibel"
   ]
  },
  {
   "cell_type": "code",
   "execution_count": 11,
   "id": "c48c5d5f-ce86-4ea9-9859-1ed21493e0c5",
   "metadata": {},
   "outputs": [
    {
     "name": "stdout",
     "output_type": "stream",
     "text": [
      "50 -10\n"
     ]
    }
   ],
   "source": [
    "def summ(a,b):\n",
    "    global add,sub\n",
    "    add=a+b\n",
    "    sub=a-b\n",
    "    print(add,sub)\n",
    "summ(20,30)"
   ]
  },
  {
   "cell_type": "code",
   "execution_count": 12,
   "id": "82957f35-42c7-4028-b0c6-f42a9f8bd267",
   "metadata": {},
   "outputs": [
    {
     "data": {
      "text/plain": [
       "(50, -10)"
      ]
     },
     "execution_count": 12,
     "metadata": {},
     "output_type": "execute_result"
    }
   ],
   "source": [
    "add,sub"
   ]
  },
  {
   "cell_type": "markdown",
   "id": "4abae07c-da56-4bb6-8631-c4056ee73799",
   "metadata": {},
   "source": [
    "**unbound local error**\n",
    "\n",
    "- unbound local error means the variable is not defined\n",
    "\n",
    "- that variable is used as both input and output inside the function"
   ]
  },
  {
   "cell_type": "code",
   "execution_count": 14,
   "id": "b9142b9e-7586-4537-9731-75c443a1d538",
   "metadata": {},
   "outputs": [
    {
     "ename": "UnboundLocalError",
     "evalue": "cannot access local variable 'b' where it is not associated with a value",
     "output_type": "error",
     "traceback": [
      "\u001b[1;31m---------------------------------------------------------------------------\u001b[0m",
      "\u001b[1;31mUnboundLocalError\u001b[0m                         Traceback (most recent call last)",
      "Cell \u001b[1;32mIn[14], line 5\u001b[0m\n\u001b[0;32m      3\u001b[0m     b\u001b[38;5;241m=\u001b[39mb\u001b[38;5;241m+\u001b[39ma\n\u001b[0;32m      4\u001b[0m     \u001b[38;5;28mprint\u001b[39m(b)\n\u001b[1;32m----> 5\u001b[0m fun1()\n",
      "Cell \u001b[1;32mIn[14], line 3\u001b[0m, in \u001b[0;36mfun1\u001b[1;34m()\u001b[0m\n\u001b[0;32m      1\u001b[0m \u001b[38;5;28;01mdef\u001b[39;00m \u001b[38;5;21mfun1\u001b[39m():\n\u001b[0;32m      2\u001b[0m     a\u001b[38;5;241m=\u001b[39m\u001b[38;5;241m10\u001b[39m\n\u001b[1;32m----> 3\u001b[0m     b\u001b[38;5;241m=\u001b[39mb\u001b[38;5;241m+\u001b[39ma\n\u001b[0;32m      4\u001b[0m     \u001b[38;5;28mprint\u001b[39m(b)\n",
      "\u001b[1;31mUnboundLocalError\u001b[0m: cannot access local variable 'b' where it is not associated with a value"
     ]
    }
   ],
   "source": [
    "def fun1():\n",
    "    a=10\n",
    "    b=b+a\n",
    "    print(b)\n",
    "fun1()"
   ]
  },
  {
   "cell_type": "code",
   "execution_count": 13,
   "id": "8684c3a0-4325-4551-aaaa-ca5281dfd861",
   "metadata": {},
   "outputs": [
    {
     "ename": "NameError",
     "evalue": "name 'b' is not defined",
     "output_type": "error",
     "traceback": [
      "\u001b[1;31m---------------------------------------------------------------------------\u001b[0m",
      "\u001b[1;31mNameError\u001b[0m                                 Traceback (most recent call last)",
      "Cell \u001b[1;32mIn[13], line 5\u001b[0m\n\u001b[0;32m      3\u001b[0m     c\u001b[38;5;241m=\u001b[39mb\u001b[38;5;241m+\u001b[39ma\n\u001b[0;32m      4\u001b[0m     \u001b[38;5;28mprint\u001b[39m(c)\n\u001b[1;32m----> 5\u001b[0m fun2()\n",
      "Cell \u001b[1;32mIn[13], line 3\u001b[0m, in \u001b[0;36mfun2\u001b[1;34m()\u001b[0m\n\u001b[0;32m      1\u001b[0m \u001b[38;5;28;01mdef\u001b[39;00m \u001b[38;5;21mfun2\u001b[39m():\n\u001b[0;32m      2\u001b[0m     a\u001b[38;5;241m=\u001b[39m\u001b[38;5;241m10\u001b[39m\n\u001b[1;32m----> 3\u001b[0m     c\u001b[38;5;241m=\u001b[39mb\u001b[38;5;241m+\u001b[39ma\n\u001b[0;32m      4\u001b[0m     \u001b[38;5;28mprint\u001b[39m(c)\n",
      "\u001b[1;31mNameError\u001b[0m: name 'b' is not defined"
     ]
    }
   ],
   "source": [
    "def fun2():\n",
    "    a=10\n",
    "    c=b+a\n",
    "    print(c)\n",
    "fun2()"
   ]
  },
  {
   "cell_type": "code",
   "execution_count": 15,
   "id": "60ed1129-f9b2-444d-9a9a-4195ee9565ea",
   "metadata": {},
   "outputs": [
    {
     "ename": "NameError",
     "evalue": "name 'b' is not defined",
     "output_type": "error",
     "traceback": [
      "\u001b[1;31m---------------------------------------------------------------------------\u001b[0m",
      "\u001b[1;31mNameError\u001b[0m                                 Traceback (most recent call last)",
      "Cell \u001b[1;32mIn[15], line 2\u001b[0m\n\u001b[0;32m      1\u001b[0m a\u001b[38;5;241m=\u001b[39m\u001b[38;5;241m10\u001b[39m\n\u001b[1;32m----> 2\u001b[0m b\u001b[38;5;241m=\u001b[39mb\u001b[38;5;241m+\u001b[39ma\n",
      "\u001b[1;31mNameError\u001b[0m: name 'b' is not defined"
     ]
    }
   ],
   "source": [
    "a=10\n",
    "b=b+a"
   ]
  },
  {
   "cell_type": "markdown",
   "id": "22398378-9fa2-4aab-9a0c-36b3bb9c4317",
   "metadata": {},
   "source": [
    "**return statement**\n",
    "\n",
    "- till now above we have created a function with print statement in order to see the output\n",
    "\n",
    "- the function output we are not able to use outside the function\n",
    "\n",
    "- because it is a local variable\n",
    "\n",
    "- one method we used to is **global**\n",
    "\n",
    "- another method is return statement\n",
    "\n",
    "- return means some thing we are recieving \n",
    "\n",
    "- print means only we can see the answer"
   ]
  },
  {
   "cell_type": "code",
   "execution_count": 21,
   "id": "4a9250d0-02fd-414f-b966-9a0851d49a8a",
   "metadata": {},
   "outputs": [],
   "source": [
    "def add(a,b):\n",
    "    c=a+b\n",
    "    return(c)\n",
    "val1=add(20,30)"
   ]
  },
  {
   "cell_type": "code",
   "execution_count": 22,
   "id": "51746880-52a6-46c8-82e6-48caeb96966d",
   "metadata": {},
   "outputs": [
    {
     "data": {
      "text/plain": [
       "50"
      ]
     },
     "execution_count": 22,
     "metadata": {},
     "output_type": "execute_result"
    }
   ],
   "source": [
    "val1"
   ]
  },
  {
   "cell_type": "code",
   "execution_count": 28,
   "id": "56bcd827-c3aa-4e68-8080-6b4e5afa03ca",
   "metadata": {},
   "outputs": [
    {
     "name": "stdout",
     "output_type": "stream",
     "text": [
      "300 100\n"
     ]
    }
   ],
   "source": [
    "def add_sub(a,b):\n",
    "    summ=a+b\n",
    "    sub=a-b\n",
    "    print(summ,sub)\n",
    "    return(summ,sub)\n",
    "summ,sub=add_sub(200,100)"
   ]
  },
  {
   "cell_type": "code",
   "execution_count": 57,
   "id": "d6a0fb74-1f47-4a52-b4a9-bd3026a21662",
   "metadata": {},
   "outputs": [
    {
     "name": "stdout",
     "output_type": "stream",
     "text": [
      "300 100\n"
     ]
    }
   ],
   "source": [
    "def add_sub(a,b):\n",
    "    summ=a+b\n",
    "    sub=a-b\n",
    "    print(summ,sub)\n",
    "    return(summ,sub)\n",
    "sub,summ=add_sub(200,100)"
   ]
  },
  {
   "cell_type": "code",
   "execution_count": 58,
   "id": "b2754767-f91b-45b6-963a-5a0d09fc889c",
   "metadata": {},
   "outputs": [
    {
     "name": "stdout",
     "output_type": "stream",
     "text": [
      "100\n",
      "300\n"
     ]
    }
   ],
   "source": [
    "print(summ)\n",
    "print(sub)"
   ]
  },
  {
   "cell_type": "code",
   "execution_count": 30,
   "id": "59ec42be-128d-43b4-897b-a42935a8d78a",
   "metadata": {},
   "outputs": [
    {
     "data": {
      "text/plain": [
       "500"
      ]
     },
     "execution_count": 30,
     "metadata": {},
     "output_type": "execute_result"
    }
   ],
   "source": [
    "def add_sub(a,b):\n",
    "    summ=a+b\n",
    "    sub=a-b\n",
    "    return(summ)\n",
    "    return(sub)\n",
    "add_sub(200,300)"
   ]
  },
  {
   "cell_type": "code",
   "execution_count": null,
   "id": "312618f4-31f7-4367-8738-489590782bf3",
   "metadata": {},
   "outputs": [],
   "source": [
    "n1=100,200 # w\n",
    "n1,n2=100,200 # w\n",
    "n1,n2=100 # F"
   ]
  },
  {
   "cell_type": "code",
   "execution_count": 31,
   "id": "1c67a319-0aaa-4811-b985-b3610bdd1a0a",
   "metadata": {},
   "outputs": [
    {
     "data": {
      "text/plain": [
       "(100, 200)"
      ]
     },
     "execution_count": 31,
     "metadata": {},
     "output_type": "execute_result"
    }
   ],
   "source": [
    "n1=100,200\n",
    "n1"
   ]
  },
  {
   "cell_type": "code",
   "execution_count": 33,
   "id": "ace9654a-e6f5-41ab-924f-8d48b7d1994b",
   "metadata": {},
   "outputs": [],
   "source": [
    "def add_sub(a,b):\n",
    "    summ=a+b\n",
    "    sub=a-b\n",
    "    return(summ,sub)\n",
    "\n",
    "op=add_sub(200,300)"
   ]
  },
  {
   "cell_type": "code",
   "execution_count": 34,
   "id": "68774f89-18a0-4336-b52c-9a8dcdd03bdf",
   "metadata": {},
   "outputs": [
    {
     "data": {
      "text/plain": [
       "(500, -100)"
      ]
     },
     "execution_count": 34,
     "metadata": {},
     "output_type": "execute_result"
    }
   ],
   "source": [
    "op"
   ]
  },
  {
   "cell_type": "code",
   "execution_count": null,
   "id": "f7bb9a87-1ec2-4adb-bf4f-5bbcf88ff7c1",
   "metadata": {},
   "outputs": [],
   "source": [
    "def add(a,b):\n",
    "    c=a+b\n",
    "    return(c)\n",
    "val1=add(20,30)\n",
    "###########################################\n",
    "def add_sub(a,b):\n",
    "    summ=a+b\n",
    "    sub=a-b\n",
    "    print(summ,sub)\n",
    "    return(summ,sub)\n",
    "n1,n2=add_sub(200,100)\n",
    "########################################\n",
    "def add_sub(a,b):\n",
    "    summ=a+b\n",
    "    sub=a-b\n",
    "    return(summ,sub)\n",
    "\n",
    "op=add_sub(200,300)"
   ]
  },
  {
   "cell_type": "code",
   "execution_count": 35,
   "id": "5d54c4bf-7b2f-4275-811e-89439788f7d1",
   "metadata": {},
   "outputs": [
    {
     "ename": "TypeError",
     "evalue": "cannot unpack non-iterable int object",
     "output_type": "error",
     "traceback": [
      "\u001b[1;31m---------------------------------------------------------------------------\u001b[0m",
      "\u001b[1;31mTypeError\u001b[0m                                 Traceback (most recent call last)",
      "Cell \u001b[1;32mIn[35], line 1\u001b[0m\n\u001b[1;32m----> 1\u001b[0m n1,n2\u001b[38;5;241m=\u001b[39m\u001b[38;5;241m100\u001b[39m\n",
      "\u001b[1;31mTypeError\u001b[0m: cannot unpack non-iterable int object"
     ]
    }
   ],
   "source": [
    "n1,n2=100"
   ]
  },
  {
   "cell_type": "code",
   "execution_count": null,
   "id": "6954c58d-2066-424b-bb15-ed7a8c2cca83",
   "metadata": {},
   "outputs": [],
   "source": [
    "n1,n2=100,200\n",
    "n1=100,200 # tuple \n"
   ]
  },
  {
   "cell_type": "code",
   "execution_count": null,
   "id": "0259983b-eee9-40f6-945b-465ba17e1242",
   "metadata": {},
   "outputs": [],
   "source": [
    "10\n",
    "20\n",
    "5\n",
    "35 ==== with  with  def try local global return"
   ]
  },
  {
   "cell_type": "markdown",
   "id": "35056306-66f0-4a16-8798-46fc5fbe4d6f",
   "metadata": {},
   "source": [
    "**global vs return**\n",
    "\n",
    "- global keyword used for we can take the inside variable to outside the function\n",
    "\n",
    "- return can return any value outside the function\n",
    "\n",
    "- **the value you return can be used another notebook also**"
   ]
  },
  {
   "cell_type": "markdown",
   "id": "3a850833-da88-475e-8b0f-535133cdd797",
   "metadata": {},
   "source": [
    "**function in functions**"
   ]
  },
  {
   "cell_type": "code",
   "execution_count": 37,
   "id": "f53fbbc9-fc52-4bc3-9ce7-908819e9260c",
   "metadata": {},
   "outputs": [
    {
     "name": "stdout",
     "output_type": "stream",
     "text": [
      "hello good morning\n",
      "hello good night\n"
     ]
    }
   ],
   "source": [
    "def greet1():\n",
    "    print(\"hello good morning\")\n",
    "\n",
    "def greet2():\n",
    "    print(\"hello good night\")\n",
    "\n",
    "greet1()\n",
    "greet2()"
   ]
  },
  {
   "cell_type": "code",
   "execution_count": 38,
   "id": "410ab824-fab7-4bb7-8fb3-c58891ac0d04",
   "metadata": {},
   "outputs": [
    {
     "name": "stdout",
     "output_type": "stream",
     "text": [
      "greet1 function starts\n",
      "hello good morning\n",
      "hello good night\n"
     ]
    }
   ],
   "source": [
    "def greet1():\n",
    "    print(\"hello good morning\")\n",
    "\n",
    "def greet2():\n",
    "    print(\"greet1 function starts\")\n",
    "    greet1()\n",
    "    print(\"hello good night\")\n",
    "\n",
    "greet2()"
   ]
  },
  {
   "cell_type": "code",
   "execution_count": 40,
   "id": "aa5314a3-579c-49b3-96ca-ef24c9784204",
   "metadata": {},
   "outputs": [
    {
     "name": "stdout",
     "output_type": "stream",
     "text": [
      "greet2 function starts\n",
      "hello good night\n",
      "hello good morning\n"
     ]
    }
   ],
   "source": [
    "def greet1():\n",
    "    print(\"greet2 function starts\")\n",
    "    greet2()\n",
    "    print(\"hello good morning\")\n",
    "\n",
    "def greet2():\n",
    "    print(\"hello good night\")\n",
    "\n",
    "greet1()"
   ]
  },
  {
   "cell_type": "code",
   "execution_count": null,
   "id": "ebac80f4-e43b-4023-9e08-12e8ec0d3e97",
   "metadata": {},
   "outputs": [],
   "source": [
    "def greet1():\n",
    "    print(\"greet2 function starts\")\n",
    "    greet2()\n",
    "    print(\"hello good morning\")\n",
    "\n",
    "def greet2():\n",
    "    print(\"greet1 function starts\")\n",
    "    greet1()\n",
    "    print(\"hello good night\")\n",
    "\n",
    "greet2()\n"
   ]
  },
  {
   "cell_type": "code",
   "execution_count": null,
   "id": "af386068-d45a-4b4c-8f93-67980b5712cf",
   "metadata": {},
   "outputs": [],
   "source": [
    "def greet1():\n",
    "    print(\"hello good morning\")\n",
    "\n",
    "def greet2():\n",
    "    print(\"hello good night\")\n",
    "\n",
    "greet1()\n",
    "greet2()\n",
    "#################################################################\n",
    "def greet1():\n",
    "    print(\"hello good morning\")\n",
    "\n",
    "def greet2():\n",
    "    print(\"greet1 function starts\")\n",
    "    greet1()\n",
    "    print(\"hello good night\")\n",
    "\n",
    "greet2()\n",
    "#####################################################################\n",
    "def greet1():\n",
    "    print(\"greet2 function starts\")\n",
    "    greet2()\n",
    "    print(\"hello good morning\")\n",
    "\n",
    "def greet2():\n",
    "    print(\"hello good night\")\n",
    "\n",
    "greet1()"
   ]
  },
  {
   "cell_type": "code",
   "execution_count": null,
   "id": "b2838874-1697-4c1c-b478-76d5de4fbd96",
   "metadata": {},
   "outputs": [],
   "source": [
    "def greet1():\n",
    "    print(\"greet2 function starts\")\n",
    "    greet2()\n",
    "    print(\"hello good morning\")\n",
    "\n",
    "def greet2():\n",
    "    print(\"greet1 function starts\")\n",
    "    greet1()\n",
    "    print(\"hello good night\")\n",
    "\n",
    "greet2()"
   ]
  },
  {
   "cell_type": "code",
   "execution_count": 45,
   "id": "4de83a49-9fcd-4767-b3b6-816705c698c2",
   "metadata": {},
   "outputs": [
    {
     "ename": "NameError",
     "evalue": "name 'name' is not defined",
     "output_type": "error",
     "traceback": [
      "\u001b[1;31m---------------------------------------------------------------------------\u001b[0m",
      "\u001b[1;31mNameError\u001b[0m                                 Traceback (most recent call last)",
      "Cell \u001b[1;32mIn[45], line 10\u001b[0m\n\u001b[0;32m      7\u001b[0m \u001b[38;5;28;01mdef\u001b[39;00m \u001b[38;5;21moutside_function\u001b[39m(name):\n\u001b[0;32m      8\u001b[0m     inside_function()\n\u001b[1;32m---> 10\u001b[0m outside_function(\u001b[38;5;124m'\u001b[39m\u001b[38;5;124mpython\u001b[39m\u001b[38;5;124m'\u001b[39m)\n",
      "Cell \u001b[1;32mIn[45], line 8\u001b[0m, in \u001b[0;36moutside_function\u001b[1;34m(name)\u001b[0m\n\u001b[0;32m      7\u001b[0m \u001b[38;5;28;01mdef\u001b[39;00m \u001b[38;5;21moutside_function\u001b[39m(name):\n\u001b[1;32m----> 8\u001b[0m     inside_function()\n",
      "Cell \u001b[1;32mIn[45], line 2\u001b[0m, in \u001b[0;36minside_function\u001b[1;34m()\u001b[0m\n\u001b[0;32m      1\u001b[0m \u001b[38;5;28;01mdef\u001b[39;00m \u001b[38;5;21minside_function\u001b[39m():\n\u001b[1;32m----> 2\u001b[0m         \u001b[38;5;28mprint\u001b[39m(\u001b[38;5;124mf\u001b[39m\u001b[38;5;124m\"\u001b[39m\u001b[38;5;124mhello \u001b[39m\u001b[38;5;132;01m{\u001b[39;00mname\u001b[38;5;132;01m}\u001b[39;00m\u001b[38;5;124m good morning\u001b[39m\u001b[38;5;124m\"\u001b[39m)\n",
      "\u001b[1;31mNameError\u001b[0m: name 'name' is not defined"
     ]
    }
   ],
   "source": [
    "######### Error code ###########\n",
    "def inside_function():\n",
    "        print(f\"hello {name} good morning\")\n",
    "        # we need to sense here\n",
    "        # name is not defined  not even globally\n",
    "        # if i call this function def i will get error\n",
    "    \n",
    "def outside_function(name):\n",
    "    inside_function()\n",
    "\n",
    "outside_function('python')"
   ]
  },
  {
   "cell_type": "code",
   "execution_count": 43,
   "id": "befd1b6c-edf5-45d2-af6f-2c9f810f8484",
   "metadata": {},
   "outputs": [
    {
     "ename": "NameError",
     "evalue": "name 'name' is not defined",
     "output_type": "error",
     "traceback": [
      "\u001b[1;31m---------------------------------------------------------------------------\u001b[0m",
      "\u001b[1;31mNameError\u001b[0m                                 Traceback (most recent call last)",
      "Cell \u001b[1;32mIn[43], line 4\u001b[0m\n\u001b[0;32m      1\u001b[0m \u001b[38;5;28;01mdef\u001b[39;00m \u001b[38;5;21minside_function\u001b[39m():\n\u001b[0;32m      2\u001b[0m         \u001b[38;5;28mprint\u001b[39m(\u001b[38;5;124mf\u001b[39m\u001b[38;5;124m\"\u001b[39m\u001b[38;5;124mhello \u001b[39m\u001b[38;5;132;01m{\u001b[39;00mname\u001b[38;5;132;01m}\u001b[39;00m\u001b[38;5;124m good morning\u001b[39m\u001b[38;5;124m\"\u001b[39m)\n\u001b[1;32m----> 4\u001b[0m inside_function()\n",
      "Cell \u001b[1;32mIn[43], line 2\u001b[0m, in \u001b[0;36minside_function\u001b[1;34m()\u001b[0m\n\u001b[0;32m      1\u001b[0m \u001b[38;5;28;01mdef\u001b[39;00m \u001b[38;5;21minside_function\u001b[39m():\n\u001b[1;32m----> 2\u001b[0m         \u001b[38;5;28mprint\u001b[39m(\u001b[38;5;124mf\u001b[39m\u001b[38;5;124m\"\u001b[39m\u001b[38;5;124mhello \u001b[39m\u001b[38;5;132;01m{\u001b[39;00mname\u001b[38;5;132;01m}\u001b[39;00m\u001b[38;5;124m good morning\u001b[39m\u001b[38;5;124m\"\u001b[39m)\n",
      "\u001b[1;31mNameError\u001b[0m: name 'name' is not defined"
     ]
    }
   ],
   "source": [
    "def inside_function():\n",
    "        print(f\"hello {name} good morning\")\n",
    "\n",
    "inside_function()"
   ]
  },
  {
   "cell_type": "code",
   "execution_count": 46,
   "id": "70972381-c8f4-41b1-9d23-203b45fdf089",
   "metadata": {},
   "outputs": [
    {
     "name": "stdout",
     "output_type": "stream",
     "text": [
      "hello python good morning\n"
     ]
    }
   ],
   "source": [
    "def inside_function(name):\n",
    "        print(f\"hello {name} good morning\")\n",
    "        # is the variable defined anywhere\n",
    "    \n",
    "def outside_function(name):\n",
    "    inside_function(name)\n",
    "\n",
    "outside_function('python')"
   ]
  },
  {
   "cell_type": "code",
   "execution_count": 48,
   "id": "dfb87741-758b-4571-a63a-22793ff1b7bb",
   "metadata": {},
   "outputs": [
    {
     "name": "stdout",
     "output_type": "stream",
     "text": [
      "hello Naresh good morning\n"
     ]
    }
   ],
   "source": [
    "def inside_function(name):\n",
    "        print(f\"hello {name} good morning\")\n",
    "inside_function('Naresh')"
   ]
  },
  {
   "cell_type": "code",
   "execution_count": null,
   "id": "ccb2a9f5-9691-4c34-b759-d2121f11f91b",
   "metadata": {},
   "outputs": [],
   "source": [
    "def outside_function(name):\n",
    "    def inside_function(name):\n",
    "        print(f\"hello {name} good morning\")\n",
    "    inside_function('Naresh')\n",
    "\n",
    "outside_function('Naresh')"
   ]
  },
  {
   "cell_type": "code",
   "execution_count": 50,
   "id": "0bfb64f5-f62d-4c46-be91-1bf793500782",
   "metadata": {},
   "outputs": [
    {
     "name": "stdout",
     "output_type": "stream",
     "text": [
      "30\n"
     ]
    }
   ],
   "source": [
    "def add(a,b):\n",
    "    print(a+b)\n",
    "add(10,20)   "
   ]
  },
  {
   "cell_type": "code",
   "execution_count": 53,
   "id": "1af57924-eb69-4ef6-a6ba-911d136527f1",
   "metadata": {},
   "outputs": [
    {
     "name": "stdout",
     "output_type": "stream",
     "text": [
      "30\n"
     ]
    }
   ],
   "source": [
    "def MATH():\n",
    "    def add(a,b):\n",
    "        print(a+b)\n",
    "    add(10,20)\n",
    "MATH()"
   ]
  },
  {
   "cell_type": "code",
   "execution_count": 54,
   "id": "40c4038a-4cc7-4bfd-a193-cc1c0ebd4a08",
   "metadata": {},
   "outputs": [
    {
     "name": "stdout",
     "output_type": "stream",
     "text": [
      "30\n"
     ]
    }
   ],
   "source": [
    "def MATH1():\n",
    "    def MATH():\n",
    "        def add(a,b):\n",
    "            print(a+b)\n",
    "        add(10,20)\n",
    "    MATH()\n",
    "MATH1()"
   ]
  },
  {
   "cell_type": "code",
   "execution_count": 52,
   "id": "ec3d6a66-781e-444d-92fb-9e8b5dc452ee",
   "metadata": {},
   "outputs": [
    {
     "name": "stdout",
     "output_type": "stream",
     "text": [
      "30\n"
     ]
    }
   ],
   "source": [
    "def MATH1():\n",
    "    def MATH():\n",
    "        def add(a,b):\n",
    "            print(a+b)\n",
    "        add(10,20)\n",
    "    MATH()\n",
    "\n",
    "MATH1()"
   ]
  },
  {
   "cell_type": "code",
   "execution_count": 55,
   "id": "cc763f32-4aa6-4ce9-9407-14ecf13d4d5e",
   "metadata": {},
   "outputs": [
    {
     "name": "stdout",
     "output_type": "stream",
     "text": [
      "30\n"
     ]
    }
   ],
   "source": [
    "def MATH(a,b):\n",
    "    def add():\n",
    "        print(a+b)\n",
    "    add()\n",
    "MATH(10,20)"
   ]
  },
  {
   "cell_type": "code",
   "execution_count": 56,
   "id": "d2c13997-eae8-4bd8-af9e-9b473056842d",
   "metadata": {},
   "outputs": [
    {
     "name": "stdout",
     "output_type": "stream",
     "text": [
      "hello Naresh good morning\n"
     ]
    }
   ],
   "source": [
    "def outside_function(name):\n",
    "    def inside_function():\n",
    "        print(f\"hello {name} good morning\")\n",
    "    inside_function()\n",
    "\n",
    "outside_function('Naresh')"
   ]
  },
  {
   "cell_type": "code",
   "execution_count": null,
   "id": "f686eb09-4e72-4059-ad8c-9d63afaca307",
   "metadata": {},
   "outputs": [],
   "source": [
    "# calculator program\n",
    "\n",
    "# First create 4 function\n",
    "\n",
    "# add function\n",
    "#   def add():\n",
    "#       print(a+b)\n",
    "# sub function\n",
    "# mul function\n",
    "# div function\n",
    "\n",
    "# print(\"enter the value 1,2,3,4\")\n",
    "\n",
    "# main function\n",
    "#    a=number\n",
    "#    b=number\n",
    "#    operator=\n",
    "#    if operator==1:\n",
    "#        add()"
   ]
  }
 ],
 "metadata": {
  "kernelspec": {
   "display_name": "Python 3 (ipykernel)",
   "language": "python",
   "name": "python3"
  },
  "language_info": {
   "codemirror_mode": {
    "name": "ipython",
    "version": 3
   },
   "file_extension": ".py",
   "mimetype": "text/x-python",
   "name": "python",
   "nbconvert_exporter": "python",
   "pygments_lexer": "ipython3",
   "version": "3.12.7"
  }
 },
 "nbformat": 4,
 "nbformat_minor": 5
}
