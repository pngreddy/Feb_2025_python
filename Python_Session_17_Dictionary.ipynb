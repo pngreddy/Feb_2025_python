{
 "cells": [
  {
   "cell_type": "code",
   "execution_count": 1,
   "id": "aef623c5-4475-416c-8080-765781c1bc8e",
   "metadata": {},
   "outputs": [
    {
     "data": {
      "text/plain": [
       "['hello', 'how', 'are', 'you']"
      ]
     },
     "execution_count": 1,
     "metadata": {},
     "output_type": "execute_result"
    }
   ],
   "source": [
    "str1='hello how are you'\n",
    "# ans= ['Hello','How','Are','You']\n",
    "str1.split()"
   ]
  },
  {
   "cell_type": "code",
   "execution_count": 3,
   "id": "d4a287fc-057f-4a94-863b-b4e2e91860c0",
   "metadata": {},
   "outputs": [
    {
     "data": {
      "text/plain": [
       "['Hello', 'How', 'Are', 'You']"
      ]
     },
     "execution_count": 3,
     "metadata": {},
     "output_type": "execute_result"
    }
   ],
   "source": [
    "#method-1\n",
    "ans=[]\n",
    "for i in str1.split():\n",
    "    ans.append(i.title())\n",
    "\n",
    "ans"
   ]
  },
  {
   "cell_type": "code",
   "execution_count": 6,
   "id": "32f58fe6-d2fd-429e-9fb7-f7edb2ef95d4",
   "metadata": {},
   "outputs": [
    {
     "name": "stdout",
     "output_type": "stream",
     "text": [
      "Ramesh age is 20\n",
      "Suresh age is 30\n",
      "Sathish age is 40\n"
     ]
    }
   ],
   "source": [
    "l1=['Ramesh','Suresh','Sathish']\n",
    "l2=[20,30,40]\n",
    "# 'Ramesh age is 20'\n",
    "# 'Suresh age is 30'\n",
    "# 'Sathish age is 40'\n",
    "for i in range(len(l1)):\n",
    "    print(f\"{l1[i]} age is {l2[i]}\")"
   ]
  },
  {
   "cell_type": "markdown",
   "id": "f6f7ac6f-e823-43f6-9e20-d72338448fd9",
   "metadata": {},
   "source": [
    "$zip$"
   ]
  },
  {
   "cell_type": "code",
   "execution_count": 12,
   "id": "c827ac0a-3866-41cd-a482-96854425c846",
   "metadata": {},
   "outputs": [
    {
     "name": "stdout",
     "output_type": "stream",
     "text": [
      "Ramesh has age is 20 and he is from Hyd\n",
      "Suresh has age is 30 and he is from Mumbai\n",
      "Sathish has age is 40 and he is from Chennai\n"
     ]
    }
   ],
   "source": [
    "l1=['Ramesh','Suresh','Sathish']\n",
    "l2=[20,30,40]\n",
    "l3=['Hyd','Mumbai','Chennai']\n",
    "for i,j,k in zip(l1,l2,l3):\n",
    "    print(f\"{i} has age is {j} and he is from {k}\")"
   ]
  },
  {
   "cell_type": "markdown",
   "id": "5bfd0f1c-5f5f-47d0-8a43-db4f0b3ed26f",
   "metadata": {},
   "source": [
    "**dictionary**\n",
    "\n",
    "- strings represnt in quotes\n",
    "\n",
    "- list represnt in square brackets\n",
    "\n",
    "- tuple represnt in parnthases\n",
    "\n",
    "- sets represnt in curly braces with only one value\n",
    "\n",
    "- Dictionary also represnt in curly braces with two values\n",
    "\n",
    "- Dictionary has key:value pair\n",
    "\n",
    "- Dictionary elements are in pair\n",
    "\n",
    "    - one element called as **key**\n",
    "\n",
    "    - another element called as **value**"
   ]
  },
  {
   "cell_type": "code",
   "execution_count": null,
   "id": "7726d54c-37fa-43de-b795-c1fc86c0a718",
   "metadata": {},
   "outputs": [],
   "source": [
    "l1=['Ramesh','Suresh','Sathish']\n",
    "l2=[20,30,40]\n",
    "\n",
    "{key:value}\n",
    "{key1:value1,key2:value2,key3:value3}"
   ]
  },
  {
   "cell_type": "code",
   "execution_count": 13,
   "id": "84620626-e3f6-4f30-b6f7-86a3b17ea6bc",
   "metadata": {},
   "outputs": [
    {
     "data": {
      "text/plain": [
       "{'Ramesh': 20, 'Suresh': 30, 'Sathish': 40}"
      ]
     },
     "execution_count": 13,
     "metadata": {},
     "output_type": "execute_result"
    }
   ],
   "source": [
    "dict1={'Ramesh':20,'Suresh':30,'Sathish':40}\n",
    "dict1"
   ]
  },
  {
   "cell_type": "code",
   "execution_count": 14,
   "id": "61774faa-299f-40a5-af38-f8099e7ad113",
   "metadata": {},
   "outputs": [
    {
     "data": {
      "text/plain": [
       "dict"
      ]
     },
     "execution_count": 14,
     "metadata": {},
     "output_type": "execute_result"
    }
   ],
   "source": [
    "type(dict1)"
   ]
  },
  {
   "cell_type": "markdown",
   "id": "d211d65b-b417-48f3-9303-053ffae55606",
   "metadata": {},
   "source": [
    "- intialization\n",
    "\n",
    "- inbuilt functions\n",
    "\n",
    "    - max\n",
    "\n",
    "    - min\n",
    "\n",
    "    - len\n",
    "\n",
    "    - sum\n",
    "\n",
    "    - sorted\n",
    "\n",
    "    - reversed\n",
    "\n",
    "- index\n",
    "\n",
    "- mutable vs immutable\n",
    "\n",
    "- concatenation\n",
    "\n",
    "- slicing\n",
    "\n",
    "- methods"
   ]
  },
  {
   "cell_type": "markdown",
   "id": "1d4d5054-c949-468a-bc8e-02300be17dad",
   "metadata": {},
   "source": [
    "**intialization**"
   ]
  },
  {
   "cell_type": "code",
   "execution_count": null,
   "id": "df2357ac-b894-46a8-a6e9-ff57fee188ca",
   "metadata": {},
   "outputs": [],
   "source": [
    "dict1={'Ramesh':20,'Suresh':30,'Sathish':40}\n",
    "dict2={20:'Ramesh'}\n",
    "# key int  value string\n",
    "# key string value list vice versa\n",
    "# key list value "
   ]
  },
  {
   "cell_type": "code",
   "execution_count": 15,
   "id": "9b231cd5-8179-49cb-be54-1c2e612587cc",
   "metadata": {},
   "outputs": [
    {
     "data": {
      "text/plain": [
       "{'Ramesh': 20, 'Suresh': 30, 'Sathish': 40}"
      ]
     },
     "execution_count": 15,
     "metadata": {},
     "output_type": "execute_result"
    }
   ],
   "source": [
    "d1={'Ramesh':20,'Suresh':30,'Sathish':40}\n",
    "d1"
   ]
  },
  {
   "cell_type": "code",
   "execution_count": 16,
   "id": "8a9ea4f8-d2fa-4e88-862a-45259e69ddd3",
   "metadata": {},
   "outputs": [
    {
     "data": {
      "text/plain": [
       "{'Ramesh': '20', 'Suresh': '30', 'Sathish': '40'}"
      ]
     },
     "execution_count": 16,
     "metadata": {},
     "output_type": "execute_result"
    }
   ],
   "source": [
    "d2={'Ramesh':'20','Suresh':'30','Sathish':'40'}\n",
    "d2"
   ]
  },
  {
   "cell_type": "code",
   "execution_count": 17,
   "id": "b6e11b66-a7ec-4940-a78b-b256f7ddc6e4",
   "metadata": {},
   "outputs": [
    {
     "data": {
      "text/plain": [
       "{20: 'Ramesh', 30: 'Suresh', 40: 'Sathish'}"
      ]
     },
     "execution_count": 17,
     "metadata": {},
     "output_type": "execute_result"
    }
   ],
   "source": [
    "d3={20:'Ramesh',30:'Suresh',40:'Sathish'}\n",
    "d3"
   ]
  },
  {
   "cell_type": "code",
   "execution_count": 18,
   "id": "3dc43d15-1a64-4dd5-a287-2d5a2843df81",
   "metadata": {},
   "outputs": [
    {
     "data": {
      "text/plain": [
       "{'Ramesh': 30}"
      ]
     },
     "execution_count": 18,
     "metadata": {},
     "output_type": "execute_result"
    }
   ],
   "source": [
    "d4={'Ramesh':20,'Ramesh':30}\n",
    "d4 \n",
    "# Keys are important\n",
    "# when same keys but different value\n",
    "# it will take the latest value"
   ]
  },
  {
   "cell_type": "code",
   "execution_count": 19,
   "id": "a88882b4-f5d7-4c21-ad9d-0118e761cd29",
   "metadata": {},
   "outputs": [
    {
     "data": {
      "text/plain": [
       "{'Ramesh': 20, 'Suresh': 20}"
      ]
     },
     "execution_count": 19,
     "metadata": {},
     "output_type": "execute_result"
    }
   ],
   "source": [
    "d5={'Ramesh':20,'Suresh':20}\n",
    "d5"
   ]
  },
  {
   "cell_type": "code",
   "execution_count": 20,
   "id": "7d930af9-e5f2-46b1-8ca9-11ee14ea94b5",
   "metadata": {},
   "outputs": [
    {
     "data": {
      "text/plain": [
       "{'Ramesh': 20}"
      ]
     },
     "execution_count": 20,
     "metadata": {},
     "output_type": "execute_result"
    }
   ],
   "source": [
    "d6={'Ramesh':20,'Ramesh':20}\n",
    "d6\n",
    "# Duplicates are not allowed"
   ]
  },
  {
   "cell_type": "code",
   "execution_count": 21,
   "id": "0d09dbcd-2fad-4db2-8ef5-f98d2fdeabfd",
   "metadata": {},
   "outputs": [
    {
     "data": {
      "text/plain": [
       "{'Fruite': 'Apple', 'cost': 10.5, 'count': 100, 'ava': True}"
      ]
     },
     "execution_count": 21,
     "metadata": {},
     "output_type": "execute_result"
    }
   ],
   "source": [
    "d7={'Fruite':'Apple','cost':10.5,'count':100, 'ava':True}\n",
    "d7"
   ]
  },
  {
   "cell_type": "code",
   "execution_count": 22,
   "id": "8aa0eb7e-ed6b-4fe3-917e-ee44a5805e5a",
   "metadata": {},
   "outputs": [
    {
     "data": {
      "text/plain": [
       "{True: 'Yes'}"
      ]
     },
     "execution_count": 22,
     "metadata": {},
     "output_type": "execute_result"
    }
   ],
   "source": [
    "d8={True:'Yes'}\n",
    "d8"
   ]
  },
  {
   "cell_type": "code",
   "execution_count": 23,
   "id": "2e19f53d-f0c3-4884-a2c4-e1fa52eb6703",
   "metadata": {},
   "outputs": [
    {
     "data": {
      "text/plain": [
       "{'age': [10, 20, 30]}"
      ]
     },
     "execution_count": 23,
     "metadata": {},
     "output_type": "execute_result"
    }
   ],
   "source": [
    "d9={'age':[10,20,30]}\n",
    "d9\n",
    "# list can be a value"
   ]
  },
  {
   "cell_type": "code",
   "execution_count": 24,
   "id": "f984fa1f-852f-4f59-a686-4eb0b4956774",
   "metadata": {},
   "outputs": [
    {
     "ename": "TypeError",
     "evalue": "unhashable type: 'list'",
     "output_type": "error",
     "traceback": [
      "\u001b[1;31m---------------------------------------------------------------------------\u001b[0m",
      "\u001b[1;31mTypeError\u001b[0m                                 Traceback (most recent call last)",
      "Cell \u001b[1;32mIn[24], line 1\u001b[0m\n\u001b[1;32m----> 1\u001b[0m d10\u001b[38;5;241m=\u001b[39m{[\u001b[38;5;241m10\u001b[39m,\u001b[38;5;241m20\u001b[39m,\u001b[38;5;241m30\u001b[39m]:\u001b[38;5;124m'\u001b[39m\u001b[38;5;124mAge\u001b[39m\u001b[38;5;124m'\u001b[39m}\n\u001b[0;32m      2\u001b[0m d10\n",
      "\u001b[1;31mTypeError\u001b[0m: unhashable type: 'list'"
     ]
    }
   ],
   "source": [
    "d10={[10,20,30]:'Age'}\n",
    "d10"
   ]
  },
  {
   "cell_type": "code",
   "execution_count": 25,
   "id": "91c77c26-e524-4afb-949c-61c64c3e35d9",
   "metadata": {},
   "outputs": [
    {
     "data": {
      "text/plain": [
       "{'age': (10, 20, 30)}"
      ]
     },
     "execution_count": 25,
     "metadata": {},
     "output_type": "execute_result"
    }
   ],
   "source": [
    "d11={'age':(10,20,30)}\n",
    "d11"
   ]
  },
  {
   "cell_type": "code",
   "execution_count": 26,
   "id": "e831b21c-7809-4e09-ac24-ae78be5a62c1",
   "metadata": {},
   "outputs": [
    {
     "data": {
      "text/plain": [
       "{(10, 20, 30): 'Age'}"
      ]
     },
     "execution_count": 26,
     "metadata": {},
     "output_type": "execute_result"
    }
   ],
   "source": [
    "d12={(10,20,30):'Age'}\n",
    "d12"
   ]
  },
  {
   "cell_type": "markdown",
   "id": "ab79dac7-e26b-46e3-83e7-2d426acb0030",
   "metadata": {},
   "source": [
    "- list is mutable\n",
    "\n",
    "- tuple is immutable\n",
    "\n",
    "- so list can not be a key \n",
    "\n",
    "**keys are important**"
   ]
  },
  {
   "cell_type": "code",
   "execution_count": 27,
   "id": "0982e5d8-dadc-41bd-9f89-195f4fe387b3",
   "metadata": {},
   "outputs": [
    {
     "data": {
      "text/plain": [
       "{(10, 20, 30): ('A', 'B', 'C')}"
      ]
     },
     "execution_count": 27,
     "metadata": {},
     "output_type": "execute_result"
    }
   ],
   "source": [
    "d13={(10,20,30):('A','B','C')}\n",
    "d13"
   ]
  },
  {
   "cell_type": "code",
   "execution_count": 28,
   "id": "8abc9d70-aa29-4488-9d2f-68ffc38c0f4a",
   "metadata": {},
   "outputs": [
    {
     "data": {
      "text/plain": [
       "{(10, 20, 30): ['A', 'B', 'C']}"
      ]
     },
     "execution_count": 28,
     "metadata": {},
     "output_type": "execute_result"
    }
   ],
   "source": [
    "d14={(10,20,30):['A','B','C']}\n",
    "d14"
   ]
  },
  {
   "cell_type": "code",
   "execution_count": 29,
   "id": "85a92114-853b-49e0-9923-a80c08e640b0",
   "metadata": {},
   "outputs": [
    {
     "ename": "TypeError",
     "evalue": "unhashable type: 'list'",
     "output_type": "error",
     "traceback": [
      "\u001b[1;31m---------------------------------------------------------------------------\u001b[0m",
      "\u001b[1;31mTypeError\u001b[0m                                 Traceback (most recent call last)",
      "Cell \u001b[1;32mIn[29], line 1\u001b[0m\n\u001b[1;32m----> 1\u001b[0m d15\u001b[38;5;241m=\u001b[39m{[\u001b[38;5;241m10\u001b[39m,\u001b[38;5;241m20\u001b[39m,\u001b[38;5;241m30\u001b[39m]:(\u001b[38;5;124m'\u001b[39m\u001b[38;5;124mA\u001b[39m\u001b[38;5;124m'\u001b[39m,\u001b[38;5;124m'\u001b[39m\u001b[38;5;124mB\u001b[39m\u001b[38;5;124m'\u001b[39m,\u001b[38;5;124m'\u001b[39m\u001b[38;5;124mC\u001b[39m\u001b[38;5;124m'\u001b[39m)}\n\u001b[0;32m      2\u001b[0m d15\n",
      "\u001b[1;31mTypeError\u001b[0m: unhashable type: 'list'"
     ]
    }
   ],
   "source": [
    "d15={[10,20,30]:('A','B','C')}\n",
    "d15"
   ]
  },
  {
   "cell_type": "code",
   "execution_count": 30,
   "id": "90960435-a20b-473d-95f0-14043cb92f92",
   "metadata": {},
   "outputs": [
    {
     "data": {
      "text/plain": [
       "{'Fruites': {'Apple': 50}}"
      ]
     },
     "execution_count": 30,
     "metadata": {},
     "output_type": "execute_result"
    }
   ],
   "source": [
    "d16={'Fruites':{'Apple':50}}\n",
    "d16"
   ]
  },
  {
   "cell_type": "code",
   "execution_count": 31,
   "id": "089cebe4-de75-4bff-82cb-7732179104c0",
   "metadata": {},
   "outputs": [
    {
     "ename": "TypeError",
     "evalue": "unhashable type: 'dict'",
     "output_type": "error",
     "traceback": [
      "\u001b[1;31m---------------------------------------------------------------------------\u001b[0m",
      "\u001b[1;31mTypeError\u001b[0m                                 Traceback (most recent call last)",
      "Cell \u001b[1;32mIn[31], line 1\u001b[0m\n\u001b[1;32m----> 1\u001b[0m d17\u001b[38;5;241m=\u001b[39m{{\u001b[38;5;124m'\u001b[39m\u001b[38;5;124mApple\u001b[39m\u001b[38;5;124m'\u001b[39m:\u001b[38;5;241m50\u001b[39m}:\u001b[38;5;124m'\u001b[39m\u001b[38;5;124mFruites\u001b[39m\u001b[38;5;124m'\u001b[39m}\n\u001b[0;32m      2\u001b[0m d17\n",
      "\u001b[1;31mTypeError\u001b[0m: unhashable type: 'dict'"
     ]
    }
   ],
   "source": [
    "d17={{'Apple':50}:'Fruites'}\n",
    "d17"
   ]
  },
  {
   "cell_type": "code",
   "execution_count": null,
   "id": "66731940-09e0-48d2-8dbf-679eb3406533",
   "metadata": {},
   "outputs": [],
   "source": [
    "d1={'Ramesh':20,'Suresh':30,'Sathish':40} # w\n",
    "d2={'Ramesh':'20','Suresh':'30','Sathish':'40'} # w\n",
    "d3={20:'Ramesh',30:'Suresh',40:'Sathish'} # w\n",
    "d4={'Ramesh':20,'Ramesh':30} # w But latest\n",
    "d5={'Ramesh':20,'Suresh':20} # w \n",
    "d6={'Ramesh':20,'Ramesh':20} # w no duplicates\n",
    "d7={'Fruite':'Apple','cost':10.5,'count':100, 'ava':True} # w\n",
    "d8={True:'Yes'} # w\n",
    "d9={'age':[10,20,30]} # w\n",
    "d10={[10,20,30]:'Age'} # f\n",
    "d11={'age':(10,20,30)} # w\n",
    "d12={(10,20,30):'Age'} # w\n",
    "d13={(10,20,30):('A','B','C')} # w\n",
    "d14={(10,20,30):['A','B','C']} # w\n",
    "d15={[10,20,30]:('A','B','C')} # f\n",
    "d16={'Fruites':{'Apple':50}} # w\n",
    "d17={{'Apple':50}:'Fruites'} # f"
   ]
  },
  {
   "cell_type": "code",
   "execution_count": null,
   "id": "f819c79a-e39b-4ecc-91f9-fa65fa847a78",
   "metadata": {},
   "outputs": [],
   "source": [
    "d1={'Ramesh':20,'Suresh':30,'Sathish':40}\n",
    "d2={'Ramesh':'20','Suresh':'30','Sathish':'40'} \n",
    "d3={20:'Ramesh',30:'Suresh',40:'Sathish'}\n",
    "d4={'Ramesh':'20','Suresh':30,40:'Sathish'}\n",
    "# max\n",
    "# min\n",
    "# len\n",
    "# sorted\n",
    "# reveresed\n",
    "# sum"
   ]
  },
  {
   "cell_type": "code",
   "execution_count": 32,
   "id": "5fbe112b-68b5-42d6-900a-5cebd8015b4e",
   "metadata": {},
   "outputs": [
    {
     "data": {
      "text/plain": [
       "'Suresh'"
      ]
     },
     "execution_count": 32,
     "metadata": {},
     "output_type": "execute_result"
    }
   ],
   "source": [
    "d1={'Ramesh':20,'Suresh':30,'Sathish':40}\n",
    "max(d1)"
   ]
  },
  {
   "cell_type": "code",
   "execution_count": 33,
   "id": "2e135c04-ca11-42b5-b11a-b65b5735759a",
   "metadata": {},
   "outputs": [
    {
     "data": {
      "text/plain": [
       "'Suresh'"
      ]
     },
     "execution_count": 33,
     "metadata": {},
     "output_type": "execute_result"
    }
   ],
   "source": [
    "d1={'Ramesh':40,'Suresh':40,'Sathish':40}\n",
    "max(d1)"
   ]
  },
  {
   "cell_type": "code",
   "execution_count": 34,
   "id": "3463e0ed-507d-4051-9e99-dac18b71d7b7",
   "metadata": {},
   "outputs": [
    {
     "data": {
      "text/plain": [
       "40"
      ]
     },
     "execution_count": 34,
     "metadata": {},
     "output_type": "execute_result"
    }
   ],
   "source": [
    "d1={20:'A',30:'S',40:'c'}\n",
    "max(d1)"
   ]
  },
  {
   "cell_type": "code",
   "execution_count": 35,
   "id": "ad99919c-f395-4e74-8a32-7030ecb4851f",
   "metadata": {},
   "outputs": [
    {
     "data": {
      "text/plain": [
       "20"
      ]
     },
     "execution_count": 35,
     "metadata": {},
     "output_type": "execute_result"
    }
   ],
   "source": [
    "d1={20:'A',30:'S',40:'c'}\n",
    "min(d1)"
   ]
  },
  {
   "cell_type": "code",
   "execution_count": 36,
   "id": "105b0fd6-321b-415e-9c57-e05eee031cde",
   "metadata": {},
   "outputs": [
    {
     "data": {
      "text/plain": [
       "90"
      ]
     },
     "execution_count": 36,
     "metadata": {},
     "output_type": "execute_result"
    }
   ],
   "source": [
    "d1={20:'A',30:'S',40:'c'}\n",
    "sum(d1)"
   ]
  },
  {
   "cell_type": "code",
   "execution_count": 37,
   "id": "957fb5c0-2c5e-4fde-b484-9a80c0fd7f59",
   "metadata": {},
   "outputs": [
    {
     "ename": "TypeError",
     "evalue": "unsupported operand type(s) for +: 'int' and 'str'",
     "output_type": "error",
     "traceback": [
      "\u001b[1;31m---------------------------------------------------------------------------\u001b[0m",
      "\u001b[1;31mTypeError\u001b[0m                                 Traceback (most recent call last)",
      "Cell \u001b[1;32mIn[37], line 2\u001b[0m\n\u001b[0;32m      1\u001b[0m d1\u001b[38;5;241m=\u001b[39m{\u001b[38;5;124m'\u001b[39m\u001b[38;5;124mRamesh\u001b[39m\u001b[38;5;124m'\u001b[39m:\u001b[38;5;241m20\u001b[39m,\u001b[38;5;124m'\u001b[39m\u001b[38;5;124mSuresh\u001b[39m\u001b[38;5;124m'\u001b[39m:\u001b[38;5;241m30\u001b[39m,\u001b[38;5;124m'\u001b[39m\u001b[38;5;124mSathish\u001b[39m\u001b[38;5;124m'\u001b[39m:\u001b[38;5;241m40\u001b[39m}\n\u001b[1;32m----> 2\u001b[0m \u001b[38;5;28msum\u001b[39m(d1)\n",
      "\u001b[1;31mTypeError\u001b[0m: unsupported operand type(s) for +: 'int' and 'str'"
     ]
    }
   ],
   "source": [
    "d1={'Ramesh':20,'Suresh':30,'Sathish':40}\n",
    "sum(d1)"
   ]
  },
  {
   "cell_type": "code",
   "execution_count": 38,
   "id": "2b594998-f69e-4190-bd86-bb9a0d938f14",
   "metadata": {},
   "outputs": [
    {
     "ename": "TypeError",
     "evalue": "unsupported operand type(s) for +: 'int' and 'str'",
     "output_type": "error",
     "traceback": [
      "\u001b[1;31m---------------------------------------------------------------------------\u001b[0m",
      "\u001b[1;31mTypeError\u001b[0m                                 Traceback (most recent call last)",
      "Cell \u001b[1;32mIn[38], line 2\u001b[0m\n\u001b[0;32m      1\u001b[0m d1\u001b[38;5;241m=\u001b[39m{\u001b[38;5;241m20\u001b[39m:\u001b[38;5;124m'\u001b[39m\u001b[38;5;124mA\u001b[39m\u001b[38;5;124m'\u001b[39m,\u001b[38;5;241m30\u001b[39m:\u001b[38;5;124m'\u001b[39m\u001b[38;5;124mS\u001b[39m\u001b[38;5;124m'\u001b[39m,\u001b[38;5;124m'\u001b[39m\u001b[38;5;124mA\u001b[39m\u001b[38;5;124m'\u001b[39m:\u001b[38;5;124m'\u001b[39m\u001b[38;5;124mc\u001b[39m\u001b[38;5;124m'\u001b[39m}\n\u001b[1;32m----> 2\u001b[0m \u001b[38;5;28msum\u001b[39m(d1)\n",
      "\u001b[1;31mTypeError\u001b[0m: unsupported operand type(s) for +: 'int' and 'str'"
     ]
    }
   ],
   "source": [
    "d1={20:'A',30:'S','A':'c'}\n",
    "sum(d1)"
   ]
  },
  {
   "cell_type": "code",
   "execution_count": 39,
   "id": "4822afcb-5728-4555-9aad-82ee718327ed",
   "metadata": {},
   "outputs": [
    {
     "ename": "TypeError",
     "evalue": "unsupported operand type(s) for +: 'int' and 'str'",
     "output_type": "error",
     "traceback": [
      "\u001b[1;31m---------------------------------------------------------------------------\u001b[0m",
      "\u001b[1;31mTypeError\u001b[0m                                 Traceback (most recent call last)",
      "Cell \u001b[1;32mIn[39], line 1\u001b[0m\n\u001b[1;32m----> 1\u001b[0m \u001b[38;5;241m30\u001b[39m\u001b[38;5;241m+\u001b[39m\u001b[38;5;124m'\u001b[39m\u001b[38;5;124mA\u001b[39m\u001b[38;5;124m'\u001b[39m\n",
      "\u001b[1;31mTypeError\u001b[0m: unsupported operand type(s) for +: 'int' and 'str'"
     ]
    }
   ],
   "source": [
    "30+'A'"
   ]
  },
  {
   "cell_type": "code",
   "execution_count": 40,
   "id": "306a7a21-7b29-4c79-a8b7-ef65a8069f09",
   "metadata": {},
   "outputs": [
    {
     "data": {
      "text/plain": [
       "3"
      ]
     },
     "execution_count": 40,
     "metadata": {},
     "output_type": "execute_result"
    }
   ],
   "source": [
    "d1={20:'A',30:'S','A':'c'}\n",
    "len(d1)"
   ]
  },
  {
   "cell_type": "code",
   "execution_count": 41,
   "id": "a9015f43-6c0c-4288-9045-54d590666bed",
   "metadata": {},
   "outputs": [
    {
     "data": {
      "text/plain": [
       "['Ramesh', 'Sathish', 'Suresh']"
      ]
     },
     "execution_count": 41,
     "metadata": {},
     "output_type": "execute_result"
    }
   ],
   "source": [
    "d1={'Ramesh':20,'Suresh':30,'Sathish':40}\n",
    "sorted(d1)"
   ]
  },
  {
   "cell_type": "code",
   "execution_count": 42,
   "id": "09378d02-f72a-4ab4-80e7-e0304a7c3733",
   "metadata": {},
   "outputs": [
    {
     "data": {
      "text/plain": [
       "[1, 30, 100]"
      ]
     },
     "execution_count": 42,
     "metadata": {},
     "output_type": "execute_result"
    }
   ],
   "source": [
    "sorted([1,100,30])"
   ]
  },
  {
   "cell_type": "code",
   "execution_count": 43,
   "id": "155d5b33-8fea-4fbd-b5d5-d5c8b254917d",
   "metadata": {},
   "outputs": [
    {
     "ename": "TypeError",
     "evalue": "'<' not supported between instances of 'int' and 'str'",
     "output_type": "error",
     "traceback": [
      "\u001b[1;31m---------------------------------------------------------------------------\u001b[0m",
      "\u001b[1;31mTypeError\u001b[0m                                 Traceback (most recent call last)",
      "Cell \u001b[1;32mIn[43], line 2\u001b[0m\n\u001b[0;32m      1\u001b[0m d1\u001b[38;5;241m=\u001b[39m{\u001b[38;5;124m'\u001b[39m\u001b[38;5;124mRamesh\u001b[39m\u001b[38;5;124m'\u001b[39m:\u001b[38;5;241m20\u001b[39m,\u001b[38;5;124m'\u001b[39m\u001b[38;5;124mSuresh\u001b[39m\u001b[38;5;124m'\u001b[39m:\u001b[38;5;241m30\u001b[39m,\u001b[38;5;241m100\u001b[39m:\u001b[38;5;241m40\u001b[39m}\n\u001b[1;32m----> 2\u001b[0m \u001b[38;5;28msorted\u001b[39m(d1)\n",
      "\u001b[1;31mTypeError\u001b[0m: '<' not supported between instances of 'int' and 'str'"
     ]
    }
   ],
   "source": [
    "d1={'Ramesh':20,'Suresh':30,100:40}\n",
    "sorted(d1)"
   ]
  },
  {
   "cell_type": "code",
   "execution_count": 45,
   "id": "393d728f-696a-4c43-a1c2-594fd8561575",
   "metadata": {},
   "outputs": [
    {
     "data": {
      "text/plain": [
       "['Sathish', 'Suresh', 'Ramesh']"
      ]
     },
     "execution_count": 45,
     "metadata": {},
     "output_type": "execute_result"
    }
   ],
   "source": [
    "d1={'Ramesh':20,'Suresh':30,'Sathish':40}\n",
    "list(reversed(d1))"
   ]
  },
  {
   "cell_type": "code",
   "execution_count": 46,
   "id": "212a75c6-0d82-4ded-ac3d-2ef961f24c03",
   "metadata": {},
   "outputs": [
    {
     "data": {
      "text/plain": [
       "<dict_reversekeyiterator at 0x1cd9c3a9a80>"
      ]
     },
     "execution_count": 46,
     "metadata": {},
     "output_type": "execute_result"
    }
   ],
   "source": [
    "d1={'Ramesh':20,'Suresh':30,100:40}\n",
    "reversed(d1)"
   ]
  },
  {
   "cell_type": "markdown",
   "id": "3de03aed-232e-45bd-9869-9d300c1615bb",
   "metadata": {},
   "source": [
    "- Max/min/sorted can work for homogeneous\n",
    "\n",
    "- sum is only work for numbers only\n",
    "\n",
    "- reveresd can work any one"
   ]
  },
  {
   "cell_type": "markdown",
   "id": "5a19eaab-3b9f-414c-8710-8c43e4b994e9",
   "metadata": {},
   "source": [
    "**index**"
   ]
  },
  {
   "cell_type": "code",
   "execution_count": 47,
   "id": "0316b0e3-f4e8-4a28-88ae-f8bcb26a73c8",
   "metadata": {},
   "outputs": [
    {
     "data": {
      "text/plain": [
       "10"
      ]
     },
     "execution_count": 47,
     "metadata": {},
     "output_type": "execute_result"
    }
   ],
   "source": [
    "l=[10,20,30]\n",
    "l[0]"
   ]
  },
  {
   "cell_type": "code",
   "execution_count": 48,
   "id": "2fde7610-4a79-42c6-83e9-3c3b47c5daf4",
   "metadata": {},
   "outputs": [
    {
     "data": {
      "text/plain": [
       "'p'"
      ]
     },
     "execution_count": 48,
     "metadata": {},
     "output_type": "execute_result"
    }
   ],
   "source": [
    "s='python'\n",
    "s[0]"
   ]
  },
  {
   "cell_type": "code",
   "execution_count": 49,
   "id": "ffa79dbc-5b26-4846-9d10-64e13d2436d8",
   "metadata": {},
   "outputs": [
    {
     "ename": "KeyError",
     "evalue": "0",
     "output_type": "error",
     "traceback": [
      "\u001b[1;31m---------------------------------------------------------------------------\u001b[0m",
      "\u001b[1;31mKeyError\u001b[0m                                  Traceback (most recent call last)",
      "Cell \u001b[1;32mIn[49], line 2\u001b[0m\n\u001b[0;32m      1\u001b[0m d1\u001b[38;5;241m=\u001b[39m{\u001b[38;5;124m'\u001b[39m\u001b[38;5;124mRamesh\u001b[39m\u001b[38;5;124m'\u001b[39m:\u001b[38;5;241m20\u001b[39m,\u001b[38;5;124m'\u001b[39m\u001b[38;5;124mSuresh\u001b[39m\u001b[38;5;124m'\u001b[39m:\u001b[38;5;241m30\u001b[39m}\n\u001b[1;32m----> 2\u001b[0m d1[\u001b[38;5;241m0\u001b[39m]\n",
      "\u001b[1;31mKeyError\u001b[0m: 0"
     ]
    }
   ],
   "source": [
    "d1={'Ramesh':20,'Suresh':30}\n",
    "d1[0]"
   ]
  },
  {
   "cell_type": "code",
   "execution_count": 50,
   "id": "dbec03fe-a16f-404b-b7fd-97776a328ec6",
   "metadata": {},
   "outputs": [
    {
     "data": {
      "text/plain": [
       "20"
      ]
     },
     "execution_count": 50,
     "metadata": {},
     "output_type": "execute_result"
    }
   ],
   "source": [
    "d1['Ramesh']"
   ]
  },
  {
   "cell_type": "code",
   "execution_count": null,
   "id": "0905f53f-13b5-41cc-b85a-c0c98d616ea7",
   "metadata": {},
   "outputs": [],
   "source": [
    "d1={'Ramesh':20,'Suresh':30,'Sathish':40}\n",
    "d1['Ramesh']  # 20\n",
    "d1['Suresh']  # 30\n",
    "d1['Sathish'] # 40\n",
    "\n",
    "d1[i]"
   ]
  },
  {
   "cell_type": "code",
   "execution_count": 53,
   "id": "3b5d8220-3ee9-461f-bffe-76bc9b859cbf",
   "metadata": {},
   "outputs": [
    {
     "name": "stdout",
     "output_type": "stream",
     "text": [
      "Ramesh 20\n",
      "Ramesh has age : 20\n",
      "Suresh 30\n",
      "Suresh has age : 30\n",
      "Sathish 40\n",
      "Sathish has age : 40\n"
     ]
    }
   ],
   "source": [
    "d1={'Ramesh':20,'Suresh':30,'Sathish':40}\n",
    "for i in d1:\n",
    "    print(i,d1[i])\n",
    "    print(f\"{i} has age : {d1[i]}\")"
   ]
  },
  {
   "cell_type": "markdown",
   "id": "378670d8-03b2-45c5-9e2f-45372f2f0cc7",
   "metadata": {},
   "source": [
    "- whenever we iterate dictionary using for loop in operator it will give keys\n",
    "\n",
    "- if want to get value we will access through keys only\n",
    "\n",
    "- key will work as index"
   ]
  },
  {
   "cell_type": "code",
   "execution_count": 55,
   "id": "4f74ea45-bf41-4b2f-bd78-b97a17b34d42",
   "metadata": {},
   "outputs": [
    {
     "data": {
      "text/plain": [
       "'Cherry'"
      ]
     },
     "execution_count": 55,
     "metadata": {},
     "output_type": "execute_result"
    }
   ],
   "source": [
    "d1={'Fruites':['Apple','Banana','Cherry']}\n",
    "d1['Fruites'][2]"
   ]
  },
  {
   "cell_type": "code",
   "execution_count": 56,
   "id": "3815ba99-0efc-4f4e-bbdd-98121e510f1f",
   "metadata": {},
   "outputs": [
    {
     "data": {
      "text/plain": [
       "{'Fruites': {'Appple': ['Sweet', 'Green', 'custred']}}"
      ]
     },
     "execution_count": 56,
     "metadata": {},
     "output_type": "execute_result"
    }
   ],
   "source": [
    "d1={'Fruites':{'Appple':['Sweet','Green','custred']}}\n",
    "d1"
   ]
  },
  {
   "cell_type": "code",
   "execution_count": 59,
   "id": "c110b525-588f-42f4-a4c3-7f5dbb3f75c5",
   "metadata": {},
   "outputs": [
    {
     "data": {
      "text/plain": [
       "'Green'"
      ]
     },
     "execution_count": 59,
     "metadata": {},
     "output_type": "execute_result"
    }
   ],
   "source": [
    "d1['Fruites']['Appple'][1]"
   ]
  },
  {
   "cell_type": "code",
   "execution_count": 60,
   "id": "e21e4aaa-3d2b-440e-8a9c-21514e11a9a6",
   "metadata": {},
   "outputs": [
    {
     "data": {
      "text/plain": [
       "{'Fruites': [{'Cost': [100, 200, 300]}]}"
      ]
     },
     "execution_count": 60,
     "metadata": {},
     "output_type": "execute_result"
    }
   ],
   "source": [
    "d1={'Fruites':[{'Cost':[100,200,300]}]}\n",
    "d1"
   ]
  },
  {
   "cell_type": "code",
   "execution_count": 64,
   "id": "4913382f-897f-4254-98fa-ac988a6e04e3",
   "metadata": {},
   "outputs": [
    {
     "data": {
      "text/plain": [
       "300"
      ]
     },
     "execution_count": 64,
     "metadata": {},
     "output_type": "execute_result"
    }
   ],
   "source": [
    "d1['Fruites'][0]['Cost'][2]"
   ]
  },
  {
   "cell_type": "code",
   "execution_count": 65,
   "id": "8ef4d46b-c65f-472a-9b64-07cbae72333c",
   "metadata": {},
   "outputs": [
    {
     "data": {
      "text/plain": [
       "{'Fruites': ['Apple'], 'Cost': [{'1kg': [300, 500], '2kg': ['None']}]}"
      ]
     },
     "execution_count": 65,
     "metadata": {},
     "output_type": "execute_result"
    }
   ],
   "source": [
    "d1={'Fruites':['Apple'],'Cost':[{'1kg':[300,500],\n",
    "                               '2kg':['None']}]}\n",
    "d1"
   ]
  },
  {
   "cell_type": "code",
   "execution_count": 69,
   "id": "0ab9864c-1888-4236-8f0a-48f059450cf8",
   "metadata": {},
   "outputs": [
    {
     "data": {
      "text/plain": [
       "'None'"
      ]
     },
     "execution_count": 69,
     "metadata": {},
     "output_type": "execute_result"
    }
   ],
   "source": [
    "d1['Cost'][0]['2kg'][0]"
   ]
  },
  {
   "cell_type": "code",
   "execution_count": 70,
   "id": "ca2a3996-e7e1-4073-b875-764794c5bb44",
   "metadata": {},
   "outputs": [
    {
     "data": {
      "text/plain": [
       "{'Fruites': {'Mango': {'Nagpur': {'MH': {'King': {'Shivaji': {'Shambaji'}}}}}}}"
      ]
     },
     "execution_count": 70,
     "metadata": {},
     "output_type": "execute_result"
    }
   ],
   "source": [
    "d1={'Fruites':{'Mango':{'Nagpur':{'MH':{'King':{'Shivaji':{'Shambaji'}}}}}}}\n",
    "d1"
   ]
  },
  {
   "cell_type": "code",
   "execution_count": 76,
   "id": "955a7c82-0660-4dfd-91f8-c71ca607d393",
   "metadata": {},
   "outputs": [
    {
     "data": {
      "text/plain": [
       "{'Shambaji'}"
      ]
     },
     "execution_count": 76,
     "metadata": {},
     "output_type": "execute_result"
    }
   ],
   "source": [
    "d1['Fruites']['Mango']['Nagpur']['MH']['King']['Shivaji'][]"
   ]
  },
  {
   "cell_type": "code",
   "execution_count": 77,
   "id": "e5ea2d9e-a6cc-484d-90c7-c75d8158b01d",
   "metadata": {},
   "outputs": [
    {
     "data": {
      "text/plain": [
       "['__class__',\n",
       " '__class_getitem__',\n",
       " '__contains__',\n",
       " '__delattr__',\n",
       " '__delitem__',\n",
       " '__dir__',\n",
       " '__doc__',\n",
       " '__eq__',\n",
       " '__format__',\n",
       " '__ge__',\n",
       " '__getattribute__',\n",
       " '__getitem__',\n",
       " '__getstate__',\n",
       " '__gt__',\n",
       " '__hash__',\n",
       " '__init__',\n",
       " '__init_subclass__',\n",
       " '__ior__',\n",
       " '__iter__',\n",
       " '__le__',\n",
       " '__len__',\n",
       " '__lt__',\n",
       " '__ne__',\n",
       " '__new__',\n",
       " '__or__',\n",
       " '__reduce__',\n",
       " '__reduce_ex__',\n",
       " '__repr__',\n",
       " '__reversed__',\n",
       " '__ror__',\n",
       " '__setattr__',\n",
       " '__setitem__',\n",
       " '__sizeof__',\n",
       " '__str__',\n",
       " '__subclasshook__',\n",
       " 'clear',\n",
       " 'copy',\n",
       " 'fromkeys',\n",
       " 'get',\n",
       " 'items',\n",
       " 'keys',\n",
       " 'pop',\n",
       " 'popitem',\n",
       " 'setdefault',\n",
       " 'update',\n",
       " 'values']"
      ]
     },
     "execution_count": 77,
     "metadata": {},
     "output_type": "execute_result"
    }
   ],
   "source": [
    "dir({})"
   ]
  },
  {
   "cell_type": "code",
   "execution_count": null,
   "id": "1bc0cdb4-5fb9-424c-ac4e-e6783d34cae1",
   "metadata": {},
   "outputs": [],
   "source": [
    "'clear',  \n",
    " 'copy',\n",
    " 'fromkeys',\n",
    " 'get',\n",
    " 'items',\n",
    " 'keys',\n",
    " 'pop',\n",
    " 'popitem',\n",
    " 'setdefault',\n",
    " 'update',\n",
    " 'values']\n",
    "\n",
    "\n",
    "clear\n",
    "copy\n",
    "items\n",
    "values\n",
    "keys"
   ]
  },
  {
   "cell_type": "markdown",
   "id": "c9ee61ad-9e75-4174-a4ea-37dd9471ce9d",
   "metadata": {},
   "source": [
    "**how to convert list to dictionary**"
   ]
  },
  {
   "cell_type": "code",
   "execution_count": 1,
   "id": "d328711c-d7e6-43a2-bec8-616b9edc0413",
   "metadata": {},
   "outputs": [
    {
     "name": "stdout",
     "output_type": "stream",
     "text": [
      "Ramesh 20\n",
      "Suresh 30\n",
      "Sathish 40\n"
     ]
    }
   ],
   "source": [
    "names=['Ramesh','Suresh','Sathish']\n",
    "age=[20,30,40]\n",
    "# {'Ramesh':20,'Suresh':30,'Sathish':40}\n",
    "dict1={}\n",
    "for i,j in zip(names,age):\n",
    "    print(i,j)"
   ]
  },
  {
   "cell_type": "code",
   "execution_count": 4,
   "id": "7fde9aab-ee40-4250-9823-cad19da54d3b",
   "metadata": {},
   "outputs": [
    {
     "data": {
      "text/plain": [
       "{'Ramesh': 20, 'Suresh': 30, 'Sathish': 40}"
      ]
     },
     "execution_count": 4,
     "metadata": {},
     "output_type": "execute_result"
    }
   ],
   "source": [
    "names=['Ramesh','Suresh','Sathish']\n",
    "age=[20,30,40]\n",
    "dict1={}\n",
    "dict1['Ramesh']=20\n",
    "dict1['Suresh']=30\n",
    "dict1['Sathish']=40\n",
    "dict1[i]=j\n",
    "\n"
   ]
  },
  {
   "cell_type": "code",
   "execution_count": 5,
   "id": "f9ff7e98-1218-4848-b96e-e03ce76e9ac9",
   "metadata": {},
   "outputs": [
    {
     "data": {
      "text/plain": [
       "{'Ramesh': 20, 'Suresh': 30, 'Sathish': 40}"
      ]
     },
     "execution_count": 5,
     "metadata": {},
     "output_type": "execute_result"
    }
   ],
   "source": [
    "names=['Ramesh','Suresh','Sathish']\n",
    "age=[20,30,40]\n",
    "dict1={}\n",
    "for i,j in zip(names,age):\n",
    "    dict1[i]=j\n",
    "dict1"
   ]
  },
  {
   "cell_type": "code",
   "execution_count": null,
   "id": "08fdb125-38d7-428d-9872-e491b4ac853c",
   "metadata": {},
   "outputs": [],
   "source": [
    "# strings to list (split)\n",
    "# list to strings (join)\n",
    "# list to dictionary ()\n",
    "# dict to list()"
   ]
  },
  {
   "cell_type": "markdown",
   "id": "e74ca825-b5d0-477b-9da2-c35613342fc6",
   "metadata": {},
   "source": [
    "**how to convert dictionary to list**"
   ]
  },
  {
   "cell_type": "code",
   "execution_count": 12,
   "id": "1ddc610b-10e8-42ac-a181-5ccd0fdbec47",
   "metadata": {},
   "outputs": [
    {
     "data": {
      "text/plain": [
       "(['Ramesh', 'Suresh', 'Sathish'], [20, 30, 40])"
      ]
     },
     "execution_count": 12,
     "metadata": {},
     "output_type": "execute_result"
    }
   ],
   "source": [
    "d={'Ramesh': 20, 'Suresh': 30, 'Sathish': 40}\n",
    "# iterate it print i==== key\n",
    "# using key how to get value\n",
    "# take two empty list and append it\n",
    "keys,values=[],[]\n",
    "for key in d:\n",
    "    keys.append(key)\n",
    "    values.append(d[key])\n",
    "keys,values"
   ]
  },
  {
   "cell_type": "code",
   "execution_count": null,
   "id": "926c5a08-e97d-466b-8e0b-53e403c69d23",
   "metadata": {},
   "outputs": [],
   "source": [
    "names=['Ramesh','Suresh','Sathish']\n",
    "age=[20,30,40]\n",
    "dict1={}\n",
    "for i,j in zip(names,age):\n",
    "    dict1[i]=j\n",
    "dict1\n",
    "############################################\n",
    "d={'Ramesh': 20, 'Suresh': 30, 'Sathish': 40}\n",
    "keys,values=[],[]\n",
    "for key in d:\n",
    "    keys.append(key)\n",
    "    values.append(d[key])\n",
    "keys,values"
   ]
  },
  {
   "cell_type": "code",
   "execution_count": 13,
   "id": "c5a679e0-ba2c-40b3-ac73-3bf7126d0914",
   "metadata": {},
   "outputs": [
    {
     "data": {
      "text/plain": [
       "[0, 1, 2, 3, 4, 5, 6, 7, 8, 9]"
      ]
     },
     "execution_count": 13,
     "metadata": {},
     "output_type": "execute_result"
    }
   ],
   "source": [
    "l=[i for i in range(10)]\n",
    "l"
   ]
  },
  {
   "cell_type": "code",
   "execution_count": null,
   "id": "c9fba4fd-c5c2-4444-bf08-2b08c147f6be",
   "metadata": {},
   "outputs": [],
   "source": [
    "d={'Ramesh': 20, 'Suresh': 30, 'Sathish': 40}\n",
    "keys=[key for key in d]\n",
    "values=[d[key] for key in d]"
   ]
  },
  {
   "cell_type": "markdown",
   "id": "4483d794-2150-4914-bdcf-be677e7b820e",
   "metadata": {},
   "source": [
    "**dictionary comprehenshion**"
   ]
  },
  {
   "cell_type": "code",
   "execution_count": 16,
   "id": "7e7ac8f8-6604-4f38-b16a-398d59e9eaeb",
   "metadata": {},
   "outputs": [
    {
     "data": {
      "text/plain": [
       "{'Ramesh': 20, 'Suresh': 30, 'Sathish': 40}"
      ]
     },
     "execution_count": 16,
     "metadata": {},
     "output_type": "execute_result"
    }
   ],
   "source": [
    "names=['Ramesh','Suresh','Sathish']\n",
    "age=[20,30,40]\n",
    "\n",
    "d={key:value for key,value in zip(names,age)}\n",
    "d"
   ]
  },
  {
   "cell_type": "markdown",
   "id": "e8c512d1-34d2-4ea6-927b-c8a693326e12",
   "metadata": {},
   "source": [
    "**mutable- immutable**\n",
    "\n",
    "- list are mutable\n",
    "\n",
    "- strings are immutable\n",
    "\n",
    "- tuple are immutable\n",
    "\n",
    "- dictionary also mutable we can modify the value of a dictionary"
   ]
  },
  {
   "cell_type": "code",
   "execution_count": 18,
   "id": "85cfb9cb-edff-43b9-9a63-555f838f2129",
   "metadata": {},
   "outputs": [
    {
     "data": {
      "text/plain": [
       "{'Ramesh': 40, 'Suresh': 30, 'Sathish': 40}"
      ]
     },
     "execution_count": 18,
     "metadata": {},
     "output_type": "execute_result"
    }
   ],
   "source": [
    "d={'Ramesh': 20, 'Suresh': 30, 'Sathish': 40}\n",
    "d['Ramesh']=40\n",
    "d"
   ]
  },
  {
   "cell_type": "markdown",
   "id": "a308d33f-75e4-4445-9708-0d6c07c74539",
   "metadata": {},
   "source": [
    "- dictionary is similar to database operations\n",
    "\n",
    "- keys always unique but values can be change"
   ]
  },
  {
   "cell_type": "markdown",
   "id": "1da0ae78-8c10-476d-87be-da2ba8ef038a",
   "metadata": {},
   "source": [
    "**concatenation**"
   ]
  },
  {
   "cell_type": "code",
   "execution_count": 19,
   "id": "79accd0a-98b8-42a1-8250-48d9b77e1ffc",
   "metadata": {},
   "outputs": [
    {
     "ename": "TypeError",
     "evalue": "unsupported operand type(s) for +: 'dict' and 'dict'",
     "output_type": "error",
     "traceback": [
      "\u001b[1;31m---------------------------------------------------------------------------\u001b[0m",
      "\u001b[1;31mTypeError\u001b[0m                                 Traceback (most recent call last)",
      "Cell \u001b[1;32mIn[19], line 3\u001b[0m\n\u001b[0;32m      1\u001b[0m d1\u001b[38;5;241m=\u001b[39m{\u001b[38;5;124m'\u001b[39m\u001b[38;5;124mRamesh\u001b[39m\u001b[38;5;124m'\u001b[39m:\u001b[38;5;241m20\u001b[39m}\n\u001b[0;32m      2\u001b[0m d2\u001b[38;5;241m=\u001b[39m{\u001b[38;5;124m'\u001b[39m\u001b[38;5;124mFruite\u001b[39m\u001b[38;5;124m'\u001b[39m:\u001b[38;5;124m'\u001b[39m\u001b[38;5;124mApple\u001b[39m\u001b[38;5;124m'\u001b[39m}\n\u001b[1;32m----> 3\u001b[0m d1\u001b[38;5;241m+\u001b[39md2\n",
      "\u001b[1;31mTypeError\u001b[0m: unsupported operand type(s) for +: 'dict' and 'dict'"
     ]
    }
   ],
   "source": [
    "d1={'Ramesh':20}\n",
    "d2={'Fruite':'Apple'}\n",
    "d1+d2"
   ]
  },
  {
   "cell_type": "markdown",
   "id": "902aac39-fd13-4c30-926d-1db9bb0d9543",
   "metadata": {},
   "source": [
    "**items-values-keys**"
   ]
  },
  {
   "cell_type": "code",
   "execution_count": 21,
   "id": "3240d759-d1c6-4139-a66f-b4163294615b",
   "metadata": {},
   "outputs": [
    {
     "data": {
      "text/plain": [
       "dict_items([('Ramesh', 20), ('Suresh', 30), ('Sathish', 40)])"
      ]
     },
     "execution_count": 21,
     "metadata": {},
     "output_type": "execute_result"
    }
   ],
   "source": [
    "d={'Ramesh': 20, 'Suresh': 30, 'Sathish': 40}\n",
    "d.items()"
   ]
  },
  {
   "cell_type": "code",
   "execution_count": 22,
   "id": "4a8cf22c-20d9-454d-83da-36d141a31341",
   "metadata": {},
   "outputs": [
    {
     "data": {
      "text/plain": [
       "dict_values([20, 30, 40])"
      ]
     },
     "execution_count": 22,
     "metadata": {},
     "output_type": "execute_result"
    }
   ],
   "source": [
    "d={'Ramesh': 20, 'Suresh': 30, 'Sathish': 40}\n",
    "d.values()"
   ]
  },
  {
   "cell_type": "code",
   "execution_count": 23,
   "id": "4f2f1c5e-41b9-4833-8304-3048653e38fa",
   "metadata": {},
   "outputs": [
    {
     "data": {
      "text/plain": [
       "dict_keys(['Ramesh', 'Suresh', 'Sathish'])"
      ]
     },
     "execution_count": 23,
     "metadata": {},
     "output_type": "execute_result"
    }
   ],
   "source": [
    "d={'Ramesh': 20, 'Suresh': 30, 'Sathish': 40}\n",
    "d.keys()"
   ]
  },
  {
   "cell_type": "code",
   "execution_count": 28,
   "id": "09037494-879a-46ef-857c-f41d73321ccc",
   "metadata": {},
   "outputs": [
    {
     "data": {
      "text/plain": [
       "(dict_keys, dict_keys(['Ramesh', 'Suresh', 'Sathish']))"
      ]
     },
     "execution_count": 28,
     "metadata": {},
     "output_type": "execute_result"
    }
   ],
   "source": [
    "d={'Ramesh': 20, 'Suresh': 30, 'Sathish': 40}\n",
    "keys=d.keys()\n",
    "type(keys),keys"
   ]
  },
  {
   "cell_type": "code",
   "execution_count": 27,
   "id": "2fca401d-1c0d-43b9-b26c-bc846b31c764",
   "metadata": {},
   "outputs": [
    {
     "data": {
      "text/plain": [
       "3"
      ]
     },
     "execution_count": 27,
     "metadata": {},
     "output_type": "execute_result"
    }
   ],
   "source": [
    "len(keys)"
   ]
  },
  {
   "cell_type": "code",
   "execution_count": 29,
   "id": "0a7d101f-a9ca-46cd-b14a-bb7dc83c4265",
   "metadata": {},
   "outputs": [
    {
     "ename": "TypeError",
     "evalue": "'dict_keys' object is not subscriptable",
     "output_type": "error",
     "traceback": [
      "\u001b[1;31m---------------------------------------------------------------------------\u001b[0m",
      "\u001b[1;31mTypeError\u001b[0m                                 Traceback (most recent call last)",
      "Cell \u001b[1;32mIn[29], line 1\u001b[0m\n\u001b[1;32m----> 1\u001b[0m keys[\u001b[38;5;241m0\u001b[39m]\n",
      "\u001b[1;31mTypeError\u001b[0m: 'dict_keys' object is not subscriptable"
     ]
    }
   ],
   "source": [
    "keys[0]"
   ]
  },
  {
   "cell_type": "markdown",
   "id": "4d1ebdf7-dcbd-4b48-98bf-f49c8cf6146b",
   "metadata": {},
   "source": [
    "- dict_keys is a type of keys represented in a list\n",
    "\n",
    "- it is looks like list but not list\n",
    "\n",
    "- we can not use list methods here\n",
    "\n",
    "- for that we need to convert dict_keys to list"
   ]
  },
  {
   "cell_type": "code",
   "execution_count": 32,
   "id": "79637861-983e-488a-98a0-5c008736d11a",
   "metadata": {},
   "outputs": [
    {
     "data": {
      "text/plain": [
       "['Ramesh', 'Suresh', 'Sathish']"
      ]
     },
     "execution_count": 32,
     "metadata": {},
     "output_type": "execute_result"
    }
   ],
   "source": [
    "d={'Ramesh': 20, 'Suresh': 30, 'Sathish': 40}\n",
    "keys=d.keys() # dict_keys type\n",
    "list(keys)    # list      type"
   ]
  },
  {
   "cell_type": "code",
   "execution_count": 33,
   "id": "6a1f2d0b-b04e-4fb2-83ef-324f34fdf49c",
   "metadata": {},
   "outputs": [
    {
     "data": {
      "text/plain": [
       "[20, 30, 40]"
      ]
     },
     "execution_count": 33,
     "metadata": {},
     "output_type": "execute_result"
    }
   ],
   "source": [
    "d={'Ramesh': 20, 'Suresh': 30, 'Sathish': 40}\n",
    "values=d.values() # dict_values type\n",
    "list(values)    # list      type"
   ]
  },
  {
   "cell_type": "code",
   "execution_count": 34,
   "id": "a381c291-0ecd-4c38-aa27-3259b1447969",
   "metadata": {},
   "outputs": [
    {
     "data": {
      "text/plain": [
       "[('Ramesh', 20), ('Suresh', 30), ('Sathish', 40)]"
      ]
     },
     "execution_count": 34,
     "metadata": {},
     "output_type": "execute_result"
    }
   ],
   "source": [
    "d={'Ramesh': 20, 'Suresh': 30, 'Sathish': 40}\n",
    "items=d.items() # dict_items type\n",
    "list(items)    # list      type"
   ]
  },
  {
   "cell_type": "code",
   "execution_count": null,
   "id": "c8f648a5-df4d-4d58-96db-74d20eba8799",
   "metadata": {},
   "outputs": [],
   "source": [
    "d={'Ramesh': 20, 'Suresh': 30, 'Sathish': 40}\n",
    "keys,values=[],[]\n",
    "for key in d:\n",
    "    keys.append(key)\n",
    "    values.append(d[key])\n",
    "keys,values\n",
    "######################################################\n",
    "d={'Ramesh': 20, 'Suresh': 30, 'Sathish': 40}\n",
    "keys=[key for key in d]\n",
    "values=[d[key] for key in d]\n",
    "#############################################\n",
    "d={'Ramesh': 20, 'Suresh': 30, 'Sathish': 40}\n",
    "keys=list(d.keys())\n",
    "values=list(d.values())"
   ]
  },
  {
   "cell_type": "code",
   "execution_count": null,
   "id": "7d839517-ede6-4c81-b164-eff407e23911",
   "metadata": {},
   "outputs": [],
   "source": [
    "When we are using keys list, values list, then what is the use of Items as list\n",
    "items : both are coming\n",
    "values: values\n",
    "keys: only keys"
   ]
  },
  {
   "cell_type": "code",
   "execution_count": null,
   "id": "8ef9231d-f3dc-47b6-bd4c-562fd16d76f3",
   "metadata": {},
   "outputs": [],
   "source": [
    "d={'Ramesh': 20, 'Suresh': 30,'Sathish': 40}\n"
   ]
  },
  {
   "cell_type": "code",
   "execution_count": 35,
   "id": "1521ab0a-4b2e-42dc-acc8-b62cca3a21d0",
   "metadata": {},
   "outputs": [
    {
     "data": {
      "text/plain": [
       "['__add__',\n",
       " '__class__',\n",
       " '__class_getitem__',\n",
       " '__contains__',\n",
       " '__delattr__',\n",
       " '__delitem__',\n",
       " '__dir__',\n",
       " '__doc__',\n",
       " '__eq__',\n",
       " '__format__',\n",
       " '__ge__',\n",
       " '__getattribute__',\n",
       " '__getitem__',\n",
       " '__getstate__',\n",
       " '__gt__',\n",
       " '__hash__',\n",
       " '__iadd__',\n",
       " '__imul__',\n",
       " '__init__',\n",
       " '__init_subclass__',\n",
       " '__iter__',\n",
       " '__le__',\n",
       " '__len__',\n",
       " '__lt__',\n",
       " '__mul__',\n",
       " '__ne__',\n",
       " '__new__',\n",
       " '__reduce__',\n",
       " '__reduce_ex__',\n",
       " '__repr__',\n",
       " '__reversed__',\n",
       " '__rmul__',\n",
       " '__setattr__',\n",
       " '__setitem__',\n",
       " '__sizeof__',\n",
       " '__str__',\n",
       " '__subclasshook__',\n",
       " 'append',\n",
       " 'clear',\n",
       " 'copy',\n",
       " 'count',\n",
       " 'extend',\n",
       " 'index',\n",
       " 'insert',\n",
       " 'pop',\n",
       " 'remove',\n",
       " 'reverse',\n",
       " 'sort']"
      ]
     },
     "execution_count": 35,
     "metadata": {},
     "output_type": "execute_result"
    }
   ],
   "source": [
    "dir([])"
   ]
  },
  {
   "cell_type": "code",
   "execution_count": null,
   "id": "e15f97d7-e5dd-4473-956e-88de6640e47d",
   "metadata": {},
   "outputs": [],
   "source": [
    "d={'Ramesh': 20, 'Suresh': 30,'Sathish': 40}\n",
    "#d={'ramesh': '20', 'suresh': '30','sathish': '40'}"
   ]
  },
  {
   "cell_type": "code",
   "execution_count": 39,
   "id": "aa24df4f-7471-4028-bb24-ed50c9c5afdc",
   "metadata": {},
   "outputs": [
    {
     "data": {
      "text/plain": [
       "{'ramesh': '20', 'suresh': '30', 'sathish': '40'}"
      ]
     },
     "execution_count": 39,
     "metadata": {},
     "output_type": "execute_result"
    }
   ],
   "source": [
    "d={'Ramesh': 20, 'Suresh': 30,'Sathish': 40}\n",
    "keys=[i.lower() for i in list(d.keys())]\n",
    "values=[str(i) for i in list(d.values())]\n",
    "{key:value for key,value in zip(keys,values)}"
   ]
  },
  {
   "cell_type": "markdown",
   "id": "0afe463b-8d61-4306-a26e-bee17e2fc77c",
   "metadata": {},
   "source": [
    "**get**"
   ]
  },
  {
   "cell_type": "code",
   "execution_count": 42,
   "id": "f841ba99-2e15-4633-8965-9021b95b96da",
   "metadata": {},
   "outputs": [
    {
     "data": {
      "text/plain": [
       "20"
      ]
     },
     "execution_count": 42,
     "metadata": {},
     "output_type": "execute_result"
    }
   ],
   "source": [
    "d={'Ramesh': 20, 'Suresh': 30,'Sathish': 40}\n",
    "d.get('Ramesh')"
   ]
  },
  {
   "cell_type": "code",
   "execution_count": 43,
   "id": "7e2a2c41-be31-41a6-83a4-8f9c38b73f78",
   "metadata": {},
   "outputs": [],
   "source": [
    "d.get('Ram')"
   ]
  },
  {
   "cell_type": "code",
   "execution_count": 45,
   "id": "1bc5afc2-1e44-47fd-8591-65aa19d11932",
   "metadata": {},
   "outputs": [
    {
     "ename": "KeyError",
     "evalue": "'Ram'",
     "output_type": "error",
     "traceback": [
      "\u001b[1;31m---------------------------------------------------------------------------\u001b[0m",
      "\u001b[1;31mKeyError\u001b[0m                                  Traceback (most recent call last)",
      "Cell \u001b[1;32mIn[45], line 2\u001b[0m\n\u001b[0;32m      1\u001b[0m d[\u001b[38;5;124m'\u001b[39m\u001b[38;5;124mRamesh\u001b[39m\u001b[38;5;124m'\u001b[39m] \u001b[38;5;66;03m# noraml way\u001b[39;00m\n\u001b[1;32m----> 2\u001b[0m d[\u001b[38;5;124m'\u001b[39m\u001b[38;5;124mRam\u001b[39m\u001b[38;5;124m'\u001b[39m]\n",
      "\u001b[1;31mKeyError\u001b[0m: 'Ram'"
     ]
    }
   ],
   "source": [
    "d['Ramesh'] # noraml way\n",
    "d['Ram']    # error"
   ]
  },
  {
   "cell_type": "code",
   "execution_count": null,
   "id": "cad1547e-cd57-40c3-afe3-87e1886e8797",
   "metadata": {},
   "outputs": [],
   "source": [
    "############## methods #########################\n",
    "d={'Ramesh': 20, 'Suresh': 30,'Sathish': 40}\n",
    "d.get('Ramesh')  # ans\n",
    "d.get('r')       # no error-no ans\n",
    "##############################################\n",
    "d['Ramesh'] # noraml way\n",
    "d['r']    # error"
   ]
  },
  {
   "cell_type": "markdown",
   "id": "4d423dee-e65b-4156-ae52-d19ed2e85a73",
   "metadata": {},
   "source": [
    "**update**"
   ]
  },
  {
   "cell_type": "code",
   "execution_count": 47,
   "id": "1b79d237-be1c-458b-ac52-4fc7c196fd6b",
   "metadata": {},
   "outputs": [
    {
     "data": {
      "text/plain": [
       "{'Ramesh': 20, 'Suresh': 30, 'Sathish': 40, 'Fruites': 'Apple'}"
      ]
     },
     "execution_count": 47,
     "metadata": {},
     "output_type": "execute_result"
    }
   ],
   "source": [
    "d={'Ramesh': 20, 'Suresh': 30,'Sathish': 40}\n",
    "d1={'Fruites':'Apple'}\n",
    "d.update(d1)\n",
    "d"
   ]
  },
  {
   "cell_type": "code",
   "execution_count": 51,
   "id": "3a081883-4e21-421b-9ba0-29cdf63ed13f",
   "metadata": {},
   "outputs": [
    {
     "data": {
      "text/plain": [
       "dict_items([('Ramesh', 20), ('Suresh', 30), ('Sathish', 40), ('Fruites', 'Apple'), ('Apple', 200)])"
      ]
     },
     "execution_count": 51,
     "metadata": {},
     "output_type": "execute_result"
    }
   ],
   "source": [
    "d.update(Apple=200)\n",
    "d.items()"
   ]
  },
  {
   "cell_type": "code",
   "execution_count": 52,
   "id": "51fd44bd-b6b5-41c0-82da-b367df6ff631",
   "metadata": {},
   "outputs": [
    {
     "data": {
      "text/plain": [
       "{'Ramesh': 20,\n",
       " 'Suresh': 30,\n",
       " 'Sathish': 40,\n",
       " 'Fruites': 'Apple',\n",
       " 'Apple': 200,\n",
       " 200: 'marks'}"
      ]
     },
     "execution_count": 52,
     "metadata": {},
     "output_type": "execute_result"
    }
   ],
   "source": [
    "t=(200,'marks')\n",
    "l=[t]\n",
    "d.update([(200,'marks')])\n",
    "d"
   ]
  },
  {
   "cell_type": "markdown",
   "id": "df83d631-8098-41f9-915d-6e0fee6ef695",
   "metadata": {},
   "source": [
    "- concatenate of two dictionary fails\n",
    "\n",
    "- but we can combine two dictionarys using update method"
   ]
  },
  {
   "cell_type": "code",
   "execution_count": null,
   "id": "2dab5f05-fee3-4c75-ab23-3f70e11184e8",
   "metadata": {},
   "outputs": [],
   "source": [
    "d={'Ramesh': 20, 'Suresh': 30,'Sathish': 40}\n",
    "d1={'Fruites':'Apple'}\n",
    "d.update(d1) # dict in dict\n",
    "d.update(Apple=200)\n",
    "d.update([(200,'marks')])"
   ]
  },
  {
   "cell_type": "code",
   "execution_count": 53,
   "id": "706878ae-48bb-4b2c-95d5-13d8fe26a117",
   "metadata": {},
   "outputs": [
    {
     "data": {
      "text/plain": [
       "['__class__',\n",
       " '__class_getitem__',\n",
       " '__contains__',\n",
       " '__delattr__',\n",
       " '__delitem__',\n",
       " '__dir__',\n",
       " '__doc__',\n",
       " '__eq__',\n",
       " '__format__',\n",
       " '__ge__',\n",
       " '__getattribute__',\n",
       " '__getitem__',\n",
       " '__getstate__',\n",
       " '__gt__',\n",
       " '__hash__',\n",
       " '__init__',\n",
       " '__init_subclass__',\n",
       " '__ior__',\n",
       " '__iter__',\n",
       " '__le__',\n",
       " '__len__',\n",
       " '__lt__',\n",
       " '__ne__',\n",
       " '__new__',\n",
       " '__or__',\n",
       " '__reduce__',\n",
       " '__reduce_ex__',\n",
       " '__repr__',\n",
       " '__reversed__',\n",
       " '__ror__',\n",
       " '__setattr__',\n",
       " '__setitem__',\n",
       " '__sizeof__',\n",
       " '__str__',\n",
       " '__subclasshook__',\n",
       " 'clear',\n",
       " 'copy',\n",
       " 'fromkeys',\n",
       " 'get',\n",
       " 'items',\n",
       " 'keys',\n",
       " 'pop',\n",
       " 'popitem',\n",
       " 'setdefault',\n",
       " 'update',\n",
       " 'values']"
      ]
     },
     "execution_count": 53,
     "metadata": {},
     "output_type": "execute_result"
    }
   ],
   "source": [
    "dir({})"
   ]
  },
  {
   "cell_type": "markdown",
   "id": "9b350779-9452-44e3-822b-234014d176de",
   "metadata": {},
   "source": [
    "**pop-popitem**"
   ]
  },
  {
   "cell_type": "code",
   "execution_count": 54,
   "id": "57014841-2d46-4898-94f3-60d2b983e90e",
   "metadata": {},
   "outputs": [
    {
     "data": {
      "text/plain": [
       "20"
      ]
     },
     "execution_count": 54,
     "metadata": {},
     "output_type": "execute_result"
    }
   ],
   "source": [
    "d={'Ramesh': 20, 'Suresh': 30,'Sathish': 40}\n",
    "d.pop('Ramesh')"
   ]
  },
  {
   "cell_type": "code",
   "execution_count": 55,
   "id": "760f21d7-01b2-4183-add0-d9c7b0c8d6f0",
   "metadata": {},
   "outputs": [
    {
     "data": {
      "text/plain": [
       "{'Suresh': 30, 'Sathish': 40}"
      ]
     },
     "execution_count": 55,
     "metadata": {},
     "output_type": "execute_result"
    }
   ],
   "source": [
    "d"
   ]
  },
  {
   "cell_type": "code",
   "execution_count": 56,
   "id": "26ad496c-de12-4c00-a975-7592763c37b6",
   "metadata": {},
   "outputs": [
    {
     "ename": "KeyError",
     "evalue": "'r'",
     "output_type": "error",
     "traceback": [
      "\u001b[1;31m---------------------------------------------------------------------------\u001b[0m",
      "\u001b[1;31mKeyError\u001b[0m                                  Traceback (most recent call last)",
      "Cell \u001b[1;32mIn[56], line 2\u001b[0m\n\u001b[0;32m      1\u001b[0m d\u001b[38;5;241m=\u001b[39m{\u001b[38;5;124m'\u001b[39m\u001b[38;5;124mRamesh\u001b[39m\u001b[38;5;124m'\u001b[39m: \u001b[38;5;241m20\u001b[39m, \u001b[38;5;124m'\u001b[39m\u001b[38;5;124mSuresh\u001b[39m\u001b[38;5;124m'\u001b[39m: \u001b[38;5;241m30\u001b[39m,\u001b[38;5;124m'\u001b[39m\u001b[38;5;124mSathish\u001b[39m\u001b[38;5;124m'\u001b[39m: \u001b[38;5;241m40\u001b[39m}\n\u001b[1;32m----> 2\u001b[0m d\u001b[38;5;241m.\u001b[39mpop(\u001b[38;5;124m'\u001b[39m\u001b[38;5;124mr\u001b[39m\u001b[38;5;124m'\u001b[39m)\n",
      "\u001b[1;31mKeyError\u001b[0m: 'r'"
     ]
    }
   ],
   "source": [
    "d={'Ramesh': 20, 'Suresh': 30,'Sathish': 40}\n",
    "d.pop('r')"
   ]
  },
  {
   "cell_type": "code",
   "execution_count": 57,
   "id": "38abc949-116a-4553-8fa3-24a1aaaf61db",
   "metadata": {},
   "outputs": [
    {
     "data": {
      "text/plain": [
       "333"
      ]
     },
     "execution_count": 57,
     "metadata": {},
     "output_type": "execute_result"
    }
   ],
   "source": [
    "l=[100,200,333,444]\n",
    "l.pop(2)   # index\n",
    "\n",
    "d={'Ramesh': 20, 'Suresh': 30,'Sathish': 40}\n",
    "d.pop('Ramesh') # key"
   ]
  },
  {
   "cell_type": "code",
   "execution_count": 58,
   "id": "a194bb04-0745-4169-84b0-95de360268dd",
   "metadata": {},
   "outputs": [],
   "source": [
    "l=[100,200,333,444]\n",
    "l.remove(333)"
   ]
  },
  {
   "cell_type": "code",
   "execution_count": 59,
   "id": "22ddcdbc-bce5-4071-82fc-c33772ef8318",
   "metadata": {},
   "outputs": [
    {
     "data": {
      "text/plain": [
       "('Sathish', 40)"
      ]
     },
     "execution_count": 59,
     "metadata": {},
     "output_type": "execute_result"
    }
   ],
   "source": [
    "d={'Ramesh': 20, 'Suresh': 30,'Sathish': 40}\n",
    "d.popitem()"
   ]
  },
  {
   "cell_type": "code",
   "execution_count": 60,
   "id": "1e9d3bcb-2787-4ff2-8e16-f5342601a033",
   "metadata": {},
   "outputs": [
    {
     "data": {
      "text/plain": [
       "{'Ramesh': 20, 'Suresh': 30}"
      ]
     },
     "execution_count": 60,
     "metadata": {},
     "output_type": "execute_result"
    }
   ],
   "source": [
    "d"
   ]
  },
  {
   "cell_type": "markdown",
   "id": "7663d4aa-6cd3-4969-bd8e-9561912619fc",
   "metadata": {},
   "source": [
    "- pop will excpect a key , corresponding value will be removed\n",
    "\n",
    "    - pop will return the **value which is removing**\n",
    "\n",
    "- pop item has no arguments, last key-value pair will be removed\n",
    "\n",
    "    - pop item return last **key-value pair**\n"
   ]
  },
  {
   "cell_type": "markdown",
   "id": "4d947e21-d824-438c-bd3a-3c43c3e60515",
   "metadata": {},
   "source": [
    "**del**"
   ]
  },
  {
   "cell_type": "code",
   "execution_count": 61,
   "id": "a3bfd36e-167d-43fe-b92f-3ea1731c47d7",
   "metadata": {},
   "outputs": [
    {
     "data": {
      "text/plain": [
       "[200, 333, 444]"
      ]
     },
     "execution_count": 61,
     "metadata": {},
     "output_type": "execute_result"
    }
   ],
   "source": [
    "l=[100,200,333,444]\n",
    "del l[0]\n",
    "l"
   ]
  },
  {
   "cell_type": "code",
   "execution_count": 62,
   "id": "46f17fdf-a785-4cb1-9736-8f46d42b0dcc",
   "metadata": {},
   "outputs": [
    {
     "ename": "NameError",
     "evalue": "name 'l' is not defined",
     "output_type": "error",
     "traceback": [
      "\u001b[1;31m---------------------------------------------------------------------------\u001b[0m",
      "\u001b[1;31mNameError\u001b[0m                                 Traceback (most recent call last)",
      "Cell \u001b[1;32mIn[62], line 3\u001b[0m\n\u001b[0;32m      1\u001b[0m l\u001b[38;5;241m=\u001b[39m[\u001b[38;5;241m100\u001b[39m,\u001b[38;5;241m200\u001b[39m,\u001b[38;5;241m333\u001b[39m,\u001b[38;5;241m444\u001b[39m]\n\u001b[0;32m      2\u001b[0m \u001b[38;5;28;01mdel\u001b[39;00m l\n\u001b[1;32m----> 3\u001b[0m l\n",
      "\u001b[1;31mNameError\u001b[0m: name 'l' is not defined"
     ]
    }
   ],
   "source": [
    "l=[100,200,333,444]\n",
    "del l # l is gone here\n",
    "l"
   ]
  },
  {
   "cell_type": "code",
   "execution_count": 65,
   "id": "6f7a88fb-eb1d-4db2-be04-0850e1afe54f",
   "metadata": {},
   "outputs": [
    {
     "data": {
      "text/plain": [
       "{'Sathish': 40}"
      ]
     },
     "execution_count": 65,
     "metadata": {},
     "output_type": "execute_result"
    }
   ],
   "source": [
    "d={'Ramesh': 20, 'Suresh': 30,'Sathish': 40}\n",
    "del d['Ramesh']\n",
    "del(d['Suresh'])\n",
    "d"
   ]
  },
  {
   "cell_type": "code",
   "execution_count": 64,
   "id": "abd0ab97-502f-4866-a5d9-f359969bfab1",
   "metadata": {},
   "outputs": [
    {
     "ename": "NameError",
     "evalue": "name 'd' is not defined",
     "output_type": "error",
     "traceback": [
      "\u001b[1;31m---------------------------------------------------------------------------\u001b[0m",
      "\u001b[1;31mNameError\u001b[0m                                 Traceback (most recent call last)",
      "Cell \u001b[1;32mIn[64], line 3\u001b[0m\n\u001b[0;32m      1\u001b[0m d\u001b[38;5;241m=\u001b[39m{\u001b[38;5;124m'\u001b[39m\u001b[38;5;124mRamesh\u001b[39m\u001b[38;5;124m'\u001b[39m: \u001b[38;5;241m20\u001b[39m, \u001b[38;5;124m'\u001b[39m\u001b[38;5;124mSuresh\u001b[39m\u001b[38;5;124m'\u001b[39m: \u001b[38;5;241m30\u001b[39m,\u001b[38;5;124m'\u001b[39m\u001b[38;5;124mSathish\u001b[39m\u001b[38;5;124m'\u001b[39m: \u001b[38;5;241m40\u001b[39m}\n\u001b[0;32m      2\u001b[0m \u001b[38;5;28;01mdel\u001b[39;00m d\n\u001b[1;32m----> 3\u001b[0m d\n",
      "\u001b[1;31mNameError\u001b[0m: name 'd' is not defined"
     ]
    }
   ],
   "source": [
    "d={'Ramesh': 20, 'Suresh': 30,'Sathish': 40}\n",
    "del d\n",
    "d"
   ]
  },
  {
   "cell_type": "code",
   "execution_count": null,
   "id": "cc9daad3-034f-48a2-9e8c-ce54ff80a043",
   "metadata": {},
   "outputs": [],
   "source": [
    "count in strings also in list\n",
    "\n",
    "index in strings also in list\n",
    "\n",
    "find in strings but not in list\n",
    "\n",
    "pop in list also in dictionary\n",
    "\n",
    "remove in list but in dictionary pop item\n",
    "\n",
    "concatenation in list ==== extend in list\n",
    "\n",
    "access value using key in dict===== get method \n",
    "\n",
    "del for list and dictionary\n",
    "\n",
    "sorted and reveresed for all data types\n",
    "\n",
    "strings to list\n",
    "\n",
    "list to strings\n",
    "\n",
    "list to dictionary\n",
    "\n",
    "dictionary to list"
   ]
  }
 ],
 "metadata": {
  "kernelspec": {
   "display_name": "Python 3 (ipykernel)",
   "language": "python",
   "name": "python3"
  },
  "language_info": {
   "codemirror_mode": {
    "name": "ipython",
    "version": 3
   },
   "file_extension": ".py",
   "mimetype": "text/x-python",
   "name": "python",
   "nbconvert_exporter": "python",
   "pygments_lexer": "ipython3",
   "version": "3.11.7"
  }
 },
 "nbformat": 4,
 "nbformat_minor": 5
}
