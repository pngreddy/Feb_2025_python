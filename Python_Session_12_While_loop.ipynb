{
 "cells": [
  {
   "cell_type": "markdown",
   "id": "21da841b-ab0e-4f90-b900-34c047a70b9e",
   "metadata": {},
   "source": [
    "**While loop**"
   ]
  },
  {
   "cell_type": "markdown",
   "id": "03a15368-92ef-42f7-bb70-e3cf2be2a295",
   "metadata": {},
   "source": [
    "- Intialization\n",
    "\n",
    "- Increment or decrement\n",
    "\n",
    "- Condition to stop"
   ]
  },
  {
   "cell_type": "markdown",
   "id": "edf73eb0-a27b-4a99-ba79-eaf73806948b",
   "metadata": {},
   "source": [
    "**in the for loop all the above 3 will happen in a single statement**"
   ]
  },
  {
   "cell_type": "code",
   "execution_count": 1,
   "id": "67b279e9-f9c6-44fb-ac89-0ac5c255ce1a",
   "metadata": {},
   "outputs": [
    {
     "name": "stdout",
     "output_type": "stream",
     "text": [
      "2 4 6 8 10 12 14 16 18 "
     ]
    }
   ],
   "source": [
    "for i in range(2,20,2):\n",
    "    print(i,end=' ')\n",
    "\n",
    "# i=2\n",
    "# i==18\n",
    "# i=i+2"
   ]
  },
  {
   "cell_type": "markdown",
   "id": "9d99dd04-1f6a-48b7-abe1-b29115e0b561",
   "metadata": {},
   "source": [
    "**but in while loop all 3 are happend in each line**"
   ]
  },
  {
   "cell_type": "code",
   "execution_count": null,
   "id": "399ed606-d1dc-4aab-8138-36625f8a1825",
   "metadata": {},
   "outputs": [],
   "source": [
    "# intial value\n",
    "# condition\n",
    "    # write your code\n",
    "    # increment or decrement\n",
    "\n",
    "<inital value>\n",
    "while <condition>:\n",
    "    <write your code here>\n",
    "    <increment or decrement>\n",
    "\n",
    "# we need to write a condition\n",
    "    # while should give enter inside the loop\n",
    "    # after some time whenever the condition satisfies\n",
    "    #       the code should stop\n",
    "\n",
    "i>=2\n",
    "i<=18\n",
    "i<18\n",
    "i!=18"
   ]
  },
  {
   "cell_type": "code",
   "execution_count": null,
   "id": "acd4712a-b368-4339-bcc5-241cdb4c1919",
   "metadata": {},
   "outputs": [],
   "source": [
    "# Infinite loop conditopn\n",
    "i=2\n",
    "while i>=2:\n",
    "    print(i,end=' ')\n",
    "    i=i+2\n",
    "\n",
    "# step-1: i=2  while 2>=2  TRUE  print(2)  i=2+2=4\n",
    "# step-2: i=4  while 4>=2  True  print(4)  i=4+2=6\n",
    "# step-3: i=6  while 6>=2  True  print"
   ]
  },
  {
   "cell_type": "code",
   "execution_count": 2,
   "id": "ef02aaa9-1118-4092-9896-b811d3694476",
   "metadata": {},
   "outputs": [
    {
     "name": "stdout",
     "output_type": "stream",
     "text": [
      "2 4 6 8 10 12 14 16 18 "
     ]
    }
   ],
   "source": [
    "i=2\n",
    "while i<=18:\n",
    "    print(i,end=' ')\n",
    "    i=i+2\n",
    "\n",
    "# step-1: i=2  while 2<=18  True  print(2)  i=2+2=4\n",
    "# step-2: i=4  while 4<=18  True  print(4)  i=4+2=6\n",
    "# step-3: i=6  while 6<=18   True  print(6) i=6+2=8\n",
    "\n",
    "\n",
    "# step   i=16  while 16<=18  True  print(16) i=16+2=18\n",
    "# step   i=18  while 18<=18   True print(18) i=18+2=20\n",
    "# step   i=20  while 20<=18   False"
   ]
  },
  {
   "cell_type": "code",
   "execution_count": 3,
   "id": "872bc402-18cd-4d8d-90e6-7ba1eb3fe33c",
   "metadata": {},
   "outputs": [
    {
     "name": "stdout",
     "output_type": "stream",
     "text": [
      "2 4 6 8 10 12 14 16 "
     ]
    }
   ],
   "source": [
    "i=2\n",
    "while i<18:\n",
    "    print(i,end=' ')\n",
    "    i=i+2"
   ]
  },
  {
   "cell_type": "code",
   "execution_count": 4,
   "id": "b208f075-dacf-4ae5-a168-7092a3929f3a",
   "metadata": {},
   "outputs": [
    {
     "name": "stdout",
     "output_type": "stream",
     "text": [
      "2 4 6 8 10 12 14 16 "
     ]
    }
   ],
   "source": [
    "i=2\n",
    "while i!=18:\n",
    "    print(i,end=' ')\n",
    "    i=i+2"
   ]
  },
  {
   "cell_type": "code",
   "execution_count": null,
   "id": "4ff42e96-abf1-4a2f-b686-e04974023009",
   "metadata": {},
   "outputs": [],
   "source": [
    "# Infinite loop conditon (dont run it)\n",
    "i=2\n",
    "while i>=2:\n",
    "    print(i,end=' ')\n",
    "    i=i+2\n",
    "##############################################\n",
    "i=2\n",
    "while i<=18:\n",
    "    print(i,end=' ')\n",
    "    i=i+2\n",
    "################################################\n",
    "i=2\n",
    "while i<18:\n",
    "    print(i,end=' ')\n",
    "    i=i+2\n",
    "############################################\n",
    "i=2\n",
    "while i!=18:\n",
    "    print(i,end=' ')\n",
    "    i=i+2"
   ]
  },
  {
   "cell_type": "code",
   "execution_count": 5,
   "id": "4c34b5d2-eb06-44d5-a5e8-8b7cae671043",
   "metadata": {},
   "outputs": [
    {
     "name": "stdout",
     "output_type": "stream",
     "text": [
      "10 9 8 7 6 5 4 3 2 1 "
     ]
    }
   ],
   "source": [
    "for i in range(10,0,-1):\n",
    "    print(i,end=' ')"
   ]
  },
  {
   "cell_type": "code",
   "execution_count": 6,
   "id": "c536cabb-4f15-4f6e-9119-6862fea00b9e",
   "metadata": {},
   "outputs": [
    {
     "name": "stdout",
     "output_type": "stream",
     "text": [
      "-10 -9 -8 -7 -6 -5 -4 -3 -2 -1 "
     ]
    }
   ],
   "source": [
    "for i in range(-10,0,1):\n",
    "    print(i,end=' ')"
   ]
  },
  {
   "cell_type": "code",
   "execution_count": 7,
   "id": "efb67b51-d3ec-4c05-a4df-4ce6911f7342",
   "metadata": {},
   "outputs": [
    {
     "name": "stdout",
     "output_type": "stream",
     "text": [
      "-1 -2 -3 -4 -5 -6 -7 -8 -9 -10 "
     ]
    }
   ],
   "source": [
    "for i in range(-1,-11,-1):\n",
    "    print(i,end=' ')"
   ]
  },
  {
   "cell_type": "code",
   "execution_count": 11,
   "id": "f238c128-b37a-4336-a16a-6a8fd6ab1f0f",
   "metadata": {},
   "outputs": [
    {
     "name": "stdout",
     "output_type": "stream",
     "text": [
      "10 9 8 7 6 5 4 3 2 1 0 "
     ]
    }
   ],
   "source": [
    "i=10\n",
    "while i>0:\n",
    "    print(i,end=' ')\n",
    "    i=i-1"
   ]
  },
  {
   "cell_type": "code",
   "execution_count": 14,
   "id": "78c6abea-96a6-4a2a-b211-5fef155d886a",
   "metadata": {},
   "outputs": [
    {
     "name": "stdout",
     "output_type": "stream",
     "text": [
      "-10 -9 -8 -7 -6 -5 -4 -3 -2 -1 "
     ]
    }
   ],
   "source": [
    "i=-10\n",
    "while i<0:\n",
    "    print(i,end=' ')\n",
    "    i=i+1"
   ]
  },
  {
   "cell_type": "code",
   "execution_count": 16,
   "id": "f4726783-0568-449b-9c2c-c06801df3b2c",
   "metadata": {},
   "outputs": [
    {
     "name": "stdout",
     "output_type": "stream",
     "text": [
      "-1 -2 -3 -4 -5 -6 -7 -8 -9 -10 "
     ]
    }
   ],
   "source": [
    "i=-1\n",
    "while i>-11:\n",
    "    print(i,end=' ')\n",
    "    i=i-1"
   ]
  },
  {
   "cell_type": "markdown",
   "id": "e8adf9ab-d8d2-42a4-909a-099a96e272fd",
   "metadata": {},
   "source": [
    "**True**"
   ]
  },
  {
   "cell_type": "markdown",
   "id": "8939fb52-78fe-40d5-84a8-21e404202f59",
   "metadata": {},
   "source": [
    "- True is condition always give a permission to enter inside the loop\n",
    "\n",
    "- some time we can not fix the condition to enter inside the loop\n",
    "\n",
    "- but we know stop condition"
   ]
  },
  {
   "cell_type": "code",
   "execution_count": 22,
   "id": "40b31326-244b-4bb1-add5-808f08e0156d",
   "metadata": {},
   "outputs": [
    {
     "name": "stdout",
     "output_type": "stream",
     "text": [
      "2 4 6 8 10 "
     ]
    }
   ],
   "source": [
    "i=2\n",
    "while True:\n",
    "    print(i,end=' ')\n",
    "    i=i+2  # 2+2=4    4+2=6  6+2=8\n",
    "    if i==12:\n",
    "        break\n",
    "    "
   ]
  },
  {
   "cell_type": "code",
   "execution_count": 21,
   "id": "2dd3e8a6-b3cd-48ae-bba0-2a1a2556cd01",
   "metadata": {},
   "outputs": [
    {
     "name": "stdout",
     "output_type": "stream",
     "text": [
      "-1 -2 -3 -4 -5 -6 -7 -8 -9 "
     ]
    }
   ],
   "source": [
    "i=-1\n",
    "while True:\n",
    "    print(i,end=' ')\n",
    "    i=i-1  # -1-1=-2\n",
    "    if i==-10:\n",
    "        break"
   ]
  },
  {
   "cell_type": "code",
   "execution_count": 23,
   "id": "432edc7d-ec26-4d95-9648-4adaf10a4327",
   "metadata": {},
   "outputs": [
    {
     "name": "stdout",
     "output_type": "stream",
     "text": [
      "2 4 6 8 "
     ]
    }
   ],
   "source": [
    "i=2\n",
    "while True:\n",
    "    print(i,end=' ')\n",
    "    i=i+2\n",
    "    if i==10:\n",
    "        break"
   ]
  },
  {
   "cell_type": "markdown",
   "id": "a9e73c66-3ef8-4e0e-8f5a-0ac268d74cb7",
   "metadata": {},
   "source": [
    "**when to use while and for**\n",
    "\n",
    "- if we observe for loop **start stop step**\n",
    "\n",
    "- there is no infinite loop situation here\n",
    "\n",
    "- if we want to give infinite loop situation\n",
    "\n",
    "    - based on correct value we want to stop the loop then we go for while loop"
   ]
  },
  {
   "cell_type": "code",
   "execution_count": 28,
   "id": "f446fa83-54cd-4635-849f-8e8b45f07a31",
   "metadata": {},
   "outputs": [
    {
     "name": "stdout",
     "output_type": "stream",
     "text": [
      "6\n"
     ]
    },
    {
     "name": "stdin",
     "output_type": "stream",
     "text": [
      "enter the number: 6\n"
     ]
    },
    {
     "name": "stdout",
     "output_type": "stream",
     "text": [
      "won\n"
     ]
    }
   ],
   "source": [
    "# wap ask the user get a random number n1\n",
    "# wap ask the user enter a number n2\n",
    "# if both are match print won \n",
    "# otherwise lost\n",
    "# give infinite chances \n",
    "# the loop will stop when both values are matched\n",
    "\n",
    "import random\n",
    "n1=random.randint(1,10)\n",
    "print(n1)\n",
    "n2=eval(input(\"enter the number:\"))\n",
    "if n1==n2:\n",
    "    print('won')\n",
    "else:\n",
    "    print('lost')"
   ]
  },
  {
   "cell_type": "code",
   "execution_count": 30,
   "id": "d0ecd8bd-5c63-45db-9228-679a125dd4f7",
   "metadata": {},
   "outputs": [
    {
     "name": "stdout",
     "output_type": "stream",
     "text": [
      "7\n"
     ]
    },
    {
     "name": "stdin",
     "output_type": "stream",
     "text": [
      "enter the number: 7\n"
     ]
    },
    {
     "name": "stdout",
     "output_type": "stream",
     "text": [
      "won\n"
     ]
    }
   ],
   "source": [
    "for i in range(3):\n",
    "    n1=random.randint(1,10)\n",
    "    print(n1)\n",
    "    n2=eval(input(\"enter the number:\"))\n",
    "    if n1==n2:\n",
    "        print('won')\n",
    "        break\n",
    "    else:\n",
    "        print('lost')"
   ]
  },
  {
   "cell_type": "code",
   "execution_count": 32,
   "id": "a492c2a5-f253-4d6f-8edf-43a6f6988153",
   "metadata": {},
   "outputs": [
    {
     "name": "stdout",
     "output_type": "stream",
     "text": [
      "9\n"
     ]
    },
    {
     "name": "stdin",
     "output_type": "stream",
     "text": [
      "enter the number: 8\n"
     ]
    },
    {
     "name": "stdout",
     "output_type": "stream",
     "text": [
      "lost\n",
      "10\n"
     ]
    },
    {
     "name": "stdin",
     "output_type": "stream",
     "text": [
      "enter the number: 2\n"
     ]
    },
    {
     "name": "stdout",
     "output_type": "stream",
     "text": [
      "lost\n",
      "8\n"
     ]
    },
    {
     "name": "stdin",
     "output_type": "stream",
     "text": [
      "enter the number: 9\n"
     ]
    },
    {
     "name": "stdout",
     "output_type": "stream",
     "text": [
      "lost\n",
      "9\n"
     ]
    },
    {
     "name": "stdin",
     "output_type": "stream",
     "text": [
      "enter the number: 9\n"
     ]
    },
    {
     "name": "stdout",
     "output_type": "stream",
     "text": [
      "won\n"
     ]
    }
   ],
   "source": [
    "while True:\n",
    "    n1=random.randint(1,10)\n",
    "    print(n1)\n",
    "    n2=eval(input(\"enter the number:\"))\n",
    "    if n1==n2:\n",
    "        print('won')\n",
    "        break\n",
    "    else:\n",
    "        print('lost')"
   ]
  },
  {
   "cell_type": "code",
   "execution_count": 33,
   "id": "085775b8-b606-4c6f-a840-186c68883b62",
   "metadata": {},
   "outputs": [
    {
     "name": "stdout",
     "output_type": "stream",
     "text": [
      "6\n"
     ]
    },
    {
     "name": "stdin",
     "output_type": "stream",
     "text": [
      "enter the number: 6\n"
     ]
    },
    {
     "name": "stdout",
     "output_type": "stream",
     "text": [
      "won\n"
     ]
    }
   ],
   "source": [
    "n1=random.randint(1,10)\n",
    "print(n1) # 6\n",
    "n2=eval(input(\"enter the number:\")) #8\n",
    "while True:\n",
    "    if n1==n2:\n",
    "        print('won')\n",
    "        break\n",
    "    else:\n",
    "        print('lost')\n",
    "\n",
    "# 6==8  F    lost\n",
    "# 6==8 F  lost\n",
    "#  "
   ]
  },
  {
   "cell_type": "code",
   "execution_count": 35,
   "id": "9c351c41-1f07-4206-a81d-ffd78f9f608b",
   "metadata": {},
   "outputs": [
    {
     "name": "stdin",
     "output_type": "stream",
     "text": [
      "enter the number 1\n"
     ]
    },
    {
     "name": "stdout",
     "output_type": "stream",
     "text": [
      "hello\n"
     ]
    },
    {
     "name": "stdin",
     "output_type": "stream",
     "text": [
      "enter the number 2\n"
     ]
    },
    {
     "name": "stdout",
     "output_type": "stream",
     "text": [
      "hello\n"
     ]
    },
    {
     "name": "stdin",
     "output_type": "stream",
     "text": [
      "enter the number 3\n"
     ]
    },
    {
     "name": "stdout",
     "output_type": "stream",
     "text": [
      "hello\n"
     ]
    }
   ],
   "source": [
    "for i in range(3):\n",
    "    n1=eval(input(\"enter the number\"))\n",
    "    print('hello')"
   ]
  },
  {
   "cell_type": "code",
   "execution_count": 36,
   "id": "c932e72d-7db5-42a8-bfdb-ede83d5edb2c",
   "metadata": {},
   "outputs": [
    {
     "name": "stdout",
     "output_type": "stream",
     "text": [
      "4\n"
     ]
    },
    {
     "name": "stdin",
     "output_type": "stream",
     "text": [
      "enter the number: 7\n"
     ]
    },
    {
     "name": "stdout",
     "output_type": "stream",
     "text": [
      "lost\n"
     ]
    },
    {
     "name": "stdin",
     "output_type": "stream",
     "text": [
      "enter the number: 4\n"
     ]
    },
    {
     "name": "stdout",
     "output_type": "stream",
     "text": [
      "won\n"
     ]
    }
   ],
   "source": [
    "n1=random.randint(1,10)\n",
    "print(n1)\n",
    "while True:\n",
    "    n2=eval(input(\"enter the number:\"))\n",
    "    if n1==n2:\n",
    "        print('won')\n",
    "        break\n",
    "    else:\n",
    "        print('lost')"
   ]
  },
  {
   "cell_type": "code",
   "execution_count": null,
   "id": "23a8ada5-70b9-4fdc-a102-ccde390e6c30",
   "metadata": {},
   "outputs": [],
   "source": [
    "#Q1)wap ask the user enter a number and get the square of the number\n",
    "# the user should enter 5 values one by one\n",
    "# the prompt should ask 5 times\n",
    "\n",
    "#Q2)wap ask the user enter 5 numbers\n",
    "# print it is a even number or odd\n",
    "# loop should run 5 times\n",
    "# code should ask 5 times enter the number\n",
    "\n",
    "#Q3)wap ask the user print 7th table\n",
    "# o/p\n",
    "#  7x1=7\n",
    "#  7x2=14\n",
    "\n",
    "#Q4)WAP ask the user enter the number and find the divisors of the number\n",
    "# 75 ====> 1,3,5,15,75 \n",
    "\n",
    "#Q5)wap ask the user print first 10 natural numbers\n",
    "# 1+2+3+4+5+6+7+8+9+10=55\n",
    "\n",
    "#Q6)wap ask the user find the count of divisors\n",
    "\n",
    "#Q7)wap ask the user to enter a number 5 times\n",
    "# the loop should ask 5 times\n",
    "# you should calculate even odd\n",
    "# get the count of even and count of odd number"
   ]
  }
 ],
 "metadata": {
  "kernelspec": {
   "display_name": "Python 3 (ipykernel)",
   "language": "python",
   "name": "python3"
  },
  "language_info": {
   "codemirror_mode": {
    "name": "ipython",
    "version": 3
   },
   "file_extension": ".py",
   "mimetype": "text/x-python",
   "name": "python",
   "nbconvert_exporter": "python",
   "pygments_lexer": "ipython3",
   "version": "3.11.7"
  }
 },
 "nbformat": 4,
 "nbformat_minor": 5
}
