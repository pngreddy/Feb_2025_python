{
 "cells": [
  {
   "cell_type": "code",
   "execution_count": 1,
   "id": "844a156f-c601-4d2b-8ae3-aa9e9e377e6e",
   "metadata": {},
   "outputs": [
    {
     "data": {
      "text/plain": [
       "'C:\\\\Users\\\\omkar\\\\OneDrive\\\\Documents\\\\Data science\\\\Naresh IT\\\\Naresh IT\\\\Data science\\\\Batches\\\\Batch_11_Oct\\\\Python_session'"
      ]
     },
     "execution_count": 1,
     "metadata": {},
     "output_type": "execute_result"
    }
   ],
   "source": [
    "import os\n",
    "os.getcwd()\n",
    "\n",
    "# get Current Working Directory(cwd)"
   ]
  },
  {
   "cell_type": "markdown",
   "id": "79fa03a8-c143-48a1-8084-1605be4ec182",
   "metadata": {},
   "source": [
    "## Variables"
   ]
  },
  {
   "cell_type": "markdown",
   "id": "9fbb304b-17a9-47f9-921c-cecfb2193ecf",
   "metadata": {},
   "source": [
    "Variables are used to store the values, and the values can be change"
   ]
  },
  {
   "cell_type": "code",
   "execution_count": 3,
   "id": "e8c111ca-e608-43c6-9fcf-36d60a61fb18",
   "metadata": {},
   "outputs": [
    {
     "name": "stdout",
     "output_type": "stream",
     "text": [
      "100\n"
     ]
    }
   ],
   "source": [
    "num=100\n",
    "# esc+m\n",
    "# shift+enter\n",
    "# value 100 stored in a varaible called : num\n",
    "print(num)"
   ]
  },
  {
   "cell_type": "code",
   "execution_count": 4,
   "id": "081babbc-54c6-4a17-9de1-8d2e588c368d",
   "metadata": {},
   "outputs": [
    {
     "name": "stdout",
     "output_type": "stream",
     "text": [
      "200\n"
     ]
    }
   ],
   "source": [
    "num=200\n",
    "print(num)"
   ]
  },
  {
   "cell_type": "code",
   "execution_count": 5,
   "id": "705047dc-74e6-4a3b-ae77-5253b2af285b",
   "metadata": {},
   "outputs": [
    {
     "data": {
      "text/plain": [
       "200"
      ]
     },
     "execution_count": 5,
     "metadata": {},
     "output_type": "execute_result"
    }
   ],
   "source": [
    "NUMBER=200\n",
    "NUMBER"
   ]
  },
  {
   "cell_type": "code",
   "execution_count": 6,
   "id": "7d99960b-c128-4104-bb6b-1d7db015ce31",
   "metadata": {},
   "outputs": [
    {
     "data": {
      "text/plain": [
       "300"
      ]
     },
     "execution_count": 6,
     "metadata": {},
     "output_type": "execute_result"
    }
   ],
   "source": [
    "number=300\n",
    "number"
   ]
  },
  {
   "cell_type": "code",
   "execution_count": 7,
   "id": "58d2ceaf-a072-4912-add2-209c2e58a265",
   "metadata": {},
   "outputs": [
    {
     "data": {
      "text/plain": [
       "(300, 200)"
      ]
     },
     "execution_count": 7,
     "metadata": {},
     "output_type": "execute_result"
    }
   ],
   "source": [
    "number,NUMBER"
   ]
  },
  {
   "cell_type": "code",
   "execution_count": 8,
   "id": "19fa35ea-e447-492e-b317-d59a5f1f5e7c",
   "metadata": {},
   "outputs": [
    {
     "data": {
      "text/plain": [
       "300"
      ]
     },
     "execution_count": 8,
     "metadata": {},
     "output_type": "execute_result"
    }
   ],
   "source": [
    "number123=300\n",
    "number123"
   ]
  },
  {
   "cell_type": "code",
   "execution_count": 9,
   "id": "c14593fa-1d9c-4e2c-94ee-364aff5a65d4",
   "metadata": {},
   "outputs": [
    {
     "ename": "SyntaxError",
     "evalue": "invalid decimal literal (359278068.py, line 1)",
     "output_type": "error",
     "traceback": [
      "\u001b[1;36m  Cell \u001b[1;32mIn[9], line 1\u001b[1;36m\u001b[0m\n\u001b[1;33m    123number=400\u001b[0m\n\u001b[1;37m      ^\u001b[0m\n\u001b[1;31mSyntaxError\u001b[0m\u001b[1;31m:\u001b[0m invalid decimal literal\n"
     ]
    }
   ],
   "source": [
    "123number=400\n",
    "123number"
   ]
  },
  {
   "cell_type": "code",
   "execution_count": null,
   "id": "39a8e614-eb11-4d90-a661-779d6a929c9f",
   "metadata": {},
   "outputs": [],
   "source": [
    "number  # works\n",
    "NUMBER  # works\n",
    "number123 # woks\n",
    "123number # Notworks"
   ]
  },
  {
   "cell_type": "code",
   "execution_count": 10,
   "id": "5bb6c2cf-9378-43da-9d37-aa8c329e5c37",
   "metadata": {},
   "outputs": [
    {
     "data": {
      "text/plain": [
       "500"
      ]
     },
     "execution_count": 10,
     "metadata": {},
     "output_type": "execute_result"
    }
   ],
   "source": [
    "NUMBERone=500\n",
    "NUMBERone"
   ]
  },
  {
   "cell_type": "code",
   "execution_count": 11,
   "id": "d2c66dbf-cab7-4497-9d67-52d0b3fbb413",
   "metadata": {},
   "outputs": [
    {
     "ename": "SyntaxError",
     "evalue": "invalid syntax (275804197.py, line 1)",
     "output_type": "error",
     "traceback": [
      "\u001b[1;36m  Cell \u001b[1;32mIn[11], line 1\u001b[1;36m\u001b[0m\n\u001b[1;33m    number$one=600\u001b[0m\n\u001b[1;37m          ^\u001b[0m\n\u001b[1;31mSyntaxError\u001b[0m\u001b[1;31m:\u001b[0m invalid syntax\n"
     ]
    }
   ],
   "source": [
    "number$one=600\n",
    "number$one"
   ]
  },
  {
   "cell_type": "code",
   "execution_count": 12,
   "id": "a0a48ff2-67ac-480c-a3e6-97fc8c867e5b",
   "metadata": {},
   "outputs": [
    {
     "ename": "SyntaxError",
     "evalue": "cannot assign to expression here. Maybe you meant '==' instead of '='? (1323231619.py, line 1)",
     "output_type": "error",
     "traceback": [
      "\u001b[1;36m  Cell \u001b[1;32mIn[12], line 1\u001b[1;36m\u001b[0m\n\u001b[1;33m    number&one=600\u001b[0m\n\u001b[1;37m    ^\u001b[0m\n\u001b[1;31mSyntaxError\u001b[0m\u001b[1;31m:\u001b[0m cannot assign to expression here. Maybe you meant '==' instead of '='?\n"
     ]
    }
   ],
   "source": [
    "number&one=600\n",
    "number&one"
   ]
  },
  {
   "cell_type": "code",
   "execution_count": 13,
   "id": "fe8b7ff0-3d11-4b64-b8e4-b6e6c14bee93",
   "metadata": {},
   "outputs": [
    {
     "ename": "SyntaxError",
     "evalue": "cannot assign to expression here. Maybe you meant '==' instead of '='? (1987472248.py, line 1)",
     "output_type": "error",
     "traceback": [
      "\u001b[1;36m  Cell \u001b[1;32mIn[13], line 1\u001b[1;36m\u001b[0m\n\u001b[1;33m    number*one=900\u001b[0m\n\u001b[1;37m    ^\u001b[0m\n\u001b[1;31mSyntaxError\u001b[0m\u001b[1;31m:\u001b[0m cannot assign to expression here. Maybe you meant '==' instead of '='?\n"
     ]
    }
   ],
   "source": [
    "number*one=900\n",
    "number*one"
   ]
  },
  {
   "cell_type": "code",
   "execution_count": 14,
   "id": "b1975353-8972-4a0b-9b08-af0b06e0b204",
   "metadata": {},
   "outputs": [
    {
     "data": {
      "text/plain": [
       "1000"
      ]
     },
     "execution_count": 14,
     "metadata": {},
     "output_type": "execute_result"
    }
   ],
   "source": [
    "number_one=1000\n",
    "number_one"
   ]
  },
  {
   "cell_type": "code",
   "execution_count": 15,
   "id": "cfbe3aab-761f-4955-847f-ef8c5573efec",
   "metadata": {},
   "outputs": [
    {
     "ename": "SyntaxError",
     "evalue": "invalid syntax (1053755253.py, line 1)",
     "output_type": "error",
     "traceback": [
      "\u001b[1;36m  Cell \u001b[1;32mIn[15], line 1\u001b[1;36m\u001b[0m\n\u001b[1;33m    number one=2000\u001b[0m\n\u001b[1;37m           ^\u001b[0m\n\u001b[1;31mSyntaxError\u001b[0m\u001b[1;31m:\u001b[0m invalid syntax\n"
     ]
    }
   ],
   "source": [
    "number one=2000\n",
    "number one"
   ]
  },
  {
   "cell_type": "code",
   "execution_count": null,
   "id": "be2ac4ba-6cde-416f-af86-57cc0c8cf782",
   "metadata": {},
   "outputs": [],
   "source": [
    "number  # works\n",
    "NUMBER  # works\n",
    "number123 # woks\n",
    "123number # Notworks\n",
    "number$one # NW\n",
    "number&one #NW\n",
    "number*one #NW\n",
    "number_one # Works \n",
    "number one # NW"
   ]
  },
  {
   "cell_type": "code",
   "execution_count": 16,
   "id": "62ccecbc-8e42-4189-a563-74ebeda80c76",
   "metadata": {},
   "outputs": [
    {
     "ename": "SyntaxError",
     "evalue": "invalid syntax (570416339.py, line 1)",
     "output_type": "error",
     "traceback": [
      "\u001b[1;36m  Cell \u001b[1;32mIn[16], line 1\u001b[1;36m\u001b[0m\n\u001b[1;33m    if =600\u001b[0m\n\u001b[1;37m       ^\u001b[0m\n\u001b[1;31mSyntaxError\u001b[0m\u001b[1;31m:\u001b[0m invalid syntax\n"
     ]
    }
   ],
   "source": [
    "if =600\n",
    "if"
   ]
  },
  {
   "cell_type": "code",
   "execution_count": null,
   "id": "ae164367-2059-4b89-bd49-5acb7df98e2f",
   "metadata": {},
   "outputs": [],
   "source": [
    "if\n",
    "else\n",
    "True\n",
    "False\n",
    "for\n",
    "while\n"
   ]
  },
  {
   "cell_type": "markdown",
   "id": "47106212-9faf-4201-98b5-b3736f4268b8",
   "metadata": {},
   "source": [
    "- variables can be Capital letters\n",
    "\n",
    "- variables can be a small letter\n",
    "\n",
    "- Variables can be a mix of both capital and small letters\n",
    "\n",
    "- Variables can be a mix of letters and numbers as **suffix**\n",
    "\n",
    "- Variables can not be a mix of letters and numbers as **prefix**\n",
    "\n",
    "- Variables can not be include special characters except **underscore**\n",
    "\n",
    "- Variables can not be include a **space between words**\n",
    "\n",
    "- Only underscore also consider as variables\n",
    "\n",
    "- Inbulit keywords can not be a variables"
   ]
  },
  {
   "cell_type": "code",
   "execution_count": 17,
   "id": "48fa1e77-740a-4181-b700-3665a31007d3",
   "metadata": {},
   "outputs": [
    {
     "data": {
      "text/plain": [
       "600"
      ]
     },
     "execution_count": 17,
     "metadata": {},
     "output_type": "execute_result"
    }
   ],
   "source": [
    "_=600\n",
    "_"
   ]
  },
  {
   "cell_type": "code",
   "execution_count": null,
   "id": "0a0a1001-9563-4042-bd9c-5ec0ebb8122f",
   "metadata": {},
   "outputs": [],
   "source": [
    "number  # works\n",
    "NUMBER  # works\n",
    "number123 # woks\n",
    "123number # Notworks\n",
    "number$one # NW\n",
    "number&one #NW\n",
    "number*one #NW\n",
    "number_one # Works \n",
    "number one # NW\n",
    "if=100    # NW\n",
    "_= 200    #works"
   ]
  },
  {
   "cell_type": "code",
   "execution_count": null,
   "id": "853e1557-a647-4ed3-b1ca-8e309a2036dd",
   "metadata": {},
   "outputs": [],
   "source": [
    "sir  if i write all keuwords in capital letters means it will run or not sir\n",
    "\n",
    "if=200\n",
    "IF=200"
   ]
  },
  {
   "cell_type": "code",
   "execution_count": null,
   "id": "d19907dc-07c0-40a2-9ada-044966fcc810",
   "metadata": {},
   "outputs": [],
   "source": [
    "model_accuracy_data=0.6\n",
    "model_accuracy_data"
   ]
  }
 ],
 "metadata": {
  "kernelspec": {
   "display_name": "Python 3 (ipykernel)",
   "language": "python",
   "name": "python3"
  },
  "language_info": {
   "codemirror_mode": {
    "name": "ipython",
    "version": 3
   },
   "file_extension": ".py",
   "mimetype": "text/x-python",
   "name": "python",
   "nbconvert_exporter": "python",
   "pygments_lexer": "ipython3",
   "version": "3.11.7"
  }
 },
 "nbformat": 4,
 "nbformat_minor": 5
}
