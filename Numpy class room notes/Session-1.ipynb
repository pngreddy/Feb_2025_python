{
 "cells": [
  {
   "cell_type": "markdown",
   "id": "e9d80227-fcc9-46db-929b-37d30f726d37",
   "metadata": {},
   "source": [
    "- **Numpy : Numerical python**\n",
    "\n",
    "- It is a Module used for all math operations\n",
    "\n",
    "- we already seen math package\n",
    "\n",
    "- But **Numpy** is better than **math**\n",
    "\n",
    "- with numpy we can do complex math operations\n",
    "\n",
    "- we can represent numbers in different way\n",
    "\n",
    "    - list of elements basic level\n",
    "\n",
    "    - arrays is related to numpy package\n",
    "\n",
    "    - tensors represent by tensorflow package\n",
    "\n",
    "    - torch represent by pytorch"
   ]
  },
  {
   "cell_type": "markdown",
   "id": "b72bd65a-f451-49bf-8e90-fd8e5218e460",
   "metadata": {},
   "source": [
    "**create an array**"
   ]
  },
  {
   "cell_type": "code",
   "execution_count": 1,
   "id": "2fc3e1cc-9934-4eb8-9430-27a609d6cdf2",
   "metadata": {},
   "outputs": [
    {
     "name": "stdout",
     "output_type": "stream",
     "text": [
      "Requirement already satisfied: numpy in c:\\users\\omkar\\anaconda3\\lib\\site-packages (1.26.4)\n"
     ]
    }
   ],
   "source": [
    "!pip install numpy  # its already available"
   ]
  },
  {
   "cell_type": "code",
   "execution_count": 2,
   "id": "e0cdaab4-e7dc-4965-ba08-9af2d456be25",
   "metadata": {},
   "outputs": [],
   "source": [
    "import numpy as np"
   ]
  },
  {
   "cell_type": "code",
   "execution_count": 3,
   "id": "3f134390-befb-4594-880c-1e1254307605",
   "metadata": {},
   "outputs": [
    {
     "data": {
      "text/plain": [
       "'1.26.4'"
      ]
     },
     "execution_count": 3,
     "metadata": {},
     "output_type": "execute_result"
    }
   ],
   "source": [
    "np.__version__  # double underscore"
   ]
  },
  {
   "cell_type": "code",
   "execution_count": 5,
   "id": "d40f312b-42b7-43a3-bbee-f4bf3cca3db9",
   "metadata": {},
   "outputs": [
    {
     "data": {
      "text/plain": [
       "array([1, 2, 3, 4])"
      ]
     },
     "execution_count": 5,
     "metadata": {},
     "output_type": "execute_result"
    }
   ],
   "source": [
    "l1=[1,2,3,4]\n",
    "arr1=np.array(l1)\n",
    "arr1"
   ]
  },
  {
   "cell_type": "code",
   "execution_count": 6,
   "id": "d6d2f7d7-e84d-4bf0-927e-af501a7b6e4c",
   "metadata": {},
   "outputs": [
    {
     "data": {
      "text/plain": [
       "list"
      ]
     },
     "execution_count": 6,
     "metadata": {},
     "output_type": "execute_result"
    }
   ],
   "source": [
    "type(l1)"
   ]
  },
  {
   "cell_type": "code",
   "execution_count": 7,
   "id": "2c9dee02-0dfc-4265-8829-bea96381f3a0",
   "metadata": {},
   "outputs": [
    {
     "data": {
      "text/plain": [
       "numpy.ndarray"
      ]
     },
     "execution_count": 7,
     "metadata": {},
     "output_type": "execute_result"
    }
   ],
   "source": [
    "type(arr1)\n",
    "# ndarray === n dimensional array"
   ]
  },
  {
   "cell_type": "code",
   "execution_count": 8,
   "id": "03bab761-a5ab-4f39-b062-0072c67ad554",
   "metadata": {},
   "outputs": [
    {
     "data": {
      "text/plain": [
       "[10, 40, 90, 160]"
      ]
     },
     "execution_count": 8,
     "metadata": {},
     "output_type": "execute_result"
    }
   ],
   "source": [
    "l1=[1,2,3,4]\n",
    "l2=[10,20,30,40]\n",
    "# [10,40,90,160]\n",
    "[i*j for i,j in zip(l1,l2)]"
   ]
  },
  {
   "cell_type": "code",
   "execution_count": 13,
   "id": "b4e5a8ef-dc35-4dfb-a5fc-985cbf0c87e4",
   "metadata": {},
   "outputs": [
    {
     "data": {
      "text/plain": [
       "array([ 10,  40, 120, 160])"
      ]
     },
     "execution_count": 13,
     "metadata": {},
     "output_type": "execute_result"
    }
   ],
   "source": [
    "arr1=np.array([1,2,3,4])\n",
    "arr2=np.array([10,20,40,40])\n",
    "arr1*arr2"
   ]
  },
  {
   "cell_type": "code",
   "execution_count": 14,
   "id": "015d5c8c-cdfb-4eaf-9bef-6eeacc6c8d31",
   "metadata": {},
   "outputs": [
    {
     "data": {
      "text/plain": [
       "array([ 9, 18, 37, 36])"
      ]
     },
     "execution_count": 14,
     "metadata": {},
     "output_type": "execute_result"
    }
   ],
   "source": [
    "arr2-arr1"
   ]
  },
  {
   "cell_type": "code",
   "execution_count": 15,
   "id": "d63ede0f-d03b-4c0d-b982-6b2458d9b61f",
   "metadata": {},
   "outputs": [
    {
     "data": {
      "text/plain": [
       "array([11, 22, 43, 44])"
      ]
     },
     "execution_count": 15,
     "metadata": {},
     "output_type": "execute_result"
    }
   ],
   "source": [
    "arr2+arr1"
   ]
  },
  {
   "cell_type": "code",
   "execution_count": 17,
   "id": "1b70649e-b41c-4746-8710-bb036d82876a",
   "metadata": {},
   "outputs": [
    {
     "data": {
      "text/plain": [
       "array([ -9, -18, -37, -36])"
      ]
     },
     "execution_count": 17,
     "metadata": {},
     "output_type": "execute_result"
    }
   ],
   "source": [
    "arr1-arr2"
   ]
  },
  {
   "cell_type": "code",
   "execution_count": 19,
   "id": "b8890901-971c-4345-9898-72ec436d85e8",
   "metadata": {},
   "outputs": [
    {
     "data": {
      "text/plain": [
       "[10, 40, 120, 160]"
      ]
     },
     "execution_count": 19,
     "metadata": {},
     "output_type": "execute_result"
    }
   ],
   "source": [
    "op=arr1*arr2\n",
    "list(op)"
   ]
  },
  {
   "cell_type": "code",
   "execution_count": 20,
   "id": "063cba96-5092-4fae-aaa9-175ead7e99ae",
   "metadata": {},
   "outputs": [
    {
     "data": {
      "text/plain": [
       "[10, 40, 120, 160]"
      ]
     },
     "execution_count": 20,
     "metadata": {},
     "output_type": "execute_result"
    }
   ],
   "source": [
    "op.tolist()"
   ]
  },
  {
   "cell_type": "code",
   "execution_count": 21,
   "id": "0e0f50d8-186f-4327-ae8b-8a9f81ea81ac",
   "metadata": {},
   "outputs": [
    {
     "data": {
      "text/plain": [
       "array([10.        , 10.        , 13.33333333, 10.        ])"
      ]
     },
     "execution_count": 21,
     "metadata": {},
     "output_type": "execute_result"
    }
   ],
   "source": [
    "arr2/arr1"
   ]
  },
  {
   "cell_type": "markdown",
   "id": "aab86d2d-e5c5-4522-a175-3254658cd7d1",
   "metadata": {},
   "source": [
    "**NUMPY ALWAYS PERFORM ELEMENT WISE OPERATIONS**"
   ]
  },
  {
   "cell_type": "markdown",
   "id": "2554195a-dc22-4cfa-bde3-500a2c1281e0",
   "metadata": {},
   "source": [
    "**Use case-2**"
   ]
  },
  {
   "cell_type": "markdown",
   "id": "4b2f1b72-3d0f-4533-93e1-47fdf5c5e042",
   "metadata": {},
   "source": [
    "- processing time is very very less using numpy compare to list"
   ]
  },
  {
   "cell_type": "code",
   "execution_count": 25,
   "id": "869e665b-0723-4aca-8d77-d5d7554a2e72",
   "metadata": {},
   "outputs": [
    {
     "name": "stdout",
     "output_type": "stream",
     "text": [
      "time taken: 9.237905979156494\n"
     ]
    }
   ],
   "source": [
    "import time\n",
    "l1=range(1,100000000)\n",
    "l2=range(1,100000000)\n",
    "start=time.time()\n",
    "for i,j in zip(l1,l2):\n",
    "    pass\n",
    "end=time.time()\n",
    "print(\"time taken:\",end-start)"
   ]
  },
  {
   "cell_type": "code",
   "execution_count": 27,
   "id": "8561c16a-ec50-47df-91d6-b796453d370a",
   "metadata": {},
   "outputs": [
    {
     "name": "stdout",
     "output_type": "stream",
     "text": [
      "1 2 3 4 5 6 7 8 9 "
     ]
    }
   ],
   "source": [
    "l=range(1,10)\n",
    "for i in l:\n",
    "    print(i,end=' ')"
   ]
  },
  {
   "cell_type": "code",
   "execution_count": 30,
   "id": "270e468a-2223-42dc-bddc-989dc39dea2c",
   "metadata": {},
   "outputs": [
    {
     "name": "stdout",
     "output_type": "stream",
     "text": [
      "time taken: 27.691827535629272\n"
     ]
    }
   ],
   "source": [
    "import time\n",
    "l1=range(1,100000000)\n",
    "l2=range(1,100000000)\n",
    "start=time.time()\n",
    "[i*j for i,j in zip(l1,l2)]\n",
    "end=time.time()\n",
    "print(\"time taken:\",end-start)"
   ]
  },
  {
   "cell_type": "markdown",
   "id": "b8cdc75c-2bac-4bd6-af88-2f926d62701e",
   "metadata": {},
   "source": [
    "**arange**\n",
    "\n",
    "- arange is same like range"
   ]
  },
  {
   "cell_type": "code",
   "execution_count": 32,
   "id": "1cf830b4-a1a5-496a-a6eb-b4507b265818",
   "metadata": {},
   "outputs": [
    {
     "data": {
      "text/plain": [
       "array([1, 2, 3, 4, 5, 6, 7, 8, 9])"
      ]
     },
     "execution_count": 32,
     "metadata": {},
     "output_type": "execute_result"
    }
   ],
   "source": [
    "np.arange(1,10)"
   ]
  },
  {
   "cell_type": "code",
   "execution_count": 33,
   "id": "5a9359e1-d79c-44e0-be3a-a777e224c7e4",
   "metadata": {},
   "outputs": [
    {
     "name": "stdout",
     "output_type": "stream",
     "text": [
      "time taken: 0.23227787017822266\n"
     ]
    }
   ],
   "source": [
    "import time\n",
    "arr1=np.arange(1,100000000)\n",
    "arr2=np.arange(1,100000000)\n",
    "start=time.time()\n",
    "arr1*arr2\n",
    "end=time.time()\n",
    "print(\"time taken:\",end-start)"
   ]
  },
  {
   "cell_type": "code",
   "execution_count": null,
   "id": "16f6c285-2803-4d77-9fc4-8f3cc26b8fab",
   "metadata": {},
   "outputs": [],
   "source": []
  }
 ],
 "metadata": {
  "kernelspec": {
   "display_name": "Python 3 (ipykernel)",
   "language": "python",
   "name": "python3"
  },
  "language_info": {
   "codemirror_mode": {
    "name": "ipython",
    "version": 3
   },
   "file_extension": ".py",
   "mimetype": "text/x-python",
   "name": "python",
   "nbconvert_exporter": "python",
   "pygments_lexer": "ipython3",
   "version": "3.11.7"
  }
 },
 "nbformat": 4,
 "nbformat_minor": 5
}
