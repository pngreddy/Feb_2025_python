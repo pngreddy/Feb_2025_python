{
 "cells": [
  {
   "cell_type": "markdown",
   "id": "7bdcd8cc-aa43-4d91-beaa-ae5d564b62c1",
   "metadata": {},
   "source": [
    "- we covered basic numpy representation\n",
    "\n",
    "- we also seen about list vs numpy time complexity\n",
    "\n",
    "- we also understand\n",
    "\n",
    "    - shape\n",
    "\n",
    "    - size\n",
    "\n",
    "    - dim"
   ]
  },
  {
   "cell_type": "markdown",
   "id": "8fff2546-bac2-4aa1-98b8-64d4cc9bb0cc",
   "metadata": {},
   "source": [
    "**Genertae a random float number between 0 and 1**"
   ]
  },
  {
   "cell_type": "code",
   "execution_count": 1,
   "id": "e209724d-6a10-450b-af70-66819edb0768",
   "metadata": {},
   "outputs": [
    {
     "data": {
      "text/plain": [
       "0.2945461382397543"
      ]
     },
     "execution_count": 1,
     "metadata": {},
     "output_type": "execute_result"
    }
   ],
   "source": [
    "import random\n",
    "random.random()"
   ]
  },
  {
   "cell_type": "code",
   "execution_count": 3,
   "id": "1ab7cdeb-fdd8-4eee-82ba-8cb982d6ab4e",
   "metadata": {},
   "outputs": [
    {
     "data": {
      "text/plain": [
       "0.48848103190427705"
      ]
     },
     "execution_count": 3,
     "metadata": {},
     "output_type": "execute_result"
    }
   ],
   "source": [
    "import numpy as np\n",
    "np.random.rand()"
   ]
  },
  {
   "cell_type": "code",
   "execution_count": 5,
   "id": "cdd410c2-cbb1-41b5-a34b-87d1d61d55a4",
   "metadata": {},
   "outputs": [
    {
     "data": {
      "text/plain": [
       "array([[0.12229381, 0.06342144],\n",
       "       [0.02670927, 0.48737308]])"
      ]
     },
     "execution_count": 5,
     "metadata": {},
     "output_type": "execute_result"
    }
   ],
   "source": [
    "np.random.rand(2,2)\n",
    "# 2 rows and 2 columns"
   ]
  },
  {
   "cell_type": "code",
   "execution_count": 6,
   "id": "4104c699-c81f-42fa-b35d-e80d3e15e62d",
   "metadata": {},
   "outputs": [
    {
     "data": {
      "text/plain": [
       "array([[0.79039923, 0.54839779],\n",
       "       [0.66569396, 0.07073751],\n",
       "       [0.73435069, 0.36109997]])"
      ]
     },
     "execution_count": 6,
     "metadata": {},
     "output_type": "execute_result"
    }
   ],
   "source": [
    "np.random.rand(3,2)"
   ]
  },
  {
   "cell_type": "markdown",
   "id": "da10fe96-db23-407d-bd15-2a1dfa1737bf",
   "metadata": {},
   "source": [
    "**randn**\n",
    "\n",
    "- randn will genertae a data which follows normal distribution"
   ]
  },
  {
   "cell_type": "code",
   "execution_count": 7,
   "id": "20d12a63-609c-477d-a9a3-870a6f570806",
   "metadata": {},
   "outputs": [
    {
     "data": {
      "text/plain": [
       "array([ 0.18652021,  0.89183629, -0.49716282,  0.83239898, -0.15747352,\n",
       "        0.4463835 ,  1.24385752,  0.68516322, -1.34124467,  0.00787442])"
      ]
     },
     "execution_count": 7,
     "metadata": {},
     "output_type": "execute_result"
    }
   ],
   "source": [
    "np.random.randn(10)\n"
   ]
  },
  {
   "cell_type": "code",
   "execution_count": 11,
   "id": "469a739c-e2f2-45db-ae7f-e29588185848",
   "metadata": {},
   "outputs": [
    {
     "data": {
      "text/plain": [
       "(array([  4.,  24.,  69., 146., 227., 270., 172.,  68.,  17.,   3.]),\n",
       " array([-3.3527394 , -2.68965895, -2.02657851, -1.36349807, -0.70041762,\n",
       "        -0.03733718,  0.62574327,  1.28882371,  1.95190415,  2.6149846 ,\n",
       "         3.27806504]),\n",
       " <BarContainer object of 10 artists>)"
      ]
     },
     "execution_count": 11,
     "metadata": {},
     "output_type": "execute_result"
    },
    {
     "data": {
      "image/png": "[encoded data removed]",
      "text/plain": [
       "<Figure size 640x480 with 1 Axes>"
      ]
     },
     "metadata": {},
     "output_type": "display_data"
    }
   ],
   "source": [
    "import matplotlib.pyplot as plt\n",
    "plt.hist(np.random.randn(1000))"
   ]
  },
  {
   "cell_type": "markdown",
   "id": "00a14d87-8441-480e-bdbc-b88c5c8fe170",
   "metadata": {},
   "source": [
    "**random**"
   ]
  },
  {
   "cell_type": "code",
   "execution_count": 14,
   "id": "c62f30e9-8686-4c6c-a6cc-958e464248ae",
   "metadata": {},
   "outputs": [
    {
     "data": {
      "text/plain": [
       "array([[0.23277957, 0.80207249, 0.11710165],\n",
       "       [0.41712432, 0.99449221, 0.40953249],\n",
       "       [0.39455625, 0.57820177, 0.756345  ]])"
      ]
     },
     "execution_count": 14,
     "metadata": {},
     "output_type": "execute_result"
    }
   ],
   "source": [
    "np.random.random((3,3))"
   ]
  },
  {
   "cell_type": "code",
   "execution_count": 12,
   "id": "8b7bd2db-7851-4d8c-8f3c-ff43b1deb72a",
   "metadata": {},
   "outputs": [
    {
     "data": {
      "text/plain": [
       "array([[0.57973672, 0.46122889, 0.95232872],\n",
       "       [0.06931949, 0.53940478, 0.48813474],\n",
       "       [0.26570737, 0.11022809, 0.56075001]])"
      ]
     },
     "execution_count": 12,
     "metadata": {},
     "output_type": "execute_result"
    }
   ],
   "source": [
    "np.random.rand(3,3)"
   ]
  },
  {
   "cell_type": "markdown",
   "id": "948b6c9e-d7be-40db-8727-37fa190bf269",
   "metadata": {},
   "source": [
    "- random expect the shape in tuple format\n",
    "\n",
    "- but rand does not require tuple format\n",
    "\n",
    "- many code syntax expect the shape in tuple format\n",
    "\n",
    "- so usinng random.random is always a best practice"
   ]
  },
  {
   "cell_type": "markdown",
   "id": "3ef132a1-017c-426e-8dd9-ca7c1863cef7",
   "metadata": {},
   "source": [
    "random package has random\n",
    "\n",
    "- numpy has random\n",
    "\n",
    "    - genertae random numbers betwen 0 to 1\n",
    "\n",
    "    - provide the shpae in tuple format\n",
    "\n",
    "- numpy has rand\n",
    "\n",
    "    - genertae random numbers betwen 0 to 1\n",
    "\n",
    "    - provide the shpae no need of tuple format\n",
    "\n",
    "- numpy has randn\n",
    "\n",
    "    - provide the data which follows normal distribution"
   ]
  },
  {
   "cell_type": "markdown",
   "id": "c066092f-4b12-487c-a4a6-aecd6810524f",
   "metadata": {},
   "source": [
    "**Generate random integers between the given numbers**"
   ]
  },
  {
   "cell_type": "code",
   "execution_count": 15,
   "id": "ffece670-00b8-4190-b3bb-a0d1a14a2880",
   "metadata": {},
   "outputs": [
    {
     "data": {
      "text/plain": [
       "10"
      ]
     },
     "execution_count": 15,
     "metadata": {},
     "output_type": "execute_result"
    }
   ],
   "source": [
    "import random\n",
    "random.randint(1,10)\n",
    "# 1 and 10 both are include"
   ]
  },
  {
   "cell_type": "code",
   "execution_count": 16,
   "id": "664fc8dc-b63e-4590-888e-b56e808a2101",
   "metadata": {},
   "outputs": [
    {
     "data": {
      "text/plain": [
       "7"
      ]
     },
     "execution_count": 16,
     "metadata": {},
     "output_type": "execute_result"
    }
   ],
   "source": [
    "import numpy as np\n",
    "np.random.randint(1,10)\n",
    "#`low` (inclusive) to `high` (exclusive).\n",
    "# 1 is include  10 is exclude"
   ]
  },
  {
   "cell_type": "code",
   "execution_count": 17,
   "id": "64970ce6-e83d-4bdb-86fa-61179a12619b",
   "metadata": {},
   "outputs": [
    {
     "data": {
      "text/plain": [
       "array([12,  5,  9, 14,  4])"
      ]
     },
     "execution_count": 17,
     "metadata": {},
     "output_type": "execute_result"
    }
   ],
   "source": [
    "np.random.randint(1,20,size=5)"
   ]
  },
  {
   "cell_type": "code",
   "execution_count": 18,
   "id": "f308a5a9-aff4-4697-b63d-20c50271e557",
   "metadata": {},
   "outputs": [
    {
     "data": {
      "text/plain": [
       "array([[ 9, 17],\n",
       "       [ 4,  9],\n",
       "       [ 1, 19]])"
      ]
     },
     "execution_count": 18,
     "metadata": {},
     "output_type": "execute_result"
    }
   ],
   "source": [
    "np.random.randint(1,20,size=(3,2)) # size provides 3 rows and 2 columns.\n",
    "# by default dtype is integer."
   ]
  },
  {
   "cell_type": "markdown",
   "id": "dfc9fa08-0eb5-41b8-93de-5a9616e5b430",
   "metadata": {},
   "source": [
    "**Select a random number from list**"
   ]
  },
  {
   "cell_type": "code",
   "execution_count": 22,
   "id": "a65b29ed-e5d1-4b2d-b8f8-cc4cda6379aa",
   "metadata": {},
   "outputs": [
    {
     "data": {
      "text/plain": [
       "4"
      ]
     },
     "execution_count": 22,
     "metadata": {},
     "output_type": "execute_result"
    }
   ],
   "source": [
    "list1=[1,2,3,4,5,6,7,8]\n",
    "import random\n",
    "random.choice(list1)"
   ]
  },
  {
   "cell_type": "code",
   "execution_count": 23,
   "id": "cbc86ae7-c05b-4be0-922d-433590752388",
   "metadata": {},
   "outputs": [
    {
     "data": {
      "text/plain": [
       "4"
      ]
     },
     "execution_count": 23,
     "metadata": {},
     "output_type": "execute_result"
    }
   ],
   "source": [
    "list1=[1,2,3,4,5,6,7,8]\n",
    "import numpy as np\n",
    "np.random.choice(list1)"
   ]
  },
  {
   "cell_type": "code",
   "execution_count": 24,
   "id": "e5e8c271-447b-4fc4-a563-3d70220e0b44",
   "metadata": {},
   "outputs": [
    {
     "data": {
      "text/plain": [
       "69"
      ]
     },
     "execution_count": 24,
     "metadata": {},
     "output_type": "execute_result"
    }
   ],
   "source": [
    "list1=range(1,100)  # [i for i in range(1,100) both are same\n",
    "np.random.choice(list1)"
   ]
  },
  {
   "cell_type": "code",
   "execution_count": 25,
   "id": "c202c671-10f8-438d-a19c-8890e9a7e2d4",
   "metadata": {},
   "outputs": [
    {
     "data": {
      "text/plain": [
       "array([60, 89, 76, 17, 17, 84, 53, 58, 73,  5])"
      ]
     },
     "execution_count": 25,
     "metadata": {},
     "output_type": "execute_result"
    }
   ],
   "source": [
    "list1=range(1,100)  # [i for i in range(1,100)\n",
    "np.random.choice(list1,10) # if you need set of 10 values then provide the value."
   ]
  },
  {
   "cell_type": "code",
   "execution_count": 26,
   "id": "542fe84a-7400-49a1-a919-158a63867815",
   "metadata": {},
   "outputs": [
    {
     "data": {
      "text/plain": [
       "array([70, 35, 32, 84, 29, 61, 52, 64, 15, 96])"
      ]
     },
     "execution_count": 26,
     "metadata": {},
     "output_type": "execute_result"
    }
   ],
   "source": [
    "# replace=False means avoid the repeatition values.(17,17,16)\n",
    "list1=range(1,100)  # [i for i in range(1,100)\n",
    "np.random.choice(list1,10,replace=False) "
   ]
  },
  {
   "cell_type": "code",
   "execution_count": 27,
   "id": "7401374c-4af0-4704-aff2-e6ba003dc47c",
   "metadata": {},
   "outputs": [
    {
     "name": "stdout",
     "output_type": "stream",
     "text": [
      "(7, 8)\n"
     ]
    }
   ],
   "source": [
    "List1=[(1,2),(3,4),(5,6),(7,8),(9,10)]\n",
    "print(random.choice(List1))  # picking random number from List"
   ]
  },
  {
   "cell_type": "code",
   "execution_count": 28,
   "id": "4f2c4670-9b18-4e14-9d30-1bfbf2fa8140",
   "metadata": {},
   "outputs": [
    {
     "ename": "ValueError",
     "evalue": "a must be 1-dimensional",
     "output_type": "error",
     "traceback": [
      "\u001b[1;31m---------------------------------------------------------------------------\u001b[0m",
      "\u001b[1;31mValueError\u001b[0m                                Traceback (most recent call last)",
      "Cell \u001b[1;32mIn[28], line 1\u001b[0m\n\u001b[1;32m----> 1\u001b[0m np\u001b[38;5;241m.\u001b[39mrandom\u001b[38;5;241m.\u001b[39mchoice(List1)\n",
      "File \u001b[1;32mnumpy\\\\random\\\\mtrand.pyx:947\u001b[0m, in \u001b[0;36mnumpy.random.mtrand.RandomState.choice\u001b[1;34m()\u001b[0m\n",
      "\u001b[1;31mValueError\u001b[0m: a must be 1-dimensional"
     ]
    }
   ],
   "source": [
    "np.random.choice(List1)"
   ]
  },
  {
   "cell_type": "code",
   "execution_count": null,
   "id": "7c741c5a-1974-47c3-8cf6-b3d8af6669a9",
   "metadata": {},
   "outputs": [],
   "source": [
    "**assignment for you**\n",
    "\n",
    "- random.seed\n",
    "\n",
    "- np.random.seed"
   ]
  },
  {
   "cell_type": "code",
   "execution_count": 2,
   "id": "c7b70c7f-4903-403c-933b-3354fb24eae1",
   "metadata": {},
   "outputs": [],
   "source": [
    "#used to initialize the random number generator\n",
    "import random\n",
    "random.seed(10)"
   ]
  },
  {
   "cell_type": "code",
   "execution_count": 3,
   "id": "69fd2ad6-e403-410c-bbfd-c30bc6df8392",
   "metadata": {},
   "outputs": [],
   "source": [
    "import numpy as np\n",
    "np.random.seed(10)"
   ]
  },
  {
   "cell_type": "code",
   "execution_count": null,
   "id": "af135322-3541-4e15-a430-bb6f22ada0f4",
   "metadata": {},
   "outputs": [],
   "source": []
  }
 ],
 "metadata": {
  "kernelspec": {
   "display_name": "Python 3 (ipykernel)",
   "language": "python",
   "name": "python3"
  },
  "language_info": {
   "codemirror_mode": {
    "name": "ipython",
    "version": 3
   },
   "file_extension": ".py",
   "mimetype": "text/x-python",
   "name": "python",
   "nbconvert_exporter": "python",
   "pygments_lexer": "ipython3",
   "version": "3.12.7"
  }
 },
 "nbformat": 4,
 "nbformat_minor": 5
}
