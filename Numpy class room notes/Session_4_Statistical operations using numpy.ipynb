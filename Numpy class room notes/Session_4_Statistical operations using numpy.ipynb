{
 "cells": [
  {
   "cell_type": "markdown",
   "id": "0fd2f68b-190d-496e-bf79-d0e00d9f96a5",
   "metadata": {},
   "source": [
    "- min\n",
    "\n",
    "- max\n",
    "\n",
    "- count\n",
    "\n",
    "- mean\n",
    "\n",
    "- mode\n",
    "\n",
    "- medain\n",
    "\n",
    "- variance\n",
    "\n",
    "- standard deviation\n",
    "\n",
    "- covariance\n",
    "\n",
    "- correlation\n",
    "\n",
    "- percentile\n",
    "\n",
    "- quantile "
   ]
  },
  {
   "cell_type": "code",
   "execution_count": 1,
   "id": "3c0bc8c2-ab4d-484c-a585-30466a23a7ad",
   "metadata": {},
   "outputs": [],
   "source": [
    "import numpy as np\n"
   ]
  },
  {
   "cell_type": "code",
   "execution_count": 2,
   "id": "cc7dc00d-6176-4a26-bb36-a99d51a92e8a",
   "metadata": {},
   "outputs": [
    {
     "data": {
      "text/plain": [
       "['ALLOW_THREADS',\n",
       " 'BUFSIZE',\n",
       " 'CLIP',\n",
       " 'DataSource',\n",
       " 'ERR_CALL',\n",
       " 'ERR_DEFAULT',\n",
       " 'ERR_IGNORE',\n",
       " 'ERR_LOG',\n",
       " 'ERR_PRINT',\n",
       " 'ERR_RAISE',\n",
       " 'ERR_WARN',\n",
       " 'FLOATING_POINT_SUPPORT',\n",
       " 'FPE_DIVIDEBYZERO',\n",
       " 'FPE_INVALID',\n",
       " 'FPE_OVERFLOW',\n",
       " 'FPE_UNDERFLOW',\n",
       " 'False_',\n",
       " 'Inf',\n",
       " 'Infinity',\n",
       " 'MAXDIMS',\n",
       " 'MAY_SHARE_BOUNDS',\n",
       " 'MAY_SHARE_EXACT',\n",
       " 'NAN',\n",
       " 'NINF',\n",
       " 'NZERO',\n",
       " 'NaN',\n",
       " 'PINF',\n",
       " 'PZERO',\n",
       " 'RAISE',\n",
       " 'RankWarning',\n",
       " 'SHIFT_DIVIDEBYZERO',\n",
       " 'SHIFT_INVALID',\n",
       " 'SHIFT_OVERFLOW',\n",
       " 'SHIFT_UNDERFLOW',\n",
       " 'ScalarType',\n",
       " 'True_',\n",
       " 'UFUNC_BUFSIZE_DEFAULT',\n",
       " 'UFUNC_PYVALS_NAME',\n",
       " 'WRAP',\n",
       " '_CopyMode',\n",
       " '_NoValue',\n",
       " '_UFUNC_API',\n",
       " '__NUMPY_SETUP__',\n",
       " '__all__',\n",
       " '__builtins__',\n",
       " '__cached__',\n",
       " '__config__',\n",
       " '__deprecated_attrs__',\n",
       " '__dir__',\n",
       " '__doc__',\n",
       " '__expired_functions__',\n",
       " '__file__',\n",
       " '__former_attrs__',\n",
       " '__future_scalars__',\n",
       " '__getattr__',\n",
       " '__loader__',\n",
       " '__name__',\n",
       " '__package__',\n",
       " '__path__',\n",
       " '__spec__',\n",
       " '__version__',\n",
       " '_add_newdoc_ufunc',\n",
       " '_builtins',\n",
       " '_distributor_init',\n",
       " '_financial_names',\n",
       " '_get_promotion_state',\n",
       " '_globals',\n",
       " '_int_extended_msg',\n",
       " '_mat',\n",
       " '_no_nep50_warning',\n",
       " '_pyinstaller_hooks_dir',\n",
       " '_pytesttester',\n",
       " '_set_promotion_state',\n",
       " '_specific_msg',\n",
       " '_typing',\n",
       " '_using_numpy2_behavior',\n",
       " '_utils',\n",
       " 'abs',\n",
       " 'absolute',\n",
       " 'add',\n",
       " 'add_docstring',\n",
       " 'add_newdoc',\n",
       " 'add_newdoc_ufunc',\n",
       " 'all',\n",
       " 'allclose',\n",
       " 'alltrue',\n",
       " 'amax',\n",
       " 'amin',\n",
       " 'angle',\n",
       " 'any',\n",
       " 'append',\n",
       " 'apply_along_axis',\n",
       " 'apply_over_axes',\n",
       " 'arange',\n",
       " 'arccos',\n",
       " 'arccosh',\n",
       " 'arcsin',\n",
       " 'arcsinh',\n",
       " 'arctan',\n",
       " 'arctan2',\n",
       " 'arctanh',\n",
       " 'argmax',\n",
       " 'argmin',\n",
       " 'argpartition',\n",
       " 'argsort',\n",
       " 'argwhere',\n",
       " 'around',\n",
       " 'array',\n",
       " 'array2string',\n",
       " 'array_equal',\n",
       " 'array_equiv',\n",
       " 'array_repr',\n",
       " 'array_split',\n",
       " 'array_str',\n",
       " 'asanyarray',\n",
       " 'asarray',\n",
       " 'asarray_chkfinite',\n",
       " 'ascontiguousarray',\n",
       " 'asfarray',\n",
       " 'asfortranarray',\n",
       " 'asmatrix',\n",
       " 'atleast_1d',\n",
       " 'atleast_2d',\n",
       " 'atleast_3d',\n",
       " 'average',\n",
       " 'bartlett',\n",
       " 'base_repr',\n",
       " 'binary_repr',\n",
       " 'bincount',\n",
       " 'bitwise_and',\n",
       " 'bitwise_not',\n",
       " 'bitwise_or',\n",
       " 'bitwise_xor',\n",
       " 'blackman',\n",
       " 'block',\n",
       " 'bmat',\n",
       " 'bool_',\n",
       " 'broadcast',\n",
       " 'broadcast_arrays',\n",
       " 'broadcast_shapes',\n",
       " 'broadcast_to',\n",
       " 'busday_count',\n",
       " 'busday_offset',\n",
       " 'busdaycalendar',\n",
       " 'byte',\n",
       " 'byte_bounds',\n",
       " 'bytes_',\n",
       " 'c_',\n",
       " 'can_cast',\n",
       " 'cast',\n",
       " 'cbrt',\n",
       " 'cdouble',\n",
       " 'ceil',\n",
       " 'cfloat',\n",
       " 'char',\n",
       " 'character',\n",
       " 'chararray',\n",
       " 'choose',\n",
       " 'clip',\n",
       " 'clongdouble',\n",
       " 'clongfloat',\n",
       " 'column_stack',\n",
       " 'common_type',\n",
       " 'compare_chararrays',\n",
       " 'compat',\n",
       " 'complex128',\n",
       " 'complex64',\n",
       " 'complex_',\n",
       " 'complexfloating',\n",
       " 'compress',\n",
       " 'concatenate',\n",
       " 'conj',\n",
       " 'conjugate',\n",
       " 'convolve',\n",
       " 'copy',\n",
       " 'copysign',\n",
       " 'copyto',\n",
       " 'corrcoef',\n",
       " 'correlate',\n",
       " 'cos',\n",
       " 'cosh',\n",
       " 'count_nonzero',\n",
       " 'cov',\n",
       " 'cross',\n",
       " 'csingle',\n",
       " 'ctypeslib',\n",
       " 'cumprod',\n",
       " 'cumproduct',\n",
       " 'cumsum',\n",
       " 'datetime64',\n",
       " 'datetime_as_string',\n",
       " 'datetime_data',\n",
       " 'deg2rad',\n",
       " 'degrees',\n",
       " 'delete',\n",
       " 'deprecate',\n",
       " 'deprecate_with_doc',\n",
       " 'diag',\n",
       " 'diag_indices',\n",
       " 'diag_indices_from',\n",
       " 'diagflat',\n",
       " 'diagonal',\n",
       " 'diff',\n",
       " 'digitize',\n",
       " 'disp',\n",
       " 'divide',\n",
       " 'divmod',\n",
       " 'dot',\n",
       " 'double',\n",
       " 'dsplit',\n",
       " 'dstack',\n",
       " 'dtype',\n",
       " 'dtypes',\n",
       " 'e',\n",
       " 'ediff1d',\n",
       " 'einsum',\n",
       " 'einsum_path',\n",
       " 'emath',\n",
       " 'empty',\n",
       " 'empty_like',\n",
       " 'equal',\n",
       " 'errstate',\n",
       " 'euler_gamma',\n",
       " 'exceptions',\n",
       " 'exp',\n",
       " 'exp2',\n",
       " 'expand_dims',\n",
       " 'expm1',\n",
       " 'extract',\n",
       " 'eye',\n",
       " 'fabs',\n",
       " 'fastCopyAndTranspose',\n",
       " 'fft',\n",
       " 'fill_diagonal',\n",
       " 'find_common_type',\n",
       " 'finfo',\n",
       " 'fix',\n",
       " 'flatiter',\n",
       " 'flatnonzero',\n",
       " 'flexible',\n",
       " 'flip',\n",
       " 'fliplr',\n",
       " 'flipud',\n",
       " 'float16',\n",
       " 'float32',\n",
       " 'float64',\n",
       " 'float_',\n",
       " 'float_power',\n",
       " 'floating',\n",
       " 'floor',\n",
       " 'floor_divide',\n",
       " 'fmax',\n",
       " 'fmin',\n",
       " 'fmod',\n",
       " 'format_float_positional',\n",
       " 'format_float_scientific',\n",
       " 'format_parser',\n",
       " 'frexp',\n",
       " 'from_dlpack',\n",
       " 'frombuffer',\n",
       " 'fromfile',\n",
       " 'fromfunction',\n",
       " 'fromiter',\n",
       " 'frompyfunc',\n",
       " 'fromregex',\n",
       " 'fromstring',\n",
       " 'full',\n",
       " 'full_like',\n",
       " 'gcd',\n",
       " 'generic',\n",
       " 'genfromtxt',\n",
       " 'geomspace',\n",
       " 'get_array_wrap',\n",
       " 'get_include',\n",
       " 'get_printoptions',\n",
       " 'getbufsize',\n",
       " 'geterr',\n",
       " 'geterrcall',\n",
       " 'geterrobj',\n",
       " 'gradient',\n",
       " 'greater',\n",
       " 'greater_equal',\n",
       " 'half',\n",
       " 'hamming',\n",
       " 'hanning',\n",
       " 'heaviside',\n",
       " 'histogram',\n",
       " 'histogram2d',\n",
       " 'histogram_bin_edges',\n",
       " 'histogramdd',\n",
       " 'hsplit',\n",
       " 'hstack',\n",
       " 'hypot',\n",
       " 'i0',\n",
       " 'identity',\n",
       " 'iinfo',\n",
       " 'imag',\n",
       " 'in1d',\n",
       " 'index_exp',\n",
       " 'indices',\n",
       " 'inexact',\n",
       " 'inf',\n",
       " 'info',\n",
       " 'infty',\n",
       " 'inner',\n",
       " 'insert',\n",
       " 'int16',\n",
       " 'int32',\n",
       " 'int64',\n",
       " 'int8',\n",
       " 'int_',\n",
       " 'intc',\n",
       " 'integer',\n",
       " 'interp',\n",
       " 'intersect1d',\n",
       " 'intp',\n",
       " 'invert',\n",
       " 'is_busday',\n",
       " 'isclose',\n",
       " 'iscomplex',\n",
       " 'iscomplexobj',\n",
       " 'isfinite',\n",
       " 'isfortran',\n",
       " 'isin',\n",
       " 'isinf',\n",
       " 'isnan',\n",
       " 'isnat',\n",
       " 'isneginf',\n",
       " 'isposinf',\n",
       " 'isreal',\n",
       " 'isrealobj',\n",
       " 'isscalar',\n",
       " 'issctype',\n",
       " 'issubclass_',\n",
       " 'issubdtype',\n",
       " 'issubsctype',\n",
       " 'iterable',\n",
       " 'ix_',\n",
       " 'kaiser',\n",
       " 'kron',\n",
       " 'lcm',\n",
       " 'ldexp',\n",
       " 'left_shift',\n",
       " 'less',\n",
       " 'less_equal',\n",
       " 'lexsort',\n",
       " 'lib',\n",
       " 'linalg',\n",
       " 'linspace',\n",
       " 'little_endian',\n",
       " 'load',\n",
       " 'loadtxt',\n",
       " 'log',\n",
       " 'log10',\n",
       " 'log1p',\n",
       " 'log2',\n",
       " 'logaddexp',\n",
       " 'logaddexp2',\n",
       " 'logical_and',\n",
       " 'logical_not',\n",
       " 'logical_or',\n",
       " 'logical_xor',\n",
       " 'logspace',\n",
       " 'longcomplex',\n",
       " 'longdouble',\n",
       " 'longfloat',\n",
       " 'longlong',\n",
       " 'lookfor',\n",
       " 'ma',\n",
       " 'mask_indices',\n",
       " 'mat',\n",
       " 'matmul',\n",
       " 'matrix',\n",
       " 'max',\n",
       " 'maximum',\n",
       " 'maximum_sctype',\n",
       " 'may_share_memory',\n",
       " 'mean',\n",
       " 'median',\n",
       " 'memmap',\n",
       " 'meshgrid',\n",
       " 'mgrid',\n",
       " 'min',\n",
       " 'min_scalar_type',\n",
       " 'minimum',\n",
       " 'mintypecode',\n",
       " 'mod',\n",
       " 'modf',\n",
       " 'moveaxis',\n",
       " 'msort',\n",
       " 'multiply',\n",
       " 'nan',\n",
       " 'nan_to_num',\n",
       " 'nanargmax',\n",
       " 'nanargmin',\n",
       " 'nancumprod',\n",
       " 'nancumsum',\n",
       " 'nanmax',\n",
       " 'nanmean',\n",
       " 'nanmedian',\n",
       " 'nanmin',\n",
       " 'nanpercentile',\n",
       " 'nanprod',\n",
       " 'nanquantile',\n",
       " 'nanstd',\n",
       " 'nansum',\n",
       " 'nanvar',\n",
       " 'nbytes',\n",
       " 'ndarray',\n",
       " 'ndenumerate',\n",
       " 'ndim',\n",
       " 'ndindex',\n",
       " 'nditer',\n",
       " 'negative',\n",
       " 'nested_iters',\n",
       " 'newaxis',\n",
       " 'nextafter',\n",
       " 'nonzero',\n",
       " 'not_equal',\n",
       " 'numarray',\n",
       " 'number',\n",
       " 'obj2sctype',\n",
       " 'object_',\n",
       " 'ogrid',\n",
       " 'oldnumeric',\n",
       " 'ones',\n",
       " 'ones_like',\n",
       " 'outer',\n",
       " 'packbits',\n",
       " 'pad',\n",
       " 'partition',\n",
       " 'percentile',\n",
       " 'pi',\n",
       " 'piecewise',\n",
       " 'place',\n",
       " 'poly',\n",
       " 'poly1d',\n",
       " 'polyadd',\n",
       " 'polyder',\n",
       " 'polydiv',\n",
       " 'polyfit',\n",
       " 'polyint',\n",
       " 'polymul',\n",
       " 'polynomial',\n",
       " 'polysub',\n",
       " 'polyval',\n",
       " 'positive',\n",
       " 'power',\n",
       " 'printoptions',\n",
       " 'prod',\n",
       " 'product',\n",
       " 'promote_types',\n",
       " 'ptp',\n",
       " 'put',\n",
       " 'put_along_axis',\n",
       " 'putmask',\n",
       " 'quantile',\n",
       " 'r_',\n",
       " 'rad2deg',\n",
       " 'radians',\n",
       " 'random',\n",
       " 'ravel',\n",
       " 'ravel_multi_index',\n",
       " 'real',\n",
       " 'real_if_close',\n",
       " 'rec',\n",
       " 'recarray',\n",
       " 'recfromcsv',\n",
       " 'recfromtxt',\n",
       " 'reciprocal',\n",
       " 'record',\n",
       " 'remainder',\n",
       " 'repeat',\n",
       " 'require',\n",
       " 'reshape',\n",
       " 'resize',\n",
       " 'result_type',\n",
       " 'right_shift',\n",
       " 'rint',\n",
       " 'roll',\n",
       " 'rollaxis',\n",
       " 'roots',\n",
       " 'rot90',\n",
       " 'round',\n",
       " 'round_',\n",
       " 'row_stack',\n",
       " 's_',\n",
       " 'safe_eval',\n",
       " 'save',\n",
       " 'savetxt',\n",
       " 'savez',\n",
       " 'savez_compressed',\n",
       " 'sctype2char',\n",
       " 'sctypeDict',\n",
       " 'sctypes',\n",
       " 'searchsorted',\n",
       " 'select',\n",
       " 'set_numeric_ops',\n",
       " 'set_printoptions',\n",
       " 'set_string_function',\n",
       " 'setbufsize',\n",
       " 'setdiff1d',\n",
       " 'seterr',\n",
       " 'seterrcall',\n",
       " 'seterrobj',\n",
       " 'setxor1d',\n",
       " 'shape',\n",
       " 'shares_memory',\n",
       " 'short',\n",
       " 'show_config',\n",
       " 'show_runtime',\n",
       " 'sign',\n",
       " 'signbit',\n",
       " 'signedinteger',\n",
       " 'sin',\n",
       " 'sinc',\n",
       " 'single',\n",
       " 'singlecomplex',\n",
       " 'sinh',\n",
       " 'size',\n",
       " 'sometrue',\n",
       " 'sort',\n",
       " 'sort_complex',\n",
       " 'source',\n",
       " 'spacing',\n",
       " 'split',\n",
       " 'sqrt',\n",
       " 'square',\n",
       " 'squeeze',\n",
       " 'stack',\n",
       " 'std',\n",
       " 'str_',\n",
       " 'string_',\n",
       " 'subtract',\n",
       " 'sum',\n",
       " 'swapaxes',\n",
       " 'take',\n",
       " 'take_along_axis',\n",
       " 'tan',\n",
       " 'tanh',\n",
       " 'tensordot',\n",
       " 'test',\n",
       " 'testing',\n",
       " 'tile',\n",
       " 'timedelta64',\n",
       " 'trace',\n",
       " 'tracemalloc_domain',\n",
       " 'transpose',\n",
       " 'trapz',\n",
       " 'tri',\n",
       " 'tril',\n",
       " 'tril_indices',\n",
       " 'tril_indices_from',\n",
       " 'trim_zeros',\n",
       " 'triu',\n",
       " 'triu_indices',\n",
       " 'triu_indices_from',\n",
       " 'true_divide',\n",
       " 'trunc',\n",
       " 'typecodes',\n",
       " 'typename',\n",
       " 'ubyte',\n",
       " 'ufunc',\n",
       " 'uint',\n",
       " 'uint16',\n",
       " 'uint32',\n",
       " 'uint64',\n",
       " 'uint8',\n",
       " 'uintc',\n",
       " 'uintp',\n",
       " 'ulonglong',\n",
       " 'unicode_',\n",
       " 'union1d',\n",
       " 'unique',\n",
       " 'unpackbits',\n",
       " 'unravel_index',\n",
       " 'unsignedinteger',\n",
       " 'unwrap',\n",
       " 'ushort',\n",
       " 'vander',\n",
       " 'var',\n",
       " 'vdot',\n",
       " 'vectorize',\n",
       " 'version',\n",
       " 'void',\n",
       " 'vsplit',\n",
       " 'vstack',\n",
       " 'where',\n",
       " 'who',\n",
       " 'zeros',\n",
       " 'zeros_like']"
      ]
     },
     "execution_count": 2,
     "metadata": {},
     "output_type": "execute_result"
    }
   ],
   "source": [
    "dir(np)"
   ]
  },
  {
   "cell_type": "code",
   "execution_count": null,
   "id": "86fc7aea-ebfe-4b0e-a9c2-bac453dfe342",
   "metadata": {},
   "outputs": [],
   "source": [
    "# take some list of values\n",
    "\n",
    "# and try to get identify the methods \n",
    "\n",
    "# how many we are able to do"
   ]
  },
  {
   "cell_type": "code",
   "execution_count": 3,
   "id": "c4122471-8a08-41d1-a0db-64f2992cebbe",
   "metadata": {},
   "outputs": [],
   "source": [
    "list1=[1,2,3,4,5,6]\n"
   ]
  },
  {
   "cell_type": "markdown",
   "id": "ea40b056-12aa-4a29-b437-4c47525dc688",
   "metadata": {},
   "source": [
    "**min**"
   ]
  },
  {
   "cell_type": "code",
   "execution_count": 4,
   "id": "966d0eba-96e3-45ba-aa65-3c835413d8e5",
   "metadata": {},
   "outputs": [
    {
     "data": {
      "text/plain": [
       "1"
      ]
     },
     "execution_count": 4,
     "metadata": {},
     "output_type": "execute_result"
    }
   ],
   "source": [
    "np.min(list1)"
   ]
  },
  {
   "cell_type": "code",
   "execution_count": 5,
   "id": "471eed5b-73f3-4e3e-85f3-e95e892a7d1f",
   "metadata": {},
   "outputs": [
    {
     "data": {
      "text/plain": [
       "array([[ 1,  2,  3],\n",
       "       [10, 20, 30]])"
      ]
     },
     "execution_count": 5,
     "metadata": {},
     "output_type": "execute_result"
    }
   ],
   "source": [
    "arr1=np.array([[1,2,3],\n",
    "              [10,20,30]])\n",
    "arr1"
   ]
  },
  {
   "cell_type": "code",
   "execution_count": 6,
   "id": "25da0f2e-7d5c-4f01-9b06-a8c3474a6fe5",
   "metadata": {},
   "outputs": [
    {
     "data": {
      "text/plain": [
       "(2, 3)"
      ]
     },
     "execution_count": 6,
     "metadata": {},
     "output_type": "execute_result"
    }
   ],
   "source": [
    "arr1.shape"
   ]
  },
  {
   "cell_type": "code",
   "execution_count": 7,
   "id": "7c88a563-80d4-4628-aa2f-9398eb0713db",
   "metadata": {},
   "outputs": [
    {
     "data": {
      "text/plain": [
       "1"
      ]
     },
     "execution_count": 7,
     "metadata": {},
     "output_type": "execute_result"
    }
   ],
   "source": [
    "np.min(arr1)"
   ]
  },
  {
   "cell_type": "code",
   "execution_count": 10,
   "id": "f548e3c1-f0c7-4e11-9a29-555a59646b57",
   "metadata": {},
   "outputs": [
    {
     "data": {
      "text/plain": [
       "array([ 1, 10])"
      ]
     },
     "execution_count": 10,
     "metadata": {},
     "output_type": "execute_result"
    }
   ],
   "source": [
    "np.min(arr1,axis=1)"
   ]
  },
  {
   "cell_type": "code",
   "execution_count": 11,
   "id": "2942d09d-20cc-47d3-bbc2-6cfbd8149ece",
   "metadata": {},
   "outputs": [
    {
     "data": {
      "text/plain": [
       "array([1, 2, 3])"
      ]
     },
     "execution_count": 11,
     "metadata": {},
     "output_type": "execute_result"
    }
   ],
   "source": [
    "np.min(arr1,axis=0)"
   ]
  },
  {
   "cell_type": "markdown",
   "id": "2aa3af52-964a-418d-b8e2-f3b698502763",
   "metadata": {},
   "source": [
    "- axis 0 indicates rows\n",
    "\n",
    "- axis 1 indicates columns"
   ]
  },
  {
   "cell_type": "markdown",
   "id": "145abe7b-4079-4858-9415-af51f0f5e7f4",
   "metadata": {},
   "source": [
    "**sum**"
   ]
  },
  {
   "cell_type": "code",
   "execution_count": 15,
   "id": "e915cc63-91ad-4864-aa3d-1d26bf00647f",
   "metadata": {},
   "outputs": [
    {
     "data": {
      "text/plain": [
       "array([[ 50, 150,  22],\n",
       "       [ 10,  20,  30]])"
      ]
     },
     "execution_count": 15,
     "metadata": {},
     "output_type": "execute_result"
    }
   ],
   "source": [
    "arr1=np.array([[50,150,22],\n",
    "              [10,20,30]])\n",
    "arr1"
   ]
  },
  {
   "cell_type": "code",
   "execution_count": 16,
   "id": "68e52461-d475-4daa-b4f5-d813c232809f",
   "metadata": {},
   "outputs": [
    {
     "data": {
      "text/plain": [
       "282"
      ]
     },
     "execution_count": 16,
     "metadata": {},
     "output_type": "execute_result"
    }
   ],
   "source": [
    "np.sum(arr1)"
   ]
  },
  {
   "cell_type": "code",
   "execution_count": 17,
   "id": "a17e887c-9acc-4839-b2c0-3047cac932b3",
   "metadata": {},
   "outputs": [
    {
     "data": {
      "text/plain": [
       "array([ 60, 170,  52])"
      ]
     },
     "execution_count": 17,
     "metadata": {},
     "output_type": "execute_result"
    }
   ],
   "source": [
    "np.sum(arr1,axis=0)"
   ]
  },
  {
   "cell_type": "code",
   "execution_count": null,
   "id": "48fdc5f0-1170-4580-a21b-f988521b19a6",
   "metadata": {},
   "outputs": [],
   "source": [
    "[ 50, 150,  22]+[ 10,  20,  30]"
   ]
  },
  {
   "cell_type": "code",
   "execution_count": 19,
   "id": "baaddaac-85da-4c99-8f61-77d4359fe1fd",
   "metadata": {},
   "outputs": [
    {
     "data": {
      "text/plain": [
       "array([222,  60])"
      ]
     },
     "execution_count": 19,
     "metadata": {},
     "output_type": "execute_result"
    }
   ],
   "source": [
    "np.sum(arr1,axis=1)\n",
    "# [50,150,22]= 50+150+22\n",
    "# [10,20,30]= 10+20+30"
   ]
  },
  {
   "cell_type": "markdown",
   "id": "827f44e1-c30d-4809-b0c5-6e27b24c3eaf",
   "metadata": {},
   "source": [
    "- sum axis level\n",
    "\n",
    "- axis=1 means row level sum\n",
    "\n",
    "    - individula summation of list\n",
    "\n",
    "- axis=0 means column level sum"
   ]
  },
  {
   "cell_type": "markdown",
   "id": "a2d3800d-6ea2-414a-939c-fe9d7bbb74db",
   "metadata": {},
   "source": [
    "**mean-median**"
   ]
  },
  {
   "cell_type": "code",
   "execution_count": 20,
   "id": "181e42c9-612d-429c-8ed5-151277ff0194",
   "metadata": {},
   "outputs": [
    {
     "data": {
      "text/plain": [
       "51.142857142857146"
      ]
     },
     "execution_count": 20,
     "metadata": {},
     "output_type": "execute_result"
    }
   ],
   "source": [
    "list1=[1,22,23,45,57,89,121]\n",
    "np.mean(list1)"
   ]
  },
  {
   "cell_type": "code",
   "execution_count": 21,
   "id": "493035ce-1f6a-404b-ba69-76a432c9df8f",
   "metadata": {},
   "outputs": [
    {
     "data": {
      "text/plain": [
       "51.142857142857146"
      ]
     },
     "execution_count": 21,
     "metadata": {},
     "output_type": "execute_result"
    }
   ],
   "source": [
    "np.sum(list1)/len(list1)"
   ]
  },
  {
   "cell_type": "code",
   "execution_count": 23,
   "id": "233689d0-8403-4afe-849d-a4aba4b4a335",
   "metadata": {},
   "outputs": [
    {
     "data": {
      "text/plain": [
       "358"
      ]
     },
     "execution_count": 23,
     "metadata": {},
     "output_type": "execute_result"
    }
   ],
   "source": [
    "from functools import reduce\n",
    "reduce(lambda summ,i: summ+i,list1)"
   ]
  },
  {
   "cell_type": "code",
   "execution_count": 24,
   "id": "ae4d685c-8bc8-40fd-9083-55ed347433af",
   "metadata": {},
   "outputs": [
    {
     "data": {
      "text/plain": [
       "358"
      ]
     },
     "execution_count": 24,
     "metadata": {},
     "output_type": "execute_result"
    }
   ],
   "source": [
    "summ=0\n",
    "for i in list1:\n",
    "    summ=summ+i\n",
    "summ"
   ]
  },
  {
   "cell_type": "code",
   "execution_count": 31,
   "id": "8cebcf57-ae73-49c4-a3b0-177c24d2dab0",
   "metadata": {},
   "outputs": [
    {
     "data": {
      "text/plain": [
       "358"
      ]
     },
     "execution_count": 31,
     "metadata": {},
     "output_type": "execute_result"
    }
   ],
   "source": [
    "list1=[1,22,23,45,57,89,121]\n",
    "summ=0\n",
    "[summ:=summ+i for i in list1][-1]"
   ]
  },
  {
   "cell_type": "code",
   "execution_count": null,
   "id": "ce452f8e-bb43-4bb9-8593-4b56c6454451",
   "metadata": {},
   "outputs": [],
   "source": [
    "summ=0\n",
    "for i in list1:\n",
    "    summ=summ+i\n",
    "summ\n",
    "##########################################\n",
    "list1=[1,22,23,45,57,89,121]\n",
    "summ=0\n",
    "[summ:=summ+i for i in list1][-1]\n",
    "############################################\n",
    "from functools import reduce\n",
    "reduce(lambda summ,i: summ+i,list1)\n",
    "########################################\n",
    "np.sum(list1)"
   ]
  },
  {
   "cell_type": "code",
   "execution_count": 34,
   "id": "69e4a942-297e-4b55-b8c6-b396762dfa3b",
   "metadata": {},
   "outputs": [
    {
     "data": {
      "text/plain": [
       "array([[250. , 240. ],\n",
       "       [240. , 230.8]])"
      ]
     },
     "execution_count": 34,
     "metadata": {},
     "output_type": "execute_result"
    }
   ],
   "source": [
    "x=[10,20,30,40,50]\n",
    "y=[14,22,32,42,52]\n",
    "np.cov(x,y)"
   ]
  },
  {
   "cell_type": "code",
   "execution_count": 42,
   "id": "0195d305-bc09-4b7a-a59a-78b960e8bf17",
   "metadata": {},
   "outputs": [
    {
     "data": {
      "text/plain": [
       "240.0"
      ]
     },
     "execution_count": 42,
     "metadata": {},
     "output_type": "execute_result"
    }
   ],
   "source": [
    "# step-1: mean of x\n",
    "# step-2: mean of y\n",
    "# step-3: subtract xi-xbar   \n",
    "# step-4: subtract yi-ybar  \n",
    "# step-5: step3*step4   sum\n",
    "# step-6: divide by n-1\n",
    "x=[10,20,30,40,50]\n",
    "y=[14,22,32,42,52]  \n",
    "x_bar=np.mean(x)\n",
    "y_bar=np.mean(y)\n",
    "x_minus_xbar= [i-x_bar for i in x]\n",
    "y_minus_ybar= [i-y_bar for i in y]\n",
    "list1=[i*j for i,j in zip(x_minus_xbar,y_minus_ybar)]\n",
    "list1\n",
    "summ=0\n",
    "[summ:=summ+i for i in list1][-1]\n",
    "summ/(len(x)-1)"
   ]
  },
  {
   "cell_type": "markdown",
   "id": "e239763a-7fd2-4c01-8610-86fce536c69e",
   "metadata": {},
   "source": [
    "**variance**"
   ]
  },
  {
   "cell_type": "code",
   "execution_count": 2,
   "id": "0040f4b7-648b-480b-80e9-11bda4f619bb",
   "metadata": {},
   "outputs": [
    {
     "data": {
      "text/plain": [
       "200.0"
      ]
     },
     "execution_count": 2,
     "metadata": {},
     "output_type": "execute_result"
    }
   ],
   "source": [
    "x=[10,20,30,40,50]\n",
    "import numpy as np\n",
    "np.var(x)"
   ]
  },
  {
   "cell_type": "markdown",
   "id": "2f8d08d8-bd37-453b-8f7a-010c95bfad74",
   "metadata": {},
   "source": [
    "<img class=\"XqHOTb IGEbUc\" alt=\"S^2 = \\frac{\\sum (x_i - \\bar{x})^2}{n - 1}\" src=\"https://www.gstatic.com/education/formulas2/553212783/en/sample_variance.svg\" role=\"img\" data-csiid=\"d7JuZ42HLLed4-EP69DY2AM_16\" data-atf=\"0\">m"
   ]
  },
  {
   "cell_type": "code",
   "execution_count": 12,
   "id": "280f0079-ad3e-4312-b5c4-20dde863d981",
   "metadata": {},
   "outputs": [
    {
     "name": "stdout",
     "output_type": "stream",
     "text": [
      "mean of x: 30.0\n"
     ]
    },
    {
     "data": {
      "text/plain": [
       "200.0"
      ]
     },
     "execution_count": 12,
     "metadata": {},
     "output_type": "execute_result"
    }
   ],
   "source": [
    "# step-1: means\n",
    "#         sum of all numbers /total numbers\n",
    "# step-2: xi-xmean\n",
    "# step-3: sum of step-2\n",
    "# step-4: step3/N-1\n",
    "\n",
    "x=[10,20,30,40,50]\n",
    "# ================step-1==============================\n",
    "summ=0\n",
    "add=[summ:=summ+i for i in x][-1]\n",
    "x_mean=add/len(x)\n",
    "print(\"mean of x:\",x_mean)\n",
    "#====================step-2=============================\n",
    "list1=[i-x_mean for i in x]\n",
    "list1\n",
    "#===================step-3=================================\n",
    "list2=[i*i for i in list1]\n",
    "list2\n",
    "#====================step-4: sum of list2====================\n",
    "sum(list2)/len(list2)"
   ]
  },
  {
   "cell_type": "code",
   "execution_count": 18,
   "id": "5d327912-8e66-48fa-9a47-943b356628a9",
   "metadata": {},
   "outputs": [
    {
     "data": {
      "text/plain": [
       "200.0"
      ]
     },
     "execution_count": 18,
     "metadata": {},
     "output_type": "execute_result"
    }
   ],
   "source": [
    "np.sum(np.square(x-np.mean(x)))/len(x)"
   ]
  },
  {
   "cell_type": "markdown",
   "id": "4095e8fa-2dd9-4737-b58c-c250e97107d7",
   "metadata": {},
   "source": [
    "**Sd**"
   ]
  },
  {
   "cell_type": "code",
   "execution_count": 3,
   "id": "a17898a8-07c4-4d62-bcdc-447edcbd464d",
   "metadata": {},
   "outputs": [
    {
     "data": {
      "text/plain": [
       "14.142135623730951"
      ]
     },
     "execution_count": 3,
     "metadata": {},
     "output_type": "execute_result"
    }
   ],
   "source": [
    "x=[10,20,30,40,50]\n",
    "import numpy as np\n",
    "np.std(x)"
   ]
  },
  {
   "cell_type": "markdown",
   "id": "f46022f9-83e2-433f-a8aa-6644fd626bbe",
   "metadata": {},
   "source": [
    "<img class=\"XqHOTb IGEbUc\" alt=\"\\sigma={\\sqrt {\\frac {\\sum(x_{i}-{\\mu})^{2}}{N}}}\" src=\"https://www.gstatic.com/education/formulas2/553212783/en/population_standard_deviation.svg\" role=\"img\" data-csiid=\"k7VuZ9CdNNqZ4-EP7c-O-AI_10\" data-atf=\"0\">"
   ]
  },
  {
   "cell_type": "code",
   "execution_count": 19,
   "id": "32f0ece9-947a-4052-a46b-8a0858c68520",
   "metadata": {},
   "outputs": [
    {
     "name": "stdout",
     "output_type": "stream",
     "text": [
      "mean of x: 30.0\n"
     ]
    },
    {
     "data": {
      "text/plain": [
       "14.142135623730951"
      ]
     },
     "execution_count": 19,
     "metadata": {},
     "output_type": "execute_result"
    }
   ],
   "source": [
    "x=[10,20,30,40,50]\n",
    "# ================step-1==============================\n",
    "summ=0\n",
    "add=[summ:=summ+i for i in x][-1]\n",
    "x_mean=add/len(x)\n",
    "print(\"mean of x:\",x_mean)\n",
    "#====================step-2=============================\n",
    "list1=[i-x_mean for i in x]\n",
    "list1\n",
    "#===================step-3=================================\n",
    "list2=[i*i for i in list1]\n",
    "list2\n",
    "#====================step-4: sum of list2====================\n",
    "val=sum(list2)/len(list2)\n",
    "val**0.5"
   ]
  },
  {
   "cell_type": "code",
   "execution_count": 21,
   "id": "67ac962f-712c-437d-bc6a-691609d9cc92",
   "metadata": {},
   "outputs": [
    {
     "data": {
      "text/plain": [
       "14.142135623730951"
      ]
     },
     "execution_count": 21,
     "metadata": {},
     "output_type": "execute_result"
    }
   ],
   "source": [
    "np.sqrt(np.sum(np.square(x-np.mean(x)))/len(x))"
   ]
  },
  {
   "cell_type": "markdown",
   "id": "f3d1f6b2-411c-4e85-b0b5-091d1609535f",
   "metadata": {},
   "source": [
    "**correlation**"
   ]
  },
  {
   "cell_type": "code",
   "execution_count": 4,
   "id": "17fd1d0c-4587-4096-be9d-48fcccf0084e",
   "metadata": {},
   "outputs": [
    {
     "data": {
      "text/plain": [
       "array([[1.        , 0.99913307],\n",
       "       [0.99913307, 1.        ]])"
      ]
     },
     "execution_count": 4,
     "metadata": {},
     "output_type": "execute_result"
    }
   ],
   "source": [
    "x=[10,20,30,40,50]\n",
    "y=[14,22,32,42,52] \n",
    "np.corrcoef(x,y)"
   ]
  },
  {
   "cell_type": "code",
   "execution_count": 26,
   "id": "ea210779-fa87-4629-931b-0ba17f89f1a2",
   "metadata": {},
   "outputs": [
    {
     "name": "stdout",
     "output_type": "stream",
     "text": [
      "14.142135623730951 13.588230201170424\n"
     ]
    },
    {
     "data": {
      "text/plain": [
       "0.9991330730923518"
      ]
     },
     "execution_count": 26,
     "metadata": {},
     "output_type": "execute_result"
    }
   ],
   "source": [
    "x=[10,20,30,40,50]\n",
    "y=[14,22,32,42,52]  \n",
    "x_bar=np.mean(x)\n",
    "y_bar=np.mean(y)\n",
    "x_minus_xbar= [i-x_bar for i in x]\n",
    "y_minus_ybar= [i-y_bar for i in y]\n",
    "list1=[i*j for i,j in zip(x_minus_xbar,y_minus_ybar)]\n",
    "summ=0\n",
    "[summ:=summ+i for i in list1][-1]\n",
    "cov_xy=summ/(len(x))\n",
    "################################################\n",
    "def sd(val):\n",
    "    summ=0\n",
    "    add=[summ:=summ+i for i in val][-1]\n",
    "    x_mean=add/len(val)\n",
    "    list1=[i-x_mean for i in val]\n",
    "    list2=[i*i for i in list1]\n",
    "    sdx=sum(list2)/len(list2)\n",
    "    return(sdx**0.5)\n",
    "\n",
    "sdx=sd(x)\n",
    "sdy=sd(y)\n",
    "print(sdx,sdy)\n",
    "\n",
    "corr= cov_xy/(sdx*sdy)\n",
    "corr"
   ]
  },
  {
   "cell_type": "markdown",
   "id": "01db212f-f34b-4f62-aae5-e1983b34fcfe",
   "metadata": {},
   "source": [
    "**Euclidain distance**\n",
    "\n",
    "- distance between two points"
   ]
  },
  {
   "cell_type": "markdown",
   "id": "9aea9421-757c-4754-be43-981543fe4798",
   "metadata": {},
   "source": [
    "<img src=\"//upload.wikimedia.org/wikipedia/commons/thumb/5/55/Euclidean_distance_2d.svg/300px-Euclidean_distance_2d.svg.png\" decoding=\"async\" width=\"300\" height=\"207\" class=\"mw-file-element\" srcset=\"//upload.wikimedia.org/wikipedia/commons/thumb/5/55/Euclidean_distance_2d.svg/450px-Euclidean_distance_2d.svg.png 1.5x, //upload.wikimedia.org/wikipedia/commons/thumb/5/55/Euclidean_distance_2d.svg/600px-Euclidean_distance_2d.svg.png 2x\" data-file-width=\"360\" data-file-height=\"248\">"
   ]
  },
  {
   "cell_type": "code",
   "execution_count": 28,
   "id": "513c40f5-98c6-4b94-a7f9-57a9797c8c62",
   "metadata": {},
   "outputs": [
    {
     "data": {
      "text/plain": [
       "7.0710678118654755"
      ]
     },
     "execution_count": 28,
     "metadata": {},
     "output_type": "execute_result"
    }
   ],
   "source": [
    "p=(3,5)  # (x1,y1)\n",
    "q=(8,10) # (x2,y2)\n",
    "x1,y1=p[0],p[1]\n",
    "x2,y2=q[0],q[1]\n",
    "d1=q[0]-p[0]\n",
    "d2=q[1]-p[1]\n",
    "(d1**2+d2**2)**0.5"
   ]
  },
  {
   "cell_type": "code",
   "execution_count": 33,
   "id": "b796353d-0aac-4e87-a0ba-eb4089aa08d0",
   "metadata": {},
   "outputs": [
    {
     "data": {
      "text/plain": [
       "7.0710678118654755"
      ]
     },
     "execution_count": 33,
     "metadata": {},
     "output_type": "execute_result"
    }
   ],
   "source": [
    "# method-2:\n",
    "# convert into numpy firts\n",
    "a1=np.array(p)\n",
    "a2=np.array(q)\n",
    "np.sqrt(np.sum(np.square(a2-a1)))"
   ]
  },
  {
   "cell_type": "code",
   "execution_count": 34,
   "id": "a51dfe4c-c047-4be3-9f79-1d67d64c4492",
   "metadata": {},
   "outputs": [
    {
     "data": {
      "text/plain": [
       "array([ 9, 18, 27])"
      ]
     },
     "execution_count": 34,
     "metadata": {},
     "output_type": "execute_result"
    }
   ],
   "source": [
    "np.array([10,20,30])-np.array([1,2,3])"
   ]
  },
  {
   "cell_type": "markdown",
   "id": "ee1c645b-95f7-409f-b4c5-4e63d24ea687",
   "metadata": {},
   "source": [
    "**linear algebra**\n",
    "\n",
    "- package name: numpy\n",
    "\n",
    "- class name  : linalg\n",
    "\n",
    "- method name : norm"
   ]
  },
  {
   "cell_type": "code",
   "execution_count": 39,
   "id": "7e1f4ad3-16a9-40c6-85d5-e5a18862e3f8",
   "metadata": {},
   "outputs": [
    {
     "data": {
      "text/plain": [
       "7.0710678118654755"
      ]
     },
     "execution_count": 39,
     "metadata": {},
     "output_type": "execute_result"
    }
   ],
   "source": [
    "from numpy.linalg import norm\n",
    "from numpy import var,std,mean\n",
    "import numpy as np\n",
    "p=(3,5)  # (x1,y1)\n",
    "q=(8,10) # (x2,y2)\n",
    "a1=np.array(p)\n",
    "a2=np.array(q)\n",
    "np.linalg.norm(a1-a2)"
   ]
  },
  {
   "cell_type": "code",
   "execution_count": null,
   "id": "6bc98af0-8f2c-4a7b-94e9-fcf3cce9fcab",
   "metadata": {},
   "outputs": [],
   "source": [
    "## Assignment\n",
    "l1=[(2,5),(3,7),(4,8)]\n",
    "l2=(5,10)\n",
    "# min distance between which points\n",
    "# max distance between which points\n",
    "\n"
   ]
  },
  {
   "cell_type": "markdown",
   "id": "2376fa6c-7165-44ee-9d7e-85a6f2150752",
   "metadata": {},
   "source": [
    "**Find the roots**"
   ]
  },
  {
   "cell_type": "code",
   "execution_count": 40,
   "id": "02bc5387-8d68-4195-80c9-99883a2b6424",
   "metadata": {},
   "outputs": [
    {
     "data": {
      "text/plain": [
       "array([2., 1.])"
      ]
     },
     "execution_count": 40,
     "metadata": {},
     "output_type": "execute_result"
    }
   ],
   "source": [
    "#x^2-3x+2\n",
    "coeff=[1,-3,2]\n",
    "np.roots(coeff)"
   ]
  },
  {
   "cell_type": "code",
   "execution_count": null,
   "id": "79da2993-b79d-4983-8eae-a80cda8e2e94",
   "metadata": {},
   "outputs": [],
   "source": [
    "- np.faltten\n",
    "\n",
    "- np.vstack\n",
    "\n",
    "- np.dot\n",
    "\n",
    "- np.full\n",
    "\n",
    "- np.ones\n",
    "\n",
    "- np.zeros"
   ]
  }
 ],
 "metadata": {
  "kernelspec": {
   "display_name": "Python 3 (ipykernel)",
   "language": "python",
   "name": "python3"
  },
  "language_info": {
   "codemirror_mode": {
    "name": "ipython",
    "version": 3
   },
   "file_extension": ".py",
   "mimetype": "text/x-python",
   "name": "python",
   "nbconvert_exporter": "python",
   "pygments_lexer": "ipython3",
   "version": "3.11.7"
  }
 },
 "nbformat": 4,
 "nbformat_minor": 5
}
