{
 "cells": [
  {
   "cell_type": "markdown",
   "id": "35721c49-3055-4a65-bcb2-28cb18ea36d8",
   "metadata": {},
   "source": [
    "**1D array**"
   ]
  },
  {
   "cell_type": "code",
   "execution_count": 1,
   "id": "d0db73fc-0f67-4036-83bd-23b1064f364d",
   "metadata": {},
   "outputs": [
    {
     "data": {
      "text/plain": [
       "array([1, 2, 3, 4])"
      ]
     },
     "execution_count": 1,
     "metadata": {},
     "output_type": "execute_result"
    }
   ],
   "source": [
    "import numpy as np\n",
    "arr1=np.array([1,2,3,4])\n",
    "arr1"
   ]
  },
  {
   "cell_type": "code",
   "execution_count": 2,
   "id": "a37ae349-be4b-4bdf-86f2-c2da4882b0df",
   "metadata": {},
   "outputs": [
    {
     "data": {
      "text/plain": [
       "(4,)"
      ]
     },
     "execution_count": 2,
     "metadata": {},
     "output_type": "execute_result"
    }
   ],
   "source": [
    "arr1.shape\n",
    "# one dimension\n",
    "# shape = ,  "
   ]
  },
  {
   "cell_type": "code",
   "execution_count": 5,
   "id": "ec520500-4d97-4c0c-8c7a-d1457635708e",
   "metadata": {},
   "outputs": [
    {
     "data": {
      "text/plain": [
       "1"
      ]
     },
     "execution_count": 5,
     "metadata": {},
     "output_type": "execute_result"
    }
   ],
   "source": [
    "arr1.ndim  # how many dimensions  "
   ]
  },
  {
   "cell_type": "code",
   "execution_count": 6,
   "id": "53051a6a-5267-4b07-af26-18b67ff64e43",
   "metadata": {},
   "outputs": [
    {
     "data": {
      "text/plain": [
       "4"
      ]
     },
     "execution_count": 6,
     "metadata": {},
     "output_type": "execute_result"
    }
   ],
   "source": [
    "arr1.size"
   ]
  },
  {
   "cell_type": "markdown",
   "id": "042b7a94-b587-4dfb-865e-2bc35d5b1d17",
   "metadata": {},
   "source": [
    "**2D array**"
   ]
  },
  {
   "cell_type": "code",
   "execution_count": 8,
   "id": "4d58dc9c-8dc5-4c88-8aa2-5feee4d25856",
   "metadata": {},
   "outputs": [
    {
     "name": "stdout",
     "output_type": "stream",
     "text": [
      "shape: (2, 4)\n",
      "dim: 2\n",
      "number of elements: 8\n"
     ]
    }
   ],
   "source": [
    "l1=[1,2,3,4]\n",
    "l2=['A','B','C','D']\n",
    "\n",
    "arr1=np.array([l1,l2])\n",
    "print(\"shape:\",arr1.shape)\n",
    "print(\"dim:\",arr1.ndim)\n",
    "print(\"number of elements:\",arr1.size)"
   ]
  },
  {
   "cell_type": "code",
   "execution_count": 9,
   "id": "8935d0c8-07e6-402b-ae5f-84b62a6bb88b",
   "metadata": {},
   "outputs": [
    {
     "name": "stdout",
     "output_type": "stream",
     "text": [
      "shape: (2, 4)\n",
      "dim: 2\n",
      "number of elements: 8\n"
     ]
    }
   ],
   "source": [
    "arr1=np.array([[1,2,3,4],\n",
    "               ['A','B','C','D']\n",
    "              ])\n",
    "print(\"shape:\",arr1.shape)\n",
    "print(\"dim:\",arr1.ndim)\n",
    "print(\"number of elements:\",arr1.size)"
   ]
  },
  {
   "cell_type": "code",
   "execution_count": 12,
   "id": "752e10b7-8fde-43ad-8871-9deb602e696d",
   "metadata": {},
   "outputs": [
    {
     "data": {
      "text/plain": [
       "(4, 2)"
      ]
     },
     "execution_count": 12,
     "metadata": {},
     "output_type": "execute_result"
    }
   ],
   "source": [
    "L1=[(1,'A'),\n",
    "    (2,'B'),\n",
    "    (3,'C'),\n",
    "    (4,'D')]\n",
    "\n",
    "np.array(L1).shape"
   ]
  },
  {
   "cell_type": "code",
   "execution_count": 14,
   "id": "d45a0aaa-f216-433c-868e-2a2efe9f5a66",
   "metadata": {},
   "outputs": [
    {
     "data": {
      "text/plain": [
       "(2, 4)"
      ]
     },
     "execution_count": 14,
     "metadata": {},
     "output_type": "execute_result"
    }
   ],
   "source": [
    "arr1.shape"
   ]
  },
  {
   "cell_type": "code",
   "execution_count": 15,
   "id": "53da19ab-b6dc-4314-95ed-10520d568327",
   "metadata": {},
   "outputs": [
    {
     "data": {
      "text/plain": [
       "array([['1', '2', '3', '4'],\n",
       "       ['A', 'B', 'C', 'D'],\n",
       "       ['5', '6', '7', '8'],\n",
       "       ['E', 'F', 'G', 'H']], dtype='<U11')"
      ]
     },
     "execution_count": 15,
     "metadata": {},
     "output_type": "execute_result"
    }
   ],
   "source": [
    "np.array([\n",
    "          [1,2,3,4],\n",
    "          ['A','B','C','D'],\n",
    "          [5,6,7,8],\n",
    "          ['E','F','G','H']\n",
    "])"
   ]
  },
  {
   "cell_type": "markdown",
   "id": "7f5de30b-2e95-4a6d-a53a-99ff6a448df3",
   "metadata": {},
   "source": [
    "**difference between shape and dim**"
   ]
  },
  {
   "cell_type": "markdown",
   "id": "ce74c7f7-fcf3-4bef-968a-167633bcd93c",
   "metadata": {},
   "source": [
    "- shape means rows and columns\n",
    "\n",
    "- if only row available then one dim\n",
    "\n",
    "- if rows and columns then it is called as 2 dim\n",
    "\n",
    "- we dont mind rows count and column count\n",
    "\n",
    "- we want rows and columns\n",
    "\n",
    "- dim always represnt as len of shape\n",
    "\n",
    "- shape always represent as tuple\n",
    "\n",
    "- shape = (m,n)\n",
    "\n",
    "    - m rows \n",
    "\n",
    "    - n columns\n",
    "\n",
    "- size = number of elements "
   ]
  },
  {
   "cell_type": "markdown",
   "id": "29fffcf0-df31-458c-8d94-abc6e54686f5",
   "metadata": {},
   "source": [
    "**3D array**"
   ]
  },
  {
   "cell_type": "code",
   "execution_count": 16,
   "id": "e4d495b1-151a-4bf0-a64f-094d3b6d28ec",
   "metadata": {},
   "outputs": [
    {
     "data": {
      "text/plain": [
       "array([['1', '2', '3'],\n",
       "       ['A', 'B', 'C']], dtype='<U11')"
      ]
     },
     "execution_count": 16,
     "metadata": {},
     "output_type": "execute_result"
    }
   ],
   "source": [
    "np.array([[1,2,3],['A','B','C']])"
   ]
  },
  {
   "cell_type": "code",
   "execution_count": 17,
   "id": "f8d8fd6e-ddfe-4b59-8f75-175a612a1cd4",
   "metadata": {},
   "outputs": [],
   "source": [
    "l=[\n",
    " [[1,2,3],\n",
    " ['A','B','C']],\n",
    "\n",
    "[[1,2,3],\n",
    " ['A','B','C']],\n",
    "\n",
    "[[1,2,3],\n",
    " ['A','B','C']]\n",
    "\n",
    "]\n",
    "\n"
   ]
  },
  {
   "cell_type": "code",
   "execution_count": 20,
   "id": "1b6255f9-15eb-41b8-a6bb-6af6d5758abe",
   "metadata": {},
   "outputs": [
    {
     "data": {
      "text/plain": [
       "array([[['1', '2', '3'],\n",
       "        ['A', 'B', 'C']],\n",
       "\n",
       "       [['1', '2', '3'],\n",
       "        ['A', 'B', 'C']],\n",
       "\n",
       "       [['1', '2', '3'],\n",
       "        ['A', 'B', 'C']]], dtype='<U11')"
      ]
     },
     "execution_count": 20,
     "metadata": {},
     "output_type": "execute_result"
    }
   ],
   "source": [
    "np.array(l)"
   ]
  },
  {
   "cell_type": "code",
   "execution_count": null,
   "id": "a9458481-f423-4a56-a2e8-612c208c01e4",
   "metadata": {},
   "outputs": [],
   "source": [
    "[choc box]  [sweet box]\n",
    "both are combines \n",
    "[\n",
    "[[cbox],[sbox]]  ==== \n",
    "[[cbox],[sbox]]\n",
    "[[cbox],[sbox]]\n",
    "\n",
    "\n",
    "[[cbox],[sbox]]  ==== \n",
    "[[cbox],[sbox]]\n",
    "[[cbox],[sbox]]\n",
    "\n",
    "\n",
    "[[cbox],[sbox]]  ==== \n",
    "[[cbox],[sbox]]\n",
    "[[cbox],[sbox]]\n",
    "\n",
    "]"
   ]
  },
  {
   "cell_type": "code",
   "execution_count": 21,
   "id": "fbc2f555-1ce5-414e-ab0b-a4bb275897be",
   "metadata": {},
   "outputs": [
    {
     "data": {
      "text/plain": [
       "array([[[['1', '2', '3'],\n",
       "         ['A', 'B', 'C']],\n",
       "\n",
       "        [['1', '2', '3'],\n",
       "         ['A', 'B', 'C']],\n",
       "\n",
       "        [['1', '2', '3'],\n",
       "         ['A', 'B', 'C']]],\n",
       "\n",
       "\n",
       "       [[['1', '2', '3'],\n",
       "         ['A', 'B', 'C']],\n",
       "\n",
       "        [['1', '2', '3'],\n",
       "         ['A', 'B', 'C']],\n",
       "\n",
       "        [['1', '2', '3'],\n",
       "         ['A', 'B', 'C']]]], dtype='<U11')"
      ]
     },
     "execution_count": 21,
     "metadata": {},
     "output_type": "execute_result"
    }
   ],
   "source": [
    "l1=[\n",
    " [[1,2,3],\n",
    " ['A','B','C']],\n",
    "\n",
    "[[1,2,3],\n",
    " ['A','B','C']],\n",
    "\n",
    "[[1,2,3],\n",
    " ['A','B','C']]\n",
    "\n",
    "]\n",
    "\n",
    "l2=[\n",
    " [[1,2,3],\n",
    " ['A','B','C']],\n",
    "\n",
    "[[1,2,3],\n",
    " ['A','B','C']],\n",
    "\n",
    "[[1,2,3],\n",
    " ['A','B','C']]\n",
    "\n",
    "]\n",
    "\n",
    "l=[l1,l2]\n",
    "np.array(l)\n",
    "2,3,rows,column"
   ]
  },
  {
   "cell_type": "code",
   "execution_count": null,
   "id": "b52cd7d3-f798-4f9a-886f-fd3877103cee",
   "metadata": {},
   "outputs": [],
   "source": [
    "we will pass images \n",
    "50000\n",
    "heigh \n",
    "width\n"
   ]
  }
 ],
 "metadata": {
  "kernelspec": {
   "display_name": "Python 3 (ipykernel)",
   "language": "python",
   "name": "python3"
  },
  "language_info": {
   "codemirror_mode": {
    "name": "ipython",
    "version": 3
   },
   "file_extension": ".py",
   "mimetype": "text/x-python",
   "name": "python",
   "nbconvert_exporter": "python",
   "pygments_lexer": "ipython3",
   "version": "3.11.7"
  }
 },
 "nbformat": 4,
 "nbformat_minor": 5
}
