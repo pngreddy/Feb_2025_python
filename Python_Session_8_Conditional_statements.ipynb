{
 "cells": [
  {
   "cell_type": "markdown",
   "id": "a27b1ff7-16f9-40c5-b8be-72f6b2d284f9",
   "metadata": {},
   "source": [
    "- Conditional statements refers to execute the code based on some conditions\n",
    "\n",
    "- we have mainly three types\n",
    "\n",
    "    - if \n",
    "\n",
    "    - if else\n",
    "\n",
    "    - if elif else"
   ]
  },
  {
   "cell_type": "code",
   "execution_count": 1,
   "id": "a00718e1-79d8-49eb-9bc0-c85a321a325d",
   "metadata": {},
   "outputs": [
    {
     "name": "stdout",
     "output_type": "stream",
     "text": [
      "hello good morning\n"
     ]
    }
   ],
   "source": [
    "print('hello good morning')"
   ]
  },
  {
   "cell_type": "code",
   "execution_count": null,
   "id": "0d7c77f6-4746-42b3-b4c1-914eee649c56",
   "metadata": {},
   "outputs": [],
   "source": [
    "# i want to say good morning\n",
    "# if your name is python"
   ]
  },
  {
   "cell_type": "markdown",
   "id": "b789c78f-2d67-4e39-85d1-0a6f10e537a4",
   "metadata": {},
   "source": [
    "**syntax**"
   ]
  },
  {
   "cell_type": "code",
   "execution_count": null,
   "id": "a082dcbc-f6ec-439e-8d8c-a559148119b7",
   "metadata": {},
   "outputs": [],
   "source": [
    "if <condition>:\n",
    "    <write your code here>"
   ]
  },
  {
   "cell_type": "code",
   "execution_count": 3,
   "id": "1e3fc425-ac64-4c54-bf5b-088faf1001e7",
   "metadata": {},
   "outputs": [
    {
     "name": "stdout",
     "output_type": "stream",
     "text": [
      "correct condition\n",
      "hello\n"
     ]
    }
   ],
   "source": [
    "num=10\n",
    "if num>0:  # 10>0  True    if True\n",
    "    print('correct condition')\n",
    "    print('hello')"
   ]
  },
  {
   "cell_type": "code",
   "execution_count": 4,
   "id": "fc3d187e-81bd-4438-9073-60574a6f580c",
   "metadata": {},
   "outputs": [
    {
     "ename": "IndentationError",
     "evalue": "expected an indented block after 'if' statement on line 2 (2056489480.py, line 3)",
     "output_type": "error",
     "traceback": [
      "\u001b[1;36m  Cell \u001b[1;32mIn[4], line 3\u001b[1;36m\u001b[0m\n\u001b[1;33m    print('correct condition')\u001b[0m\n\u001b[1;37m    ^\u001b[0m\n\u001b[1;31mIndentationError\u001b[0m\u001b[1;31m:\u001b[0m expected an indented block after 'if' statement on line 2\n"
     ]
    }
   ],
   "source": [
    "num=10\n",
    "if num>0:\n",
    "print('correct condition')"
   ]
  },
  {
   "cell_type": "code",
   "execution_count": 7,
   "id": "c4aa6680-2e09-43a7-9836-8f409a06b41c",
   "metadata": {},
   "outputs": [
    {
     "name": "stdout",
     "output_type": "stream",
     "text": [
      "correct condition\n"
     ]
    }
   ],
   "source": [
    "num=10\n",
    "if num>0:\n",
    "    print('correct condition')"
   ]
  },
  {
   "cell_type": "markdown",
   "id": "8d6d88a2-51b6-4b2d-9983-e253be6a7ce2",
   "metadata": {},
   "source": [
    "- we can write any condition\n",
    "\n",
    "- the condition should be valid \n",
    "\n",
    "- in order to execute the if statement"
   ]
  },
  {
   "cell_type": "code",
   "execution_count": null,
   "id": "40a3a158-8f5c-440d-b880-b9a3a470517b",
   "metadata": {},
   "outputs": [],
   "source": [
    "if <condition>:\n",
    "    <code starts here>\n",
    "\n",
    "# the space we need to maintain it is called as indentation"
   ]
  },
  {
   "cell_type": "code",
   "execution_count": 1,
   "id": "d1eed734-f2eb-4843-937c-f2674998e296",
   "metadata": {},
   "outputs": [
    {
     "data": {
      "text/plain": [
       "True"
      ]
     },
     "execution_count": 1,
     "metadata": {},
     "output_type": "execute_result"
    }
   ],
   "source": [
    "name='python'\n",
    "name=='python'"
   ]
  },
  {
   "cell_type": "code",
   "execution_count": 2,
   "id": "70e0c556-8ce4-40b8-8e98-1e605b2866b6",
   "metadata": {},
   "outputs": [
    {
     "data": {
      "text/plain": [
       "False"
      ]
     },
     "execution_count": 2,
     "metadata": {},
     "output_type": "execute_result"
    }
   ],
   "source": [
    "name!='python'"
   ]
  },
  {
   "cell_type": "code",
   "execution_count": 4,
   "id": "3858eeb1-8ad5-4b68-810d-2b3eb5c4d40c",
   "metadata": {},
   "outputs": [],
   "source": [
    "name='python'\n",
    "if name=='python':\n",
    "    print('hello')\n",
    "    a=10\n",
    "    b=20\n",
    "    print(a+b)\n",
    "\n",
    "# step-1:  name='python'\n",
    "# step-2:  if name=='python'  if 'python'=='python'  if True\n",
    "# step-3:   print hello\n",
    "# step-4:  a=10\n",
    "# step-5:  b=20\n",
    "# step-6 :  a+b   10+20=30"
   ]
  },
  {
   "cell_type": "code",
   "execution_count": 5,
   "id": "0d49149c-33d4-4b1b-8e07-0009dfd3d26a",
   "metadata": {},
   "outputs": [
    {
     "name": "stdout",
     "output_type": "stream",
     "text": [
      "correct\n",
      "bye\n"
     ]
    }
   ],
   "source": [
    "################################\n",
    "if 100>10:\n",
    "    print('correct')\n",
    "################################\n",
    "print('bye')"
   ]
  },
  {
   "cell_type": "code",
   "execution_count": null,
   "id": "eb1d0980-facc-4a5b-ab72-84bd92af28b7",
   "metadata": {},
   "outputs": [],
   "source": [
    "################################\n",
    "if 100<10:\n",
    "    print('correct')\n",
    "################################\n",
    "print('bye')"
   ]
  },
  {
   "cell_type": "code",
   "execution_count": 6,
   "id": "30e7f61b-41c6-4931-a992-dae6fd1ba20d",
   "metadata": {},
   "outputs": [
    {
     "name": "stdout",
     "output_type": "stream",
     "text": [
      "correct\n",
      "hai\n",
      "bye\n"
     ]
    }
   ],
   "source": [
    "################################\n",
    "if 100>10:\n",
    "    print('correct')\n",
    "    print('hai')\n",
    "################################\n",
    "print('bye')"
   ]
  },
  {
   "cell_type": "code",
   "execution_count": 8,
   "id": "cbfdcf4f-fecf-4d2a-8830-22f1c90a5983",
   "metadata": {},
   "outputs": [
    {
     "name": "stdout",
     "output_type": "stream",
     "text": [
      "hai\n",
      "hello\n",
      "bye\n"
     ]
    }
   ],
   "source": [
    "print('hai')\n",
    "##############################\n",
    "if 100>10:\n",
    "    print('hello')\n",
    "\n",
    "#################################\n",
    "print('bye')"
   ]
  },
  {
   "cell_type": "markdown",
   "id": "20a5083d-a9fc-4124-89a0-84e0257fa667",
   "metadata": {},
   "source": [
    "**if-else**\n",
    "\n",
    "- whenever if condition fails automatically it goes to else part\n",
    "\n",
    "- so else does not require any condition\n",
    "\n",
    "- always maintain indentation for both if part and else part"
   ]
  },
  {
   "cell_type": "code",
   "execution_count": 11,
   "id": "6968eec2-0fce-49df-a16f-b36c80b47977",
   "metadata": {},
   "outputs": [
    {
     "name": "stdout",
     "output_type": "stream",
     "text": [
      "wrong condition\n"
     ]
    }
   ],
   "source": [
    "if 100<10:\n",
    "    print('correct condition')\n",
    "else:\n",
    "    print('wrong condition')"
   ]
  },
  {
   "cell_type": "code",
   "execution_count": null,
   "id": "84e2ea63-6c74-4ff8-a03c-2c5996e83bf5",
   "metadata": {},
   "outputs": [],
   "source": [
    "print(10)\n",
    "####################################\n",
    "if 100<10:\n",
    "    print('correct condition')\n",
    "##################################\n",
    "else:\n",
    "    print('wrong condition')\n",
    "######################################\n",
    "print(20)"
   ]
  },
  {
   "cell_type": "code",
   "execution_count": 13,
   "id": "e9186a13-3f81-4347-886c-09936eadd23c",
   "metadata": {},
   "outputs": [
    {
     "ename": "SyntaxError",
     "evalue": "invalid syntax (335652734.py, line 6)",
     "output_type": "error",
     "traceback": [
      "\u001b[1;36m  Cell \u001b[1;32mIn[13], line 6\u001b[1;36m\u001b[0m\n\u001b[1;33m    else:\u001b[0m\n\u001b[1;37m    ^\u001b[0m\n\u001b[1;31mSyntaxError\u001b[0m\u001b[1;31m:\u001b[0m invalid syntax\n"
     ]
    }
   ],
   "source": [
    "print(10)\n",
    "if 100>10:\n",
    "    print('correct condition')\n",
    "    print('okay')\n",
    "    \n",
    "print('why are you come in middile')\n",
    "\n",
    "else:\n",
    "    print('wrong condition')\n",
    "print(20)"
   ]
  },
  {
   "cell_type": "markdown",
   "id": "dfd4b149-9f14-42ab-bbf2-40848ded73b2",
   "metadata": {},
   "source": [
    "**if and else always together**"
   ]
  },
  {
   "cell_type": "code",
   "execution_count": null,
   "id": "a16c8f8b-5921-433f-9699-7c5054be9e9d",
   "metadata": {},
   "outputs": [],
   "source": [
    "# wap ask the user take two numbers\n",
    "# num1 and num2\n",
    "# if both numbers are matched then print we are won\n",
    "# otherwise print we lost\n",
    "\n",
    "# step-1: n1=eval(input('en'))\n",
    "# step-2: n2=eval(input('en'))\n",
    "# step-3: if <condition>:\n",
    "# step-4:      print('we won')\n",
    "# step-5: else:\n",
    "# step-6:     print('we lost')"
   ]
  },
  {
   "cell_type": "code",
   "execution_count": 15,
   "id": "152d9bca-9764-4ea4-91c6-f4b50c9d0e70",
   "metadata": {},
   "outputs": [
    {
     "name": "stdin",
     "output_type": "stream",
     "text": [
      "enter nunber1: 20\n",
      "enter nunber2: 20\n"
     ]
    },
    {
     "name": "stdout",
     "output_type": "stream",
     "text": [
      "we won\n"
     ]
    }
   ],
   "source": [
    "n1= eval(input('enter nunber1:'))\n",
    "n2= eval(input('enter nunber2:'))\n",
    "if n1==n2:\n",
    "    print('we won')\n",
    "else:\n",
    "    print('we lost')"
   ]
  },
  {
   "cell_type": "code",
   "execution_count": null,
   "id": "3b835bc2-92a4-4372-9e3a-a4d32d3a6ac9",
   "metadata": {},
   "outputs": [],
   "source": [
    "# wap ask the user take one number\n",
    "# another number comes as random integer between 1 to 10\n",
    "# num1 and num2\n",
    "# if both numbers are matched then print we are won\n",
    "# otherwise print we lost\n",
    "\n",
    "# step-1: n1=<random number>\n",
    "# step-2: n2=eval(input('en'))\n",
    "# step-3: if <condition>:\n",
    "# step-4:      print('we won')\n",
    "# step-5: else:\n",
    "# step-6:     print('we lost')"
   ]
  },
  {
   "cell_type": "code",
   "execution_count": 22,
   "id": "743601db-265e-4cbb-9b5b-3999b21d2ada",
   "metadata": {},
   "outputs": [
    {
     "name": "stdout",
     "output_type": "stream",
     "text": [
      "1\n"
     ]
    },
    {
     "name": "stdin",
     "output_type": "stream",
     "text": [
      "enter nunber2: 1\n"
     ]
    },
    {
     "name": "stdout",
     "output_type": "stream",
     "text": [
      "we won\n"
     ]
    }
   ],
   "source": [
    "import random\n",
    "n1= random.randint(1,10)\n",
    "print(n1)\n",
    "n2= eval(input('enter nunber2:'))\n",
    "if n1==n2:\n",
    "    print('we won')\n",
    "else:\n",
    "    print('we lost')"
   ]
  },
  {
   "cell_type": "code",
   "execution_count": null,
   "id": "0e44029f-5776-48b4-960b-5749d81b5e74",
   "metadata": {},
   "outputs": [],
   "source": [
    "#wap ask the user enter a number\n",
    "# print if the number is even or odd\n",
    "\n",
    "# idea == reminder should be zero\n",
    "# step-1: num=eval(input())\n",
    "# step-2: if <con>:\n",
    "# step-3:   print (the given number is even)\n",
    "# step-4: else:\n",
    "# step-5:   print(the given number is odd)"
   ]
  },
  {
   "cell_type": "code",
   "execution_count": 23,
   "id": "6f3cd539-c84e-4e4e-bfed-4bced20ec7da",
   "metadata": {},
   "outputs": [
    {
     "data": {
      "text/plain": [
       "2.5"
      ]
     },
     "execution_count": 23,
     "metadata": {},
     "output_type": "execute_result"
    }
   ],
   "source": [
    "5/2 # division"
   ]
  },
  {
   "cell_type": "code",
   "execution_count": 24,
   "id": "c54f933b-2468-4c54-8f7f-8f53d9bb65f3",
   "metadata": {},
   "outputs": [
    {
     "data": {
      "text/plain": [
       "2"
      ]
     },
     "execution_count": 24,
     "metadata": {},
     "output_type": "execute_result"
    }
   ],
   "source": [
    "5//2  # floor division"
   ]
  },
  {
   "cell_type": "code",
   "execution_count": 25,
   "id": "54992937-548e-492f-9627-881b4aad62ad",
   "metadata": {},
   "outputs": [
    {
     "data": {
      "text/plain": [
       "1"
      ]
     },
     "execution_count": 25,
     "metadata": {},
     "output_type": "execute_result"
    }
   ],
   "source": [
    "5%2  # modulus operator"
   ]
  },
  {
   "cell_type": "code",
   "execution_count": 27,
   "id": "de16de94-7243-48b8-8d2c-fea0a244d78e",
   "metadata": {},
   "outputs": [
    {
     "name": "stdin",
     "output_type": "stream",
     "text": [
      "enter a number: 24\n"
     ]
    },
    {
     "name": "stdout",
     "output_type": "stream",
     "text": [
      "the given number 24 is even\n"
     ]
    }
   ],
   "source": [
    "num=eval(input('enter a number:'))\n",
    "if num%2==0:\n",
    "    print(f'the given number {num} is even')\n",
    "else:\n",
    "    print(f'the given number {num} is odd')"
   ]
  },
  {
   "cell_type": "code",
   "execution_count": null,
   "id": "a571be35-8f82-4f1f-afd0-3ade4c8eb933",
   "metadata": {},
   "outputs": [],
   "source": [
    "# wap ask the user enter distance\n",
    "# if distance greater than 25\n",
    "#      ask the charge\n",
    "#      calculate the charge other than25km distance\n",
    "# else\n",
    "#    print free ride\n",
    "\n",
    "# step-1: distance= eval(input(''))\n",
    "# step-2: if <>:\n",
    "# step-3:    charge=eval(input(''))\n",
    "# step-4:    total charge= (d-25)*\n",
    "# step-5: else:\n",
    "# step-6:    print free ride"
   ]
  },
  {
   "cell_type": "code",
   "execution_count": 31,
   "id": "a1a11ced-aa11-42e7-8a77-4ffa9be87918",
   "metadata": {},
   "outputs": [
    {
     "name": "stdin",
     "output_type": "stream",
     "text": [
      "enter the distance 100\n",
      "gove cut off distance: 50\n"
     ]
    },
    {
     "name": "stdout",
     "output_type": "stream",
     "text": [
      "the charge applicable only on:50 kms\n"
     ]
    },
    {
     "name": "stdin",
     "output_type": "stream",
     "text": [
      "enter the charge: 10\n"
     ]
    },
    {
     "name": "stdout",
     "output_type": "stream",
     "text": [
      "the total charge is:500 rs\n"
     ]
    }
   ],
   "source": [
    "distance=eval(input('enter the distance'))\n",
    "cutoff_dis=eval(input('govt cut off distance:'))\n",
    "if distance>cutoff_dis:\n",
    "    print(f'the charge applicable only on:{distance-cutoff_dis} kms')\n",
    "    charge=eval(input('enter the charge:'))\n",
    "    total_charge=(distance-cutoff_dis)*charge\n",
    "    print(f'the total charge is:{total_charge} rs')\n",
    "else:\n",
    "    print('enjoy free ride')"
   ]
  },
  {
   "cell_type": "code",
   "execution_count": null,
   "id": "9fb05c86-2051-4f75-9d3b-ec95f8beddf9",
   "metadata": {},
   "outputs": [],
   "source": [
    "# wap ask the user take two numbers\n",
    "# print which is greater number\n",
    "\n",
    "# step-1: n1= eval(input())\n",
    "# step-2: n2= eval(input())\n",
    "# step-3: if <cond>:\n",
    "# step-4:    print()\n",
    "# step-5: else:\n",
    "# step-6:    print()"
   ]
  },
  {
   "cell_type": "code",
   "execution_count": 32,
   "id": "f2b24066-fbde-4ced-b83a-2562443064ed",
   "metadata": {},
   "outputs": [
    {
     "name": "stdin",
     "output_type": "stream",
     "text": [
      "enter the n1: 20\n",
      "enter the n2: 50\n"
     ]
    },
    {
     "name": "stdout",
     "output_type": "stream",
     "text": [
      "50 is greater\n"
     ]
    }
   ],
   "source": [
    "n1=eval(input('enter the n1:'))\n",
    "n2=eval(input('enter the n2:'))\n",
    "if n1>n2:\n",
    "    print(f\"{n1} is greater\")\n",
    "else:\n",
    "    print(f\"{n2} is greater\")"
   ]
  },
  {
   "cell_type": "code",
   "execution_count": 34,
   "id": "df7b92d6-42cc-4c20-8e7a-fa213a86d08f",
   "metadata": {},
   "outputs": [
    {
     "name": "stdout",
     "output_type": "stream",
     "text": [
      "92 is greater\n"
     ]
    }
   ],
   "source": [
    "from random import randint\n",
    "n1=randint(1,100)\n",
    "n2=randint(1,100)\n",
    "if n1>n2:\n",
    "    print(f\"{n1} is greater\")\n",
    "else:\n",
    "    print(f\"{n2} is greater\")"
   ]
  },
  {
   "cell_type": "code",
   "execution_count": null,
   "id": "c1c1ea44-f1c8-4c51-8ca3-14f7fe035396",
   "metadata": {},
   "outputs": [],
   "source": [
    "# wap ask the user \n",
    "# enter the course name \n",
    "# enter the institute name\n",
    "# if course name equal to data science\n",
    "# and institute name equal to naresh it\n",
    "# then print we are good\n",
    "# else print not good\n",
    "\n",
    "# step-1: course_name=input()\n",
    "# step-2: inst_name=input()\n",
    "# step-3: if <c1> and <c2>:\n",
    "# step-4:    print\n",
    "# step-5: else:\n",
    "# step-6:    print"
   ]
  },
  {
   "cell_type": "code",
   "execution_count": 39,
   "id": "8af02997-04e5-4814-bc4c-0062ff00b29a",
   "metadata": {},
   "outputs": [
    {
     "name": "stdin",
     "output_type": "stream",
     "text": [
      "Enter course name:  python\n",
      "Enter institute name:  NareshIT\n"
     ]
    },
    {
     "name": "stdout",
     "output_type": "stream",
     "text": [
      "We are good\n"
     ]
    }
   ],
   "source": [
    "\n",
    "course_name = input(\"Enter course name: \")\n",
    "inst_name = input(\"Enter institute name: \")\n",
    "if course_name=='Data Science' or inst_name=='NareshIT':\n",
    "    print(\"We are good\")\n",
    "else:\n",
    "    print(\"Khatam your zindagi\")"
   ]
  },
  {
   "cell_type": "code",
   "execution_count": 37,
   "id": "3bbf9a3a-b396-4b45-a4f2-acb5bb0a65bd",
   "metadata": {},
   "outputs": [
    {
     "data": {
      "text/plain": [
       "'data science'"
      ]
     },
     "execution_count": 37,
     "metadata": {},
     "output_type": "execute_result"
    }
   ],
   "source": [
    "'Data science'.lower()"
   ]
  },
  {
   "cell_type": "code",
   "execution_count": null,
   "id": "f4139c2b-8e64-4eb9-ba27-e04e32633416",
   "metadata": {},
   "outputs": [],
   "source": [
    "A  B  A or B\n",
    "T  T   T\n",
    "T  F   T\n",
    "F  T   T\n",
    "F  F   F"
   ]
  },
  {
   "cell_type": "code",
   "execution_count": null,
   "id": "646d864e-e8da-408d-ab33-5cff84ca24b6",
   "metadata": {},
   "outputs": [],
   "source": [
    "# wap ask the user take two numbers\n",
    "# num1 and num2\n",
    "# if both numbers are matched then print we are won\n",
    "# otherwise print we lost\n",
    "\n",
    "# step-1: n1=eval(input('en'))\n",
    "# step-2: n2=eval(input('en'))\n",
    "# step-3: if <condition>:\n",
    "# step-4:      print('we won')\n",
    "# step-5: else:\n",
    "# step-6:     print('we lost')\n",
    "#############################################################################\n",
    "# wap ask the user take one number\n",
    "# another number comes as random integer between 1 to 10\n",
    "# num1 and num2\n",
    "# if both numbers are matched then print we are won\n",
    "# otherwise print we lost\n",
    "\n",
    "# step-1: n1=<random number>\n",
    "# step-2: n2=eval(input('en'))\n",
    "# step-3: if <condition>:\n",
    "# step-4:      print('we won')\n",
    "# step-5: else:\n",
    "# step-6:     print('we lost')\n",
    "##############################################################################\n",
    "#wap ask the user enter a number\n",
    "# print if the number is even or odd\n",
    "\n",
    "# idea == reminder should be zero\n",
    "# step-1: num=eval(input())\n",
    "# step-2: if <con>:\n",
    "# step-3:   print (the given number is even)\n",
    "# step-4: else:\n",
    "# step-5:   print(the given number is odd)\n",
    "################################################################################\n",
    "# wap ask the user enter distance\n",
    "# if distance greater than 25\n",
    "#      ask the charge\n",
    "#      calculate the charge other than25km distance\n",
    "# else\n",
    "#    print free ride\n",
    "\n",
    "# step-1: distance= eval(input(''))\n",
    "# step-2: if <>:\n",
    "# step-3:    charge=eval(input(''))\n",
    "# step-4:    total charge= (d-25)*\n",
    "# step-5: else:\n",
    "# step-6:    print free ride\n",
    "##############################################################################\n",
    "# wap ask the user take two numbers\n",
    "# print which is greater number\n",
    "\n",
    "# step-1: n1= eval(input())\n",
    "# step-2: n2= eval(input())\n",
    "# step-3: if <cond>:\n",
    "# step-4:    print()\n",
    "# step-5: else:\n",
    "# step-6:    print()\n",
    "###################################################################################\n",
    "# wap ask the user \n",
    "# enter the course name \n",
    "# enter the institute name\n",
    "# if course name equal to data science\n",
    "# and institute name equal to naresh it\n",
    "# then print we are good\n",
    "# else print not good\n",
    "\n",
    "# step-1: course_name=input()\n",
    "# step-2: inst_name=input()\n",
    "# step-3: if <c1> and <c2>:\n",
    "# step-4:    print\n",
    "# step-5: else:\n",
    "# step-6:    print"
   ]
  },
  {
   "cell_type": "markdown",
   "id": "3f52a25a-b4b0-4a06-ab1a-d722c449c1a2",
   "metadata": {},
   "source": [
    "**if-elif-else**\n",
    "\n",
    "- when we have two solutions based on one condition\n",
    "\n",
    "- then we can go for if-else\n",
    "\n",
    "- when we have 3 solutions based on two conditions\n",
    "\n",
    "- then we go fot if-elif-else\n",
    "\n",
    "- if needs condtion\n",
    "\n",
    "- elif needs condtion\n",
    "\n",
    "- if and elif both are wrong then will get else output "
   ]
  },
  {
   "cell_type": "code",
   "execution_count": null,
   "id": "4b6c9864-4fd4-4df3-a218-a6a0c1d14496",
   "metadata": {},
   "outputs": [],
   "source": [
    "two conditions: if elif else\n",
    "three cond    : if elif elif else\n",
    "4 cond        : if elif elif elif else\n",
    "\n",
    "# syntax\n",
    "\n",
    "if <condition>:\n",
    "    <write your code>\n",
    "elif <condition>:\n",
    "    <write your code>\n",
    "else:\n",
    "    <write your code>"
   ]
  },
  {
   "cell_type": "code",
   "execution_count": 1,
   "id": "9b0f4ca2-adb6-4614-bdeb-c152e2556b0c",
   "metadata": {},
   "outputs": [
    {
     "name": "stdin",
     "output_type": "stream",
     "text": [
      "enter a number: 20\n"
     ]
    },
    {
     "name": "stdout",
     "output_type": "stream",
     "text": [
      "enter a valid number\n"
     ]
    }
   ],
   "source": [
    "# wap ask the user enter a number\n",
    "# if the number equal to 1 then print one\n",
    "# if the number equal to 2 then print two\n",
    "# if the number equal to 3 then print three\n",
    "# otherwise print enter a valid number\n",
    "num=eval(input('enter a number:'))\n",
    "if num==1:\n",
    "    print(\"one\")\n",
    "elif num==2:\n",
    "    print('two')\n",
    "elif num==3:\n",
    "    print('three')\n",
    "else:\n",
    "    print('enter a valid number')"
   ]
  },
  {
   "cell_type": "code",
   "execution_count": null,
   "id": "0d081091-5b4a-408b-805d-1191ad1212bf",
   "metadata": {},
   "outputs": [],
   "source": [
    "# wap ask the user enter percentage of marks\n",
    "# if marks greater than 75 then print A grade\n",
    "# if marks between 60 to 75 then print B grade\n",
    "# if marks between 45 to 60 then print C grade\n",
    "# if marks between 35 to 45 then print  D grade\n",
    "# otherwise print fail"
   ]
  },
  {
   "cell_type": "code",
   "execution_count": 7,
   "id": "b6c019a3-b667-47aa-a058-556b049f3f94",
   "metadata": {},
   "outputs": [
    {
     "name": "stdin",
     "output_type": "stream",
     "text": [
      "enter the percentage: 22\n"
     ]
    },
    {
     "name": "stdout",
     "output_type": "stream",
     "text": [
      "Fail\n"
     ]
    }
   ],
   "source": [
    "per=eval(input('enter the percentage:'))\n",
    "if per>=75:\n",
    "    print('A grade')\n",
    "elif per<75 and per>=60:\n",
    "    print('B grade')\n",
    "elif per<60 and per>=45:\n",
    "    print('C grade')\n",
    "elif per<45 and per>=35:\n",
    "    print('D grade')\n",
    "else:\n",
    "    print('Fail')"
   ]
  },
  {
   "cell_type": "code",
   "execution_count": 8,
   "id": "5f03b7b1-827c-405f-9b73-e74cde2065d2",
   "metadata": {},
   "outputs": [
    {
     "name": "stdin",
     "output_type": "stream",
     "text": [
      "enter the percentage: 55\n"
     ]
    },
    {
     "name": "stdout",
     "output_type": "stream",
     "text": [
      "C grade\n"
     ]
    }
   ],
   "source": [
    "per=eval(input('enter the percentage:'))\n",
    "if per>=75:    #  45>=75   F\n",
    "    print('A grade')\n",
    "elif per>=60 : # 45>=60  F\n",
    "    print('B grade')\n",
    "elif per>=45: # 45>=45   T# \n",
    "    print('C grade')\n",
    "elif per>=35:\n",
    "    print('D grade')\n",
    "else:\n",
    "    print('Fail')\n",
    "\n",
    "# per = 95\n",
    "# if 95>=75 ===== T\n",
    "# elif 95>=60 === T\n",
    "# elif 95>=45 === True\n",
    "# elif 95>=35 === True\n",
    "# what is the first True it will stop there only"
   ]
  },
  {
   "cell_type": "code",
   "execution_count": 9,
   "id": "a05f9899-078a-4343-ad42-dfd2afb3ad8c",
   "metadata": {},
   "outputs": [
    {
     "name": "stdin",
     "output_type": "stream",
     "text": [
      "enter the age: 27\n"
     ]
    },
    {
     "name": "stdout",
     "output_type": "stream",
     "text": [
      "MA\n"
     ]
    }
   ],
   "source": [
    "# wap ask the user enter age\n",
    "# if age greater than 100 print  unlucky guy\n",
    "# if age between 80 to 100 print super senior citizen\n",
    "# if age between 60 to 80 print ss\n",
    "# if age between 40 to 60 print Aged\n",
    "# if age between 25 to 40 print MA\n",
    "# if age between 15 to 25 print young\n",
    "# otherwise  print  kid\n",
    "age=eval(input('enter the age:'))\n",
    "if age>=100:\n",
    "    print('unlucky')\n",
    "elif age>=80:\n",
    "    print('ssc')\n",
    "elif age>=60:\n",
    "    print('sc')\n",
    "elif age>=40:\n",
    "    print('Aged')\n",
    "elif age>=25:\n",
    "    print('MA')\n",
    "elif age>=15:\n",
    "    print('youth')\n",
    "else:\n",
    "    print('kid')"
   ]
  },
  {
   "cell_type": "code",
   "execution_count": 12,
   "id": "219286f9-6ca2-44d3-a15f-70331d5c0280",
   "metadata": {},
   "outputs": [
    {
     "name": "stdin",
     "output_type": "stream",
     "text": [
      "enter the distance: 5\n"
     ]
    },
    {
     "name": "stdout",
     "output_type": "stream",
     "text": [
      "charge is 20rs for morethan 100km\n",
      "charge is 10rs for between 50km to 100km\n",
      "charge is 5rs for between 25km to 50km\n",
      "free ride for less than 25km\n",
      "free ride\n"
     ]
    }
   ],
   "source": [
    "# wap ask the user enter a distance\n",
    "# if the distance greater than 100\n",
    "#       ask the user enter charge # 20rs\n",
    "#       print the total charge\n",
    "# if the distance between 50 to 100\n",
    "#      ask the user enter charge  # 10rs\n",
    "#      print the total charge\n",
    "#if the distance between 25 to 50\n",
    "#     ask the user enter charge # 5rs\n",
    "#     print the total charge\n",
    "# otherwise  print free ride\n",
    "\n",
    "distance=eval(input('enter the distance:'))\n",
    "print(\"charge is 20rs for morethan 100km\")\n",
    "print(\"charge is 10rs for between 50km to 100km\")\n",
    "print(\"charge is 5rs for between 25km to 50km\")\n",
    "print(\"free ride for less than 25km\")\n",
    "if distance>=100:\n",
    "    charge=eval(input(\"enter the charge:\"))\n",
    "    total_charge=distance*charge\n",
    "    print(f\"the total charge is:{total_charge}\")\n",
    "elif distance>=50:\n",
    "    charge=eval(input(\"enter the charge:\"))\n",
    "    total_charge=distance*charge\n",
    "    print(f\"the total charge is:{total_charge}\")\n",
    "elif distance>=25:\n",
    "    charge=eval(input(\"enter the charge:\"))\n",
    "    total_charge=distance*charge\n",
    "    print(f\"the total charge is:{total_charge}\")\n",
    "else:\n",
    "    print('free ride')"
   ]
  },
  {
   "cell_type": "code",
   "execution_count": 13,
   "id": "5ac6a0c1-9149-4ed8-9d47-e9c070eaa101",
   "metadata": {},
   "outputs": [
    {
     "data": {
      "text/plain": [
       "200"
      ]
     },
     "execution_count": 13,
     "metadata": {},
     "output_type": "execute_result"
    }
   ],
   "source": [
    "a=10\n",
    "b=20\n",
    "a*b"
   ]
  },
  {
   "cell_type": "code",
   "execution_count": null,
   "id": "74f8a591-48f5-44da-9bed-671ca50c55de",
   "metadata": {},
   "outputs": [],
   "source": [
    "# you need to print some statements\n",
    "# time.sleep(1)\n",
    "# print enter 1  for addition\n",
    "# time.sleep(1)\n",
    "# print enter 2 for sub\n",
    "# time.sleep(1)\n",
    "# print enter 3 for mul\n",
    "# time.sleep(1)\n",
    "# print enter 4 for div\n",
    "# n1=enter the number from keyboard\n",
    "# n2= enter the \n",
    "# operation=eval(input('enter the numbers between 1 to 4'))\n",
    "# if operation equla to 1:\n",
    "#      print you choose addition opertaion\n",
    "#     addition of n1+n2\n",
    "# if operation equal to 2:\n",
    "#      print you choose subtraction opertaion\n",
    "#     subtraction of n1-n2"
   ]
  },
  {
   "cell_type": "code",
   "execution_count": 16,
   "id": "66317247-8f44-469e-beb8-7eaee7b6b740",
   "metadata": {},
   "outputs": [
    {
     "name": "stdout",
     "output_type": "stream",
     "text": [
      "For Addition press 1\n",
      "For Subtraction press 2\n",
      "For Multiplication press 3\n",
      "For Division press 4\n"
     ]
    },
    {
     "name": "stdin",
     "output_type": "stream",
     "text": [
      "Enter number between 1 to 4 5\n"
     ]
    },
    {
     "name": "stdout",
     "output_type": "stream",
     "text": [
      "No operation\n"
     ]
    }
   ],
   "source": [
    "from time import sleep\n",
    "print('For Addition press 1')\n",
    "sleep(1)\n",
    "print('For Subtraction press 2')\n",
    "sleep(1)\n",
    "print('For Multiplication press 3')\n",
    "sleep(1)\n",
    "print('For Division press 4')\n",
    "sleep(1)\n",
    "operation=eval(input('Enter number between 1 to 4'))\n",
    "if operation==1:\n",
    "    print('you choose addition operation')\n",
    "    num1=eval(input('enter number:'))\n",
    "    num2=eval(input('enter number:'))\n",
    "    add=num1+num2\n",
    "    print(f'Additon of number is: {add}')\n",
    "elif operation==2:\n",
    "    print('you choose subtraction operation')\n",
    "    num1=eval(input('enter number:'))\n",
    "    num2=eval(input('enter number:'))\n",
    "    sub=num1-num2\n",
    "    print(f'Subtraction of number is: {sub}')\n",
    "elif operation==3:\n",
    "    print('you choose mul operation')\n",
    "    num1=eval(input('enter number:'))\n",
    "    num2=eval(input('enter number:'))\n",
    "    mul=num1*num2\n",
    "    print(f'Mutiplication of number is: {mul}')\n",
    "elif operation==4:\n",
    "    print('you choose divi operation')\n",
    "    num1=eval(input('enter number:'))\n",
    "    num2=eval(input('enter number:'))\n",
    "    div=num1/num2\n",
    "    print(f'Divsion of number is: {div}')\n",
    "else:\n",
    "    print('No operation')"
   ]
  },
  {
   "cell_type": "code",
   "execution_count": 15,
   "id": "6cb88a82-aa1c-4a4f-aa97-41eec6bd11be",
   "metadata": {},
   "outputs": [
    {
     "name": "stdout",
     "output_type": "stream",
     "text": [
      "For Addition press 1\n",
      "For Subtraction press 2\n",
      "For Multiplication press 3\n",
      "For Division press 4\n"
     ]
    },
    {
     "name": "stdin",
     "output_type": "stream",
     "text": [
      "Enter number between 1 to 4 3\n",
      "enter number: 26\n",
      "enter number: 67\n"
     ]
    },
    {
     "name": "stdout",
     "output_type": "stream",
     "text": [
      "you choose mul operation\n",
      "Mutiplication of number is: 1742\n"
     ]
    }
   ],
   "source": [
    "from time import sleep\n",
    "print('For Addition press 1')\n",
    "sleep(1)\n",
    "print('For Subtraction press 2')\n",
    "sleep(1)\n",
    "print('For Multiplication press 3')\n",
    "sleep(1)\n",
    "print('For Division press 4')\n",
    "sleep(1)\n",
    "operation=eval(input('Enter number between 1 to 4'))\n",
    "num1=eval(input('enter number:'))\n",
    "num2=eval(input('enter number:'))\n",
    "if operation==1:\n",
    "    print('you choose addition operation')\n",
    "    add=num1+num2\n",
    "    print(f'Additon of number is: {add}')\n",
    "elif operation==2:\n",
    "    print('you choose subtraction operation')\n",
    "    sub=num1-num2\n",
    "    print(f'Subtraction of number is: {sub}')\n",
    "elif operation==3:\n",
    "    print('you choose mul operation')\n",
    "    mul=num1*num2\n",
    "    print(f'Mutiplication of number is: {mul}')\n",
    "elif operation==4:\n",
    "    print('you choose divi operation')\n",
    "    div=num1/num2\n",
    "    print(f'Divsion of number is: {div}')\n",
    "else:\n",
    "    print('No operation')"
   ]
  },
  {
   "cell_type": "code",
   "execution_count": 18,
   "id": "a86961d0-8bcf-4f5b-8150-c0a300f957c8",
   "metadata": {},
   "outputs": [
    {
     "name": "stdout",
     "output_type": "stream",
     "text": [
      "For Addition press 1\n",
      "For Subtraction press 2\n"
     ]
    }
   ],
   "source": [
    "print('For Addition press 1')\n",
    "sleep(2)\n",
    "print('For Subtraction press 2')"
   ]
  },
  {
   "cell_type": "code",
   "execution_count": 19,
   "id": "f11111a6-e902-4d0a-a668-f2295a8dbc54",
   "metadata": {},
   "outputs": [
    {
     "name": "stdout",
     "output_type": "stream",
     "text": [
      "For Addition press 1\n",
      "For Subtraction press 2\n",
      "For Multiplication press 3\n",
      "For Division press 4\n"
     ]
    },
    {
     "name": "stdin",
     "output_type": "stream",
     "text": [
      "Enter number between 1 to 4 1\n"
     ]
    },
    {
     "name": "stdout",
     "output_type": "stream",
     "text": [
      "No operation\n"
     ]
    }
   ],
   "source": [
    "from time import sleep\n",
    "print('For Addition press 1')\n",
    "sleep(1)\n",
    "print('For Subtraction press 2')\n",
    "sleep(1)\n",
    "print('For Multiplication press 3')\n",
    "sleep(1)\n",
    "print('For Division press 4')\n",
    "sleep(1)\n",
    "operation=input('Enter number between 1 to 4')\n",
    "if operation=='1':\n",
    "    print('you choose addition operation')\n",
    "    num1=eval(input('enter number:'))\n",
    "    num2=eval(input('enter number:'))\n",
    "    add=num1+num2\n",
    "    print(f'Additon of number is: {add}')\n",
    "elif operation=='2':\n",
    "    print('you choose subtraction operation')\n",
    "    num1=eval(input('enter number:'))\n",
    "    num2=eval(input('enter number:'))\n",
    "    sub=num1-num2\n",
    "    print(f'Subtraction of number is: {sub}')\n",
    "elif operation=='3':\n",
    "    print('you choose mul operation')\n",
    "    num1=eval(input('enter number:'))\n",
    "    num2=eval(input('enter number:'))\n",
    "    mul=num1*num2\n",
    "    print(f'Mutiplication of number is: {mul}')\n",
    "elif operation=='4':\n",
    "    print('you choose divi operation')\n",
    "    num1=eval(input('enter number:'))\n",
    "    num2=eval(input('enter number:'))\n",
    "    div=num1/num2\n",
    "    print(f'Divsion of number is: {div}')\n",
    "else:\n",
    "    print('No operation')"
   ]
  },
  {
   "cell_type": "code",
   "execution_count": null,
   "id": "1602e161-b783-4ae2-8ab8-9b7c61953791",
   "metadata": {},
   "outputs": [],
   "source": [
    "# nested if else\n",
    "# try-except\n",
    "# functons\n",
    "# loops \n",
    "===================="
   ]
  },
  {
   "cell_type": "markdown",
   "id": "7444a28d-6090-4751-9719-e39f891365b2",
   "metadata": {},
   "source": [
    "**nested if-else**"
   ]
  },
  {
   "cell_type": "code",
   "execution_count": 3,
   "id": "a454ed41-bf91-49e1-8c39-8a471c500a45",
   "metadata": {},
   "outputs": [
    {
     "name": "stdin",
     "output_type": "stream",
     "text": [
      "enter the number: 0\n"
     ]
    },
    {
     "name": "stdout",
     "output_type": "stream",
     "text": [
      "it is a zero\n"
     ]
    }
   ],
   "source": [
    "# if-elif-else\n",
    "# wap ask the user enter a number\n",
    "# if number greater than zero then print postive number\n",
    "# if number less than zero then print negative number\n",
    "# otherwise print it is a zero \n",
    "\n",
    "num=eval(input(\"enter the number:\"))\n",
    "if num>0:\n",
    "    print(f\"the given {num} is postive\")\n",
    "elif num<0:\n",
    "    print(f\"the given {num} is negative\")\n",
    "else:\n",
    "    print(\"it is a zero\")"
   ]
  },
  {
   "cell_type": "code",
   "execution_count": 6,
   "id": "54d1ab24-7a24-4aca-b13b-a94d3e7bd9d4",
   "metadata": {},
   "outputs": [
    {
     "name": "stdin",
     "output_type": "stream",
     "text": [
      "enter the number: -25\n"
     ]
    },
    {
     "name": "stdout",
     "output_type": "stream",
     "text": [
      "it is a negative number\n"
     ]
    }
   ],
   "source": [
    "# if-elif-else\n",
    "# wap ask the user enter a number\n",
    "# if number greater than or equal zero \n",
    "#      if num equal to zero then print zero\n",
    "#      otherwise print it is a postive\n",
    "# \n",
    "# otherwise print it is a negative\n",
    "num=eval(input(\"enter the number:\"))\n",
    "if num>=0:\n",
    "    if num==0:\n",
    "        print(\"it is a zero\")\n",
    "    else:\n",
    "        print('it is a postive')\n",
    "else:\n",
    "    print(\"it is a negative number\")"
   ]
  },
  {
   "cell_type": "code",
   "execution_count": null,
   "id": "c5cd01ba-5413-4f4e-90b7-34e85301251d",
   "metadata": {},
   "outputs": [],
   "source": [
    "num=eval(input(\"enter the number:\"))\n",
    "if num>0:\n",
    "    print(f\"the given {num} is postive\")\n",
    "elif num<0:\n",
    "    print(f\"the given {num} is negative\")\n",
    "else:\n",
    "    print(\"it is a zero\")\n",
    "################################################################\n",
    "num=eval(input(\"enter the number:\"))\n",
    "if num>=0:\n",
    "    if num==0:\n",
    "        print(\"it is a zero\")\n",
    "    else:\n",
    "        print('it is a postive')\n",
    "else:\n",
    "    print(\"it is a negative number\")"
   ]
  },
  {
   "cell_type": "code",
   "execution_count": null,
   "id": "8f4dc669-865b-49c9-a38c-cd4cd4b65230",
   "metadata": {},
   "outputs": [],
   "source": [
    "# wap ask the user enter a gender\n",
    "# if gender equal to male\n",
    "#    ask the user enter age\n",
    "#    if age greatet than or eqaul to 60 print SC\n",
    "#    if age between 30 to 60  print middale aged man\n",
    "#    if age between 10 to 30  print young man\n",
    "#    otherwise print a boy\n",
    "# if gender equal to female\n",
    "#    ask the user enter age\n",
    "#    if age greatet than or eqaul to 60 print SC\n",
    "#    if age between 30 to 60  print middale aged woman\n",
    "#    if age between 10 to 30  print young girl\n",
    "#    otherwise print a girl\n",
    "# otherwise enter a valid gender"
   ]
  },
  {
   "cell_type": "code",
   "execution_count": null,
   "id": "556fb64f-e483-445f-9e16-4b9de6d825a2",
   "metadata": {},
   "outputs": [],
   "source": [
    "gender=input('enter the gender:')\n",
    "if gender=='male':\n",
    "    age=eval(input(\"enter the age:\"))\n",
    "    if age>=60:\n",
    "        print(\"sc\")\n",
    "    elif age>=30:\n",
    "        print(\"mam\")\n",
    "    elif age>=10:\n",
    "        print(\"yb\")\n",
    "    else:\n",
    "        print(\"boy\")\n",
    "elif gender=='female':\n",
    "    age=eval(input(\"enter the age:\"))\n",
    "    if age>=60:\n",
    "        print(\"sc\")\n",
    "    elif age>=30:\n",
    "        print(\"maw\")\n",
    "    elif age>=10:\n",
    "        print(\"yg\")\n",
    "    else:\n",
    "        print(\"girl\")\n",
    "else:\n",
    "    print(\"enter a valid gender\")"
   ]
  },
  {
   "cell_type": "code",
   "execution_count": 7,
   "id": "29b116b1-27b3-47e7-b3ab-6810afd3d899",
   "metadata": {},
   "outputs": [
    {
     "name": "stdin",
     "output_type": "stream",
     "text": [
      "enter the gender: female\n",
      "enter the age: 65\n"
     ]
    },
    {
     "name": "stdout",
     "output_type": "stream",
     "text": [
      "sc\n"
     ]
    }
   ],
   "source": [
    "gender=input('enter the gender:')\n",
    "if gender=='male':\n",
    "    age=eval(input(\"enter the age:\"))\n",
    "    if age>=60:print(\"sc\")\n",
    "    elif age>=30:print(\"mam\")\n",
    "    elif age>=10:print(\"yb\")\n",
    "    else:print(\"boy\")\n",
    "elif gender=='female':\n",
    "    age=eval(input(\"enter the age:\"))\n",
    "    if age>=60:print(\"sc\")\n",
    "    elif age>=30:print(\"maw\")\n",
    "    elif age>=10:print(\"yg\")\n",
    "    else:print(\"girl\")\n",
    "else:print(\"enter a valid gender\")"
   ]
  },
  {
   "cell_type": "code",
   "execution_count": null,
   "id": "74979e43-e729-40c6-9712-c11a2715e308",
   "metadata": {},
   "outputs": [],
   "source": [
    "eval \n",
    "evaluate ==== math family"
   ]
  },
  {
   "cell_type": "code",
   "execution_count": null,
   "id": "a0ba21ac-3c9b-4904-9d94-9edc70447e36",
   "metadata": {},
   "outputs": [],
   "source": [
    "gender=input(\"enter the gender\") # mistake-1\n",
    "if gender=='male': # mistake -2\n",
    "   age=eval(input(\"enter the age:\"))\n",
    "   if age>=60:\n",
    "      print(\"sc\")\n",
    "    elif age>=30:\n",
    "      print(\"middle aged man\")\n",
    "    elif age>=10:\n",
    "      print(\"young man\")\n",
    "    else: # mistake-3\n",
    "        print(\"boy\")\n",
    "elif gender=='female': # mistake-4\n",
    "    age=eval(input(\"enter the age:\")) # mistake-5\n",
    "      if age>=60\n",
    "        print(\"sc\")\n",
    "      elif age>=30:\n",
    "        print(\"middle aged woman\")\n",
    "      elif age>=10:\n",
    "        print(\"young girl\")\n",
    "      elif\n",
    "        print(\"a girl\")\n",
    "else:\n",
    "    print(\" enter a valid gender\")  "
   ]
  },
  {
   "cell_type": "code",
   "execution_count": 9,
   "id": "3aea526e-5908-4869-aa17-e241981c74e1",
   "metadata": {},
   "outputs": [
    {
     "name": "stdin",
     "output_type": "stream",
     "text": [
      "enter a num: 70\n"
     ]
    },
    {
     "name": "stdout",
     "output_type": "stream",
     "text": [
      "A\n"
     ]
    }
   ],
   "source": [
    "num=eval(input('enter a num:'))\n",
    "if num>=60:\n",
    "    print('A')\n",
    "elif num>=45:\n",
    "    print('B')"
   ]
  },
  {
   "cell_type": "code",
   "execution_count": 10,
   "id": "9acbd29b-b6b5-404f-b681-b740aab6a840",
   "metadata": {},
   "outputs": [
    {
     "name": "stdin",
     "output_type": "stream",
     "text": [
      "enter a num: 95\n"
     ]
    },
    {
     "name": "stdout",
     "output_type": "stream",
     "text": [
      "A\n",
      "B\n"
     ]
    }
   ],
   "source": [
    "num=eval(input('enter a num:'))\n",
    "if num>=60:\n",
    "    print('A')\n",
    "\n",
    "if num>=45:\n",
    "    print('B')"
   ]
  },
  {
   "cell_type": "code",
   "execution_count": 14,
   "id": "dfe376e6-c1f7-47bc-a846-e5d85c72eae6",
   "metadata": {},
   "outputs": [
    {
     "name": "stdin",
     "output_type": "stream",
     "text": [
      "enter your gender: female\n",
      "enter age 89\n"
     ]
    },
    {
     "name": "stdout",
     "output_type": "stream",
     "text": [
      "SC\n"
     ]
    }
   ],
   "source": [
    "gender=input(\"enter your gender:\")\n",
    "if gender=='male':\n",
    "    age=eval(input(\"enter the age\"))\n",
    "    if age>=60:print('SC')\n",
    "    elif age>=30:print('middle aged man')\n",
    "    elif age>=10:print('young man')\n",
    "    else:print('Boy')\n",
    "elif gender=='female':\n",
    "    age=eval(input(\"enter age\"))\n",
    "    if age>=60:print('SC')\n",
    "    elif age>30:print('middle aged Woman')\n",
    "    elif age>10:print('young girl')         \n",
    "    else:print('girl')\n",
    "else:\n",
    "    print('enter valid gender')"
   ]
  },
  {
   "cell_type": "code",
   "execution_count": 24,
   "id": "f95ea9c6-7101-4375-a2bf-92216fde7ef0",
   "metadata": {},
   "outputs": [
    {
     "name": "stdin",
     "output_type": "stream",
     "text": [
      "enter the number1 75\n",
      "enter the number2 50\n",
      "enter the number3 25\n"
     ]
    },
    {
     "name": "stdout",
     "output_type": "stream",
     "text": [
      "75 is greater\n"
     ]
    }
   ],
   "source": [
    "# wap ask the user take three numbers\n",
    "# find the biggest number\n",
    "num1 = eval(input(\"enter the number1\"))\n",
    "num2 = eval(input(\"enter the number2\"))\n",
    "num3 = eval(input(\"enter the number3\"))\n",
    "if num1>num2:  \n",
    "    if num1>num3: \n",
    "        print(f'{num1} is greater')\n",
    "    else:\n",
    "        print(f\"{num3} is greater\")\n",
    "elif num2>num3:\n",
    "    print(f\"{num2}\")\n",
    "else:\n",
    "    print(f\"{num3} is greater\")"
   ]
  },
  {
   "cell_type": "code",
   "execution_count": 19,
   "id": "38eb1ea8-946d-4568-9b1f-97b3c4479d43",
   "metadata": {},
   "outputs": [
    {
     "name": "stdin",
     "output_type": "stream",
     "text": [
      "enter the number1 50\n",
      "enter the number2 55\n",
      "enter the number3 75\n"
     ]
    },
    {
     "name": "stdout",
     "output_type": "stream",
     "text": [
      "75\n"
     ]
    }
   ],
   "source": [
    "num1 = eval(input(\"enter the number1\"))\n",
    "num2 = eval(input(\"enter the number2\"))\n",
    "num3 = eval(input(\"enter the number3\"))\n",
    "if num1>num2 and num1>num3:\n",
    "    print(f'{num1} is greater')\n",
    "elif num2>num3:\n",
    "    print(f\"{num2}\")\n",
    "else:\n",
    "    print(f\"{num3}\")"
   ]
  },
  {
   "cell_type": "code",
   "execution_count": 25,
   "id": "920c06da-3757-4ee8-82b2-a894b99022d8",
   "metadata": {},
   "outputs": [
    {
     "name": "stdin",
     "output_type": "stream",
     "text": [
      "Enter 1st Number:  1\n",
      "Enter 2nd Number:  2\n",
      "Enter 3rd Number:  3\n"
     ]
    },
    {
     "name": "stdout",
     "output_type": "stream",
     "text": [
      "Greatest Number is 3\n"
     ]
    }
   ],
   "source": [
    "a = int(input(\"Enter 1st Number: \"))\n",
    "b = int(input(\"Enter 2nd Number: \"))\n",
    "c = int(input(\"Enter 3rd Number: \"))\n",
    "\n",
    "if (a > b):\n",
    "    if(a > c):\n",
    "        print(f\"Greatest Number is {a}\")\n",
    "    else:\n",
    "        print(f\"Greatest Number is {c}\")\n",
    "else:\n",
    "    if(b > c):\n",
    "        print(f\"Greatest Number is {b}\")\n",
    "    else:\n",
    "        print(f\"Greatest Number is {c}\")"
   ]
  },
  {
   "cell_type": "code",
   "execution_count": null,
   "id": "ff9b87d5-fb8f-4309-a580-26df8dfc853f",
   "metadata": {},
   "outputs": [],
   "source": [
    "num1 = eval(input(\"enter the number1\"))\n",
    "num2 = eval(input(\"enter the number2\"))\n",
    "num3 = eval(input(\"enter the number3\"))\n",
    "if num1>num2:  # 50>45\n",
    "    if num1>num3:# 50>75\n",
    "        print(f'{num1} is greater')\n",
    "    else:\n",
    "        print(f\"{num3} is greater\")       \n",
    "else:\n",
    "    print(f\"{num2} is greater\")\n",
    "\n",
    "###################################################\n",
    "if num1>num2 and num1>num3:\n",
    "    print(f'{num1} is greater')\n",
    "elif num2>num3:\n",
    "    print(f\"{num2}\")\n",
    "else:\n",
    "    print(f\"{num3}\")"
   ]
  },
  {
   "cell_type": "code",
   "execution_count": 29,
   "id": "e842d556-c034-4892-8543-1c0f3cbabef6",
   "metadata": {},
   "outputs": [
    {
     "name": "stdin",
     "output_type": "stream",
     "text": [
      "enter a number: 45\n",
      "enter a number: 50\n",
      "enter a number: 76\n"
     ]
    },
    {
     "name": "stdout",
     "output_type": "stream",
     "text": [
      "76 is greater\n"
     ]
    }
   ],
   "source": [
    "num1=eval(input('enter a number:'))\n",
    "num2=eval(input('enter a number:'))\n",
    "num3=eval(input('enter a number:'))\n",
    "if num1>num2: \n",
    "    if num1>num3:\n",
    "        print(f'{num1} is greater')\n",
    "    else:\n",
    "        print(f'{num3} is greater')\n",
    "elif num2>num3:\n",
    "    print(f'{num2} is greater')\n",
    "else:\n",
    "    print(f'{num3} is greater')"
   ]
  },
  {
   "cell_type": "code",
   "execution_count": 31,
   "id": "18bbd07d-c0f2-4c83-83c9-9d08e724d3c6",
   "metadata": {},
   "outputs": [
    {
     "name": "stdin",
     "output_type": "stream",
     "text": [
      "enter the number1: 45\n",
      "enter the number2: 67\n",
      "enter the number3: 89\n"
     ]
    },
    {
     "name": "stdout",
     "output_type": "stream",
     "text": [
      "89 is biggest\n"
     ]
    }
   ],
   "source": [
    "a=eval(input('enter the number1:'))\n",
    "b=eval(input('enter the number2:'))\n",
    "c=eval(input('enter the number3:'))\n",
    "if a>b and a>c:\n",
    "    print(f'{a} is biggest')\n",
    "elif b>c and b>a:\n",
    "    print(f'{b} is biggest')\n",
    "elif c>a and c>b:\n",
    "    print(f'{c} is biggest')"
   ]
  },
  {
   "cell_type": "code",
   "execution_count": 34,
   "id": "1ab83f86-8553-4554-a3c2-ccd749e1b926",
   "metadata": {},
   "outputs": [
    {
     "name": "stdin",
     "output_type": "stream",
     "text": [
      "enter the number1: 1\n",
      "enter the number2: 2\n",
      "eneter the number3: 3\n"
     ]
    },
    {
     "name": "stdout",
     "output_type": "stream",
     "text": [
      "3 is graeter\n"
     ]
    }
   ],
   "source": [
    "num1=eval(input(\"enter the number1:\"))\n",
    "num2=eval(input(\"enter the number2:\"))\n",
    "num3=eval(input(\"eneter the number3:\"))\n",
    "if num1>num2)\n",
    "   if num1>num3:\n",
    "      print(f\"{num1} is greater\")\n",
    "   else:\n",
    "      print(f\"{num3} is graeter\")\n",
    "elif num2>num3:\n",
    "  print(f\"{num2} is greater\")\n",
    "else: \n",
    "  print(f\"{num3} is graeter\")"
   ]
  },
  {
   "cell_type": "code",
   "execution_count": null,
   "id": "fe261bc3-65c0-49aa-a60b-ad3d9085341e",
   "metadata": {},
   "outputs": [],
   "source": []
  }
 ],
 "metadata": {
  "kernelspec": {
   "display_name": "Python 3 (ipykernel)",
   "language": "python",
   "name": "python3"
  },
  "language_info": {
   "codemirror_mode": {
    "name": "ipython",
    "version": 3
   },
   "file_extension": ".py",
   "mimetype": "text/x-python",
   "name": "python",
   "nbconvert_exporter": "python",
   "pygments_lexer": "ipython3",
   "version": "3.12.7"
  }
 },
 "nbformat": 4,
 "nbformat_minor": 5
}
