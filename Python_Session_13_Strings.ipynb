{
 "cells": [
  {
   "cell_type": "code",
   "execution_count": null,
   "id": "bf73dcb3-f842-49f1-92f7-5cb4c48a5e22",
   "metadata": {},
   "outputs": [],
   "source": [
    "- Python Variables\n",
    "\n",
    "- data types\n",
    "\n",
    "- type casting\n",
    "\n",
    "- print statement\n",
    "\n",
    "    - end\n",
    "\n",
    "    - sep\n",
    "\n",
    "    - f string\n",
    "\n",
    "    - format\n",
    "\n",
    "- eval \n",
    "\n",
    "- input\n",
    "\n",
    "- round\n",
    "\n",
    "- package information\n",
    "\n",
    "- Basic codes\n",
    "\n",
    "- Conditional statements\n",
    "\n",
    "- try-except\n",
    "\n",
    "- Functions\n",
    "\n",
    "    - with out argument\n",
    "\n",
    "    - with argument\n",
    "\n",
    "    - default argumnet\n",
    "\n",
    "    - local vs global\n",
    "\n",
    "    - return\n",
    "\n",
    "    - function in functions\n",
    "\n",
    "- Loop\n",
    "\n",
    "    - for \n",
    "\n",
    "    - while\n",
    "================================================================================\n",
    "\n",
    "- String\n",
    "\n",
    "- list\n",
    "\n",
    "- tuple\n",
    "\n",
    "- dictionary\n",
    "\n",
    "- set operations\n",
    "\n",
    "- list comprehension\n",
    "\n",
    "- lambda functions\n",
    "\n",
    "- File handling\n",
    "=====================================================\n",
    "\n",
    "        "
   ]
  },
  {
   "cell_type": "code",
   "execution_count": null,
   "id": "494374fa-cdca-4040-bb26-0347cd76b8b1",
   "metadata": {},
   "outputs": [],
   "source": [
    "## Strings\n",
    "=================== PART-1==========================\n",
    "- How to intialize the strings\n",
    "\n",
    "- in built functions\n",
    "\n",
    "    - type\n",
    "\n",
    "    - print\n",
    "\n",
    "    - len\n",
    "\n",
    "    - max\n",
    "\n",
    "    - min\n",
    "\n",
    "    - reversed\n",
    "\n",
    "    - sorted\n",
    "\n",
    "- index operation \n",
    "\n",
    "- concatenation\n",
    "\n",
    "- mutable vs immutable\n",
    "\n",
    "- slicing\n",
    "\n",
    "===================== PART-2 =====================\n",
    "string methods"
   ]
  },
  {
   "cell_type": "markdown",
   "id": "5243ed77-3d73-4c4f-a9cc-df5173b5b13b",
   "metadata": {},
   "source": [
    "**Intialization**\n",
    "\n",
    "- strings represnt with single quotes\n",
    "\n",
    "- strings represnt with double quotes\n",
    "\n",
    "- strings represnt with triple quotes\n",
    "\n",
    "- when you print a string , the output shows as with out quotes\n",
    "\n",
    "- A string represnt with triple quotes : **Doc string**\n",
    "\n",
    "- If you want highlite any word in entire string\n",
    "\n",
    "    - provide the entire string in double quotes and highlight the word with single quotes vice versa"
   ]
  },
  {
   "cell_type": "code",
   "execution_count": 1,
   "id": "6747d8ce-8268-4ac4-9ffa-f15927dd50c8",
   "metadata": {},
   "outputs": [],
   "source": [
    "str1='python'"
   ]
  },
  {
   "cell_type": "code",
   "execution_count": 2,
   "id": "112d078b-86d3-48a9-98f2-b7172f81f370",
   "metadata": {},
   "outputs": [
    {
     "data": {
      "text/plain": [
       "str"
      ]
     },
     "execution_count": 2,
     "metadata": {},
     "output_type": "execute_result"
    }
   ],
   "source": [
    "type(str1)"
   ]
  },
  {
   "cell_type": "code",
   "execution_count": 3,
   "id": "9b2f046b-f001-4687-8552-1b40a18edebc",
   "metadata": {},
   "outputs": [
    {
     "data": {
      "text/plain": [
       "'python'"
      ]
     },
     "execution_count": 3,
     "metadata": {},
     "output_type": "execute_result"
    }
   ],
   "source": [
    "str2=\"python\"\n",
    "str2"
   ]
  },
  {
   "cell_type": "code",
   "execution_count": 4,
   "id": "2bf00e10-84c9-4eff-91e7-c5e82d8d7888",
   "metadata": {},
   "outputs": [
    {
     "data": {
      "text/plain": [
       "str"
      ]
     },
     "execution_count": 4,
     "metadata": {},
     "output_type": "execute_result"
    }
   ],
   "source": [
    "type(str2)"
   ]
  },
  {
   "cell_type": "markdown",
   "id": "3ae3feb4-7e84-4e5c-870f-10cec9fa0dcd",
   "metadata": {},
   "source": [
    "**doc string**"
   ]
  },
  {
   "cell_type": "code",
   "execution_count": 9,
   "id": "d8e4d6e0-129c-4a19-9d57-9f45e4481b80",
   "metadata": {},
   "outputs": [
    {
     "name": "stdout",
     "output_type": "stream",
     "text": [
      "hello python\n",
      "many students not coming to lab\n",
      "today come to their dreams\n"
     ]
    }
   ],
   "source": [
    "str3=\"\"\"hello python\n",
    "many students not coming to lab\n",
    "today come to their dreams\"\"\"\n",
    "\n",
    "print(str3)"
   ]
  },
  {
   "cell_type": "code",
   "execution_count": 10,
   "id": "f46e2183-a255-450d-833f-414f752bb4b3",
   "metadata": {},
   "outputs": [
    {
     "data": {
      "text/plain": [
       "\"I like 'python'\""
      ]
     },
     "execution_count": 10,
     "metadata": {},
     "output_type": "execute_result"
    }
   ],
   "source": [
    "str4=\"I like 'python'\"\n",
    "str4"
   ]
  },
  {
   "cell_type": "code",
   "execution_count": 11,
   "id": "62b412d3-5883-4d77-971f-b7d38539918c",
   "metadata": {},
   "outputs": [
    {
     "name": "stdout",
     "output_type": "stream",
     "text": [
      "I like 'python'\n"
     ]
    }
   ],
   "source": [
    "print(str4)"
   ]
  },
  {
   "cell_type": "code",
   "execution_count": 12,
   "id": "d9b5ef15-5514-47e3-935b-420b873fc9ed",
   "metadata": {},
   "outputs": [
    {
     "data": {
      "text/plain": [
       "'I like \"python\"'"
      ]
     },
     "execution_count": 12,
     "metadata": {},
     "output_type": "execute_result"
    }
   ],
   "source": [
    "str5='I like \"python\"'\n",
    "str5"
   ]
  },
  {
   "cell_type": "code",
   "execution_count": 13,
   "id": "8f9e1b13-40d3-4134-873a-7ba98c427628",
   "metadata": {},
   "outputs": [
    {
     "name": "stdout",
     "output_type": "stream",
     "text": [
      "I like \"python\"\n"
     ]
    }
   ],
   "source": [
    "print(str5)"
   ]
  },
  {
   "cell_type": "markdown",
   "id": "c0065daa-eaf7-4345-a7ed-1d853ed510ee",
   "metadata": {},
   "source": [
    "**some inbuilt functions**"
   ]
  },
  {
   "cell_type": "code",
   "execution_count": null,
   "id": "d1ac7cd7-2ad8-4997-b156-ac87a923a293",
   "metadata": {},
   "outputs": [],
   "source": [
    "max()\n",
    "min()\n",
    "len()\n",
    "print(\"python\")\n",
    "type(\"python\")\n",
    "reveresd()\n",
    "sorted()\n"
   ]
  },
  {
   "cell_type": "code",
   "execution_count": 19,
   "id": "8b9ed74a-d127-46b5-8d52-fee08a429c11",
   "metadata": {},
   "outputs": [],
   "source": [
    "str1='python '"
   ]
  },
  {
   "cell_type": "code",
   "execution_count": 20,
   "id": "93edab1e-20e8-4106-904f-ec0cfc839ff3",
   "metadata": {},
   "outputs": [
    {
     "data": {
      "text/plain": [
       "'y'"
      ]
     },
     "execution_count": 20,
     "metadata": {},
     "output_type": "execute_result"
    }
   ],
   "source": [
    "max(str1)\n",
    "# Because of ASCII"
   ]
  },
  {
   "cell_type": "code",
   "execution_count": 21,
   "id": "87659ec2-5511-47d1-beee-22a7b926430b",
   "metadata": {},
   "outputs": [
    {
     "name": "stdout",
     "output_type": "stream",
     "text": [
      "p 112\n",
      "y 121\n",
      "t 116\n",
      "h 104\n",
      "o 111\n",
      "n 110\n",
      "  32\n"
     ]
    }
   ],
   "source": [
    "for i in str1:\n",
    "    print(i,ord(i))"
   ]
  },
  {
   "cell_type": "code",
   "execution_count": null,
   "id": "9e7eaa40-6573-4d41-9b34-39e3cf62debc",
   "metadata": {},
   "outputs": [],
   "source": []
  },
  {
   "cell_type": "code",
   "execution_count": null,
   "id": "3860c6c0-0121-4b32-af8b-3e7e039ccca4",
   "metadata": {},
   "outputs": [],
   "source": [
    "max= 121====='y'\n",
    "min= 32 === ''\n",
    "32,104,110,111,112,116,121\n",
    "'' h   n   o   p   t   y (ascending order)"
   ]
  },
  {
   "cell_type": "code",
   "execution_count": 22,
   "id": "1a4e6a84-8eea-4402-a0b3-f7e2c735debe",
   "metadata": {},
   "outputs": [
    {
     "data": {
      "text/plain": [
       "' '"
      ]
     },
     "execution_count": 22,
     "metadata": {},
     "output_type": "execute_result"
    }
   ],
   "source": [
    "min(str1)"
   ]
  },
  {
   "cell_type": "code",
   "execution_count": 23,
   "id": "110ab953-8624-441d-a25c-16e26def4de8",
   "metadata": {},
   "outputs": [
    {
     "data": {
      "text/plain": [
       "'h'"
      ]
     },
     "execution_count": 23,
     "metadata": {},
     "output_type": "execute_result"
    }
   ],
   "source": [
    "min('python')"
   ]
  },
  {
   "cell_type": "code",
   "execution_count": 24,
   "id": "3b87b3e9-5968-4be1-9346-fa73f083d2a6",
   "metadata": {},
   "outputs": [
    {
     "data": {
      "text/plain": [
       "'A'"
      ]
     },
     "execution_count": 24,
     "metadata": {},
     "output_type": "execute_result"
    }
   ],
   "source": [
    "min('NAndu')"
   ]
  },
  {
   "cell_type": "code",
   "execution_count": 25,
   "id": "c5b2b514-f778-42bd-9b84-121a9013d84a",
   "metadata": {},
   "outputs": [
    {
     "data": {
      "text/plain": [
       "6"
      ]
     },
     "execution_count": 25,
     "metadata": {},
     "output_type": "execute_result"
    }
   ],
   "source": [
    "str1='python'\n",
    "len(str1)"
   ]
  },
  {
   "cell_type": "code",
   "execution_count": 28,
   "id": "6a63c6dc-f956-4733-bd37-a187081a0dfd",
   "metadata": {},
   "outputs": [
    {
     "data": {
      "text/plain": [
       "2"
      ]
     },
     "execution_count": 28,
     "metadata": {},
     "output_type": "execute_result"
    }
   ],
   "source": [
    "str2='  '\n",
    "len(str2)"
   ]
  },
  {
   "cell_type": "code",
   "execution_count": 29,
   "id": "caedcf24-2134-43be-ad28-da7ea649e97e",
   "metadata": {},
   "outputs": [
    {
     "name": "stdout",
     "output_type": "stream",
     "text": [
      "  \n"
     ]
    }
   ],
   "source": [
    "print(str2)"
   ]
  },
  {
   "cell_type": "code",
   "execution_count": 30,
   "id": "e28d676f-d620-4322-9d3e-b6401f34d80d",
   "metadata": {},
   "outputs": [
    {
     "name": "stdout",
     "output_type": "stream",
     "text": [
      "python\n",
      " python\n"
     ]
    }
   ],
   "source": [
    "print('python')\n",
    "print(' python')"
   ]
  },
  {
   "cell_type": "code",
   "execution_count": null,
   "id": "5161117e-668a-4507-951b-d4062aa8538e",
   "metadata": {},
   "outputs": [],
   "source": [
    "max\n",
    "\n",
    "min\n",
    "\n",
    "len\n",
    "\n"
   ]
  },
  {
   "cell_type": "markdown",
   "id": "37cbfde5-5f50-432e-b486-347883d44295",
   "metadata": {},
   "source": [
    "**sorted**"
   ]
  },
  {
   "cell_type": "markdown",
   "id": "b6529c7c-1ee3-427b-adc8-f7153f6a5d29",
   "metadata": {},
   "source": [
    "- sorted means sorting the letters based on ascii number\n",
    "\n",
    "- there two possible sortings avialble\n",
    "\n",
    "    - ascending : small to high\n",
    "\n",
    "    - descending: high to small"
   ]
  },
  {
   "cell_type": "code",
   "execution_count": 31,
   "id": "780ead19-0b5c-453e-8f0f-7f2142ddac19",
   "metadata": {},
   "outputs": [
    {
     "data": {
      "text/plain": [
       "['h', 'n', 'o', 'p', 't', 'y']"
      ]
     },
     "execution_count": 31,
     "metadata": {},
     "output_type": "execute_result"
    }
   ],
   "source": [
    "str1='python'\n",
    "sorted(str1) # by default ascending order"
   ]
  },
  {
   "cell_type": "markdown",
   "id": "010b13f7-1479-45ee-b774-7d46b0c7e2fd",
   "metadata": {},
   "source": [
    "- when you apply the shift tab \n",
    "\n",
    "- there is some arguments will be available\n",
    "\n",
    "- Focus on two arguments\n",
    "\n",
    "    - iterable\n",
    "\n",
    "    - reverse=False\n",
    "\n",
    "- because reverse is a default argument by default acsending order is coming\n",
    "\n",
    "- if you want to change the order then change the default parameter value\n",
    "\n"
   ]
  },
  {
   "cell_type": "code",
   "execution_count": 33,
   "id": "e3f05fea-8202-439c-9fe7-6e1fd801a336",
   "metadata": {},
   "outputs": [
    {
     "data": {
      "text/plain": [
       "['y', 't', 'p', 'o', 'n', 'h']"
      ]
     },
     "execution_count": 33,
     "metadata": {},
     "output_type": "execute_result"
    }
   ],
   "source": [
    "sorted(str1,reverse=True)"
   ]
  },
  {
   "cell_type": "code",
   "execution_count": null,
   "id": "641aa724-de52-4a56-a8a1-f2194a30c8ac",
   "metadata": {},
   "outputs": [],
   "source": [
    "sorted(iterable=str1,reverse=False)  # Fail\n",
    "sorted(iterable=str1,False) # Fail\n",
    "sorted(str1,False) # Fail\n",
    "sorted(str1,reverse=True) # Working"
   ]
  },
  {
   "cell_type": "code",
   "execution_count": null,
   "id": "818cb0ef-f8e9-4c63-9d4d-ca151a6137da",
   "metadata": {},
   "outputs": [],
   "source": [
    "sorted(str1,reverse=True)"
   ]
  },
  {
   "cell_type": "markdown",
   "id": "52a0e21e-0117-4811-8a56-e22b16303925",
   "metadata": {},
   "source": [
    "- we should not allowed to use iterable argument name while provide the value\n",
    "\n",
    "- we should use the argument names while provide the value after '/'\n",
    "\n",
    "- we should not use the argument names before '/'\n",
    "\n",
    "    - iterable argument name is there before '/'\n",
    "\n",
    "    - so do not use iterable name\n"
   ]
  },
  {
   "cell_type": "markdown",
   "id": "524a5f81-947b-40a6-8f08-80ca2ed88d07",
   "metadata": {},
   "source": [
    "- any function indicates * means \n",
    "\n",
    "- you can use any variable after *\n",
    "\n",
    "- after * there are two arguments are there\n",
    "\n",
    "    - key\n",
    "\n",
    "    - reverse\n",
    "\n",
    "- you can use both\n",
    "\n",
    "- you can use anyone\n",
    "\n",
    "- you no need to use anything"
   ]
  },
  {
   "cell_type": "code",
   "execution_count": null,
   "id": "b0936483-724e-4295-9aae-64887e859154",
   "metadata": {},
   "outputs": [],
   "source": [
    "sorted('hello') # Works\n",
    "sorted(iterable='hello') # Fail"
   ]
  },
  {
   "cell_type": "code",
   "execution_count": 34,
   "id": "9b414cbd-2d11-4f04-a0c6-330cd3f5027e",
   "metadata": {},
   "outputs": [
    {
     "data": {
      "text/plain": [
       "['e', 'h', 'l', 'l', 'o']"
      ]
     },
     "execution_count": 34,
     "metadata": {},
     "output_type": "execute_result"
    }
   ],
   "source": [
    "sorted('hello')"
   ]
  },
  {
   "cell_type": "code",
   "execution_count": 35,
   "id": "5cf80cc7-3c50-48da-b3a2-1d8325ab1e70",
   "metadata": {},
   "outputs": [
    {
     "data": {
      "text/plain": [
       "['o', 'l', 'l', 'h', 'e']"
      ]
     },
     "execution_count": 35,
     "metadata": {},
     "output_type": "execute_result"
    }
   ],
   "source": [
    "sorted('hello',reverse=True)"
   ]
  },
  {
   "cell_type": "code",
   "execution_count": null,
   "id": "e96eca57-7f64-4d0f-a269-bb2c3a479c2e",
   "metadata": {},
   "outputs": [],
   "source": [
    "# ascii value it is giving the order"
   ]
  },
  {
   "cell_type": "code",
   "execution_count": 36,
   "id": "e2285b0f-0cb6-4a3c-9407-197a121d4d97",
   "metadata": {},
   "outputs": [
    {
     "data": {
      "text/plain": [
       "['h', 'e', 'l', 'l', 'o']"
      ]
     },
     "execution_count": 36,
     "metadata": {},
     "output_type": "execute_result"
    }
   ],
   "source": [
    "sorted('hello',key=len) # you will not understand now"
   ]
  },
  {
   "cell_type": "code",
   "execution_count": 38,
   "id": "579e1835-2905-4edc-b255-9f55c4ba0fa9",
   "metadata": {},
   "outputs": [
    {
     "data": {
      "text/plain": [
       "['h', 'e', 'l', 'l', 'o']"
      ]
     },
     "execution_count": 38,
     "metadata": {},
     "output_type": "execute_result"
    }
   ],
   "source": [
    "sorted('hello',reverse=True,key=len)"
   ]
  },
  {
   "cell_type": "code",
   "execution_count": 37,
   "id": "c3017033-21a5-4f9e-9395-b38b98d7fdde",
   "metadata": {},
   "outputs": [
    {
     "name": "stdout",
     "output_type": "stream",
     "text": [
      "3000\n",
      "4000\n",
      "5100\n",
      "6200\n",
      "300\n"
     ]
    }
   ],
   "source": [
    "def add(a=100,b=200):\n",
    "    print(a+b)\n",
    "\n",
    "add(a=1000,b=2000)\n",
    "add(b=3000,a=1000)\n",
    "add(b=5000)\n",
    "add(a=6000)\n",
    "add()"
   ]
  },
  {
   "cell_type": "markdown",
   "id": "6eac96e7-3c31-4509-aee8-08d10388120a",
   "metadata": {},
   "source": [
    "**reveresd**"
   ]
  },
  {
   "cell_type": "code",
   "execution_count": null,
   "id": "8cba188d-b221-4170-8bcf-d2e4503099db",
   "metadata": {},
   "outputs": [],
   "source": [
    "vscode ===== we dont have markdown\n",
    "if you want to write any information\n",
    "then we can use triple quotes "
   ]
  },
  {
   "cell_type": "code",
   "execution_count": 41,
   "id": "b4fefe74-917f-41ef-af54-bc7099a0881d",
   "metadata": {},
   "outputs": [],
   "source": [
    "str1='python'\n",
    "ans=reversed(str1)"
   ]
  },
  {
   "cell_type": "code",
   "execution_count": 42,
   "id": "0bb3ad4a-b4c0-47bc-be1b-1f3c4363266d",
   "metadata": {},
   "outputs": [
    {
     "data": {
      "text/plain": [
       "reversed"
      ]
     },
     "execution_count": 42,
     "metadata": {},
     "output_type": "execute_result"
    }
   ],
   "source": [
    "type(ans)"
   ]
  },
  {
   "cell_type": "code",
   "execution_count": 43,
   "id": "a6b8db84-bc55-4d9e-8cad-f5f2fc04692f",
   "metadata": {},
   "outputs": [
    {
     "data": {
      "text/plain": [
       "<reversed at 0x16e9eb70040>"
      ]
     },
     "execution_count": 43,
     "metadata": {},
     "output_type": "execute_result"
    }
   ],
   "source": [
    "ans=reversed(str1)\n",
    "# the output is stored a memory location\n",
    "# whenever you want to see the output\n",
    "# use a list or for loop"
   ]
  },
  {
   "cell_type": "code",
   "execution_count": 44,
   "id": "d3e19af5-e4b5-4816-94aa-c6b44df1d863",
   "metadata": {},
   "outputs": [
    {
     "name": "stdout",
     "output_type": "stream",
     "text": [
      "n\n",
      "o\n",
      "h\n",
      "t\n",
      "y\n",
      "p\n"
     ]
    }
   ],
   "source": [
    "str1='python'\n",
    "ans=reversed(str1)\n",
    "for i in ans:\n",
    "    print(i)"
   ]
  },
  {
   "cell_type": "code",
   "execution_count": 46,
   "id": "a547986d-72ec-43c4-8224-2f2a1e688658",
   "metadata": {},
   "outputs": [
    {
     "data": {
      "text/plain": [
       "['n', 'o', 'h', 't', 'y', 'p']"
      ]
     },
     "execution_count": 46,
     "metadata": {},
     "output_type": "execute_result"
    }
   ],
   "source": [
    "ans=reversed(str1)\n",
    "list(ans)"
   ]
  },
  {
   "cell_type": "markdown",
   "id": "7da6f987-8fa6-4b16-ac63-f844f3e10f58",
   "metadata": {},
   "source": [
    "**concatenation**"
   ]
  },
  {
   "cell_type": "code",
   "execution_count": null,
   "id": "1b7fd0d2-e106-4459-9bcb-d573d9fdff8e",
   "metadata": {},
   "outputs": [],
   "source": [
    "str1='hello'\n",
    "str2='python'\n",
    "str1+str2\n",
    "str1*str2\n",
    "str1-str2\n",
    "str1/str2"
   ]
  },
  {
   "cell_type": "code",
   "execution_count": 47,
   "id": "e7f92e30-6e0f-4ff2-9e4f-86c07c8aa2a1",
   "metadata": {},
   "outputs": [
    {
     "data": {
      "text/plain": [
       "'python  '"
      ]
     },
     "execution_count": 47,
     "metadata": {},
     "output_type": "execute_result"
    }
   ],
   "source": [
    "str1+str2"
   ]
  },
  {
   "cell_type": "code",
   "execution_count": 48,
   "id": "47b89ac9-1060-429b-a244-985d3710f2c6",
   "metadata": {},
   "outputs": [
    {
     "ename": "TypeError",
     "evalue": "unsupported operand type(s) for -: 'str' and 'str'",
     "output_type": "error",
     "traceback": [
      "\u001b[1;31m---------------------------------------------------------------------------\u001b[0m",
      "\u001b[1;31mTypeError\u001b[0m                                 Traceback (most recent call last)",
      "Cell \u001b[1;32mIn[48], line 1\u001b[0m\n\u001b[1;32m----> 1\u001b[0m str1\u001b[38;5;241m-\u001b[39mstr2\n",
      "\u001b[1;31mTypeError\u001b[0m: unsupported operand type(s) for -: 'str' and 'str'"
     ]
    }
   ],
   "source": [
    "str1-str2"
   ]
  },
  {
   "cell_type": "code",
   "execution_count": 49,
   "id": "ad02e01d-df5c-4ff2-bd68-b39946d6f708",
   "metadata": {},
   "outputs": [
    {
     "ename": "TypeError",
     "evalue": "unsupported operand type(s) for /: 'str' and 'str'",
     "output_type": "error",
     "traceback": [
      "\u001b[1;31m---------------------------------------------------------------------------\u001b[0m",
      "\u001b[1;31mTypeError\u001b[0m                                 Traceback (most recent call last)",
      "Cell \u001b[1;32mIn[49], line 1\u001b[0m\n\u001b[1;32m----> 1\u001b[0m str1\u001b[38;5;241m/\u001b[39mstr2\n",
      "\u001b[1;31mTypeError\u001b[0m: unsupported operand type(s) for /: 'str' and 'str'"
     ]
    }
   ],
   "source": [
    "str1/str2"
   ]
  },
  {
   "cell_type": "code",
   "execution_count": 50,
   "id": "39e14728-e3f4-41d2-9b2d-70bd9189d80d",
   "metadata": {},
   "outputs": [
    {
     "ename": "TypeError",
     "evalue": "can't multiply sequence by non-int of type 'str'",
     "output_type": "error",
     "traceback": [
      "\u001b[1;31m---------------------------------------------------------------------------\u001b[0m",
      "\u001b[1;31mTypeError\u001b[0m                                 Traceback (most recent call last)",
      "Cell \u001b[1;32mIn[50], line 1\u001b[0m\n\u001b[1;32m----> 1\u001b[0m str1\u001b[38;5;241m*\u001b[39mstr2\n",
      "\u001b[1;31mTypeError\u001b[0m: can't multiply sequence by non-int of type 'str'"
     ]
    }
   ],
   "source": [
    "str1*str2"
   ]
  },
  {
   "cell_type": "code",
   "execution_count": null,
   "id": "fdb15e29-5679-4719-a698-e9a9f066b5c5",
   "metadata": {},
   "outputs": [],
   "source": [
    "TypeError: unsupported operand type(s) for -: 'str' and 'str'\n",
    "TypeError: unsupported operand type(s) for /: 'str' and 'str'\n",
    "TypeError: can't multiply sequence by non-int of type 'str'"
   ]
  },
  {
   "cell_type": "code",
   "execution_count": 51,
   "id": "bcaaaec2-65cc-4579-9726-6337c4d67b0d",
   "metadata": {},
   "outputs": [
    {
     "data": {
      "text/plain": [
       "'pythonpython'"
      ]
     },
     "execution_count": 51,
     "metadata": {},
     "output_type": "execute_result"
    }
   ],
   "source": [
    "'python' * 2"
   ]
  },
  {
   "cell_type": "code",
   "execution_count": 52,
   "id": "8af0c510-69f9-4bb6-89ed-ccf81ea9bf60",
   "metadata": {},
   "outputs": [
    {
     "data": {
      "text/plain": [
       "'pythonpython'"
      ]
     },
     "execution_count": 52,
     "metadata": {},
     "output_type": "execute_result"
    }
   ],
   "source": [
    "'python'+'python'"
   ]
  },
  {
   "cell_type": "markdown",
   "id": "08f63a6c-9434-46f9-b713-eef5a3205e0a",
   "metadata": {},
   "source": [
    "**index**"
   ]
  },
  {
   "cell_type": "code",
   "execution_count": 53,
   "id": "d643beda-c00a-4d88-83b8-31db72c852b7",
   "metadata": {},
   "outputs": [],
   "source": [
    "str1='python'\n",
    "#-6    -5    -4    -3     -2    -1\n",
    "#'p'   'y'   't'   'h'   'o'   'n'\n",
    "#0      1     2     3     4     5"
   ]
  },
  {
   "cell_type": "code",
   "execution_count": 55,
   "id": "3a2eccc4-0aec-441e-b275-0a06559a5468",
   "metadata": {},
   "outputs": [
    {
     "data": {
      "text/plain": [
       "('p', 'p')"
      ]
     },
     "execution_count": 55,
     "metadata": {},
     "output_type": "execute_result"
    }
   ],
   "source": [
    "str1[0],str1[-6]"
   ]
  },
  {
   "cell_type": "code",
   "execution_count": 1,
   "id": "1594de7b-d93e-4418-a3bf-1ed4a75d2a3c",
   "metadata": {},
   "outputs": [],
   "source": [
    "str1='hello python'\n"
   ]
  },
  {
   "cell_type": "code",
   "execution_count": null,
   "id": "c6e40b4b-eb9f-4276-97ce-87c57b49e488",
   "metadata": {},
   "outputs": [],
   "source": [
    "\n",
    "-12  -11  -10  -9  -8  -7  -6  -5  -4  -3  -2  -1\n",
    "h     e    l    l   o       p   y   t   h   o   n\n",
    "0     1    2    3   4   5   6   7   8   9   10  11 "
   ]
  },
  {
   "cell_type": "code",
   "execution_count": 3,
   "id": "5e3add38-b729-44cf-9a6c-c99343ba1080",
   "metadata": {},
   "outputs": [
    {
     "data": {
      "text/plain": [
       "(' ', 'h')"
      ]
     },
     "execution_count": 3,
     "metadata": {},
     "output_type": "execute_result"
    }
   ],
   "source": [
    "str1[5],str1[9]"
   ]
  },
  {
   "cell_type": "code",
   "execution_count": 6,
   "id": "a1021e94-1130-4e03-bf73-0a5f3016d3db",
   "metadata": {},
   "outputs": [
    {
     "data": {
      "text/plain": [
       "'h'"
      ]
     },
     "execution_count": 6,
     "metadata": {},
     "output_type": "execute_result"
    }
   ],
   "source": [
    "str1[-3]"
   ]
  },
  {
   "cell_type": "code",
   "execution_count": null,
   "id": "977cd082-82bd-4419-a575-c316f430ddfd",
   "metadata": {},
   "outputs": [],
   "source": [
    "str1='python'\n",
    "#-6    -5    -4    -3     -2    -1\n",
    "#'p'   'y'   't'   'h'   'o'   'n'\n",
    "#0      1     2     3     4     5\n",
    "str1[0]\n",
    "str1[1]\n",
    "str1[2]\n",
    "str1[3]\n",
    "str1[4]\n",
    "str1[5]\n",
    "\n",
    "str1[i]  # i is a number  i =0  and ends =5"
   ]
  },
  {
   "cell_type": "code",
   "execution_count": 13,
   "id": "f0338822-b5bc-4d9d-9c97-495e3b54e2db",
   "metadata": {},
   "outputs": [
    {
     "name": "stdout",
     "output_type": "stream",
     "text": [
      "0 p\n",
      "1 y\n",
      "2 t\n",
      "3 h\n",
      "4 o\n",
      "5 n\n",
      "6  \n",
      "7 h\n",
      "8 e\n",
      "9 l\n",
      "10 l\n",
      "11 o\n"
     ]
    }
   ],
   "source": [
    "str1='python hello'\n",
    "for i in range(len(str1)):\n",
    "    print(i,str1[i])\n",
    "# i=0    str1[0]    p\n",
    "# i=1    str1[1]    y"
   ]
  },
  {
   "cell_type": "code",
   "execution_count": 15,
   "id": "1f7796f9-e34a-4569-a745-034ee85d1d80",
   "metadata": {},
   "outputs": [
    {
     "name": "stdout",
     "output_type": "stream",
     "text": [
      "the postive index of p is : 0\n",
      "the postive index of y is : 1\n",
      "the postive index of t is : 2\n",
      "the postive index of h is : 3\n",
      "the postive index of o is : 4\n",
      "the postive index of n is : 5\n"
     ]
    }
   ],
   "source": [
    "str1='python'\n",
    "for i in range(len(str1)):\n",
    "    print(f\"the postive index of {str1[i]} is : {i}\")"
   ]
  },
  {
   "cell_type": "code",
   "execution_count": 26,
   "id": "e0cd2b5b-cafa-4545-8981-e47b04c42677",
   "metadata": {},
   "outputs": [
    {
     "name": "stdout",
     "output_type": "stream",
     "text": [
      "the negative index of p is : -6\n",
      "the negative index of y is : -5\n",
      "the negative index of t is : -4\n",
      "the negative index of h is : -3\n",
      "the negative index of o is : -2\n",
      "the negative index of n is : -1\n"
     ]
    }
   ],
   "source": [
    "n=len(str1)\n",
    "for i in range(n):\n",
    "    print(f\"the negative index of {str1[i]} is : {i-n}\")"
   ]
  },
  {
   "cell_type": "code",
   "execution_count": 31,
   "id": "508759c3-4117-45aa-a2ac-27e29ea52cb7",
   "metadata": {},
   "outputs": [
    {
     "name": "stdout",
     "output_type": "stream",
     "text": [
      "-6 is (-) index and 0 is (+)ve index of p\n",
      "-5 is (-) index and 1 is (+)ve index of y\n",
      "-4 is (-) index and 2 is (+)ve index of t\n",
      "-3 is (-) index and 3 is (+)ve index of h\n",
      "-2 is (-) index and 4 is (+)ve index of o\n",
      "-1 is (-) index and 5 is (+)ve index of n\n"
     ]
    }
   ],
   "source": [
    "#-6 is negative index , 0 is postive index for a letter p\n",
    "n=len(str1)\n",
    "for i in range(n):\n",
    "    print(f\"{i-n} is (-) index and {i} is (+)ve index of {str1[i]}\")"
   ]
  },
  {
   "cell_type": "markdown",
   "id": "0e41db52-3c1b-4a4c-9725-d30dcd266dda",
   "metadata": {},
   "source": [
    "**when to use range - when to use in operator**\n",
    "\n",
    "- any problem if we work with index use range operator\n",
    "\n",
    "- range operator will give index as well as charcter\n",
    "\n",
    "- any problem if index is not use ful, only chracter is useful then go with **in**\n",
    "\n",
    "- with **in** operator we can not get index"
   ]
  },
  {
   "cell_type": "code",
   "execution_count": null,
   "id": "65263735-a832-41c7-9b10-ab8d8b7f96c8",
   "metadata": {},
   "outputs": [],
   "source": [
    "#Q4) write a program count the number of 'a' letters in a given string\n",
    "#  str1='ola ola ola'\n",
    "\n",
    "#Q5) write a program to find the index of 'a' letters in a given string\n",
    "#  str1='ola ola ola'\n",
    "\n",
    "#Q6) write a program to get sum of all the indexes of 'a' letters in a given string\n",
    "#  str1='ola ola ola'\n",
    "\n",
    "#Q7) write a program to find the number of vowels in a given string\n",
    "#   str1='hello how are you'\n",
    "\n",
    "#Q8) wap to find the non repeated vowels in a given string\n",
    "#  str1='hello how are you'"
   ]
  },
  {
   "cell_type": "code",
   "execution_count": 33,
   "id": "85644b76-803c-4416-9d5c-e31e92a97e91",
   "metadata": {},
   "outputs": [
    {
     "name": "stdout",
     "output_type": "stream",
     "text": [
      "the total 'a' are: 3\n"
     ]
    }
   ],
   "source": [
    "#Q4) write a program count the number of 'a' letters in a given string\n",
    "str1='ola ola ola'\n",
    "count=0\n",
    "for i in str1:\n",
    "    if i=='a':\n",
    "        count=count+1\n",
    "\n",
    "print(\"the total 'a' are:\",count)"
   ]
  },
  {
   "cell_type": "code",
   "execution_count": 36,
   "id": "6d4b50a5-0227-4245-9a05-b6b0197a8f22",
   "metadata": {},
   "outputs": [
    {
     "name": "stdout",
     "output_type": "stream",
     "text": [
      "a has index at 2\n",
      "a has index at 6\n",
      "a has index at 10\n"
     ]
    }
   ],
   "source": [
    "str1='ola ola ola'\n",
    "for i in range(len(str1)):\n",
    "    if str1[i]=='a':\n",
    "        print(f\"{str1[i]} has index at {i}\")"
   ]
  },
  {
   "cell_type": "code",
   "execution_count": 37,
   "id": "c0972882-253d-423f-80db-5924d73e7a01",
   "metadata": {},
   "outputs": [
    {
     "name": "stdout",
     "output_type": "stream",
     "text": [
      "the total summ is: 18\n"
     ]
    }
   ],
   "source": [
    "str1='ola ola ola'\n",
    "summ=0\n",
    "for i in range(len(str1)):\n",
    "    if str1[i]=='a':\n",
    "        summ=summ+i\n",
    "\n",
    "print(\"the total summ is:\",summ)"
   ]
  },
  {
   "cell_type": "code",
   "execution_count": 40,
   "id": "b305c658-f059-41ea-86c8-c67f2c6f0a25",
   "metadata": {},
   "outputs": [
    {
     "name": "stdout",
     "output_type": "stream",
     "text": [
      "e\n",
      "o\n",
      "o\n",
      "a\n",
      "e\n",
      "o\n",
      "u\n",
      "the number of vowels are: 7\n"
     ]
    }
   ],
   "source": [
    "#Q7) write a program to find the number of vowels in a given string\n",
    "str1='hello how are you'\n",
    "count=0\n",
    "for i in str1:\n",
    "    if i in 'aeiou':\n",
    "        print(i)\n",
    "        count+=1\n",
    "print(\"the number of vowels are:\",count)"
   ]
  },
  {
   "cell_type": "code",
   "execution_count": 42,
   "id": "cc58c3d2-f3af-44de-aad8-6abeaa9ea8ac",
   "metadata": {},
   "outputs": [
    {
     "name": "stdout",
     "output_type": "stream",
     "text": [
      "e\n",
      "o\n",
      "a\n",
      "u\n",
      "the total count is: 4\n"
     ]
    }
   ],
   "source": [
    "# Q8) we need avoid the repeatition\n",
    "# take empty string s1=''\n",
    "# take another vowel string s2='aeiou'\n",
    "# iterate each letter\n",
    "# con1= the letter in s2\n",
    "# con2= the letter not in s1\n",
    "# than that is our desired vowel them immediatly push that letter into s1\n",
    "# s1=s1+<letter>\n",
    "# every vowel should come but we need to avoid the repeatition\n",
    "\n",
    "# non reapeating ===== a (try today)\n",
    "s1=''\n",
    "s2='aeiou'\n",
    "str1='hello how are you'\n",
    "count=0\n",
    "for i in str1:\n",
    "    if i in s2 and i not in s1:\n",
    "        print(i)\n",
    "        s1=s1+i\n",
    "        count=count+1\n",
    "print(\"the total count is:\",count)"
   ]
  },
  {
   "cell_type": "code",
   "execution_count": null,
   "id": "2bfd419d-4709-452b-8cf1-697e9be07158",
   "metadata": {},
   "outputs": [],
   "source": [
    "# Slicing\n",
    "# methods strings \n",
    "# functions\n",
    "# strings === list dic\n",
    "\n",
    "\n",
    "str2=\"ABCD123456789\"\n",
    "ans= reversed(str2)\n",
    "#Below Loop is commented\n",
    "#for i in ans:\n",
    "    #print(i,end=\" \")  \n",
    "list(ans)\n"
   ]
  },
  {
   "cell_type": "markdown",
   "id": "25824456-a48b-4063-9123-849a3d2b5b0b",
   "metadata": {},
   "source": [
    "**Mutable-Immutable**"
   ]
  },
  {
   "cell_type": "code",
   "execution_count": 1,
   "id": "0de35881-a3db-41fa-8628-bfb0d0435cb1",
   "metadata": {},
   "outputs": [],
   "source": [
    "# mutable : Change\n",
    "# iimutable: No change\n",
    "str1='welcome'\n",
    "\n",
    "# i want to chnage 'l'  with  'L'\n",
    "# can we change 'l'  with  'L' ? "
   ]
  },
  {
   "cell_type": "code",
   "execution_count": 3,
   "id": "284eb71c-42e8-4b7b-9aa3-4a6a602efa85",
   "metadata": {},
   "outputs": [
    {
     "ename": "TypeError",
     "evalue": "'str' object does not support item assignment",
     "output_type": "error",
     "traceback": [
      "\u001b[1;31m---------------------------------------------------------------------------\u001b[0m",
      "\u001b[1;31mTypeError\u001b[0m                                 Traceback (most recent call last)",
      "Cell \u001b[1;32mIn[3], line 1\u001b[0m\n\u001b[1;32m----> 1\u001b[0m str1[\u001b[38;5;241m2\u001b[39m]\u001b[38;5;241m=\u001b[39m\u001b[38;5;124m'\u001b[39m\u001b[38;5;124mL\u001b[39m\u001b[38;5;124m'\u001b[39m\n",
      "\u001b[1;31mTypeError\u001b[0m: 'str' object does not support item assignment"
     ]
    }
   ],
   "source": [
    "str1[2]='L'"
   ]
  },
  {
   "cell_type": "code",
   "execution_count": 7,
   "id": "f4814c21-5cd3-458b-bf68-23a44182b512",
   "metadata": {},
   "outputs": [
    {
     "data": {
      "text/plain": [
       "[11, 22, 300, 44]"
      ]
     },
     "execution_count": 7,
     "metadata": {},
     "output_type": "execute_result"
    }
   ],
   "source": [
    "l=[11,22,33,44]\n",
    "l[2]=300\n",
    "l"
   ]
  },
  {
   "cell_type": "markdown",
   "id": "1b916339-6919-4c28-b63a-1939b147856f",
   "metadata": {},
   "source": [
    "- if the elements will change using indexing is called as mutable\n",
    "\n",
    "- otherwise immutable"
   ]
  },
  {
   "cell_type": "markdown",
   "id": "1373d75f-ab2c-46bd-9023-b9c8222c06d1",
   "metadata": {},
   "source": [
    "**slicing**"
   ]
  },
  {
   "cell_type": "markdown",
   "id": "d8d16131-26c7-4333-92e4-cc53dddaf3a2",
   "metadata": {},
   "source": [
    "- slice : piece of the string\n",
    "\n",
    "- it is similar to for loop start:stop:step"
   ]
  },
  {
   "cell_type": "code",
   "execution_count": 8,
   "id": "87a3057c-7c03-4e34-b9d1-60feb04679b8",
   "metadata": {},
   "outputs": [],
   "source": [
    "str1='hello how are you'"
   ]
  },
  {
   "cell_type": "code",
   "execution_count": 9,
   "id": "31c48374-6245-4612-89af-d021bd7baeb0",
   "metadata": {},
   "outputs": [
    {
     "data": {
      "text/plain": [
       "17"
      ]
     },
     "execution_count": 9,
     "metadata": {},
     "output_type": "execute_result"
    }
   ],
   "source": [
    "len(str1)"
   ]
  },
  {
   "cell_type": "code",
   "execution_count": null,
   "id": "e1a2ed99-f5ee-4a5c-98f1-68c6cb7e3640",
   "metadata": {},
   "outputs": [],
   "source": [
    "-17  -16  -15  -14  -13  -12  -11  -10  -9  -8  -7  -6  -5  -4  -3  -2  -1\n",
    "h     e    l    l    o         h    o    w       a   r   e       y   o   u\n",
    "0     1    2    3    4    5    6    7    8   9   10  11  12  13  14  15  16"
   ]
  },
  {
   "cell_type": "markdown",
   "id": "60e855e6-9df1-44b6-a7c4-da35690a6c67",
   "metadata": {},
   "source": [
    "**case-1: str1[start:]**"
   ]
  },
  {
   "cell_type": "markdown",
   "id": "309e97d8-eb19-49e1-a640-01d30877f449",
   "metadata": {},
   "source": [
    "- str1[start:]\n",
    "\n",
    "- start= start value only\n",
    "\n",
    "- last not mentioned means it will go to till last"
   ]
  },
  {
   "cell_type": "code",
   "execution_count": 10,
   "id": "eac968da-4896-4513-b85b-1ce4d0902b91",
   "metadata": {},
   "outputs": [
    {
     "data": {
      "text/plain": [
       "' how are you'"
      ]
     },
     "execution_count": 10,
     "metadata": {},
     "output_type": "execute_result"
    }
   ],
   "source": [
    "str1[5:]"
   ]
  },
  {
   "cell_type": "code",
   "execution_count": 11,
   "id": "a7534a81-82c0-4ee6-aa26-ced3570628df",
   "metadata": {},
   "outputs": [
    {
     "data": {
      "text/plain": [
       "'e you'"
      ]
     },
     "execution_count": 11,
     "metadata": {},
     "output_type": "execute_result"
    }
   ],
   "source": [
    "str1[-5:]"
   ]
  },
  {
   "cell_type": "markdown",
   "id": "9e48aa14-91e3-4994-8b98-1e9ec97e29de",
   "metadata": {},
   "source": [
    "**case-2: str1[start:stop]**\n",
    "\n",
    "- start= start value\n",
    "\n",
    "- step is not mentioned means = postive one\n",
    "\n",
    "- last= stop-1"
   ]
  },
  {
   "cell_type": "code",
   "execution_count": 12,
   "id": "5ba4a08d-3061-4007-999c-2aabac61244a",
   "metadata": {},
   "outputs": [
    {
     "data": {
      "text/plain": [
       "'llo how are yo'"
      ]
     },
     "execution_count": 12,
     "metadata": {},
     "output_type": "execute_result"
    },
    {
     "name": "stdout",
     "output_type": "stream",
     "text": [
      "The history saving thread hit an unexpected error (OperationalError('database or disk is full')).History will not be written to the database.\n"
     ]
    }
   ],
   "source": [
    "str1[2:16]\n",
    "# start=2\n",
    "# last=16-1=15"
   ]
  },
  {
   "cell_type": "code",
   "execution_count": 13,
   "id": "39d075a0-3304-4cb3-8e53-d83bde924129",
   "metadata": {},
   "outputs": [
    {
     "data": {
      "text/plain": [
       "' how are y'"
      ]
     },
     "execution_count": 13,
     "metadata": {},
     "output_type": "execute_result"
    }
   ],
   "source": [
    "#-17  -16  -15  -14  -13  -12  -11  -10  -9  -8  -7  -6  -5  -4  -3  -2  -1\n",
    "#h     e    l    l    o         h    o    w       a   r   e       y   o   u\n",
    "#0     1    2    3    4    5    6    7    8   9   10  11  12  13  14  15  16\n",
    "str1[-12:-2]\n",
    "# start=-12\n",
    "# step= postive one\n",
    "# last= stop-1= -2-1=-3"
   ]
  },
  {
   "cell_type": "code",
   "execution_count": 14,
   "id": "bd11e6a6-4ecf-4c58-889e-7775c50c32d7",
   "metadata": {},
   "outputs": [
    {
     "data": {
      "text/plain": [
       "''"
      ]
     },
     "execution_count": 14,
     "metadata": {},
     "output_type": "execute_result"
    }
   ],
   "source": [
    "str1[-2:-12]"
   ]
  },
  {
   "cell_type": "code",
   "execution_count": 15,
   "id": "f328e493-73ef-4a14-b603-f638d602015d",
   "metadata": {},
   "outputs": [
    {
     "data": {
      "text/plain": [
       "' h'"
      ]
     },
     "execution_count": 15,
     "metadata": {},
     "output_type": "execute_result"
    }
   ],
   "source": [
    "str1[5:-10]"
   ]
  },
  {
   "cell_type": "markdown",
   "id": "55c62e67-cc48-4197-8e08-5c08384f3a2e",
   "metadata": {},
   "source": [
    "**Case-3:str1[start:stop:step]**"
   ]
  },
  {
   "cell_type": "code",
   "execution_count": null,
   "id": "b38f1e8b-05bc-43b0-8259-58fbb8fe3bd0",
   "metadata": {},
   "outputs": [],
   "source": [
    "#-17  -16  -15  -14  -13  -12  -11  -10  -9  -8  -7  -6  -5  -4  -3  -2  -1\n",
    "#h     e    l    l    o         h    o    w       a   r   e       y   o   u\n",
    "#0     1    2    3    4    5    6    7    8   9   10  11  12  13  14  15  16\n",
    "str1[2:15:2] # P\n",
    "str1[2:15:-2] # NP\n",
    "str1[2:-15:2]#  .......NP\n",
    "str1[-2:15:2] # ...... NP\n",
    "str1[-2:-15:2] # NP\n",
    "str1[-2:-15:-2] # p\n",
    "str1[15:2:2]  # NP\n",
    "str1[15:2:-2] # P\n",
    "str1[15:-2:2] # ..... \n",
    "str1[15:-2:-2] # .....\n",
    "str1[-15:2:2] # ....\n",
    "str1[-15:-2:2] # P\n",
    "str1[-15:-2:-2] # NP"
   ]
  },
  {
   "cell_type": "code",
   "execution_count": 22,
   "id": "8c678990-1c95-43a3-ba7b-8f5f5257bba7",
   "metadata": {},
   "outputs": [
    {
     "data": {
      "text/plain": [
       "'l'"
      ]
     },
     "execution_count": 22,
     "metadata": {},
     "output_type": "execute_result"
    }
   ],
   "source": [
    "str1[2:3:1]\n",
    "str1[2:-14:2]\n",
    "# start=2  last=-14-1=-15"
   ]
  },
  {
   "cell_type": "code",
   "execution_count": 24,
   "id": "f2bedeb7-d0d3-411b-8bb7-f410ee93f6f8",
   "metadata": {},
   "outputs": [
    {
     "data": {
      "text/plain": [
       "'llo how are you'"
      ]
     },
     "execution_count": 24,
     "metadata": {},
     "output_type": "execute_result"
    }
   ],
   "source": [
    "str1[2:250]  "
   ]
  },
  {
   "cell_type": "code",
   "execution_count": 25,
   "id": "159f5cbf-97ba-4db0-b83f-f303bf743c63",
   "metadata": {},
   "outputs": [
    {
     "ename": "IndexError",
     "evalue": "string index out of range",
     "output_type": "error",
     "traceback": [
      "\u001b[1;31m---------------------------------------------------------------------------\u001b[0m",
      "\u001b[1;31mIndexError\u001b[0m                                Traceback (most recent call last)",
      "Cell \u001b[1;32mIn[25], line 1\u001b[0m\n\u001b[1;32m----> 1\u001b[0m str1[\u001b[38;5;241m25\u001b[39m]\n",
      "\u001b[1;31mIndexError\u001b[0m: string index out of range"
     ]
    }
   ],
   "source": [
    "str1[25]"
   ]
  },
  {
   "cell_type": "code",
   "execution_count": 26,
   "id": "a575e216-76bd-498a-aee9-20d78dc1699f",
   "metadata": {},
   "outputs": [
    {
     "data": {
      "text/plain": [
       "'uoy era woh olleh'"
      ]
     },
     "execution_count": 26,
     "metadata": {},
     "output_type": "execute_result"
    }
   ],
   "source": [
    "#str1[start:stop:step]\n",
    "str1[:]  # str1[start:stop]\n",
    "str1[::] # str1[start:stop:step]\n",
    "str1[::-1]"
   ]
  },
  {
   "cell_type": "code",
   "execution_count": null,
   "id": "8929348e-548e-4fa5-8c6e-8f654c811d0b",
   "metadata": {},
   "outputs": [],
   "source": [
    "- intialization\n",
    "\n",
    "- print \n",
    "\n",
    "- type\n",
    "\n",
    "- min/max\n",
    "\n",
    "- len\n",
    "\n",
    "- reversed/sorted\n",
    "\n",
    "- index\n",
    "\n",
    "    - for loop with range\n",
    "\n",
    "    - for loop in \n",
    "\n",
    "- mutable vs immutable\n",
    "\n",
    "- concatenation\n",
    "\n",
    "- slicing"
   ]
  },
  {
   "cell_type": "code",
   "execution_count": null,
   "id": "b2f872c8-a9c9-44a6-b548-3e4d0a1b76e7",
   "metadata": {},
   "outputs": [],
   "source": [
    "min('hello')\n",
    "min([10,20,30])"
   ]
  },
  {
   "cell_type": "markdown",
   "id": "23d295cc-f996-4e92-9d6a-141bc3fd31b6",
   "metadata": {},
   "source": [
    "**Methods**"
   ]
  },
  {
   "cell_type": "code",
   "execution_count": 27,
   "id": "28a15566-114a-4b61-aeae-df07e2265f9d",
   "metadata": {},
   "outputs": [
    {
     "data": {
      "text/plain": [
       "0"
      ]
     },
     "execution_count": 27,
     "metadata": {},
     "output_type": "execute_result"
    }
   ],
   "source": [
    "len('')"
   ]
  },
  {
   "cell_type": "code",
   "execution_count": 28,
   "id": "467f7e41-0de9-42f8-a2e1-cd3b6d7ace4d",
   "metadata": {},
   "outputs": [
    {
     "data": {
      "text/plain": [
       "1"
      ]
     },
     "execution_count": 28,
     "metadata": {},
     "output_type": "execute_result"
    }
   ],
   "source": [
    "len(' ')"
   ]
  },
  {
   "cell_type": "code",
   "execution_count": 29,
   "id": "fd982c3f-fb78-40ed-be83-8e333903640f",
   "metadata": {},
   "outputs": [],
   "source": [
    "import random"
   ]
  },
  {
   "cell_type": "code",
   "execution_count": 30,
   "id": "1d17bd98-616c-4455-9fb4-b417cf797a63",
   "metadata": {},
   "outputs": [
    {
     "data": {
      "text/plain": [
       "['BPF',\n",
       " 'LOG4',\n",
       " 'NV_MAGICCONST',\n",
       " 'RECIP_BPF',\n",
       " 'Random',\n",
       " 'SG_MAGICCONST',\n",
       " 'SystemRandom',\n",
       " 'TWOPI',\n",
       " '_ONE',\n",
       " '_Sequence',\n",
       " '_Set',\n",
       " '__all__',\n",
       " '__builtins__',\n",
       " '__cached__',\n",
       " '__doc__',\n",
       " '__file__',\n",
       " '__loader__',\n",
       " '__name__',\n",
       " '__package__',\n",
       " '__spec__',\n",
       " '_accumulate',\n",
       " '_acos',\n",
       " '_bisect',\n",
       " '_ceil',\n",
       " '_cos',\n",
       " '_e',\n",
       " '_exp',\n",
       " '_floor',\n",
       " '_index',\n",
       " '_inst',\n",
       " '_isfinite',\n",
       " '_log',\n",
       " '_os',\n",
       " '_pi',\n",
       " '_random',\n",
       " '_repeat',\n",
       " '_sha512',\n",
       " '_sin',\n",
       " '_sqrt',\n",
       " '_test',\n",
       " '_test_generator',\n",
       " '_urandom',\n",
       " '_warn',\n",
       " 'betavariate',\n",
       " 'choice',\n",
       " 'choices',\n",
       " 'expovariate',\n",
       " 'gammavariate',\n",
       " 'gauss',\n",
       " 'getrandbits',\n",
       " 'getstate',\n",
       " 'lognormvariate',\n",
       " 'normalvariate',\n",
       " 'paretovariate',\n",
       " 'randbytes',\n",
       " 'randint',\n",
       " 'random',\n",
       " 'randrange',\n",
       " 'sample',\n",
       " 'seed',\n",
       " 'setstate',\n",
       " 'shuffle',\n",
       " 'triangular',\n",
       " 'uniform',\n",
       " 'vonmisesvariate',\n",
       " 'weibullvariate']"
      ]
     },
     "execution_count": 30,
     "metadata": {},
     "output_type": "execute_result"
    }
   ],
   "source": [
    "dir(random)"
   ]
  },
  {
   "cell_type": "code",
   "execution_count": 31,
   "id": "f19fadcf-8cf4-439a-a007-fdef22dbeb0c",
   "metadata": {},
   "outputs": [
    {
     "data": {
      "text/plain": [
       "['__add__',\n",
       " '__class__',\n",
       " '__contains__',\n",
       " '__delattr__',\n",
       " '__dir__',\n",
       " '__doc__',\n",
       " '__eq__',\n",
       " '__format__',\n",
       " '__ge__',\n",
       " '__getattribute__',\n",
       " '__getitem__',\n",
       " '__getnewargs__',\n",
       " '__getstate__',\n",
       " '__gt__',\n",
       " '__hash__',\n",
       " '__init__',\n",
       " '__init_subclass__',\n",
       " '__iter__',\n",
       " '__le__',\n",
       " '__len__',\n",
       " '__lt__',\n",
       " '__mod__',\n",
       " '__mul__',\n",
       " '__ne__',\n",
       " '__new__',\n",
       " '__reduce__',\n",
       " '__reduce_ex__',\n",
       " '__repr__',\n",
       " '__rmod__',\n",
       " '__rmul__',\n",
       " '__setattr__',\n",
       " '__sizeof__',\n",
       " '__str__',\n",
       " '__subclasshook__',\n",
       " 'capitalize',\n",
       " 'casefold',\n",
       " 'center',\n",
       " 'count',\n",
       " 'encode',\n",
       " 'endswith',\n",
       " 'expandtabs',\n",
       " 'find',\n",
       " 'format',\n",
       " 'format_map',\n",
       " 'index',\n",
       " 'isalnum',\n",
       " 'isalpha',\n",
       " 'isascii',\n",
       " 'isdecimal',\n",
       " 'isdigit',\n",
       " 'isidentifier',\n",
       " 'islower',\n",
       " 'isnumeric',\n",
       " 'isprintable',\n",
       " 'isspace',\n",
       " 'istitle',\n",
       " 'isupper',\n",
       " 'join',\n",
       " 'ljust',\n",
       " 'lower',\n",
       " 'lstrip',\n",
       " 'maketrans',\n",
       " 'partition',\n",
       " 'removeprefix',\n",
       " 'removesuffix',\n",
       " 'replace',\n",
       " 'rfind',\n",
       " 'rindex',\n",
       " 'rjust',\n",
       " 'rpartition',\n",
       " 'rsplit',\n",
       " 'rstrip',\n",
       " 'split',\n",
       " 'splitlines',\n",
       " 'startswith',\n",
       " 'strip',\n",
       " 'swapcase',\n",
       " 'title',\n",
       " 'translate',\n",
       " 'upper',\n",
       " 'zfill']"
      ]
     },
     "execution_count": 31,
     "metadata": {},
     "output_type": "execute_result"
    }
   ],
   "source": [
    "name='python'\n",
    "dir(name)"
   ]
  },
  {
   "cell_type": "code",
   "execution_count": 32,
   "id": "b1e8c6fc-7409-4277-acba-1244d3d32870",
   "metadata": {},
   "outputs": [
    {
     "data": {
      "text/plain": [
       "['__add__',\n",
       " '__class__',\n",
       " '__contains__',\n",
       " '__delattr__',\n",
       " '__dir__',\n",
       " '__doc__',\n",
       " '__eq__',\n",
       " '__format__',\n",
       " '__ge__',\n",
       " '__getattribute__',\n",
       " '__getitem__',\n",
       " '__getnewargs__',\n",
       " '__getstate__',\n",
       " '__gt__',\n",
       " '__hash__',\n",
       " '__init__',\n",
       " '__init_subclass__',\n",
       " '__iter__',\n",
       " '__le__',\n",
       " '__len__',\n",
       " '__lt__',\n",
       " '__mod__',\n",
       " '__mul__',\n",
       " '__ne__',\n",
       " '__new__',\n",
       " '__reduce__',\n",
       " '__reduce_ex__',\n",
       " '__repr__',\n",
       " '__rmod__',\n",
       " '__rmul__',\n",
       " '__setattr__',\n",
       " '__sizeof__',\n",
       " '__str__',\n",
       " '__subclasshook__',\n",
       " 'capitalize',\n",
       " 'casefold',\n",
       " 'center',\n",
       " 'count',\n",
       " 'encode',\n",
       " 'endswith',\n",
       " 'expandtabs',\n",
       " 'find',\n",
       " 'format',\n",
       " 'format_map',\n",
       " 'index',\n",
       " 'isalnum',\n",
       " 'isalpha',\n",
       " 'isascii',\n",
       " 'isdecimal',\n",
       " 'isdigit',\n",
       " 'isidentifier',\n",
       " 'islower',\n",
       " 'isnumeric',\n",
       " 'isprintable',\n",
       " 'isspace',\n",
       " 'istitle',\n",
       " 'isupper',\n",
       " 'join',\n",
       " 'ljust',\n",
       " 'lower',\n",
       " 'lstrip',\n",
       " 'maketrans',\n",
       " 'partition',\n",
       " 'removeprefix',\n",
       " 'removesuffix',\n",
       " 'replace',\n",
       " 'rfind',\n",
       " 'rindex',\n",
       " 'rjust',\n",
       " 'rpartition',\n",
       " 'rsplit',\n",
       " 'rstrip',\n",
       " 'split',\n",
       " 'splitlines',\n",
       " 'startswith',\n",
       " 'strip',\n",
       " 'swapcase',\n",
       " 'title',\n",
       " 'translate',\n",
       " 'upper',\n",
       " 'zfill']"
      ]
     },
     "execution_count": 32,
     "metadata": {},
     "output_type": "execute_result"
    }
   ],
   "source": [
    "dir('')"
   ]
  },
  {
   "cell_type": "code",
   "execution_count": null,
   "id": "3cd3295d-6894-47a4-af27-b6c85b07de62",
   "metadata": {},
   "outputs": [],
   "source": [
    "dir(random)\n",
    "    randint \n",
    "\n",
    "random.randint()"
   ]
  },
  {
   "cell_type": "markdown",
   "id": "5b809903-59af-4530-83e1-87618be0e8a2",
   "metadata": {},
   "source": [
    "**upper**"
   ]
  },
  {
   "cell_type": "code",
   "execution_count": 34,
   "id": "8eed5602-655a-4bd7-ac9f-a199491d5cd4",
   "metadata": {},
   "outputs": [
    {
     "data": {
      "text/plain": [
       "'PYTHON'"
      ]
     },
     "execution_count": 34,
     "metadata": {},
     "output_type": "execute_result"
    }
   ],
   "source": [
    "name='python'\n",
    "dir(name)\n",
    "# upper\n",
    "name.upper()"
   ]
  },
  {
   "cell_type": "code",
   "execution_count": null,
   "id": "c7d0701f-d4e1-47a5-aa67-7396d506a0fe",
   "metadata": {},
   "outputs": [],
   "source": [
    "<package_name>.<method_name>"
   ]
  },
  {
   "cell_type": "code",
   "execution_count": 36,
   "id": "6a93aa4a-5b5f-46a7-943a-bf2749950250",
   "metadata": {},
   "outputs": [
    {
     "data": {
      "text/plain": [
       "'PYTHON'"
      ]
     },
     "execution_count": 36,
     "metadata": {},
     "output_type": "execute_result"
    }
   ],
   "source": [
    "name.upper()"
   ]
  },
  {
   "cell_type": "code",
   "execution_count": 37,
   "id": "b7395742-d9b6-4354-887e-94dac243aed5",
   "metadata": {},
   "outputs": [
    {
     "data": {
      "text/plain": [
       "'python'"
      ]
     },
     "execution_count": 37,
     "metadata": {},
     "output_type": "execute_result"
    }
   ],
   "source": [
    "name"
   ]
  },
  {
   "cell_type": "markdown",
   "id": "4fa5b63b-c066-4fa9-98b1-3047c313eda5",
   "metadata": {},
   "source": [
    "**output will not overwrite**"
   ]
  },
  {
   "cell_type": "markdown",
   "id": "526bdfb7-242c-43e8-a9d4-d3ed14e907c9",
   "metadata": {},
   "source": [
    "- whenever we apply the function \n",
    "\n",
    "- always apply shift+tab\n",
    "\n",
    "- then if any arguments are there try to understand those\n",
    "\n",
    "- in that one argument name is called as **inplace**\n",
    "\n",
    "- inplace=True the result will be overwrite in original variable\n",
    "\n",
    "- if inplace not avaialbe or inplace=False\n",
    "\n",
    "- then the output will not overwrite\n",
    "\n",
    "- in the upper case there is no arguments\n",
    "\n",
    "- so when we apply upper the output will not overwrite"
   ]
  },
  {
   "cell_type": "code",
   "execution_count": 40,
   "id": "790848b5-eb69-47f5-a58a-8e37a2b189d5",
   "metadata": {},
   "outputs": [],
   "source": [
    "name='python'\n",
    "name_upper=name.upper()"
   ]
  },
  {
   "cell_type": "code",
   "execution_count": 41,
   "id": "a0e72cb2-1f58-4469-8375-eb8666b8427c",
   "metadata": {},
   "outputs": [
    {
     "name": "stdout",
     "output_type": "stream",
     "text": [
      "python\n",
      "PYTHON\n"
     ]
    }
   ],
   "source": [
    "print(name)\n",
    "print(name_upper)"
   ]
  },
  {
   "cell_type": "code",
   "execution_count": 43,
   "id": "1a8a9583-bad3-4271-9bb3-4b6c0390a497",
   "metadata": {},
   "outputs": [
    {
     "data": {
      "text/plain": [
       "'python'"
      ]
     },
     "execution_count": 43,
     "metadata": {},
     "output_type": "execute_result"
    }
   ],
   "source": [
    "name.lower()"
   ]
  },
  {
   "cell_type": "code",
   "execution_count": 44,
   "id": "a252ef28-62fe-4843-8b2e-9a46bbd49aa9",
   "metadata": {},
   "outputs": [
    {
     "data": {
      "text/plain": [
       "'python'"
      ]
     },
     "execution_count": 44,
     "metadata": {},
     "output_type": "execute_result"
    }
   ],
   "source": [
    "'PYTHON'.lower()"
   ]
  },
  {
   "cell_type": "code",
   "execution_count": null,
   "id": "379e44e1-99e6-4845-885f-8ee4ecdf85f0",
   "metadata": {},
   "outputs": [],
   "source": [
    "PYTHON.lower()  # error\n",
    "lower('PYTHON') # error\n",
    "min('Python')\n",
    "max('Python')\n",
    "len('Python')"
   ]
  },
  {
   "cell_type": "markdown",
   "id": "b70d3cc8-4886-4800-9e69-2ebcdcff46b6",
   "metadata": {},
   "source": [
    "**Methods  vs inbuilt function**"
   ]
  },
  {
   "cell_type": "markdown",
   "id": "1fd55eda-45df-40b9-b2eb-01a17246e842",
   "metadata": {},
   "source": [
    "- inbuilt functions applicable for all python data types\n",
    "\n",
    "- ex: print, type, min,max ...\n",
    "\n",
    "- access:  inbuilt_function(<value>)\n",
    "\n",
    "- method is a specific use for different data types\n",
    "\n",
    "- access:  package.methodname()\n",
    "\n",
    "- access:  element.methodname()"
   ]
  },
  {
   "cell_type": "code",
   "execution_count": 45,
   "id": "0629881a-9a63-4542-b6bb-4c7fd5edbc06",
   "metadata": {},
   "outputs": [
    {
     "data": {
      "text/plain": [
       "'python'"
      ]
     },
     "execution_count": 45,
     "metadata": {},
     "output_type": "execute_result"
    }
   ],
   "source": [
    "'Python'.casefold()"
   ]
  },
  {
   "cell_type": "code",
   "execution_count": 46,
   "id": "25640c42-17d7-4f4f-bca7-2a929d5fa29a",
   "metadata": {},
   "outputs": [
    {
     "data": {
      "text/plain": [
       "'python'"
      ]
     },
     "execution_count": 46,
     "metadata": {},
     "output_type": "execute_result"
    }
   ],
   "source": [
    "'python'.casefold()"
   ]
  },
  {
   "cell_type": "code",
   "execution_count": 47,
   "id": "c14b96ca-f83e-4204-83ce-667d174b15ba",
   "metadata": {},
   "outputs": [
    {
     "data": {
      "text/plain": [
       "'python'"
      ]
     },
     "execution_count": 47,
     "metadata": {},
     "output_type": "execute_result"
    }
   ],
   "source": [
    "'PYTHON'.casefold()"
   ]
  },
  {
   "cell_type": "markdown",
   "id": "a4682af2-281e-49bb-9a42-496f3bf81f92",
   "metadata": {},
   "source": [
    "**Capitalize**"
   ]
  },
  {
   "cell_type": "code",
   "execution_count": 48,
   "id": "7cc78352-5fd1-423b-8500-7251eb512993",
   "metadata": {},
   "outputs": [
    {
     "data": {
      "text/plain": [
       "'Welcome'"
      ]
     },
     "execution_count": 48,
     "metadata": {},
     "output_type": "execute_result"
    }
   ],
   "source": [
    "str1='welcome'\n",
    "str1.capitalize()"
   ]
  },
  {
   "cell_type": "code",
   "execution_count": 49,
   "id": "f2906b0b-56b5-4f14-a9e6-373e2091857e",
   "metadata": {},
   "outputs": [
    {
     "data": {
      "text/plain": [
       "'Hello how are you'"
      ]
     },
     "execution_count": 49,
     "metadata": {},
     "output_type": "execute_result"
    }
   ],
   "source": [
    "str1='hello how are you'\n",
    "str1.capitalize()"
   ]
  },
  {
   "cell_type": "markdown",
   "id": "516ee039-1a73-4ce8-90b1-f7cb4f12de2f",
   "metadata": {},
   "source": [
    "**Title**"
   ]
  },
  {
   "cell_type": "code",
   "execution_count": 50,
   "id": "fe7391cc-6afb-43e3-98b8-66b849388d87",
   "metadata": {},
   "outputs": [
    {
     "data": {
      "text/plain": [
       "'Welcome'"
      ]
     },
     "execution_count": 50,
     "metadata": {},
     "output_type": "execute_result"
    }
   ],
   "source": [
    "str1='welcome'\n",
    "str1.title()"
   ]
  },
  {
   "cell_type": "code",
   "execution_count": 51,
   "id": "5a2ec250-7d42-42f3-81fd-a03f2d7b2c8d",
   "metadata": {},
   "outputs": [
    {
     "data": {
      "text/plain": [
       "'Hello How Are You'"
      ]
     },
     "execution_count": 51,
     "metadata": {},
     "output_type": "execute_result"
    }
   ],
   "source": [
    "str1='hello how are you'\n",
    "str1.title()"
   ]
  },
  {
   "cell_type": "code",
   "execution_count": null,
   "id": "39b51203-4cae-42ec-a9cd-4c63b7922e5f",
   "metadata": {},
   "outputs": [],
   "source": [
    "'welcome'.title()"
   ]
  },
  {
   "cell_type": "markdown",
   "id": "33460856-207a-4b89-9c5e-164c4f9fa151",
   "metadata": {},
   "source": [
    "**center**"
   ]
  },
  {
   "cell_type": "code",
   "execution_count": 58,
   "id": "780b1de1-5e97-4465-997d-7382be12a679",
   "metadata": {},
   "outputs": [
    {
     "data": {
      "text/plain": [
       "' python'"
      ]
     },
     "execution_count": 58,
     "metadata": {},
     "output_type": "execute_result"
    }
   ],
   "source": [
    "str1='python'\n",
    "str1.center(7)"
   ]
  },
  {
   "cell_type": "code",
   "execution_count": 60,
   "id": "3cc9e64f-ff94-4d34-bce7-0148cb7ae58d",
   "metadata": {},
   "outputs": [
    {
     "data": {
      "text/plain": [
       "'********python*******'"
      ]
     },
     "execution_count": 60,
     "metadata": {},
     "output_type": "execute_result"
    }
   ],
   "source": [
    "str1.center(21,'*')"
   ]
  },
  {
   "cell_type": "markdown",
   "id": "d9e0c837-ea13-4ebf-9fa1-a67bef74d656",
   "metadata": {},
   "source": [
    "**replace**"
   ]
  },
  {
   "cell_type": "code",
   "execution_count": 61,
   "id": "2d35d8d7-be39-416b-ac2c-e14f81216463",
   "metadata": {},
   "outputs": [
    {
     "data": {
      "text/plain": [
       "'weLcome'"
      ]
     },
     "execution_count": 61,
     "metadata": {},
     "output_type": "execute_result"
    }
   ],
   "source": [
    "str1='welcome'\n",
    "# replace 'l' with 'L'\n",
    "str1.replace('l','L')"
   ]
  },
  {
   "cell_type": "code",
   "execution_count": 62,
   "id": "acb8d2dd-7999-40a8-8259-9e1410e4244c",
   "metadata": {},
   "outputs": [
    {
     "data": {
      "text/plain": [
       "'weLLLcome'"
      ]
     },
     "execution_count": 62,
     "metadata": {},
     "output_type": "execute_result"
    }
   ],
   "source": [
    "str1='welllcome'\n",
    "str1.replace('l','L')"
   ]
  },
  {
   "cell_type": "code",
   "execution_count": 63,
   "id": "adf94b37-b1b9-487b-8565-29ba6facded0",
   "metadata": {},
   "outputs": [
    {
     "data": {
      "text/plain": [
       "'weLllcome'"
      ]
     },
     "execution_count": 63,
     "metadata": {},
     "output_type": "execute_result"
    }
   ],
   "source": [
    "str1='welllcome'\n",
    "str1.replace('l','L',1)"
   ]
  },
  {
   "cell_type": "code",
   "execution_count": 64,
   "id": "b865d06d-3191-4e28-9cee-929d9358261c",
   "metadata": {},
   "outputs": [
    {
     "data": {
      "text/plain": [
       "'weLLlcome'"
      ]
     },
     "execution_count": 64,
     "metadata": {},
     "output_type": "execute_result"
    }
   ],
   "source": [
    "str1='welllcome'\n",
    "str1.replace('l','L',2)"
   ]
  },
  {
   "cell_type": "code",
   "execution_count": 65,
   "id": "66c1b523-59be-461c-9e79-1a6f67a27692",
   "metadata": {},
   "outputs": [
    {
     "data": {
      "text/plain": [
       "'weLLLcome'"
      ]
     },
     "execution_count": 65,
     "metadata": {},
     "output_type": "execute_result"
    }
   ],
   "source": [
    "str1='welllcome'\n",
    "str1.replace('l','L',4)"
   ]
  },
  {
   "cell_type": "code",
   "execution_count": 66,
   "id": "ce7cbe07-0fcd-4627-892a-e8209530bc96",
   "metadata": {},
   "outputs": [
    {
     "data": {
      "text/plain": [
       "'welllcome'"
      ]
     },
     "execution_count": 66,
     "metadata": {},
     "output_type": "execute_result"
    }
   ],
   "source": [
    "str1.replace('z','Z')"
   ]
  },
  {
   "cell_type": "markdown",
   "id": "3db6db5b-7b84-4ff6-9d53-15f25a41dc80",
   "metadata": {},
   "source": [
    "- upper\n",
    "\n",
    "- lower\n",
    "\n",
    "- capitalize\n",
    "\n",
    "- title\n",
    "\n",
    "- casefold\n",
    "\n",
    "- center\n",
    "\n",
    "- replace"
   ]
  },
  {
   "cell_type": "code",
   "execution_count": 1,
   "id": "d9031cc9-7536-4b3d-b7b8-6c8046ac4658",
   "metadata": {},
   "outputs": [
    {
     "data": {
      "text/plain": [
       "'heLLo'"
      ]
     },
     "execution_count": 1,
     "metadata": {},
     "output_type": "execute_result"
    }
   ],
   "source": [
    "str1='hello'\n",
    "str1.replace('l','L')  # count=-1"
   ]
  },
  {
   "cell_type": "code",
   "execution_count": 2,
   "id": "92545ed0-90a5-4640-9bfa-38d49d30fed8",
   "metadata": {},
   "outputs": [
    {
     "data": {
      "text/plain": [
       "'heLlo'"
      ]
     },
     "execution_count": 2,
     "metadata": {},
     "output_type": "execute_result"
    }
   ],
   "source": [
    "str1.replace('l','L',1)"
   ]
  },
  {
   "cell_type": "markdown",
   "id": "5ec11ed1-6210-4735-b4d2-17e4ec80ed54",
   "metadata": {},
   "source": [
    "**How to replace the only second letter**"
   ]
  },
  {
   "cell_type": "code",
   "execution_count": 3,
   "id": "0b8e50a4-ef90-4fe2-b7fa-25a38b71f2eb",
   "metadata": {},
   "outputs": [
    {
     "data": {
      "text/plain": [
       "'resta$t'"
      ]
     },
     "execution_count": 3,
     "metadata": {},
     "output_type": "execute_result"
    }
   ],
   "source": [
    "str1='restart'\n",
    "# ans: 'resta$t'\n",
    "str1.replace('rt','$t') # wrong"
   ]
  },
  {
   "cell_type": "markdown",
   "id": "34c79aa1-67f1-4ea8-8622-aa8a3ac48aee",
   "metadata": {},
   "source": [
    "- till first 'r' is the one string\n",
    "\n",
    "- after first 'r' is the another string"
   ]
  },
  {
   "cell_type": "code",
   "execution_count": 8,
   "id": "02051f2a-5cd7-416e-9612-ea4e4cb3f230",
   "metadata": {},
   "outputs": [
    {
     "data": {
      "text/plain": [
       "'resta$t'"
      ]
     },
     "execution_count": 8,
     "metadata": {},
     "output_type": "execute_result"
    }
   ],
   "source": [
    "str1='restart'\n",
    "s1=str1[0]  # indexing\n",
    "s2=str1[1:] # slicing\n",
    "s3=s2.replace('r','$') # replace\n",
    "s1+s3 # concatenation"
   ]
  },
  {
   "cell_type": "code",
   "execution_count": 12,
   "id": "745e7eaf-c79c-4af3-b23b-83e0bb9beb36",
   "metadata": {},
   "outputs": [
    {
     "data": {
      "text/plain": [
       "'resta$t'"
      ]
     },
     "execution_count": 12,
     "metadata": {},
     "output_type": "execute_result"
    }
   ],
   "source": [
    "str1='restart'\n",
    "str1[::-1].replace('r','$',1)[::-1]"
   ]
  },
  {
   "cell_type": "code",
   "execution_count": null,
   "id": "84e6d712-b7b9-4db0-8864-25344cd1f9c1",
   "metadata": {},
   "outputs": [],
   "source": [
    "str1='restart restart'\n",
    "# i want to replace the third 'r'\n",
    "# third 'r' means we have alreday 'r's\n",
    "# we need to slice the sentence\n",
    "# till second 'r' : one string\n",
    "# after second 'r' : one string\n",
    "\n",
    "# but here the drawback is we need to find the index of second 'r'\n",
    "# we are manually counting\n",
    "\n",
    "# Next qn: is there any method to give automatically the index of letter"
   ]
  },
  {
   "cell_type": "markdown",
   "id": "92159d44-7b2f-4fb2-aa8c-36f7aac19c68",
   "metadata": {},
   "source": [
    "**index**"
   ]
  },
  {
   "cell_type": "code",
   "execution_count": 13,
   "id": "9ade4203-644b-42d4-ac03-9e4d3538c6e5",
   "metadata": {},
   "outputs": [
    {
     "data": {
      "text/plain": [
       "0"
      ]
     },
     "execution_count": 13,
     "metadata": {},
     "output_type": "execute_result"
    }
   ],
   "source": [
    "str1='hello hai how are you'\n",
    "str1.index('h')"
   ]
  },
  {
   "cell_type": "code",
   "execution_count": 15,
   "id": "dd395c27-a50a-41a4-88ee-40fa8441cf50",
   "metadata": {},
   "outputs": [
    {
     "data": {
      "text/plain": [
       "(12, 4)"
      ]
     },
     "execution_count": 15,
     "metadata": {},
     "output_type": "execute_result"
    }
   ],
   "source": [
    "str1.index('w'), str1.index('o')"
   ]
  },
  {
   "cell_type": "code",
   "execution_count": 17,
   "id": "e2117307-0934-47b2-9d3d-2bb365578f33",
   "metadata": {},
   "outputs": [
    {
     "data": {
      "text/plain": [
       "3"
      ]
     },
     "execution_count": 17,
     "metadata": {},
     "output_type": "execute_result"
    }
   ],
   "source": [
    "#hello hai\n",
    "#012345678\n",
    "str1='welho hai how are you'\n",
    "str1.index('h',3+1)"
   ]
  },
  {
   "cell_type": "code",
   "execution_count": 23,
   "id": "dc9367d0-59a3-4bff-bcfc-436ceef67713",
   "metadata": {},
   "outputs": [
    {
     "data": {
      "text/plain": [
       "(0, 4, 8, 12)"
      ]
     },
     "execution_count": 23,
     "metadata": {},
     "output_type": "execute_result"
    }
   ],
   "source": [
    "str1='hai hai hai hai'\n",
    "i1=str1.index('h')\n",
    "i2=str1.index('h',i1+1) # we are searching for 'h' from i1+1(0+1=1) index onwards\n",
    "i3=str1.index('h',i2+1) # # we are searching for 'h' from i2+1(4+1=5) index onwards\n",
    "i4=str1.index('h',i3+1)\n",
    "#i5=str1.index('h',i4+1)\n",
    "i1,i2,i3,i4"
   ]
  },
  {
   "cell_type": "code",
   "execution_count": 26,
   "id": "085d6536-057e-4379-aa47-02961d3aa920",
   "metadata": {},
   "outputs": [
    {
     "data": {
      "text/plain": [
       "8"
      ]
     },
     "execution_count": 26,
     "metadata": {},
     "output_type": "execute_result"
    }
   ],
   "source": [
    "str1.index('h',str1.index('h',str1.index('h')+1)+1)"
   ]
  },
  {
   "cell_type": "code",
   "execution_count": 28,
   "id": "204368ee-f2ed-4eab-b422-177a109fd6ae",
   "metadata": {},
   "outputs": [
    {
     "data": {
      "text/plain": [
       "'i hai '"
      ]
     },
     "execution_count": 28,
     "metadata": {},
     "output_type": "execute_result"
    }
   ],
   "source": [
    "str1='hai hai hai hai'\n",
    "str1.index('a',2,8)\n",
    "\n",
    "str1[2:8]"
   ]
  },
  {
   "cell_type": "code",
   "execution_count": 29,
   "id": "31cf21a9-9a08-41cf-afc2-5fb4a478dd12",
   "metadata": {},
   "outputs": [
    {
     "ename": "ValueError",
     "evalue": "substring not found",
     "output_type": "error",
     "traceback": [
      "\u001b[1;31m---------------------------------------------------------------------------\u001b[0m",
      "\u001b[1;31mValueError\u001b[0m                                Traceback (most recent call last)",
      "Cell \u001b[1;32mIn[29], line 2\u001b[0m\n\u001b[0;32m      1\u001b[0m str1\u001b[38;5;241m=\u001b[39m\u001b[38;5;124m'\u001b[39m\u001b[38;5;124mhai hai hai hai\u001b[39m\u001b[38;5;124m'\u001b[39m\n\u001b[1;32m----> 2\u001b[0m str1\u001b[38;5;241m.\u001b[39mindex(\u001b[38;5;124m'\u001b[39m\u001b[38;5;124mz\u001b[39m\u001b[38;5;124m'\u001b[39m,\u001b[38;5;241m2\u001b[39m,\u001b[38;5;241m8\u001b[39m)\n",
      "\u001b[1;31mValueError\u001b[0m: substring not found"
     ]
    }
   ],
   "source": [
    "str1='hai hai hai hai'\n",
    "str1.index('z',2,8)"
   ]
  },
  {
   "cell_type": "code",
   "execution_count": 35,
   "id": "196c68ea-80b0-4896-be1e-ae022db8a7c4",
   "metadata": {},
   "outputs": [
    {
     "data": {
      "text/plain": [
       "'restart $estart'"
      ]
     },
     "execution_count": 35,
     "metadata": {},
     "output_type": "execute_result"
    }
   ],
   "source": [
    "str1='restart restart'\n",
    "i1=str1.index('r')\n",
    "i2=str1.index('r',i1+1)\n",
    "s1=str1[:i2+1] # restar : starting : second_r_index+1\n",
    "s2=str1[i2+1:] # t restart : second_r_index+1 : last\n",
    "s3=s2.replace('r','$',1)\n",
    "s1+s3"
   ]
  },
  {
   "cell_type": "markdown",
   "id": "92329292-617a-46e8-b87e-cafb8eb6f8b4",
   "metadata": {},
   "source": [
    "**find**\n",
    "\n",
    "- just replace index with find\n",
    "\n",
    "- tell me th difference between index and find"
   ]
  },
  {
   "cell_type": "code",
   "execution_count": 38,
   "id": "78e1acb4-0051-4661-af05-bfba8955ed77",
   "metadata": {},
   "outputs": [
    {
     "data": {
      "text/plain": [
       "(0, 4, 8, 12, -1)"
      ]
     },
     "execution_count": 38,
     "metadata": {},
     "output_type": "execute_result"
    }
   ],
   "source": [
    "str1='hai hai hai hai'\n",
    "i1=str1.find('h')\n",
    "i2=str1.find('h',i1+1) # we are searching for 'h' from i1+1(0+1=1) index onwards\n",
    "i3=str1.find('h',i2+1) # # we are searching for 'h' from i2+1(4+1=5) index onwards\n",
    "i4=str1.find('h',i3+1)\n",
    "i5=str1.find('h',i4+1)\n",
    "i1,i2,i3,i4,i5"
   ]
  },
  {
   "cell_type": "markdown",
   "id": "aeb3715f-caf5-4b04-8450-c99627db0f2f",
   "metadata": {},
   "source": [
    "- index and find both are working for same to find the index of a letter\n",
    "\n",
    "- if any substring not found index will throw error\n",
    "\n",
    "- but find method will give -1"
   ]
  },
  {
   "cell_type": "markdown",
   "id": "082617db-6686-4460-bb28-2716112aae60",
   "metadata": {},
   "source": [
    "**count**"
   ]
  },
  {
   "cell_type": "code",
   "execution_count": 39,
   "id": "b3db9fee-2644-429a-9c3c-27b7e66354fd",
   "metadata": {},
   "outputs": [
    {
     "name": "stdout",
     "output_type": "stream",
     "text": [
      "4\n"
     ]
    }
   ],
   "source": [
    "str1='hai hai hai hai'\n",
    "count=0\n",
    "for i in str1:\n",
    "    if i=='a':\n",
    "        count=count+1\n",
    "print(count)"
   ]
  },
  {
   "cell_type": "code",
   "execution_count": 41,
   "id": "0f112e2d-07b1-487b-ac6b-2ad23e78302d",
   "metadata": {},
   "outputs": [
    {
     "data": {
      "text/plain": [
       "4"
      ]
     },
     "execution_count": 41,
     "metadata": {},
     "output_type": "execute_result"
    }
   ],
   "source": [
    "str1='hai hai hai hai'\n",
    "str1.count('a')"
   ]
  },
  {
   "cell_type": "code",
   "execution_count": 42,
   "id": "0ecc9272-e622-4eca-ba46-8d46fc4fba2b",
   "metadata": {},
   "outputs": [
    {
     "data": {
      "text/plain": [
       "1"
      ]
     },
     "execution_count": 42,
     "metadata": {},
     "output_type": "execute_result"
    }
   ],
   "source": [
    "str1.count('a',2,7)\n",
    "# count the number of 'a' between 2 to 6 index"
   ]
  },
  {
   "cell_type": "code",
   "execution_count": 49,
   "id": "6764992b-1f44-4c37-b113-d794f56de506",
   "metadata": {},
   "outputs": [
    {
     "data": {
      "text/plain": [
       "1"
      ]
     },
     "execution_count": 49,
     "metadata": {},
     "output_type": "execute_result"
    }
   ],
   "source": [
    "str1='hai hai hai'\n",
    "str1.count('hai hai hai')"
   ]
  },
  {
   "cell_type": "code",
   "execution_count": 50,
   "id": "140bb097-c21c-4330-b938-9fa8b0c5de33",
   "metadata": {},
   "outputs": [
    {
     "data": {
      "text/plain": [
       "1"
      ]
     },
     "execution_count": 50,
     "metadata": {},
     "output_type": "execute_result"
    }
   ],
   "source": [
    "str1='hai hai hai'\n",
    "str1.count(str1)"
   ]
  },
  {
   "cell_type": "code",
   "execution_count": 51,
   "id": "f7af0d28-ab2f-4f78-a532-42e663d4877d",
   "metadata": {},
   "outputs": [
    {
     "data": {
      "text/plain": [
       "3"
      ]
     },
     "execution_count": 51,
     "metadata": {},
     "output_type": "execute_result"
    }
   ],
   "source": [
    "str1='hai hai hai'\n",
    "str1.count('hai')"
   ]
  },
  {
   "cell_type": "markdown",
   "id": "02886c5b-7b08-4d0a-985f-89a4f3a6435f",
   "metadata": {},
   "source": [
    "**sliding window approach**"
   ]
  },
  {
   "cell_type": "code",
   "execution_count": 52,
   "id": "2fe377b2-1d23-4a7c-854d-440097865247",
   "metadata": {},
   "outputs": [
    {
     "name": "stdout",
     "output_type": "stream",
     "text": [
      "4\n"
     ]
    }
   ],
   "source": [
    "str1='hai hai hai hai'\n",
    "count=0\n",
    "for i in range(len(str1)):\n",
    "    if str1[i:i+3]=='hai':\n",
    "        count=count+1\n",
    "print(count)\n",
    "\n",
    "# step-1:  i=0  if str1[0:3] : hai==hai      T\n",
    "# step-2:  i=1  if str1[1:4] : 'ai '=='hai'  F\n",
    "# step-3:  i=2  if str1[2:5] : 'i h'=='hai'  F"
   ]
  },
  {
   "cell_type": "code",
   "execution_count": 55,
   "id": "5c08d3b4-2355-4bbe-8015-d98359c236ee",
   "metadata": {},
   "outputs": [
    {
     "data": {
      "text/plain": [
       "'ai '"
      ]
     },
     "execution_count": 55,
     "metadata": {},
     "output_type": "execute_result"
    }
   ],
   "source": [
    "str1='hai hai hai hai'\n",
    "str1[1:4]"
   ]
  },
  {
   "cell_type": "code",
   "execution_count": null,
   "id": "5003f978-2dae-412c-a017-86fe6477ba21",
   "metadata": {},
   "outputs": [],
   "source": [
    "str1='virat.kohli@rcb.com'\n",
    "str2='rohit.sharma@mi.com'\n",
    "str3='m.dhoni@chennai.com'\n",
    "str4='omkar.nallagoni@cts.com'\n",
    "str5='Nandu.kishore@google.com'\n",
    "# Derive the code to get\n",
    "# first name, second name, Cname\n",
    "\n",
    "# idea\n",
    "# find the first dot index\n",
    "# find the @ index\n",
    "# find the second dot index"
   ]
  },
  {
   "cell_type": "code",
   "execution_count": 65,
   "id": "4349f512-b91e-492a-803b-e7dacc3f358d",
   "metadata": {},
   "outputs": [
    {
     "name": "stdout",
     "output_type": "stream",
     "text": [
      "a b c\n"
     ]
    }
   ],
   "source": [
    "# fname : available from starting to first_dot\n",
    "# sname : availabe from firt_dot to @symbol\n",
    "# cname : available from @symbol to second_dot\n",
    "def extrcation(str1):\n",
    "    first_dot=str1.index('.')\n",
    "    second_dot=str1.index('.',first_dot+1)\n",
    "    at_symbol=str1.index('@')\n",
    "    fname=str1[:first_dot]\n",
    "    sname=str1[first_dot+1:at_symbol]\n",
    "    cname=str1[at_symbol+1:second_dot]\n",
    "    print(fname,sname,cname)\n",
    "\n",
    "extrcation('a.b@c.com')"
   ]
  },
  {
   "cell_type": "markdown",
   "id": "e686b652-7bca-4a84-b2ea-7d03e272545b",
   "metadata": {},
   "source": [
    "- upper/lower/casefold\n",
    "\n",
    "- title/capitalize\n",
    "\n",
    "- center\n",
    "\n",
    "- replace\n",
    "\n",
    "- index/find\n",
    "\n",
    "- count"
   ]
  },
  {
   "cell_type": "code",
   "execution_count": 66,
   "id": "d53fccfe-ac34-4f57-b187-f5c81e66a7ae",
   "metadata": {},
   "outputs": [
    {
     "data": {
      "text/plain": [
       "['__add__',\n",
       " '__class__',\n",
       " '__contains__',\n",
       " '__delattr__',\n",
       " '__dir__',\n",
       " '__doc__',\n",
       " '__eq__',\n",
       " '__format__',\n",
       " '__ge__',\n",
       " '__getattribute__',\n",
       " '__getitem__',\n",
       " '__getnewargs__',\n",
       " '__getstate__',\n",
       " '__gt__',\n",
       " '__hash__',\n",
       " '__init__',\n",
       " '__init_subclass__',\n",
       " '__iter__',\n",
       " '__le__',\n",
       " '__len__',\n",
       " '__lt__',\n",
       " '__mod__',\n",
       " '__mul__',\n",
       " '__ne__',\n",
       " '__new__',\n",
       " '__reduce__',\n",
       " '__reduce_ex__',\n",
       " '__repr__',\n",
       " '__rmod__',\n",
       " '__rmul__',\n",
       " '__setattr__',\n",
       " '__sizeof__',\n",
       " '__str__',\n",
       " '__subclasshook__',\n",
       " 'capitalize',\n",
       " 'casefold',\n",
       " 'center',\n",
       " 'count',\n",
       " 'encode',\n",
       " 'endswith',\n",
       " 'expandtabs',\n",
       " 'find',\n",
       " 'format',\n",
       " 'format_map',\n",
       " 'index',\n",
       " 'isalnum',\n",
       " 'isalpha',\n",
       " 'isascii',\n",
       " 'isdecimal',\n",
       " 'isdigit',\n",
       " 'isidentifier',\n",
       " 'islower',\n",
       " 'isnumeric',\n",
       " 'isprintable',\n",
       " 'isspace',\n",
       " 'istitle',\n",
       " 'isupper',\n",
       " 'join',\n",
       " 'ljust',\n",
       " 'lower',\n",
       " 'lstrip',\n",
       " 'maketrans',\n",
       " 'partition',\n",
       " 'removeprefix',\n",
       " 'removesuffix',\n",
       " 'replace',\n",
       " 'rfind',\n",
       " 'rindex',\n",
       " 'rjust',\n",
       " 'rpartition',\n",
       " 'rsplit',\n",
       " 'rstrip',\n",
       " 'split',\n",
       " 'splitlines',\n",
       " 'startswith',\n",
       " 'strip',\n",
       " 'swapcase',\n",
       " 'title',\n",
       " 'translate',\n",
       " 'upper',\n",
       " 'zfill']"
      ]
     },
     "execution_count": 66,
     "metadata": {},
     "output_type": "execute_result"
    }
   ],
   "source": [
    "dir('')"
   ]
  },
  {
   "cell_type": "code",
   "execution_count": null,
   "id": "608e05d3-0681-4a57-aa82-2e90b3e1796e",
   "metadata": {},
   "outputs": [],
   "source": [
    "'isalnum',\n",
    "'isalpha',\n",
    "'isascii',\n",
    "'isdecimal',\n",
    "'isdigit',\n",
    "'isidentifier',\n",
    "'islower',\n",
    "'isnumeric',\n",
    "'isprintable',\n",
    "'isspace',\n",
    "'istitle',\n",
    "'isupper',"
   ]
  },
  {
   "cell_type": "code",
   "execution_count": 67,
   "id": "6589223c-1c44-4ccc-a69f-4ef056adeed9",
   "metadata": {},
   "outputs": [
    {
     "data": {
      "text/plain": [
       "False"
      ]
     },
     "execution_count": 67,
     "metadata": {},
     "output_type": "execute_result"
    }
   ],
   "source": [
    "str1='python'\n",
    "str1.isupper()"
   ]
  },
  {
   "cell_type": "markdown",
   "id": "e2f399e9-4d40-4b52-86a4-c220e866745e",
   "metadata": {},
   "source": [
    "**lstrip-strip-rstrip**"
   ]
  },
  {
   "cell_type": "markdown",
   "id": "81afbc3d-a259-4d59-821c-e5dc7d4c9fcb",
   "metadata": {},
   "source": [
    "- lstrip : we can remove some letters from left side of string\n",
    "\n",
    "- rstrip : we can remove some letters from right side of string\n",
    "\n",
    "- strip : we can remove some letters from both side of string"
   ]
  },
  {
   "cell_type": "code",
   "execution_count": 71,
   "id": "04e5a25e-e381-4927-ad2d-e12504993c90",
   "metadata": {},
   "outputs": [],
   "source": [
    "s1=' hai how are you'\n",
    "s2='hai how are you '\n",
    "s3=' hai how are you '"
   ]
  },
  {
   "cell_type": "code",
   "execution_count": 73,
   "id": "e86faadd-3b61-4a0e-b36d-e3ca03ba8289",
   "metadata": {},
   "outputs": [
    {
     "data": {
      "text/plain": [
       "('hai how are you', ' hai how are you', 'hai how are you')"
      ]
     },
     "execution_count": 73,
     "metadata": {},
     "output_type": "execute_result"
    }
   ],
   "source": [
    "s1.lstrip(),s1.rstrip(),s1.strip()"
   ]
  },
  {
   "cell_type": "code",
   "execution_count": 75,
   "id": "bb2aace3-0bc4-4cc1-806e-f7c08c9a2a4a",
   "metadata": {},
   "outputs": [
    {
     "data": {
      "text/plain": [
       "('hai how are you ', 'hai how are you', 'hai how are you')"
      ]
     },
     "execution_count": 75,
     "metadata": {},
     "output_type": "execute_result"
    }
   ],
   "source": [
    "s2.lstrip(),s2.rstrip(),s2.strip()"
   ]
  },
  {
   "cell_type": "code",
   "execution_count": 70,
   "id": "93a9ee0e-c5c9-4681-ac73-244f12e78950",
   "metadata": {},
   "outputs": [
    {
     "data": {
      "text/plain": [
       "'hai how are you'"
      ]
     },
     "execution_count": 70,
     "metadata": {},
     "output_type": "execute_result"
    }
   ],
   "source": [
    "s1='***hai how are you'\n",
    "s1.lstrip('*')"
   ]
  },
  {
   "cell_type": "code",
   "execution_count": 74,
   "id": "116b8b74-01b0-4129-b7ad-43d2f68110ae",
   "metadata": {},
   "outputs": [
    {
     "data": {
      "text/plain": [
       "'hai how are you'"
      ]
     },
     "execution_count": 74,
     "metadata": {},
     "output_type": "execute_result"
    }
   ],
   "source": [
    "s11=' hai how are you'\n",
    "s22='hai how are you '\n",
    "s33=' hai how are you '\n",
    "s11.lstrip()"
   ]
  },
  {
   "cell_type": "markdown",
   "id": "9d6c0688-fdbe-4f3f-9d50-7b6207767f60",
   "metadata": {},
   "source": [
    "**startswith-endswith**"
   ]
  },
  {
   "cell_type": "code",
   "execution_count": 81,
   "id": "773bf209-134b-48a2-bd92-0857f3697dbe",
   "metadata": {},
   "outputs": [
    {
     "data": {
      "text/plain": [
       "True"
      ]
     },
     "execution_count": 81,
     "metadata": {},
     "output_type": "execute_result"
    }
   ],
   "source": [
    "str1='hai how are you'\n",
    "str1.startswith('hai how are you')"
   ]
  },
  {
   "cell_type": "code",
   "execution_count": 82,
   "id": "c41cb8f3-46e0-494a-8ce5-04ce21ee1b5e",
   "metadata": {},
   "outputs": [
    {
     "data": {
      "text/plain": [
       "True"
      ]
     },
     "execution_count": 82,
     "metadata": {},
     "output_type": "execute_result"
    }
   ],
   "source": [
    "str1='hai how are you'\n",
    "str1.startswith(str1)"
   ]
  },
  {
   "cell_type": "markdown",
   "id": "f9e5c549-663c-4441-81cc-56fb958c1284",
   "metadata": {},
   "source": [
    "**split**"
   ]
  },
  {
   "cell_type": "code",
   "execution_count": 86,
   "id": "a26547bc-f2de-41b8-b7b5-2328b8202e1c",
   "metadata": {},
   "outputs": [
    {
     "data": {
      "text/plain": [
       "[' ', 'ello ', 'ow are you']"
      ]
     },
     "execution_count": 86,
     "metadata": {},
     "output_type": "execute_result"
    }
   ],
   "source": [
    "str1='hello how are you'\n",
    "str1.split('h')\n",
    "# 'ello '   ow are you"
   ]
  },
  {
   "cell_type": "code",
   "execution_count": 85,
   "id": "acc951a6-a96f-415f-8ad2-ee817125bb65",
   "metadata": {},
   "outputs": [
    {
     "data": {
      "text/plain": [
       "['h', 'i h', 'i h', 'i h', 'i']"
      ]
     },
     "execution_count": 85,
     "metadata": {},
     "output_type": "execute_result"
    }
   ],
   "source": [
    "str1='hai hai hai hai'\n",
    "str1.split('a')\n",
    "# 'h', 'i h', 'i h'.'i h'.i"
   ]
  },
  {
   "cell_type": "code",
   "execution_count": null,
   "id": "14c030a4-8182-4404-a9e2-7edbd5f87708",
   "metadata": {},
   "outputs": [],
   "source": [
    "# in a given sentence find the most repetaed word\n",
    "# in a given senetence find min and max len of word\n",
    "# in a given stentence most occured second max length of word\n",
    "# sliding window\n",
    "# strings ===list vise versa\n",
    "# hai how are you : Hai  How  Are You (with out method)"
   ]
  }
 ],
 "metadata": {
  "kernelspec": {
   "display_name": "Python 3 (ipykernel)",
   "language": "python",
   "name": "python3"
  },
  "language_info": {
   "codemirror_mode": {
    "name": "ipython",
    "version": 3
   },
   "file_extension": ".py",
   "mimetype": "text/x-python",
   "name": "python",
   "nbconvert_exporter": "python",
   "pygments_lexer": "ipython3",
   "version": "3.11.7"
  }
 },
 "nbformat": 4,
 "nbformat_minor": 5
}
