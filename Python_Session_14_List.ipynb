{
 "cells": [
  {
   "cell_type": "markdown",
   "id": "848885dd-5c71-4d20-8c68-97f18cd7e029",
   "metadata": {},
   "source": [
    "- intilaization\n",
    "\n",
    "- inbulit funtions\n",
    "\n",
    "- min\n",
    "\n",
    "- max\n",
    "\n",
    "- len\n",
    "\n",
    "- sorted\n",
    "\n",
    "- revered\n",
    "\n",
    "- print\n",
    "\n",
    "- type\n",
    "\n",
    "- index operations (for loop range vs in)\n",
    "\n",
    "- mutable vs immutable\n",
    "\n",
    "- concatenation\n",
    "\n",
    "- slicing\n",
    "\n",
    "- list methods"
   ]
  },
  {
   "cell_type": "code",
   "execution_count": null,
   "id": "6c0712f3-649e-48f9-8c53-fdd7d7b3e645",
   "metadata": {},
   "outputs": [],
   "source": []
  },
  {
   "cell_type": "markdown",
   "id": "c956536b-ec3f-4ff9-987c-271e8684132c",
   "metadata": {},
   "source": [
    "- strings denoted with quotes\n",
    "\n",
    "- list denoted with square brackets\n",
    "\n",
    "- list means array of elements\n",
    "\n",
    "- list can access any data type to gether"
   ]
  },
  {
   "cell_type": "code",
   "execution_count": 1,
   "id": "7ebd9b85-71fd-4fd2-8e76-e266febe2698",
   "metadata": {},
   "outputs": [
    {
     "data": {
      "text/plain": [
       "[1, 2, 3, 4]"
      ]
     },
     "execution_count": 1,
     "metadata": {},
     "output_type": "execute_result"
    }
   ],
   "source": [
    "l1=[1,2,3,4]\n",
    "l1"
   ]
  },
  {
   "cell_type": "code",
   "execution_count": 2,
   "id": "50bb5c7f-58f3-4832-9545-bf50ac9b18f0",
   "metadata": {},
   "outputs": [
    {
     "data": {
      "text/plain": [
       "list"
      ]
     },
     "execution_count": 2,
     "metadata": {},
     "output_type": "execute_result"
    }
   ],
   "source": [
    "type(l1)"
   ]
  },
  {
   "cell_type": "code",
   "execution_count": 3,
   "id": "7398cf90-2f88-4c93-8cd2-0eac87a2ec8a",
   "metadata": {},
   "outputs": [
    {
     "data": {
      "text/plain": [
       "['A', 'B', 'C']"
      ]
     },
     "execution_count": 3,
     "metadata": {},
     "output_type": "execute_result"
    }
   ],
   "source": [
    "l2=['A','B','C']\n",
    "l2"
   ]
  },
  {
   "cell_type": "code",
   "execution_count": 4,
   "id": "e5ca3f3b-10de-48b2-a7e7-6f84f430557c",
   "metadata": {},
   "outputs": [
    {
     "data": {
      "text/plain": [
       "[1, 2, 3, 4, 'A', 'B', 'C']"
      ]
     },
     "execution_count": 4,
     "metadata": {},
     "output_type": "execute_result"
    }
   ],
   "source": [
    "l3=[1,2,3,4,'A','B','C']\n",
    "l3"
   ]
  },
  {
   "cell_type": "code",
   "execution_count": null,
   "id": "a726ff22-a0c7-41a3-8edc-618fc12f08aa",
   "metadata": {},
   "outputs": [],
   "source": [
    "# create as many as lists witth different ways means different data types"
   ]
  },
  {
   "cell_type": "code",
   "execution_count": 5,
   "id": "a7cd13ce-127f-4c32-b39a-8a1e1d06d07a",
   "metadata": {},
   "outputs": [
    {
     "data": {
      "text/plain": [
       "[10, 20, 30, 'Apple', 'Banana', 'Cherry', True, False, 10.5, 20.5, (20+30j)]"
      ]
     },
     "execution_count": 5,
     "metadata": {},
     "output_type": "execute_result"
    }
   ],
   "source": [
    "l4=[10,20,30,'Apple','Banana','Cherry',True,False,10.5,20.5,20+30j]\n",
    "l4\n",
    "# list can represnt with any data types"
   ]
  },
  {
   "cell_type": "code",
   "execution_count": 6,
   "id": "2ad412bd-1837-48c2-9b44-dae11e203262",
   "metadata": {},
   "outputs": [
    {
     "data": {
      "text/plain": [
       "[10, 10, 10]"
      ]
     },
     "execution_count": 6,
     "metadata": {},
     "output_type": "execute_result"
    }
   ],
   "source": [
    "l5=[10,10,10]\n",
    "l5\n",
    "# Duplicates are allowed"
   ]
  },
  {
   "cell_type": "code",
   "execution_count": 7,
   "id": "6718116e-f18c-4cf8-b632-be1d7d09410d",
   "metadata": {},
   "outputs": [
    {
     "data": {
      "text/plain": [
       "[10, 20, 30, ['A', 'B', 'C']]"
      ]
     },
     "execution_count": 7,
     "metadata": {},
     "output_type": "execute_result"
    }
   ],
   "source": [
    "l6=[10,20,30,['A','B','C']]\n",
    "l6"
   ]
  },
  {
   "cell_type": "code",
   "execution_count": 8,
   "id": "7b786876-c911-461c-aa9f-ac790bab842e",
   "metadata": {},
   "outputs": [
    {
     "data": {
      "text/plain": [
       "[]"
      ]
     },
     "execution_count": 8,
     "metadata": {},
     "output_type": "execute_result"
    }
   ],
   "source": [
    "l7=[]\n",
    "l7"
   ]
  },
  {
   "cell_type": "code",
   "execution_count": 13,
   "id": "727b6757-8568-4b27-81d8-35b830c000d7",
   "metadata": {},
   "outputs": [
    {
     "data": {
      "text/plain": [
       "[[[[[[]]]]]]"
      ]
     },
     "execution_count": 13,
     "metadata": {},
     "output_type": "execute_result"
    }
   ],
   "source": [
    "l8=[_]\n",
    "l8\n",
    "# _ underscore means a variable"
   ]
  },
  {
   "cell_type": "code",
   "execution_count": 14,
   "id": "dc8400f2-7a73-4666-8b71-b763bda70ac2",
   "metadata": {},
   "outputs": [
    {
     "ename": "NameError",
     "evalue": "name 'python' is not defined",
     "output_type": "error",
     "traceback": [
      "\u001b[1;31m---------------------------------------------------------------------------\u001b[0m",
      "\u001b[1;31mNameError\u001b[0m                                 Traceback (most recent call last)",
      "Cell \u001b[1;32mIn[14], line 1\u001b[0m\n\u001b[1;32m----> 1\u001b[0m [python]\n",
      "\u001b[1;31mNameError\u001b[0m: name 'python' is not defined"
     ]
    }
   ],
   "source": [
    "[python] # error\n",
    "[_] # answer "
   ]
  },
  {
   "cell_type": "code",
   "execution_count": null,
   "id": "91c5ec43-4ae5-406c-9d4b-6c0685e72072",
   "metadata": {},
   "outputs": [],
   "source": [
    "l1=[1,2,3,4]\n",
    "l2=['A','B','C']\n",
    "l3=[1,2,3,4,'A','B','C']\n",
    "l4=[10,20,30,'Apple','Banana','Cherry',True,False,10.5,20.5,20+30j]\n",
    "l5=[10,10,10]\n",
    "l6=[10,20,30,['A','B','C']]\n",
    "l7=[]"
   ]
  },
  {
   "cell_type": "markdown",
   "id": "1d7b0b25-e05a-47b7-a9b5-6cc508c79e25",
   "metadata": {},
   "source": [
    "- List can access with square brackets\n",
    "\n",
    "- List can have any data type of elememts\n",
    "\n",
    "    - Heterogeneous \n",
    "\n",
    "- List can have duplicates\n",
    "\n",
    "- List in List is possible\n",
    "\n",
    "- Empty List can also possibile\n",
    "\n",
    "- The values inside list is called as elements"
   ]
  },
  {
   "cell_type": "code",
   "execution_count": 21,
   "id": "bab4992e-ab85-48d5-b1c0-d7487e45533e",
   "metadata": {},
   "outputs": [
    {
     "data": {
      "text/plain": [
       "(4, 3, 7, 11, 3, 4, 0)"
      ]
     },
     "execution_count": 21,
     "metadata": {},
     "output_type": "execute_result"
    }
   ],
   "source": [
    "len(l1),len(l2),len(l3),len(l4),len(l5),len(l6),len(l7)"
   ]
  },
  {
   "cell_type": "code",
   "execution_count": 22,
   "id": "2e1706b8-2b75-46b7-93d5-9e83b122a453",
   "metadata": {},
   "outputs": [
    {
     "data": {
      "text/plain": [
       "[1, 2, 3, 4]"
      ]
     },
     "execution_count": 22,
     "metadata": {},
     "output_type": "execute_result"
    }
   ],
   "source": [
    "l1"
   ]
  },
  {
   "cell_type": "code",
   "execution_count": 24,
   "id": "186c53c6-57d1-4333-8639-c420b15bbe88",
   "metadata": {},
   "outputs": [
    {
     "data": {
      "text/plain": [
       "(1, 4)"
      ]
     },
     "execution_count": 24,
     "metadata": {},
     "output_type": "execute_result"
    }
   ],
   "source": [
    "min(l1),max(l1)"
   ]
  },
  {
   "cell_type": "code",
   "execution_count": 25,
   "id": "9b3fb385-dc21-48a0-b1e5-a9488a6a2324",
   "metadata": {},
   "outputs": [
    {
     "data": {
      "text/plain": [
       "['A', 'B', 'C']"
      ]
     },
     "execution_count": 25,
     "metadata": {},
     "output_type": "execute_result"
    }
   ],
   "source": [
    "l2"
   ]
  },
  {
   "cell_type": "code",
   "execution_count": 27,
   "id": "07247ba7-92ed-47d7-918c-d706bff460eb",
   "metadata": {},
   "outputs": [
    {
     "data": {
      "text/plain": [
       "('A', 'C')"
      ]
     },
     "execution_count": 27,
     "metadata": {},
     "output_type": "execute_result"
    }
   ],
   "source": [
    "min(l2),max(l2)"
   ]
  },
  {
   "cell_type": "code",
   "execution_count": 28,
   "id": "91d8f321-e7bc-4397-9e60-826a4d229df0",
   "metadata": {},
   "outputs": [
    {
     "data": {
      "text/plain": [
       "[1, 2, 3, 4, 'A', 'B', 'C']"
      ]
     },
     "execution_count": 28,
     "metadata": {},
     "output_type": "execute_result"
    }
   ],
   "source": [
    "l3"
   ]
  },
  {
   "cell_type": "code",
   "execution_count": 29,
   "id": "137ff5ec-f9d2-4a6d-bc02-8e94a77d1469",
   "metadata": {},
   "outputs": [
    {
     "ename": "TypeError",
     "evalue": "'<' not supported between instances of 'str' and 'int'",
     "output_type": "error",
     "traceback": [
      "\u001b[1;31m---------------------------------------------------------------------------\u001b[0m",
      "\u001b[1;31mTypeError\u001b[0m                                 Traceback (most recent call last)",
      "Cell \u001b[1;32mIn[29], line 1\u001b[0m\n\u001b[1;32m----> 1\u001b[0m \u001b[38;5;28mmin\u001b[39m(l3)\n",
      "\u001b[1;31mTypeError\u001b[0m: '<' not supported between instances of 'str' and 'int'"
     ]
    }
   ],
   "source": [
    "min(l3)\n",
    "# same data type should be compare\n",
    "# 'A' ==== some level\n",
    "#  1 ==== some level (not happend)"
   ]
  },
  {
   "cell_type": "code",
   "execution_count": 30,
   "id": "5ef55ba7-e3cb-4046-8f02-709ce5223a33",
   "metadata": {},
   "outputs": [
    {
     "data": {
      "text/plain": [
       "[10, 20, 30, 'Apple', 'Banana', 'Cherry', True, False, 10.5, 20.5, (20+30j)]"
      ]
     },
     "execution_count": 30,
     "metadata": {},
     "output_type": "execute_result"
    }
   ],
   "source": [
    "l4\n",
    "# min max fail"
   ]
  },
  {
   "cell_type": "code",
   "execution_count": 31,
   "id": "3e4f6b93-70a5-41fb-ab9b-760fc6d10b2d",
   "metadata": {},
   "outputs": [
    {
     "data": {
      "text/plain": [
       "[10, 10, 10]"
      ]
     },
     "execution_count": 31,
     "metadata": {},
     "output_type": "execute_result"
    }
   ],
   "source": [
    "l5"
   ]
  },
  {
   "cell_type": "code",
   "execution_count": 33,
   "id": "7ecec699-d825-4c9d-af54-6f14a18fe8f3",
   "metadata": {},
   "outputs": [
    {
     "data": {
      "text/plain": [
       "(10, 10)"
      ]
     },
     "execution_count": 33,
     "metadata": {},
     "output_type": "execute_result"
    }
   ],
   "source": [
    "min(l5),max(l5)"
   ]
  },
  {
   "cell_type": "code",
   "execution_count": 34,
   "id": "7203430c-0ca1-4e63-9b8e-9a23da200e23",
   "metadata": {},
   "outputs": [
    {
     "data": {
      "text/plain": [
       "[10, 20, 30, ['A', 'B', 'C']]"
      ]
     },
     "execution_count": 34,
     "metadata": {},
     "output_type": "execute_result"
    }
   ],
   "source": [
    "l6"
   ]
  },
  {
   "cell_type": "code",
   "execution_count": 36,
   "id": "feabe278-914f-4726-81c1-7e0eebb107e2",
   "metadata": {},
   "outputs": [
    {
     "data": {
      "text/plain": [
       "'\\n'"
      ]
     },
     "execution_count": 36,
     "metadata": {},
     "output_type": "execute_result"
    }
   ],
   "source": [
    "chr(10)"
   ]
  },
  {
   "cell_type": "code",
   "execution_count": 37,
   "id": "290d8802-e10e-4516-bd36-5e0205e71d5f",
   "metadata": {},
   "outputs": [
    {
     "ename": "TypeError",
     "evalue": "'list' object cannot be interpreted as an integer",
     "output_type": "error",
     "traceback": [
      "\u001b[1;31m---------------------------------------------------------------------------\u001b[0m",
      "\u001b[1;31mTypeError\u001b[0m                                 Traceback (most recent call last)",
      "Cell \u001b[1;32mIn[37], line 1\u001b[0m\n\u001b[1;32m----> 1\u001b[0m \u001b[38;5;28mchr\u001b[39m([])\n",
      "\u001b[1;31mTypeError\u001b[0m: 'list' object cannot be interpreted as an integer"
     ]
    }
   ],
   "source": [
    "chr([])"
   ]
  },
  {
   "cell_type": "code",
   "execution_count": 38,
   "id": "dddf9a4c-5a04-4b75-96f0-9024cf58c39f",
   "metadata": {},
   "outputs": [
    {
     "ename": "TypeError",
     "evalue": "ord() expected string of length 1, but list found",
     "output_type": "error",
     "traceback": [
      "\u001b[1;31m---------------------------------------------------------------------------\u001b[0m",
      "\u001b[1;31mTypeError\u001b[0m                                 Traceback (most recent call last)",
      "Cell \u001b[1;32mIn[38], line 1\u001b[0m\n\u001b[1;32m----> 1\u001b[0m \u001b[38;5;28mord\u001b[39m([])\n",
      "\u001b[1;31mTypeError\u001b[0m: ord() expected string of length 1, but list found"
     ]
    }
   ],
   "source": [
    "ord([])"
   ]
  },
  {
   "cell_type": "code",
   "execution_count": 39,
   "id": "239a24db-3031-4747-b569-b28774b9a8b0",
   "metadata": {},
   "outputs": [
    {
     "ename": "TypeError",
     "evalue": "'<' not supported between instances of 'list' and 'int'",
     "output_type": "error",
     "traceback": [
      "\u001b[1;31m---------------------------------------------------------------------------\u001b[0m",
      "\u001b[1;31mTypeError\u001b[0m                                 Traceback (most recent call last)",
      "Cell \u001b[1;32mIn[39], line 1\u001b[0m\n\u001b[1;32m----> 1\u001b[0m \u001b[38;5;28mmin\u001b[39m(l6)\n",
      "\u001b[1;31mTypeError\u001b[0m: '<' not supported between instances of 'list' and 'int'"
     ]
    }
   ],
   "source": [
    "min(l6)"
   ]
  },
  {
   "cell_type": "code",
   "execution_count": 40,
   "id": "bc67ad3a-656d-4a4e-81cd-16bcb7e1752a",
   "metadata": {},
   "outputs": [
    {
     "ename": "ValueError",
     "evalue": "min() arg is an empty sequence",
     "output_type": "error",
     "traceback": [
      "\u001b[1;31m---------------------------------------------------------------------------\u001b[0m",
      "\u001b[1;31mValueError\u001b[0m                                Traceback (most recent call last)",
      "Cell \u001b[1;32mIn[40], line 1\u001b[0m\n\u001b[1;32m----> 1\u001b[0m \u001b[38;5;28mmin\u001b[39m(l7),\u001b[38;5;28mmax\u001b[39m(l7)\n",
      "\u001b[1;31mValueError\u001b[0m: min() arg is an empty sequence"
     ]
    }
   ],
   "source": [
    "min(l7),max(l7)"
   ]
  },
  {
   "cell_type": "code",
   "execution_count": 41,
   "id": "1b7fae00-e76f-4f6f-88da-6ceed2c46ab3",
   "metadata": {},
   "outputs": [
    {
     "ename": "ValueError",
     "evalue": "min() arg is an empty sequence",
     "output_type": "error",
     "traceback": [
      "\u001b[1;31m---------------------------------------------------------------------------\u001b[0m",
      "\u001b[1;31mValueError\u001b[0m                                Traceback (most recent call last)",
      "Cell \u001b[1;32mIn[41], line 1\u001b[0m\n\u001b[1;32m----> 1\u001b[0m \u001b[38;5;28mmin\u001b[39m([])\n",
      "\u001b[1;31mValueError\u001b[0m: min() arg is an empty sequence"
     ]
    }
   ],
   "source": [
    "min([])"
   ]
  },
  {
   "cell_type": "code",
   "execution_count": 44,
   "id": "7b2de5f3-8a0a-4ed1-98b6-f2b9522fe240",
   "metadata": {},
   "outputs": [
    {
     "data": {
      "text/plain": [
       "(0, 1, 1)"
      ]
     },
     "execution_count": 44,
     "metadata": {},
     "output_type": "execute_result"
    }
   ],
   "source": [
    "len([]),len([100]),len([''])\n",
    "# is list  has element"
   ]
  },
  {
   "cell_type": "code",
   "execution_count": 45,
   "id": "7b27a717-7e5a-447a-bd49-d3b469601649",
   "metadata": {},
   "outputs": [
    {
     "data": {
      "text/plain": [
       "''"
      ]
     },
     "execution_count": 45,
     "metadata": {},
     "output_type": "execute_result"
    }
   ],
   "source": [
    "min(['','a'])"
   ]
  },
  {
   "cell_type": "code",
   "execution_count": null,
   "id": "d9d6b0a7-d33e-4a63-9ecc-17d22315d97c",
   "metadata": {},
   "outputs": [],
   "source": [
    "#sir y list([100]) is 1???\n",
    "[100] # 1\n",
    "[1,0,0] # 3\n",
    "['100'] # 1 \n",
    "len('100') # 3"
   ]
  },
  {
   "cell_type": "code",
   "execution_count": 46,
   "id": "56b307d5-5b90-42fd-b2fe-1730f2f05f9c",
   "metadata": {},
   "outputs": [
    {
     "data": {
      "text/plain": [
       "''"
      ]
     },
     "execution_count": 46,
     "metadata": {},
     "output_type": "execute_result"
    }
   ],
   "source": [
    "min(['','a'])\n",
    "\n",
    "# '' 32\n",
    "# 'a' 97"
   ]
  },
  {
   "cell_type": "code",
   "execution_count": null,
   "id": "d743ade7-fdd5-4da6-9746-680a29a17e7f",
   "metadata": {},
   "outputs": [],
   "source": [
    "# sir chars also have ascii values \n",
    "# why they cannot be compared with numbers \n",
    "# if we do min or max comaparison with list \n",
    "# containing hetrogeneous data type i.e char and string?\n",
    "\n",
    "# Rule: strings and number can not compare\n",
    "\n",
    "10 with 'A'\n",
    "\n",
    "10 L0 ===== No other level\n",
    "\n",
    "'A' ==== > 65 L1\n",
    "'B' ===== > 66 L1"
   ]
  },
  {
   "cell_type": "code",
   "execution_count": 49,
   "id": "d319869d-e7f7-4610-b87a-fcfe429781cb",
   "metadata": {},
   "outputs": [
    {
     "data": {
      "text/plain": [
       "[]"
      ]
     },
     "execution_count": 49,
     "metadata": {},
     "output_type": "execute_result"
    }
   ],
   "source": [
    "l1 # w\n",
    "l2 # w\n",
    "l3 # Hetero  NW\n",
    "l4 # NW\n",
    "l5 # W\n",
    "l6 # NW\n",
    "l7"
   ]
  },
  {
   "cell_type": "code",
   "execution_count": 50,
   "id": "07fcc377-f6e4-42d5-aefe-9af353fa1abd",
   "metadata": {},
   "outputs": [
    {
     "data": {
      "text/plain": [
       "[]"
      ]
     },
     "execution_count": 50,
     "metadata": {},
     "output_type": "execute_result"
    }
   ],
   "source": [
    "sorted([])\n",
    "# empty list means\n",
    "# does not has any elements"
   ]
  },
  {
   "cell_type": "code",
   "execution_count": 51,
   "id": "f4712eca-68dd-433b-8500-5cfc9fabf352",
   "metadata": {},
   "outputs": [
    {
     "ename": "ValueError",
     "evalue": "min() arg is an empty sequence",
     "output_type": "error",
     "traceback": [
      "\u001b[1;31m---------------------------------------------------------------------------\u001b[0m",
      "\u001b[1;31mValueError\u001b[0m                                Traceback (most recent call last)",
      "Cell \u001b[1;32mIn[51], line 1\u001b[0m\n\u001b[1;32m----> 1\u001b[0m \u001b[38;5;28mmin\u001b[39m([])\n",
      "\u001b[1;31mValueError\u001b[0m: min() arg is an empty sequence"
     ]
    }
   ],
   "source": [
    "min([])"
   ]
  },
  {
   "cell_type": "code",
   "execution_count": 52,
   "id": "825f5dac-3400-404f-8f2f-6f7f6af1703f",
   "metadata": {},
   "outputs": [
    {
     "data": {
      "text/plain": [
       "<list_reverseiterator at 0x29bf283d630>"
      ]
     },
     "execution_count": 52,
     "metadata": {},
     "output_type": "execute_result"
    }
   ],
   "source": [
    "reversed(l1)"
   ]
  },
  {
   "cell_type": "code",
   "execution_count": 53,
   "id": "b55ef684-09fa-4134-b067-d19f875571e5",
   "metadata": {},
   "outputs": [
    {
     "name": "stdout",
     "output_type": "stream",
     "text": [
      "4\n",
      "3\n",
      "2\n",
      "1\n"
     ]
    }
   ],
   "source": [
    "for i in reversed(l1):\n",
    "    print(i)"
   ]
  },
  {
   "cell_type": "code",
   "execution_count": 54,
   "id": "606e89dd-cd17-42e3-b17a-330751e04d1b",
   "metadata": {},
   "outputs": [
    {
     "data": {
      "text/plain": [
       "[4, 3, 2, 1]"
      ]
     },
     "execution_count": 54,
     "metadata": {},
     "output_type": "execute_result"
    }
   ],
   "source": [
    "list(reversed(l1))"
   ]
  },
  {
   "cell_type": "code",
   "execution_count": 55,
   "id": "70e51cb6-3fae-4cd2-a961-487489486c5b",
   "metadata": {},
   "outputs": [
    {
     "data": {
      "text/plain": [
       "[<list_reverseiterator at 0x29bf3b4a830>]"
      ]
     },
     "execution_count": 55,
     "metadata": {},
     "output_type": "execute_result"
    }
   ],
   "source": [
    "[reversed(l1)]"
   ]
  },
  {
   "cell_type": "code",
   "execution_count": 56,
   "id": "e7d8dbff-264d-4668-a70a-63a8a7d0f29f",
   "metadata": {},
   "outputs": [
    {
     "data": {
      "text/plain": [
       "['A', 'B', 'C']"
      ]
     },
     "execution_count": 56,
     "metadata": {},
     "output_type": "execute_result"
    }
   ],
   "source": [
    "l2"
   ]
  },
  {
   "cell_type": "code",
   "execution_count": 59,
   "id": "b27f8b0e-7ed1-455d-87a1-e8d9200428d8",
   "metadata": {},
   "outputs": [
    {
     "data": {
      "text/plain": [
       "['C', 'B', 'A', 4, 3, 2, 1]"
      ]
     },
     "execution_count": 59,
     "metadata": {},
     "output_type": "execute_result"
    }
   ],
   "source": [
    "list(reversed(l3))"
   ]
  },
  {
   "cell_type": "code",
   "execution_count": 60,
   "id": "0a857dd6-bc49-4b34-adce-e39a9f34f7f9",
   "metadata": {},
   "outputs": [
    {
     "data": {
      "text/plain": [
       "[10, 10, 10]"
      ]
     },
     "execution_count": 60,
     "metadata": {},
     "output_type": "execute_result"
    }
   ],
   "source": [
    "l5"
   ]
  },
  {
   "cell_type": "code",
   "execution_count": 61,
   "id": "79cea65d-1fb7-4712-8e3e-c7ad1a0cc7f9",
   "metadata": {},
   "outputs": [
    {
     "data": {
      "text/plain": [
       "[10, 20, 30, ['A', 'B', 'C']]"
      ]
     },
     "execution_count": 61,
     "metadata": {},
     "output_type": "execute_result"
    }
   ],
   "source": [
    "l6"
   ]
  },
  {
   "cell_type": "code",
   "execution_count": 63,
   "id": "2b9d7221-614c-4313-b767-2bd99e3883a4",
   "metadata": {},
   "outputs": [
    {
     "data": {
      "text/plain": [
       "[['A', 'B', 'C'], 30, 20, 10]"
      ]
     },
     "execution_count": 63,
     "metadata": {},
     "output_type": "execute_result"
    }
   ],
   "source": [
    "list(reversed(l6))"
   ]
  },
  {
   "cell_type": "markdown",
   "id": "3dce068d-0841-484f-85a3-1d62f6be498a",
   "metadata": {},
   "source": [
    "- sorted will compare the elements\n",
    "\n",
    "- the same rules applicable for min and max\n",
    "\n",
    "- sorted never return any error eventhough we have an empty list\n",
    "\n",
    "- min and max will give error if it has empty list\n",
    "\n",
    "- Reveresed only do reveres elements "
   ]
  },
  {
   "cell_type": "code",
   "execution_count": null,
   "id": "e5d756ae-5fba-4cbb-b791-906e3a30c9f5",
   "metadata": {},
   "outputs": [],
   "source": [
    "min/max/sorted/reveresed/len"
   ]
  },
  {
   "cell_type": "markdown",
   "id": "62149071-9c66-4a86-bd54-895ea7c0f737",
   "metadata": {},
   "source": [
    "**sum**"
   ]
  },
  {
   "cell_type": "code",
   "execution_count": 64,
   "id": "1d42f15d-c180-4aac-a7d7-0973eb9efe55",
   "metadata": {},
   "outputs": [
    {
     "data": {
      "text/plain": [
       "600"
      ]
     },
     "execution_count": 64,
     "metadata": {},
     "output_type": "execute_result"
    }
   ],
   "source": [
    "sum([100,200,300])"
   ]
  },
  {
   "cell_type": "code",
   "execution_count": 65,
   "id": "f6158ff1-a315-4f64-bf1b-5b95a4b29002",
   "metadata": {},
   "outputs": [
    {
     "ename": "TypeError",
     "evalue": "unsupported operand type(s) for +: 'int' and 'str'",
     "output_type": "error",
     "traceback": [
      "\u001b[1;31m---------------------------------------------------------------------------\u001b[0m",
      "\u001b[1;31mTypeError\u001b[0m                                 Traceback (most recent call last)",
      "Cell \u001b[1;32mIn[65], line 1\u001b[0m\n\u001b[1;32m----> 1\u001b[0m \u001b[38;5;28msum\u001b[39m([\u001b[38;5;124m'\u001b[39m\u001b[38;5;124mA\u001b[39m\u001b[38;5;124m'\u001b[39m,\u001b[38;5;124m'\u001b[39m\u001b[38;5;124mB\u001b[39m\u001b[38;5;124m'\u001b[39m,\u001b[38;5;124m'\u001b[39m\u001b[38;5;124mC\u001b[39m\u001b[38;5;124m'\u001b[39m])\n",
      "\u001b[1;31mTypeError\u001b[0m: unsupported operand type(s) for +: 'int' and 'str'"
     ]
    }
   ],
   "source": [
    "sum(['A','B','C'])"
   ]
  },
  {
   "cell_type": "code",
   "execution_count": 67,
   "id": "65e5353a-64b6-4da1-8b48-c89e31a5f6d4",
   "metadata": {},
   "outputs": [
    {
     "data": {
      "text/plain": [
       "160"
      ]
     },
     "execution_count": 67,
     "metadata": {},
     "output_type": "execute_result"
    }
   ],
   "source": [
    "sum([10,20,30],start=100)"
   ]
  },
  {
   "cell_type": "code",
   "execution_count": null,
   "id": "acb78b42-3ea0-41f0-9563-8b6e30bf05aa",
   "metadata": {},
   "outputs": [],
   "source": [
    "sum=100\n",
    "sum=sum+i"
   ]
  },
  {
   "cell_type": "code",
   "execution_count": 68,
   "id": "9c0e8176-830e-481b-9446-68bd536c40bf",
   "metadata": {},
   "outputs": [
    {
     "data": {
      "text/plain": [
       "0"
      ]
     },
     "execution_count": 68,
     "metadata": {},
     "output_type": "execute_result"
    }
   ],
   "source": [
    "sum([]) "
   ]
  },
  {
   "cell_type": "markdown",
   "id": "3b221490-8273-49fc-bf67-0cb4ac726073",
   "metadata": {},
   "source": [
    "**index**"
   ]
  },
  {
   "cell_type": "code",
   "execution_count": 69,
   "id": "05811d94-c13e-48ac-a9de-b65bc2bfabb2",
   "metadata": {},
   "outputs": [],
   "source": [
    "l1=[1,2,3,4,'A','B','C']\n",
    "\n",
    "# -7  -6  -5  -4  -3  -2  -1\n",
    "#[1,   2,  3,  4, 'A','B','C']\n",
    "# 0    1   2   3   4   5   6"
   ]
  },
  {
   "cell_type": "code",
   "execution_count": 71,
   "id": "7ba6057f-92aa-4efb-ab39-3660af171e57",
   "metadata": {},
   "outputs": [
    {
     "data": {
      "text/plain": [
       "(1, 1)"
      ]
     },
     "execution_count": 71,
     "metadata": {},
     "output_type": "execute_result"
    }
   ],
   "source": [
    "l1[0],l1[-7]"
   ]
  },
  {
   "cell_type": "code",
   "execution_count": null,
   "id": "480fdcc9-ed52-4736-bb3b-dce225af612d",
   "metadata": {},
   "outputs": [],
   "source": [
    "# by using for loop print the postive index\n",
    "# by using for loop print the negative index\n",
    "# by using for loop print both postive and negtaive index"
   ]
  },
  {
   "cell_type": "code",
   "execution_count": 80,
   "id": "cdad4a31-874d-439d-917e-017f26724bd1",
   "metadata": {},
   "outputs": [
    {
     "name": "stdout",
     "output_type": "stream",
     "text": [
      "the postive index of 10 is:0\n",
      "the negative index of 10 is:-7\n",
      "the postive index of 10 is:0 and negative index is: -7\n",
      "========================================\n",
      "the postive index of 20 is:1\n",
      "the negative index of 20 is:-6\n",
      "the postive index of 20 is:1 and negative index is: -6\n",
      "========================================\n",
      "the postive index of 30 is:2\n",
      "the negative index of 30 is:-5\n",
      "the postive index of 30 is:2 and negative index is: -5\n",
      "========================================\n",
      "the postive index of 40 is:3\n",
      "the negative index of 40 is:-4\n",
      "the postive index of 40 is:3 and negative index is: -4\n",
      "========================================\n",
      "the postive index of A is:4\n",
      "the negative index of A is:-3\n",
      "the postive index of A is:4 and negative index is: -3\n",
      "========================================\n",
      "the postive index of B is:5\n",
      "the negative index of B is:-2\n",
      "the postive index of B is:5 and negative index is: -2\n",
      "========================================\n",
      "the postive index of C is:6\n",
      "the negative index of C is:-1\n",
      "the postive index of C is:6 and negative index is: -1\n",
      "========================================\n"
     ]
    }
   ],
   "source": [
    "l1=[10,20,30,40,'A','B','C']\n",
    "for i in range(len(l1)):\n",
    "    print(f\"the postive index of {l1[i]} is:{i}\")\n",
    "    print(f\"the negative index of {l1[i]} is:{i-len(l1)}\")\n",
    "    print(f\"the postive index of {l1[i]} is:{i} and negative index is: {i-len(l1)}\")\n",
    "    print(\"========================================\")"
   ]
  },
  {
   "cell_type": "code",
   "execution_count": 81,
   "id": "6bfaf78e-23c2-44af-a66f-549745a72d09",
   "metadata": {},
   "outputs": [
    {
     "data": {
      "text/plain": [
       "10"
      ]
     },
     "execution_count": 81,
     "metadata": {},
     "output_type": "execute_result"
    }
   ],
   "source": [
    "l=[10,20,30]\n",
    "l[0]"
   ]
  },
  {
   "cell_type": "code",
   "execution_count": 82,
   "id": "9fabba9c-05bc-4d7f-a76b-6000c5ffc4ce",
   "metadata": {},
   "outputs": [
    {
     "data": {
      "text/plain": [
       "1"
      ]
     },
     "execution_count": 82,
     "metadata": {},
     "output_type": "execute_result"
    }
   ],
   "source": [
    "l=[[10,20,30]]\n",
    "# how to access the 10\n",
    "len(l)"
   ]
  },
  {
   "cell_type": "code",
   "execution_count": 92,
   "id": "7b88a88b-f27a-4793-a6d5-0da7d34c5efd",
   "metadata": {},
   "outputs": [
    {
     "data": {
      "text/plain": [
       "(10, 20, 30)"
      ]
     },
     "execution_count": 92,
     "metadata": {},
     "output_type": "execute_result"
    }
   ],
   "source": [
    "l=[\n",
    "    [10,20,30]\n",
    "]\n",
    "# how many elements are there in a list: 1 element\n",
    "len(l)  # \n",
    "l[0][0],l[0][1],l[0][2]"
   ]
  },
  {
   "cell_type": "code",
   "execution_count": 95,
   "id": "9824e3ee-bbb8-4623-8405-79d584bb50ca",
   "metadata": {},
   "outputs": [
    {
     "data": {
      "text/plain": [
       "'A'"
      ]
     },
     "execution_count": 95,
     "metadata": {},
     "output_type": "execute_result"
    }
   ],
   "source": [
    "l1=[10,20,['A','B']]\n",
    "# retrive the A \n",
    "# how many elements are there : 3\n",
    "len(l1)\n",
    "# how can we access 0,1,2\n",
    "l1[2][0]"
   ]
  },
  {
   "cell_type": "code",
   "execution_count": 98,
   "id": "8d25d729-02ee-43e0-aca9-53b5ef921cca",
   "metadata": {},
   "outputs": [
    {
     "data": {
      "text/plain": [
       "'Apple'"
      ]
     },
     "execution_count": 98,
     "metadata": {},
     "output_type": "execute_result"
    }
   ],
   "source": [
    "l1=[1,2,3,4,[5,6,['Apple']]]\n",
    "l1[4][2][0]"
   ]
  },
  {
   "cell_type": "code",
   "execution_count": 109,
   "id": "ec9a1987-af0e-493a-bf6d-5e89d4f5cbd0",
   "metadata": {},
   "outputs": [
    {
     "data": {
      "text/plain": [
       "'cherry'"
      ]
     },
     "execution_count": 109,
     "metadata": {},
     "output_type": "execute_result"
    }
   ],
   "source": [
    "l1=[1,2,3,[4,[5,['cherry']]]]\n",
    "len(l1)\n",
    "l1[3][1][1][0]"
   ]
  },
  {
   "cell_type": "code",
   "execution_count": 130,
   "id": "1134fac5-0526-497e-8053-a238c861ad41",
   "metadata": {},
   "outputs": [
    {
     "data": {
      "text/plain": [
       "'onion'"
      ]
     },
     "execution_count": 130,
     "metadata": {},
     "output_type": "execute_result"
    }
   ],
   "source": [
    "l1=[[[[[[[[['onion']]]]]]]]]\n",
    "l1[0][0][0][0][0][0][0][0][0]"
   ]
  },
  {
   "cell_type": "code",
   "execution_count": 121,
   "id": "edc6e470-10f5-45e2-b1ed-dac507a26eec",
   "metadata": {},
   "outputs": [
    {
     "data": {
      "text/plain": [
       "['Apple', ['Kashmir', ['India', ['Mumbai', ['Sharuk', ['Film', ['DDLJ']]]]]]]"
      ]
     },
     "execution_count": 121,
     "metadata": {},
     "output_type": "execute_result"
    }
   ],
   "source": [
    "l1=['Apple',['Kashmir',['India',['Mumbai',['Sharuk',['Film',['DDLJ']]]]]]]\n",
    "l1"
   ]
  },
  {
   "cell_type": "code",
   "execution_count": 128,
   "id": "c013da99-2fc5-4efe-9640-bd639a1ffa9d",
   "metadata": {},
   "outputs": [
    {
     "data": {
      "text/plain": [
       "'DDLJ'"
      ]
     },
     "execution_count": 128,
     "metadata": {},
     "output_type": "execute_result"
    }
   ],
   "source": [
    "l1[1][1][1][1][1][1][0]"
   ]
  },
  {
   "cell_type": "markdown",
   "id": "79d75526-e926-4292-b2c1-3354e923a580",
   "metadata": {},
   "source": [
    "**mutable vs immutable**"
   ]
  },
  {
   "cell_type": "code",
   "execution_count": 2,
   "id": "85ba3301-bfc8-48c2-a8ac-58f814ceba25",
   "metadata": {},
   "outputs": [
    {
     "ename": "TypeError",
     "evalue": "'str' object does not support item assignment",
     "output_type": "error",
     "traceback": [
      "\u001b[1;31m---------------------------------------------------------------------------\u001b[0m",
      "\u001b[1;31mTypeError\u001b[0m                                 Traceback (most recent call last)",
      "Cell \u001b[1;32mIn[2], line 2\u001b[0m\n\u001b[0;32m      1\u001b[0m str1\u001b[38;5;241m=\u001b[39m\u001b[38;5;124m'\u001b[39m\u001b[38;5;124mwelcome\u001b[39m\u001b[38;5;124m'\u001b[39m\n\u001b[1;32m----> 2\u001b[0m str1[\u001b[38;5;241m2\u001b[39m]\u001b[38;5;241m=\u001b[39m\u001b[38;5;124m'\u001b[39m\u001b[38;5;124mL\u001b[39m\u001b[38;5;124m'\u001b[39m\n\u001b[0;32m      3\u001b[0m str1\n",
      "\u001b[1;31mTypeError\u001b[0m: 'str' object does not support item assignment"
     ]
    }
   ],
   "source": [
    "str1='welcome'\n",
    "str1[2]='L'\n",
    "str1"
   ]
  },
  {
   "cell_type": "code",
   "execution_count": 4,
   "id": "50b621f8-abb9-4483-a9a9-7c603b4bc757",
   "metadata": {},
   "outputs": [
    {
     "data": {
      "text/plain": [
       "['w', 'e', 'L', 'c', 'o', 'm', 'e']"
      ]
     },
     "execution_count": 4,
     "metadata": {},
     "output_type": "execute_result"
    }
   ],
   "source": [
    "l1=['w','e','l','c','o','m','e']\n",
    "l1[2]='L'\n",
    "l1"
   ]
  },
  {
   "cell_type": "markdown",
   "id": "decba584-8c66-4ef2-a637-55b8a2e83d33",
   "metadata": {},
   "source": [
    "- we can change the list elements using index"
   ]
  },
  {
   "cell_type": "code",
   "execution_count": 5,
   "id": "3c567ad9-5ac3-466a-8be0-ac14a6b04872",
   "metadata": {},
   "outputs": [
    {
     "data": {
      "text/plain": [
       "'hellowelcome'"
      ]
     },
     "execution_count": 5,
     "metadata": {},
     "output_type": "execute_result"
    }
   ],
   "source": [
    "s1='hello'\n",
    "s2='welcome'\n",
    "s1+s2"
   ]
  },
  {
   "cell_type": "code",
   "execution_count": null,
   "id": "70193511-8bf9-43ef-90a4-f4e225ed63b5",
   "metadata": {},
   "outputs": [],
   "source": [
    "s1*s2 # fail\n",
    "s1-s2 # fail\n"
   ]
  },
  {
   "cell_type": "code",
   "execution_count": 6,
   "id": "1645f9f6-8a78-4ff3-82bd-f21aaed9832f",
   "metadata": {},
   "outputs": [
    {
     "data": {
      "text/plain": [
       "'hellohello'"
      ]
     },
     "execution_count": 6,
     "metadata": {},
     "output_type": "execute_result"
    }
   ],
   "source": [
    "s1*2"
   ]
  },
  {
   "cell_type": "code",
   "execution_count": 7,
   "id": "64272574-4822-4feb-812d-4015c692d61b",
   "metadata": {},
   "outputs": [
    {
     "data": {
      "text/plain": [
       "['h', 'e', 'l', 'l', 'o', 'w', 'e', 'l', 'c', 'o', 'm', 'e']"
      ]
     },
     "execution_count": 7,
     "metadata": {},
     "output_type": "execute_result"
    }
   ],
   "source": [
    "l1=['h','e','l','l','o']\n",
    "l2=['w','e','l','c','o','m','e']\n",
    "l1+l2"
   ]
  },
  {
   "cell_type": "code",
   "execution_count": null,
   "id": "ff02fb5d-eaa4-4ed0-a6fe-6b6691f755b8",
   "metadata": {},
   "outputs": [],
   "source": [
    "l1*l2 # error\n",
    "l1-l2 # error\n",
    "l1/l2 # error"
   ]
  },
  {
   "cell_type": "code",
   "execution_count": 8,
   "id": "d6c8be63-e7e6-4855-806c-3d1fbcb68363",
   "metadata": {},
   "outputs": [
    {
     "data": {
      "text/plain": [
       "['h', 'e', 'l', 'l', 'o', 'h', 'e', 'l', 'l', 'o']"
      ]
     },
     "execution_count": 8,
     "metadata": {},
     "output_type": "execute_result"
    }
   ],
   "source": [
    "l1*2"
   ]
  },
  {
   "cell_type": "markdown",
   "id": "6f128582-b0bc-43b3-ad1e-85b8ec2e723c",
   "metadata": {},
   "source": [
    "**slicing**"
   ]
  },
  {
   "cell_type": "code",
   "execution_count": null,
   "id": "70b8c913-8713-4970-affa-30d980a25309",
   "metadata": {},
   "outputs": [],
   "source": [
    "l1=[1,2,3,4,5,'A','B','C','D','10.5',True,10.5,100,200]\n",
    "l1[:] # same list  1\n",
    "l1[::] # same list 2\n",
    "l1[::-1] # reverse list 3\n",
    "l1[2:14:2] # w 4\n",
    "l1[2:14:-2] #nw 5\n",
    "l1[2:-14:2] # check this (nw) 6\n",
    "l1[-2:14:2] # check this (w) 7\n",
    "l1[-2:-14:-2] # works  8\n",
    "l1[14:2:2] # nw  9\n",
    "l1[14:2:-2] # w  10\n",
    "l1[14:-2:2] # check  this (nw) 11\n",
    "l1[-14:2:2] # check this (w)  12\n",
    "l1[-14:-2:-2] # check this (nw) 13"
   ]
  },
  {
   "cell_type": "markdown",
   "id": "4c58fda0-5d03-44cc-a49f-77eac2666e33",
   "metadata": {},
   "source": [
    "**Methods**"
   ]
  },
  {
   "cell_type": "code",
   "execution_count": 9,
   "id": "7f5649eb-cab8-4147-bd5c-27c27a676aaf",
   "metadata": {},
   "outputs": [
    {
     "data": {
      "text/plain": [
       "['__add__',\n",
       " '__class__',\n",
       " '__contains__',\n",
       " '__delattr__',\n",
       " '__dir__',\n",
       " '__doc__',\n",
       " '__eq__',\n",
       " '__format__',\n",
       " '__ge__',\n",
       " '__getattribute__',\n",
       " '__getitem__',\n",
       " '__getnewargs__',\n",
       " '__getstate__',\n",
       " '__gt__',\n",
       " '__hash__',\n",
       " '__init__',\n",
       " '__init_subclass__',\n",
       " '__iter__',\n",
       " '__le__',\n",
       " '__len__',\n",
       " '__lt__',\n",
       " '__mod__',\n",
       " '__mul__',\n",
       " '__ne__',\n",
       " '__new__',\n",
       " '__reduce__',\n",
       " '__reduce_ex__',\n",
       " '__repr__',\n",
       " '__rmod__',\n",
       " '__rmul__',\n",
       " '__setattr__',\n",
       " '__sizeof__',\n",
       " '__str__',\n",
       " '__subclasshook__',\n",
       " 'capitalize',\n",
       " 'casefold',\n",
       " 'center',\n",
       " 'count',\n",
       " 'encode',\n",
       " 'endswith',\n",
       " 'expandtabs',\n",
       " 'find',\n",
       " 'format',\n",
       " 'format_map',\n",
       " 'index',\n",
       " 'isalnum',\n",
       " 'isalpha',\n",
       " 'isascii',\n",
       " 'isdecimal',\n",
       " 'isdigit',\n",
       " 'isidentifier',\n",
       " 'islower',\n",
       " 'isnumeric',\n",
       " 'isprintable',\n",
       " 'isspace',\n",
       " 'istitle',\n",
       " 'isupper',\n",
       " 'join',\n",
       " 'ljust',\n",
       " 'lower',\n",
       " 'lstrip',\n",
       " 'maketrans',\n",
       " 'partition',\n",
       " 'removeprefix',\n",
       " 'removesuffix',\n",
       " 'replace',\n",
       " 'rfind',\n",
       " 'rindex',\n",
       " 'rjust',\n",
       " 'rpartition',\n",
       " 'rsplit',\n",
       " 'rstrip',\n",
       " 'split',\n",
       " 'splitlines',\n",
       " 'startswith',\n",
       " 'strip',\n",
       " 'swapcase',\n",
       " 'title',\n",
       " 'translate',\n",
       " 'upper',\n",
       " 'zfill']"
      ]
     },
     "execution_count": 9,
     "metadata": {},
     "output_type": "execute_result"
    }
   ],
   "source": [
    "dir('')"
   ]
  },
  {
   "cell_type": "code",
   "execution_count": 10,
   "id": "f6058a90-10a6-433e-8a64-074ff5abfb8a",
   "metadata": {},
   "outputs": [
    {
     "data": {
      "text/plain": [
       "['__add__',\n",
       " '__class__',\n",
       " '__class_getitem__',\n",
       " '__contains__',\n",
       " '__delattr__',\n",
       " '__delitem__',\n",
       " '__dir__',\n",
       " '__doc__',\n",
       " '__eq__',\n",
       " '__format__',\n",
       " '__ge__',\n",
       " '__getattribute__',\n",
       " '__getitem__',\n",
       " '__getstate__',\n",
       " '__gt__',\n",
       " '__hash__',\n",
       " '__iadd__',\n",
       " '__imul__',\n",
       " '__init__',\n",
       " '__init_subclass__',\n",
       " '__iter__',\n",
       " '__le__',\n",
       " '__len__',\n",
       " '__lt__',\n",
       " '__mul__',\n",
       " '__ne__',\n",
       " '__new__',\n",
       " '__reduce__',\n",
       " '__reduce_ex__',\n",
       " '__repr__',\n",
       " '__reversed__',\n",
       " '__rmul__',\n",
       " '__setattr__',\n",
       " '__setitem__',\n",
       " '__sizeof__',\n",
       " '__str__',\n",
       " '__subclasshook__',\n",
       " 'append',\n",
       " 'clear',\n",
       " 'copy',\n",
       " 'count',\n",
       " 'extend',\n",
       " 'index',\n",
       " 'insert',\n",
       " 'pop',\n",
       " 'remove',\n",
       " 'reverse',\n",
       " 'sort']"
      ]
     },
     "execution_count": 10,
     "metadata": {},
     "output_type": "execute_result"
    }
   ],
   "source": [
    "dir([])"
   ]
  },
  {
   "cell_type": "code",
   "execution_count": null,
   "id": "6d4f0fe6-504b-4ef0-8e09-6e9456fa92a1",
   "metadata": {},
   "outputs": [],
   "source": [
    "'append',\n",
    "'clear',\n",
    "'copy',\n",
    "'count',\n",
    "'extend',\n",
    "'index',\n",
    "'insert',\n",
    "'pop',\n",
    "'remove',\n",
    "'reverse',\n",
    "'sort'"
   ]
  },
  {
   "cell_type": "code",
   "execution_count": null,
   "id": "f14cb11e-d7a2-4581-a23c-1078cdb637ee",
   "metadata": {},
   "outputs": [],
   "source": [
    "- clear\n",
    "\n",
    "- copy\n",
    "\n",
    "- count\n",
    "\n",
    "- reverse\n",
    "\n",
    "- sort"
   ]
  },
  {
   "cell_type": "code",
   "execution_count": 11,
   "id": "2f3025f1-e4bd-462e-a3c8-762f334bc6b1",
   "metadata": {},
   "outputs": [
    {
     "data": {
      "text/plain": [
       "[10, 20, 30, 40]"
      ]
     },
     "execution_count": 11,
     "metadata": {},
     "output_type": "execute_result"
    }
   ],
   "source": [
    "l1=[10,20,30,40]\n",
    "l1"
   ]
  },
  {
   "cell_type": "code",
   "execution_count": null,
   "id": "6d030479-c097-4496-8fe3-e311ec6c4d45",
   "metadata": {},
   "outputs": [],
   "source": [
    "############### inbuilt functions ##############\n",
    "print()\n",
    "max()\n",
    "min()\n",
    "################## Methods ###################\n",
    "l1.<method_name>()\n",
    "method_name(l1) # MISTAKE "
   ]
  },
  {
   "cell_type": "markdown",
   "id": "444ff6a2-0c14-4c33-9b43-640844157090",
   "metadata": {},
   "source": [
    "**clear**"
   ]
  },
  {
   "cell_type": "code",
   "execution_count": 15,
   "id": "00690c14-78b5-4936-9057-60e3fe5ba26f",
   "metadata": {},
   "outputs": [],
   "source": [
    "l1=[10,20,30,40]\n",
    "l1.clear()"
   ]
  },
  {
   "cell_type": "code",
   "execution_count": 16,
   "id": "ba0e7b9b-5a85-4dac-bf9d-f5d27926593f",
   "metadata": {},
   "outputs": [
    {
     "data": {
      "text/plain": [
       "[]"
      ]
     },
     "execution_count": 16,
     "metadata": {},
     "output_type": "execute_result"
    }
   ],
   "source": [
    "l1"
   ]
  },
  {
   "cell_type": "markdown",
   "id": "0a6ab29f-6826-4cf9-8c85-dc41a99a501f",
   "metadata": {},
   "source": [
    "**copy**"
   ]
  },
  {
   "cell_type": "code",
   "execution_count": 17,
   "id": "d35dcb41-a17b-47e7-a3a4-cdee2ec0184b",
   "metadata": {},
   "outputs": [
    {
     "name": "stdout",
     "output_type": "stream",
     "text": [
      "l2: [10, 20, 30, 40]\n",
      "l1: []\n"
     ]
    }
   ],
   "source": [
    "l1=[10,20,30,40]\n",
    "l2=l1.copy()\n",
    "l1.clear()\n",
    "print('l2:',l2)\n",
    "print('l1:',l1)"
   ]
  },
  {
   "cell_type": "markdown",
   "id": "ba3d3571-e904-4cd8-abd5-53c370442dcb",
   "metadata": {},
   "source": [
    "**reverse vs reversed**\n",
    "\n",
    "- reversed is a inbulit function\n",
    "\n",
    "- reversed can be applicable all **iterable**\n",
    "\n",
    "- reversed applicabl for **strings,list,tuple,dict etc**\n",
    "\n",
    "- reversed(string), revrsed(list),reversed(tuple) etc\n",
    "\n",
    "**reverse**\n",
    "\n",
    "- reverse is a method is belongs to only list\n",
    "\n",
    "- reverse method can not applicable to strings, tuple and dict\n",
    "\n",
    "- list.reverse()"
   ]
  },
  {
   "cell_type": "code",
   "execution_count": 20,
   "id": "86581255-b934-4d1b-93fe-1ee82a668f7c",
   "metadata": {},
   "outputs": [
    {
     "data": {
      "text/plain": [
       "['C', 'B', 'A', 40, 30, 20, 10]"
      ]
     },
     "execution_count": 20,
     "metadata": {},
     "output_type": "execute_result"
    }
   ],
   "source": [
    "l1=[10,20,30,40,'A','B','C']\n",
    "l1.reverse()\n",
    "l1\n",
    "# reverse the elements save the output in same variable \n",
    "# it is indicates as **INPLACE**\n",
    "# some times inplace=True avaialbel"
   ]
  },
  {
   "cell_type": "code",
   "execution_count": 21,
   "id": "d157a702-75a9-4629-8bd1-a50f3420c4a4",
   "metadata": {},
   "outputs": [
    {
     "ename": "AttributeError",
     "evalue": "'str' object has no attribute 'reverse'",
     "output_type": "error",
     "traceback": [
      "\u001b[1;31m---------------------------------------------------------------------------\u001b[0m",
      "\u001b[1;31mAttributeError\u001b[0m                            Traceback (most recent call last)",
      "Cell \u001b[1;32mIn[21], line 2\u001b[0m\n\u001b[0;32m      1\u001b[0m str1\u001b[38;5;241m=\u001b[39m\u001b[38;5;124m'\u001b[39m\u001b[38;5;124mhello how are you\u001b[39m\u001b[38;5;124m'\u001b[39m\n\u001b[1;32m----> 2\u001b[0m str1\u001b[38;5;241m.\u001b[39mreverse()\n",
      "\u001b[1;31mAttributeError\u001b[0m: 'str' object has no attribute 'reverse'"
     ]
    }
   ],
   "source": [
    "str1='hello how are you'\n",
    "str1.reverse()"
   ]
  },
  {
   "cell_type": "code",
   "execution_count": 26,
   "id": "f886c467-82ef-4bbd-bbbe-39338739b0e4",
   "metadata": {},
   "outputs": [
    {
     "data": {
      "text/plain": [
       "[10, 20, 30, 40, 'A', 'B', 'C']"
      ]
     },
     "execution_count": 26,
     "metadata": {},
     "output_type": "execute_result"
    }
   ],
   "source": [
    "list(reversed(str1))\n",
    "list(reversed(l1))"
   ]
  },
  {
   "cell_type": "code",
   "execution_count": null,
   "id": "920d9e46-4195-4ec1-a550-8790e85afa11",
   "metadata": {},
   "outputs": [],
   "source": [
    "l1.reverse() # answer\n",
    "str1.reverse() # error"
   ]
  },
  {
   "cell_type": "markdown",
   "id": "c91e1593-500f-4a6b-b1ee-4a071f16ea78",
   "metadata": {},
   "source": [
    "**sort vs sorted**"
   ]
  },
  {
   "cell_type": "code",
   "execution_count": 27,
   "id": "6410148c-8c40-46c9-a118-3be0d2bc6635",
   "metadata": {},
   "outputs": [
    {
     "data": {
      "text/plain": [
       "list"
      ]
     },
     "execution_count": 27,
     "metadata": {},
     "output_type": "execute_result"
    }
   ],
   "source": [
    "type([])  # do not give list as variable"
   ]
  },
  {
   "cell_type": "code",
   "execution_count": 30,
   "id": "d834abc9-0366-4384-b707-44e76c1adf80",
   "metadata": {
    "scrolled": true
   },
   "outputs": [
    {
     "data": {
      "text/plain": [
       "[3, 5, 19, 25, 45]"
      ]
     },
     "execution_count": 30,
     "metadata": {},
     "output_type": "execute_result"
    }
   ],
   "source": [
    "list1=[19,25,3,45,5]\n",
    "list1.sort()\n",
    "list1"
   ]
  },
  {
   "cell_type": "code",
   "execution_count": 31,
   "id": "0c2d4845-c1a9-43d5-8ed7-1361436a8c01",
   "metadata": {},
   "outputs": [
    {
     "data": {
      "text/plain": [
       "[45, 25, 19, 5, 3]"
      ]
     },
     "execution_count": 31,
     "metadata": {},
     "output_type": "execute_result"
    }
   ],
   "source": [
    "list1=[19,25,3,45,5]\n",
    "list1.sort(reverse=True)\n",
    "list1"
   ]
  },
  {
   "cell_type": "code",
   "execution_count": 32,
   "id": "be4e38c6-c1f8-4bdd-8ab0-6126b438526a",
   "metadata": {},
   "outputs": [
    {
     "data": {
      "text/plain": [
       "[3, 5, 19, 25, 45]"
      ]
     },
     "execution_count": 32,
     "metadata": {},
     "output_type": "execute_result"
    }
   ],
   "source": [
    "sorted(list1)"
   ]
  },
  {
   "cell_type": "code",
   "execution_count": null,
   "id": "d597d145-d35b-476f-b00b-fcfc5834e566",
   "metadata": {},
   "outputs": [],
   "source": [
    "sorted(string) # works\n",
    "sorted(list) # works\n",
    "\n",
    "list.sort() # works\n",
    "string.sort() # fail"
   ]
  },
  {
   "cell_type": "markdown",
   "id": "d569c204-de4f-4002-a272-a1b4512bceb7",
   "metadata": {},
   "source": [
    "**append**\n",
    "\n",
    "- append means add an element at the end of the list\n",
    "\n",
    "- append is a method very important\n",
    "\n",
    "- append is used to store the outputs in a list\n",
    "\n",
    "- till last class we just printed all the outputs\n",
    "\n",
    "- if we want to save the outputs we need to do append only\n",
    "\n",
    "- append method we will use very very frequently"
   ]
  },
  {
   "cell_type": "code",
   "execution_count": 33,
   "id": "1e644037-59ca-43ac-a7ca-4e01b5d82a0b",
   "metadata": {},
   "outputs": [
    {
     "data": {
      "text/plain": [
       "[10]"
      ]
     },
     "execution_count": 33,
     "metadata": {},
     "output_type": "execute_result"
    }
   ],
   "source": [
    "# empty list\n",
    "l1=[]\n",
    "l1.append(10)\n",
    "l1"
   ]
  },
  {
   "cell_type": "code",
   "execution_count": 34,
   "id": "9c3677e8-1ad0-4361-a322-fe785201fec1",
   "metadata": {},
   "outputs": [
    {
     "data": {
      "text/plain": [
       "[1, 2, 3, 'apple']"
      ]
     },
     "execution_count": 34,
     "metadata": {},
     "output_type": "execute_result"
    }
   ],
   "source": [
    "l1=[1,2,3]\n",
    "l1.append('apple')\n",
    "l1"
   ]
  },
  {
   "cell_type": "code",
   "execution_count": 35,
   "id": "50768ac4-fbec-4e50-9cc6-5555f02c550c",
   "metadata": {},
   "outputs": [
    {
     "data": {
      "text/plain": [
       "[1, 2, 3, 4, 'apple', 'banana', [True, False]]"
      ]
     },
     "execution_count": 35,
     "metadata": {},
     "output_type": "execute_result"
    }
   ],
   "source": [
    "l1=[1,2,3,4]\n",
    "l1.append('apple')\n",
    "l1.append('banana')\n",
    "l1.append([True,False])\n",
    "l1"
   ]
  },
  {
   "cell_type": "code",
   "execution_count": 37,
   "id": "ced32685-1b92-4b78-8e0c-a0ed745c4550",
   "metadata": {},
   "outputs": [
    {
     "name": "stdout",
     "output_type": "stream",
     "text": [
      "1\n",
      "2\n",
      "3\n",
      "4\n",
      "5\n",
      "6\n",
      "7\n",
      "8\n",
      "9\n",
      "10\n"
     ]
    }
   ],
   "source": [
    "#Q1) create a list of 10 numbers using for loop\n",
    "for i in range(1,11):\n",
    "    print(i)"
   ]
  },
  {
   "cell_type": "code",
   "execution_count": null,
   "id": "b138fd46-07c7-41b0-be09-cb3b4c9ebe52",
   "metadata": {},
   "outputs": [],
   "source": [
    "l1=[]\n",
    "l1.append(1)\n",
    "l1.append(2)\n",
    "l1.append(3)\n",
    "\n",
    "l1.append(i)"
   ]
  },
  {
   "cell_type": "code",
   "execution_count": 39,
   "id": "019e9c0f-bb3c-4bfa-8d57-caa155bae4d9",
   "metadata": {},
   "outputs": [
    {
     "data": {
      "text/plain": [
       "[0, 1, 2, 3, 4, 5, 6, 7, 8, 9]"
      ]
     },
     "execution_count": 39,
     "metadata": {},
     "output_type": "execute_result"
    }
   ],
   "source": [
    "l1=[]\n",
    "for i in range(10):\n",
    "    l1.append(i)\n",
    "l1"
   ]
  },
  {
   "cell_type": "code",
   "execution_count": 42,
   "id": "73e89da6-4c23-461d-aa31-631c7290af27",
   "metadata": {},
   "outputs": [
    {
     "data": {
      "text/plain": [
       "[784, 1521, 3844, 36, 4]"
      ]
     },
     "execution_count": 42,
     "metadata": {},
     "output_type": "execute_result"
    }
   ],
   "source": [
    "# Q2) wap ask the user get 5 random numbers\n",
    "#     perform the square of the random numbers\n",
    "#     save in a list\n",
    "import random\n",
    "l=[]\n",
    "for i in range(5):\n",
    "    num=random.randint(1,100)\n",
    "    l.append(num*num)\n",
    "l"
   ]
  },
  {
   "cell_type": "code",
   "execution_count": 43,
   "id": "5a5342de-4382-4d93-aa44-c4adab9081e8",
   "metadata": {},
   "outputs": [
    {
     "data": {
      "text/plain": [
       "['22:484', '60:3600', '91:8281', '56:3136', '78:6084']"
      ]
     },
     "execution_count": 43,
     "metadata": {},
     "output_type": "execute_result"
    }
   ],
   "source": [
    "import random\n",
    "l=[]\n",
    "for i in range(5):\n",
    "    num=random.randint(1,100)\n",
    "    l.append(f\"{num}:{num*num}\")\n",
    "l"
   ]
  },
  {
   "cell_type": "code",
   "execution_count": 52,
   "id": "bf068ccc-dc4a-4a31-8b04-b98633c6c5db",
   "metadata": {},
   "outputs": [
    {
     "data": {
      "text/plain": [
       "([20, 38, 52, 100], [27, 47, 87])"
      ]
     },
     "execution_count": 52,
     "metadata": {},
     "output_type": "execute_result"
    }
   ],
   "source": [
    "# Q3) list1=[100,20,27,38,47,52,87]\n",
    "# using this we need to extract even and odd numbers\n",
    "# even_list=[20.38,52,100] the output should be sorted\n",
    "# odd_list=[27,47,38,87] the output should be sorted\n",
    "list1=[100,20,27,38,47,52,87]\n",
    "even_list,odd_list=[],[]\n",
    "for i in list1:\n",
    "    if i%2==0:\n",
    "        even_list.append(i)\n",
    "    else:\n",
    "        odd_list.append(i)\n",
    "even_list.sort()\n",
    "odd_list.sort()\n",
    "even_list,odd_list"
   ]
  },
  {
   "cell_type": "code",
   "execution_count": null,
   "id": "cb3ff1eb-6baf-4a04-a5c4-be6aa1c311ff",
   "metadata": {},
   "outputs": [],
   "source": [
    "# Q4)  l1=['hyd','chennai','mumbai','pune']\n",
    "#     ans=['Hyd','Chennai','Mumabi','Pune']\n",
    "\n",
    "#Q5)  l1=['hyd','chennai','mumbai','pune']\n",
    "#     ans=['HYD','CHENNAI','MUMBAI','PUNE']\n",
    "\n",
    "#Q6)  l1=['hyd','chen#ai','mu#bai','pune']\n",
    "#     ans=['chen#ai','mu#bai']\n",
    "\n",
    "#Q7)  l1=['hyd','chen#ai','mu#bai','pune']\n",
    "#     ans=['hyd','pune']\n",
    "\n",
    "#Q8) str1= 'hello hai how are you'\n",
    "#    ans=['Hello','Hai','How','Are','You']\n",
    "\n",
    "#Q9) str1='virat.kohli@rcb.com; rohit.sharma@mi.com; dhoni.ms@csk.com'\n",
    "#    fname=['virat','rohit','dhoni']\n",
    "#    sname=['kohli','sharma','ms']\n",
    "#    cname=['rcb','mi','csk']\n",
    "\n",
    "# q10) get the 7 random numbers in a list between 1 to 100\n",
    "#      find the min and max value with using min and max function\n",
    "\n",
    "# q11) str1='can canner can not can you canner can be can you can not'\n",
    "#      list=['can-6','canner-2','not-2','you-2','be-1']\n",
    "\n",
    "# q12) qns= ['who is pm of india','who is ICT captain',\n",
    "#             'what is the capital of india']\n",
    "#      ans=['modi','rohit','delhi']\n",
    "#     step-1: iterate through each qn\n",
    "#     step-2: user will enter the answer\n",
    "#           check-1: the user given 'MODI' correct answer\n",
    "#           check-2: qn index and ans index should be\n",
    "#    step-3: count_marks=0 at the top\n",
    "#    step-4:  for every correct answer 1 marks\n",
    "#    step-5: how many correct answers and how many marks"
   ]
  },
  {
   "cell_type": "code",
   "execution_count": 6,
   "id": "d3e476ad-f428-4ae9-866c-d44baa0d6dfc",
   "metadata": {},
   "outputs": [
    {
     "data": {
      "text/plain": [
       "['Hyd', 'Chennai', 'Mumbai', 'Pune']"
      ]
     },
     "execution_count": 6,
     "metadata": {},
     "output_type": "execute_result"
    }
   ],
   "source": [
    "# Q4)  l1=['hyd','chennai','mumbai','pune']\n",
    "#     ans=['Hyd','Chennai','Mumabi','Pune']\n",
    "l1=['hyd','chennai','mumbai','pune']\n",
    "ans=[]\n",
    "for i in l1:\n",
    "    ans.append(i.capitalize())\n",
    "ans"
   ]
  },
  {
   "cell_type": "code",
   "execution_count": 7,
   "id": "d17e1293-67d4-494c-ad98-235fcf9c84e0",
   "metadata": {},
   "outputs": [
    {
     "data": {
      "text/plain": [
       "['HYD', 'CHENNAI', 'MUMBAI', 'PUNE']"
      ]
     },
     "execution_count": 7,
     "metadata": {},
     "output_type": "execute_result"
    }
   ],
   "source": [
    "#Q5)  l1=['hyd','chennai','mumbai','pune']\n",
    "#     ans=['HYD','CHENNAI','MUMBAI','PUNE']\n",
    "l1=['hyd','chennai','mumbai','pune']\n",
    "ans=[]\n",
    "for i in l1:\n",
    "    ans.append(i.upper())\n",
    "ans"
   ]
  },
  {
   "cell_type": "code",
   "execution_count": 13,
   "id": "12c730ae-6575-4f50-9724-1da85fd94cbe",
   "metadata": {},
   "outputs": [
    {
     "data": {
      "text/plain": [
       "(['chen#ai', 'mu#bai'], ['hyd', 'pune'])"
      ]
     },
     "execution_count": 13,
     "metadata": {},
     "output_type": "execute_result"
    }
   ],
   "source": [
    "#Q6)  l1=['hyd','chen#ai','mu#bai','pune']\n",
    "#     ans=['chen#ai','mu#bai']\n",
    "l1=['hyd','chen#ai','mu#bai','pune']\n",
    "ans1=[]\n",
    "ans2=[]\n",
    "for i in l1:\n",
    "    if '#' in i:\n",
    "        ans1.append(i)\n",
    "    if '#' not in i:\n",
    "        ans2.append(i)\n",
    "ans1 ,ans2     "
   ]
  },
  {
   "cell_type": "code",
   "execution_count": 19,
   "id": "39ddc767-3d2d-4882-8c30-1e79b875d59e",
   "metadata": {},
   "outputs": [
    {
     "data": {
      "text/plain": [
       "['Hello', 'Hai', 'How', 'Are', 'You']"
      ]
     },
     "execution_count": 19,
     "metadata": {},
     "output_type": "execute_result"
    }
   ],
   "source": [
    "#Q8) str1= 'hello hai how are you'\n",
    "#    ans=['Hello','Hai','How','Are','You']\n",
    "\n",
    "str1= 'hello hai how are you'\n",
    "str1.title().split()"
   ]
  },
  {
   "cell_type": "code",
   "execution_count": 21,
   "id": "1dd46e17-14b3-41bb-b883-265b8e81b1b4",
   "metadata": {},
   "outputs": [
    {
     "data": {
      "text/plain": [
       "['Hello', 'Hai', 'How', 'Are', 'You']"
      ]
     },
     "execution_count": 21,
     "metadata": {},
     "output_type": "execute_result"
    }
   ],
   "source": [
    "str1= 'hello hai how are you'\n",
    "l=str1.split()\n",
    "ans=[]\n",
    "for i in l:\n",
    "    ans.append(i.capitalize())\n",
    "ans"
   ]
  },
  {
   "cell_type": "code",
   "execution_count": 23,
   "id": "5012105d-388f-41da-9bc3-287dbf0f749f",
   "metadata": {},
   "outputs": [
    {
     "data": {
      "text/plain": [
       "'Hello Hai How Are You'"
      ]
     },
     "execution_count": 23,
     "metadata": {},
     "output_type": "execute_result"
    }
   ],
   "source": [
    "' '.join(ans)"
   ]
  },
  {
   "cell_type": "markdown",
   "id": "a7c71d05-5789-42a9-a88d-3a709de62e67",
   "metadata": {},
   "source": [
    "**joining the list of elements**"
   ]
  },
  {
   "cell_type": "markdown",
   "id": "d547d0e6-a115-4c61-8f8b-2848c3512676",
   "metadata": {},
   "source": [
    "- we can convert string to list by using **string.split**\n",
    "\n",
    "- we can convert list to string by using **join(list)**"
   ]
  },
  {
   "cell_type": "code",
   "execution_count": 27,
   "id": "997be170-2c0c-44b5-90c2-caf3ac57a73e",
   "metadata": {},
   "outputs": [
    {
     "data": {
      "text/plain": [
       "['', 'ai ', 'ow are you']"
      ]
     },
     "execution_count": 27,
     "metadata": {},
     "output_type": "execute_result"
    }
   ],
   "source": [
    "str1='hai how are you'\n",
    "str1.split('h')"
   ]
  },
  {
   "cell_type": "code",
   "execution_count": 28,
   "id": "0378e9e4-86a2-4eb4-bdf5-373f8d70bcea",
   "metadata": {},
   "outputs": [
    {
     "data": {
      "text/plain": [
       "'haihhowharehyou'"
      ]
     },
     "execution_count": 28,
     "metadata": {},
     "output_type": "execute_result"
    }
   ],
   "source": [
    "l1=['hai', 'how', 'are', 'you']\n",
    "str1=' '\n",
    "str1.join(l1) \n",
    "'h'.join(l1)"
   ]
  },
  {
   "cell_type": "code",
   "execution_count": 38,
   "id": "31eff584-d76c-4ee3-ab35-c5487609de07",
   "metadata": {},
   "outputs": [],
   "source": [
    "str1='virat.kohli@rcb.com; rohit.sharma@mi.com; dhoni.ms@csk.com'\n",
    "l=str1.split(';')\n",
    "f_name,s_name,c_name=[],[],[]\n",
    "for i in l:\n",
    "    first_dot=i.find('.')\n",
    "    second_dot=i.find('.',first_dot+1)\n",
    "    at_index=i.find('@')\n",
    "    f_name.append(i[:first_dot])\n",
    "    s_name.append(i[first_dot+1:at_index])\n",
    "    c_name.append(i[at_index+1:second_dot])"
   ]
  },
  {
   "cell_type": "code",
   "execution_count": 39,
   "id": "38061cbd-3fdf-4b7e-a31d-2cae11f6a072",
   "metadata": {},
   "outputs": [
    {
     "data": {
      "text/plain": [
       "['virat', ' rohit', ' dhoni']"
      ]
     },
     "execution_count": 39,
     "metadata": {},
     "output_type": "execute_result"
    }
   ],
   "source": [
    "f_name"
   ]
  },
  {
   "cell_type": "code",
   "execution_count": 36,
   "id": "ce8b496b-6ec5-4d8a-9a2c-110704238ef8",
   "metadata": {},
   "outputs": [
    {
     "name": "stdout",
     "output_type": "stream",
     "text": [
      "virat.kohli@rcb.com\n",
      " rohit.sharma@mi.com\n",
      " dhoni.ms@csk.com\n"
     ]
    }
   ],
   "source": [
    "l[0],l[1],l[2]\n",
    "for i in l:\n",
    "    print(i)"
   ]
  },
  {
   "cell_type": "code",
   "execution_count": 41,
   "id": "728e5b3a-66fc-4d9c-b635-ba512708c0fc",
   "metadata": {},
   "outputs": [
    {
     "data": {
      "text/plain": [
       "[25, 20, 94, 23, 92, 25, 38]"
      ]
     },
     "execution_count": 41,
     "metadata": {},
     "output_type": "execute_result"
    }
   ],
   "source": [
    "# q10) get the 7 random numbers in a list between 1 to 100\n",
    "#      find the min and max value with out using min and max function\n",
    "\n",
    "import random\n",
    "\n",
    "l=[]\n",
    "for i in range(7):\n",
    "    num=random.randint(1,100)\n",
    "    l.append(num)\n",
    "\n",
    "l\n",
    "    "
   ]
  },
  {
   "cell_type": "markdown",
   "id": "e802f1b4-8f63-4c6a-b168-706b1e7a5135",
   "metadata": {},
   "source": [
    "- Assume that first valu is a maximum value\n",
    "\n",
    "- then iterate the loop from next value onwards\n",
    "\n",
    "- apply the condition if any value greater than assumed value\n",
    "\n",
    "- then replace max value with itertaed value"
   ]
  },
  {
   "cell_type": "code",
   "execution_count": 43,
   "id": "39b1cbf9-60af-4ce7-b335-a75a9097ae2c",
   "metadata": {},
   "outputs": [
    {
     "name": "stdout",
     "output_type": "stream",
     "text": [
      "max_val: 94\n"
     ]
    }
   ],
   "source": [
    "max_val=l[0]\n",
    "for i in l[1:]:\n",
    "    if i>max_val:\n",
    "        max_val=i\n",
    "print('max_val:',max_val)"
   ]
  },
  {
   "cell_type": "code",
   "execution_count": 44,
   "id": "77a981a2-b61c-45c6-a2fa-9a8cebe6e00f",
   "metadata": {},
   "outputs": [
    {
     "name": "stdout",
     "output_type": "stream",
     "text": [
      "min_val: 20\n"
     ]
    }
   ],
   "source": [
    "min_val=l[0]\n",
    "for i in l[1:]:\n",
    "    if i<min_val:\n",
    "        min_val=i\n",
    "print('min_val:',min_val)"
   ]
  },
  {
   "cell_type": "code",
   "execution_count": 51,
   "id": "ea0c7fb7-9913-4a3f-8716-2a4c23af1e86",
   "metadata": {},
   "outputs": [
    {
     "name": "stdout",
     "output_type": "stream",
     "text": [
      "['can', 'canner', 'can', 'not', 'can', 'you', 'canner', 'can', 'be', 'can', 'you', 'can', 'not']\n",
      "can 6\n",
      "canner 2\n",
      "not 2\n",
      "you 2\n",
      "be 1\n"
     ]
    }
   ],
   "source": [
    "# q11) str1='can canner can not can you canner can be can you can not'\n",
    "#      list=['can-6','canner-2','not-2','you-2','be-1']\n",
    "\n",
    "str1='can canner can not can you canner can be can you can not'\n",
    "l=str1.split()\n",
    "print(l)\n",
    "\n",
    "l2=[]\n",
    "for i in l:\n",
    "    if i not in l2:\n",
    "        print(i,l.count(i))\n",
    "        l2.append(i)"
   ]
  },
  {
   "cell_type": "code",
   "execution_count": 52,
   "id": "3e37580d-f953-49d2-a119-c4caa6e6c139",
   "metadata": {},
   "outputs": [
    {
     "name": "stdout",
     "output_type": "stream",
     "text": [
      "['can', 'canner', 'can', 'not', 'can', 'you', 'canner', 'can', 'be', 'can', 'you', 'can', 'not']\n"
     ]
    }
   ],
   "source": [
    "str1='can canner can not can you canner can be can you can not'\n",
    "l=str1.split()\n",
    "print(l)"
   ]
  },
  {
   "cell_type": "code",
   "execution_count": 60,
   "id": "222a5471-54a0-4963-ad48-8ab1cafa9f58",
   "metadata": {},
   "outputs": [
    {
     "data": {
      "text/plain": [
       "['can-6', 'canner-2', 'not-2', 'you-2', 'be-1']"
      ]
     },
     "execution_count": 60,
     "metadata": {},
     "output_type": "execute_result"
    }
   ],
   "source": [
    "l1=[]\n",
    "l2=[]\n",
    "for i in l:\n",
    "    if i not in l2:\n",
    "        l2.append(i)\n",
    "        l1.append(f\"{i}-{l.count(i)}\")\n",
    "l1"
   ]
  },
  {
   "cell_type": "code",
   "execution_count": null,
   "id": "e7c7277e-2049-4136-936a-d6e6ea563638",
   "metadata": {},
   "outputs": [],
   "source": [
    "# q12) qns= ['who is pm of india','who is ICT captain',\n",
    "#             'what is the capital of india']\n",
    "#      ans=['modi','rohit','delhi']\n",
    "#     step-1: iterate through each qn\n",
    "#     step-2: user will enter the answer\n",
    "#           check-1: the user given 'MODI' correct answer\n",
    "#           check-2: qn index and ans index should be\n",
    "#    step-3: count_marks=0 at the top\n",
    "#    step-4:  for every correct answer 1 marks\n",
    "#    step-5: how many correct answers and how many marks"
   ]
  },
  {
   "cell_type": "code",
   "execution_count": 63,
   "id": "12b02963-b055-4943-bb35-4bdd315358b2",
   "metadata": {},
   "outputs": [
    {
     "name": "stdin",
     "output_type": "stream",
     "text": [
      "who is pm of india MODI\n",
      "who is ICT captain ROHit\n",
      "what is the capital of india hyd\n"
     ]
    },
    {
     "name": "stdout",
     "output_type": "stream",
     "text": [
      "The total correct answers: 2\n"
     ]
    }
   ],
   "source": [
    "qns= ['who is pm of india','who is ICT captain','what is the capital of india']\n",
    "ans=['modi','rohit','delhi']\n",
    "count=0\n",
    "for i in range(len(qns)):\n",
    "    ANSWER=input(qns[i])\n",
    "    if ANSWER.lower()==ans[i].lower():\n",
    "        count=count+1\n",
    "print(\"The total correct answers:\",count)"
   ]
  },
  {
   "cell_type": "markdown",
   "id": "928198c0-cff1-4fbe-9ade-b9c96f33cfe1",
   "metadata": {},
   "source": [
    "**pop vs remove**"
   ]
  },
  {
   "cell_type": "code",
   "execution_count": 64,
   "id": "84ef6ec0-2ad8-489b-b25d-f6f6d5904603",
   "metadata": {},
   "outputs": [],
   "source": [
    "l=[100,200,300,'A','B','C']"
   ]
  },
  {
   "cell_type": "code",
   "execution_count": 65,
   "id": "77e28c3a-3354-4d11-8668-61338d426ddd",
   "metadata": {},
   "outputs": [
    {
     "data": {
      "text/plain": [
       "'C'"
      ]
     },
     "execution_count": 65,
     "metadata": {},
     "output_type": "execute_result"
    }
   ],
   "source": [
    "l.pop()\n",
    "# pop will remove the element based on index\n",
    "# if we dont give any index by default it wlill remov last value\n",
    "# the default value index=-1"
   ]
  },
  {
   "cell_type": "code",
   "execution_count": 66,
   "id": "f2c095d0-6d00-416a-958d-5b276a959095",
   "metadata": {},
   "outputs": [
    {
     "data": {
      "text/plain": [
       "[100, 200, 300, 'A', 'B']"
      ]
     },
     "execution_count": 66,
     "metadata": {},
     "output_type": "execute_result"
    }
   ],
   "source": [
    "l"
   ]
  },
  {
   "cell_type": "code",
   "execution_count": 68,
   "id": "d976b866-ffef-4260-b1d2-1c428877dde2",
   "metadata": {},
   "outputs": [
    {
     "data": {
      "text/plain": [
       "[100, 200, 'A', 'B', 'C']"
      ]
     },
     "execution_count": 68,
     "metadata": {},
     "output_type": "execute_result"
    }
   ],
   "source": [
    "l=[100,200,300,'A','B','C']\n",
    "l.pop(2)\n",
    "l"
   ]
  },
  {
   "cell_type": "code",
   "execution_count": 69,
   "id": "e818bd7f-e490-49fb-ac45-2ab4171f15f1",
   "metadata": {},
   "outputs": [
    {
     "ename": "IndexError",
     "evalue": "pop index out of range",
     "output_type": "error",
     "traceback": [
      "\u001b[1;31m---------------------------------------------------------------------------\u001b[0m",
      "\u001b[1;31mIndexError\u001b[0m                                Traceback (most recent call last)",
      "Cell \u001b[1;32mIn[69], line 2\u001b[0m\n\u001b[0;32m      1\u001b[0m l\u001b[38;5;241m=\u001b[39m[\u001b[38;5;241m100\u001b[39m,\u001b[38;5;241m200\u001b[39m,\u001b[38;5;241m300\u001b[39m,\u001b[38;5;124m'\u001b[39m\u001b[38;5;124mA\u001b[39m\u001b[38;5;124m'\u001b[39m,\u001b[38;5;124m'\u001b[39m\u001b[38;5;124mB\u001b[39m\u001b[38;5;124m'\u001b[39m,\u001b[38;5;124m'\u001b[39m\u001b[38;5;124mC\u001b[39m\u001b[38;5;124m'\u001b[39m]\n\u001b[1;32m----> 2\u001b[0m l\u001b[38;5;241m.\u001b[39mpop(\u001b[38;5;241m200\u001b[39m)\n",
      "\u001b[1;31mIndexError\u001b[0m: pop index out of range"
     ]
    }
   ],
   "source": [
    "l=[100,200,300,'A','B','C']\n",
    "l.pop(200)\n",
    "# what will return as output\n",
    "# [100,200,'A','B','C']    300"
   ]
  },
  {
   "cell_type": "code",
   "execution_count": 71,
   "id": "3e4399bf-082f-4c52-89bc-ff084f607cfe",
   "metadata": {},
   "outputs": [
    {
     "data": {
      "text/plain": [
       "[200, 300, 100, 100, 'A', 'B', 'C']"
      ]
     },
     "execution_count": 71,
     "metadata": {},
     "output_type": "execute_result"
    }
   ],
   "source": [
    "l=[100,200,300,100,100,'A','B','C']\n",
    "l.remove(100)\n",
    "l"
   ]
  },
  {
   "cell_type": "markdown",
   "id": "7f9c5b75-51b9-45dc-b59f-ad63f6bc1c34",
   "metadata": {},
   "source": [
    "- pop except a **index value**\n",
    "\n",
    "- remove excpect a **value**"
   ]
  },
  {
   "cell_type": "code",
   "execution_count": null,
   "id": "944f8917-3b5e-4722-939a-63e5018ffd2f",
   "metadata": {},
   "outputs": [],
   "source": [
    "l=[100,200,300,100,100,'A','B','C']\n",
    "# i want to remove the second 100\n",
    "# remove or pop ==== \n",
    "# sukumar and kaif by using remove tell me\n",
    "# how can you remove the second 100\n",
    "l.pop(3)"
   ]
  },
  {
   "cell_type": "code",
   "execution_count": 72,
   "id": "3fe13baf-5fc8-4706-b60b-b53bb2a5977c",
   "metadata": {},
   "outputs": [
    {
     "data": {
      "text/plain": [
       "['__add__',\n",
       " '__class__',\n",
       " '__class_getitem__',\n",
       " '__contains__',\n",
       " '__delattr__',\n",
       " '__delitem__',\n",
       " '__dir__',\n",
       " '__doc__',\n",
       " '__eq__',\n",
       " '__format__',\n",
       " '__ge__',\n",
       " '__getattribute__',\n",
       " '__getitem__',\n",
       " '__getstate__',\n",
       " '__gt__',\n",
       " '__hash__',\n",
       " '__iadd__',\n",
       " '__imul__',\n",
       " '__init__',\n",
       " '__init_subclass__',\n",
       " '__iter__',\n",
       " '__le__',\n",
       " '__len__',\n",
       " '__lt__',\n",
       " '__mul__',\n",
       " '__ne__',\n",
       " '__new__',\n",
       " '__reduce__',\n",
       " '__reduce_ex__',\n",
       " '__repr__',\n",
       " '__reversed__',\n",
       " '__rmul__',\n",
       " '__setattr__',\n",
       " '__setitem__',\n",
       " '__sizeof__',\n",
       " '__str__',\n",
       " '__subclasshook__',\n",
       " 'append',\n",
       " 'clear',\n",
       " 'copy',\n",
       " 'count',\n",
       " 'extend',\n",
       " 'index',\n",
       " 'insert',\n",
       " 'pop',\n",
       " 'remove',\n",
       " 'reverse',\n",
       " 'sort']"
      ]
     },
     "execution_count": 72,
     "metadata": {},
     "output_type": "execute_result"
    }
   ],
   "source": [
    "dir([])"
   ]
  },
  {
   "cell_type": "markdown",
   "id": "4ff62ddc-344f-4e73-8d37-199cc8e411c7",
   "metadata": {},
   "source": [
    "**index**"
   ]
  },
  {
   "cell_type": "code",
   "execution_count": null,
   "id": "8bc40f2a-7f09-453c-a188-545999ffa3e7",
   "metadata": {},
   "outputs": [],
   "source": [
    "l=[100,200,300,100,100,'A','B','C']\n",
    "\n",
    "# pop is correct answer\n",
    "# pop wants a index\n",
    "# here only 8 elements are there, so we are able to count\n",
    "# imagine that there 80k elemnents so we are not ablle to count\n",
    "# when you are counting and giving: hard coded\n",
    "# python code should give the answer automatically\n",
    "# for that we need to use index method"
   ]
  },
  {
   "cell_type": "code",
   "execution_count": 74,
   "id": "af6d2776-7840-4a14-ac1c-45934e91877f",
   "metadata": {},
   "outputs": [
    {
     "data": {
      "text/plain": [
       "[100, 200, 300, 100, 'A', 'B', 'C']"
      ]
     },
     "execution_count": 74,
     "metadata": {},
     "output_type": "execute_result"
    }
   ],
   "source": [
    "l=[100,200,300,100,100,'A','B','C']\n",
    "i1=l.index(100)\n",
    "i2=l.index(100,i1+1)\n",
    "l.pop(i2)\n",
    "l"
   ]
  },
  {
   "cell_type": "code",
   "execution_count": 75,
   "id": "152230d4-a0eb-498f-b0cf-ff9f84b50855",
   "metadata": {},
   "outputs": [
    {
     "data": {
      "text/plain": [
       "['__add__',\n",
       " '__class__',\n",
       " '__class_getitem__',\n",
       " '__contains__',\n",
       " '__delattr__',\n",
       " '__dir__',\n",
       " '__doc__',\n",
       " '__eq__',\n",
       " '__format__',\n",
       " '__ge__',\n",
       " '__getattribute__',\n",
       " '__getitem__',\n",
       " '__getnewargs__',\n",
       " '__getstate__',\n",
       " '__gt__',\n",
       " '__hash__',\n",
       " '__init__',\n",
       " '__init_subclass__',\n",
       " '__iter__',\n",
       " '__le__',\n",
       " '__len__',\n",
       " '__lt__',\n",
       " '__mul__',\n",
       " '__ne__',\n",
       " '__new__',\n",
       " '__reduce__',\n",
       " '__reduce_ex__',\n",
       " '__repr__',\n",
       " '__rmul__',\n",
       " '__setattr__',\n",
       " '__sizeof__',\n",
       " '__str__',\n",
       " '__subclasshook__',\n",
       " 'count',\n",
       " 'index']"
      ]
     },
     "execution_count": 75,
     "metadata": {},
     "output_type": "execute_result"
    }
   ],
   "source": [
    "dir(())"
   ]
  },
  {
   "cell_type": "code",
   "execution_count": 1,
   "id": "475b9593-dc2b-4721-9d11-4285f71a2416",
   "metadata": {},
   "outputs": [
    {
     "data": {
      "text/plain": [
       "['__add__',\n",
       " '__class__',\n",
       " '__class_getitem__',\n",
       " '__contains__',\n",
       " '__delattr__',\n",
       " '__delitem__',\n",
       " '__dir__',\n",
       " '__doc__',\n",
       " '__eq__',\n",
       " '__format__',\n",
       " '__ge__',\n",
       " '__getattribute__',\n",
       " '__getitem__',\n",
       " '__getstate__',\n",
       " '__gt__',\n",
       " '__hash__',\n",
       " '__iadd__',\n",
       " '__imul__',\n",
       " '__init__',\n",
       " '__init_subclass__',\n",
       " '__iter__',\n",
       " '__le__',\n",
       " '__len__',\n",
       " '__lt__',\n",
       " '__mul__',\n",
       " '__ne__',\n",
       " '__new__',\n",
       " '__reduce__',\n",
       " '__reduce_ex__',\n",
       " '__repr__',\n",
       " '__reversed__',\n",
       " '__rmul__',\n",
       " '__setattr__',\n",
       " '__setitem__',\n",
       " '__sizeof__',\n",
       " '__str__',\n",
       " '__subclasshook__',\n",
       " 'append',\n",
       " 'clear',\n",
       " 'copy',\n",
       " 'count',\n",
       " 'extend',\n",
       " 'index',\n",
       " 'insert',\n",
       " 'pop',\n",
       " 'remove',\n",
       " 'reverse',\n",
       " 'sort']"
      ]
     },
     "execution_count": 1,
     "metadata": {},
     "output_type": "execute_result"
    }
   ],
   "source": [
    "dir([])"
   ]
  },
  {
   "cell_type": "code",
   "execution_count": null,
   "id": "f326ada3-90c9-45b2-a957-52156e10a56d",
   "metadata": {},
   "outputs": [],
   "source": [
    "'append',  ==== completed\n",
    "'clear',   ==== completed\n",
    "'copy',    ==== completed\n",
    "'count',   ==== completed\n",
    "'extend',\n",
    "'index',  ==== completed\n",
    "'insert', \n",
    "'pop',    ==== completed\n",
    "'remove', === completed\n",
    "'reverse', === completed\n",
    "'sort'     === completed"
   ]
  },
  {
   "cell_type": "markdown",
   "id": "670f40b4-9940-421d-a474-dd1e711c8d12",
   "metadata": {},
   "source": [
    "**Extend**\n",
    "\n",
    "- difference between concatenation vs append vs extend"
   ]
  },
  {
   "cell_type": "code",
   "execution_count": 2,
   "id": "6c23e237-1b55-4f94-9d43-26b281795d71",
   "metadata": {},
   "outputs": [],
   "source": [
    "l1=[1,2,3,4]\n",
    "l2=['A','B','C']\n",
    "l1.append(l2)"
   ]
  },
  {
   "cell_type": "code",
   "execution_count": 3,
   "id": "687ac9c5-489b-43c7-9c5d-63714bc68d3c",
   "metadata": {},
   "outputs": [
    {
     "data": {
      "text/plain": [
       "[1, 2, 3, 4, ['A', 'B', 'C']]"
      ]
     },
     "execution_count": 3,
     "metadata": {},
     "output_type": "execute_result"
    }
   ],
   "source": [
    "l1"
   ]
  },
  {
   "cell_type": "code",
   "execution_count": 4,
   "id": "ddbfb9b5-624b-45a9-b0f6-a7894818223f",
   "metadata": {},
   "outputs": [
    {
     "data": {
      "text/plain": [
       "[1, 2, 3, 4, 'A', 'B', 'C']"
      ]
     },
     "execution_count": 4,
     "metadata": {},
     "output_type": "execute_result"
    }
   ],
   "source": [
    "l1=[1,2,3,4]\n",
    "l2=['A','B','C']\n",
    "l1+l2"
   ]
  },
  {
   "cell_type": "code",
   "execution_count": 6,
   "id": "f742d654-7e61-47b2-b5c1-84b7889dec49",
   "metadata": {},
   "outputs": [
    {
     "data": {
      "text/plain": [
       "([1, 2, 3, 4], ['A', 'B', 'C'])"
      ]
     },
     "execution_count": 6,
     "metadata": {},
     "output_type": "execute_result"
    }
   ],
   "source": [
    "l1,l2"
   ]
  },
  {
   "cell_type": "code",
   "execution_count": 7,
   "id": "5d8a4423-d239-44d1-ae97-3aaeb623069f",
   "metadata": {},
   "outputs": [
    {
     "data": {
      "text/plain": [
       "[1, 2, 3, 4, 'A', 'B', 'C']"
      ]
     },
     "execution_count": 7,
     "metadata": {},
     "output_type": "execute_result"
    }
   ],
   "source": [
    "l1=[1,2,3,4]\n",
    "l2=['A','B','C']\n",
    "l1.extend(l2)\n",
    "l1"
   ]
  },
  {
   "cell_type": "code",
   "execution_count": 9,
   "id": "5aa08b02-ef37-4686-98ee-38bf6a8e37d3",
   "metadata": {},
   "outputs": [
    {
     "data": {
      "text/plain": [
       "[1, 2, 3, 4, 'A', 'B', 'C']"
      ]
     },
     "execution_count": 9,
     "metadata": {},
     "output_type": "execute_result"
    }
   ],
   "source": [
    "l1=[1,2,3,4]\n",
    "l2=['A','B','C']\n",
    "l3=l1+l2\n",
    "l3"
   ]
  },
  {
   "cell_type": "code",
   "execution_count": 12,
   "id": "df5914c1-7140-4b21-8e38-6b5eac5b828f",
   "metadata": {},
   "outputs": [
    {
     "data": {
      "text/plain": [
       "(['A', 'B', 'C', 1, 2, 3, 4], [1, 2, 3, 4])"
      ]
     },
     "execution_count": 12,
     "metadata": {},
     "output_type": "execute_result"
    }
   ],
   "source": [
    "l1=[1,2,3,4]\n",
    "l2=['A','B','C']\n",
    "l2.extend(l1)\n",
    "l2,l1"
   ]
  },
  {
   "cell_type": "code",
   "execution_count": 15,
   "id": "b382d0df-ff9d-4a2e-a055-4d105032a624",
   "metadata": {},
   "outputs": [
    {
     "data": {
      "text/plain": [
       "['Hardeep', 'Mrs Hardeep']"
      ]
     },
     "execution_count": 15,
     "metadata": {},
     "output_type": "execute_result"
    }
   ],
   "source": [
    "l1=['Hardeep']\n",
    "l2=['Mrs Hardeep']\n",
    "l1+l2  # adding you and yours\n",
    "l1     # only you coming\n",
    "l1.extend(l2) # adding you and yours\n",
    "l1    # both will come"
   ]
  },
  {
   "cell_type": "markdown",
   "id": "3434b30e-50ee-4c78-a298-fbdb4efd147f",
   "metadata": {},
   "source": [
    "- extend and conatenation both has same behaviour\n",
    "\n",
    "- means add the two lists\n",
    "\n",
    "- but extend will overwrite the list "
   ]
  },
  {
   "cell_type": "markdown",
   "id": "5fe009b4-b011-4713-8d7f-d0f9064089af",
   "metadata": {},
   "source": [
    "**insert**\n",
    "\n",
    "- Difference between insert and append"
   ]
  },
  {
   "cell_type": "code",
   "execution_count": 16,
   "id": "680fe5de-1d6e-47fa-a0eb-a06314c5060c",
   "metadata": {},
   "outputs": [
    {
     "data": {
      "text/plain": [
       "[1, 2, 3, 'A', 'B', 'C', 1000]"
      ]
     },
     "execution_count": 16,
     "metadata": {},
     "output_type": "execute_result"
    }
   ],
   "source": [
    "l1=[1,2,3,'A','B','C']\n",
    "l1.append(1000)\n",
    "l1"
   ]
  },
  {
   "cell_type": "code",
   "execution_count": 17,
   "id": "cc96de15-085e-4cdb-9239-79c67e0ee954",
   "metadata": {},
   "outputs": [
    {
     "data": {
      "text/plain": [
       "[1, 2, 3, 1000, 'A', 'B', 'C']"
      ]
     },
     "execution_count": 17,
     "metadata": {},
     "output_type": "execute_result"
    }
   ],
   "source": [
    "l1=[1,2,3,'A','B','C']\n",
    "#   0 1 2  3   4   5\n",
    "#   1,2,3,1000,'A','B','C'\n",
    "l1.insert(3,1000)\n",
    "# i want to inster 1000 before=3 (at 2)\n",
    "l1"
   ]
  },
  {
   "cell_type": "code",
   "execution_count": 19,
   "id": "2ed6c8c3-2999-4213-a37e-e4d8dc1b1071",
   "metadata": {},
   "outputs": [
    {
     "data": {
      "text/plain": [
       "[1, 2, 3, 'A', 1000, 'B', 'C']"
      ]
     },
     "execution_count": 19,
     "metadata": {},
     "output_type": "execute_result"
    }
   ],
   "source": [
    "l1=[1,2,3,'A','B','C']\n",
    "# i want inster 1000 before 'B'\n",
    "i1=l1.index('B')\n",
    "l1.insert(i1,1000)\n",
    "l1"
   ]
  },
  {
   "cell_type": "code",
   "execution_count": null,
   "id": "c8f7c827-9c60-4940-b56d-f06a0336d967",
   "metadata": {},
   "outputs": [],
   "source": [
    "l1=[1,2,3,'A','B','C']\n",
    "for i in range(len(l1)):\n",
    "    if i ==\"B\":\n",
    "        print(i)\n",
    "l1.insert(i,1000)"
   ]
  },
  {
   "cell_type": "code",
   "execution_count": 21,
   "id": "b0f8b5df-427e-467d-9c08-636c84fd9cd7",
   "metadata": {},
   "outputs": [
    {
     "data": {
      "text/plain": [
       "110"
      ]
     },
     "execution_count": 21,
     "metadata": {},
     "output_type": "execute_result"
    }
   ],
   "source": [
    "# wap ask the user add the elements of the lists\n",
    "#  l1=[100,200,300]\n",
    "#  l2=[10,20,30]\n",
    "#  ans=[110,220,330]\n",
    "l1=[100,200,300]\n",
    "l2=[10,20,30]\n",
    "l1[0]+l2[0] # 100+10=110\n",
    "l1[1]+l2[1] # 200+20=220\n",
    "l1[2]+l2[2] # 300+30=330\n"
   ]
  },
  {
   "cell_type": "code",
   "execution_count": 24,
   "id": "fc373bfb-9735-4d0f-88fc-3fb0b0eeee12",
   "metadata": {},
   "outputs": [
    {
     "data": {
      "text/plain": [
       "[110, 220, 330]"
      ]
     },
     "execution_count": 24,
     "metadata": {},
     "output_type": "execute_result"
    }
   ],
   "source": [
    "ans=[]\n",
    "for i in range(len(l1)):\n",
    "    ans.append(l1[i]+l2[i])\n",
    "ans"
   ]
  },
  {
   "cell_type": "code",
   "execution_count": 32,
   "id": "6a7e87ed-11be-45e2-9240-3ebb66d1fa5b",
   "metadata": {},
   "outputs": [
    {
     "data": {
      "text/plain": [
       "[110, 220, 330, 400]"
      ]
     },
     "execution_count": 32,
     "metadata": {},
     "output_type": "execute_result"
    }
   ],
   "source": [
    "l1=[100,200,300,400]\n",
    "l2=[10,20,30]\n",
    "ans=[110,220,330,400]\n",
    "\n",
    "# iterate the loop with max length iterations\n",
    "# if l2 values avaialbe then add those\n",
    "# otherwise append l1 value into ans list\n",
    "len1=len(l1)\n",
    "len2=len(l2)\n",
    "max_val=max(len1,len2)\n",
    "ans=[]\n",
    "for i in range(max_val):\n",
    "    if i < len(l2):\n",
    "        ans.append(l1[i]+l2[i])\n",
    "    else:\n",
    "        ans.append(l1[i])\n",
    "ans"
   ]
  },
  {
   "cell_type": "markdown",
   "id": "3bcbf0d3-8ba1-4e73-a133-bbbbf4f1a1ec",
   "metadata": {},
   "source": [
    "**Distance between two points**"
   ]
  },
  {
   "cell_type": "code",
   "execution_count": null,
   "id": "d1837ae3-82a8-40d3-8ab5-9b59a861099c",
   "metadata": {},
   "outputs": [],
   "source": [
    "d=root([x2-x1]**2+[y2-y1]**2)\n",
    "\n",
    "# step-1:  l1=[2,5]  l2=[4,9]\n",
    "#              x1,y2     x2,y2\n",
    "# step-2:    d1=x2-x1       d2=y2-y1\n",
    "# step-3:    (x2-x1)**2   (y2-y1)**2\n",
    "# step4:     d=d1^2 +d2^2\n",
    "# step-5:   math.sqrt(d)"
   ]
  },
  {
   "cell_type": "code",
   "execution_count": null,
   "id": "0981b43a-e02e-4cb4-b26c-1a27436a43fa",
   "metadata": {},
   "outputs": [],
   "source": [
    "# wap\n",
    "#a=[(1,3),(7,8),(2,6),(9,3)]\n",
    "#b=(5,9)\n",
    "# find the max and min distance points\n",
    "\n",
    "# a=[(1,3),(7,8),(2,6),(9,3),(2,9),(10,12)]\n",
    "# find all the distances among the points\n",
    "# (1,3) with all other data points\n",
    "# (7,8) with all\n",
    "# and so on"
   ]
  },
  {
   "cell_type": "code",
   "execution_count": 33,
   "id": "558bdb48-1dc2-402c-95c3-3405eb2adedf",
   "metadata": {},
   "outputs": [
    {
     "data": {
      "text/plain": [
       "4.47213595499958"
      ]
     },
     "execution_count": 33,
     "metadata": {},
     "output_type": "execute_result"
    }
   ],
   "source": [
    "import math\n",
    "l1=[2,5]  \n",
    "l2=[4,9]\n",
    "#############################\n",
    "x1=l1[0]\n",
    "y1=l1[1]\n",
    "x2=l2[0]\n",
    "y2=l2[1]\n",
    "############################\n",
    "d1=(x2-x1)\n",
    "d2=(y2-y1)\n",
    "##############################\n",
    "d=d1**2+d2**2\n",
    "math.sqrt(d)"
   ]
  },
  {
   "cell_type": "code",
   "execution_count": 38,
   "id": "b93760fa-fe69-41a4-afe4-6ffb3c679940",
   "metadata": {},
   "outputs": [
    {
     "data": {
      "text/plain": [
       "4.47213595499958"
      ]
     },
     "execution_count": 38,
     "metadata": {},
     "output_type": "execute_result"
    }
   ],
   "source": [
    "l1=[2,5]  \n",
    "l2=[4,9]\n",
    "math.sqrt((l2[0]-l1[0])**2+(l2[1]-l1[1])**2)"
   ]
  },
  {
   "cell_type": "code",
   "execution_count": 36,
   "id": "7b26f9b4-0f46-4b6e-a66b-c7402543f308",
   "metadata": {},
   "outputs": [
    {
     "name": "stdout",
     "output_type": "stream",
     "text": [
      "7.211102550927978\n",
      "2.23606797749979\n",
      "4.242640687119285\n",
      "7.211102550927978\n"
     ]
    }
   ],
   "source": [
    "a=[(1,3),(7,8),(2,6),(9,3)]\n",
    "b=(5,9)\n",
    "\n",
    "math.sqrt((b[0]-l1[0])**2+(b[1]-l1[1])**2)\n",
    "for i in a:\n",
    "    l1=i\n",
    "    print(math.sqrt((b[0]-l1[0])**2+(b[1]-l1[1])**2))"
   ]
  },
  {
   "cell_type": "code",
   "execution_count": 41,
   "id": "4ed01105-300d-45b9-b00c-23fd07a8e8ae",
   "metadata": {},
   "outputs": [
    {
     "name": "stdout",
     "output_type": "stream",
     "text": [
      "(1, 3) (7, 8)\n",
      "(1, 3) (2, 6)\n",
      "(1, 3) (9, 3)\n",
      "(1, 3) (2, 9)\n",
      "(1, 3) (10, 12)\n",
      "(7, 8) (7, 8)\n",
      "(7, 8) (2, 6)\n",
      "(7, 8) (9, 3)\n",
      "(7, 8) (2, 9)\n",
      "(7, 8) (10, 12)\n",
      "(2, 6) (7, 8)\n",
      "(2, 6) (2, 6)\n",
      "(2, 6) (9, 3)\n",
      "(2, 6) (2, 9)\n",
      "(2, 6) (10, 12)\n",
      "(9, 3) (7, 8)\n",
      "(9, 3) (2, 6)\n",
      "(9, 3) (9, 3)\n",
      "(9, 3) (2, 9)\n",
      "(9, 3) (10, 12)\n",
      "(2, 9) (7, 8)\n",
      "(2, 9) (2, 6)\n",
      "(2, 9) (9, 3)\n",
      "(2, 9) (2, 9)\n",
      "(2, 9) (10, 12)\n",
      "(10, 12) (7, 8)\n",
      "(10, 12) (2, 6)\n",
      "(10, 12) (9, 3)\n",
      "(10, 12) (2, 9)\n",
      "(10, 12) (10, 12)\n"
     ]
    }
   ],
   "source": [
    "a=[(1,3),(7,8),(2,6),(9,3),(2,9),(10,12)]\n",
    "a[1:] # (7,8),(2,6),(9,3),(2,9),(10,12)\n",
    "# we want 1,3  with 7,8\n",
    "#         1,3  with 2,6\n",
    "for i in a:\n",
    "    print(i)  #  i = 1,3   7,8  2,6\n",
    "    for j in a[1:]:\n",
    "        print(i,j)\n",
    "\n",
    "# i=1,3    j=7,8\n",
    "# i=1,3    j=2,6"
   ]
  },
  {
   "cell_type": "code",
   "execution_count": null,
   "id": "e3a92025-eaf3-47a1-a4e2-30da5d8786c0",
   "metadata": {},
   "outputs": [],
   "source": []
  }
 ],
 "metadata": {
  "kernelspec": {
   "display_name": "Python 3 (ipykernel)",
   "language": "python",
   "name": "python3"
  },
  "language_info": {
   "codemirror_mode": {
    "name": "ipython",
    "version": 3
   },
   "file_extension": ".py",
   "mimetype": "text/x-python",
   "name": "python",
   "nbconvert_exporter": "python",
   "pygments_lexer": "ipython3",
   "version": "3.11.7"
  }
 },
 "nbformat": 4,
 "nbformat_minor": 5
}
