{
 "cells": [
  {
   "cell_type": "markdown",
   "id": "499c31fa-e9a7-4433-b303-e825bfd93598",
   "metadata": {},
   "source": [
    "- Variables\n",
    "\n",
    "- Data types\n",
    "\n",
    "- Type casting (Convert one data type to another data type)\n",
    "\n",
    "- Doc string \n",
    "\n",
    "- print statements"
   ]
  },
  {
   "cell_type": "code",
   "execution_count": 1,
   "id": "d7d1e13d-0748-465f-a3a5-04b27253c607",
   "metadata": {},
   "outputs": [
    {
     "data": {
      "text/plain": [
       "20"
      ]
     },
     "execution_count": 1,
     "metadata": {},
     "output_type": "execute_result"
    }
   ],
   "source": [
    "num1=30\n",
    "num2=20\n",
    "num1\n",
    "num2"
   ]
  },
  {
   "cell_type": "code",
   "execution_count": 2,
   "id": "0b1f5082-299e-40a0-88b4-2eaba4ad93ac",
   "metadata": {},
   "outputs": [
    {
     "name": "stdout",
     "output_type": "stream",
     "text": [
      "30\n",
      "20\n"
     ]
    }
   ],
   "source": [
    "num1=30\n",
    "num2=20\n",
    "print(num1)\n",
    "print(num2)"
   ]
  },
  {
   "cell_type": "code",
   "execution_count": 5,
   "id": "c87f42e8-debd-4787-babf-e4c2e5894797",
   "metadata": {},
   "outputs": [
    {
     "name": "stdout",
     "output_type": "stream",
     "text": [
      "30\n",
      "20\n"
     ]
    },
    {
     "data": {
      "text/plain": [
       "(30, 20)"
      ]
     },
     "execution_count": 5,
     "metadata": {},
     "output_type": "execute_result"
    }
   ],
   "source": [
    "num1=30\n",
    "num2=20\n",
    "print(num1),print(num2)\n",
    "num1,num2"
   ]
  },
  {
   "cell_type": "code",
   "execution_count": 4,
   "id": "0d4f575e-c84e-448c-9979-52351d1f1b10",
   "metadata": {},
   "outputs": [
    {
     "name": "stdout",
     "output_type": "stream",
     "text": [
      "30 20\n"
     ]
    }
   ],
   "source": [
    "num1=30\n",
    "num2=20\n",
    "print(num1,num2)"
   ]
  },
  {
   "cell_type": "code",
   "execution_count": null,
   "id": "e0b17857-f67d-47a1-a285-1f00e1f289e6",
   "metadata": {},
   "outputs": [],
   "source": [
    "num1=30\n",
    "num2=20\n",
    "print(num1)\n",
    "print(num2)\n",
    "#############################\n",
    "num1=30\n",
    "num2=20\n",
    "print(num1),print(num2)\n",
    "num1,num2\n",
    "################################\n",
    "num1=30\n",
    "num2=20\n",
    "print(num1,num2)"
   ]
  },
  {
   "cell_type": "code",
   "execution_count": 10,
   "id": "da14d9c2-93f1-4d8e-8295-ce73451f10d8",
   "metadata": {},
   "outputs": [
    {
     "name": "stdout",
     "output_type": "stream",
     "text": [
      "30\n",
      "20\n"
     ]
    },
    {
     "data": {
      "text/plain": [
       "(None, None)"
      ]
     },
     "execution_count": 10,
     "metadata": {},
     "output_type": "execute_result"
    }
   ],
   "source": [
    "num1=30\n",
    "num2=20\n",
    "print(num1),print(num2)"
   ]
  },
  {
   "cell_type": "code",
   "execution_count": 11,
   "id": "7e388758-9e38-419d-9ff4-b6c8ead98ecc",
   "metadata": {},
   "outputs": [
    {
     "data": {
      "text/plain": [
       "(30, 20)"
      ]
     },
     "execution_count": 11,
     "metadata": {},
     "output_type": "execute_result"
    }
   ],
   "source": [
    "num1,num2"
   ]
  },
  {
   "cell_type": "code",
   "execution_count": 12,
   "id": "c1085da5-ee94-4c5d-92e1-8fe7b8083f13",
   "metadata": {},
   "outputs": [
    {
     "data": {
      "text/plain": [
       "50"
      ]
     },
     "execution_count": 12,
     "metadata": {},
     "output_type": "execute_result"
    }
   ],
   "source": [
    "num1+num2"
   ]
  },
  {
   "cell_type": "code",
   "execution_count": 15,
   "id": "87bb99fb-d005-4002-8422-d6bccd6277c6",
   "metadata": {},
   "outputs": [
    {
     "name": "stdout",
     "output_type": "stream",
     "text": [
      "30 20 python\n"
     ]
    }
   ],
   "source": [
    "print(30,20,'python')"
   ]
  },
  {
   "cell_type": "code",
   "execution_count": 20,
   "id": "dc53df22-8a1d-4f28-89cf-f7ba8947ab9d",
   "metadata": {},
   "outputs": [
    {
     "name": "stdout",
     "output_type": "stream",
     "text": [
      "the addition of 100 and 200 is 300\n"
     ]
    }
   ],
   "source": [
    "a=100\n",
    "b=200\n",
    "c=a+b\n",
    "# the addition of 100 and 200 is 300\n",
    "print('the addition of',a,'and',b,'is',c)"
   ]
  },
  {
   "cell_type": "code",
   "execution_count": 22,
   "id": "b233724c-02f2-4338-9e22-3eff174a777c",
   "metadata": {},
   "outputs": [
    {
     "name": "stdout",
     "output_type": "stream",
     "text": [
      "My name is python im 10 years old and from Hyd\n"
     ]
    }
   ],
   "source": [
    "name='python'\n",
    "age=10\n",
    "city='Hyd'\n",
    "# My name is python im 10 years old and from hyd\n",
    "print('My name is',name,'im',age,'years old and from',city)"
   ]
  },
  {
   "cell_type": "markdown",
   "id": "d80786e2-f195-46e8-9e1b-bca23f4b790b",
   "metadata": {},
   "source": [
    "**format**"
   ]
  },
  {
   "cell_type": "code",
   "execution_count": 27,
   "id": "247f175f-f583-495b-8d2b-2ee096efcb48",
   "metadata": {},
   "outputs": [
    {
     "name": "stdout",
     "output_type": "stream",
     "text": [
      "the addition of 100 and 200 is 300\n",
      "the addition of 1000 and 200 is 1200\n"
     ]
    }
   ],
   "source": [
    "a=1000\n",
    "b=200\n",
    "c=a+b\n",
    "# the addition of 100 and 200 is 300\n",
    "print('the addition of 100 and 200 is 300')\n",
    "print('the addition of {} and {} is {}'.format(a,b,c))"
   ]
  },
  {
   "cell_type": "code",
   "execution_count": 30,
   "id": "0d92f1e7-d633-4370-9284-7184e3393572",
   "metadata": {},
   "outputs": [
    {
     "name": "stdout",
     "output_type": "stream",
     "text": [
      "My name is python im 10 years old and from Hyd\n",
      "My name is python im 10 years old and from Hyd\n",
      "My name is Hyd im 10 years old and from python\n"
     ]
    }
   ],
   "source": [
    "name='python'\n",
    "age=10\n",
    "city='Hyd'\n",
    "# My name is python im 10 years old and from hyd\n",
    "print('My name is',name,'im',age,'years old and from',city)\n",
    "print('My name is {} im {} years old and from {}'.format(name,age,city))\n",
    "print('My name is {} im {} years old and from {}'.format(city,age,name))"
   ]
  },
  {
   "cell_type": "code",
   "execution_count": 31,
   "id": "7864ec3f-e413-4ad0-86c7-4ba16d3a8eea",
   "metadata": {},
   "outputs": [
    {
     "name": "stdout",
     "output_type": "stream",
     "text": [
      "the addition of 100 and 200 is 300\n",
      "the subtraction of 100 and 200 is -100\n",
      "the multiplication of 100 and 200 is 20000\n",
      "the division of 100 and 200 is 0.5\n"
     ]
    }
   ],
   "source": [
    "n1=100\n",
    "n2=200\n",
    "sub=n1-n2\n",
    "mul=n1*n2\n",
    "div=n1/n2\n",
    "print('the addition of {} and {} is {}'.format(n1,n2,n1+n2))\n",
    "print('the subtraction of {} and {} is {}'.format(n1,n2,n1-n2))\n",
    "print('the multiplication of {} and {} is {}'.format(n1,n2,n1*n2))\n",
    "print('the division of {} and {} is {}'.format(n1,n2,n1/n2))"
   ]
  },
  {
   "cell_type": "markdown",
   "id": "59711a57-11e9-456d-8fa7-8a2b48564ec3",
   "metadata": {},
   "source": [
    "**f string**"
   ]
  },
  {
   "cell_type": "code",
   "execution_count": 33,
   "id": "ce190792-6327-4ea6-a198-f9070b6a3541",
   "metadata": {},
   "outputs": [
    {
     "name": "stdout",
     "output_type": "stream",
     "text": [
      "the addition of 100 and 200 is 300\n",
      "the addition of 100 and 200 is 300\n",
      "the addition of 100 and 200 is 300.\n"
     ]
    }
   ],
   "source": [
    "a=100\n",
    "b=200\n",
    "c=a+b\n",
    "# the addition of 100 and 200 is 300\n",
    "print('the addition of',a,'and',b,'is',c)\n",
    "print('the addition of {} and {} is {}'.format(a,b,c))\n",
    "print(f'the addition of {a} and {b} is {c}.')"
   ]
  },
  {
   "cell_type": "code",
   "execution_count": 35,
   "id": "0e3ee753-e7d0-44f0-babc-cca36533e340",
   "metadata": {},
   "outputs": [
    {
     "name": "stdout",
     "output_type": "stream",
     "text": [
      "the addition of 100 and 200 is 300\n",
      "the subtraction of 100 and 200 is -100\n",
      "the multiplication of 100 and 200 is 20000\n",
      "the division of 100 and 200 is 0.5\n"
     ]
    }
   ],
   "source": [
    "n1=100\n",
    "n2=200\n",
    "sub=n1-n2\n",
    "mul=n1*n2\n",
    "div=n1/n2\n",
    "print(f'the addition of {n1} and {n2} is {n1+n2}')\n",
    "print(f'the subtraction of {n1} and {n2} is {n1-n2}')\n",
    "print(f'the multiplication of {n1} and {n2} is {n1*n2}')\n",
    "print(f'the division of {n1} and {n2} is {n1/n2}')"
   ]
  },
  {
   "cell_type": "markdown",
   "id": "6933d0a1-c495-4bc1-b325-4baae4fa10d0",
   "metadata": {},
   "source": [
    "- we have a situation wants to combine two print statements"
   ]
  },
  {
   "cell_type": "code",
   "execution_count": 38,
   "id": "66c9581d-3f85-4ae9-b688-15a30555c267",
   "metadata": {},
   "outputs": [
    {
     "name": "stdout",
     "output_type": "stream",
     "text": [
      "hello\n",
      "good morning\n",
      "hai\n"
     ]
    }
   ],
   "source": [
    "print('hello')\n",
    "print('good morning')\n",
    "print('hai')\n",
    "\n",
    "# hello good morning hai"
   ]
  },
  {
   "cell_type": "code",
   "execution_count": 37,
   "id": "3d914bf7-fb64-4e06-8f3b-c769cd276d57",
   "metadata": {},
   "outputs": [
    {
     "name": "stdout",
     "output_type": "stream",
     "text": [
      "hello good morning\n"
     ]
    }
   ],
   "source": [
    "print('hello good morning')"
   ]
  },
  {
   "cell_type": "markdown",
   "id": "455dd1ec-5984-488f-b157-d9b3b9a34a0f",
   "metadata": {},
   "source": [
    "$end$"
   ]
  },
  {
   "cell_type": "code",
   "execution_count": 49,
   "id": "90c95e60-c63e-471c-a2ba-ffe3ca3dcbd6",
   "metadata": {},
   "outputs": [
    {
     "name": "stdout",
     "output_type": "stream",
     "text": [
      "20****30\n",
      "20\n"
     ]
    }
   ],
   "source": [
    "print(20,end='****')\n",
    "a=20\n",
    "print(30)\n",
    "print(a)"
   ]
  },
  {
   "cell_type": "code",
   "execution_count": 51,
   "id": "1e7dd4db-1cd2-4961-979f-5756abedd486",
   "metadata": {},
   "outputs": [
    {
     "name": "stdout",
     "output_type": "stream",
     "text": [
      "1 2 3\n"
     ]
    }
   ],
   "source": [
    "print(1,end=' ')\n",
    "print(2,end=' ')\n",
    "print(3)"
   ]
  },
  {
   "cell_type": "code",
   "execution_count": 53,
   "id": "d60fab2b-732b-44fd-8232-ae179055e9ea",
   "metadata": {},
   "outputs": [
    {
     "name": "stdout",
     "output_type": "stream",
     "text": [
      "20 ***** 30\n"
     ]
    }
   ],
   "source": [
    "print(20,'*****',30)"
   ]
  },
  {
   "cell_type": "code",
   "execution_count": 54,
   "id": "56c16037-67c8-4ef1-87ad-7919f9a1fc44",
   "metadata": {},
   "outputs": [
    {
     "name": "stdout",
     "output_type": "stream",
     "text": [
      "20***30\n"
     ]
    }
   ],
   "source": [
    "print(20,end='****')\n",
    "print(30)"
   ]
  },
  {
   "cell_type": "markdown",
   "id": "58090d89-8074-46a4-b4d4-290880b2cee7",
   "metadata": {},
   "source": [
    "- We want to seperate the multiple variables in one print statement\n"
   ]
  },
  {
   "cell_type": "code",
   "execution_count": 56,
   "id": "8fc70cc6-56e8-48ef-b387-a648a754dd1e",
   "metadata": {},
   "outputs": [
    {
     "name": "stdout",
     "output_type": "stream",
     "text": [
      "20 ----> 30\n"
     ]
    }
   ],
   "source": [
    "print(20,'---->',30)"
   ]
  },
  {
   "cell_type": "code",
   "execution_count": null,
   "id": "ff8fbed4-c799-4646-a373-ab913dd066b0",
   "metadata": {},
   "outputs": [],
   "source": [
    "20 '---->' 30"
   ]
  },
  {
   "cell_type": "markdown",
   "id": "0d208e03-1326-4e48-b911-36fbe4273704",
   "metadata": {},
   "source": [
    "$sep$"
   ]
  },
  {
   "cell_type": "code",
   "execution_count": 61,
   "id": "3efa9e29-b604-4c91-b600-8eacff7cddc2",
   "metadata": {},
   "outputs": [
    {
     "name": "stdout",
     "output_type": "stream",
     "text": [
      "20=30=50\n"
     ]
    }
   ],
   "source": [
    "print(20,30,50,sep='=')"
   ]
  },
  {
   "cell_type": "markdown",
   "id": "163c957d-3e38-4e39-8700-d4c1ad311c7a",
   "metadata": {},
   "source": [
    "- end operator used to combine multiple print statements\n",
    "\n",
    "- sep operator use to seperate the multiple variables in a single print statements"
   ]
  },
  {
   "cell_type": "code",
   "execution_count": 63,
   "id": "e156f45d-8fe2-40cb-82f6-0c7be6e70dc9",
   "metadata": {},
   "outputs": [
    {
     "name": "stdout",
     "output_type": "stream",
     "text": [
      "the addition of 3+4 is 7 .\n",
      "the addition of 3+4 is.7\n"
     ]
    }
   ],
   "source": [
    "print('the addition of 3+4 is',3+4,'.')\n",
    "print(f'the addition of 3+4 is' ,3+4, sep='.')"
   ]
  },
  {
   "cell_type": "code",
   "execution_count": 64,
   "id": "b934a91b-c973-49fc-b1e0-4e0dccf80458",
   "metadata": {},
   "outputs": [
    {
     "name": "stdout",
     "output_type": "stream",
     "text": [
      "addition of 3 + 4 is 7\n",
      "addition of3+4is 7\n",
      "addition of 3+4 is 7 \n"
     ]
    }
   ],
   "source": [
    "print('addition of {} + {} is {}'.format(3,4,3+4))\n",
    "print(f'addition of{3}+{4}is {3+4}')\n",
    "print('addition of 3+4 is 7 ',sep='')"
   ]
  },
  {
   "cell_type": "code",
   "execution_count": 65,
   "id": "f3ef94f7-62b0-4588-adb4-5ba776abe08c",
   "metadata": {},
   "outputs": [
    {
     "name": "stdout",
     "output_type": "stream",
     "text": [
      "the addition of 3+4 is 7.\n",
      "the addition of 3+4 is {3+4}.\n"
     ]
    }
   ],
   "source": [
    "print(f'the addition of 3+4 is {3+4}.')\n",
    "print('the addition of 3+4 is {3+4}',\"\",sep=\".\")"
   ]
  },
  {
   "cell_type": "code",
   "execution_count": 66,
   "id": "0999d47d-61ac-4185-9b54-b99d4a146ac7",
   "metadata": {},
   "outputs": [
    {
     "name": "stdout",
     "output_type": "stream",
     "text": [
      "the addition of 3+4 is 7.\n"
     ]
    }
   ],
   "source": [
    "print(f'the addition of 3+4 is {7}','.',sep='')"
   ]
  },
  {
   "cell_type": "code",
   "execution_count": 68,
   "id": "93ad3824-cfe5-47c5-9b0e-de5de16042d2",
   "metadata": {},
   "outputs": [
    {
     "name": "stdout",
     "output_type": "stream",
     "text": [
      "the addition of 3+4 is 7.\n"
     ]
    }
   ],
   "source": [
    "print(f'the addition of 3+4 is {7}.')"
   ]
  },
  {
   "cell_type": "code",
   "execution_count": 72,
   "id": "1b25c9cd-1135-4a1a-8e17-0dcb3b1ccbd8",
   "metadata": {},
   "outputs": [
    {
     "name": "stdout",
     "output_type": "stream",
     "text": [
      "the addition of 3+4 is 7.\n"
     ]
    }
   ],
   "source": [
    "print('the addition of 3+4 is ',3+4,'.',sep='')"
   ]
  },
  {
   "cell_type": "markdown",
   "id": "b57bf1db-234f-45c2-b21d-0e0847be51fc",
   "metadata": {},
   "source": [
    "- basic\n",
    "\n",
    "- format\n",
    "\n",
    "- f strig\n",
    "\n",
    "- end\n",
    "\n",
    "- sep"
   ]
  },
  {
   "cell_type": "code",
   "execution_count": null,
   "id": "20b1072a-7b48-418b-85a3-86a8b04901da",
   "metadata": {},
   "outputs": [],
   "source": []
  }
 ],
 "metadata": {
  "kernelspec": {
   "display_name": "Python 3 (ipykernel)",
   "language": "python",
   "name": "python3"
  },
  "language_info": {
   "codemirror_mode": {
    "name": "ipython",
    "version": 3
   },
   "file_extension": ".py",
   "mimetype": "text/x-python",
   "name": "python",
   "nbconvert_exporter": "python",
   "pygments_lexer": "ipython3",
   "version": "3.11.7"
  }
 },
 "nbformat": 4,
 "nbformat_minor": 5
}
